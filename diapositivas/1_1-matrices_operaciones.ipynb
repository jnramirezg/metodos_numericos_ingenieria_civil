{
 "cells": [
  {
   "cell_type": "markdown",
   "id": "6b34e4fa",
   "metadata": {},
   "source": [
    "# **4101553 Métodos Numéricos aplicados a la Ingenieria Civil**\n",
    "Departamento de Ingeniería Civil\\\n",
    "Universidad Nacional de Colombia\\\n",
    "Sede Manizales\n",
    "\n",
    "**Docente:** Juan Nicolás Ramírez Giraldo ([jnramirezg@unal.edu.co](mailto:jnramirezg@unal.edu.co))\n",
    "\n",
    "\"*Cum cogitaveris quot te antecedant, respice quot sequantur*\" (**Séneca**)\n",
    "\n",
    "\n",
    "[Repositorio de la asignatura](https://github.com/jnramirezg/metodos_numericos_ingenieria_civil/)\n",
    "\n",
    "\n"
   ]
  },
  {
   "cell_type": "markdown",
   "id": "da1c06c8",
   "metadata": {},
   "source": [
    "# **Unidad 1: Sistemas de ecuaciones lineales**\n"
   ]
  },
  {
   "cell_type": "markdown",
   "id": "209f0642",
   "metadata": {},
   "source": [
    "## **Lo más básico de Python**"
   ]
  },
  {
   "cell_type": "code",
   "execution_count": null,
   "id": "c937e3fe",
   "metadata": {},
   "outputs": [],
   "source": [
    "# Los comentarios se ponen con el símbolo numeral.\n",
    "''' También se pueden poner entre tres comillas sin afectar el código'''\n"
   ]
  },
  {
   "cell_type": "code",
   "execution_count": null,
   "id": "80e8a59a",
   "metadata": {
    "scrolled": true
   },
   "outputs": [],
   "source": [
    "4+3  # Suma\n"
   ]
  },
  {
   "cell_type": "code",
   "execution_count": null,
   "id": "158c135d",
   "metadata": {
    "scrolled": true
   },
   "outputs": [],
   "source": [
    "94-100  # Resta\n"
   ]
  },
  {
   "cell_type": "code",
   "execution_count": null,
   "id": "51b97ec3",
   "metadata": {},
   "outputs": [],
   "source": [
    "6*4  # Multiplicación\n"
   ]
  },
  {
   "cell_type": "code",
   "execution_count": null,
   "id": "ea055272",
   "metadata": {},
   "outputs": [],
   "source": [
    "7/8  # División\n"
   ]
  },
  {
   "cell_type": "code",
   "execution_count": null,
   "id": "b38ddae0",
   "metadata": {},
   "outputs": [],
   "source": [
    "9//4  # División entera\n"
   ]
  },
  {
   "cell_type": "code",
   "execution_count": null,
   "id": "66e52554",
   "metadata": {
    "scrolled": true
   },
   "outputs": [],
   "source": [
    "9%4  # Residuo de la división\n"
   ]
  },
  {
   "cell_type": "code",
   "execution_count": null,
   "id": "f010b619",
   "metadata": {
    "scrolled": true
   },
   "outputs": [],
   "source": [
    "2**10  # Potencia, que en Matlab sería 2^10\n"
   ]
  },
  {
   "cell_type": "code",
   "execution_count": null,
   "id": "0d11eae8",
   "metadata": {},
   "outputs": [],
   "source": [
    "a = -10  # Asignación de variables\n"
   ]
  },
  {
   "cell_type": "code",
   "execution_count": null,
   "id": "d87ff8c3",
   "metadata": {},
   "outputs": [],
   "source": [
    "print(a)  # Impresión dentro del código.\n"
   ]
  },
  {
   "cell_type": "code",
   "execution_count": null,
   "id": "e24995dc",
   "metadata": {
    "scrolled": true
   },
   "outputs": [],
   "source": [
    "a  # Impresión en consola.\n"
   ]
  },
  {
   "cell_type": "code",
   "execution_count": null,
   "id": "914ead58",
   "metadata": {
    "scrolled": true
   },
   "outputs": [],
   "source": [
    "a == -10  # Condición de igualdad.\n"
   ]
  },
  {
   "cell_type": "code",
   "execution_count": null,
   "id": "76affe92",
   "metadata": {},
   "outputs": [],
   "source": [
    "a != -10  # Condición de desigualdad.\n"
   ]
  },
  {
   "cell_type": "code",
   "execution_count": null,
   "id": "a83db76a",
   "metadata": {},
   "outputs": [],
   "source": [
    "a == -10 or a != -10  # Operador lógico 'o'.\n"
   ]
  },
  {
   "cell_type": "code",
   "execution_count": null,
   "id": "f8c7e3fe",
   "metadata": {
    "scrolled": true
   },
   "outputs": [],
   "source": [
    "a == -10 and a != -10  # Operador lógico 'y'\n"
   ]
  },
  {
   "cell_type": "code",
   "execution_count": null,
   "id": "734e9838",
   "metadata": {},
   "outputs": [],
   "source": [
    "# Condicional básico\n",
    "if a == 100:\n",
    "    print('Correcto')\n",
    "else:\n",
    "    print('Incorrecto')\n",
    "        "
   ]
  },
  {
   "cell_type": "code",
   "execution_count": null,
   "id": "fbb0ebe5",
   "metadata": {},
   "outputs": [],
   "source": [
    "# Ciclo for\n",
    "for i in range(5):\n",
    "    print(i)\n"
   ]
  },
  {
   "cell_type": "code",
   "execution_count": null,
   "id": "72a6849b",
   "metadata": {},
   "outputs": [],
   "source": [
    "# Ciclo while\n",
    "contador = 0\n",
    "while contador < 5:\n",
    "    print(contador)\n",
    "    contador += 1  # Que es equivalente a (contador = contador + 1), \n",
    "                   # es decir, una reasignación recurrente de variable.\n",
    "    "
   ]
  },
  {
   "cell_type": "markdown",
   "id": "e457e302",
   "metadata": {},
   "source": [
    "## **Matrices, modificación de matrices y operaciones**\n",
    "\n",
    "Un sistema de ecuaciones algebraicas lineales tiene la forma general:\n",
    "\n",
    "$a_{11}x_{1}+a_{12}x_{2}+...+a_{1n}x_{n}=b_{1}$\n",
    "\n",
    "$a_{21}x_{1}+a_{22}x_{2}+...+a_{2n}x_{n}=b_{2}$\n",
    "\n",
    ".\n",
    "\n",
    ".\n",
    "\n",
    ".\n",
    "\n",
    "$a_{n}x_{1}+a_{n2}x_{2}+...+a_{nn}x_{n}=b_{n}$\n",
    "\n",
    "siendo $a$ coeficientes constantes, $b$ las constantes, $n$ el número de ecuaciones y $x$ las incógnitas.\n",
    "\n",
    "Sistemáticamente se usa la notación matricial para facilitar su resolución, de la siguiente manera:\n",
    "\n",
    "$\\underline{\\underline{A}}=$\n",
    "$\\begin{bmatrix}\n",
    "a_{11} & a_{12} & ... & a_{1n}\\\\\n",
    "a_{21} & a_{22} & ... & a_{2n}\\\\\n",
    "\\vdots & \\vdots & ... & \\vdots\\\\\n",
    "a_{n1} & a_{n2} & ... & a_{nn}\n",
    "\\end{bmatrix}$\n",
    "\n",
    "donde cada elemento $a_{ij}$ representa un elemento de la matriz (los coeficientes constantes).\n",
    "\n",
    " **Nota:** De aquí en adelante se usará la siguiente nomenclatura.\n",
    " \n",
    " $\\underline{\\underline{M}}:$ matrices\n",
    " \n",
    " $\\underline{V}:$ vectores filas y vectores columnas\n",
    " \n",
    " $E:$ constantes y escalares\n",
    " \n",
    " Las incognitas $x_{j}$ se representan en el vector columna:\n",
    " \n",
    "$\\underline{X}=$\n",
    "$\\begin{bmatrix}\n",
    "x_{1}  \\\\\n",
    "x_{2}  \\\\\n",
    "\\vdots \\\\\n",
    "x_{n} \n",
    "\\end{bmatrix}$\n",
    "\n",
    "Y las constantes $b_{i}$ con el vector columna:\n",
    "\n",
    "$\\underline{B}=$\n",
    "$\\begin{bmatrix}\n",
    "b_{1}  \\\\\n",
    "b_{2}  \\\\\n",
    "\\vdots \\\\\n",
    "b_{n} \n",
    "\\end{bmatrix}$\n",
    "\n",
    "Que en sintésis es:\n",
    "$\\underline{\\underline{A}}$  $\\underline{X}=\\underline{B}$\n",
    "\n",
    "Por lo tanto, el objetivo es despejar el vector $\\underline{X}$\n"
   ]
  },
  {
   "cell_type": "markdown",
   "id": "589e8f0e",
   "metadata": {},
   "source": [
    "## **Formas de definir matrices**\n",
    "\n",
    "1. Lista de listas\n",
    "2. Arreglos en numpy\n",
    "3. Matrices en sympy"
   ]
  },
  {
   "cell_type": "markdown",
   "id": "01baea43",
   "metadata": {},
   "source": [
    "### **1. Lista de listas**"
   ]
  },
  {
   "cell_type": "markdown",
   "id": "a713f7cc",
   "metadata": {},
   "source": [
    "Conceptos previos de listas"
   ]
  },
  {
   "cell_type": "code",
   "execution_count": null,
   "id": "ff9d5f17",
   "metadata": {},
   "outputs": [],
   "source": [
    "h = 0 # Se define una variable cualquiera.\n"
   ]
  },
  {
   "cell_type": "code",
   "execution_count": null,
   "id": "d09f96e0",
   "metadata": {},
   "outputs": [],
   "source": [
    "mi_lista = [1, 'flor', 1.5, h]  # lista con cualquier tipo de elemento.\n"
   ]
  },
  {
   "cell_type": "code",
   "execution_count": null,
   "id": "dd30a0f5",
   "metadata": {},
   "outputs": [],
   "source": [
    "mi_lista\n"
   ]
  },
  {
   "cell_type": "code",
   "execution_count": null,
   "id": "1183c6dd",
   "metadata": {},
   "outputs": [],
   "source": [
    "mi_lista_2 = [mi_lista, 100, 'flor']  # Una lista con una lista dentro.\n"
   ]
  },
  {
   "cell_type": "code",
   "execution_count": null,
   "id": "b3c5feb4",
   "metadata": {},
   "outputs": [],
   "source": [
    "mi_lista_2\n"
   ]
  },
  {
   "cell_type": "markdown",
   "id": "695b4f5f",
   "metadata": {},
   "source": [
    "Ahora, definiendo matrices como lista de listas."
   ]
  },
  {
   "cell_type": "code",
   "execution_count": null,
   "id": "fe96ec06",
   "metadata": {},
   "outputs": [],
   "source": [
    "matriz = [[5, 1, 2],[7, 3, 7],[4, 7,8]]  # Matriz como lista de listas.\n"
   ]
  },
  {
   "cell_type": "code",
   "execution_count": null,
   "id": "32c51e51",
   "metadata": {
    "scrolled": false
   },
   "outputs": [],
   "source": [
    "matriz\n"
   ]
  },
  {
   "cell_type": "code",
   "execution_count": null,
   "id": "07b37560",
   "metadata": {},
   "outputs": [],
   "source": [
    "# Una forma gráfica más cómoda.\n",
    "A = [\n",
    "     [5, 1, 2],\n",
    "     [7, 3, 7],\n",
    "     [4, 7, 8],\n",
    "               ]\n"
   ]
  },
  {
   "cell_type": "code",
   "execution_count": null,
   "id": "14677d71",
   "metadata": {
    "scrolled": true
   },
   "outputs": [],
   "source": [
    "print(A)\n"
   ]
  },
  {
   "cell_type": "code",
   "execution_count": null,
   "id": "4992bfba",
   "metadata": {
    "scrolled": true
   },
   "outputs": [],
   "source": [
    "# También se puede usar simplemenhte\n",
    "A"
   ]
  },
  {
   "cell_type": "code",
   "execution_count": null,
   "id": "0a5527e5",
   "metadata": {},
   "outputs": [],
   "source": [
    "# Tipo de dato\n",
    "type(A)\n"
   ]
  },
  {
   "cell_type": "code",
   "execution_count": null,
   "id": "3f96951e",
   "metadata": {},
   "outputs": [],
   "source": [
    "# Tamaño de la matriz\n",
    "m = len(A)    # Número de filas de la matriz, o tamaño de la lista A.\n"
   ]
  },
  {
   "cell_type": "code",
   "execution_count": null,
   "id": "ab8aa10a",
   "metadata": {
    "scrolled": true
   },
   "outputs": [],
   "source": [
    "m"
   ]
  },
  {
   "cell_type": "code",
   "execution_count": null,
   "id": "d7d4317c",
   "metadata": {},
   "outputs": [],
   "source": [
    "A[0]"
   ]
  },
  {
   "cell_type": "code",
   "execution_count": null,
   "id": "400b0a82",
   "metadata": {},
   "outputs": [],
   "source": [
    "n = len(A[0]) # Número de columnas de la matriz, o tamaño de la primera lista interna de A."
   ]
  },
  {
   "cell_type": "code",
   "execution_count": null,
   "id": "2b90f912",
   "metadata": {},
   "outputs": [],
   "source": [
    "m"
   ]
  },
  {
   "cell_type": "code",
   "execution_count": null,
   "id": "b7bded6e",
   "metadata": {},
   "outputs": [],
   "source": [
    "print('El número de filas de A es:')\n",
    "print(m)\n"
   ]
  },
  {
   "cell_type": "code",
   "execution_count": null,
   "id": "35d8d182",
   "metadata": {
    "scrolled": true
   },
   "outputs": [],
   "source": [
    "print('El número de columnas de A es:')\n",
    "print(n)\n"
   ]
  },
  {
   "cell_type": "code",
   "execution_count": null,
   "id": "211363ea",
   "metadata": {},
   "outputs": [],
   "source": [
    "A\n"
   ]
  },
  {
   "cell_type": "code",
   "execution_count": null,
   "id": "7ef9fa7c",
   "metadata": {},
   "outputs": [],
   "source": [
    "# Llamado de un elemento\n",
    "a00 = A[0][0]\n"
   ]
  },
  {
   "cell_type": "code",
   "execution_count": null,
   "id": "7c6d32a0",
   "metadata": {
    "scrolled": true
   },
   "outputs": [],
   "source": [
    "# Impresión de resultados.\n",
    "print('El elemento de la fila 1 y la columna 1 es:')\n",
    "print(a00)\n"
   ]
  },
  {
   "cell_type": "code",
   "execution_count": null,
   "id": "453017a7",
   "metadata": {},
   "outputs": [],
   "source": [
    "# Llamado de un elemento\n",
    "a22 = A[2][2]\n",
    "a12 = A[1][2]\n",
    "\n",
    "# Impresión de resultados.\n",
    "print('\\nEl elemento de la fila 3 y la columna 3 es:')\n",
    "print(a22)\n",
    "print('\\nEl elemento de la fila 2 y la columna 3 es::')\n",
    "print(a12)\n"
   ]
  },
  {
   "cell_type": "code",
   "execution_count": null,
   "id": "8aa8613d",
   "metadata": {},
   "outputs": [],
   "source": [
    "A\n"
   ]
  },
  {
   "cell_type": "code",
   "execution_count": null,
   "id": "80b382ee",
   "metadata": {},
   "outputs": [],
   "source": [
    "# Llamado de filas\n",
    "f0 = A[0] # Se llama la primera fila. En Matlab es con 1, acá es con 0.\n",
    "f2 = A[2] # Se llama la tercera fila.\n"
   ]
  },
  {
   "cell_type": "code",
   "execution_count": null,
   "id": "b745f6d0",
   "metadata": {},
   "outputs": [],
   "source": [
    "f2"
   ]
  },
  {
   "cell_type": "code",
   "execution_count": null,
   "id": "8fea34bc",
   "metadata": {},
   "outputs": [],
   "source": [
    "# Impresión de resultados.\n",
    "print('\\nLa primera fila es:')  # El comando \\n es usado dejar un espacio.\n",
    "print(f0)\n",
    "print('\\nLa tercera fila es:')\n",
    "print(f2)\n"
   ]
  },
  {
   "cell_type": "code",
   "execution_count": null,
   "id": "63278a30",
   "metadata": {
    "scrolled": true
   },
   "outputs": [],
   "source": [
    "# Llamado de columnas\n",
    "c0 = []\n",
    "for i in range(len(A)):\n",
    "    c0 += [A[i][0]]\n"
   ]
  },
  {
   "cell_type": "code",
   "execution_count": null,
   "id": "0d1eff79",
   "metadata": {},
   "outputs": [],
   "source": [
    "print('\\nLa primera columna es:')\n",
    "print(c0)"
   ]
  },
  {
   "cell_type": "markdown",
   "id": "1aa9946f",
   "metadata": {},
   "source": [
    "### **2. Arreglo en numpy**"
   ]
  },
  {
   "cell_type": "code",
   "execution_count": null,
   "id": "a6ded29e",
   "metadata": {},
   "outputs": [],
   "source": [
    "# Mediante el módulo numpy con arrays (arreglos).\n",
    "# Importar la librería\n",
    "import numpy as np\n"
   ]
  },
  {
   "cell_type": "code",
   "execution_count": null,
   "id": "ae57862b",
   "metadata": {},
   "outputs": [],
   "source": [
    "# Definición explícita.\n",
    "B = np.array([\n",
    "              [3, 1, 9],\n",
    "              [2, 4, 1],\n",
    "                       ])\n"
   ]
  },
  {
   "cell_type": "code",
   "execution_count": null,
   "id": "1eef5a5b",
   "metadata": {},
   "outputs": [],
   "source": [
    "# Impresión de resultados\n",
    "print('\\n La matriz B es:')  \n",
    "print(B)\n"
   ]
  },
  {
   "cell_type": "code",
   "execution_count": null,
   "id": "abbb35f4",
   "metadata": {},
   "outputs": [],
   "source": [
    "# Definición directa con una variable previamente guardada.\n",
    "C = [\n",
    "     [3, 1, 9],\n",
    "     [2, 4, 1],\n",
    "              ]\n",
    "\n",
    "D = np.array(C)\n"
   ]
  },
  {
   "cell_type": "code",
   "execution_count": null,
   "id": "d594ff37",
   "metadata": {},
   "outputs": [],
   "source": [
    "D\n"
   ]
  },
  {
   "cell_type": "code",
   "execution_count": null,
   "id": "52a1e866",
   "metadata": {},
   "outputs": [],
   "source": [
    "# Tipo de dato\n",
    "type(B)\n"
   ]
  },
  {
   "cell_type": "code",
   "execution_count": null,
   "id": "816641b0",
   "metadata": {},
   "outputs": [],
   "source": [
    "# Tamaño de la matriz\n",
    "dim_B = B.shape\n",
    "print(dim_B)  # Imprime el tamaño del arreglo B.\n"
   ]
  },
  {
   "cell_type": "code",
   "execution_count": null,
   "id": "3561cb18",
   "metadata": {},
   "outputs": [],
   "source": [
    "# Tipo de dato\n",
    "type(dim_B)\n"
   ]
  },
  {
   "cell_type": "code",
   "execution_count": null,
   "id": "79de5c76",
   "metadata": {},
   "outputs": [],
   "source": [
    "# Definiendo número de filas y columnas.\n",
    "m = dim_B[0]  # Filas\n",
    "n = dim_B[1]  # Columnas\n"
   ]
  },
  {
   "cell_type": "code",
   "execution_count": null,
   "id": "1e172a91",
   "metadata": {
    "scrolled": true
   },
   "outputs": [],
   "source": [
    "# Impresión de resultados\n",
    "print('El número de filas es:')\n",
    "print(m)\n",
    "print('El número de columnas es:')\n",
    "print(n)\n"
   ]
  },
  {
   "cell_type": "code",
   "execution_count": null,
   "id": "264e97d3",
   "metadata": {
    "scrolled": true
   },
   "outputs": [],
   "source": [
    "A"
   ]
  },
  {
   "cell_type": "code",
   "execution_count": null,
   "id": "3968cbda",
   "metadata": {},
   "outputs": [],
   "source": [
    "type(A)"
   ]
  },
  {
   "cell_type": "code",
   "execution_count": null,
   "id": "0d7f5576",
   "metadata": {},
   "outputs": [],
   "source": [
    "A.shape  # Genera error.\n"
   ]
  },
  {
   "cell_type": "markdown",
   "id": "30c148aa",
   "metadata": {},
   "source": [
    "Otras formas de definir arreglos:"
   ]
  },
  {
   "cell_type": "code",
   "execution_count": null,
   "id": "c8e1b3b6",
   "metadata": {},
   "outputs": [],
   "source": [
    "# Arreglo de unos\n",
    "E = np.ones((4, 5))\n"
   ]
  },
  {
   "cell_type": "code",
   "execution_count": null,
   "id": "4ddd7f99",
   "metadata": {
    "scrolled": false
   },
   "outputs": [],
   "source": [
    "print(E)\n"
   ]
  },
  {
   "cell_type": "code",
   "execution_count": null,
   "id": "d5ccf8c2",
   "metadata": {
    "scrolled": true
   },
   "outputs": [],
   "source": [
    "type(E)"
   ]
  },
  {
   "cell_type": "code",
   "execution_count": null,
   "id": "a6c1f921",
   "metadata": {
    "scrolled": true
   },
   "outputs": [],
   "source": [
    "E[0, 0]"
   ]
  },
  {
   "cell_type": "code",
   "execution_count": null,
   "id": "eea562ba",
   "metadata": {},
   "outputs": [],
   "source": [
    "print(\"\\nCon elementos de tipo:\")\n",
    "print(type(E[0][0]))\n"
   ]
  },
  {
   "cell_type": "code",
   "execution_count": null,
   "id": "b25be817",
   "metadata": {},
   "outputs": [],
   "source": [
    "# Arreglo de ceros\n",
    "F = np.zeros((3, 2))\n"
   ]
  },
  {
   "cell_type": "code",
   "execution_count": null,
   "id": "d5661896",
   "metadata": {
    "scrolled": true
   },
   "outputs": [],
   "source": [
    "F"
   ]
  },
  {
   "cell_type": "code",
   "execution_count": null,
   "id": "5405b214",
   "metadata": {},
   "outputs": [],
   "source": [
    "print(\"\\nCon elementos de tipo:\")\n",
    "print(type(F[0][0]))"
   ]
  },
  {
   "cell_type": "code",
   "execution_count": null,
   "id": "df0a3d5a",
   "metadata": {},
   "outputs": [],
   "source": [
    "# Matriz vacía rellena con los valores residuales de la memoria.\n",
    "G = np.empty((2, 3)) \n"
   ]
  },
  {
   "cell_type": "code",
   "execution_count": null,
   "id": "7e526341",
   "metadata": {},
   "outputs": [],
   "source": [
    "print(G)\n",
    "print(\"\\nCon elementos de tipo:\")\n",
    "print(type(G[0][0]))\n"
   ]
  },
  {
   "cell_type": "code",
   "execution_count": null,
   "id": "705b18c0",
   "metadata": {},
   "outputs": [],
   "source": [
    "# De forma opcional se puede definir el tipo de dato que tendrá el arreglo.\n",
    "H = np.zeros((3, 3), dtype=int)  # dytpe tiene muchísimas posibilidades.\n"
   ]
  },
  {
   "cell_type": "code",
   "execution_count": null,
   "id": "c0de8d82",
   "metadata": {},
   "outputs": [],
   "source": [
    "H"
   ]
  },
  {
   "cell_type": "code",
   "execution_count": null,
   "id": "52b5f625",
   "metadata": {},
   "outputs": [],
   "source": [
    "print(\"\\nCon elementos de tipo:\")\n",
    "print(type(H[0][0]))\n"
   ]
  },
  {
   "cell_type": "code",
   "execution_count": null,
   "id": "5cbea8f7",
   "metadata": {
    "scrolled": true
   },
   "outputs": [],
   "source": [
    "# Matriz identidad para matrices cuadradas\n",
    "np.identity(5)\n"
   ]
  },
  {
   "cell_type": "code",
   "execution_count": null,
   "id": "38b65cd1",
   "metadata": {},
   "outputs": [],
   "source": [
    "# Matriz identidad en un caso más general mxn\n",
    "np.eye(3, 4)\n"
   ]
  },
  {
   "cell_type": "code",
   "execution_count": null,
   "id": "14027a7d",
   "metadata": {},
   "outputs": [],
   "source": [
    "sp.zeros(3,2)"
   ]
  },
  {
   "cell_type": "markdown",
   "id": "f32ce1b6",
   "metadata": {},
   "source": [
    "Llamado de elementos, filas y columnas."
   ]
  },
  {
   "cell_type": "code",
   "execution_count": null,
   "id": "c328b139",
   "metadata": {
    "scrolled": true
   },
   "outputs": [],
   "source": [
    "B # Previamente fue definida la matriz B.\n"
   ]
  },
  {
   "cell_type": "code",
   "execution_count": null,
   "id": "755d1e01",
   "metadata": {},
   "outputs": [],
   "source": [
    "# Llamado de un elemento\n",
    "b12 = B[1][2] # En la numeración natural sería el elemento de la fila 2 y la columna 3.\n",
    "\n",
    "print(f'El elemento b12 es: {b12}')  # Nótese el uso de la f y de {}.\n"
   ]
  },
  {
   "cell_type": "code",
   "execution_count": null,
   "id": "adf0d4eb",
   "metadata": {},
   "outputs": [],
   "source": [
    "B[0][0]\n"
   ]
  },
  {
   "cell_type": "code",
   "execution_count": null,
   "id": "73c4b6fa",
   "metadata": {},
   "outputs": [],
   "source": [
    "B[0, 0]"
   ]
  },
  {
   "cell_type": "code",
   "execution_count": null,
   "id": "dbdb755b",
   "metadata": {},
   "outputs": [],
   "source": [
    "# Alternativamente, se usa así:\n",
    "b12 = B[1, 2]\n",
    "\n",
    "print(f'El elemento b12 es: {b12}')\n"
   ]
  },
  {
   "cell_type": "code",
   "execution_count": null,
   "id": "d90e8403",
   "metadata": {
    "scrolled": true
   },
   "outputs": [],
   "source": [
    "B"
   ]
  },
  {
   "cell_type": "code",
   "execution_count": null,
   "id": "d59b3f05",
   "metadata": {},
   "outputs": [],
   "source": [
    "B[0]\n"
   ]
  },
  {
   "cell_type": "code",
   "execution_count": null,
   "id": "02238da4",
   "metadata": {},
   "outputs": [],
   "source": [
    "# Llamado de una fila\n",
    "f1 = B[0] # Se llama la PRIMERA fila.\n",
    "\n",
    "print(f'La segunda fila es: {f1}')\n"
   ]
  },
  {
   "cell_type": "code",
   "execution_count": null,
   "id": "50e653dd",
   "metadata": {
    "scrolled": true
   },
   "outputs": [],
   "source": [
    "f2 = B[2] # Se llama la tercera fila. Como no existe: genera error.\n"
   ]
  },
  {
   "cell_type": "code",
   "execution_count": null,
   "id": "429b3c6b",
   "metadata": {
    "scrolled": true
   },
   "outputs": [],
   "source": [
    "B[0]"
   ]
  },
  {
   "cell_type": "code",
   "execution_count": null,
   "id": "8232fc2e",
   "metadata": {},
   "outputs": [],
   "source": [
    "B[:, 1]"
   ]
  },
  {
   "cell_type": "code",
   "execution_count": null,
   "id": "f1889029",
   "metadata": {},
   "outputs": [],
   "source": [
    "B"
   ]
  },
  {
   "cell_type": "code",
   "execution_count": null,
   "id": "9f770a94",
   "metadata": {},
   "outputs": [],
   "source": [
    "# Llamado de columnas\n",
    "c1 = B[:, 1]\n",
    "       \n",
    "print(f'La segunda columna es: {c1}')\n"
   ]
  },
  {
   "cell_type": "code",
   "execution_count": null,
   "id": "ec9b08b6",
   "metadata": {},
   "outputs": [],
   "source": [
    "# Se define una matriz C, nuevamente con\n",
    "C = np.array([\n",
    "              [ 0,  1,  2,  3],\n",
    "              [ 4,  5,  6,  7],\n",
    "              [ 8,  9, 10, 11],\n",
    "              [12, 13, 14, 15],  # Nótese que esta ',' del final no genera ningún error.\n",
    "                              ])\n",
    "\n",
    "print(f'La matriz C es: \\n{C}')\n"
   ]
  },
  {
   "cell_type": "markdown",
   "id": "043a64ba",
   "metadata": {},
   "source": [
    "Llamado de más de una fila o de una columna:"
   ]
  },
  {
   "cell_type": "code",
   "execution_count": null,
   "id": "92e16050",
   "metadata": {},
   "outputs": [],
   "source": [
    "C[1:]\n"
   ]
  },
  {
   "cell_type": "code",
   "execution_count": null,
   "id": "e689ae13",
   "metadata": {
    "scrolled": true
   },
   "outputs": [],
   "source": [
    "C[:2]\n"
   ]
  },
  {
   "cell_type": "code",
   "execution_count": null,
   "id": "33bc29f4",
   "metadata": {},
   "outputs": [],
   "source": [
    "C"
   ]
  },
  {
   "cell_type": "code",
   "execution_count": null,
   "id": "b53e044d",
   "metadata": {},
   "outputs": [],
   "source": [
    "C[:, :2]\n"
   ]
  },
  {
   "cell_type": "code",
   "execution_count": null,
   "id": "d0c08dcd",
   "metadata": {
    "scrolled": false
   },
   "outputs": [],
   "source": [
    "C[1:, :2]\n"
   ]
  },
  {
   "cell_type": "code",
   "execution_count": null,
   "id": "76859ece",
   "metadata": {},
   "outputs": [],
   "source": [
    "C"
   ]
  },
  {
   "cell_type": "code",
   "execution_count": null,
   "id": "85f8ded8",
   "metadata": {},
   "outputs": [],
   "source": [
    "C[1:3, 1:3]\n"
   ]
  },
  {
   "cell_type": "markdown",
   "id": "daec7df4",
   "metadata": {},
   "source": [
    "### **3. Matrices en sympy**"
   ]
  },
  {
   "cell_type": "code",
   "execution_count": null,
   "id": "fba39015",
   "metadata": {},
   "outputs": [],
   "source": [
    "# Mediante el módulo sympy con \"Array\" y con \"Matrix\".\n",
    "# Importar la librería\n",
    "import sympy as sp\n"
   ]
  },
  {
   "cell_type": "code",
   "execution_count": null,
   "id": "fdce8047",
   "metadata": {},
   "outputs": [],
   "source": [
    "J = sp.Array([[ 8,  1,  9],[-1,  4, -2],[ 2, -4,  1],])"
   ]
  },
  {
   "cell_type": "code",
   "execution_count": null,
   "id": "becb2af1",
   "metadata": {},
   "outputs": [],
   "source": [
    "J"
   ]
  },
  {
   "cell_type": "code",
   "execution_count": null,
   "id": "97d71764",
   "metadata": {},
   "outputs": [],
   "source": [
    "# Definición con 'Array', no se recomienda usar pues es inmutable.\n",
    "\n",
    "J = sp.Array([\n",
    "              [ 8,  1,  9],\n",
    "              [-1,  4, -2],\n",
    "              [ 2, -4,  1],\n",
    "                          ])\n"
   ]
  },
  {
   "cell_type": "code",
   "execution_count": null,
   "id": "1b5cac06",
   "metadata": {
    "scrolled": false
   },
   "outputs": [],
   "source": [
    "# Impresión de resultados\n",
    "print('La matriz J es:')  \n",
    "J  # Acá no se pone el comando 'print' para que genere un 'Out', y en sympy se hace con LaTeX.\n"
   ]
  },
  {
   "cell_type": "code",
   "execution_count": null,
   "id": "5d50a887",
   "metadata": {},
   "outputs": [],
   "source": [
    "print(J)"
   ]
  },
  {
   "cell_type": "code",
   "execution_count": null,
   "id": "7f7316cf",
   "metadata": {
    "scrolled": true
   },
   "outputs": [],
   "source": [
    "print(sp.pretty(J))"
   ]
  },
  {
   "cell_type": "code",
   "execution_count": null,
   "id": "d161cf32",
   "metadata": {},
   "outputs": [],
   "source": [
    "# Tipo de dato\n",
    "type(J)\n"
   ]
  },
  {
   "cell_type": "code",
   "execution_count": null,
   "id": "a90967ba",
   "metadata": {},
   "outputs": [],
   "source": [
    "# Definición con \"Matrix\"\n",
    "K = sp.Matrix([\n",
    "               [-1,  1,  9],\n",
    "               [ 4,  4, -2],\n",
    "               [ 2,  0,  8],\n",
    "                           ])\n"
   ]
  },
  {
   "cell_type": "code",
   "execution_count": null,
   "id": "e8316d78",
   "metadata": {
    "scrolled": true
   },
   "outputs": [],
   "source": [
    "# Impresión de resultados\n",
    "print('La matriz K es:')  \n",
    "K\n"
   ]
  },
  {
   "cell_type": "code",
   "execution_count": null,
   "id": "8d1d9a0b",
   "metadata": {
    "scrolled": true
   },
   "outputs": [],
   "source": [
    "# Tipo de dato\n",
    "type(K)\n"
   ]
  },
  {
   "cell_type": "code",
   "execution_count": null,
   "id": "b1e54761",
   "metadata": {},
   "outputs": [],
   "source": [
    "K.shape"
   ]
  },
  {
   "cell_type": "code",
   "execution_count": null,
   "id": "013d4b73",
   "metadata": {},
   "outputs": [],
   "source": [
    "# Tamaño de la matriz\n",
    "dim_K = K.shape  # Nótese que es el mismo comando en numpy y en sympy\n",
    "print(dim_K)     # Imprime el tamaño del arreglo K\n"
   ]
  },
  {
   "cell_type": "code",
   "execution_count": null,
   "id": "a276ca7c",
   "metadata": {
    "scrolled": true
   },
   "outputs": [],
   "source": [
    "# Tipo de dato\n",
    "type(dim_K)\n"
   ]
  },
  {
   "cell_type": "markdown",
   "id": "43afd6ea",
   "metadata": {},
   "source": [
    "Formas específicas de arreglos:\n",
    "\n",
    "Se recomienda revisar en detalle la documentación de sympy en: https://docs.sympy.org/latest/tutorial/matrices.html\n",
    "\n",
    "Las siguientes matrices tienen la forma de 'Matrix', es decir, son mutables:"
   ]
  },
  {
   "cell_type": "code",
   "execution_count": null,
   "id": "af4b0819",
   "metadata": {},
   "outputs": [],
   "source": [
    "# Matriz de ceros.\n",
    "sp.zeros(2)\n"
   ]
  },
  {
   "cell_type": "code",
   "execution_count": null,
   "id": "181b71cf",
   "metadata": {
    "scrolled": true
   },
   "outputs": [],
   "source": [
    "sp.zeros(3, 2)\n"
   ]
  },
  {
   "cell_type": "code",
   "execution_count": null,
   "id": "9fb29f66",
   "metadata": {
    "scrolled": true
   },
   "outputs": [],
   "source": [
    "# Matriz de unos.\n",
    "sp.ones(3)\n"
   ]
  },
  {
   "cell_type": "code",
   "execution_count": null,
   "id": "e12cb05f",
   "metadata": {},
   "outputs": [],
   "source": [
    "# Matriz identidad\n",
    "sp.eye(3)\n"
   ]
  },
  {
   "cell_type": "code",
   "execution_count": null,
   "id": "9a777991",
   "metadata": {},
   "outputs": [],
   "source": [
    "# Matriz diagonal\n",
    "sp.diag(1, 2, 3, 4)\n"
   ]
  },
  {
   "cell_type": "markdown",
   "id": "baae015e",
   "metadata": {},
   "source": [
    "Llamado de elementos, filas y columnas."
   ]
  },
  {
   "cell_type": "code",
   "execution_count": null,
   "id": "18f016ca",
   "metadata": {},
   "outputs": [],
   "source": [
    "K # Previamente fue definida la matriz K.\n"
   ]
  },
  {
   "cell_type": "code",
   "execution_count": null,
   "id": "8999b561",
   "metadata": {},
   "outputs": [],
   "source": [
    "# Teniendo en cuenta la longitud de matriz, es decir, la cantidad de elementos.\n",
    "len(K)  # Nótese que aquí sí se puede usar el comando \"len()\" a diferencia de numpy.\n"
   ]
  },
  {
   "cell_type": "code",
   "execution_count": null,
   "id": "9e7e59e2",
   "metadata": {},
   "outputs": [],
   "source": [
    "# Se puede llamar a cualquiera de los elementos de la matriz en un ordenamiento que recorre fila por fila.\n",
    "K[5]\n"
   ]
  },
  {
   "cell_type": "code",
   "execution_count": null,
   "id": "2eb3cb9d",
   "metadata": {
    "scrolled": true
   },
   "outputs": [],
   "source": [
    "K[1, 1]  # Llamado del último elemento, que es lo mismo que llamar K[8]\n"
   ]
  },
  {
   "cell_type": "code",
   "execution_count": null,
   "id": "bee2a9df",
   "metadata": {},
   "outputs": [],
   "source": [
    "# Pero el llamado básico se hace de la misma manera que numpy\n",
    "K[1, 1]  # No funciona poner K[1][1], genera error.\n"
   ]
  },
  {
   "cell_type": "code",
   "execution_count": null,
   "id": "aac00515",
   "metadata": {
    "scrolled": false
   },
   "outputs": [],
   "source": [
    "K[0, 0]"
   ]
  },
  {
   "cell_type": "code",
   "execution_count": null,
   "id": "b930f581",
   "metadata": {},
   "outputs": [],
   "source": [
    "K"
   ]
  },
  {
   "cell_type": "code",
   "execution_count": null,
   "id": "ae454c2d",
   "metadata": {},
   "outputs": [],
   "source": [
    "# Llamado de filas\n",
    "K.row(1)  # LLamado de la segunda fila\n"
   ]
  },
  {
   "cell_type": "code",
   "execution_count": null,
   "id": "bdfa758a",
   "metadata": {},
   "outputs": [],
   "source": [
    "# Alternativamente\n",
    "K[1, :] # También se puede llamar así, simpre y cuando se use coma intermedia.\n"
   ]
  },
  {
   "cell_type": "code",
   "execution_count": null,
   "id": "a38df803",
   "metadata": {},
   "outputs": [],
   "source": [
    "# Llamado de columnas\n",
    "K.col(2)\n"
   ]
  },
  {
   "cell_type": "code",
   "execution_count": null,
   "id": "1923cd12",
   "metadata": {
    "scrolled": true
   },
   "outputs": [],
   "source": [
    "# Alternativamente\n",
    "K[:, 2]"
   ]
  },
  {
   "cell_type": "code",
   "execution_count": null,
   "id": "c36705c5",
   "metadata": {},
   "outputs": [],
   "source": [
    "# Se pueden hacer estos llamados de manera similar a numpy\n",
    "K[1:, 1:]\n"
   ]
  },
  {
   "cell_type": "markdown",
   "id": "605d4877",
   "metadata": {},
   "source": [
    "# **Modificación de elementos**\n",
    "\n",
    "Cambiar algún elemento de la matriz"
   ]
  },
  {
   "cell_type": "markdown",
   "id": "7ad84d10",
   "metadata": {},
   "source": [
    "### **1. En una lista de listas**"
   ]
  },
  {
   "cell_type": "code",
   "execution_count": null,
   "id": "205d578a",
   "metadata": {},
   "outputs": [],
   "source": [
    "A # Previamente fue definida la matriz A.\n"
   ]
  },
  {
   "cell_type": "code",
   "execution_count": null,
   "id": "3a8dd1b8",
   "metadata": {},
   "outputs": [],
   "source": [
    "# Por ejemplo, el elemento de la fila 3 y la columna 1\n",
    "A[2][0]\n"
   ]
  },
  {
   "cell_type": "code",
   "execution_count": null,
   "id": "0afae28c",
   "metadata": {},
   "outputs": [],
   "source": [
    "# Se puede modificar directamente\n",
    "A[2][0] = 0\n"
   ]
  },
  {
   "cell_type": "code",
   "execution_count": null,
   "id": "97f6dfb0",
   "metadata": {},
   "outputs": [],
   "source": [
    "A  # Matriz A modificada\n"
   ]
  },
  {
   "cell_type": "markdown",
   "id": "15824474",
   "metadata": {},
   "source": [
    "### **2. En un array de numpy**"
   ]
  },
  {
   "cell_type": "code",
   "execution_count": null,
   "id": "38527e81",
   "metadata": {
    "scrolled": true
   },
   "outputs": [],
   "source": [
    "C # Previamente fue definida la matriz C.\n"
   ]
  },
  {
   "cell_type": "code",
   "execution_count": null,
   "id": "851f1cef",
   "metadata": {},
   "outputs": [],
   "source": [
    "C[2, 1]\n"
   ]
  },
  {
   "cell_type": "code",
   "execution_count": null,
   "id": "bdb23c2e",
   "metadata": {},
   "outputs": [],
   "source": [
    "# Modificando el elemento C[2, 1]\n",
    "C[2, 1] = -15\n"
   ]
  },
  {
   "cell_type": "code",
   "execution_count": null,
   "id": "f3c2575b",
   "metadata": {
    "scrolled": true
   },
   "outputs": [],
   "source": [
    "C  # Matriz C modificada\n"
   ]
  },
  {
   "cell_type": "code",
   "execution_count": null,
   "id": "f3bed7c0",
   "metadata": {},
   "outputs": [],
   "source": [
    "# Así modifico toda la fila 2 simultáneamente\n",
    "C[2]"
   ]
  },
  {
   "cell_type": "code",
   "execution_count": null,
   "id": "5c798d2b",
   "metadata": {},
   "outputs": [],
   "source": [
    "C[2] = 0"
   ]
  },
  {
   "cell_type": "code",
   "execution_count": null,
   "id": "2e4f0341",
   "metadata": {},
   "outputs": [],
   "source": [
    "C"
   ]
  },
  {
   "cell_type": "code",
   "execution_count": null,
   "id": "99c28ada",
   "metadata": {},
   "outputs": [],
   "source": [
    "# Por ejemplo, así se modifican todos los elementos.\n",
    "C[:, :] = 0\n"
   ]
  },
  {
   "cell_type": "code",
   "execution_count": null,
   "id": "c1a64bd9",
   "metadata": {},
   "outputs": [],
   "source": [
    "C\n"
   ]
  },
  {
   "cell_type": "markdown",
   "id": "b38924f4",
   "metadata": {},
   "source": [
    "### **3. En una matriz de sympy**"
   ]
  },
  {
   "cell_type": "code",
   "execution_count": null,
   "id": "70dc9b1d",
   "metadata": {
    "scrolled": true
   },
   "outputs": [],
   "source": [
    "K # Previamente fue definida la matriz K.\n"
   ]
  },
  {
   "cell_type": "code",
   "execution_count": null,
   "id": "4d1063ba",
   "metadata": {
    "scrolled": true
   },
   "outputs": [],
   "source": [
    "type(K)"
   ]
  },
  {
   "cell_type": "code",
   "execution_count": null,
   "id": "0d652385",
   "metadata": {},
   "outputs": [],
   "source": [
    "K[2,2]"
   ]
  },
  {
   "cell_type": "code",
   "execution_count": null,
   "id": "6adfd674",
   "metadata": {},
   "outputs": [],
   "source": [
    "K[2, 2] = -10"
   ]
  },
  {
   "cell_type": "code",
   "execution_count": null,
   "id": "6a7ad13f",
   "metadata": {},
   "outputs": [],
   "source": [
    "K"
   ]
  },
  {
   "cell_type": "code",
   "execution_count": null,
   "id": "284582f9",
   "metadata": {},
   "outputs": [],
   "source": [
    "# Modificando el elemento K[1, 1]\n",
    "K[1, 1] = 0\n"
   ]
  },
  {
   "cell_type": "code",
   "execution_count": null,
   "id": "e019559d",
   "metadata": {
    "scrolled": true
   },
   "outputs": [],
   "source": [
    "K  # Matriz K modificada\n"
   ]
  },
  {
   "cell_type": "code",
   "execution_count": null,
   "id": "3c454c1c",
   "metadata": {},
   "outputs": [],
   "source": [
    "K[8]"
   ]
  },
  {
   "cell_type": "code",
   "execution_count": null,
   "id": "c5327ef5",
   "metadata": {},
   "outputs": [],
   "source": [
    "# Pilas que así se modifica el elemento 2 del recorrido fila a fila.\n",
    "K[2] = 1\n"
   ]
  },
  {
   "cell_type": "code",
   "execution_count": null,
   "id": "dc419f68",
   "metadata": {
    "scrolled": true
   },
   "outputs": [],
   "source": [
    "K\n"
   ]
  },
  {
   "cell_type": "code",
   "execution_count": null,
   "id": "a68a9787",
   "metadata": {},
   "outputs": [],
   "source": [
    "# Si se quiere modificar la columna 1.\n",
    "K.col(1)\n"
   ]
  },
  {
   "cell_type": "code",
   "execution_count": null,
   "id": "49aa5ae4",
   "metadata": {
    "scrolled": true
   },
   "outputs": [],
   "source": [
    "# Se genera error.\n",
    "K.col(1) = -100\n"
   ]
  },
  {
   "cell_type": "code",
   "execution_count": null,
   "id": "5550f85c",
   "metadata": {
    "scrolled": true
   },
   "outputs": [],
   "source": [
    "# La forma alternativa de llamar la columna 1.\n",
    "K[:, 1]\n"
   ]
  },
  {
   "cell_type": "code",
   "execution_count": null,
   "id": "220fa252",
   "metadata": {},
   "outputs": [],
   "source": [
    "# Si se trata de modificar\n",
    "K[:,1] = -100\n"
   ]
  },
  {
   "cell_type": "code",
   "execution_count": null,
   "id": "180f27cf",
   "metadata": {},
   "outputs": [],
   "source": [
    "# Una forma correcta es:\n",
    "K[:,1] = (-100, -100, -100)\n"
   ]
  },
  {
   "cell_type": "code",
   "execution_count": null,
   "id": "41caac43",
   "metadata": {},
   "outputs": [],
   "source": [
    "K\n"
   ]
  },
  {
   "cell_type": "markdown",
   "id": "bc1992fe",
   "metadata": {},
   "source": [
    "# **Operaciones con matrices y vectores**\n",
    "1. Suma\n",
    "2. Multiplicación\n",
    "3. Inversión\n",
    "4. Matriz transpuesta\n",
    "5. Producto punto y producto cruz\n",
    "\n",
    "Las operaciones básicas presentan algunas dificultades en una lista de lista, por lo que, claramente es mejor realizar las operaciones con los módulos numpy y sympy."
   ]
  },
  {
   "cell_type": "markdown",
   "id": "454a6b48",
   "metadata": {},
   "source": [
    "### **1. Suma**\n",
    "\n",
    "La suma de matrices solo es posible en matrices del mismo tamaño $mxn$.\n",
    "\n",
    "La suma de las matrices $\\underline{\\underline{A}}$ y $\\underline{\\underline{B}}$ es denotada por: $\\underline{\\underline{A}}+\\underline{\\underline{B}}$"
   ]
  },
  {
   "cell_type": "markdown",
   "id": "7170a73a",
   "metadata": {},
   "source": [
    "**Usando numpy**"
   ]
  },
  {
   "cell_type": "code",
   "execution_count": null,
   "id": "da2fe74a",
   "metadata": {},
   "outputs": [],
   "source": [
    "# Usando el módulo numpy se crean las matrices M y N.\n",
    "M = np.array([\n",
    "              [ 2, 7],\n",
    "              [-1, 3],\n",
    "                     ])\n",
    "\n",
    "N = np.array([\n",
    "              [-3, 4],\n",
    "              [ 9, -2],\n",
    "                     ])\n"
   ]
  },
  {
   "cell_type": "code",
   "execution_count": null,
   "id": "f8ac1dc9",
   "metadata": {},
   "outputs": [],
   "source": [
    "M"
   ]
  },
  {
   "cell_type": "code",
   "execution_count": null,
   "id": "20bebdbb",
   "metadata": {},
   "outputs": [],
   "source": [
    "N"
   ]
  },
  {
   "cell_type": "code",
   "execution_count": null,
   "id": "8a76e8f9",
   "metadata": {},
   "outputs": [],
   "source": [
    "M+N  # La suma de las matrices M y N.\n"
   ]
  },
  {
   "cell_type": "markdown",
   "id": "91b4b425",
   "metadata": {},
   "source": [
    "¿Qué pasa si las matrices a sumar son diferente tamaño?"
   ]
  },
  {
   "cell_type": "code",
   "execution_count": null,
   "id": "0c7e35f6",
   "metadata": {
    "scrolled": true
   },
   "outputs": [],
   "source": [
    "B  # Llamando la matriz B, previmante definida\n"
   ]
  },
  {
   "cell_type": "code",
   "execution_count": null,
   "id": "6b02546d",
   "metadata": {},
   "outputs": [],
   "source": [
    "B+N  # Lo que ocurre si se suman matrices de diferente tamaño.\n"
   ]
  },
  {
   "cell_type": "markdown",
   "id": "36b4d3a8",
   "metadata": {},
   "source": [
    "**Usando sympy**"
   ]
  },
  {
   "cell_type": "code",
   "execution_count": null,
   "id": "0e9be45b",
   "metadata": {},
   "outputs": [],
   "source": [
    "# Se crean algunas variables simbólicas con sympy.\n",
    "a, b, c, d = sp.symbols(\"a b c d\")\n"
   ]
  },
  {
   "cell_type": "code",
   "execution_count": null,
   "id": "02974383",
   "metadata": {},
   "outputs": [],
   "source": [
    "# Usando el módulo sympy se crean las matrices O y P.\n",
    "O = sp.Matrix([\n",
    "               [ a, c],\n",
    "               [ b, d],\n",
    "                      ])\n",
    "\n",
    "P = sp.Matrix([\n",
    "               [-a, b],\n",
    "               [ c, d],\n",
    "                      ])\n"
   ]
  },
  {
   "cell_type": "code",
   "execution_count": null,
   "id": "1c24dbd5",
   "metadata": {},
   "outputs": [],
   "source": [
    "O"
   ]
  },
  {
   "cell_type": "code",
   "execution_count": null,
   "id": "9ecf1b50",
   "metadata": {},
   "outputs": [],
   "source": [
    "P"
   ]
  },
  {
   "cell_type": "code",
   "execution_count": null,
   "id": "22c67380",
   "metadata": {},
   "outputs": [],
   "source": [
    "O-P  # La resta de las matrices O y P.\n"
   ]
  },
  {
   "cell_type": "markdown",
   "id": "3cc5b95d",
   "metadata": {},
   "source": [
    "### **2. Multiplicación**\n",
    "\n",
    "El producto de una matriz A de tamaño $axb$ con una matriz B de tamaño $cxd$ solo es posible si $b=c$ y, en donde la matriz resultante tendrá un tamaño $axd$.\n",
    "\n",
    "La multiplicación de las matrices $\\underline{\\underline{A}}$ y $\\underline{\\underline{B}}$ es denotada por: $\\underline{\\underline{A}}$ * $\\underline{\\underline{B}}$"
   ]
  },
  {
   "cell_type": "markdown",
   "id": "035524a9",
   "metadata": {},
   "source": [
    "**Usando numpy**"
   ]
  },
  {
   "cell_type": "code",
   "execution_count": null,
   "id": "850021b2",
   "metadata": {},
   "outputs": [],
   "source": [
    "# Usando el módulo numpy se crean las matrices Q y R.\n",
    "Q = np.array([\n",
    "              [3, -2],\n",
    "                     ])\n",
    "\n",
    "R = np.array([\n",
    "              [ 3],\n",
    "              [-1],\n",
    "                  ])\n"
   ]
  },
  {
   "cell_type": "code",
   "execution_count": null,
   "id": "3217a1a8",
   "metadata": {},
   "outputs": [],
   "source": [
    "Q"
   ]
  },
  {
   "cell_type": "code",
   "execution_count": null,
   "id": "af86b7ba",
   "metadata": {},
   "outputs": [],
   "source": [
    "R"
   ]
  },
  {
   "cell_type": "code",
   "execution_count": null,
   "id": "4fae875a",
   "metadata": {},
   "outputs": [],
   "source": [
    "np.matmul(Q, R)  # La operación Q*R hace otra cosa completamente diferente.\n"
   ]
  },
  {
   "cell_type": "code",
   "execution_count": null,
   "id": "8ea77d12",
   "metadata": {},
   "outputs": [],
   "source": [
    "Q@R  # Otra forma más sencilla de hacer la misma operación.\n"
   ]
  },
  {
   "cell_type": "code",
   "execution_count": null,
   "id": "335e9857",
   "metadata": {},
   "outputs": [],
   "source": [
    "Q*R  # No sigue las reglas matriciales, pues debería dar de 1x1"
   ]
  },
  {
   "cell_type": "markdown",
   "id": "e6c24ee9",
   "metadata": {},
   "source": [
    "Los arreglos en numpy permiten realizar sobre ellos las operaciones básicas **elemento a elemento**, lo cual no responde a las reglas de las operaciones con matrices."
   ]
  },
  {
   "cell_type": "code",
   "execution_count": null,
   "id": "9451ac4e",
   "metadata": {},
   "outputs": [],
   "source": [
    "N"
   ]
  },
  {
   "cell_type": "code",
   "execution_count": null,
   "id": "d6a59f06",
   "metadata": {
    "scrolled": true
   },
   "outputs": [],
   "source": [
    "# No sigue reglas matriciales, pero funciona.\n",
    "N + 100  # Es equivalente a la suma de una matriz de unos multiplicada por el escalar. \n"
   ]
  },
  {
   "cell_type": "code",
   "execution_count": null,
   "id": "5f96184b",
   "metadata": {
    "scrolled": false
   },
   "outputs": [],
   "source": [
    "N * 3  # Es equivalente a N+N+N, es la multiplicación de una matriz por un escalar.\n"
   ]
  },
  {
   "cell_type": "code",
   "execution_count": null,
   "id": "fdf75c1b",
   "metadata": {},
   "outputs": [],
   "source": [
    "N@N # Para multiplicar una matriz por sí misma.\n"
   ]
  },
  {
   "cell_type": "code",
   "execution_count": null,
   "id": "8787e438",
   "metadata": {
    "scrolled": true
   },
   "outputs": [],
   "source": [
    "# No sigue las reglas de las operaciones con matrices.\n",
    "N**2  # Matricialmente no es lo mimso que NxN. Porque lo que hace es elevar a la potencia elemento por elemento.\n"
   ]
  },
  {
   "cell_type": "code",
   "execution_count": null,
   "id": "5100e155",
   "metadata": {
    "scrolled": true
   },
   "outputs": [],
   "source": [
    "(N+2)**2/8  # No sigue las reglas de matrices.\n"
   ]
  },
  {
   "cell_type": "code",
   "execution_count": null,
   "id": "8fd5ea41",
   "metadata": {},
   "outputs": [],
   "source": [
    "N"
   ]
  },
  {
   "cell_type": "code",
   "execution_count": null,
   "id": "4207c6a3",
   "metadata": {
    "scrolled": true
   },
   "outputs": [],
   "source": [
    "1/N  # Cuidado, que esta operacción no es la matriz inversa.\n",
    "\n"
   ]
  },
  {
   "cell_type": "code",
   "execution_count": null,
   "id": "0785df65",
   "metadata": {
    "scrolled": true
   },
   "outputs": [],
   "source": [
    "# ¿Qué ocurre si se eleva a potencias negativas.\n",
    "N**-1  # Se parece a la inversa, pero NO ES LA INVERSA\n"
   ]
  },
  {
   "cell_type": "markdown",
   "id": "f955afb4",
   "metadata": {},
   "source": [
    "**Usando sympy**"
   ]
  },
  {
   "cell_type": "code",
   "execution_count": null,
   "id": "fd323e94",
   "metadata": {},
   "outputs": [],
   "source": [
    "# Usando el módulo sumpy se crea la matriz A y el vector X.\n",
    "\n",
    "# Se crean algunas variables simbólicas adicionales.\n",
    "x, y = sp.symbols(\"x y\")\n",
    "\n",
    "A = sp.Matrix([\n",
    "               [ a, b],\n",
    "               [ c, d],\n",
    "                      ])\n",
    "\n",
    "X = sp.Matrix([\n",
    "               [x],\n",
    "               [y],\n",
    "                  ])\n"
   ]
  },
  {
   "cell_type": "code",
   "execution_count": null,
   "id": "81043901",
   "metadata": {
    "scrolled": true
   },
   "outputs": [],
   "source": [
    "A\n"
   ]
  },
  {
   "cell_type": "code",
   "execution_count": null,
   "id": "769c7e32",
   "metadata": {},
   "outputs": [],
   "source": [
    "X\n"
   ]
  },
  {
   "cell_type": "code",
   "execution_count": null,
   "id": "7e35f983",
   "metadata": {
    "scrolled": true
   },
   "outputs": [],
   "source": [
    "A*X  # En sympy sí se puede hacer esta operación así. operacion matricial\n"
   ]
  },
  {
   "cell_type": "markdown",
   "id": "2dfb8cf6",
   "metadata": {},
   "source": [
    "Algunas consideraciones sobre las operaciones:"
   ]
  },
  {
   "cell_type": "code",
   "execution_count": null,
   "id": "1891732e",
   "metadata": {},
   "outputs": [],
   "source": [
    "A  # Llamando la matriz previamente definida.\n"
   ]
  },
  {
   "cell_type": "code",
   "execution_count": null,
   "id": "8c42678a",
   "metadata": {},
   "outputs": [],
   "source": [
    "# Nótese que aquí sí se respetan las reglas de las operaciones entre matrices.\n",
    "A+10\n"
   ]
  },
  {
   "cell_type": "code",
   "execution_count": null,
   "id": "a0a9179a",
   "metadata": {},
   "outputs": [],
   "source": [
    "# Las matrices se pueden multiplicar por escalares.\n",
    "O*15\n"
   ]
  },
  {
   "cell_type": "code",
   "execution_count": null,
   "id": "dd37a5cc",
   "metadata": {
    "scrolled": true
   },
   "outputs": [],
   "source": [
    "# Esta operación sí representa la multiplicación de O con O.\n",
    "O**2\n"
   ]
  },
  {
   "cell_type": "markdown",
   "id": "11a70ad4",
   "metadata": {},
   "source": [
    "### **3. Inversión de matrices**\n",
    "Solo es posible invertir matrices cuadradas no singulares, es decir, que su determinante sea diferente de 0.\n",
    "\n",
    "La inversa de la matriz  $\\underline{\\underline{A}}$ es denotada por $\\underline{\\underline{A}}^{-1}$.\n",
    "\n",
    "El determinante de la matriz a se puede denotar como $det(\\underline{\\underline{A}})$ o como $|\\underline{\\underline{A}}|$."
   ]
  },
  {
   "cell_type": "markdown",
   "id": "f768eeda",
   "metadata": {},
   "source": [
    "**Usando numpy**"
   ]
  },
  {
   "cell_type": "code",
   "execution_count": null,
   "id": "c9674f9b",
   "metadata": {},
   "outputs": [],
   "source": [
    "# Usando el módulo numpy se crea la matriz S.\n",
    "S = np.array([[ 1, -2],\n",
    "              [-3, 5]])\n"
   ]
  },
  {
   "cell_type": "code",
   "execution_count": null,
   "id": "8768a75b",
   "metadata": {},
   "outputs": [],
   "source": [
    "S  # Se imprime S\n"
   ]
  },
  {
   "cell_type": "code",
   "execution_count": null,
   "id": "35f944c9",
   "metadata": {
    "scrolled": true
   },
   "outputs": [],
   "source": [
    "# Se usa el submódulo np.linalg\n",
    "np.linalg.det(S)  # Se determina el determinante de la matriz S.\n"
   ]
  },
  {
   "cell_type": "code",
   "execution_count": null,
   "id": "9b1ef91c",
   "metadata": {},
   "outputs": [],
   "source": [
    "# Como el determinante es diferente de 0, la matriz es inversible.\n",
    "np.linalg.inv(S)  # Inversa de la matriz S.\n"
   ]
  },
  {
   "cell_type": "markdown",
   "id": "665a4619",
   "metadata": {},
   "source": [
    "¿Qué ocurre si se trata de sacar la inversa de una matriz singular?"
   ]
  },
  {
   "cell_type": "code",
   "execution_count": null,
   "id": "b7a2c5bc",
   "metadata": {},
   "outputs": [],
   "source": [
    "W = np.array([[ 1, -2],\n",
    "              [-2,  4]])\n"
   ]
  },
  {
   "cell_type": "code",
   "execution_count": null,
   "id": "d08c1b54",
   "metadata": {},
   "outputs": [],
   "source": [
    "np.linalg.det(W)\n"
   ]
  },
  {
   "cell_type": "code",
   "execution_count": null,
   "id": "4fd049f1",
   "metadata": {},
   "outputs": [],
   "source": [
    "np.linalg.inv(W)\n"
   ]
  },
  {
   "cell_type": "markdown",
   "id": "8afdb5af",
   "metadata": {},
   "source": [
    "**Usando sympy**"
   ]
  },
  {
   "cell_type": "code",
   "execution_count": null,
   "id": "9a51b187",
   "metadata": {
    "scrolled": true
   },
   "outputs": [],
   "source": [
    "# Usando la matriz A previamente creada con varibles simbólicas.\n",
    "A\n"
   ]
  },
  {
   "cell_type": "code",
   "execution_count": null,
   "id": "f89ef7df",
   "metadata": {},
   "outputs": [],
   "source": [
    "# Cálculo del determinante.\n",
    "A.det()\n"
   ]
  },
  {
   "cell_type": "code",
   "execution_count": null,
   "id": "d98d8c43",
   "metadata": {},
   "outputs": [],
   "source": [
    "A.inv()  # Inversa de la matriz A. Aquí la utilidad del módulo sympy para determinar fórmulas generales.\n"
   ]
  },
  {
   "cell_type": "code",
   "execution_count": null,
   "id": "a1364204",
   "metadata": {},
   "outputs": [],
   "source": [
    "A**-1  # Esta operación sí es la inversa de la matriz, al contrario de lo que ocurre en numpy.\n"
   ]
  },
  {
   "cell_type": "markdown",
   "id": "042ee8dd",
   "metadata": {},
   "source": [
    "### **4. Matriz transpuesta**\n",
    "Se denota a la transpuesta de la matriz $\\underline{\\underline{A}}$ como $\\underline{\\underline{A}}^{T}$."
   ]
  },
  {
   "cell_type": "markdown",
   "id": "bf3812a9",
   "metadata": {},
   "source": [
    "¿Cómo se transpone la matriz $\\underline{\\underline{A}}$? (ejercicio de clase con lista de listas)"
   ]
  },
  {
   "cell_type": "code",
   "execution_count": null,
   "id": "f97c9124",
   "metadata": {},
   "outputs": [],
   "source": [
    "A = [[  0,  1,  2,  3,  4],\n",
    "     [  5,  6,  7,  8,  9],\n",
    "     [ 10, 11, 12, 13, 14]]\n"
   ]
  },
  {
   "cell_type": "code",
   "execution_count": null,
   "id": "ec8c6a07",
   "metadata": {},
   "outputs": [],
   "source": [
    "# Solución\n"
   ]
  },
  {
   "cell_type": "markdown",
   "id": "27ea25d6",
   "metadata": {},
   "source": [
    "**Usando numpy**"
   ]
  },
  {
   "cell_type": "code",
   "execution_count": null,
   "id": "3df4a851",
   "metadata": {},
   "outputs": [],
   "source": [
    "B # Previamente fue definida la matriz B.\n"
   ]
  },
  {
   "cell_type": "code",
   "execution_count": null,
   "id": "c2a95005",
   "metadata": {},
   "outputs": [],
   "source": [
    "B.T  # Matriz transpuesta.\n"
   ]
  },
  {
   "cell_type": "markdown",
   "id": "7d264619",
   "metadata": {},
   "source": [
    "**Usando sympy**"
   ]
  },
  {
   "cell_type": "code",
   "execution_count": null,
   "id": "94fc4e96",
   "metadata": {},
   "outputs": [],
   "source": [
    "K # Previamente fue definida la matriz K.\n"
   ]
  },
  {
   "cell_type": "code",
   "execution_count": null,
   "id": "67cf4ffd",
   "metadata": {},
   "outputs": [],
   "source": [
    "K.T  # Matriz transpuesta.\n"
   ]
  },
  {
   "cell_type": "markdown",
   "id": "e2a24219",
   "metadata": {},
   "source": [
    "### **5. Producto punto y producto cruz**\n",
    "\n",
    "El producto punto o producto escalar de dos vectores está definido como:\n",
    "\n",
    "$\\underline{A}.\\underline{B}=(a_1, a_2, ..., a_n).(b_1, b_2, ..., b_n)=a_1b_1+a_2b_2+...+a_nb_n=\\sum a_i b_i$\n",
    "\n",
    "Alternativamente, se puede definir como:\n",
    "\n",
    "$\\underline{A}.\\underline{B}=||\\underline{A}||.||\\underline{B}||cos(\\theta)$, donde $\\theta$ es el ángulo formado entre los vectores.\n",
    "\n",
    "**Nota:**\n",
    "De aquí en adelante un vector entre dos líneas a lado y lado representará la magnitud o norma: $||\\underline{A}||$.\n",
    "\n",
    "Una matriz entre dos líneas representa un determinante: $|\\underline{\\underline{A}}|$."
   ]
  },
  {
   "cell_type": "markdown",
   "id": "379c4a3f",
   "metadata": {},
   "source": [
    "**Pregunta de clase**\n",
    "\n",
    "¿Qué significa que el $\\underline{A}.\\underline{B}=0$?\n"
   ]
  },
  {
   "cell_type": "markdown",
   "id": "9f9883b5",
   "metadata": {},
   "source": [
    "**Pregunta de clase**\n",
    "\n",
    "¿Qué significa que el $\\underline{A}.\\underline{B}=||\\underline{A}||.||\\underline{B}||$?"
   ]
  },
  {
   "cell_type": "markdown",
   "id": "a41ea13d",
   "metadata": {},
   "source": [
    "El producto cruz o producto vectorial de dos vectores está definido en $\\mathbb R^{3}$ como $\\underline{A}$x$\\underline{B}$, en donde:\n",
    "\n",
    "$\\underline{A}=(a_x, a_y, a_z)$\\\n",
    "$\\underline{B}=(b_x, b_y, b_z)$\n",
    "\n",
    "es decir,\n",
    "\n",
    "$\\underline{A}$ x $\\underline{B}$ $= \\left|\n",
    "\\begin{array}{ccc}\n",
    "\\hat{i} & \\hat{j} & \\hat{k}\\\\\n",
    "a_x & a_y & a_z\\\\\n",
    "b_x & b_y & b_z\\\\\n",
    "\\end{array}\n",
    "\\right|\n",
    "$"
   ]
  },
  {
   "cell_type": "code",
   "execution_count": null,
   "id": "573ae8b6",
   "metadata": {},
   "outputs": [],
   "source": [
    "# Usando sympy se obtiene \n",
    "\n",
    "ax, ay, az, bx, by, bz = sp.symbols(\"a_x a_y a_z b_x b_y b_z\")\n",
    "ig, jg, kg = sp.symbols(\"\\hat{i} \\hat{j} \\hat{k}\")\n",
    "\n",
    "AxB = sp.Matrix([\n",
    "                 [ig, jg, kg],\n",
    "                 [ax, ay, az],\n",
    "                 [bx, by, bz]\n",
    "                             ]).det()\n",
    "\n",
    "sp.collect(AxB, [ig, jg, kg])\n"
   ]
  },
  {
   "cell_type": "markdown",
   "id": "622a0863",
   "metadata": {},
   "source": [
    "De esta manera, $\\underline{A}$ x $\\underline{B}=\\underline{C}$, donde:\n",
    "\n",
    "$\\underline{C}=(c_x, c_y, c_z)$,\n",
    "\n",
    "$c_x=a_y.b_z - a_z.b_y$\\\n",
    "$c_y=-a_x.b_z + a_z.b_x$\\\n",
    "$c_z=a_x.b_y - a_y.b_x$"
   ]
  },
  {
   "cell_type": "markdown",
   "id": "6e8e8f90",
   "metadata": {},
   "source": [
    "Además, es últil la definición:\n",
    "\n",
    "$||\\underline{A}$ x $\\underline{B}||$ = $||\\underline{A}||$  $||\\underline{B}||$  $|sin(\\theta)|$\n"
   ]
  },
  {
   "cell_type": "markdown",
   "id": "48fd294d",
   "metadata": {},
   "source": [
    "**Pregunta de clase**\n",
    "\n",
    "¿Qué significa que $\\underline{A}$ x $\\underline{B}$ = $\\underline{0}$"
   ]
  },
  {
   "cell_type": "markdown",
   "id": "54e8e434",
   "metadata": {},
   "source": [
    "**Usando numpy**"
   ]
  },
  {
   "cell_type": "code",
   "execution_count": null,
   "id": "203c5112",
   "metadata": {},
   "outputs": [],
   "source": [
    "# Se crean los vectores u1 y u2.\n",
    "u1 = np.array([7, -4, -1])\n",
    "u2 = np.array([3, -5,  2])\n"
   ]
  },
  {
   "cell_type": "code",
   "execution_count": null,
   "id": "5efd155c",
   "metadata": {},
   "outputs": [],
   "source": [
    "u1  # Se visualiza el vector u1.\n"
   ]
  },
  {
   "cell_type": "code",
   "execution_count": null,
   "id": "4ef867d3",
   "metadata": {
    "scrolled": true
   },
   "outputs": [],
   "source": [
    "u2  # Se visualiza el vector u2.\n"
   ]
  },
  {
   "cell_type": "code",
   "execution_count": null,
   "id": "3d7c47ca",
   "metadata": {},
   "outputs": [],
   "source": [
    "# El producto punto de u1 y u2.\n",
    "np.dot(u1, u2)\n"
   ]
  },
  {
   "cell_type": "markdown",
   "id": "78efd928",
   "metadata": {},
   "source": [
    "**Usando sympy**"
   ]
  },
  {
   "cell_type": "code",
   "execution_count": null,
   "id": "4b8d683a",
   "metadata": {},
   "outputs": [],
   "source": [
    "# Se crean algunas variables simbólicas\n",
    "a1, a2, a3, b1, b2, b3 = sp.symbols(\"a_1 a_2 a_3 b_1 b_2 b_3\")\n",
    "\n",
    "# Se crean los vectores v1 y v2 con las variables simbólicas disponibles.\n",
    "v1 = sp.Matrix([a1, a2, a3])\n",
    "v2 = sp.Matrix([b1, b2, b3])\n"
   ]
  },
  {
   "cell_type": "code",
   "execution_count": null,
   "id": "5ed82878",
   "metadata": {},
   "outputs": [],
   "source": [
    "v1  # Se visualiza el vector v1.\n"
   ]
  },
  {
   "cell_type": "code",
   "execution_count": null,
   "id": "35e35fd2",
   "metadata": {},
   "outputs": [],
   "source": [
    "v2  # Se visualiza el vector v2.\n"
   ]
  },
  {
   "cell_type": "code",
   "execution_count": null,
   "id": "1e97c78c",
   "metadata": {},
   "outputs": [],
   "source": [
    "# El producto punto de v1 y v2.\n",
    "v1.dot(v2)  # Es lo mismo que v2.dot(v1) \n"
   ]
  },
  {
   "cell_type": "code",
   "execution_count": null,
   "id": "5d944d69",
   "metadata": {},
   "outputs": [],
   "source": [
    "# El producto cruz de v1 y v2.\n",
    "v3 = v1.cross(v2)\n",
    "\n",
    "v3  # Se imprime v3.\n"
   ]
  },
  {
   "cell_type": "code",
   "execution_count": null,
   "id": "321a7588",
   "metadata": {},
   "outputs": [],
   "source": [
    "# El producto punto de v1 y v3.\n",
    "v1.dot(v3)  # Debería dar 0.\n"
   ]
  },
  {
   "cell_type": "code",
   "execution_count": null,
   "id": "cf92feaf",
   "metadata": {},
   "outputs": [],
   "source": [
    "sp.simplify(v1.dot(v3))  # Se usa el comando \"simplify\".\n"
   ]
  },
  {
   "cell_type": "code",
   "execution_count": null,
   "id": "7b60dd9a",
   "metadata": {},
   "outputs": [],
   "source": [
    "# El producto punto de v2 y v2.\n",
    "sp.simplify(v2.dot(v3))\n"
   ]
  },
  {
   "cell_type": "markdown",
   "id": "5345665e",
   "metadata": {},
   "source": [
    "**Resumen de conocimientos**\n",
    "- Lo más básico de Python\n",
    "- Formas de definir matrices\n",
    "- Modificación de elementos\n",
    "- Operaciones con matrices y vectores\n"
   ]
  },
  {
   "cell_type": "markdown",
   "id": "ff9f75c8",
   "metadata": {},
   "source": [
    "**Resumen de comandos usados**\n",
    "- +\n",
    "- -\n",
    "- *\n",
    "- /\n",
    "- //\n",
    "- %\n",
    "- **\n",
    "- +=\n",
    "- ==\n",
    "- !=\n",
    "- print()\n",
    "- type()\n",
    "- len()\n",
    "- for \\_\\_ in \\_\\_ :\n",
    "- np.array()\n",
    "- \\_\\_.shape\n",
    "- np.ones()\n",
    "- np.zeros()\n",
    "- np.empty()\n",
    "- dtype\n",
    "- np.identitity()\n",
    "- np.eye()\n",
    "- sp.Array()\n",
    "- sp.Matrix()\n",
    "- sp.zeros()\n",
    "- sp.ones()\n",
    "- sp.eye()\n",
    "- sp.diag()\n",
    "- \\_\\_, \\_\\_ = sp.symbols('\\_\\_ \\_\\_')\n",
    "- np.linalg.det()\n",
    "- np.linalg.inv()\n",
    "- \\_\\_.det()\n",
    "- \\_\\_.inv()\n",
    "- \\_\\_.T\n",
    "- sp.collect()\n",
    "- np.dot(\\_\\_, \\_\\_)\n",
    "- \\_\\_.dot(\\_\\_)\n",
    "- \\_\\_.cross(\\_\\_ )"
   ]
  }
 ],
 "metadata": {
  "kernelspec": {
   "display_name": "Python 3",
   "language": "python",
   "name": "python3"
  },
  "language_info": {
   "codemirror_mode": {
    "name": "ipython",
    "version": 3
   },
   "file_extension": ".py",
   "mimetype": "text/x-python",
   "name": "python",
   "nbconvert_exporter": "python",
   "pygments_lexer": "ipython3",
   "version": "3.8.8"
  }
 },
 "nbformat": 4,
 "nbformat_minor": 5
}
