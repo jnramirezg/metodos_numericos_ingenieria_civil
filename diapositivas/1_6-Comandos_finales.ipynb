{
 "cells": [
  {
   "cell_type": "markdown",
   "id": "c9c0b2c2",
   "metadata": {},
   "source": [
    "### Comandos importantes\n",
    "- np.linalg.solve()\n",
    "- scipy.linalg.solve()\n",
    "- Descomposición de Cholesky en numpy\n",
    "- Descomposición LU en scipy scipy.linalg.lu()\n",
    "- Solve de scipy\n"
   ]
  },
  {
   "cell_type": "code",
   "execution_count": 5,
   "id": "12ffd8e2",
   "metadata": {},
   "outputs": [],
   "source": [
    "import numpy as np\n",
    "import sympy as sp\n",
    "\n",
    "a = np.array([[1, 2], [3, 5]])\n",
    "b = np.array([1, 2])\n",
    "x = np.linalg.solve(a, b)"
   ]
  },
  {
   "cell_type": "code",
   "execution_count": 3,
   "id": "183dbf79",
   "metadata": {},
   "outputs": [
    {
     "data": {
      "text/plain": [
       "array([-1.,  1.])"
      ]
     },
     "execution_count": 3,
     "metadata": {},
     "output_type": "execute_result"
    }
   ],
   "source": [
    "x"
   ]
  },
  {
   "cell_type": "code",
   "execution_count": 4,
   "id": "5628e7f9",
   "metadata": {},
   "outputs": [
    {
     "data": {
      "text/plain": [
       "True"
      ]
     },
     "execution_count": 4,
     "metadata": {},
     "output_type": "execute_result"
    }
   ],
   "source": [
    "np.allclose(np.dot(a, x), b)"
   ]
  },
  {
   "cell_type": "markdown",
   "id": "77f4076d",
   "metadata": {},
   "source": [
    "### Otros comandos utiles en aplicaciones de álgebra lineal.\n",
    "\n",
    "- Norma\n",
    "- Valores y vectores propios\n"
   ]
  },
  {
   "cell_type": "code",
   "execution_count": null,
   "id": "99eb9b41",
   "metadata": {},
   "outputs": [],
   "source": []
  }
 ],
 "metadata": {
  "kernelspec": {
   "display_name": "Python 3",
   "language": "python",
   "name": "python3"
  },
  "language_info": {
   "codemirror_mode": {
    "name": "ipython",
    "version": 3
   },
   "file_extension": ".py",
   "mimetype": "text/x-python",
   "name": "python",
   "nbconvert_exporter": "python",
   "pygments_lexer": "ipython3",
   "version": "3.8.8"
  }
 },
 "nbformat": 4,
 "nbformat_minor": 5
}
