{
 "cells": [
  {
   "cell_type": "markdown",
   "id": "33d8eb08-b613-49bf-8a2f-b9b7e32e3af7",
   "metadata": {},
   "source": [
    "# **4101553 Métodos Numéricos aplicados a la Ingenieria Civil**\n",
    "\n",
    "Departamento de Ingeniería Civil\n",
    "\n",
    "Universidad Nacional de Colombia\n",
    "\n",
    "Sede Manizales\n",
    "\n",
    "**Docente:** Juan Nicolás Ramírez Giraldo ([jnramirezg@unal.edu.co](mailto:jnramirezg@unal.edu.co))\n",
    "\n",
    "\n",
    "\"*Cum cogitaveris quot te antecedant, respice quot sequantur*\"\n",
    "\n",
    "**Séneca**\n",
    "\n",
    "\n",
    "[Repositorio de la asignatura](https://github.com/jnramirezg/metodos_numericos_ingenieria_civil/)"
   ]
  },
  {
   "cell_type": "markdown",
   "id": "d264d0f1-9321-42c5-9a04-d0876d7cc017",
   "metadata": {},
   "source": [
    "## **Descomposición LU (dootlitlle)**"
   ]
  },
  {
   "cell_type": "markdown",
   "id": "38cd1723-eb82-46bd-a59b-b96f02cbc952",
   "metadata": {},
   "source": [
    "Es un método de descomposición de matrices cuadradas."
   ]
  },
  {
   "cell_type": "markdown",
   "id": "6d23e841-b76c-4eb1-aa2f-500705a4ace6",
   "metadata": {},
   "source": [
    "Sea $\\underline{\\underline{A}}$ una matriz cuadrada de orden $n$, se descompone como:\n",
    "\n",
    "$\\underline{\\underline{A}}=\\underline{\\underline{L}}$ $\\underline{\\underline{U}}$\n",
    "\n",
    "En donde:\n",
    "\n",
    "$\\underline{\\underline{L}}$ es una matriz triangular inferior.\n",
    "\n",
    "$\\underline{\\underline{U}}$ es una matriz triangular superior.\n"
   ]
  },
  {
   "cell_type": "markdown",
   "id": "4febf18a-f479-4309-ab10-2f698b1c07e1",
   "metadata": {},
   "source": [
    "Su uso se extiende a dos objetivos:\n",
    "\n",
    "- Solución de sistemas de ecuaciones lineales.\n",
    "- Cálculo de la inversa de una matriz.\n",
    "\n",
    "Particularmente, se puede realizar la descomposición a partir del método de Gauss. Y su gran utilidad está en la solución de sistemas de ecuaciones donde los coeficientes constantes ($\\underline{\\underline{A}}$) **no cambian**, pero el vector de constantes ($\\underline{A}$ puede tomar distintos valores.\n",
    "\n",
    "Una matriz $\\underline{\\underline{A}}$ solo se puede descomponer si no es singular, es decir, $|\\underline{\\underline{A}}| \\neq 0$ \n"
   ]
  },
  {
   "cell_type": "markdown",
   "id": "f79d18ad",
   "metadata": {},
   "source": [
    "Dada una matriz cuadrada de orden 3:\n",
    "\n",
    "$\\underline{\\underline{A}}$=\n",
    "$\\begin{bmatrix}\n",
    "a_{11} & a_{12}& a_{13}\\\\\n",
    "a_{21} & a_{22}& a_{23}\\\\\n",
    "a_{31} & a_{32}& a_{33}\n",
    "\\end{bmatrix}$\n",
    "\n",
    "Su descomposición en las matrices $\\underline{\\underline{L}}$ y $\\underline{\\underline{U}}$ es:\n",
    "\n",
    "$\\underline{\\underline{L}}$=\n",
    "$\\begin{bmatrix}\n",
    "1      &      0& 0\\\\\n",
    "l_{21} &      1& 0\\\\\n",
    "l_{31} & l_{32}& 1\n",
    "\\end{bmatrix}$\n",
    "\n",
    "\n",
    "$\\underline{\\underline{U}}$=\n",
    "$\\begin{bmatrix}\n",
    "u_{11} & u_{12}& u_{13}\\\\\n",
    "0 & u_{22}& u_{23}\\\\\n",
    "0 & 0& u_{33}\n",
    "\\end{bmatrix}$\n",
    "\n",
    "Aquí, los escalares $l_{21}$, $l_{31}$, $l_{31}$, $u_{11}$, $u_{12}$, $u_{13}$, $u_{22}$, $u_{23}$ y $u_{33}$ representan las 9 incógnitas que se requieren hallar para hacer la descomposición. Esta es la razón por la que la matriz $\\underline{\\underline{L}}$ tiene unos en su diagonal, y no los tiene la matriz $\\underline{\\underline{U}}$ porque no se asemeja a la eliminación de Gauss.\n"
   ]
  },
  {
   "cell_type": "markdown",
   "id": "69639181",
   "metadata": {},
   "source": [
    "**Construcción del método**\n",
    "\n",
    "El método para resolver ecuaciones lineales se puede construir a partir de la configuración matricial:\\\n",
    "$\\underline{\\underline{A}}$  $\\underline{X}=\\underline{B}$ (1)\n",
    "\n",
    "\n",
    "$\n",
    "\\begin{bmatrix}\n",
    "a_{11} & a_{12} & a_{13}\\\\\n",
    "a_{21} & a_{22} & a_{23}\\\\\n",
    "a_{31} & a_{32} & a_{33}\n",
    "\\end{bmatrix}\n",
    "\\begin{bmatrix}\n",
    "x_{1}  \\\\\n",
    "x_{2}  \\\\\n",
    "x_{3} \n",
    "\\end{bmatrix}\n",
    "=\n",
    "\\begin{bmatrix}\n",
    "b_{1}  \\\\\n",
    "b_{2}  \\\\\n",
    "b_{3} \n",
    "\\end{bmatrix}$\n",
    "\n",
    "En donde:\\\n",
    "$\\underline{\\underline{A}}$ es la matriz de coeficientes constantes.\\\n",
    "$\\underline{X}$ es el vector de incógnitas.\\\n",
    "$\\underline{B}$ es el vector de constantes.\n",
    "\n",
    "De esta manera, se puede representar $\\underline{\\underline{A}}$ como:\n",
    "\n",
    "$\\underline{\\underline{A}}$ = $\\underline{\\underline{L}}$ $\\underline{\\underline{U}}$ (2)\n",
    "\n",
    "$\\underline{\\underline{A}}=\n",
    "\\begin{bmatrix}\n",
    "1      &      0& 0\\\\\n",
    "l_{21} &      1& 0\\\\\n",
    "l_{31} & l_{32}& 1\n",
    "\\end{bmatrix}\n",
    "\\begin{bmatrix}\n",
    "u_{11} & u_{12}& u_{13}\\\\\n",
    "0 & u_{22}& u_{23}\\\\\n",
    "0 & 0& u_{33}\n",
    "\\end{bmatrix}$\n",
    "\n",
    "Y al vector $\\underline{B}$ como la multiplicación de la matriz $\\underline{\\underline{L}}$ y un nuevo vector $\\underline{D}$:\n",
    "\n",
    "$\\underline{B}$ = $\\underline{\\underline{L}}$ $\\underline{D}$ (3)\n",
    "\n",
    "$\\underline{B}=\n",
    "\\begin{bmatrix}\n",
    "1      &      0& 0\\\\\n",
    "l_{21} &      1& 0\\\\\n",
    "l_{31} & l_{32}& 1\n",
    "\\end{bmatrix}\n",
    "\\begin{bmatrix}\n",
    "d_{1}  \\\\\n",
    "d_{2}  \\\\\n",
    "d_{3} \n",
    "\\end{bmatrix}$"
   ]
  },
  {
   "cell_type": "markdown",
   "id": "0aec22a8",
   "metadata": {},
   "source": [
    "Ecuacuciones disponibles:\n",
    "\n",
    "$\\underline{\\underline{A}}$  $\\underline{X}=\\underline{B}$ (1)\n",
    "\n",
    "$\\underline{\\underline{A}}$ = $\\underline{\\underline{L}}$ $\\underline{\\underline{U}}$ (2)\n",
    "\n",
    "$\\underline{B}$ = $\\underline{\\underline{L}}$ $\\underline{D}$ (3)"
   ]
  },
  {
   "cell_type": "markdown",
   "id": "4e42f4c0",
   "metadata": {},
   "source": [
    "Luego, al igualar la ecuación (1) a $\\underline{0}$, se obtiene:\n",
    "\n",
    "$\\underline{\\underline{A}}$ $\\underline{X} - \\underline{B} = \\underline{0}$\n",
    "\n",
    "Se reemplaza $\\underline{\\underline{A}}$ por $\\underline{\\underline{L}}$ $\\underline{\\underline{U}}$ de acuerdo a (2):\n",
    "\n",
    "$\\underline{\\underline{L}}$ $\\underline{\\underline{U}}$ $\\underline{X} - \\underline{B} = \\underline{0}$\n",
    "\n",
    "Y se reemplaza $\\underline{B}$ por $\\underline{\\underline{L}}$ $\\underline{D}$ de acuerdo con (3):\n",
    "\n",
    "$\\underline{\\underline{L}}$ $\\underline{\\underline{U}}$ $\\underline{X} - \\underline{\\underline{L}}$ $\\underline{D} = \\underline{0}$\n",
    "\n",
    "Se \"factoriza\" $\\underline{\\underline{L}}$. \n",
    "\n",
    "$\\underline{\\underline{L}}$ ($\\underline{\\underline{U}}$ $\\underline{X}-$ $\\underline{D}) = \\underline{0}$\n",
    "\n",
    "\n",
    "Y aquí, la única posibilidad es que $\\underline{\\underline{U}}$ $\\underline{X}-$ $\\underline{D} = \\underline{0}$, es decir:\n",
    "\n",
    "$\\underline{\\underline{U}}$ $\\underline{X}=\\underline{D}$\n",
    "\n",
    "Por lo que se obtienen las dos ecuaciones fundamentales del método:\n",
    "\n",
    "$\\underline{\\underline{L}}$ $\\underline{D}$ = $\\underline{B}$\\\n",
    "$\\underline{\\underline{U}}$ $\\underline{X} = $ $\\underline{D}$\n",
    "\n",
    "Ya que $\\underline{\\underline{L}}$ es una matriz triangular inferior, $\\underline{D}$ se halla con **sustución hacia adelante**, y al tener $\\underline{D}$, de la segunda ecuación se despeja $\\underline{X}$ con **sustitución hacia atrás**.\n"
   ]
  },
  {
   "cell_type": "markdown",
   "id": "3248c6b4-c317-444b-bdfd-9524f620d024",
   "metadata": {},
   "source": [
    "**Algunas Propiedades**\n",
    "1. $|\\underline{\\underline{A}}|$ = $|\\underline{\\underline{L}}|$ $|\\underline{\\underline{U}}|$\n",
    "2. $\\underline{\\underline{A}}^{-1}$ = $\\underline{\\underline{U}}^{-1}$ $\\underline{\\underline{L}}^{-1}$"
   ]
  },
  {
   "cell_type": "markdown",
   "id": "32bcf73d",
   "metadata": {},
   "source": [
    "### **Desarrollo de función en Python con Numpy de descomposición LU**"
   ]
  },
  {
   "cell_type": "markdown",
   "id": "56ccc1d2",
   "metadata": {},
   "source": [
    "Se importa el módulo `Numpy`\n"
   ]
  },
  {
   "cell_type": "code",
   "execution_count": 1,
   "id": "14e2424d-ff70-4096-8cf5-f21ff80fb760",
   "metadata": {},
   "outputs": [],
   "source": [
    "import numpy as np\n"
   ]
  },
  {
   "cell_type": "markdown",
   "id": "11d4e96d-e856-4acb-9d08-96d37712e822",
   "metadata": {},
   "source": [
    "Descomposición de la Matriz A en las matrices L y U con el método de la eliminación de Gauus. La matriz A se debe ingresar como una lista de listas. El programa por dentro requiere el módulo numpy. Devuelve L y U como"
   ]
  },
  {
   "cell_type": "code",
   "execution_count": 2,
   "id": "222f36f0",
   "metadata": {},
   "outputs": [],
   "source": [
    "def np_descomposicion_LU(A):\n",
    "    m = len(A)\n",
    "    L = np.eye(m, dtype=float)    # Se crea L como una matriz identidad.\n",
    "    U = np.array(A, dtype=float)  # Se crea U como una copia de A.\n",
    "    \n",
    "    for k in range(m):\n",
    "        U1 = np.array([f[:] for f in U])  # Copia de la matriz.\n",
    "        for i in range(k+1, m):\n",
    "           for j in range(m):\n",
    "                pivote = U[k, k]\n",
    "                U1[i, j] += -U[i, k]/pivote * U[k, j]\n",
    "                if j==k:\n",
    "                   L[i, j] = U[i, k]/pivote           \n",
    "        U = U1\n",
    "    \n",
    "    return L, U"
   ]
  },
  {
   "cell_type": "markdown",
   "id": "9c92e07b-156d-4a44-a2cf-065e5a6fce30",
   "metadata": {},
   "source": [
    "Ejemplo 1:"
   ]
  },
  {
   "cell_type": "code",
   "execution_count": 3,
   "id": "c4bd9843-e774-42f6-bbba-8096b6936c8f",
   "metadata": {},
   "outputs": [],
   "source": [
    "A = [[ 2,  1, -1,  2],\n",
    "     [ 4,  5, -3,  6],\n",
    "     [-2,  5, -2,  6],\n",
    "     [ 4, 11, -4,  8]]\n",
    "\n",
    "L, U = np_descomposicion_LU(A)"
   ]
  },
  {
   "cell_type": "code",
   "execution_count": 4,
   "id": "8267ccaa-0859-44c2-8f63-5b80ec0f54e9",
   "metadata": {},
   "outputs": [
    {
     "data": {
      "text/plain": [
       "array([[ 1.,  0.,  0.,  0.],\n",
       "       [ 2.,  1.,  0.,  0.],\n",
       "       [-1.,  2.,  1.,  0.],\n",
       "       [ 2.,  3., -1.,  1.]])"
      ]
     },
     "execution_count": 4,
     "metadata": {},
     "output_type": "execute_result"
    }
   ],
   "source": [
    "L"
   ]
  },
  {
   "cell_type": "code",
   "execution_count": 5,
   "id": "bfbab851-f8f4-49ea-ab1f-c1b97b2338a0",
   "metadata": {},
   "outputs": [
    {
     "data": {
      "text/plain": [
       "array([[ 2.,  1., -1.,  2.],\n",
       "       [ 0.,  3., -1.,  2.],\n",
       "       [ 0.,  0., -1.,  4.],\n",
       "       [ 0.,  0.,  0.,  2.]])"
      ]
     },
     "execution_count": 5,
     "metadata": {},
     "output_type": "execute_result"
    }
   ],
   "source": [
    "U"
   ]
  },
  {
   "cell_type": "code",
   "execution_count": 6,
   "id": "fba859d1-da98-4170-bdd2-801858fdf112",
   "metadata": {},
   "outputs": [
    {
     "data": {
      "text/plain": [
       "array([[0., 0., 0., 0.],\n",
       "       [0., 0., 0., 0.],\n",
       "       [0., 0., 0., 0.],\n",
       "       [0., 0., 0., 0.]])"
      ]
     },
     "execution_count": 6,
     "metadata": {},
     "output_type": "execute_result"
    }
   ],
   "source": [
    "L@U - A"
   ]
  },
  {
   "cell_type": "markdown",
   "id": "2588aa1e-dfd3-4d27-b9b3-5edba3b6a035",
   "metadata": {},
   "source": [
    "Ejemplo 2:"
   ]
  },
  {
   "cell_type": "code",
   "execution_count": 7,
   "id": "f2306ec7-a783-4652-9a70-8651d00664bc",
   "metadata": {},
   "outputs": [],
   "source": [
    "A = [[ 1, 1],\n",
    "     [-1, 1]]\n",
    "\n",
    "L, U = np_descomposicion_LU(A)"
   ]
  },
  {
   "cell_type": "code",
   "execution_count": 8,
   "id": "168482a7-8048-431c-ac7f-4b42790787b8",
   "metadata": {},
   "outputs": [
    {
     "data": {
      "text/plain": [
       "array([[ 1.,  0.],\n",
       "       [-1.,  1.]])"
      ]
     },
     "execution_count": 8,
     "metadata": {},
     "output_type": "execute_result"
    }
   ],
   "source": [
    "L"
   ]
  },
  {
   "cell_type": "code",
   "execution_count": 9,
   "id": "6666376f-7962-4534-bf5d-0ec0b19771c1",
   "metadata": {},
   "outputs": [
    {
     "data": {
      "text/plain": [
       "array([[1., 1.],\n",
       "       [0., 2.]])"
      ]
     },
     "execution_count": 9,
     "metadata": {},
     "output_type": "execute_result"
    }
   ],
   "source": [
    "U"
   ]
  },
  {
   "cell_type": "code",
   "execution_count": 10,
   "id": "e479f3b1-93a9-403f-9692-22c1c82c4d21",
   "metadata": {},
   "outputs": [
    {
     "data": {
      "text/plain": [
       "array([[0., 0.],\n",
       "       [0., 0.]])"
      ]
     },
     "execution_count": 10,
     "metadata": {},
     "output_type": "execute_result"
    }
   ],
   "source": [
    "L@U - A"
   ]
  },
  {
   "cell_type": "markdown",
   "id": "43e80ec6-7d17-47f2-b823-ce5ca1237ba0",
   "metadata": {},
   "source": [
    "### **Solución de sistemas de ecuaciones lineales con descomposición LU**"
   ]
  },
  {
   "cell_type": "markdown",
   "id": "04a3917d-2cc7-4335-8726-0a16dbc7126b",
   "metadata": {},
   "source": [
    "Para realizar la solución de un sistema de ecuaciones lineales mediante una descomposición LU se requiere considerar las mismas fuentes de error que en la eliminación de Gauss y la eliminación de Gauss-Jordan.\n",
    "\n",
    "    for j in range(m):\n",
    "        pivote = U[k, k]\n",
    "        U1[i, j] += -U[i, k]/pivote * U[k, j]\n",
    "        if j==k:\n",
    "            L[i, j] = U[i, k]/pivote\n",
    "\n",
    "Por lo tanto, para el desarrollo de una función que use la descomposición LU como mecanismo de solución de sistemas de ecuaciones lineales, se requiere considerar los casos de **sistema singular** y de **pivoteo parcial** ya vistos."
   ]
  },
  {
   "cell_type": "markdown",
   "id": "fe152d91-a102-4c55-aeef-f09399310a39",
   "metadata": {},
   "source": [
    "En algunas referencias bibliográficas se menciona el método PLU que, en últimas es una formalidad de la **solución con pivoteo parcial**.\n",
    "\n",
    "Miremos el siguiente ejemplo.\n",
    "\n",
    "Dada una matriz aumentada $\\underline{\\underline{S}}$ de tamaño 3."
   ]
  },
  {
   "cell_type": "code",
   "execution_count": 11,
   "id": "8a27f717-9de6-4f4e-a9fe-5f4f60b22004",
   "metadata": {},
   "outputs": [],
   "source": [
    "S = np.array([[1,  2,  3,  4],\n",
    "              [5,  6,  7,  8],\n",
    "              [9, 10, 11, 12]])\n"
   ]
  },
  {
   "cell_type": "markdown",
   "id": "5321fe5b-9728-454d-8eaf-06c36d3a90ac",
   "metadata": {},
   "source": [
    "Si se requiere realizar **pivoteo parcial** respecto al primer elemento de la diagonal, se identifica que la operación más conveniente es el intercambio de la fila 3 por la fila 1. Esta operación, en términos formales se puede representar como: $\\underline{\\underline{P}}$ $\\underline{\\underline{S}}$, donde P es:"
   ]
  },
  {
   "cell_type": "code",
   "execution_count": 12,
   "id": "f300e10e-a52d-482a-9524-1ea1c4a91c27",
   "metadata": {},
   "outputs": [],
   "source": [
    "P = np.array([[0, 0, 1],\n",
    "              [0, 1, 0],\n",
    "              [1, 0, 0]])"
   ]
  },
  {
   "cell_type": "markdown",
   "id": "a1ca2811-1fd6-4e96-ba67-0605c4cbfc91",
   "metadata": {},
   "source": [
    "Con esto:"
   ]
  },
  {
   "cell_type": "code",
   "execution_count": 13,
   "id": "b11653a2-45c3-4732-b8b8-216b440c1271",
   "metadata": {},
   "outputs": [
    {
     "data": {
      "text/plain": [
       "array([[ 9, 10, 11, 12],\n",
       "       [ 5,  6,  7,  8],\n",
       "       [ 1,  2,  3,  4]])"
      ]
     },
     "execution_count": 13,
     "metadata": {},
     "output_type": "execute_result"
    }
   ],
   "source": [
    "P@S"
   ]
  },
  {
   "cell_type": "markdown",
   "id": "cd4913f1-82e9-4685-8f61-d63e8985c818",
   "metadata": {},
   "source": [
    "Nótese que si se premultiplica la matriz $\\underline{\\underline{S}}$ con $\\underline{\\underline{P}}$, el resultado será un intercambio de filas."
   ]
  },
  {
   "cell_type": "markdown",
   "id": "8587cf0e-10f8-42f8-b45d-9f620d8d5559",
   "metadata": {},
   "source": [
    "¿Qué ocurre si $\\underline{\\underline{S}}$ se posmultiplica?"
   ]
  },
  {
   "cell_type": "markdown",
   "id": "75d469a1-031b-4898-8025-04bf156c7cd4",
   "metadata": {},
   "source": [
    "Se genera un error, porque no se puede multiplicar una matriz de 3x4 con una de 3x3, sí al revés."
   ]
  },
  {
   "cell_type": "code",
   "execution_count": 15,
   "id": "fb78ba41-cedc-4ce9-ae59-1b01eb040463",
   "metadata": {},
   "outputs": [],
   "source": [
    "# Ejemplo 1.\n",
    "# Matriz de coeficientes constantes.\n",
    "A = [[ 1, -2,  1,  3],\n",
    "     [ 3,  1, -4, -2],\n",
    "     [ 2,  2, -1, -1],\n",
    "     [ 1,  4,  2, -5]]\n",
    "# Vector de constantes.\n",
    "B = [-3, 7, 1, 12]"
   ]
  },
  {
   "cell_type": "code",
   "execution_count": 16,
   "id": "779afe46-473a-4bf0-a9d3-14a1fb31ad0e",
   "metadata": {},
   "outputs": [],
   "source": [
    "L, U = np_descomposicion_LU(A)  # Descomposición LU de A.\n",
    "B = np.array([B]).T             # Se convierte B en un np.array de dim adecuada\n",
    "m = len(A)                      # Tamaño del sistema."
   ]
  },
  {
   "cell_type": "code",
   "execution_count": 17,
   "id": "b1c81109-165d-4452-88af-68d054c2186c",
   "metadata": {},
   "outputs": [],
   "source": [
    "# Sustitución hacia adelante.\n",
    "S1 = np.append(L, B, axis=1)    # Matriz aumentada para el sistema LD=B\n",
    "for i in range(m):\n",
    "    for j in range(i+1, m):\n",
    "        S1[j, :] = S1[j, :] - S1[i, :]*S1[j, i]\n",
    "D = np.array([S1[:, -1]]).T"
   ]
  },
  {
   "cell_type": "code",
   "execution_count": 18,
   "id": "c4574082-89a2-4384-9b84-aa54833658c0",
   "metadata": {},
   "outputs": [],
   "source": [
    "# Sustitución hacia atrás.\n",
    "S2 =  np.append(U, D, axis=1)   # Matriz aumentada para el sistema UX=D\n",
    "for i in range(m):\n",
    "    for j in range(i+1, m):\n",
    "        p = m-i-1               # Conteo hacia atrás en i.\n",
    "        q = m-j-1               # Conteo hacia adelante en j.\n",
    "        S2[q] = S2[q] - S2[p, :]*S2[q, p]/S2[p, p]        \n",
    "    S2[p, :] =  S2[p, :]/S2[p, p]\n",
    "X = S2[:, -1]"
   ]
  },
  {
   "cell_type": "code",
   "execution_count": 19,
   "id": "21883a05-b1ad-4a6f-9d88-7806a81d2b60",
   "metadata": {},
   "outputs": [
    {
     "name": "stdout",
     "output_type": "stream",
     "text": [
      "[ 2. -3.  1. -4.]\n"
     ]
    }
   ],
   "source": [
    "# Impresión de resultados.\n",
    "print(X)"
   ]
  },
  {
   "cell_type": "markdown",
   "id": "1d1923c6",
   "metadata": {},
   "source": [
    "### **Inversión de matrices a partir de la descomposición LU**"
   ]
  },
  {
   "cell_type": "code",
   "execution_count": null,
   "id": "1da2ecd0-1258-4420-96eb-4f4d9c3846be",
   "metadata": {},
   "outputs": [],
   "source": []
  },
  {
   "cell_type": "code",
   "execution_count": null,
   "id": "a3b79bc5-70a7-475b-a938-a3315123f73c",
   "metadata": {},
   "outputs": [],
   "source": []
  },
  {
   "cell_type": "code",
   "execution_count": null,
   "id": "5f08d2ae-a9fe-4021-aa11-75c03b24b183",
   "metadata": {},
   "outputs": [],
   "source": []
  },
  {
   "cell_type": "markdown",
   "id": "6098e346",
   "metadata": {},
   "source": [
    "## **Descomposición de Cholesky**\n",
    "Es un método de descomposición de matrices cuadradas y simétricas.\n",
    "\n",
    "Para el renglón $k$-ésimo,\n",
    "\n",
    "$l_{ki}=\\displaystyle\\frac{a_{ki}-\\displaystyle\\sum_{j=1}^{i-1}l_{ij}l_{kj}}{l_{ii}}$ para $i$=1,2,...,$k-1$\n",
    "\n",
    "y\n",
    "\n",
    "$l_{kk}=\\sqrt{a_{kk}-\\displaystyle\\sum_{j=1}^{k-1}l_{kj}^{2}}$\n",
    "\n",
    "La matriz debe ser Hermítica y definida positiva.\n",
    "\n",
    "$\\underline{\\underline{A}}$ = $\\underline{\\underline{L}}$ $\\underline{\\underline{L}}^T$\n"
   ]
  },
  {
   "cell_type": "code",
   "execution_count": null,
   "id": "db452fb7-7a96-439f-beed-6fa942081406",
   "metadata": {},
   "outputs": [],
   "source": []
  }
 ],
 "metadata": {
  "kernelspec": {
   "display_name": "Python 3",
   "language": "python",
   "name": "python3"
  },
  "language_info": {
   "codemirror_mode": {
    "name": "ipython",
    "version": 3
   },
   "file_extension": ".py",
   "mimetype": "text/x-python",
   "name": "python",
   "nbconvert_exporter": "python",
   "pygments_lexer": "ipython3",
   "version": "3.8.8"
  }
 },
 "nbformat": 4,
 "nbformat_minor": 5
}
