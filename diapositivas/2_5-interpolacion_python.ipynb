{
 "cells": [
  {
   "cell_type": "markdown",
   "id": "779cb928-3e7b-424c-898b-15cd96368f51",
   "metadata": {},
   "source": [
    "**4101553 Métodos Numéricos aplicados a la Ingenieria Civil**\n",
    "-\n",
    "Departamento de Ingeniería Civil\n",
    "\n",
    "Universidad Nacional de Colombia\n",
    "\n",
    "Sede Manizales\n",
    "\n",
    "**Docente:** Juan Nicolás Ramírez Giraldo ([jnramirezg@unal.edu.co](mailto:jnramirezg@unal.edu.co))\n",
    "\n",
    "\"*Cum cogitaveris quot te antecedant, respice quot sequantur*\" (**Séneca**)\n",
    "\n",
    "\n",
    "[Repositorio de la asignatura](https://github.com/jnramirezg/metodos_numericos_ingenieria_civil/)\n",
    "\n",
    "---"
   ]
  },
  {
   "cell_type": "markdown",
   "id": "076da238-2edc-4cc7-9662-39f2babe8f30",
   "metadata": {},
   "source": [
    "**Unidad 2: Interpolación**\n",
    "-"
   ]
  },
  {
   "cell_type": "markdown",
   "id": "a625908b-4b30-44a5-aa5a-4d5f580d3b4e",
   "metadata": {},
   "source": [
    "**Contenido**\n",
    "- 2.1. Interpolación polinómica\n",
    "- 2.2. Interpolación con trazadores\n",
    "- 2.3. Interpolación en varias dimensiones\n",
    "- 2.4. Vecinos más cercanos - distancia inversa ponderada\n",
    "- 2.5. Comandos en Python de interpolación\n",
    "\n",
    "---"
   ]
  },
  {
   "cell_type": "markdown",
   "id": "eb87c48c-f864-4fef-9c52-4bc54351285b",
   "metadata": {},
   "source": [
    "# **2.5. Comandos en Python de interpolación**"
   ]
  },
  {
   "cell_type": "markdown",
   "id": "9b747e2b",
   "metadata": {},
   "source": [
    "Dentro del módulo `scipy`están disponibles en su submódulo `interpolate` diversidad de funciones que permiten realizar la interpolación de un conjunto de puntos asociados a datos.\n",
    "\n",
    "La documentación esta disponible en: https://docs.scipy.org/doc/scipy/reference/interpolate.html"
   ]
  },
  {
   "cell_type": "markdown",
   "id": "30a96074-99b1-473d-9b18-099629525d8e",
   "metadata": {},
   "source": [
    "Específicamente haremos uso de las siguientes 4 funciones, previamente estudiadas:"
   ]
  },
  {
   "cell_type": "markdown",
   "id": "186c1d79-216a-4202-bac4-840add43d130",
   "metadata": {},
   "source": [
    "- 2.5.1. `lagrange` y `barycentric_interpolate`\n",
    "- 2.5.2. `InterpolatedUnivariateSpline`\n",
    "- 2.5.3. `interp1d`\n"
   ]
  },
  {
   "cell_type": "markdown",
   "id": "e8ad4b12-6888-4c74-8b82-6dd0752b8d48",
   "metadata": {},
   "source": [
    "---"
   ]
  },
  {
   "cell_type": "markdown",
   "id": "17e4a9e5-259d-4ceb-ad71-6edf7eeacda2",
   "metadata": {},
   "source": [
    "Se importan las librerias necesarias:"
   ]
  },
  {
   "cell_type": "code",
   "execution_count": 1,
   "id": "cd6dc2e2",
   "metadata": {},
   "outputs": [],
   "source": [
    "import numpy as np\n",
    "import matplotlib.pyplot as plt"
   ]
  },
  {
   "cell_type": "markdown",
   "id": "49773a26-7803-41d0-9612-29ec22b9465d",
   "metadata": {},
   "source": [
    "Se importa de manera específica las funciones `lagrange`, `barycentric_interpolate`, `InterpolatedUnivariateSpline` y `interp1d` de `scipy`:"
   ]
  },
  {
   "cell_type": "code",
   "execution_count": 2,
   "id": "8d5061d1-2d38-439c-a787-c19269beb084",
   "metadata": {},
   "outputs": [],
   "source": [
    "from scipy.interpolate import lagrange, barycentric_interpolate, InterpolatedUnivariateSpline, interp1d"
   ]
  },
  {
   "cell_type": "markdown",
   "id": "27ada3ea",
   "metadata": {},
   "source": [
    "---"
   ]
  },
  {
   "cell_type": "markdown",
   "id": "fbac12c8",
   "metadata": {},
   "source": [
    "## **2.5.1. `lagrange` y `barycentric_interpolate`**"
   ]
  },
  {
   "cell_type": "markdown",
   "id": "70e82a8c-5a8b-4847-8c4f-f090ef04a987",
   "metadata": {},
   "source": [
    "Estas funciones realizan la interpolación polinómica previamente vista, teniendo en cuenta que el polinomio que se obtiene es único independientemente del método usado.\n",
    "\n",
    "Es importante recordar que para un conjunto de $n+1$ puntos, el polinomio interpolador obtenido es de grado $n$.\n",
    "\n"
   ]
  },
  {
   "cell_type": "markdown",
   "id": "f964424d-d154-41c9-b16d-db836b1122c3",
   "metadata": {},
   "source": [
    "---"
   ]
  },
  {
   "cell_type": "markdown",
   "id": "627ea276-6751-4db0-b03b-0bb9daca0c3e",
   "metadata": {},
   "source": [
    "Ejemplo 1:"
   ]
  },
  {
   "cell_type": "code",
   "execution_count": 3,
   "id": "d1564beb",
   "metadata": {},
   "outputs": [],
   "source": [
    "# Dado un conjunto de 4 puntos:\n",
    "xp = [1.0, 2.0, 3.0,  4.0]\n",
    "yp = [1.0, 3.0, 2.0, 15.0]"
   ]
  },
  {
   "cell_type": "code",
   "execution_count": 4,
   "id": "c8ec6571",
   "metadata": {},
   "outputs": [
    {
     "data": {
      "text/plain": [
       "poly1d([  2.83333333, -18.5       ,  37.66666667, -21.        ])"
      ]
     },
     "execution_count": 4,
     "metadata": {},
     "output_type": "execute_result"
    }
   ],
   "source": [
    "# La función lagrange arroja el polinomio interpolador.\n",
    "lagrange(xp, yp)"
   ]
  },
  {
   "cell_type": "code",
   "execution_count": 5,
   "id": "e8b48ac3-808c-46cf-85c6-0613120cfeaa",
   "metadata": {},
   "outputs": [],
   "source": [
    "pol = lagrange(xp, yp)  # Se almacena el polinomio"
   ]
  },
  {
   "cell_type": "code",
   "execution_count": 6,
   "id": "623fc8bc",
   "metadata": {},
   "outputs": [
    {
     "data": {
      "text/plain": [
       "numpy.poly1d"
      ]
     },
     "execution_count": 6,
     "metadata": {},
     "output_type": "execute_result"
    }
   ],
   "source": [
    "type(pol)  # Se verifica el tipo de elemento."
   ]
  },
  {
   "cell_type": "markdown",
   "id": "a206070a-0879-47d2-afcd-efbf9eb455d4",
   "metadata": {},
   "source": [
    "---"
   ]
  },
  {
   "cell_type": "markdown",
   "id": "30246077-3671-4614-8473-a9f49c97ce43",
   "metadata": {},
   "source": [
    "**Extracción de info del polinomio**"
   ]
  },
  {
   "cell_type": "code",
   "execution_count": 7,
   "id": "15f700d5",
   "metadata": {},
   "outputs": [
    {
     "data": {
      "text/plain": [
       "-21.0"
      ]
     },
     "execution_count": 7,
     "metadata": {},
     "output_type": "execute_result"
    }
   ],
   "source": [
    "# Se llama el elemento del grado indicado.\n",
    "pol[0]"
   ]
  },
  {
   "cell_type": "code",
   "execution_count": 8,
   "id": "c3682e91-fe42-4048-94e7-f5897a39e743",
   "metadata": {},
   "outputs": [
    {
     "data": {
      "text/plain": [
       "2.833333333333333"
      ]
     },
     "execution_count": 8,
     "metadata": {},
     "output_type": "execute_result"
    }
   ],
   "source": [
    "pol[3]"
   ]
  },
  {
   "cell_type": "code",
   "execution_count": 9,
   "id": "4ca6cc71",
   "metadata": {},
   "outputs": [
    {
     "data": {
      "text/plain": [
       "0"
      ]
     },
     "execution_count": 9,
     "metadata": {},
     "output_type": "execute_result"
    }
   ],
   "source": [
    "pol[100]"
   ]
  },
  {
   "cell_type": "markdown",
   "id": "3d38daad-30a3-4f9d-a0e1-9ec7104702a2",
   "metadata": {},
   "source": [
    "---"
   ]
  },
  {
   "cell_type": "markdown",
   "id": "6a7e8e4d-2dc9-452f-b3b9-bcecf1ebf40e",
   "metadata": {},
   "source": [
    "**Evaluación del polinomio**\n"
   ]
  },
  {
   "cell_type": "code",
   "execution_count": 10,
   "id": "51151d9c-eea3-48d3-8d52-73ba932f2a90",
   "metadata": {},
   "outputs": [
    {
     "data": {
      "text/plain": [
       "1.0000000000000036"
      ]
     },
     "execution_count": 10,
     "metadata": {},
     "output_type": "execute_result"
    }
   ],
   "source": [
    "pol(1)"
   ]
  },
  {
   "cell_type": "code",
   "execution_count": 11,
   "id": "5e0a4d91-f000-42de-bfd4-ea8272fc5bdb",
   "metadata": {},
   "outputs": [
    {
     "data": {
      "text/plain": [
       "2652079.0"
      ]
     },
     "execution_count": 11,
     "metadata": {},
     "output_type": "execute_result"
    }
   ],
   "source": [
    "pol(100)"
   ]
  },
  {
   "cell_type": "code",
   "execution_count": 12,
   "id": "1594675b-edeb-4def-947c-23b3835c0847",
   "metadata": {},
   "outputs": [
    {
     "data": {
      "text/plain": [
       "array([ 1.,  3.,  2., 15.])"
      ]
     },
     "execution_count": 12,
     "metadata": {},
     "output_type": "execute_result"
    }
   ],
   "source": [
    "pol([1.0, 2.0, 3.0,  4.0])"
   ]
  },
  {
   "cell_type": "markdown",
   "id": "87d2e300-0e64-4878-b09d-f30e85a3628b",
   "metadata": {},
   "source": [
    "---"
   ]
  },
  {
   "cell_type": "code",
   "execution_count": 13,
   "id": "eaac5bb1",
   "metadata": {},
   "outputs": [],
   "source": [
    "# Se crean 1000 puntos para graficar.\n",
    "xg = np.linspace(min(xp), max(xp), 1000)\n",
    "yg = pol(xg)"
   ]
  },
  {
   "cell_type": "code",
   "execution_count": 14,
   "id": "f2c80809",
   "metadata": {
    "scrolled": true,
    "tags": []
   },
   "outputs": [
    {
     "data": {
      "text/plain": [
       "[<matplotlib.lines.Line2D at 0x21907ede100>]"
      ]
     },
     "execution_count": 14,
     "metadata": {},
     "output_type": "execute_result"
    },
    {
     "data": {
      "image/png": "[encoded data removed]",
      "text/plain": [
       "<Figure size 432x288 with 1 Axes>"
      ]
     },
     "metadata": {
      "needs_background": "light"
     },
     "output_type": "display_data"
    }
   ],
   "source": [
    "plt.plot(xg, yg, 'r')   # Gráfica de interpolación.\n",
    "plt.plot(xp, yp, 'k.')  # Puntos dados."
   ]
  },
  {
   "cell_type": "markdown",
   "id": "0e366281-4717-4f74-9c44-e2a6f9082a3b",
   "metadata": {},
   "source": [
    "---"
   ]
  },
  {
   "cell_type": "markdown",
   "id": "ce518f5a-1507-4de4-9e4e-b0e275cb9f68",
   "metadata": {},
   "source": [
    "Ejemplo 2:"
   ]
  },
  {
   "cell_type": "code",
   "execution_count": 15,
   "id": "3c1f09ee-1df5-4974-a611-29b0969d57d3",
   "metadata": {},
   "outputs": [],
   "source": [
    "# Dado un conjunto de puntos que por definición son una parábola:\n",
    "xp = np.array([-4, -3, -2, -1, 0, 1, 2, 3, 4])\n",
    "yp = xp**2"
   ]
  },
  {
   "cell_type": "code",
   "execution_count": 16,
   "id": "49d66977-8d35-4810-8527-5786ee1048a3",
   "metadata": {},
   "outputs": [
    {
     "data": {
      "text/plain": [
       "poly1d([-3.25260652e-19,  6.07153217e-18, -4.42354486e-17,  1.04083409e-16,\n",
       "       -8.32667268e-17,  9.71445147e-17,  1.00000000e+00,  8.32667268e-17,\n",
       "        0.00000000e+00])"
      ]
     },
     "execution_count": 16,
     "metadata": {},
     "output_type": "execute_result"
    }
   ],
   "source": [
    "lagrange(xp, yp)"
   ]
  },
  {
   "cell_type": "code",
   "execution_count": 17,
   "id": "9bcefbe6-6c81-4dbd-a86b-2ff7778327eb",
   "metadata": {},
   "outputs": [],
   "source": [
    "pol = lagrange(xp, yp)  # Se almacena el polinomio"
   ]
  },
  {
   "cell_type": "code",
   "execution_count": 18,
   "id": "4be0b066-1cee-4107-a46b-daf34f72ac1c",
   "metadata": {},
   "outputs": [
    {
     "data": {
      "text/plain": [
       "0"
      ]
     },
     "execution_count": 18,
     "metadata": {},
     "output_type": "execute_result"
    }
   ],
   "source": [
    "pol[9]"
   ]
  },
  {
   "cell_type": "code",
   "execution_count": 19,
   "id": "b35da3c4-6eb1-4c66-a9ec-040107ef3833",
   "metadata": {},
   "outputs": [],
   "source": [
    "# Se crea conjunto de 1000 puntos para gráficar\n",
    "xg = np.linspace(min(xp), max(xp), 1000)\n",
    "yg = pol(xg)"
   ]
  },
  {
   "cell_type": "code",
   "execution_count": 20,
   "id": "2a2c04f3-d64c-4db9-82af-621965015506",
   "metadata": {},
   "outputs": [
    {
     "data": {
      "text/plain": [
       "[<matplotlib.lines.Line2D at 0x21907fcb100>]"
      ]
     },
     "execution_count": 20,
     "metadata": {},
     "output_type": "execute_result"
    },
    {
     "data": {
      "image/png": "[encoded data removed]",
      "text/plain": [
       "<Figure size 432x288 with 1 Axes>"
      ]
     },
     "metadata": {
      "needs_background": "light"
     },
     "output_type": "display_data"
    }
   ],
   "source": [
    "plt.plot(xg, yg, 'r')   # Gráfica de interpolación.\n",
    "plt.plot(xp, yp, 'k.')  # Puntos dados."
   ]
  },
  {
   "cell_type": "markdown",
   "id": "e125cfe7",
   "metadata": {},
   "source": [
    "---"
   ]
  },
  {
   "cell_type": "markdown",
   "id": "3935a247-a299-41f3-ab62-923757357d6b",
   "metadata": {},
   "source": [
    "Ejemplo 3:"
   ]
  },
  {
   "cell_type": "markdown",
   "id": "3e3d9979",
   "metadata": {},
   "source": [
    "La función `barycentric_interpolate` genera los mismos resultados, sin embargo, no permite determinar el polinomio interpolador, sino que directamente entrega el resultado de interpolación."
   ]
  },
  {
   "cell_type": "code",
   "execution_count": 21,
   "id": "fad4974a-2cf1-4e2d-a69c-d20b1d3edc14",
   "metadata": {},
   "outputs": [],
   "source": [
    "# Dado un conjunto de puntos:\n",
    "xp = [-15, -12, -10, 0, 3, 3.5, 7, 8]\n",
    "yp = [  1,   2,   3, 4, 5,   6, 7, 8]"
   ]
  },
  {
   "cell_type": "code",
   "execution_count": 22,
   "id": "320eb09e-b3cb-4b4d-87ca-033c10ed7f51",
   "metadata": {},
   "outputs": [],
   "source": [
    "# Se crean 1000 puntos para graficar.\n",
    "xg = np.linspace(min(xp), max(xp), 1000)\n",
    "yg = barycentric_interpolate(xp, yp, xg)"
   ]
  },
  {
   "cell_type": "code",
   "execution_count": 23,
   "id": "235c3507",
   "metadata": {},
   "outputs": [
    {
     "data": {
      "text/plain": [
       "[<matplotlib.lines.Line2D at 0x2190803e550>]"
      ]
     },
     "execution_count": 23,
     "metadata": {},
     "output_type": "execute_result"
    },
    {
     "data": {
      "image/png": "[encoded data removed]",
      "text/plain": [
       "<Figure size 432x288 with 1 Axes>"
      ]
     },
     "metadata": {
      "needs_background": "light"
     },
     "output_type": "display_data"
    }
   ],
   "source": [
    "plt.plot(xg, yg, 'r')   # Gráfica de interpolación.\n",
    "plt.plot(xp, yp, 'k.')  # Puntos dados."
   ]
  },
  {
   "cell_type": "markdown",
   "id": "51d9a4f8",
   "metadata": {},
   "source": [
    "---"
   ]
  },
  {
   "cell_type": "markdown",
   "id": "c419d914-aec3-449b-b8be-bc213b857bd9",
   "metadata": {},
   "source": [
    "**Gráfica interactiva**"
   ]
  },
  {
   "cell_type": "code",
   "execution_count": 24,
   "id": "b0531b2c-61c6-442b-a72e-7a2d41e7444d",
   "metadata": {},
   "outputs": [],
   "source": [
    "def lagrange_inc(x1, x2, x3, x4, x5, x6, y1, y2, y3, y4, y5, y6):\n",
    "    xp = [x1, x2, x3, x4, x5, x6]\n",
    "    yp = [y1, y2, y3, y4, y5, y6]\n",
    "    xg = np.linspace(min(xp), max(xp), 1000)\n",
    "    yg = barycentric_interpolate(xp, yp, xg)\n",
    "    plt.plot(xg, yg, 'r')   # Gráfica de interpolación.\n",
    "    plt.plot(xp, yp, 'k.')  # Puntos dados."
   ]
  },
  {
   "cell_type": "code",
   "execution_count": 25,
   "id": "a9960b60-5c15-4f0c-9753-e9c8e1045ba2",
   "metadata": {},
   "outputs": [
    {
     "data": {
      "application/vnd.jupyter.widget-view+json": {
       "model_id": "497ca471d3c44fc09841805a1c08fa35",
       "version_major": 2,
       "version_minor": 0
      },
      "text/plain": [
       "interactive(children=(FloatSlider(value=-18.0, description='x1', max=-15.0, min=-20.0), FloatSlider(value=-13.…"
      ]
     },
     "metadata": {},
     "output_type": "display_data"
    }
   ],
   "source": [
    "from ipywidgets import interact \n",
    "interact(lagrange_inc, x1=(-20, -15, 0.1), x2=(-15, -10, 0.1), \n",
    "                       x3=(-10,  -5, 0.1), x4=( -5,   0, 0.1), \n",
    "                       x5=(  0,   5, 0.1), x6=(  5,  10, 0.1), \n",
    "                       y1=(-20, 20, 0.1), y2=(-20, 20, 0.1), \n",
    "                       y3=(-20, 20, 0.1), y4=(-20, 20, 0.1),\n",
    "                       y5=(-20, 20, 0.1), y6=(-20, 20, 0.1))\n",
    "None"
   ]
  },
  {
   "cell_type": "markdown",
   "id": "90c9889f-e069-4e2a-b86c-b7d9f5eaae31",
   "metadata": {},
   "source": [
    "---"
   ]
  },
  {
   "cell_type": "markdown",
   "id": "d4418ecb",
   "metadata": {},
   "source": [
    "## **2.2.`InterpolatedUnivariateSpline`**"
   ]
  },
  {
   "cell_type": "markdown",
   "id": "2a444278-dec8-42f6-92f5-9585b6c3496e",
   "metadata": {},
   "source": [
    "Esta función permite realizar la interpolación de un conjunto de puntos asociados a datos mediante trazadores del grado que se le indique a la función en sus argumentos."
   ]
  },
  {
   "cell_type": "markdown",
   "id": "cd896f99-3b24-49ab-8291-b156299989c0",
   "metadata": {},
   "source": [
    "Ejemplo 1: trazadores lineales (k=1)"
   ]
  },
  {
   "cell_type": "code",
   "execution_count": 26,
   "id": "43530975",
   "metadata": {},
   "outputs": [],
   "source": [
    "# Dado un conjunto de puntos:\n",
    "xp = [-15, -12, -10, 0, 3, 3.5, 7, 8]\n",
    "yp = [  1,   2,   3, 4, 5,   6, 7, 8]"
   ]
  },
  {
   "cell_type": "code",
   "execution_count": 27,
   "id": "de0d548d-62c4-476d-99b8-dd83e161b80e",
   "metadata": {},
   "outputs": [
    {
     "data": {
      "text/plain": [
       "<scipy.interpolate.fitpack2.InterpolatedUnivariateSpline at 0x21908054fa0>"
      ]
     },
     "execution_count": 27,
     "metadata": {},
     "output_type": "execute_result"
    }
   ],
   "source": [
    "# La función InterpolatedUnivariateSpline arroja una función similar a lambdify.\n",
    "InterpolatedUnivariateSpline(xp, yp, k=1)"
   ]
  },
  {
   "cell_type": "code",
   "execution_count": 28,
   "id": "72fa5ec3",
   "metadata": {},
   "outputs": [],
   "source": [
    "pol1 = InterpolatedUnivariateSpline(xp, yp, k=1)  # Se almacena la función"
   ]
  },
  {
   "cell_type": "code",
   "execution_count": 29,
   "id": "1ad740e2",
   "metadata": {},
   "outputs": [
    {
     "data": {
      "text/plain": [
       "scipy.interpolate.fitpack2.InterpolatedUnivariateSpline"
      ]
     },
     "execution_count": 29,
     "metadata": {},
     "output_type": "execute_result"
    }
   ],
   "source": [
    "type(pol1) # Se verifica el tipo de elemento."
   ]
  },
  {
   "cell_type": "code",
   "execution_count": 30,
   "id": "aae23089-6287-4ddd-bd0d-7878a68c256f",
   "metadata": {},
   "outputs": [
    {
     "data": {
      "text/plain": [
       "array([1., 2., 3., 4., 5., 6., 7., 8.])"
      ]
     },
     "execution_count": 30,
     "metadata": {},
     "output_type": "execute_result"
    }
   ],
   "source": [
    "pol1([-15, -12, -10, 0, 3, 3.5, 7, 8])"
   ]
  },
  {
   "cell_type": "code",
   "execution_count": 31,
   "id": "1b6a136e",
   "metadata": {},
   "outputs": [],
   "source": [
    "# Se crean 1000 puntos para graficar.\n",
    "xg = np.linspace(min(xp), max(xp), 1000)\n",
    "yg1 = pol1(xg)"
   ]
  },
  {
   "cell_type": "code",
   "execution_count": 32,
   "id": "51c9e89f",
   "metadata": {
    "scrolled": true
   },
   "outputs": [
    {
     "data": {
      "text/plain": [
       "[<matplotlib.lines.Line2D at 0x219081d0910>]"
      ]
     },
     "execution_count": 32,
     "metadata": {},
     "output_type": "execute_result"
    },
    {
     "data": {
      "image/png": "[encoded data removed]",
      "text/plain": [
       "<Figure size 432x288 with 1 Axes>"
      ]
     },
     "metadata": {
      "needs_background": "light"
     },
     "output_type": "display_data"
    }
   ],
   "source": [
    "plt.plot(xg, yg1, 'r')   # Gráfica de interpolación.\n",
    "plt.plot(xp, yp, 'k.')  # Puntos dados."
   ]
  },
  {
   "cell_type": "markdown",
   "id": "6e2e3b4e-9df7-49d1-96b1-99e274052c16",
   "metadata": {},
   "source": [
    "---"
   ]
  },
  {
   "cell_type": "markdown",
   "id": "a3e5525b-8f8d-41d8-b2ab-7febbce25b21",
   "metadata": {},
   "source": [
    "Ejemplo 2: trazadores cuadráticos y cúbicos (k=2,3)"
   ]
  },
  {
   "cell_type": "code",
   "execution_count": 33,
   "id": "b55c6c86",
   "metadata": {},
   "outputs": [],
   "source": [
    "# Se crean las funciones para k=2, k=3, y k=4\n",
    "pol2 = InterpolatedUnivariateSpline(xp, yp, k=2)\n",
    "pol3 = InterpolatedUnivariateSpline(xp, yp, k=3)"
   ]
  },
  {
   "cell_type": "code",
   "execution_count": 34,
   "id": "959a23e8",
   "metadata": {},
   "outputs": [],
   "source": [
    "yg2 = pol2(xg)\n",
    "yg3 = pol3(xg)"
   ]
  },
  {
   "cell_type": "code",
   "execution_count": 35,
   "id": "e93d1f9c",
   "metadata": {},
   "outputs": [
    {
     "data": {
      "text/plain": [
       "[<matplotlib.lines.Line2D at 0x219082391f0>]"
      ]
     },
     "execution_count": 35,
     "metadata": {},
     "output_type": "execute_result"
    },
    {
     "data": {
      "image/png": "[encoded data removed]",
      "text/plain": [
       "<Figure size 432x288 with 1 Axes>"
      ]
     },
     "metadata": {
      "needs_background": "light"
     },
     "output_type": "display_data"
    }
   ],
   "source": [
    "plt.plot(xg, yg2, 'b')\n",
    "plt.plot(xp, yp, 'k.')"
   ]
  },
  {
   "cell_type": "code",
   "execution_count": 36,
   "id": "f0d5eae9-4b0d-4feb-b6a9-845ac72b7239",
   "metadata": {},
   "outputs": [
    {
     "data": {
      "text/plain": [
       "[<matplotlib.lines.Line2D at 0x21908291370>]"
      ]
     },
     "execution_count": 36,
     "metadata": {},
     "output_type": "execute_result"
    },
    {
     "data": {
      "image/png": "[encoded data removed]",
      "text/plain": [
       "<Figure size 432x288 with 1 Axes>"
      ]
     },
     "metadata": {
      "needs_background": "light"
     },
     "output_type": "display_data"
    }
   ],
   "source": [
    "plt.plot(xg, yg3, 'g')\n",
    "plt.plot(xp, yp, 'k.')"
   ]
  },
  {
   "cell_type": "markdown",
   "id": "059e0868-3ea3-4143-8156-6a87bc4edf0a",
   "metadata": {},
   "source": [
    "---"
   ]
  },
  {
   "cell_type": "markdown",
   "id": "e823ccc8-1e2b-48c6-a0f1-32ffa614b0bc",
   "metadata": {},
   "source": [
    "**Gráfica interactiva**"
   ]
  },
  {
   "cell_type": "code",
   "execution_count": 37,
   "id": "8f8e0e85-84cf-4c6b-ab49-8acfad93c9b4",
   "metadata": {},
   "outputs": [],
   "source": [
    "def trazadores_int(k):\n",
    "    xp = [-15, -12, -10, 0, 3, 3.5, 7, 8]\n",
    "    yp = [  1,   2,   3, 4, 5,   6, 7, 8]\n",
    "    \n",
    "    xg = np.linspace(min(xp), max(xp), 1000)\n",
    "    pol = InterpolatedUnivariateSpline(xp, yp, k=k)\n",
    "    yg = pol(xg)\n",
    "    \n",
    "    plt.plot(xg, yg, 'r')\n",
    "    plt.plot(xp, yp, 'k.')"
   ]
  },
  {
   "cell_type": "code",
   "execution_count": 38,
   "id": "97a127a2-80b9-421e-8e7f-6121843062a1",
   "metadata": {},
   "outputs": [
    {
     "data": {
      "application/vnd.jupyter.widget-view+json": {
       "model_id": "b60939600021452fb0d645f8287e4603",
       "version_major": 2,
       "version_minor": 0
      },
      "text/plain": [
       "interactive(children=(IntSlider(value=4, description='k', max=8, min=1), Output()), _dom_classes=('widget-inte…"
      ]
     },
     "metadata": {},
     "output_type": "display_data"
    }
   ],
   "source": [
    "from ipywidgets import interact \n",
    "interact(trazadores_int, k=(1,8,1))\n",
    "None"
   ]
  },
  {
   "cell_type": "markdown",
   "id": "4569821f-d9b4-4d9f-bc85-a8b0c6e525a0",
   "metadata": {},
   "source": [
    "---"
   ]
  },
  {
   "cell_type": "markdown",
   "id": "b3767576-f46d-47d7-ae43-faf3a7f609e2",
   "metadata": {},
   "source": [
    "## **2.5.3. `interp1d`**"
   ]
  },
  {
   "cell_type": "markdown",
   "id": "050adaf7-a0cb-4084-bdb5-0b07ad7e1498",
   "metadata": {},
   "source": [
    "Es una función de interpolación que permite diferentes métodos internamente: ‘linear’, ‘nearest’, ‘quadratic’, ‘cubic’, ‘previous’, or ‘next’."
   ]
  },
  {
   "cell_type": "code",
   "execution_count": 39,
   "id": "bf361361-a741-4a49-a01a-6f2f8ec7ff8b",
   "metadata": {},
   "outputs": [],
   "source": [
    "# Dado un conjunto de puntos:\n",
    "xp = [-15, -12, -10, 0, 3, 3.5, 7, 8]\n",
    "yp = [  1,   2,   3, 4, 5,   6, 7, 8]"
   ]
  },
  {
   "cell_type": "code",
   "execution_count": 40,
   "id": "f0e1a6ae-cbad-437b-8208-a74f34892e33",
   "metadata": {},
   "outputs": [
    {
     "data": {
      "text/plain": [
       "<scipy.interpolate.interpolate.interp1d at 0x21908303c70>"
      ]
     },
     "execution_count": 40,
     "metadata": {},
     "output_type": "execute_result"
    }
   ],
   "source": [
    "# La función InterpolatedUnivariateSpline arroja una función similar a lambdify.\n",
    "interp1d(xp, yp, kind='previous')"
   ]
  },
  {
   "cell_type": "code",
   "execution_count": 41,
   "id": "f08e09ec-8ce9-4635-abfe-08b61fb7dd7c",
   "metadata": {},
   "outputs": [],
   "source": [
    "pol = interp1d(xp, yp, kind='previous')  # Se almacena la función."
   ]
  },
  {
   "cell_type": "code",
   "execution_count": 42,
   "id": "f5b8bafe-e225-4e92-8b75-592a2e104f5b",
   "metadata": {},
   "outputs": [],
   "source": [
    "# Se crean 1000 puntos para graficar.\n",
    "xg = np.linspace(min(xp), max(xp), 1000)\n",
    "yg = pol(xg)"
   ]
  },
  {
   "cell_type": "code",
   "execution_count": 43,
   "id": "3ced07e0-5331-4d0d-95dc-856692905847",
   "metadata": {
    "tags": []
   },
   "outputs": [
    {
     "data": {
      "text/plain": [
       "[<matplotlib.lines.Line2D at 0x2190835e280>]"
      ]
     },
     "execution_count": 43,
     "metadata": {},
     "output_type": "execute_result"
    },
    {
     "data": {
      "image/png": "[encoded data removed]",
      "text/plain": [
       "<Figure size 432x288 with 1 Axes>"
      ]
     },
     "metadata": {
      "needs_background": "light"
     },
     "output_type": "display_data"
    }
   ],
   "source": [
    "plt.plot(xg, yg, 'm')   # Gráfica de interpolación.\n",
    "plt.plot(xp, yp, 'k.')  # Puntos dados."
   ]
  },
  {
   "cell_type": "markdown",
   "id": "27a9313e-0807-475b-ab02-896f2c68b772",
   "metadata": {},
   "source": [
    "---"
   ]
  },
  {
   "cell_type": "markdown",
   "id": "db2a3eea-fd49-4f52-a1a4-74d4fbb42130",
   "metadata": {},
   "source": [
    "---"
   ]
  },
  {
   "cell_type": "markdown",
   "id": "e3968579-8d7f-4dd8-a8ef-bac6564aa52a",
   "metadata": {},
   "source": [
    "**Comparación gráfica de los métodos**"
   ]
  },
  {
   "cell_type": "code",
   "execution_count": 44,
   "id": "8e327857-30f4-41cb-bc7d-1050d6ad366e",
   "metadata": {},
   "outputs": [],
   "source": [
    "def comparacion_int(metodo):\n",
    "    xp = [-15, -12, -10, 0, 3, 3.5, 7, 8]\n",
    "    yp = [  1,   2,   3, 4, 5,   6, 7, 8]\n",
    "    xg = np.linspace(min(xp), max(xp), 1000)\n",
    "    met_name = ['previous', 'nearest', 'next', 'orden 1', 'orden 2', 'orden 3', 'orden 4', 'orden 5', 'polinómico']\n",
    "    if metodo==1:\n",
    "        pol = interp1d(xp, yp, kind='previous')\n",
    "    elif metodo==2:\n",
    "        pol = interp1d(xp, yp, kind='nearest')\n",
    "    elif metodo==3:\n",
    "        pol = interp1d(xp, yp, kind='next')\n",
    "    elif 4<=metodo<=8:\n",
    "        pol = InterpolatedUnivariateSpline(xp, yp, k=metodo-3)\n",
    "    elif metodo==9:\n",
    "        pol = lagrange(xp, yp)\n",
    "    \n",
    "    yg = pol(xg)\n",
    "    \n",
    "    plt.plot(xg, yg, 'b')   # Gráfica de interpolación.\n",
    "    plt.plot(xp, yp, 'k.')  # Puntos dados\n",
    "    plt.ylim(0, 22)\n",
    "    plt.title(met_name[metodo-1])"
   ]
  },
  {
   "cell_type": "code",
   "execution_count": 45,
   "id": "00414bd3-aba3-45c2-a445-44fa2421c8b3",
   "metadata": {},
   "outputs": [
    {
     "data": {
      "application/vnd.jupyter.widget-view+json": {
       "model_id": "807befa5e83a4fd793e258c6429ef9e6",
       "version_major": 2,
       "version_minor": 0
      },
      "text/plain": [
       "interactive(children=(IntSlider(value=5, description='metodo', max=9, min=1), Output()), _dom_classes=('widget…"
      ]
     },
     "metadata": {},
     "output_type": "display_data"
    }
   ],
   "source": [
    "from ipywidgets import interact \n",
    "interact(comparacion_int, metodo=(1,9,1))\n",
    "None"
   ]
  },
  {
   "cell_type": "markdown",
   "id": "ee1980d0-eb1a-499a-9188-90f486d51e2d",
   "metadata": {},
   "source": [
    "---"
   ]
  },
  {
   "cell_type": "markdown",
   "id": "77e13363-f363-4aee-bfa6-cd552ab995da",
   "metadata": {},
   "source": [
    "**Discusión final sobre el fenómeno de Runge**"
   ]
  },
  {
   "cell_type": "code",
   "execution_count": 46,
   "id": "e3f38d42-a9c4-4c05-a5f8-127d17def4aa",
   "metadata": {},
   "outputs": [],
   "source": [
    "def comparacion_int(metodo):\n",
    "    xp = np.linspace(-1, 1, 11)  # 11 puntos de evaluación entre -1 y 1.\n",
    "    yp = 1/(1+25*xp**2)\n",
    "    xg = np.linspace(min(xp), max(xp), 1000)\n",
    "    met_name = ['previous', 'nearest', 'next', 'orden 1', 'orden 2', 'orden 3', 'orden 4', 'orden 5', 'polinómico']\n",
    "    if metodo==1:\n",
    "        pol = interp1d(xp, yp, kind='previous')\n",
    "    elif metodo==2:\n",
    "        pol = interp1d(xp, yp, kind='nearest')\n",
    "    elif metodo==3:\n",
    "        pol = interp1d(xp, yp, kind='next')\n",
    "    elif 4<=metodo<=8:\n",
    "        pol = InterpolatedUnivariateSpline(xp, yp, k=metodo-3)\n",
    "    elif metodo==9:\n",
    "        pol = lagrange(xp, yp)\n",
    "    \n",
    "    yg = pol(xg)\n",
    "    \n",
    "    xr = np.linspace(-1, 1, 1000)  # 11 puntos de evaluación entre -1 y 1.\n",
    "    yr = 1/(1+25*xr**2)\n",
    "    \n",
    "    plt.plot(xr, yr, 'm')   # Gráfica de interpolación.\n",
    "    plt.plot(xg, yg, 'b')   # Gráfica de interpolación.\n",
    "    plt.plot(xp, yp, 'k.')  # Puntos dados\n",
    "    plt.ylim(0, 1.2)\n",
    "    plt.title(met_name[metodo-1])"
   ]
  },
  {
   "cell_type": "code",
   "execution_count": 47,
   "id": "0adc4a82-0742-403c-951d-1977cb044d08",
   "metadata": {},
   "outputs": [
    {
     "data": {
      "application/vnd.jupyter.widget-view+json": {
       "model_id": "49a4367395e84f8aac892ab53018ce58",
       "version_major": 2,
       "version_minor": 0
      },
      "text/plain": [
       "interactive(children=(IntSlider(value=5, description='metodo', max=9, min=1), Output()), _dom_classes=('widget…"
      ]
     },
     "metadata": {},
     "output_type": "display_data"
    }
   ],
   "source": [
    "from ipywidgets import interact \n",
    "interact(comparacion_int, metodo=(1,9,1))\n",
    "None"
   ]
  },
  {
   "cell_type": "markdown",
   "id": "01282437-d466-407f-b6f4-c0793912511a",
   "metadata": {},
   "source": [
    "Entre más estable el método, más compleja es su solución. La interpolación polinomial permite describir todo con una sola ecuación, pero no genera resultados confiables siempre."
   ]
  },
  {
   "cell_type": "markdown",
   "id": "6f1c7563-d2db-467b-b00d-5a9d22cb75cb",
   "metadata": {},
   "source": [
    "---"
   ]
  }
 ],
 "metadata": {
  "kernelspec": {
   "display_name": "Python 3",
   "language": "python",
   "name": "python3"
  },
  "language_info": {
   "codemirror_mode": {
    "name": "ipython",
    "version": 3
   },
   "file_extension": ".py",
   "mimetype": "text/x-python",
   "name": "python",
   "nbconvert_exporter": "python",
   "pygments_lexer": "ipython3",
   "version": "3.8.8"
  }
 },
 "nbformat": 4,
 "nbformat_minor": 5
}
