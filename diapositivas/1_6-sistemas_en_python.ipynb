{
 "cells": [
  {
   "cell_type": "markdown",
   "id": "3ae61b48-5b24-4b02-9ab8-7a50441c60a2",
   "metadata": {},
   "source": [
    "**4101553 Métodos Numéricos aplicados a la Ingenieria Civil**\n",
    "-\n",
    "\n",
    "Departamento de Ingeniería Civil\n",
    "\n",
    "Universidad Nacional de Colombia\n",
    "\n",
    "Sede Manizales\n",
    "\n",
    "**Docente:** Juan Nicolás Ramírez Giraldo ([jnramirezg@unal.edu.co](mailto:jnramirezg@unal.edu.co))\n",
    "\n",
    "\n",
    "\"*Cum cogitaveris quot te antecedant, respice quot sequantur*\" **Séneca**\n",
    "\n",
    "[Repositorio de la asignatura](https://github.com/jnramirezg/metodos_numericos_ingenieria_civil/)\n",
    "\n",
    "---"
   ]
  },
  {
   "cell_type": "markdown",
   "id": "9dd6c143-495e-4f44-b297-333d575f775a",
   "metadata": {},
   "source": [
    "**Unidad 1: Sistemas de ecuaciones lineales**\n",
    "-\n",
    "# **1.6. Soluciones de sistemas en Python**\n",
    "\n",
    "---\n",
    "Se presentan los comandos y funciones más importantes que se relacionan con solución de sistemas de ecuaciones lineales y álgebra lineal. Para ello, se usan las librerías `numpy` y `sympy`, además, de una nueva librería con alto uso en ámbitos científicos: `scipy`.\n",
    "\n",
    "---"
   ]
  },
  {
   "cell_type": "markdown",
   "id": "a3599ee8-c1eb-4d88-8db5-c7bd655fd168",
   "metadata": {},
   "source": [
    "Se importan las librerías:"
   ]
  },
  {
   "cell_type": "code",
   "execution_count": 1,
   "id": "56130b1c-f772-4c49-be71-15476d6e8af0",
   "metadata": {},
   "outputs": [],
   "source": [
    "import numpy as np\n",
    "import sympy as sp\n"
   ]
  },
  {
   "cell_type": "markdown",
   "id": "8d3c2ce2-6001-4172-9228-4d49743b011e",
   "metadata": {},
   "source": [
    "---"
   ]
  },
  {
   "cell_type": "markdown",
   "id": "c9c0b2c2",
   "metadata": {},
   "source": [
    "## **1.6.1. En `numpy`**\n",
    "- `np.linalg.solve(a, b)`\n",
    "- `np.linalg.cholesky(a)`\n",
    "- `np.linalg.norm(v)`\n",
    "- `np.linalg.eig(a)` y `np.linalg.eigvals(a)`"
   ]
  },
  {
   "cell_type": "markdown",
   "id": "4323818b-2cfc-4a27-bfe6-4d2817ce3919",
   "metadata": {},
   "source": [
    "En ocasiones, y por facilidad, se le suele hacer un llamado al submódulo `linalg` de `numpy` así:"
   ]
  },
  {
   "cell_type": "code",
   "execution_count": 2,
   "id": "a7dc4520-b8c7-477d-a5aa-dcb3a76f6a84",
   "metadata": {},
   "outputs": [],
   "source": [
    "from numpy import linalg as LA\n"
   ]
  },
  {
   "cell_type": "markdown",
   "id": "2add5b87-b6d2-4c41-94d5-63336067dc16",
   "metadata": {},
   "source": [
    "---"
   ]
  },
  {
   "cell_type": "markdown",
   "id": "4531a251-9a14-4fb5-917c-04c4e86ac0bd",
   "metadata": {},
   "source": [
    "### `LA.solve(a, b)`\n"
   ]
  },
  {
   "cell_type": "markdown",
   "id": "9aa9bc47-2593-42e2-8979-92074671ae42",
   "metadata": {},
   "source": [
    "Ejemplo 1:"
   ]
  },
  {
   "cell_type": "code",
   "execution_count": 3,
   "id": "e77fb34d-ef17-4fae-8b24-80661d640254",
   "metadata": {},
   "outputs": [],
   "source": [
    "A1 = [[-1, -1,  6,  9],\n",
    "      [-5,  5, -3,  6],\n",
    "      [ 7, -3,  5, -6],\n",
    "      [ 3, -3, -2,  3]]\n",
    "\n",
    "B1 = [-29, -54, 38, 41]\n"
   ]
  },
  {
   "cell_type": "code",
   "execution_count": 4,
   "id": "2f31584c-7840-47ca-bf9f-d1f9bf37116b",
   "metadata": {},
   "outputs": [
    {
     "data": {
      "text/plain": [
       "array([ 4., -8., -4., -1.])"
      ]
     },
     "execution_count": 4,
     "metadata": {},
     "output_type": "execute_result"
    }
   ],
   "source": [
    "LA.solve(A1, B1)\n"
   ]
  },
  {
   "cell_type": "markdown",
   "id": "3e8615b8-8bcf-457c-90be-ad7f7fb21062",
   "metadata": {},
   "source": [
    "Se anota que los argumentos de la función pueden ser pasados como lista de listas y lista, o también como `np.array`."
   ]
  },
  {
   "cell_type": "markdown",
   "id": "3a34c130-5b23-43f1-8b71-392ae92ed668",
   "metadata": {},
   "source": [
    "---"
   ]
  },
  {
   "cell_type": "markdown",
   "id": "48f05e36-cc1b-45ac-9070-96494e96c34e",
   "metadata": {},
   "source": [
    "Ejemplo 2: sistema singular no detectado"
   ]
  },
  {
   "cell_type": "code",
   "execution_count": 5,
   "id": "d777d582-fffe-439e-9a6d-010f64fd462a",
   "metadata": {},
   "outputs": [],
   "source": [
    "A2 = [[ 2,  1,  4, -1],\n",
    "      [ 3, -2,  1,  0],\n",
    "      [ 5,  1, -3,  2],\n",
    "      [-1,  3,  3, -1]]\n",
    "\n",
    "B2 =  [1, -1, 4, 3]\n"
   ]
  },
  {
   "cell_type": "code",
   "execution_count": 6,
   "id": "cadc8ac0-a63b-413b-a866-7249f73801e5",
   "metadata": {
    "tags": []
   },
   "outputs": [
    {
     "data": {
      "text/plain": [
       "array([ 7.70352568e+14,  3.55547339e+14, -1.59996303e+15, -4.50359963e+15])"
      ]
     },
     "execution_count": 6,
     "metadata": {},
     "output_type": "execute_result"
    }
   ],
   "source": [
    "LA.solve(A2, B2)\n"
   ]
  },
  {
   "cell_type": "markdown",
   "id": "87d7328d-62ec-40b8-bad2-2313bd61ce98",
   "metadata": {},
   "source": [
    "Debido a que se trata de un resultado muy sospechoso, se verifica el valor del determinante:"
   ]
  },
  {
   "cell_type": "code",
   "execution_count": 7,
   "id": "5ec688dc-c125-438f-bbe2-a1ac93c14f49",
   "metadata": {},
   "outputs": [
    {
     "data": {
      "text/plain": [
       "-1.6875389974302392e-14"
      ]
     },
     "execution_count": 7,
     "metadata": {},
     "output_type": "execute_result"
    }
   ],
   "source": [
    "LA.det(A2)\n"
   ]
  },
  {
   "cell_type": "markdown",
   "id": "e26fe5b5-8a28-41c0-9d84-4c16bab5383d",
   "metadata": {},
   "source": [
    "Claramente `A2` es una matriz singular que, genera un sistema singular, sin embargo, la función no lo detectó por la representación numérica. Por lo tanto, es pertinente poner la advertencia en un programa donde se use la función `LA.solve()`."
   ]
  },
  {
   "cell_type": "markdown",
   "id": "bb982914-f41f-4f75-82d2-b4114f597e65",
   "metadata": {},
   "source": [
    "---"
   ]
  },
  {
   "cell_type": "markdown",
   "id": "86a28b47-d224-44bb-8f69-d9f8264d6130",
   "metadata": {},
   "source": [
    "Ejemplo 3:"
   ]
  },
  {
   "cell_type": "code",
   "execution_count": 8,
   "id": "6d2dfd3c-8fa0-4dab-9c8a-534e0760eb88",
   "metadata": {},
   "outputs": [],
   "source": [
    "A3 = [[ 1, -1,  1],\n",
    "      [-2,  2, -2], \n",
    "      [ 2,  4,  2]]\n",
    "\n",
    "B3 = [1, 2, 1]\n"
   ]
  },
  {
   "cell_type": "code",
   "execution_count": 9,
   "id": "21e4e136-25a3-4796-922f-b2bbabfa62e4",
   "metadata": {},
   "outputs": [
    {
     "ename": "LinAlgError",
     "evalue": "Singular matrix",
     "output_type": "error",
     "traceback": [
      "\u001b[1;31m---------------------------------------------------------------------------\u001b[0m",
      "\u001b[1;31mLinAlgError\u001b[0m                               Traceback (most recent call last)",
      "\u001b[1;32m<ipython-input-9-2ff44672f187>\u001b[0m in \u001b[0;36m<module>\u001b[1;34m\u001b[0m\n\u001b[1;32m----> 1\u001b[1;33m \u001b[0mLA\u001b[0m\u001b[1;33m.\u001b[0m\u001b[0msolve\u001b[0m\u001b[1;33m(\u001b[0m\u001b[0mA3\u001b[0m\u001b[1;33m,\u001b[0m \u001b[0mB3\u001b[0m\u001b[1;33m)\u001b[0m\u001b[1;33m\u001b[0m\u001b[1;33m\u001b[0m\u001b[0m\n\u001b[0m",
      "\u001b[1;32m<__array_function__ internals>\u001b[0m in \u001b[0;36msolve\u001b[1;34m(*args, **kwargs)\u001b[0m\n",
      "\u001b[1;32m~\\anaconda3\\lib\\site-packages\\numpy\\linalg\\linalg.py\u001b[0m in \u001b[0;36msolve\u001b[1;34m(a, b)\u001b[0m\n\u001b[0;32m    391\u001b[0m     \u001b[0msignature\u001b[0m \u001b[1;33m=\u001b[0m \u001b[1;34m'DD->D'\u001b[0m \u001b[1;32mif\u001b[0m \u001b[0misComplexType\u001b[0m\u001b[1;33m(\u001b[0m\u001b[0mt\u001b[0m\u001b[1;33m)\u001b[0m \u001b[1;32melse\u001b[0m \u001b[1;34m'dd->d'\u001b[0m\u001b[1;33m\u001b[0m\u001b[1;33m\u001b[0m\u001b[0m\n\u001b[0;32m    392\u001b[0m     \u001b[0mextobj\u001b[0m \u001b[1;33m=\u001b[0m \u001b[0mget_linalg_error_extobj\u001b[0m\u001b[1;33m(\u001b[0m\u001b[0m_raise_linalgerror_singular\u001b[0m\u001b[1;33m)\u001b[0m\u001b[1;33m\u001b[0m\u001b[1;33m\u001b[0m\u001b[0m\n\u001b[1;32m--> 393\u001b[1;33m     \u001b[0mr\u001b[0m \u001b[1;33m=\u001b[0m \u001b[0mgufunc\u001b[0m\u001b[1;33m(\u001b[0m\u001b[0ma\u001b[0m\u001b[1;33m,\u001b[0m \u001b[0mb\u001b[0m\u001b[1;33m,\u001b[0m \u001b[0msignature\u001b[0m\u001b[1;33m=\u001b[0m\u001b[0msignature\u001b[0m\u001b[1;33m,\u001b[0m \u001b[0mextobj\u001b[0m\u001b[1;33m=\u001b[0m\u001b[0mextobj\u001b[0m\u001b[1;33m)\u001b[0m\u001b[1;33m\u001b[0m\u001b[1;33m\u001b[0m\u001b[0m\n\u001b[0m\u001b[0;32m    394\u001b[0m \u001b[1;33m\u001b[0m\u001b[0m\n\u001b[0;32m    395\u001b[0m     \u001b[1;32mreturn\u001b[0m \u001b[0mwrap\u001b[0m\u001b[1;33m(\u001b[0m\u001b[0mr\u001b[0m\u001b[1;33m.\u001b[0m\u001b[0mastype\u001b[0m\u001b[1;33m(\u001b[0m\u001b[0mresult_t\u001b[0m\u001b[1;33m,\u001b[0m \u001b[0mcopy\u001b[0m\u001b[1;33m=\u001b[0m\u001b[1;32mFalse\u001b[0m\u001b[1;33m)\u001b[0m\u001b[1;33m)\u001b[0m\u001b[1;33m\u001b[0m\u001b[1;33m\u001b[0m\u001b[0m\n",
      "\u001b[1;32m~\\anaconda3\\lib\\site-packages\\numpy\\linalg\\linalg.py\u001b[0m in \u001b[0;36m_raise_linalgerror_singular\u001b[1;34m(err, flag)\u001b[0m\n\u001b[0;32m     86\u001b[0m \u001b[1;33m\u001b[0m\u001b[0m\n\u001b[0;32m     87\u001b[0m \u001b[1;32mdef\u001b[0m \u001b[0m_raise_linalgerror_singular\u001b[0m\u001b[1;33m(\u001b[0m\u001b[0merr\u001b[0m\u001b[1;33m,\u001b[0m \u001b[0mflag\u001b[0m\u001b[1;33m)\u001b[0m\u001b[1;33m:\u001b[0m\u001b[1;33m\u001b[0m\u001b[1;33m\u001b[0m\u001b[0m\n\u001b[1;32m---> 88\u001b[1;33m     \u001b[1;32mraise\u001b[0m \u001b[0mLinAlgError\u001b[0m\u001b[1;33m(\u001b[0m\u001b[1;34m\"Singular matrix\"\u001b[0m\u001b[1;33m)\u001b[0m\u001b[1;33m\u001b[0m\u001b[1;33m\u001b[0m\u001b[0m\n\u001b[0m\u001b[0;32m     89\u001b[0m \u001b[1;33m\u001b[0m\u001b[0m\n\u001b[0;32m     90\u001b[0m \u001b[1;32mdef\u001b[0m \u001b[0m_raise_linalgerror_nonposdef\u001b[0m\u001b[1;33m(\u001b[0m\u001b[0merr\u001b[0m\u001b[1;33m,\u001b[0m \u001b[0mflag\u001b[0m\u001b[1;33m)\u001b[0m\u001b[1;33m:\u001b[0m\u001b[1;33m\u001b[0m\u001b[1;33m\u001b[0m\u001b[0m\n",
      "\u001b[1;31mLinAlgError\u001b[0m: Singular matrix"
     ]
    }
   ],
   "source": [
    "LA.solve(A3, B3)\n"
   ]
  },
  {
   "cell_type": "markdown",
   "id": "45718211-e97e-405d-839d-824bae38f861",
   "metadata": {},
   "source": [
    "Se verifica el valor del determinante:"
   ]
  },
  {
   "cell_type": "code",
   "execution_count": 10,
   "id": "f1fdf585-ff27-42b6-90c9-de15b88cec36",
   "metadata": {},
   "outputs": [
    {
     "data": {
      "text/plain": [
       "0.0"
      ]
     },
     "execution_count": 10,
     "metadata": {},
     "output_type": "execute_result"
    }
   ],
   "source": [
    "LA.det(A3)\n"
   ]
  },
  {
   "cell_type": "markdown",
   "id": "1439a25a-a504-42c2-912f-55f8370cb94e",
   "metadata": {},
   "source": [
    "La causa del error es `LinAlgError: Singular matrix`, lo cual es completamente coherente con el resultado del determinante."
   ]
  },
  {
   "cell_type": "markdown",
   "id": "4eaf8f39-a5b3-404d-a3ac-8cdf9c7b4de1",
   "metadata": {},
   "source": [
    "---"
   ]
  },
  {
   "cell_type": "markdown",
   "id": "b4901801-9e80-4f34-b2b0-152474c227f8",
   "metadata": {},
   "source": [
    "Ejemplo 4: valores muy cercanos a cero en la diagonal."
   ]
  },
  {
   "cell_type": "code",
   "execution_count": 11,
   "id": "f4371d94-484c-4625-aa2d-451b3ace7935",
   "metadata": {},
   "outputs": [],
   "source": [
    "A4 = [[0.00000000000000000000000003, 3.0000],\n",
    "      [1.0000,                       1.0000]]\n",
    "B4 = [ 2.00000000000000000000000001, 1.0000] \n"
   ]
  },
  {
   "cell_type": "code",
   "execution_count": 12,
   "id": "3811c2d1-229b-4b3e-abf8-d98dbf1dca64",
   "metadata": {},
   "outputs": [
    {
     "data": {
      "text/plain": [
       "array([0.33333333, 0.66666667])"
      ]
     },
     "execution_count": 12,
     "metadata": {},
     "output_type": "execute_result"
    }
   ],
   "source": [
    "LA.solve(A4, B4)\n"
   ]
  },
  {
   "cell_type": "markdown",
   "id": "f5066c26-f2dd-4b8a-8565-58a5aa9832c2",
   "metadata": {},
   "source": [
    "No se evidencia ningún incoveniente como sí ocurría en otros métodos."
   ]
  },
  {
   "cell_type": "markdown",
   "id": "6cbfdd5c-b8bd-40cc-bbff-1f4ee0f41e98",
   "metadata": {},
   "source": [
    "---"
   ]
  },
  {
   "cell_type": "markdown",
   "id": "8c5ada51-8887-4380-a311-fd2287a94a8c",
   "metadata": {},
   "source": [
    "Ejemplo 5:"
   ]
  },
  {
   "cell_type": "code",
   "execution_count": 13,
   "id": "428b9bda-1678-48e5-b83b-8985ffd97964",
   "metadata": {},
   "outputs": [],
   "source": [
    "A5 = [[-9,  7,  2,  5,  7],\n",
    "      [ 5,  3, -2,  2, -6],\n",
    "      [ 2, -6, -5, -7, -8],\n",
    "      [-2,  4, -2, -2, -6]]\n",
    "\n",
    "B5 = [1, -1, 4, 3]\n"
   ]
  },
  {
   "cell_type": "code",
   "execution_count": 14,
   "id": "2e58929d-a08a-4f4f-a859-85dd615cc7ca",
   "metadata": {},
   "outputs": [
    {
     "ename": "LinAlgError",
     "evalue": "Last 2 dimensions of the array must be square",
     "output_type": "error",
     "traceback": [
      "\u001b[1;31m---------------------------------------------------------------------------\u001b[0m",
      "\u001b[1;31mLinAlgError\u001b[0m                               Traceback (most recent call last)",
      "\u001b[1;32m<ipython-input-14-7eb12165d5b2>\u001b[0m in \u001b[0;36m<module>\u001b[1;34m\u001b[0m\n\u001b[1;32m----> 1\u001b[1;33m \u001b[0mLA\u001b[0m\u001b[1;33m.\u001b[0m\u001b[0msolve\u001b[0m\u001b[1;33m(\u001b[0m\u001b[0mA5\u001b[0m\u001b[1;33m,\u001b[0m \u001b[0mB5\u001b[0m\u001b[1;33m)\u001b[0m\u001b[1;33m\u001b[0m\u001b[1;33m\u001b[0m\u001b[0m\n\u001b[0m",
      "\u001b[1;32m<__array_function__ internals>\u001b[0m in \u001b[0;36msolve\u001b[1;34m(*args, **kwargs)\u001b[0m\n",
      "\u001b[1;32m~\\anaconda3\\lib\\site-packages\\numpy\\linalg\\linalg.py\u001b[0m in \u001b[0;36msolve\u001b[1;34m(a, b)\u001b[0m\n\u001b[0;32m    378\u001b[0m     \u001b[0ma\u001b[0m\u001b[1;33m,\u001b[0m \u001b[0m_\u001b[0m \u001b[1;33m=\u001b[0m \u001b[0m_makearray\u001b[0m\u001b[1;33m(\u001b[0m\u001b[0ma\u001b[0m\u001b[1;33m)\u001b[0m\u001b[1;33m\u001b[0m\u001b[1;33m\u001b[0m\u001b[0m\n\u001b[0;32m    379\u001b[0m     \u001b[0m_assert_stacked_2d\u001b[0m\u001b[1;33m(\u001b[0m\u001b[0ma\u001b[0m\u001b[1;33m)\u001b[0m\u001b[1;33m\u001b[0m\u001b[1;33m\u001b[0m\u001b[0m\n\u001b[1;32m--> 380\u001b[1;33m     \u001b[0m_assert_stacked_square\u001b[0m\u001b[1;33m(\u001b[0m\u001b[0ma\u001b[0m\u001b[1;33m)\u001b[0m\u001b[1;33m\u001b[0m\u001b[1;33m\u001b[0m\u001b[0m\n\u001b[0m\u001b[0;32m    381\u001b[0m     \u001b[0mb\u001b[0m\u001b[1;33m,\u001b[0m \u001b[0mwrap\u001b[0m \u001b[1;33m=\u001b[0m \u001b[0m_makearray\u001b[0m\u001b[1;33m(\u001b[0m\u001b[0mb\u001b[0m\u001b[1;33m)\u001b[0m\u001b[1;33m\u001b[0m\u001b[1;33m\u001b[0m\u001b[0m\n\u001b[0;32m    382\u001b[0m     \u001b[0mt\u001b[0m\u001b[1;33m,\u001b[0m \u001b[0mresult_t\u001b[0m \u001b[1;33m=\u001b[0m \u001b[0m_commonType\u001b[0m\u001b[1;33m(\u001b[0m\u001b[0ma\u001b[0m\u001b[1;33m,\u001b[0m \u001b[0mb\u001b[0m\u001b[1;33m)\u001b[0m\u001b[1;33m\u001b[0m\u001b[1;33m\u001b[0m\u001b[0m\n",
      "\u001b[1;32m~\\anaconda3\\lib\\site-packages\\numpy\\linalg\\linalg.py\u001b[0m in \u001b[0;36m_assert_stacked_square\u001b[1;34m(*arrays)\u001b[0m\n\u001b[0;32m    201\u001b[0m         \u001b[0mm\u001b[0m\u001b[1;33m,\u001b[0m \u001b[0mn\u001b[0m \u001b[1;33m=\u001b[0m \u001b[0ma\u001b[0m\u001b[1;33m.\u001b[0m\u001b[0mshape\u001b[0m\u001b[1;33m[\u001b[0m\u001b[1;33m-\u001b[0m\u001b[1;36m2\u001b[0m\u001b[1;33m:\u001b[0m\u001b[1;33m]\u001b[0m\u001b[1;33m\u001b[0m\u001b[1;33m\u001b[0m\u001b[0m\n\u001b[0;32m    202\u001b[0m         \u001b[1;32mif\u001b[0m \u001b[0mm\u001b[0m \u001b[1;33m!=\u001b[0m \u001b[0mn\u001b[0m\u001b[1;33m:\u001b[0m\u001b[1;33m\u001b[0m\u001b[1;33m\u001b[0m\u001b[0m\n\u001b[1;32m--> 203\u001b[1;33m             \u001b[1;32mraise\u001b[0m \u001b[0mLinAlgError\u001b[0m\u001b[1;33m(\u001b[0m\u001b[1;34m'Last 2 dimensions of the array must be square'\u001b[0m\u001b[1;33m)\u001b[0m\u001b[1;33m\u001b[0m\u001b[1;33m\u001b[0m\u001b[0m\n\u001b[0m\u001b[0;32m    204\u001b[0m \u001b[1;33m\u001b[0m\u001b[0m\n\u001b[0;32m    205\u001b[0m \u001b[1;32mdef\u001b[0m \u001b[0m_assert_finite\u001b[0m\u001b[1;33m(\u001b[0m\u001b[1;33m*\u001b[0m\u001b[0marrays\u001b[0m\u001b[1;33m)\u001b[0m\u001b[1;33m:\u001b[0m\u001b[1;33m\u001b[0m\u001b[1;33m\u001b[0m\u001b[0m\n",
      "\u001b[1;31mLinAlgError\u001b[0m: Last 2 dimensions of the array must be square"
     ]
    }
   ],
   "source": [
    "LA.solve(A5, B5)\n"
   ]
  },
  {
   "cell_type": "markdown",
   "id": "bbebc91d-7ba4-4f60-a47f-f986d8fdd190",
   "metadata": {},
   "source": [
    "En este caso la fuente de error es `LinAlgError: Last 2 dimensions of the array must be square`, es decir, la matriz no es cuadrada."
   ]
  },
  {
   "cell_type": "markdown",
   "id": "7d4c46bb-7103-47ca-8cb5-8a5d65046698",
   "metadata": {},
   "source": [
    "---"
   ]
  },
  {
   "cell_type": "markdown",
   "id": "baf1008b-a3ee-4539-91c2-a9b334760cab",
   "metadata": {},
   "source": [
    "Ejemplo 6:"
   ]
  },
  {
   "cell_type": "code",
   "execution_count": 15,
   "id": "55d45791-0c03-4f41-aac9-eb66af3709f8",
   "metadata": {},
   "outputs": [],
   "source": [
    "A6 = [[-1,  2],\n",
    "      [ 3, -1]]\n",
    "\n",
    "B6 = [[1, 4, 10],\n",
    "      [2, 1,  3]]\n"
   ]
  },
  {
   "cell_type": "code",
   "execution_count": 16,
   "id": "cbaa1061-18f5-45ec-b99a-0bb4a1904d8c",
   "metadata": {},
   "outputs": [
    {
     "data": {
      "text/plain": [
       "array([[1. , 1.2, 3.2],\n",
       "       [1. , 2.6, 6.6]])"
      ]
     },
     "execution_count": 16,
     "metadata": {},
     "output_type": "execute_result"
    }
   ],
   "source": [
    "LA.solve(A6, B6)\n"
   ]
  },
  {
   "cell_type": "markdown",
   "id": "fd254743-3772-4fd8-8673-c4c065d73e13",
   "metadata": {},
   "source": [
    "De hecho, tiene mucho sentido pues sigue la siguiente estructura algebraica:\n",
    "\n",
    "$\n",
    "\\begin{bmatrix}\n",
    "a_{11} & a_{12}\\\\\n",
    "a_{21} & a_{22}\n",
    "\\end{bmatrix}\n",
    "\\begin{bmatrix}\n",
    "x_{11} & x_{12} & x_{13}  \\\\\n",
    "x_{21} & x_{22} & x_{23} \n",
    "\\end{bmatrix}\n",
    "=\\begin{bmatrix}\n",
    "b_{11} & b_{12} & b_{13}  \\\\\n",
    "b_{21} & b_{22} & b_{23} \n",
    "\\end{bmatrix}$\n",
    "\n",
    "En donde se tiene 3 sistemas de ecuaciones de $2x2$, pero cuyos coeficientes constantes son iguales, cambiando únicamente sus constantes. De hecho, hubiéramos podido programar nuestros métodos previos de esta manera.\n",
    "\n",
    "Es equivalente a resolver:\n",
    "\n",
    "$\n",
    "\\begin{bmatrix}\n",
    "a_{11} & a_{12}\\\\\n",
    "a_{21} & a_{22}\n",
    "\\end{bmatrix}\n",
    "\\begin{bmatrix}\n",
    "x_{11}\\\\\n",
    "x_{21} \n",
    "\\end{bmatrix}\n",
    "=\\begin{bmatrix}\n",
    "b_{11}\\\\\n",
    "b_{21} \n",
    "\\end{bmatrix}$\n",
    "\n",
    "$\n",
    "\\begin{bmatrix}\n",
    "a_{11} & a_{12}\\\\\n",
    "a_{21} & a_{22}\n",
    "\\end{bmatrix}\n",
    "\\begin{bmatrix}\n",
    "x_{12}\\\\\n",
    "x_{22} \n",
    "\\end{bmatrix}\n",
    "=\\begin{bmatrix}\n",
    "b_{12}\\\\\n",
    "b_{22} \n",
    "\\end{bmatrix}$\n",
    "\n",
    "$\n",
    "\\begin{bmatrix}\n",
    "a_{11} & a_{12}\\\\\n",
    "a_{21} & a_{22}\n",
    "\\end{bmatrix}\n",
    "\\begin{bmatrix}\n",
    "x_{13}\\\\\n",
    "x_{23} \n",
    "\\end{bmatrix}\n",
    "=\\begin{bmatrix}\n",
    "b_{13}\\\\\n",
    "b_{23} \n",
    "\\end{bmatrix}$"
   ]
  },
  {
   "cell_type": "markdown",
   "id": "7d860744-59bd-471a-ae78-c944214f02bf",
   "metadata": {},
   "source": [
    "---"
   ]
  },
  {
   "cell_type": "markdown",
   "id": "0d442088-931a-4acd-ac63-60a19552d6da",
   "metadata": {},
   "source": [
    "### `LA.cholesky(a)`"
   ]
  },
  {
   "cell_type": "markdown",
   "id": "67b8ad30-f1bd-481b-b006-030f5c8caa51",
   "metadata": {},
   "source": [
    "Ejemplo 1: matriz definida positiva y simétrica"
   ]
  },
  {
   "cell_type": "code",
   "execution_count": 17,
   "id": "c6a56d8c-b0d9-42df-a585-f801d9aba794",
   "metadata": {},
   "outputs": [],
   "source": [
    "A1 = np.array([[ 6,  3,  4,  8], \n",
    "               [ 3,  6,  5,  1], \n",
    "               [ 4,  5, 10,  7],\n",
    "               [ 8,  1,  7, 25]])\n"
   ]
  },
  {
   "cell_type": "code",
   "execution_count": 18,
   "id": "3c030460-f0a1-48e6-91fa-a3a9285c4e53",
   "metadata": {},
   "outputs": [
    {
     "data": {
      "text/plain": [
       "array([[ 2.44948974,  0.        ,  0.        ,  0.        ],\n",
       "       [ 1.22474487,  2.12132034,  0.        ,  0.        ],\n",
       "       [ 1.63299316,  1.41421356,  2.30940108,  0.        ],\n",
       "       [ 3.26598632, -1.41421356,  1.58771324,  3.13249102]])"
      ]
     },
     "execution_count": 18,
     "metadata": {},
     "output_type": "execute_result"
    }
   ],
   "source": [
    "LA.cholesky(A1)\n"
   ]
  },
  {
   "cell_type": "code",
   "execution_count": 19,
   "id": "7d09737f-2902-40c8-ad3c-3115cdd9fa35",
   "metadata": {},
   "outputs": [],
   "source": [
    "L = LA.cholesky(A1)\n"
   ]
  },
  {
   "cell_type": "code",
   "execution_count": 20,
   "id": "8b33eaaf-db3a-4de2-9b46-373a57dab0e7",
   "metadata": {},
   "outputs": [
    {
     "data": {
      "text/plain": [
       "array([[ 6.,  3.,  4.,  8.],\n",
       "       [ 3.,  6.,  5.,  1.],\n",
       "       [ 4.,  5., 10.,  7.],\n",
       "       [ 8.,  1.,  7., 25.]])"
      ]
     },
     "execution_count": 20,
     "metadata": {},
     "output_type": "execute_result"
    }
   ],
   "source": [
    "L@L.T\n"
   ]
  },
  {
   "cell_type": "markdown",
   "id": "e03d937d-db74-4be1-9914-6b79cb5d6e35",
   "metadata": {},
   "source": [
    "---"
   ]
  },
  {
   "cell_type": "markdown",
   "id": "ebd20406-a85d-4337-9f9f-5d7568ae8123",
   "metadata": {},
   "source": [
    "Ejemplo 2: cuando no se cumple que la matriz esté definida positiva y sea simétrica."
   ]
  },
  {
   "cell_type": "code",
   "execution_count": 21,
   "id": "97bc1f34-d6be-4c2c-8e60-ab1763bb7e8c",
   "metadata": {},
   "outputs": [],
   "source": [
    "A2 = [[-1, -1,  6,  9],\n",
    "      [-5,  5, -3,  6],\n",
    "      [ 7, -3,  5, -6],\n",
    "      [ 3, -3, -2,  3]]\n"
   ]
  },
  {
   "cell_type": "code",
   "execution_count": 22,
   "id": "0954f225-2410-4298-9d7a-7b7c0c2b722d",
   "metadata": {},
   "outputs": [
    {
     "ename": "LinAlgError",
     "evalue": "Matrix is not positive definite",
     "output_type": "error",
     "traceback": [
      "\u001b[1;31m---------------------------------------------------------------------------\u001b[0m",
      "\u001b[1;31mLinAlgError\u001b[0m                               Traceback (most recent call last)",
      "\u001b[1;32m<ipython-input-22-70355d2581b3>\u001b[0m in \u001b[0;36m<module>\u001b[1;34m\u001b[0m\n\u001b[1;32m----> 1\u001b[1;33m \u001b[0mLA\u001b[0m\u001b[1;33m.\u001b[0m\u001b[0mcholesky\u001b[0m\u001b[1;33m(\u001b[0m\u001b[0mA2\u001b[0m\u001b[1;33m)\u001b[0m\u001b[1;33m\u001b[0m\u001b[1;33m\u001b[0m\u001b[0m\n\u001b[0m",
      "\u001b[1;32m<__array_function__ internals>\u001b[0m in \u001b[0;36mcholesky\u001b[1;34m(*args, **kwargs)\u001b[0m\n",
      "\u001b[1;32m~\\anaconda3\\lib\\site-packages\\numpy\\linalg\\linalg.py\u001b[0m in \u001b[0;36mcholesky\u001b[1;34m(a)\u001b[0m\n\u001b[0;32m    761\u001b[0m     \u001b[0mt\u001b[0m\u001b[1;33m,\u001b[0m \u001b[0mresult_t\u001b[0m \u001b[1;33m=\u001b[0m \u001b[0m_commonType\u001b[0m\u001b[1;33m(\u001b[0m\u001b[0ma\u001b[0m\u001b[1;33m)\u001b[0m\u001b[1;33m\u001b[0m\u001b[1;33m\u001b[0m\u001b[0m\n\u001b[0;32m    762\u001b[0m     \u001b[0msignature\u001b[0m \u001b[1;33m=\u001b[0m \u001b[1;34m'D->D'\u001b[0m \u001b[1;32mif\u001b[0m \u001b[0misComplexType\u001b[0m\u001b[1;33m(\u001b[0m\u001b[0mt\u001b[0m\u001b[1;33m)\u001b[0m \u001b[1;32melse\u001b[0m \u001b[1;34m'd->d'\u001b[0m\u001b[1;33m\u001b[0m\u001b[1;33m\u001b[0m\u001b[0m\n\u001b[1;32m--> 763\u001b[1;33m     \u001b[0mr\u001b[0m \u001b[1;33m=\u001b[0m \u001b[0mgufunc\u001b[0m\u001b[1;33m(\u001b[0m\u001b[0ma\u001b[0m\u001b[1;33m,\u001b[0m \u001b[0msignature\u001b[0m\u001b[1;33m=\u001b[0m\u001b[0msignature\u001b[0m\u001b[1;33m,\u001b[0m \u001b[0mextobj\u001b[0m\u001b[1;33m=\u001b[0m\u001b[0mextobj\u001b[0m\u001b[1;33m)\u001b[0m\u001b[1;33m\u001b[0m\u001b[1;33m\u001b[0m\u001b[0m\n\u001b[0m\u001b[0;32m    764\u001b[0m     \u001b[1;32mreturn\u001b[0m \u001b[0mwrap\u001b[0m\u001b[1;33m(\u001b[0m\u001b[0mr\u001b[0m\u001b[1;33m.\u001b[0m\u001b[0mastype\u001b[0m\u001b[1;33m(\u001b[0m\u001b[0mresult_t\u001b[0m\u001b[1;33m,\u001b[0m \u001b[0mcopy\u001b[0m\u001b[1;33m=\u001b[0m\u001b[1;32mFalse\u001b[0m\u001b[1;33m)\u001b[0m\u001b[1;33m)\u001b[0m\u001b[1;33m\u001b[0m\u001b[1;33m\u001b[0m\u001b[0m\n\u001b[0;32m    765\u001b[0m \u001b[1;33m\u001b[0m\u001b[0m\n",
      "\u001b[1;32m~\\anaconda3\\lib\\site-packages\\numpy\\linalg\\linalg.py\u001b[0m in \u001b[0;36m_raise_linalgerror_nonposdef\u001b[1;34m(err, flag)\u001b[0m\n\u001b[0;32m     89\u001b[0m \u001b[1;33m\u001b[0m\u001b[0m\n\u001b[0;32m     90\u001b[0m \u001b[1;32mdef\u001b[0m \u001b[0m_raise_linalgerror_nonposdef\u001b[0m\u001b[1;33m(\u001b[0m\u001b[0merr\u001b[0m\u001b[1;33m,\u001b[0m \u001b[0mflag\u001b[0m\u001b[1;33m)\u001b[0m\u001b[1;33m:\u001b[0m\u001b[1;33m\u001b[0m\u001b[1;33m\u001b[0m\u001b[0m\n\u001b[1;32m---> 91\u001b[1;33m     \u001b[1;32mraise\u001b[0m \u001b[0mLinAlgError\u001b[0m\u001b[1;33m(\u001b[0m\u001b[1;34m\"Matrix is not positive definite\"\u001b[0m\u001b[1;33m)\u001b[0m\u001b[1;33m\u001b[0m\u001b[1;33m\u001b[0m\u001b[0m\n\u001b[0m\u001b[0;32m     92\u001b[0m \u001b[1;33m\u001b[0m\u001b[0m\n\u001b[0;32m     93\u001b[0m \u001b[1;32mdef\u001b[0m \u001b[0m_raise_linalgerror_eigenvalues_nonconvergence\u001b[0m\u001b[1;33m(\u001b[0m\u001b[0merr\u001b[0m\u001b[1;33m,\u001b[0m \u001b[0mflag\u001b[0m\u001b[1;33m)\u001b[0m\u001b[1;33m:\u001b[0m\u001b[1;33m\u001b[0m\u001b[1;33m\u001b[0m\u001b[0m\n",
      "\u001b[1;31mLinAlgError\u001b[0m: Matrix is not positive definite"
     ]
    }
   ],
   "source": [
    "LA.cholesky(A2)\n"
   ]
  },
  {
   "cell_type": "markdown",
   "id": "952815aa-4692-4ac3-81b4-ebd348b281a8",
   "metadata": {},
   "source": [
    "---"
   ]
  },
  {
   "cell_type": "markdown",
   "id": "18680b23-15d0-4a0c-ab29-bd77890d02cd",
   "metadata": {},
   "source": [
    "### `LA.norm(v)`"
   ]
  },
  {
   "cell_type": "markdown",
   "id": "e99f7154-b69a-4180-a81a-bd18f93a7088",
   "metadata": {},
   "source": [
    "La norma de un vector en $\\mathbb{R}^n$\n",
    "\n",
    "$\\underline{V}=(v_0, v_1, v_2,....v_n)$ es:\n",
    "\n",
    "$||\\underline{V}||=\\sqrt{v_0^2+v_1^2+v_2^2,...,v_n^2}$\n",
    "\n"
   ]
  },
  {
   "cell_type": "code",
   "execution_count": 23,
   "id": "7890d0b5-4e6d-4c0a-be3e-658f8de55322",
   "metadata": {},
   "outputs": [],
   "source": [
    "V = [-1, 2, -2]\n"
   ]
  },
  {
   "cell_type": "code",
   "execution_count": 24,
   "id": "55afb621-4072-4ac9-b860-584dcf123d85",
   "metadata": {},
   "outputs": [
    {
     "data": {
      "text/plain": [
       "3.0"
      ]
     },
     "execution_count": 24,
     "metadata": {},
     "output_type": "execute_result"
    }
   ],
   "source": [
    "LA.norm(V)\n"
   ]
  },
  {
   "cell_type": "markdown",
   "id": "75d45f6a-fe8a-407e-88ee-1fed36f0ecac",
   "metadata": {},
   "source": [
    "---"
   ]
  },
  {
   "cell_type": "markdown",
   "id": "c6bbb43b-972d-49c7-89d3-2d5da3054703",
   "metadata": {},
   "source": [
    "### `LA.eig(a)` y `LA.eigvals(a)`"
   ]
  },
  {
   "cell_type": "markdown",
   "id": "0fdfb612-ed2d-4c74-9975-12a8a1ce3020",
   "metadata": {},
   "source": [
    "Los valores de $\\lambda$ se obtienen de la solución del polinomio característico que surge de: $|\\underline{\\underline{A}}-\\lambda\\underline{\\underline{I}}|=0$.\n",
    "\n",
    "Y los vectores propios son aquellos que satisfacen para cada valor de $\\lambda$ la ecuación $(\\underline{\\underline{A}}-\\lambda\\underline{\\underline{I}})\\underline{X}=\\underline{0}$.\n",
    "\n",
    "Por cada $\\lambda$ hay un vector propio."
   ]
  },
  {
   "cell_type": "code",
   "execution_count": 25,
   "id": "2d5ceed2-5b5a-4d0b-a241-accdd9171682",
   "metadata": {},
   "outputs": [],
   "source": [
    "A = [[1, 2],\n",
    "     [3, 2]]\n"
   ]
  },
  {
   "cell_type": "code",
   "execution_count": 26,
   "id": "008e2a66-6beb-4c6d-a521-ee4a14450ae8",
   "metadata": {},
   "outputs": [
    {
     "data": {
      "text/plain": [
       "array([-1.,  4.])"
      ]
     },
     "execution_count": 26,
     "metadata": {},
     "output_type": "execute_result"
    }
   ],
   "source": [
    "LA.eigvals(A)\n"
   ]
  },
  {
   "cell_type": "markdown",
   "id": "352c7032-d768-4a61-a925-956b87e69f02",
   "metadata": {},
   "source": [
    "---"
   ]
  },
  {
   "cell_type": "code",
   "execution_count": 27,
   "id": "8f95e4bd-3595-465e-a754-cbc051868267",
   "metadata": {},
   "outputs": [
    {
     "data": {
      "text/plain": [
       "(array([-1.,  4.]),\n",
       " array([[-0.70710678, -0.5547002 ],\n",
       "        [ 0.70710678, -0.83205029]]))"
      ]
     },
     "execution_count": 27,
     "metadata": {},
     "output_type": "execute_result"
    }
   ],
   "source": [
    "LA.eig(A)\n"
   ]
  },
  {
   "cell_type": "code",
   "execution_count": 28,
   "id": "c1b3f7e3-f33f-4665-8d20-63f8697c2b87",
   "metadata": {},
   "outputs": [],
   "source": [
    "e, w = LA.eig(A)\n"
   ]
  },
  {
   "cell_type": "markdown",
   "id": "bb55c061-cfc1-4897-8a4a-69c6b805c413",
   "metadata": {},
   "source": [
    "La primera parte del resultados es equivalente a usar la función `LA.eig(A)`."
   ]
  },
  {
   "cell_type": "code",
   "execution_count": 29,
   "id": "c9d9b33f-54bf-4e07-8f26-bdffcdb23476",
   "metadata": {},
   "outputs": [
    {
     "data": {
      "text/plain": [
       "array([-1.,  4.])"
      ]
     },
     "execution_count": 29,
     "metadata": {},
     "output_type": "execute_result"
    }
   ],
   "source": [
    "e\n"
   ]
  },
  {
   "cell_type": "markdown",
   "id": "7c3586e2-9c4f-4170-94d8-3b1eda1a2c77",
   "metadata": {},
   "source": [
    "En la segunda parte del resultado, el primer vector propio es la primera columna y el segundo vector propio es la segunda columna (los vectores ya están normalizados a 1)."
   ]
  },
  {
   "cell_type": "code",
   "execution_count": 30,
   "id": "dd8150cc-b037-462c-83b1-78200090058c",
   "metadata": {},
   "outputs": [
    {
     "data": {
      "text/plain": [
       "array([[-0.70710678, -0.5547002 ],\n",
       "       [ 0.70710678, -0.83205029]])"
      ]
     },
     "execution_count": 30,
     "metadata": {},
     "output_type": "execute_result"
    }
   ],
   "source": [
    "w\n"
   ]
  },
  {
   "cell_type": "markdown",
   "id": "b6bca474-99a6-418a-8ed5-5d6f7a37d05f",
   "metadata": {},
   "source": [
    "---"
   ]
  },
  {
   "cell_type": "code",
   "execution_count": 31,
   "id": "ecf0bd7f-ebce-4297-a72e-fe98e8d36fdb",
   "metadata": {},
   "outputs": [],
   "source": [
    "w1 = w[:, 0]\n",
    "w2 = w[:, 1]\n"
   ]
  },
  {
   "cell_type": "code",
   "execution_count": 32,
   "id": "cd008a51-8293-43a4-aef1-f778c7e206df",
   "metadata": {},
   "outputs": [
    {
     "data": {
      "text/plain": [
       "array([-0.70710678,  0.70710678])"
      ]
     },
     "execution_count": 32,
     "metadata": {},
     "output_type": "execute_result"
    }
   ],
   "source": [
    "w1\n"
   ]
  },
  {
   "cell_type": "code",
   "execution_count": 33,
   "id": "4d0a35aa-20e8-4769-acf9-40014a2de23b",
   "metadata": {},
   "outputs": [
    {
     "data": {
      "text/plain": [
       "0.9999999999999999"
      ]
     },
     "execution_count": 33,
     "metadata": {},
     "output_type": "execute_result"
    }
   ],
   "source": [
    "LA.norm(w1)\n"
   ]
  },
  {
   "cell_type": "code",
   "execution_count": 34,
   "id": "508411ce-4816-4ea1-9917-ef9ac2b39ad6",
   "metadata": {},
   "outputs": [
    {
     "data": {
      "text/plain": [
       "array([-0.5547002 , -0.83205029])"
      ]
     },
     "execution_count": 34,
     "metadata": {},
     "output_type": "execute_result"
    }
   ],
   "source": [
    "w2\n"
   ]
  },
  {
   "cell_type": "code",
   "execution_count": 35,
   "id": "e7bbf41f-0cd3-470f-b990-3864d2b0e85a",
   "metadata": {},
   "outputs": [
    {
     "data": {
      "text/plain": [
       "1.0"
      ]
     },
     "execution_count": 35,
     "metadata": {},
     "output_type": "execute_result"
    }
   ],
   "source": [
    "LA.norm(w2)\n"
   ]
  },
  {
   "cell_type": "markdown",
   "id": "a35753a2-1705-4c8c-b263-5ac698915364",
   "metadata": {},
   "source": [
    "---"
   ]
  },
  {
   "cell_type": "markdown",
   "id": "7593ff8f-75c1-4df7-8333-4b0945db8135",
   "metadata": {},
   "source": [
    "## **1.6.2. En `sympy`**\n",
    "- `A.is_positive_definite`\n",
    "- `A.cholesky()`\n",
    "- `A.LUdecomposition()`\n",
    "- `A.LUsolve(B)`\n",
    "- `V.norm()`\n",
    "- `A.eigenvals()` y `A.eigenvects()`\n",
    "- `sp.solve(ecu, X)`"
   ]
  },
  {
   "cell_type": "markdown",
   "id": "046fecc5-d7b2-408d-a271-66c0ef81cb35",
   "metadata": {},
   "source": [
    "---"
   ]
  },
  {
   "cell_type": "markdown",
   "id": "800e3c48-f40a-4591-bfc0-3920cfda0191",
   "metadata": {},
   "source": [
    "### `A.is_positive_definite`"
   ]
  },
  {
   "cell_type": "code",
   "execution_count": 36,
   "id": "f3e0ec36-93d4-40f2-9e99-b6603494653f",
   "metadata": {},
   "outputs": [],
   "source": [
    "A = sp.Matrix([[25, 15, -5], \n",
    "               [15, 18,  0], \n",
    "               [-5,  0, 11]])\n"
   ]
  },
  {
   "cell_type": "code",
   "execution_count": 37,
   "id": "8561f8de-84b9-4f8c-85a4-4ecdd77608b3",
   "metadata": {},
   "outputs": [
    {
     "data": {
      "text/latex": [
       "$\\displaystyle \\left[\\begin{matrix}25 & 15 & -5\\\\15 & 18 & 0\\\\-5 & 0 & 11\\end{matrix}\\right]$"
      ],
      "text/plain": [
       "Matrix([\n",
       "[25, 15, -5],\n",
       "[15, 18,  0],\n",
       "[-5,  0, 11]])"
      ]
     },
     "execution_count": 37,
     "metadata": {},
     "output_type": "execute_result"
    }
   ],
   "source": [
    "A\n"
   ]
  },
  {
   "cell_type": "markdown",
   "id": "28077dfc-2303-419e-9e98-10dc6984e013",
   "metadata": {},
   "source": [
    "Y por si parece extraño, mire esta otra forma de definir la misma matriz. Dependiendo de la aplicación que se desarrolle, puede ser útil una u otra."
   ]
  },
  {
   "cell_type": "code",
   "execution_count": 38,
   "id": "5d5984bf-1b78-4df2-b31c-8cfff98f6606",
   "metadata": {},
   "outputs": [
    {
     "data": {
      "text/latex": [
       "$\\displaystyle \\left[\\begin{matrix}25 & 15 & -5\\\\15 & 18 & 0\\\\-5 & 0 & 11\\end{matrix}\\right]$"
      ],
      "text/plain": [
       "Matrix([\n",
       "[25, 15, -5],\n",
       "[15, 18,  0],\n",
       "[-5,  0, 11]])"
      ]
     },
     "execution_count": 38,
     "metadata": {},
     "output_type": "execute_result"
    }
   ],
   "source": [
    "# Los dos primeros argumentos indican el tamaño.\n",
    "sp.Matrix(3, 3, (25, 15, -5, 15, 18,  0, -5,  0, 11))\n"
   ]
  },
  {
   "cell_type": "code",
   "execution_count": 39,
   "id": "bf833b13-4318-4a9c-8f32-95d6a0e9bbac",
   "metadata": {},
   "outputs": [
    {
     "data": {
      "text/plain": [
       "True"
      ]
     },
     "execution_count": 39,
     "metadata": {},
     "output_type": "execute_result"
    }
   ],
   "source": [
    "A.is_positive_definite\n"
   ]
  },
  {
   "cell_type": "markdown",
   "id": "71b13b28-0f10-4b8e-b361-99c1402ff2c9",
   "metadata": {},
   "source": [
    "---"
   ]
  },
  {
   "cell_type": "markdown",
   "id": "109ed023-9be0-4653-855d-f3e1202b958b",
   "metadata": {},
   "source": [
    "### `A.cholesky()`"
   ]
  },
  {
   "cell_type": "code",
   "execution_count": 40,
   "id": "c35d9c0a-5212-4df9-bff2-fb3addcd84a3",
   "metadata": {},
   "outputs": [
    {
     "data": {
      "text/latex": [
       "$\\displaystyle \\left[\\begin{matrix}5 & 0 & 0\\\\3 & 3 & 0\\\\-1 & 1 & 3\\end{matrix}\\right]$"
      ],
      "text/plain": [
       "Matrix([\n",
       "[ 5, 0, 0],\n",
       "[ 3, 3, 0],\n",
       "[-1, 1, 3]])"
      ]
     },
     "execution_count": 40,
     "metadata": {},
     "output_type": "execute_result"
    }
   ],
   "source": [
    "A.cholesky()\n"
   ]
  },
  {
   "cell_type": "code",
   "execution_count": 41,
   "id": "a114a03a-6b06-427d-8696-13081a4341c0",
   "metadata": {},
   "outputs": [],
   "source": [
    "L = A.cholesky()\n"
   ]
  },
  {
   "cell_type": "code",
   "execution_count": 42,
   "id": "aedf9cb5-2332-4795-b7c1-c7e7cd3023b8",
   "metadata": {},
   "outputs": [
    {
     "data": {
      "text/latex": [
       "$\\displaystyle \\left[\\begin{matrix}0 & 0 & 0\\\\0 & 0 & 0\\\\0 & 0 & 0\\end{matrix}\\right]$"
      ],
      "text/plain": [
       "Matrix([\n",
       "[0, 0, 0],\n",
       "[0, 0, 0],\n",
       "[0, 0, 0]])"
      ]
     },
     "execution_count": 42,
     "metadata": {},
     "output_type": "execute_result"
    }
   ],
   "source": [
    "L*L.T - A\n"
   ]
  },
  {
   "cell_type": "markdown",
   "id": "265ec08b-4e14-4ecd-b904-1f37180e6478",
   "metadata": {},
   "source": [
    "---"
   ]
  },
  {
   "cell_type": "markdown",
   "id": "f0c381f0-43e7-4387-a5b1-d96794d328e0",
   "metadata": {},
   "source": [
    "### `A.LUdecomposition()`"
   ]
  },
  {
   "cell_type": "code",
   "execution_count": 43,
   "id": "bd6bd00e-11c4-4c5f-839d-53525909f5bb",
   "metadata": {},
   "outputs": [],
   "source": [
    "A = sp.Matrix([[4, 3], \n",
    "               [6, 3]])\n"
   ]
  },
  {
   "cell_type": "code",
   "execution_count": 44,
   "id": "a62baea0-8b2c-417e-839b-0e6dc92cada4",
   "metadata": {},
   "outputs": [
    {
     "data": {
      "text/plain": [
       "(Matrix([\n",
       " [  1, 0],\n",
       " [3/2, 1]]),\n",
       " Matrix([\n",
       " [4,    3],\n",
       " [0, -3/2]]),\n",
       " [])"
      ]
     },
     "execution_count": 44,
     "metadata": {},
     "output_type": "execute_result"
    }
   ],
   "source": [
    "A.LUdecomposition()\n"
   ]
  },
  {
   "cell_type": "code",
   "execution_count": 45,
   "id": "0003124c-702b-4608-b4a5-c9df5f05b719",
   "metadata": {},
   "outputs": [],
   "source": [
    "L, U, _ = A.LUdecomposition()\n"
   ]
  },
  {
   "cell_type": "code",
   "execution_count": 46,
   "id": "09ba1e79-31b3-404c-b4b9-a54a5cb4e2e0",
   "metadata": {},
   "outputs": [
    {
     "data": {
      "text/latex": [
       "$\\displaystyle \\left[\\begin{matrix}1 & 0\\\\\\frac{3}{2} & 1\\end{matrix}\\right]$"
      ],
      "text/plain": [
       "Matrix([\n",
       "[  1, 0],\n",
       "[3/2, 1]])"
      ]
     },
     "execution_count": 46,
     "metadata": {},
     "output_type": "execute_result"
    }
   ],
   "source": [
    "L\n"
   ]
  },
  {
   "cell_type": "code",
   "execution_count": 47,
   "id": "1dc40088-316e-41cb-bade-72ce613ec082",
   "metadata": {},
   "outputs": [
    {
     "data": {
      "text/latex": [
       "$\\displaystyle \\left[\\begin{matrix}4 & 3\\\\0 & - \\frac{3}{2}\\end{matrix}\\right]$"
      ],
      "text/plain": [
       "Matrix([\n",
       "[4,    3],\n",
       "[0, -3/2]])"
      ]
     },
     "execution_count": 47,
     "metadata": {},
     "output_type": "execute_result"
    }
   ],
   "source": [
    "U\n"
   ]
  },
  {
   "cell_type": "code",
   "execution_count": 48,
   "id": "99c5e8b3-d099-47b3-be30-cb5477d09f61",
   "metadata": {},
   "outputs": [
    {
     "data": {
      "text/latex": [
       "$\\displaystyle \\left[\\begin{matrix}0 & 0\\\\0 & 0\\end{matrix}\\right]$"
      ],
      "text/plain": [
       "Matrix([\n",
       "[0, 0],\n",
       "[0, 0]])"
      ]
     },
     "execution_count": 48,
     "metadata": {},
     "output_type": "execute_result"
    }
   ],
   "source": [
    "L*U - A\n"
   ]
  },
  {
   "cell_type": "markdown",
   "id": "9cef1b98-b034-4cbf-b8be-51a5940157ab",
   "metadata": {},
   "source": [
    "---"
   ]
  },
  {
   "cell_type": "markdown",
   "id": "a879c887-5d66-4848-8eb3-d834ee353c38",
   "metadata": {},
   "source": [
    "### `A.LUsolve(B)`"
   ]
  },
  {
   "cell_type": "markdown",
   "id": "6124b5b7-3429-4095-b82f-a6fbafc9b90f",
   "metadata": {},
   "source": [
    "Ejemplo 1:"
   ]
  },
  {
   "cell_type": "code",
   "execution_count": 49,
   "id": "a5dd6b68-995b-4a8e-8fef-52f21cd86d54",
   "metadata": {},
   "outputs": [],
   "source": [
    "A = sp.Matrix([[-1, -1,  6,  9],\n",
    "               [-5,  5, -3,  6],\n",
    "               [ 7, -3,  5, -6],\n",
    "               [ 3, -3, -2,  3]])\n",
    "\n",
    "B = sp.Matrix([-29, -54, 38, 41])\n"
   ]
  },
  {
   "cell_type": "code",
   "execution_count": 50,
   "id": "8b0f9772-af08-46c5-bfb6-adc1448691a9",
   "metadata": {},
   "outputs": [
    {
     "data": {
      "text/latex": [
       "$\\displaystyle \\left[\\begin{matrix}4\\\\-8\\\\-4\\\\-1\\end{matrix}\\right]$"
      ],
      "text/plain": [
       "Matrix([\n",
       "[ 4],\n",
       "[-8],\n",
       "[-4],\n",
       "[-1]])"
      ]
     },
     "execution_count": 50,
     "metadata": {},
     "output_type": "execute_result"
    }
   ],
   "source": [
    "A.LUsolve(B)\n"
   ]
  },
  {
   "cell_type": "markdown",
   "id": "204b175f-fc0d-4184-8d83-94e50a92a48b",
   "metadata": {},
   "source": [
    "---"
   ]
  },
  {
   "cell_type": "markdown",
   "id": "2017ac58-a373-49eb-845e-d004dd88e54a",
   "metadata": {},
   "source": [
    "Ejemplo 2:"
   ]
  },
  {
   "cell_type": "code",
   "execution_count": 51,
   "id": "f0f77be2-2743-43d2-925b-7c1795885b41",
   "metadata": {},
   "outputs": [],
   "source": [
    "A = sp.Matrix([[-1,  2],\n",
    "               [ 3, -1]])\n",
    "\n",
    "B = sp.Matrix([[1, 4, 10],\n",
    "               [2, 1,  3]])\n"
   ]
  },
  {
   "cell_type": "code",
   "execution_count": 52,
   "id": "9fb2012a-f0f6-4b2f-8c4b-fbe915692e10",
   "metadata": {},
   "outputs": [
    {
     "data": {
      "text/latex": [
       "$\\displaystyle \\left[\\begin{matrix}1 & \\frac{6}{5} & \\frac{16}{5}\\\\1 & \\frac{13}{5} & \\frac{33}{5}\\end{matrix}\\right]$"
      ],
      "text/plain": [
       "Matrix([\n",
       "[1,  6/5, 16/5],\n",
       "[1, 13/5, 33/5]])"
      ]
     },
     "execution_count": 52,
     "metadata": {},
     "output_type": "execute_result"
    }
   ],
   "source": [
    "A.LUsolve(B)\n"
   ]
  },
  {
   "cell_type": "markdown",
   "id": "95a34b8d-406f-45d6-97f8-8b372aceb6fc",
   "metadata": {},
   "source": [
    "---"
   ]
  },
  {
   "cell_type": "markdown",
   "id": "5a1099bc-4568-4c92-8c97-60cbad69f186",
   "metadata": {},
   "source": [
    "### `V.norm()`"
   ]
  },
  {
   "cell_type": "code",
   "execution_count": 53,
   "id": "c237a9fa-04f5-494f-b56c-86cf57d3701e",
   "metadata": {},
   "outputs": [],
   "source": [
    "V = sp.Matrix([-1, 2, -2])\n"
   ]
  },
  {
   "cell_type": "code",
   "execution_count": 54,
   "id": "a8b6554d-7504-4b5a-a6a5-f48b28144043",
   "metadata": {},
   "outputs": [
    {
     "data": {
      "text/latex": [
       "$\\displaystyle 3$"
      ],
      "text/plain": [
       "3"
      ]
     },
     "execution_count": 54,
     "metadata": {},
     "output_type": "execute_result"
    }
   ],
   "source": [
    "V.norm()\n"
   ]
  },
  {
   "cell_type": "markdown",
   "id": "e9ca1406-924e-4388-8d97-2b6eeb1d8cf6",
   "metadata": {},
   "source": [
    "---"
   ]
  },
  {
   "cell_type": "markdown",
   "id": "4a5adcfc-da4d-4490-9605-e1f2ca3caa5e",
   "metadata": {},
   "source": [
    "### `A.eigenvals()` y `A.eigenvects()`"
   ]
  },
  {
   "cell_type": "code",
   "execution_count": 55,
   "id": "58548d89-6bcf-4465-9733-b68dfee1462a",
   "metadata": {},
   "outputs": [],
   "source": [
    "A = sp.Matrix([[1, 2],\n",
    "               [3, 2]])\n"
   ]
  },
  {
   "cell_type": "code",
   "execution_count": 56,
   "id": "acfc320c-51fb-46ba-a5c7-8c72ae9a44a5",
   "metadata": {},
   "outputs": [
    {
     "data": {
      "text/plain": [
       "{4: 1, -1: 1}"
      ]
     },
     "execution_count": 56,
     "metadata": {},
     "output_type": "execute_result"
    }
   ],
   "source": [
    "A.eigenvals()  # Sus valores propios son 4 y -1\n"
   ]
  },
  {
   "cell_type": "code",
   "execution_count": 57,
   "id": "7d806d3a-ca0b-4474-8de8-78772ecd038c",
   "metadata": {
    "tags": []
   },
   "outputs": [
    {
     "data": {
      "text/plain": [
       "[(-1,\n",
       "  1,\n",
       "  [Matrix([\n",
       "   [-1],\n",
       "   [ 1]])]),\n",
       " (4,\n",
       "  1,\n",
       "  [Matrix([\n",
       "   [2/3],\n",
       "   [  1]])])]"
      ]
     },
     "execution_count": 57,
     "metadata": {},
     "output_type": "execute_result"
    }
   ],
   "source": [
    "A.eigenvects()\n"
   ]
  },
  {
   "cell_type": "markdown",
   "id": "033f3f17-84ac-4fb3-bfe8-5426c0613934",
   "metadata": {},
   "source": [
    "---"
   ]
  },
  {
   "cell_type": "code",
   "execution_count": 58,
   "id": "08ccde3d-9053-4317-82b3-6d8b0da743ce",
   "metadata": {},
   "outputs": [
    {
     "data": {
      "text/latex": [
       "$\\displaystyle \\left[\\begin{matrix}-1\\\\1\\end{matrix}\\right]$"
      ],
      "text/plain": [
       "Matrix([\n",
       "[-1],\n",
       "[ 1]])"
      ]
     },
     "execution_count": 58,
     "metadata": {},
     "output_type": "execute_result"
    }
   ],
   "source": [
    "A.eigenvects()[0][2][0]  # Vector propio 1.\n"
   ]
  },
  {
   "cell_type": "code",
   "execution_count": 59,
   "id": "c3c008f9-aa81-4d5e-bd46-55cec48f3696",
   "metadata": {},
   "outputs": [
    {
     "data": {
      "text/latex": [
       "$\\displaystyle \\left[\\begin{matrix}\\frac{2}{3}\\\\1\\end{matrix}\\right]$"
      ],
      "text/plain": [
       "Matrix([\n",
       "[2/3],\n",
       "[  1]])"
      ]
     },
     "execution_count": 59,
     "metadata": {},
     "output_type": "execute_result"
    }
   ],
   "source": [
    "A.eigenvects()[1][2][0] # Vector propio 2.\n"
   ]
  },
  {
   "cell_type": "markdown",
   "id": "9b916e3e-4955-4091-b127-39d42af0cfce",
   "metadata": {},
   "source": [
    "---"
   ]
  },
  {
   "cell_type": "markdown",
   "id": "884b946c-c788-4e12-82b4-671cb012c22a",
   "metadata": {},
   "source": [
    "### `sp.solve(ecu, X)`"
   ]
  },
  {
   "cell_type": "markdown",
   "id": "916e6e8e-e493-4834-8e5f-4971045ec18a",
   "metadata": {},
   "source": [
    "Se definen las variables simbólicas de las incógnitas para un sistema $3x3$."
   ]
  },
  {
   "cell_type": "code",
   "execution_count": 60,
   "id": "e180c52b-635a-4b67-a712-e2a06eb2ca33",
   "metadata": {},
   "outputs": [],
   "source": [
    "x0, x1, x2 = sp.symbols('x_0, x_1, x_2')\n"
   ]
  },
  {
   "cell_type": "markdown",
   "id": "eb845505-9f58-496a-a519-2f140e09d167",
   "metadata": {},
   "source": [
    "Ejemplo 1:"
   ]
  },
  {
   "cell_type": "markdown",
   "id": "f7cdb733-7877-4ba7-95cd-8c7e74166e35",
   "metadata": {},
   "source": [
    "Se define `ecu`: ecuaciones e `inc`: incógnitas."
   ]
  },
  {
   "cell_type": "code",
   "execution_count": 61,
   "id": "19e92b3d-a336-4407-88b5-193e2e0a5f2a",
   "metadata": {},
   "outputs": [],
   "source": [
    "ecu = [5*x0 - 2*x1 + 1*x2 - 24,\n",
    "       2*x0 + 5*x1 - 2*x2 + 14,\n",
    "       1*x0 - 4*x1 + 3*x2 - 26]\n",
    "\n",
    "inc = [x0, x1, x2]\n"
   ]
  },
  {
   "cell_type": "code",
   "execution_count": 62,
   "id": "32a06384-8f2c-49b0-ac3e-820bf8bd6199",
   "metadata": {},
   "outputs": [
    {
     "data": {
      "text/plain": [
       "{x_0: 3, x_1: -2, x_2: 5}"
      ]
     },
     "execution_count": 62,
     "metadata": {},
     "output_type": "execute_result"
    }
   ],
   "source": [
    "sp.solve(ecu, inc)\n"
   ]
  },
  {
   "cell_type": "markdown",
   "id": "fa6cf0a1-a224-4eed-9734-3352623485ac",
   "metadata": {},
   "source": [
    "---"
   ]
  },
  {
   "cell_type": "markdown",
   "id": "cc2eb748-fa99-4385-af86-6d4ea528cf55",
   "metadata": {},
   "source": [
    "Ejemplo 2:"
   ]
  },
  {
   "cell_type": "code",
   "execution_count": 63,
   "id": "3e6f6567-d744-4923-a613-2ced75aeb084",
   "metadata": {},
   "outputs": [],
   "source": [
    "A = sp.Matrix([[5, -2, 1],\n",
    "               [2, 5, -2],\n",
    "               [1, -4, 3]])\n",
    "\n",
    "B = sp.Matrix([[24],\n",
    "               [-14],\n",
    "               [26]])\n",
    "\n",
    "X = sp.Matrix([[x0],\n",
    "               [x1],\n",
    "               [x2]])\n"
   ]
  },
  {
   "cell_type": "code",
   "execution_count": 64,
   "id": "d205c957-0df0-46e4-8b84-7294e774a0ac",
   "metadata": {},
   "outputs": [
    {
     "data": {
      "text/plain": [
       "{x_0: 3, x_1: -2, x_2: 5}"
      ]
     },
     "execution_count": 64,
     "metadata": {},
     "output_type": "execute_result"
    }
   ],
   "source": [
    "sp.solve(A*X-B, X)\n"
   ]
  },
  {
   "cell_type": "markdown",
   "id": "1ba6fdf9-8686-4f73-b216-24a40c537075",
   "metadata": {},
   "source": [
    "Se le puede indicar qué método usar con el argumento opcional `method`. Por ejemplo, cuando se tienen matrices simétricas definidas positivas se puede poner `method='CH'`."
   ]
  },
  {
   "cell_type": "code",
   "execution_count": 65,
   "id": "95f4efa9-7634-4bdf-9115-c35f85bbf50b",
   "metadata": {},
   "outputs": [
    {
     "data": {
      "text/plain": [
       "{x_0: 3, x_1: -2, x_2: 5}"
      ]
     },
     "execution_count": 65,
     "metadata": {},
     "output_type": "execute_result"
    }
   ],
   "source": [
    "sp.solve(A*X-B, X, method='LU')\n"
   ]
  },
  {
   "cell_type": "markdown",
   "id": "530ee03e-887e-46e8-a89e-39aa686b4f1c",
   "metadata": {},
   "source": [
    "---"
   ]
  },
  {
   "cell_type": "code",
   "execution_count": 66,
   "id": "effb6b7c-c378-4b1c-9e56-b28bce48ed99",
   "metadata": {},
   "outputs": [],
   "source": [
    "X = sp.solve(A*X-B, X)\n"
   ]
  },
  {
   "cell_type": "code",
   "execution_count": 67,
   "id": "028eed26-7254-4d27-b09e-96380097c3a1",
   "metadata": {},
   "outputs": [
    {
     "data": {
      "text/latex": [
       "$\\displaystyle 3$"
      ],
      "text/plain": [
       "3"
      ]
     },
     "execution_count": 67,
     "metadata": {},
     "output_type": "execute_result"
    }
   ],
   "source": [
    "X[x0]\n"
   ]
  },
  {
   "cell_type": "code",
   "execution_count": 68,
   "id": "f27e9fdb-9831-4702-8c00-a136bd135c4b",
   "metadata": {},
   "outputs": [
    {
     "data": {
      "text/latex": [
       "$\\displaystyle -2$"
      ],
      "text/plain": [
       "-2"
      ]
     },
     "execution_count": 68,
     "metadata": {},
     "output_type": "execute_result"
    }
   ],
   "source": [
    "X[x1]\n"
   ]
  },
  {
   "cell_type": "code",
   "execution_count": 69,
   "id": "09816d0a-3bc7-467c-b790-9f923d3f1915",
   "metadata": {},
   "outputs": [
    {
     "data": {
      "text/latex": [
       "$\\displaystyle 5$"
      ],
      "text/plain": [
       "5"
      ]
     },
     "execution_count": 69,
     "metadata": {},
     "output_type": "execute_result"
    }
   ],
   "source": [
    "X[x2]\n"
   ]
  },
  {
   "cell_type": "markdown",
   "id": "686ded69-b565-456e-be1d-21938a2ba308",
   "metadata": {},
   "source": [
    "---"
   ]
  },
  {
   "cell_type": "markdown",
   "id": "378af1a8-f846-4a57-bd4b-1f97e0a7cb8d",
   "metadata": {},
   "source": [
    "Ejemplo 3: un sistema $3x3$ muy simbólico."
   ]
  },
  {
   "cell_type": "code",
   "execution_count": 70,
   "id": "f381ace9-3700-4a34-869d-b9c4c943cdcf",
   "metadata": {},
   "outputs": [],
   "source": [
    "a0, a1, a2 = sp.symbols('a_0 a_1 a_2')\n",
    "a3, a4, a5 = sp.symbols('a_3 a_4 a_5')\n",
    "a6, a7, a8 = sp.symbols('a_6 a_7 a_8')\n",
    "\n",
    "b0, b1, b2 = sp.symbols('b_0 b_1 b_2')\n"
   ]
  },
  {
   "cell_type": "code",
   "execution_count": 71,
   "id": "827e2341-a48b-44f3-8428-80d0fcacf0fb",
   "metadata": {},
   "outputs": [],
   "source": [
    "A = sp.Matrix([[a0, a1, a2],\n",
    "               [a3, a4, a5],\n",
    "               [a6, a7, a8]])\n",
    "\n",
    "B = sp.Matrix([[b0],\n",
    "               [b1],\n",
    "               [b2]])\n",
    "\n",
    "X = sp.Matrix([[x0],\n",
    "               [x1],\n",
    "               [x2]])\n"
   ]
  },
  {
   "cell_type": "code",
   "execution_count": 72,
   "id": "1646f161-d354-4331-afc5-7a1648ce9926",
   "metadata": {},
   "outputs": [],
   "source": [
    "sol = sp.solve(A*X - B, X)\n"
   ]
  },
  {
   "cell_type": "markdown",
   "id": "9e2e6b3f-47fd-44cd-b279-9297e7fd7fa9",
   "metadata": {},
   "source": [
    "---"
   ]
  },
  {
   "cell_type": "code",
   "execution_count": 73,
   "id": "00d4c4cf-6358-462a-994e-ea8f074d61d1",
   "metadata": {},
   "outputs": [
    {
     "data": {
      "text/latex": [
       "$\\displaystyle \\frac{a_{1} a_{5} b_{2} - a_{1} a_{8} b_{1} - a_{2} a_{4} b_{2} + a_{2} a_{7} b_{1} + a_{4} a_{8} b_{0} - a_{5} a_{7} b_{0}}{a_{0} a_{4} a_{8} - a_{0} a_{5} a_{7} - a_{1} a_{3} a_{8} + a_{1} a_{5} a_{6} + a_{2} a_{3} a_{7} - a_{2} a_{4} a_{6}}$"
      ],
      "text/plain": [
       "(a_1*a_5*b_2 - a_1*a_8*b_1 - a_2*a_4*b_2 + a_2*a_7*b_1 + a_4*a_8*b_0 - a_5*a_7*b_0)/(a_0*a_4*a_8 - a_0*a_5*a_7 - a_1*a_3*a_8 + a_1*a_5*a_6 + a_2*a_3*a_7 - a_2*a_4*a_6)"
      ]
     },
     "execution_count": 73,
     "metadata": {},
     "output_type": "execute_result"
    }
   ],
   "source": [
    "sol[x0]\n"
   ]
  },
  {
   "cell_type": "code",
   "execution_count": 74,
   "id": "41bf8937-3daf-42c9-8287-5fd8b6e17460",
   "metadata": {},
   "outputs": [
    {
     "data": {
      "text/latex": [
       "$\\displaystyle \\frac{- a_{0} a_{5} b_{2} + a_{0} a_{8} b_{1} + a_{2} a_{3} b_{2} - a_{2} a_{6} b_{1} - a_{3} a_{8} b_{0} + a_{5} a_{6} b_{0}}{a_{0} a_{4} a_{8} - a_{0} a_{5} a_{7} - a_{1} a_{3} a_{8} + a_{1} a_{5} a_{6} + a_{2} a_{3} a_{7} - a_{2} a_{4} a_{6}}$"
      ],
      "text/plain": [
       "(-a_0*a_5*b_2 + a_0*a_8*b_1 + a_2*a_3*b_2 - a_2*a_6*b_1 - a_3*a_8*b_0 + a_5*a_6*b_0)/(a_0*a_4*a_8 - a_0*a_5*a_7 - a_1*a_3*a_8 + a_1*a_5*a_6 + a_2*a_3*a_7 - a_2*a_4*a_6)"
      ]
     },
     "execution_count": 74,
     "metadata": {},
     "output_type": "execute_result"
    }
   ],
   "source": [
    "sol[x1]\n"
   ]
  },
  {
   "cell_type": "code",
   "execution_count": 75,
   "id": "1ec4a746-5554-423b-93e2-84a8374a9279",
   "metadata": {},
   "outputs": [
    {
     "data": {
      "text/latex": [
       "$\\displaystyle \\frac{a_{0} a_{4} b_{2} - a_{0} a_{7} b_{1} - a_{1} a_{3} b_{2} + a_{1} a_{6} b_{1} + a_{3} a_{7} b_{0} - a_{4} a_{6} b_{0}}{a_{0} a_{4} a_{8} - a_{0} a_{5} a_{7} - a_{1} a_{3} a_{8} + a_{1} a_{5} a_{6} + a_{2} a_{3} a_{7} - a_{2} a_{4} a_{6}}$"
      ],
      "text/plain": [
       "(a_0*a_4*b_2 - a_0*a_7*b_1 - a_1*a_3*b_2 + a_1*a_6*b_1 + a_3*a_7*b_0 - a_4*a_6*b_0)/(a_0*a_4*a_8 - a_0*a_5*a_7 - a_1*a_3*a_8 + a_1*a_5*a_6 + a_2*a_3*a_7 - a_2*a_4*a_6)"
      ]
     },
     "execution_count": 75,
     "metadata": {},
     "output_type": "execute_result"
    }
   ],
   "source": [
    "sol[x2]\n"
   ]
  },
  {
   "cell_type": "markdown",
   "id": "1bfaf218-6da3-4abc-834a-a0638484a531",
   "metadata": {},
   "source": [
    "---"
   ]
  },
  {
   "cell_type": "markdown",
   "id": "e3535017-e0c4-4111-8b57-6c5ee8e07a45",
   "metadata": {},
   "source": [
    "## **1.6.3. En `scipy`**"
   ]
  },
  {
   "cell_type": "markdown",
   "id": "b1656931-d0ca-46eb-9199-4aad849baa86",
   "metadata": {},
   "source": [
    "- scipy.linalg.solve(a, b)\n",
    "- scipy.linalg.lu(a)"
   ]
  },
  {
   "cell_type": "code",
   "execution_count": 76,
   "id": "de98a646-ff24-47ff-b953-86939c022381",
   "metadata": {},
   "outputs": [],
   "source": [
    "from scipy.linalg import lu, solve\n"
   ]
  },
  {
   "cell_type": "markdown",
   "id": "89c3abf9-752b-4cbb-ba22-5bb86693df2d",
   "metadata": {},
   "source": [
    "---"
   ]
  },
  {
   "cell_type": "code",
   "execution_count": 77,
   "id": "bd707966-66aa-4a09-b54a-c52cb4606789",
   "metadata": {},
   "outputs": [],
   "source": [
    "A = [[-1, -1,  6,  9],\n",
    "     [-5,  5, -3,  6],\n",
    "     [ 7, -3,  5, -6],\n",
    "     [ 3, -3, -2,  3]]\n",
    "\n",
    "B = [-29, -54, 38, 41]\n"
   ]
  },
  {
   "cell_type": "code",
   "execution_count": 78,
   "id": "8eb4a0c3-4b96-415b-b9c6-2e7673641f10",
   "metadata": {},
   "outputs": [
    {
     "data": {
      "text/plain": [
       "(array([[0., 0., 1., 0.],\n",
       "        [0., 1., 0., 0.],\n",
       "        [1., 0., 0., 0.],\n",
       "        [0., 0., 0., 1.]]),\n",
       " array([[ 1.        ,  0.        ,  0.        ,  0.        ],\n",
       "        [-0.71428571,  1.        ,  0.        ,  0.        ],\n",
       "        [-0.14285714, -0.5       ,  1.        ,  0.        ],\n",
       "        [ 0.42857143, -0.6       , -0.54285714,  1.        ]]),\n",
       " array([[ 7.        , -3.        ,  5.        , -6.        ],\n",
       "        [ 0.        ,  2.85714286,  0.57142857,  1.71428571],\n",
       "        [ 0.        ,  0.        ,  7.        ,  9.        ],\n",
       "        [ 0.        ,  0.        ,  0.        , 11.48571429]]))"
      ]
     },
     "execution_count": 78,
     "metadata": {},
     "output_type": "execute_result"
    }
   ],
   "source": [
    "lu(A)\n"
   ]
  },
  {
   "cell_type": "markdown",
   "id": "ea693bad-4414-4117-94de-2290ac0af061",
   "metadata": {},
   "source": [
    "---"
   ]
  },
  {
   "cell_type": "code",
   "execution_count": 79,
   "id": "1086c97f-497e-4640-a120-581dbdff74c1",
   "metadata": {},
   "outputs": [
    {
     "data": {
      "text/plain": [
       "array([ 4., -8., -4., -1.])"
      ]
     },
     "execution_count": 79,
     "metadata": {},
     "output_type": "execute_result"
    }
   ],
   "source": [
    "solve(A, B)\n"
   ]
  },
  {
   "cell_type": "markdown",
   "id": "f8750d68-4c6e-4666-86b8-8389853fa9c6",
   "metadata": {},
   "source": [
    "Revisemos qué tipos de dato se arrojan:"
   ]
  },
  {
   "cell_type": "code",
   "execution_count": 80,
   "id": "32e2257d-d962-4d61-a3f5-53fc6d983a85",
   "metadata": {},
   "outputs": [
    {
     "data": {
      "text/plain": [
       "numpy.ndarray"
      ]
     },
     "execution_count": 80,
     "metadata": {},
     "output_type": "execute_result"
    }
   ],
   "source": [
    "type(lu(A)[0])\n"
   ]
  },
  {
   "cell_type": "code",
   "execution_count": 81,
   "id": "420816d2-1fa6-4447-ad5b-b8030d344697",
   "metadata": {},
   "outputs": [
    {
     "data": {
      "text/plain": [
       "numpy.ndarray"
      ]
     },
     "execution_count": 81,
     "metadata": {},
     "output_type": "execute_result"
    }
   ],
   "source": [
    "type(solve(A, B))\n"
   ]
  },
  {
   "cell_type": "markdown",
   "id": "03994036-aa37-45b5-9620-77aba15a026e",
   "metadata": {},
   "source": [
    "**Comandos adicionales para el tratamiento de expresiones en `Sympy`:**\n",
    "\n",
    "- sp.collect()\n",
    "- sp.simplify()\n",
    "- sp.expand()\n"
   ]
  }
 ],
 "metadata": {
  "kernelspec": {
   "display_name": "Python 3",
   "language": "python",
   "name": "python3"
  },
  "language_info": {
   "codemirror_mode": {
    "name": "ipython",
    "version": 3
   },
   "file_extension": ".py",
   "mimetype": "text/x-python",
   "name": "python",
   "nbconvert_exporter": "python",
   "pygments_lexer": "ipython3",
   "version": "3.8.8"
  },
  "toc-autonumbering": false
 },
 "nbformat": 4,
 "nbformat_minor": 5
}
