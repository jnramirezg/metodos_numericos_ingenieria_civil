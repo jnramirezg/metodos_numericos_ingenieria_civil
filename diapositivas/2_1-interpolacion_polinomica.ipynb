{
 "cells": [
  {
   "cell_type": "markdown",
   "id": "0f812779-e510-4711-8467-b30a07d357ef",
   "metadata": {},
   "source": [
    "**4101553 Métodos Numéricos aplicados a la Ingenieria Civil**\n",
    "-\n",
    "Departamento de Ingeniería Civil\n",
    "\n",
    "Universidad Nacional de Colombia\n",
    "\n",
    "Sede Manizales\n",
    "\n",
    "**Docente:** Juan Nicolás Ramírez Giraldo ([jnramirezg@unal.edu.co](mailto:jnramirezg@unal.edu.co))\n",
    "\n",
    "\"*Cum cogitaveris quot te antecedant, respice quot sequantur*\" (**Séneca**)\n",
    "\n",
    "\n",
    "[Repositorio de la asignatura](https://github.com/jnramirezg/metodos_numericos_ingenieria_civil/)\n",
    "\n",
    "---"
   ]
  },
  {
   "cell_type": "markdown",
   "id": "3a1c5079-400f-4dfe-9c20-dbdfc8359ce1",
   "metadata": {},
   "source": [
    "**Unidad 2: Interpolación**\n",
    "-"
   ]
  },
  {
   "cell_type": "markdown",
   "id": "4fb89521-739f-4b9a-9660-e76e4222e207",
   "metadata": {},
   "source": [
    "En esta unidad trataremos los problemas ligados a la *interpolación* que, en esencia busca **obtener nuevos puntos** a partir de un conjunto de puntos conocido.\n",
    "\n",
    "En sistesis, sus aplicaciones:\n",
    "- Aproximación de una función complicada.\n",
    "- Construir una función que se ajuste a un conjunto de datos.\n",
    "\n",
    "En esta parte del contenido temático profundizaremos en el uso de gráficas en 2D y 3D para la representación de la información obtenida.\n",
    "\n",
    "---"
   ]
  },
  {
   "cell_type": "markdown",
   "id": "faa78c90-d0cb-48ed-aeec-1f8b7ae1eb8d",
   "metadata": {},
   "source": [
    "**Contenido**\n",
    "- 2.1. Interpolación polinómica\n",
    "- 2.2. Interpolación con trazadores\n",
    "- 2.3. Interpolación en varias dimensiones\n",
    "- 2.4. Vecinos más cercanos - distancia inversa ponderada\n",
    "\n",
    "---"
   ]
  },
  {
   "cell_type": "markdown",
   "id": "b97f2b73-292a-48ab-89ae-de6e926fbe11",
   "metadata": {},
   "source": [
    "# **2.1. Interpolación polinómica**\n",
    "\n",
    "En ocasiones se requiere encontrar valores intermedios entres puntos asociados con datos. El método más común que se usa para este objetivo es la *interpolación polinomial*. Un polinomio de grado $n$ tiene la forma general:\n",
    "\n",
    "$f(x)=a_0 +a_1x+a_2x^2+...+a_nx^n$ \n",
    "\n",
    "Para $n+1$ puntos asociados con datos.\n",
    "\n",
    "---\n",
    "\n",
    "**Unicidad del polinomio interpolador:**\n",
    "Se puede demostrar que el polinomio de grado $n$ que pasa por los $n+1$ puntos es *único*.\n",
    "\n",
    "---"
   ]
  },
  {
   "cell_type": "markdown",
   "id": "a436e1ca-9508-4b6d-bc46-b7a0e669563f",
   "metadata": {},
   "source": [
    "- 2.1.1. Interpolación lineal\n",
    "- 2.1.2. Interpolación cuadrática\n",
    "- 2.1.3. Interpolación con la matriz de Vandermonde\n",
    "- 2.1.4. Interpolación de Newton\n",
    "- 2.1.5. Interpolación de Lagrange\n",
    "- 2.1.6. Algunos comandos específicos\n",
    "\n",
    "---"
   ]
  },
  {
   "cell_type": "markdown",
   "id": "c007e77d-1380-4d6b-8f47-4b09513b5d41",
   "metadata": {},
   "source": [
    "Importación de librerías necesarias"
   ]
  },
  {
   "cell_type": "code",
   "execution_count": 1,
   "id": "bc78ca47-6c64-4d79-bd67-9848d769c51d",
   "metadata": {},
   "outputs": [],
   "source": [
    "import numpy as np\n",
    "import sympy as sp\n",
    "import matplotlib.pyplot as plt"
   ]
  },
  {
   "cell_type": "markdown",
   "id": "07bcce05-6996-4416-be06-865e04ee3ea6",
   "metadata": {},
   "source": [
    "---"
   ]
  },
  {
   "cell_type": "markdown",
   "id": "be4429fb-ec69-4d80-a8fa-72d30871af24",
   "metadata": {},
   "source": [
    "## **2.1.1. Interpolación lineal**"
   ]
  },
  {
   "cell_type": "markdown",
   "id": "d3615c88-e432-4052-afbe-260f361a648b",
   "metadata": {},
   "source": [
    "Dado dos puntos asociados a datos experimentales $(x_0, y_0)$ y $(x_1, y_1)$,la forma más simple de unirlos es con **una línea recta**. Esta única recta se puede obtener de la ecuación general de la recta:\n",
    "\n",
    "$\\displaystyle\\frac{y-y_0}{x-x_0}=\\displaystyle\\frac{y_1-y_0}{x_1-x_0}$\n",
    "\n",
    "Haciendo $y=f(x)$ y despejando $f(x)$:\n",
    "\n",
    "$f(x)=y_0+\\displaystyle\\frac{y_1-y_0}{x_1-x_0}(x-x_0)$ **Ec.(1)**\n",
    "\n",
    "A partir de esta expresión se pueden conocer nuevos puntos. Es la forma sistemática de realizar la interpolación por semejanza de triángulos, que se suele hacer en varios campos de la ingeniería.\n",
    "\n",
    "---"
   ]
  },
  {
   "cell_type": "markdown",
   "id": "56f08eb5-139c-4b92-9509-5fa72f889e74",
   "metadata": {},
   "source": [
    "**Ejemplo:** Si se tienen los puntos experimentales $p_1=(1, 1)$ y $p_2=(5, 6)$"
   ]
  },
  {
   "cell_type": "code",
   "execution_count": 2,
   "id": "22baddfa-f15f-48fa-b7da-79dc62cab90f",
   "metadata": {},
   "outputs": [],
   "source": [
    "x0, y0 = 1, 1  # Punto 1.\n",
    "x1, y1 = 5, 6  # Punto 2."
   ]
  },
  {
   "cell_type": "code",
   "execution_count": 3,
   "id": "b9ce220e-e8ba-44e9-8562-3550bc37d604",
   "metadata": {},
   "outputs": [],
   "source": [
    "x = sp.symbols('x')"
   ]
  },
  {
   "cell_type": "code",
   "execution_count": 4,
   "id": "954f1377-ba17-40fd-ae1d-8ba3d52d7832",
   "metadata": {},
   "outputs": [],
   "source": [
    "y = y0 + (y1-y0)/(x1-x0)*(x-x0)  # Aplicación de la Ec.(1)"
   ]
  },
  {
   "cell_type": "code",
   "execution_count": 5,
   "id": "8a75c694-720c-4521-88eb-210e1205a24f",
   "metadata": {},
   "outputs": [
    {
     "data": {
      "text/latex": [
       "$\\displaystyle 1.25 x - 0.25$"
      ],
      "text/plain": [
       "1.25*x - 0.25"
      ]
     },
     "execution_count": 5,
     "metadata": {},
     "output_type": "execute_result"
    }
   ],
   "source": [
    "y"
   ]
  },
  {
   "cell_type": "markdown",
   "id": "4d3fb34e-cd69-4ae9-968b-7c486ea7def4",
   "metadata": {},
   "source": [
    "---\n",
    "\n",
    "Se usa la función `sp.lambdify()` que, covierte en función la ecuación simbólica `y` y se le advierte que `x` es la variable de la función. La principal ventaja de esta estructura es que permite poner como argumentos de f números (`float` o `int`) o conjuntos de datos (`np.array`)."
   ]
  },
  {
   "cell_type": "code",
   "execution_count": 6,
   "id": "eff85f92-32ce-4bdc-9b3f-e99849c3b15a",
   "metadata": {},
   "outputs": [],
   "source": [
    "f = sp.lambdify(x, y)"
   ]
  },
  {
   "cell_type": "markdown",
   "id": "3a5f331c-e7f1-4b3d-8697-30c750e87fad",
   "metadata": {},
   "source": [
    "Se evalúa la función f en algunos puntos intermedios entre $x_0=1$ y $x_1=5$."
   ]
  },
  {
   "cell_type": "code",
   "execution_count": 7,
   "id": "739e947d-10b6-4dcb-ab34-d30c63dc15f6",
   "metadata": {},
   "outputs": [
    {
     "data": {
      "text/plain": [
       "3.5"
      ]
     },
     "execution_count": 7,
     "metadata": {},
     "output_type": "execute_result"
    }
   ],
   "source": [
    "f(3)"
   ]
  },
  {
   "cell_type": "code",
   "execution_count": 8,
   "id": "817de100-7211-478f-aa26-fbd8e733a14b",
   "metadata": {},
   "outputs": [
    {
     "data": {
      "text/plain": [
       "1.9375"
      ]
     },
     "execution_count": 8,
     "metadata": {},
     "output_type": "execute_result"
    }
   ],
   "source": [
    "f(1.75)"
   ]
  },
  {
   "cell_type": "markdown",
   "id": "ddd4ed33-d476-418c-932a-6f38113e8085",
   "metadata": {},
   "source": [
    "---"
   ]
  },
  {
   "cell_type": "markdown",
   "id": "2f81c16d-1619-407e-9d42-e61a72802bb1",
   "metadata": {},
   "source": [
    "Se grafica la interpolación:"
   ]
  },
  {
   "cell_type": "code",
   "execution_count": 9,
   "id": "a7b3ba96-bdd7-459a-a470-3fdee7390290",
   "metadata": {},
   "outputs": [],
   "source": [
    "x_g = np.linspace(x0, x1, 100)"
   ]
  },
  {
   "cell_type": "code",
   "execution_count": 10,
   "id": "5b5585f8-a3e6-4b80-b9f3-f315063bdd16",
   "metadata": {},
   "outputs": [],
   "source": [
    "y_g = f(x_g)"
   ]
  },
  {
   "cell_type": "code",
   "execution_count": 11,
   "id": "26603476-7d3f-4c67-a177-150fcdee4fd6",
   "metadata": {},
   "outputs": [
    {
     "data": {
      "image/png": "[encoded data removed]",
      "text/plain": [
       "<Figure size 432x288 with 1 Axes>"
      ]
     },
     "metadata": {
      "needs_background": "light"
     },
     "output_type": "display_data"
    }
   ],
   "source": [
    "plt.plot(x_g, y_g, 'r')             # Se grafica la función.\n",
    "plt.plot([x0, x1], [y0, y1], 'k.')  # Se grafican los puntos.\n",
    "plt.show()"
   ]
  },
  {
   "cell_type": "markdown",
   "id": "f9c28527-e6c8-4641-b742-32e3f16fabc5",
   "metadata": {},
   "source": [
    "---"
   ]
  },
  {
   "cell_type": "markdown",
   "id": "d7d8ce1d-9b12-4f71-b9a4-6f7d733ca362",
   "metadata": {},
   "source": [
    "## **2.1.2. Interpolación cuadrática**"
   ]
  },
  {
   "cell_type": "markdown",
   "id": "25c8fef5-c109-4bc1-83a3-0eda3b0f1fc6",
   "metadata": {},
   "source": [
    "Dado tres puntos asociados a datos experimentales $(x_0, y_0)$, $(x_1, y_1)$ y $(x_2, y_2)$ la forma polinómica de unirlos es una **parábola**, la cual es única."
   ]
  },
  {
   "cell_type": "markdown",
   "id": "62d81f50-ea4a-4c7a-8333-4cb8b91c59d0",
   "metadata": {},
   "source": [
    "Es claro, que un polinomio de grado 2 tiene la forma:"
   ]
  },
  {
   "cell_type": "markdown",
   "id": "f5ce930d-5aa8-417c-b5df-91030441b9ea",
   "metadata": {},
   "source": [
    "$f(x)=a_0+a_1x+a_2x^2$"
   ]
  },
  {
   "cell_type": "markdown",
   "id": "681bb821-97f8-4355-a69c-6b24ee03b549",
   "metadata": {},
   "source": [
    "---"
   ]
  },
  {
   "cell_type": "markdown",
   "id": "80b722ac-de4b-4401-9346-4ffd4308cf99",
   "metadata": {},
   "source": [
    "**Obtención de los parámetros $a_0$, $a_1$ y $a_2$**\n",
    "\n",
    "A partir de los 3 puntos, se generan las siguientes ecuaciones lineales:\n",
    "\n",
    "$y_0 = a_0 + a_1x_0 + a_2x_0^2$\n",
    "\n",
    "$y_1 = a_0 + a_1x_1 + a_2x_1^2$\n",
    "\n",
    "$y_2 = a_0 + a_1x_2 + a_2x_2^2$"
   ]
  },
  {
   "cell_type": "markdown",
   "id": "7697c4ce-dd31-4d00-bf44-1d4beac22093",
   "metadata": {},
   "source": [
    "Se crea el siguiente sistema de ecuaciones y se resuleve de forma númerica en `numpy`."
   ]
  },
  {
   "cell_type": "markdown",
   "id": "8c45b87a-786c-4f00-90d7-84975cacaa48",
   "metadata": {},
   "source": [
    "$\n",
    "\\begin{bmatrix}\n",
    "y_{0}  \\\\\n",
    "y_{1}  \\\\\n",
    "y_{2} \n",
    "\\end{bmatrix}\n",
    "=\n",
    "\\begin{bmatrix}\n",
    "1 & x_0 & x_0^2\\\\\n",
    "1 & x_1 & x_1^2\\\\\n",
    "1 & x_2 & x_2^2\n",
    "\\end{bmatrix}\n",
    "\\begin{bmatrix}\n",
    "a_{0}  \\\\\n",
    "a_{1}  \\\\\n",
    "a_{2} \n",
    "\\end{bmatrix}\n",
    "$"
   ]
  },
  {
   "cell_type": "markdown",
   "id": "00c390a8-3a1c-4adc-9a25-c062aa3b2792",
   "metadata": {},
   "source": [
    "---\n",
    "\n",
    "**Ejemplo:** Si se tienen los puntos experimentales $p_1=(1, 0)$, $p_2=(4, 1.386294)$ y $p_3=(6, 1.791759)$"
   ]
  },
  {
   "cell_type": "code",
   "execution_count": 12,
   "id": "bdfd37ab-61c5-49b6-97c7-306c8e8a4467",
   "metadata": {
    "tags": []
   },
   "outputs": [],
   "source": [
    "x0, y0 = 1, 0\n",
    "x1, y1 = 4, 1.386294\n",
    "x2, y2 = 6, 1.791759"
   ]
  },
  {
   "cell_type": "code",
   "execution_count": 13,
   "id": "a4b72af2-db7f-49c8-b0db-c51b5557574a",
   "metadata": {},
   "outputs": [],
   "source": [
    "Y = np.array([y0, y1, y2])\n",
    "\n",
    "X = np.array([[1, x0, x0**2],\n",
    "              [1, x1, x1**2],\n",
    "              [1, x2, x2**2]])"
   ]
  },
  {
   "cell_type": "code",
   "execution_count": 14,
   "id": "736c1148-9fdc-4245-90f3-39377dde6f3e",
   "metadata": {},
   "outputs": [],
   "source": [
    "a = np.linalg.solve(X, Y)  # Solución del sistema de ecuaciones con numpy."
   ]
  },
  {
   "cell_type": "code",
   "execution_count": 15,
   "id": "4fa9521f-29cd-4254-be8d-4d53b4c079a6",
   "metadata": {},
   "outputs": [
    {
     "data": {
      "text/plain": [
       "array([-0.6695904,  0.7214635, -0.0518731])"
      ]
     },
     "execution_count": 15,
     "metadata": {},
     "output_type": "execute_result"
    }
   ],
   "source": [
    "a"
   ]
  },
  {
   "cell_type": "markdown",
   "id": "5ec577ac-8e1e-45b9-ba19-24b28404bddd",
   "metadata": {},
   "source": [
    "---"
   ]
  },
  {
   "cell_type": "markdown",
   "id": "c5c4f111-80cf-4961-a92f-34497cd02ab4",
   "metadata": {},
   "source": [
    "Teniendo en cuenta que previamente había sido creado `x` como un símbolo de `sympy`, entonces:"
   ]
  },
  {
   "cell_type": "code",
   "execution_count": 16,
   "id": "ae5e9359-7a09-46a8-99a5-1c6343c90287",
   "metadata": {},
   "outputs": [],
   "source": [
    "y = a[0] + a[1]*x + a[2]*x**2"
   ]
  },
  {
   "cell_type": "code",
   "execution_count": 17,
   "id": "055552d5-00bb-458e-b875-435bf2996d7b",
   "metadata": {},
   "outputs": [
    {
     "data": {
      "text/latex": [
       "$\\displaystyle - 0.0518731 x^{2} + 0.7214635 x - 0.6695904$"
      ],
      "text/plain": [
       "-0.0518731*x**2 + 0.7214635*x - 0.6695904"
      ]
     },
     "execution_count": 17,
     "metadata": {},
     "output_type": "execute_result"
    }
   ],
   "source": [
    "y"
   ]
  },
  {
   "cell_type": "code",
   "execution_count": 18,
   "id": "5ac19103-ce17-47ee-bfd3-28586f68b7cb",
   "metadata": {
    "tags": []
   },
   "outputs": [],
   "source": [
    "f = sp.lambdify(x, y)"
   ]
  },
  {
   "cell_type": "markdown",
   "id": "97060bde-83af-49c7-a686-df9c2c0b15e6",
   "metadata": {},
   "source": [
    "Se evalúa la función f en algunos puntos intermedios $x$ entre 1 y 6."
   ]
  },
  {
   "cell_type": "code",
   "execution_count": 19,
   "id": "35c90c6d-31da-4b35-ab7b-a3772a5f9203",
   "metadata": {},
   "outputs": [
    {
     "data": {
      "text/plain": [
       "1.7917590000000003"
      ]
     },
     "execution_count": 19,
     "metadata": {},
     "output_type": "execute_result"
    }
   ],
   "source": [
    "f(6)"
   ]
  },
  {
   "cell_type": "markdown",
   "id": "1dbceb9f-20bb-49c6-b5e8-7c47275db836",
   "metadata": {},
   "source": [
    "---"
   ]
  },
  {
   "cell_type": "markdown",
   "id": "d30295a3-98af-4d72-a55e-4cf59fe8044c",
   "metadata": {},
   "source": [
    "Se grafica la interpolación:"
   ]
  },
  {
   "cell_type": "code",
   "execution_count": 20,
   "id": "c11773c1-1a5d-43f4-a0da-96c63278a72f",
   "metadata": {},
   "outputs": [],
   "source": [
    "x_g = np.linspace(x0, x2, 100)\n",
    "y_g = f(x_g)"
   ]
  },
  {
   "cell_type": "code",
   "execution_count": 21,
   "id": "92242ef3-64be-400e-8dc1-8dbf00d02d4a",
   "metadata": {},
   "outputs": [
    {
     "data": {
      "image/png": "[encoded data removed]",
      "text/plain": [
       "<Figure size 432x288 with 1 Axes>"
      ]
     },
     "metadata": {
      "needs_background": "light"
     },
     "output_type": "display_data"
    }
   ],
   "source": [
    "plt.plot(x_g, y_g, 'r')\n",
    "plt.plot([x0, x1, x2], [y0, y1, y2], 'k.')\n",
    "plt.show()"
   ]
  },
  {
   "cell_type": "markdown",
   "id": "377062b0-a6fc-4a20-b0bf-f884f5f0d1e5",
   "metadata": {},
   "source": [
    "---"
   ]
  },
  {
   "cell_type": "markdown",
   "id": "bbbb6877-451e-4749-834d-7a9aee28b344",
   "metadata": {},
   "source": [
    "## **2.1.3. Interpolación con la matriz de Vandermonde**"
   ]
  },
  {
   "cell_type": "markdown",
   "id": "507290de-959d-49e3-8c8d-ea0ed04c85e2",
   "metadata": {},
   "source": [
    "Una alternativa en este caso es usar la interpolación polinómica de Newton, cuyo funcionamiento es *recursivo*, otra es obtener el polinomio interpolador con la *matriz de vandermonde*."
   ]
  },
  {
   "cell_type": "markdown",
   "id": "8a958c0c-2661-4c70-979b-2e8883a30357",
   "metadata": {},
   "source": [
    "A partir de los 3 puntos, se se generaba en el caso anterior este sistema:\n",
    "\n",
    "$\n",
    "\\begin{bmatrix}\n",
    "y_{0}  \\\\\n",
    "y_{1}  \\\\\n",
    "y_{2} \n",
    "\\end{bmatrix}\n",
    "=\n",
    "\\begin{bmatrix}\n",
    "1 & x_0 & x_0^2\\\\\n",
    "1 & x_1 & x_1^2\\\\\n",
    "1 & x_2 & x_2^2\n",
    "\\end{bmatrix}\n",
    "\\begin{bmatrix}\n",
    "a_{0}  \\\\\n",
    "a_{1}  \\\\\n",
    "a_{2} \n",
    "\\end{bmatrix}\n",
    "$"
   ]
  },
  {
   "cell_type": "markdown",
   "id": "f597eb89-d376-4b71-8d58-161b074982e6",
   "metadata": {},
   "source": [
    "En general para $n$ puntos se genera el siguiente sistema $nxn$ con una progresión geométrica en cada fila:\n",
    "\n",
    "$\n",
    "\\begin{bmatrix}\n",
    "y_{0}  \\\\\n",
    "y_{1}  \\\\\n",
    "y_{2}  \\\\\n",
    "\\vdots \\\\\n",
    "y_{n}\n",
    "\\end{bmatrix}\n",
    "=\n",
    "\\begin{bmatrix}\n",
    "1     & x_0    & x_0^2 &...& x_0^n\\\\\n",
    "1     & x_1    & x_1^2 &...& x_1^n\\\\\n",
    "1     & x_2    & x_2^2 &...& x_2^n\\\\\n",
    "\\vdots& \\vdots &\\vdots &...&\\vdots\\\\\n",
    "1     & x_n    & x_2^2 &...& x_n^n\\\\\n",
    "\\end{bmatrix}\n",
    "\\begin{bmatrix}\n",
    "a_{0}  \\\\\n",
    "a_{1}  \\\\\n",
    "a_{2}  \\\\\n",
    "\\vdots \\\\\n",
    "a_{n}\n",
    "\\end{bmatrix}\n",
    "$"
   ]
  },
  {
   "cell_type": "markdown",
   "id": "c5bc86a9-2faf-4592-9d55-9c85b7fa2623",
   "metadata": {},
   "source": [
    "---"
   ]
  },
  {
   "cell_type": "markdown",
   "id": "a0d277c3-f64f-408b-89d9-9038d826377d",
   "metadata": {},
   "source": [
    "### **2.1.3.1 Función de interpolación**"
   ]
  },
  {
   "cell_type": "markdown",
   "id": "124632c8-5b91-464d-9d80-bede3a40381a",
   "metadata": {},
   "source": [
    "Se crea una función recibe un conjunto de n puntos (xi, yi) y devuelve una función polinómica interpoladora f, que puede ser evaluada. El polinomio resultante pasa por todos los puntos y es de grado n-1. Se requieren los módulos numpy y sympy.\n"
   ]
  },
  {
   "cell_type": "code",
   "execution_count": 22,
   "id": "6ad53adc-1b0d-4d33-b7a0-bd1b770028f1",
   "metadata": {},
   "outputs": [],
   "source": [
    "xp = [1, 2, 3,  4]\n",
    "yp = [1, 4, 9, 16]"
   ]
  },
  {
   "cell_type": "code",
   "execution_count": 23,
   "id": "bbcdd6ba-cec6-41c3-9171-6725952c041e",
   "metadata": {},
   "outputs": [],
   "source": [
    "xp = np.array(xp, dtype=float)  # De lista a array.\n",
    "yp = np.array(yp, dtype=float)  # De lista a array."
   ]
  },
  {
   "cell_type": "code",
   "execution_count": 24,
   "id": "833f514b-907b-4a9d-af46-1b8d3941e926",
   "metadata": {},
   "outputs": [],
   "source": [
    "m =len(xp)"
   ]
  },
  {
   "cell_type": "code",
   "execution_count": 25,
   "id": "c4d4ce5e-6d07-4e1c-9bfd-4db8d3cdc820",
   "metadata": {},
   "outputs": [],
   "source": [
    "X =(np.ones((m, m))*xp).T\n",
    "\n",
    "for i in range(m):          # Ensamblaje\n",
    "    X[:, i] = X[:, i]**i"
   ]
  },
  {
   "cell_type": "code",
   "execution_count": 26,
   "id": "b8562c12-6931-488c-bf9d-b62056942ab7",
   "metadata": {},
   "outputs": [
    {
     "data": {
      "text/plain": [
       "array([[ 1.,  1.,  1.,  1.],\n",
       "       [ 1.,  2.,  4.,  8.],\n",
       "       [ 1.,  3.,  9., 27.],\n",
       "       [ 1.,  4., 16., 64.]])"
      ]
     },
     "execution_count": 26,
     "metadata": {},
     "output_type": "execute_result"
    }
   ],
   "source": [
    "X"
   ]
  },
  {
   "cell_type": "code",
   "execution_count": 27,
   "id": "fe2f569b-d2d9-4ea9-bd5d-b1d32b0391cc",
   "metadata": {},
   "outputs": [],
   "source": [
    "a = np.linalg.solve(X, yp)  # Obtención de los coeficientes.\n",
    "\n",
    "# Polinomio interpolador.\n",
    "y = 0                       # Espacio de memoria.\n",
    "for i in range(m):\n",
    "    y += a[i]*x**i"
   ]
  },
  {
   "cell_type": "code",
   "execution_count": 28,
   "id": "b43c155f-371a-470f-b5d5-9cb75bf226d7",
   "metadata": {},
   "outputs": [
    {
     "data": {
      "text/latex": [
       "$\\displaystyle - 1.23259516440783 \\cdot 10^{-32} x^{3} + 1.0 x^{2}$"
      ],
      "text/plain": [
       "-1.23259516440783e-32*x**3 + 1.0*x**2"
      ]
     },
     "execution_count": 28,
     "metadata": {},
     "output_type": "execute_result"
    }
   ],
   "source": [
    "y"
   ]
  },
  {
   "cell_type": "markdown",
   "id": "8ec6791a-5315-48fd-80fd-ebb04b30d8a4",
   "metadata": {},
   "source": [
    "---"
   ]
  },
  {
   "cell_type": "markdown",
   "id": "972266c7-1859-4e92-be6c-57cb5d9e95e2",
   "metadata": {},
   "source": [
    "Creación de la función que recibe un conjunto de datos xp y un conjunto de datos yp correspondientes a puntos en el plano. Regresa una función f que puede ser evaluada y un polinomio interpolador y simbólico. Internamente se usa la matriz de Vandermonde."
   ]
  },
  {
   "cell_type": "code",
   "execution_count": 29,
   "id": "6534e839-269c-4db4-8240-ddec490a8867",
   "metadata": {},
   "outputs": [],
   "source": [
    "def interpolacion_vandermonde(xp, yp):\n",
    "    x = sp.symbols('x')  # Crear nuestra variable simbólica.\n",
    "    \n",
    "    xp = np.array(xp, dtype=float)  # De lista a array.\n",
    "    yp = np.array(yp, dtype=float)  # De lista a array.\n",
    "    \n",
    "    m =len(xp)         # Tamaño del sistema.\n",
    "    \n",
    "    # Matriz de Vandermonde X.\n",
    "    X = (np.ones((m, m))*xp).T  # Reserva de memoria.    \n",
    "    for i in range(m):          # Ensamblaje\n",
    "        X[:, i] = X[:, i]**i\n",
    "\n",
    "    a = np.linalg.solve(X, yp)  # Obtención de los coeficientes.\n",
    "\n",
    "    # Polinomio interpolador.\n",
    "    y = 0                       # Espacio de memoria.\n",
    "    for i in range(m):\n",
    "        y += a[i]*x**i\n",
    "    \n",
    "    # Creación de la función interpoladora.\n",
    "    f = sp.lambdify(x, y)\n",
    "\n",
    "    return f, y"
   ]
  },
  {
   "cell_type": "markdown",
   "id": "3014c336",
   "metadata": {},
   "source": [
    "Ver: [17-interpolacion_pol_vandermonde.py](https://github.com/jnramirezg/metodos_numericos_ingenieria_civil/blob/main/codigo/17-interpolacion_pol_vandermonde.py)"
   ]
  },
  {
   "cell_type": "markdown",
   "id": "daaa016a-fdc3-4936-8668-f07ce6cf9b16",
   "metadata": {},
   "source": [
    "---"
   ]
  },
  {
   "cell_type": "markdown",
   "id": "fa00c417-08fe-4199-b182-2081dce75e46",
   "metadata": {},
   "source": [
    "Ejemplo 1:"
   ]
  },
  {
   "cell_type": "code",
   "execution_count": 30,
   "id": "8643f601-9b04-421e-8e0e-d34e09361399",
   "metadata": {},
   "outputs": [],
   "source": [
    "xp = [0, 2, 3,  4, 5]\n",
    "yp = [1, 4, 8, 16, 7]"
   ]
  },
  {
   "cell_type": "code",
   "execution_count": 31,
   "id": "107e0239-a9f8-42d8-890c-c9700273a521",
   "metadata": {},
   "outputs": [],
   "source": [
    "f, y = interpolacion_vandermonde(xp, yp)"
   ]
  },
  {
   "cell_type": "code",
   "execution_count": 32,
   "id": "ca6ff442-f015-4470-ae7f-ba7ceb6a9e87",
   "metadata": {},
   "outputs": [
    {
     "data": {
      "text/plain": [
       "5.085937499999851"
      ]
     },
     "execution_count": 32,
     "metadata": {},
     "output_type": "execute_result"
    }
   ],
   "source": [
    "f(1.5)"
   ]
  },
  {
   "cell_type": "code",
   "execution_count": 33,
   "id": "77314218-24c2-425d-b7a0-c28398784506",
   "metadata": {},
   "outputs": [
    {
     "data": {
      "text/latex": [
       "$\\displaystyle - 0.758333333333329 x^{4} + 7.11666666666661 x^{3} - 20.3416666666665 x^{2} + 19.7833333333331 x + 1.0$"
      ],
      "text/plain": [
       "-0.758333333333329*x**4 + 7.11666666666661*x**3 - 20.3416666666665*x**2 + 19.7833333333331*x + 1.0"
      ]
     },
     "execution_count": 33,
     "metadata": {},
     "output_type": "execute_result"
    }
   ],
   "source": [
    "y"
   ]
  },
  {
   "cell_type": "code",
   "execution_count": 34,
   "id": "00242a2d-7616-44c5-96f7-7f3c84e5fa79",
   "metadata": {},
   "outputs": [],
   "source": [
    "xg = np.linspace(min(xp), max(xp), 100)\n",
    "yg = f(xg)"
   ]
  },
  {
   "cell_type": "code",
   "execution_count": 35,
   "id": "427cfb8a-b994-4056-8173-364c5ccc880c",
   "metadata": {},
   "outputs": [
    {
     "data": {
      "image/png": "[encoded data removed]",
      "text/plain": [
       "<Figure size 432x288 with 1 Axes>"
      ]
     },
     "metadata": {
      "needs_background": "light"
     },
     "output_type": "display_data"
    }
   ],
   "source": [
    "plt.plot(xg, yg, 'r')\n",
    "plt.plot(xp, yp, 'k.')\n",
    "plt.show()"
   ]
  },
  {
   "cell_type": "markdown",
   "id": "3852b503-0dc6-4230-bf11-e00aec540405",
   "metadata": {},
   "source": [
    "---"
   ]
  },
  {
   "cell_type": "markdown",
   "id": "72361d42-7af7-4310-a501-f62f76db3277",
   "metadata": {},
   "source": [
    "## **2.1.4. Interpolación polinómica de Newton**"
   ]
  },
  {
   "cell_type": "markdown",
   "id": "622e6780-7389-40f4-a67f-cef275d7f210",
   "metadata": {},
   "source": [
    "Es una de las formas para expresar una interpolación polinomial. Resulta bastante útil por su funcionamiento recursivo que, veremos más adelante."
   ]
  },
  {
   "cell_type": "markdown",
   "id": "56a4b25d-686e-446b-8b8e-299a11e05319",
   "metadata": {},
   "source": [
    "---"
   ]
  },
  {
   "cell_type": "markdown",
   "id": "00e00a7f-8b4d-4a87-b6c5-1ae895704c92",
   "metadata": {},
   "source": [
    "### **2.1.4.1. Construcción del método**"
   ]
  },
  {
   "cell_type": "markdown",
   "id": "8540a65e-c67e-45b6-a919-5621eb9dda27",
   "metadata": {},
   "source": [
    "**Interpolación lineal**\n",
    "\n",
    "Para entender la forma como se construye el método, se trae la ecuación general de la recta:\n",
    "\n",
    "$\\displaystyle\\frac{y-y_0}{x-x_0}=\\displaystyle\\frac{y_1-y_0}{x_1-x_0}$\n",
    "\n",
    "y esta, en términos de función $f(x)=y$, entonces:\n",
    "\n",
    "$\\displaystyle\\frac{f(x)-f(x_0)}{x-x_0}=\\displaystyle\\frac{f(x_1)-f(x_0)}{x_1-x_0}$\n",
    "\n",
    "Luego, despejando de la misma forma que en la **Ec.(1)**, se obtiene:\n",
    "\n",
    "$f(x)=f(x_0)+\\displaystyle\\frac{f(x_1)-f(x_0)}{x_1-x_0}(x-x_0)$ **Ec.(2)**"
   ]
  },
  {
   "cell_type": "markdown",
   "id": "9dbe11d3-1c6b-41f8-9127-93ad97f2bb77",
   "metadata": {},
   "source": [
    "---"
   ]
  },
  {
   "cell_type": "markdown",
   "id": "747dc583-74b5-492b-a4c8-f22ba4bad208",
   "metadata": {},
   "source": [
    "O en términos más generales de las constantes involucradas:\n",
    "\n",
    "$f(x)=b_0+b_1(x-x_0)$  **Ec.(3)**,\n",
    "\n",
    "donde:\n",
    "\n",
    "$b_0=f(x_0)$\n",
    "\n",
    "$b_1=\\displaystyle\\frac{f(x_1)-f(x_0)}{x_1-x_0}$\n",
    "\n",
    "**Nota:** Se puede expresar el problema como $f(x)=a_0 + a_1x$, lo que resulta ser otra forma de hallar el mismo sistema a partir de constantes expredas en otro orden operacional.\n"
   ]
  },
  {
   "cell_type": "markdown",
   "id": "17e57033-3669-4a85-8f5a-6633187154e3",
   "metadata": {},
   "source": [
    "---"
   ]
  },
  {
   "cell_type": "markdown",
   "id": "39829ce4-60bf-469c-94bb-4c868c334a90",
   "metadata": {},
   "source": [
    "**Interpolación cuadrática**\n",
    "\n"
   ]
  },
  {
   "cell_type": "markdown",
   "id": "50ba991c-16cd-4433-98e6-450543ee67fc",
   "metadata": {},
   "source": [
    "Si se cuenta con 3 puntos: $(x_0, y_0)$, $(x_1, y_1)$, $(x_2, y_2)$ y se quiere halla la parábola que pasa por ellos, se tiene la expresión general:\n",
    "\n",
    "$f(x)=a_0 + a_1.x + a_2.x^2$\n",
    "\n",
    "Con lo que se puede formar un sistema de $3x3$ para hallar las tres incógnitas, tal como se mostró en la **interpolación con la matriz de Vandermonde**. Sin embargo, el algoritmo recursivo de Newton se puede deducir si expresamos la expresión general en una forma análoga a la **Ec.(3)**:\n",
    "\n",
    "$f(x)=b_0+b_1(x-x_0)+b_2(x-x_0)(x-x_1)$  **Ec.(4)**"
   ]
  },
  {
   "cell_type": "markdown",
   "id": "44881d53-dc61-492f-9afb-65d2985f4391",
   "metadata": {},
   "source": [
    "Se crean las variables simbólicas necesarias para construir la ecuación en `Sympy`:"
   ]
  },
  {
   "cell_type": "code",
   "execution_count": 36,
   "id": "d39075e1-ba7b-4e70-bd09-668599c0f9fa",
   "metadata": {},
   "outputs": [],
   "source": [
    "x0, x1, x2 = sp.symbols('x_0 x_1 x_2')\n",
    "b0, b1, b2 = sp.symbols('b_0 b_1 b_2')"
   ]
  },
  {
   "cell_type": "markdown",
   "id": "456afd41-549b-4cf5-9dea-2939b0001e20",
   "metadata": {},
   "source": [
    "Se construye la expresión y se usa la función sp.lambdify(x, y), para que `y` se convierta en una función de x `f(x)`:"
   ]
  },
  {
   "cell_type": "code",
   "execution_count": 37,
   "id": "b3a9ba5e-5737-4ae8-a186-bbf67d02699e",
   "metadata": {},
   "outputs": [],
   "source": [
    "y = b0 + b1*(x-x0) + b2*(x-x0)*(x-x1)"
   ]
  },
  {
   "cell_type": "code",
   "execution_count": 38,
   "id": "2c1fc69b-58e3-4ba0-bbee-7474e2c5b5e8",
   "metadata": {},
   "outputs": [
    {
     "data": {
      "text/latex": [
       "$\\displaystyle b_{0} + b_{1} \\left(x - x_{0}\\right) + b_{2} \\left(x - x_{0}\\right) \\left(x - x_{1}\\right)$"
      ],
      "text/plain": [
       "b_0 + b_1*(x - x_0) + b_2*(x - x_0)*(x - x_1)"
      ]
     },
     "execution_count": 38,
     "metadata": {},
     "output_type": "execute_result"
    }
   ],
   "source": [
    "y"
   ]
  },
  {
   "cell_type": "code",
   "execution_count": 39,
   "id": "8240a503-7692-483a-896b-87469f24b4d6",
   "metadata": {},
   "outputs": [
    {
     "data": {
      "text/latex": [
       "$\\displaystyle x$"
      ],
      "text/plain": [
       "x"
      ]
     },
     "execution_count": 39,
     "metadata": {},
     "output_type": "execute_result"
    }
   ],
   "source": [
    "x"
   ]
  },
  {
   "cell_type": "code",
   "execution_count": 40,
   "id": "d95f8372-409d-42e3-81ae-bda94454fbe8",
   "metadata": {},
   "outputs": [],
   "source": [
    "f = sp.lambdify(x, y)"
   ]
  },
  {
   "cell_type": "markdown",
   "id": "8069f34e-0a72-48d0-87e2-a1cfee52054b",
   "metadata": {},
   "source": [
    "---"
   ]
  },
  {
   "cell_type": "markdown",
   "id": "cfd06397-f13d-4329-b91d-ba0d49df3203",
   "metadata": {},
   "source": [
    "Se evalúa la función en los tres valores de $x$ disponibles ($x_0$, $x_1$ y $x_2$):"
   ]
  },
  {
   "cell_type": "code",
   "execution_count": 41,
   "id": "9137cf7c-5bf3-4358-b103-2fe3e802a14e",
   "metadata": {},
   "outputs": [
    {
     "data": {
      "text/latex": [
       "$\\displaystyle b_{0}$"
      ],
      "text/plain": [
       "b_0"
      ]
     },
     "execution_count": 41,
     "metadata": {},
     "output_type": "execute_result"
    }
   ],
   "source": [
    "f(x0)"
   ]
  },
  {
   "cell_type": "code",
   "execution_count": 42,
   "id": "c5952f11-0ea5-473a-ac09-878b9cf324e1",
   "metadata": {},
   "outputs": [
    {
     "data": {
      "text/latex": [
       "$\\displaystyle b_{0} + b_{1} \\left(- x_{0} + x_{1}\\right)$"
      ],
      "text/plain": [
       "b_0 + b_1*(-x_0 + x_1)"
      ]
     },
     "execution_count": 42,
     "metadata": {},
     "output_type": "execute_result"
    }
   ],
   "source": [
    "f(x1)"
   ]
  },
  {
   "cell_type": "code",
   "execution_count": 43,
   "id": "9dd9bc88-3f09-4712-be8d-1e0a2077b466",
   "metadata": {},
   "outputs": [
    {
     "data": {
      "text/latex": [
       "$\\displaystyle b_{0} + b_{1} \\left(- x_{0} + x_{2}\\right) + b_{2} \\left(- x_{0} + x_{2}\\right) \\left(- x_{1} + x_{2}\\right)$"
      ],
      "text/plain": [
       "b_0 + b_1*(-x_0 + x_2) + b_2*(-x_0 + x_2)*(-x_1 + x_2)"
      ]
     },
     "execution_count": 43,
     "metadata": {},
     "output_type": "execute_result"
    }
   ],
   "source": [
    "f(x2)"
   ]
  },
  {
   "cell_type": "markdown",
   "id": "690f1392-3bcb-4762-94a3-13049f20d6ec",
   "metadata": {},
   "source": [
    "En resumen:\n",
    "\n",
    "$\\displaystyle f(x_0) = b_{0}$\n",
    "\n",
    "$\\displaystyle f(x_1) =  b_{0} + b_{1} \\left(- x_{0} + x_{1}\\right)$\n",
    "\n",
    "$\\displaystyle f(x_2) =  b_{0} + b_{1} \\left(- x_{0} + x_{2}\\right) + b_{2} \\left(- x_{0} + x_{2}\\right) \\left(- x_{1} + x_{2}\\right)$"
   ]
  },
  {
   "cell_type": "markdown",
   "id": "1d0f80af-87af-4a6f-8875-b099df04f19e",
   "metadata": {},
   "source": [
    "---"
   ]
  },
  {
   "cell_type": "markdown",
   "id": "7240799a-d6be-4a25-b333-1b5f3bf4a1f7",
   "metadata": {},
   "source": [
    "Es decir, se obtiene inmediatamente que:\n",
    "\n",
    "$\\displaystyle \\fbox{$b_{0}=f(x_0)$}$\n",
    "\n",
    "Luego, este resultado, se reemplaza en $\\displaystyle f(x_1)$:\n",
    "\n",
    "$\\displaystyle f(x_1) =  f(x_0) + b_{1} \\left(- x_{0} + x_{1}\\right)$\n",
    "\n",
    "Con lo que:\n",
    "\n",
    "$\\displaystyle \\fbox{$b_{1}= \\frac{f(x_1)-f(x_0)}{x_1-x_0}$}$\n",
    "\n",
    "Finalmente, para obtener $b_{2}$, antes de reemplazar los dos resultados anteriores, se despeja de la siguiente forma:\n",
    "\n",
    "$\\displaystyle f(x_2) =  b_{0} + b_{1} \\left(- x_{0} + x_{2}\\right) + b_{2} \\left(- x_{0} + x_{2}\\right) \\left(- x_{1} + x_{2}\\right)$\n",
    "\n",
    "$\\displaystyle f(x_2) -  b_{0} - b_{1} \\left(- x_{0} + x_{2}\\right) = b_{2} \\left(- x_{0} + x_{2}\\right) \\left(- x_{1} + x_{2}\\right)$\n",
    "\n",
    "$\\displaystyle b_{2} = \\frac{f(x_2) -  b_{0} - b_{1} \\left( x_{2} - x_{0}\\right)}{\\left(x_{2}- x_{0}  \\right) \\left(x_{2}- x_{1}\\right)}$\n",
    "\n",
    "$\\displaystyle b_{2} = \\frac{\\displaystyle\\frac{f(x_2)-b_{0}-b_{1}(x_{2} - x_{0})}{x_{2} - x_{1}}}{(x_{2}- x_{0})}$\n",
    "\n",
    "Factorizando y distribueyendo, luego, reemplazando con los resultados de $b_0$ y $b_1$ obtenidos previamente:\n",
    "\n",
    "$\\fbox{$\\displaystyle b_{2} = \\frac{\\displaystyle\\frac{f(x_2)-f(x_1)}{x_{2} - x_{1}} - \\frac{f(x_1)-f(x_0)}{x_1-x_0}}{(x_{2}- x_{0})}$}$\n",
    "\n"
   ]
  },
  {
   "cell_type": "markdown",
   "id": "cc24441a-1360-46e0-8a6d-1b4ff7e91f82",
   "metadata": {},
   "source": [
    "Observando detalladamente nos damos cuenta que los términos $b_0$ y $b_1$ son iguales en las interpolaciones lineal y cuadrática. Es decir, estos términos son los que dan condición de lineal y la curvatura de grado dos la da el término $b_2(x-x_0)(x-x_1)$.\n",
    "\n",
    "Las **Ec.(3)** y **Ec.(4)** tienen un planteamiento similar a las series de Taylor."
   ]
  },
  {
   "cell_type": "markdown",
   "id": "24ca76e1-7bbd-48ee-b7fb-0d39935f0851",
   "metadata": {},
   "source": [
    "---"
   ]
  },
  {
   "cell_type": "markdown",
   "id": "9d623f8e-c767-49f1-8b14-2e263a57324a",
   "metadata": {},
   "source": [
    "**Forma general de los polinomios de interpolación de Newton**\n",
    "\n"
   ]
  },
  {
   "cell_type": "markdown",
   "id": "0df07f75-45ce-492c-aeb2-195bfdc9616c",
   "metadata": {},
   "source": [
    "Se puede generalizar a un polinomio de grado $n$-ésimo a $n+1$ puntos asociados a datos. Dicho polinomio es:\n",
    "\n",
    "$\\displaystyle f(x) = b_0 + b_1(x-x_0)+b_2(x-x_0)(x-x_1)+...+b_n(x-x_0)(x-x_1)...(x-x_{n-1})$\n",
    "\n",
    "Siendo los $n+1$ puntos con datos: $[x_0, f(x_0)]$, $[x_1, f(x_1)]$, ..., $[x_n, f(x_n)]$. Y si usamos estos puntos para hallar los coeficientes:\n",
    "\n",
    "$b_0 = f(x_0)$\n",
    "\n",
    "$b_1 = f[x_1, x_0]$\n",
    "\n",
    "$b_2 = f[x_2, x_1, x_0]$\n",
    "\n",
    "$\\vdots$\n",
    "\n",
    "$b_n = f[x_n, x_{n-1},...,x_1, x_0]$"
   ]
  },
  {
   "cell_type": "markdown",
   "id": "9261d4d2-3ccd-4fcc-bb06-cb42b1226f6d",
   "metadata": {},
   "source": [
    "---"
   ]
  },
  {
   "cell_type": "markdown",
   "id": "43f4cf8a-77ae-4325-8e71-9c7c3b1db09e",
   "metadata": {},
   "source": [
    "Donde las evaluaciones de la función colocadas entre llaves \"[]\" son **diferencias divididas finitas**. Por ejemplo, la *primera diferencia dividida finita* en forma general es:\n",
    "\n",
    "$f[x_i, x_j]=\\displaystyle\\frac{f(x_i)-f(x_j)}{x_i-x_j}$\n",
    "\n",
    "La *segunda diferencia finita dividida*, que representa la diferencia de las dos primeras diferencias divididas, se expresa en general como:\n",
    "\n",
    "$f[x_i, x_j, x_k]=\\displaystyle\\frac{f[x_i,x_j]-f[x_j,x_k]}{x_i-x_k}$\n",
    "\n",
    "De forma similar, la *n-ésima diferencia dividida finita* es:\n",
    "\n",
    "$f[x_n, x_{n-1},...,x_1, x_0]=\\displaystyle\\frac{f[x_n,x_{n-1},...,x_1]-f[x_{n-1},x_{n-2},...,x_0]}{x_n-x_0}$\n",
    "\n",
    "Estas diferencias sirven para obtener los coeficientes del *polinomio de interpolación de Newton en diferencias divididas*:\n",
    "\n",
    "$\\fbox{$f(x) = f(x_0)+(x-x_0)f[x_1,x_0]+(x-x_0)(x-x_1)f[x_2,x_1,x_0]+...+(x-x_0)(x-x_1)...(x-x_{n-1})f[x_n, x_{n-1},...,x_0]$}$"
   ]
  },
  {
   "cell_type": "markdown",
   "id": "9aa7cb9d-04a3-4429-95b0-a6b36fa6f8ec",
   "metadata": {},
   "source": [
    "---"
   ]
  },
  {
   "cell_type": "markdown",
   "id": "bf2809ec-d499-45da-9c7d-f82f37305708",
   "metadata": {},
   "source": [
    "### **2.1.4.2. Implementación del método en Python**"
   ]
  },
  {
   "cell_type": "markdown",
   "id": "15d6f379-c082-405e-9e89-dd379b782ad4",
   "metadata": {},
   "source": [
    "Se crea una variable simbólica `x` como parámetro de la función `f`:"
   ]
  },
  {
   "cell_type": "code",
   "execution_count": 44,
   "id": "16d4761f-c818-4df9-80e8-d33fad07968d",
   "metadata": {},
   "outputs": [],
   "source": [
    "x = sp.symbols('x')"
   ]
  },
  {
   "cell_type": "markdown",
   "id": "9a42c068-ddd7-42fa-b8c9-500c3b631775",
   "metadata": {},
   "source": [
    "Se crea unos puntos (x, y) de ejemplo:"
   ]
  },
  {
   "cell_type": "code",
   "execution_count": 45,
   "id": "1290c322-9197-409b-b141-cbe2a9b041c3",
   "metadata": {},
   "outputs": [],
   "source": [
    "xp = [1, 2, 3, 4]\n",
    "yp = [1, 5, 2, 3]"
   ]
  },
  {
   "cell_type": "code",
   "execution_count": 46,
   "id": "ec149afb-88b9-4eab-8154-105af8fd713f",
   "metadata": {},
   "outputs": [],
   "source": [
    "n = len(xp)  # Cantidad de puntos."
   ]
  },
  {
   "cell_type": "markdown",
   "id": "c8d19fc9-5750-490a-b5fe-b7f343a7406e",
   "metadata": {},
   "source": [
    "Se crea una función **recursiva** para hallar las diferencias finitas divididas:"
   ]
  },
  {
   "cell_type": "code",
   "execution_count": 47,
   "id": "84c653c3-4ace-4a37-9778-92ffd25d899d",
   "metadata": {},
   "outputs": [],
   "source": [
    "def ddf(x, y):\n",
    "    '''\n",
    "    Diferencias divididas finitas.\n",
    "    '''\n",
    "    n = len(x)  # Cantidad de puntos.\n",
    "    if n==1:\n",
    "        b = y[0]\n",
    "    elif n==2:\n",
    "        b = (y[1]-y[0])/(x[1]-x[0])\n",
    "    else:\n",
    "        b = (ddf(x[1:], y[1:]) - ddf(x[:-1], y[:-1]))/(x[-1]-x[0])\n",
    "        \n",
    "    return b"
   ]
  },
  {
   "cell_type": "code",
   "execution_count": 48,
   "id": "423653f3-d5f1-483c-8eb8-ea92fc44782c",
   "metadata": {},
   "outputs": [],
   "source": [
    "# Se crea un vector para almacenar los coeficientes.\n",
    "b = []\n",
    "for i in range(n):\n",
    "    b += [ddf(xp[:i+1], yp[:i+1])]"
   ]
  },
  {
   "cell_type": "code",
   "execution_count": 49,
   "id": "fbf86096-1664-4960-8903-04a4ad418f51",
   "metadata": {},
   "outputs": [
    {
     "data": {
      "text/plain": [
       "[1, 4.0, -3.5, 1.8333333333333333]"
      ]
     },
     "execution_count": 49,
     "metadata": {},
     "output_type": "execute_result"
    }
   ],
   "source": [
    "b"
   ]
  },
  {
   "cell_type": "markdown",
   "id": "438b80f4-9149-4c50-bf34-f8b62ea05c7c",
   "metadata": {},
   "source": [
    "---"
   ]
  },
  {
   "cell_type": "markdown",
   "id": "fa7d2f9f-2d6b-43c1-8bfc-35c051870c8e",
   "metadata": {},
   "source": [
    "A partir de las constantes $b_i$ se construye el polinomio de grado 3 a partir de:"
   ]
  },
  {
   "cell_type": "markdown",
   "id": "811810ad-73a8-4762-95f2-7134f3bcef5d",
   "metadata": {},
   "source": [
    "$\\displaystyle f(x) = b_0 + b_1(x-x_0)+b_2(x-x_0)(x-x_1)+b_3(x-x_0)(x-x_1)(x-x_2)$"
   ]
  },
  {
   "cell_type": "code",
   "execution_count": 50,
   "id": "d4c8f924-03ce-4c90-84fb-e1146e9dfec7",
   "metadata": {},
   "outputs": [],
   "source": [
    "y = b[0] + b[1]*(x-xp[0]) + b[2]*(x-xp[0])*(x-xp[1]) + b[3]*(x-xp[0])*(x-xp[1])*(x-xp[2])"
   ]
  },
  {
   "cell_type": "code",
   "execution_count": 51,
   "id": "f1943e4d-be50-4fcc-81b1-91fd2d80a53f",
   "metadata": {},
   "outputs": [
    {
     "data": {
      "text/latex": [
       "$\\displaystyle 1.83333333333333 x^{3} - 14.5 x^{2} + 34.6666666666667 x - 21.0$"
      ],
      "text/plain": [
       "1.83333333333333*x**3 - 14.5*x**2 + 34.6666666666667*x - 21.0"
      ]
     },
     "execution_count": 51,
     "metadata": {},
     "output_type": "execute_result"
    }
   ],
   "source": [
    "sp.expand(y)"
   ]
  },
  {
   "cell_type": "markdown",
   "id": "22ecb060-0161-40d1-95a1-fdd1fa4ba9bd",
   "metadata": {},
   "source": [
    "Y en términos generales, para cualquier cantidad de puntos $n$:"
   ]
  },
  {
   "cell_type": "markdown",
   "id": "d115db5d-0259-4f95-b2fc-96eae759b976",
   "metadata": {},
   "source": [
    "$\\displaystyle f(x) = b_0 + b_1(x-x_0)+b_2(x-x_0)(x-x_1)+...+b_n(x-x_0)(x-x_1)...(x-x_{n-1})$"
   ]
  },
  {
   "cell_type": "code",
   "execution_count": 52,
   "id": "db3622f1-db7e-4aee-86e4-f7b1bad51d1b",
   "metadata": {},
   "outputs": [],
   "source": [
    "y = 0  # Se almacena el espacio de memoria\n",
    "for i in range(n):\n",
    "    temp = b[i]\n",
    "    for j in range(i):\n",
    "        temp = temp*(x-xp[j])\n",
    "    y += temp"
   ]
  },
  {
   "cell_type": "code",
   "execution_count": 53,
   "id": "0925f036-f253-4989-ab38-daac216545bc",
   "metadata": {},
   "outputs": [
    {
     "data": {
      "text/latex": [
       "$\\displaystyle 1.83333333333333 x^{3} - 14.5 x^{2} + 34.6666666666667 x - 21.0$"
      ],
      "text/plain": [
       "1.83333333333333*x**3 - 14.5*x**2 + 34.6666666666667*x - 21.0"
      ]
     },
     "execution_count": 53,
     "metadata": {},
     "output_type": "execute_result"
    }
   ],
   "source": [
    "sp.expand(y)"
   ]
  },
  {
   "cell_type": "markdown",
   "id": "ee15a96f-101d-4852-9114-61ba2bc77eec",
   "metadata": {},
   "source": [
    "---"
   ]
  },
  {
   "cell_type": "markdown",
   "id": "c6253487-0899-4ab6-82c4-3e8cbd1827c3",
   "metadata": {},
   "source": [
    "Uniendo todo en una función:\n",
    "\n",
    "Creación de la función que recibe un conjunto de datos xp y un conjunto de datos yp correspondientes a puntos en el plano. Regresa una función f que puede ser evaluada y un polinomio interpolador y simbólico. Internamente se usa la matriz de Vandermonde."
   ]
  },
  {
   "cell_type": "code",
   "execution_count": 54,
   "id": "2c1fb680-6f73-4cad-acf6-6bf443d97085",
   "metadata": {},
   "outputs": [],
   "source": [
    "def interpolacion_newton(xp, yp):\n",
    "    x = sp.symbols('x')  # Crear nuestra variable simbólica.\n",
    "    \n",
    "    def ddf(x, y):\n",
    "        '''\n",
    "        Diferencias divididas finitas\n",
    "        '''\n",
    "        n = len(x)  # Cantidad de puntos.\n",
    "        if n==1:\n",
    "            b = y[0]\n",
    "        elif n==2:\n",
    "            b = (y[1]-y[0])/(x[1]-x[0])\n",
    "        else:\n",
    "            b = (ddf(x[1:], y[1:]) - ddf(x[:-1], y[:-1]))/(x[-1]-x[0])\n",
    "\n",
    "        return b\n",
    "\n",
    "    n = len(xp)  # Cantidad de puntos.\n",
    "    \n",
    "    b = []  # Espacio de memoria para los coeficientes.\n",
    "    for i in range(n):\n",
    "        b += [ddf(xp[:i+1], yp[:i+1])]\n",
    "\n",
    "    y = 0  # Espacio de memoria para el polinomio.\n",
    "    for i in range(n):\n",
    "        temp = b[i]\n",
    "        for j in range(i):\n",
    "            temp = temp*(x-xp[j])\n",
    "        y += temp\n",
    "    \n",
    "    f = sp.lambdify(x, y)  # Se crea una función a partir del polinomio.\n",
    "    y = sp.expand(y)       # Se representa mejor el polinomio simbólico.\n",
    "\n",
    "    return f, y"
   ]
  },
  {
   "cell_type": "markdown",
   "id": "e4733f5f",
   "metadata": {},
   "source": [
    "Ver: [18-interpolacion_pol_newton.py](https://github.com/jnramirezg/metodos_numericos_ingenieria_civil/blob/main/codigo/18-interpolacion_pol_newton.py)"
   ]
  },
  {
   "cell_type": "markdown",
   "id": "ed8111b5-51e7-4b79-a4f2-e586cc4b39f3",
   "metadata": {},
   "source": [
    "---"
   ]
  },
  {
   "cell_type": "markdown",
   "id": "33893ef3-5138-40de-9187-d9666288c508",
   "metadata": {},
   "source": [
    "Ejemplo 1:"
   ]
  },
  {
   "cell_type": "code",
   "execution_count": 55,
   "id": "b4e88ff6-c545-42f8-9e35-94c4552f7a27",
   "metadata": {},
   "outputs": [],
   "source": [
    "# Definición de puntos.\n",
    "xp = [-3, -2,   1,  4, 5]\n",
    "yp = [-5,  4, -10, 16, 7]"
   ]
  },
  {
   "cell_type": "code",
   "execution_count": 56,
   "id": "955f1500-81f6-4dd6-bc32-580c64559958",
   "metadata": {},
   "outputs": [],
   "source": [
    "f, y = interpolacion_newton(xp, yp)"
   ]
  },
  {
   "cell_type": "code",
   "execution_count": 57,
   "id": "581f5b4b-e7cb-4a0b-a08a-37209a7a362f",
   "metadata": {},
   "outputs": [
    {
     "data": {
      "text/latex": [
       "$\\displaystyle - 0.219246031746032 x^{4} + 0.805555555555556 x^{3} + 3.09424603174603 x^{2} - 5.08531746031746 x - 8.59523809523809$"
      ],
      "text/plain": [
       "-0.219246031746032*x**4 + 0.805555555555556*x**3 + 3.09424603174603*x**2 - 5.08531746031746*x - 8.59523809523809"
      ]
     },
     "execution_count": 57,
     "metadata": {},
     "output_type": "execute_result"
    }
   ],
   "source": [
    "# Polinomio interpolador.\n",
    "y"
   ]
  },
  {
   "cell_type": "markdown",
   "id": "fc5fa278-d26b-46ed-ad9a-6868feda692d",
   "metadata": {},
   "source": [
    "Aplicación de la función f:"
   ]
  },
  {
   "cell_type": "code",
   "execution_count": 58,
   "id": "655fb037-bd6f-43fd-99d3-d919f76c348f",
   "metadata": {},
   "outputs": [
    {
     "data": {
      "text/plain": [
       "-8.595238095238098"
      ]
     },
     "execution_count": 58,
     "metadata": {},
     "output_type": "execute_result"
    }
   ],
   "source": [
    "f(0)"
   ]
  },
  {
   "cell_type": "code",
   "execution_count": 59,
   "id": "867c94c4-c4dd-484c-8e4f-899e5b867bdb",
   "metadata": {},
   "outputs": [
    {
     "data": {
      "text/plain": [
       "7.0"
      ]
     },
     "execution_count": 59,
     "metadata": {},
     "output_type": "execute_result"
    }
   ],
   "source": [
    "f(5)"
   ]
  },
  {
   "cell_type": "markdown",
   "id": "387ab084-9077-410e-bc40-e9d605643a19",
   "metadata": {},
   "source": [
    "---"
   ]
  },
  {
   "cell_type": "markdown",
   "id": "e8a355be-057b-43a4-abef-417d9785268c",
   "metadata": {},
   "source": [
    "Graficando:"
   ]
  },
  {
   "cell_type": "code",
   "execution_count": 60,
   "id": "2e5f7512-05ec-4194-90cd-918526b7a651",
   "metadata": {},
   "outputs": [],
   "source": [
    "xg = np.linspace(min(xp), max(xp), 100)\n",
    "yg = f(xg)"
   ]
  },
  {
   "cell_type": "code",
   "execution_count": 61,
   "id": "e66779c6-49ec-49d2-be29-66efdd053ae9",
   "metadata": {},
   "outputs": [
    {
     "data": {
      "image/png": "[encoded data removed]",
      "text/plain": [
       "<Figure size 432x288 with 1 Axes>"
      ]
     },
     "metadata": {
      "needs_background": "light"
     },
     "output_type": "display_data"
    }
   ],
   "source": [
    "plt.plot(xg, yg, 'r')\n",
    "plt.plot(xp, yp, 'k.')\n",
    "plt.show()"
   ]
  },
  {
   "cell_type": "markdown",
   "id": "3f6f6915-9901-420a-827a-9739f0611cea",
   "metadata": {},
   "source": [
    "---"
   ]
  },
  {
   "cell_type": "markdown",
   "id": "0ac1c24b-b0d1-46a3-a643-19ddb437b84a",
   "metadata": {
    "tags": []
   },
   "source": [
    "## **2.1.5. Polinomios de Lagrange**"
   ]
  },
  {
   "cell_type": "markdown",
   "id": "be8a4b56-b94d-4115-9775-67d8a5d532de",
   "metadata": {},
   "source": [
    "---"
   ]
  },
  {
   "cell_type": "markdown",
   "id": "e4d3778e-0288-4dce-8702-4ddd4b7bda4b",
   "metadata": {},
   "source": [
    "### **2.1.5.1. Deducción de la fórmula de Lagrange**"
   ]
  },
  {
   "cell_type": "code",
   "execution_count": 62,
   "id": "42bda81d-8dac-4e93-b0cf-d7711a02924c",
   "metadata": {},
   "outputs": [],
   "source": [
    "x = sp.symbols('x')"
   ]
  },
  {
   "cell_type": "code",
   "execution_count": 63,
   "id": "0935fd3f-51d0-4c1e-8307-841568817b95",
   "metadata": {},
   "outputs": [],
   "source": [
    "xp = [1, 2, 3, 4]\n",
    "yp = [1, 3, 2, 4]"
   ]
  },
  {
   "cell_type": "code",
   "execution_count": 64,
   "id": "fde1939d-1e17-4e21-9654-fffad2737ddf",
   "metadata": {},
   "outputs": [],
   "source": [
    "m = len(xp)"
   ]
  },
  {
   "cell_type": "code",
   "execution_count": 65,
   "id": "215b29e1-5910-49ff-9015-f9b971a074de",
   "metadata": {
    "tags": []
   },
   "outputs": [
    {
     "data": {
      "image/png": "[encoded data removed]",
      "text/plain": [
       "<Figure size 432x288 with 1 Axes>"
      ]
     },
     "metadata": {
      "needs_background": "light"
     },
     "output_type": "display_data"
    }
   ],
   "source": [
    "xe = np.linspace(1, 4, 100)\n",
    "ye = 1.0*xe**3 - 7.5*xe**2 +17.5*xe - 10.0\n",
    "\n",
    "fig = plt.figure()\n",
    "plt.plot(xe, ye)\n",
    "plt.plot(xp, yp, 'k.')\n",
    "\n",
    "for i in range(m):\n",
    "    plt.annotate(f'(x{i+1}, y{i+1})', (xp[i]+0.05, yp[i]+0.15))\n",
    "\n",
    "plt.xlim(0.9, 4.5)\n",
    "plt.ylim(0.9, 4.5)\n",
    "plt.show()"
   ]
  },
  {
   "cell_type": "markdown",
   "id": "bcc9741b-64fe-4cf0-80de-490af27f6213",
   "metadata": {},
   "source": [
    "Si tenemos 4 puntos ($x_p$, $y_p$):\n",
    "\n",
    "- $p_1 = (x_1,y_1) = (1.0, 1.0)$\n",
    "- $p_2 = (x_2,y_2) = (2.0, 3.0)$\n",
    "- $p_3 = (x_3,y_3) = (3.0, 2.0)$\n",
    "- $p_4 = (x_4,y_4) = (4.0, 4.0)$"
   ]
  },
  {
   "cell_type": "markdown",
   "id": "eb85e296-8cfb-4e9f-a8af-12be958f2256",
   "metadata": {},
   "source": [
    "$f(x) = L_1(x)f(x_1) + L_2(x)f(x_2) + L_3(x)f(x_3) + L_4(x)f(x_4)$ \n",
    "\n",
    "$f(x) = L_1(x)y_1 + L_2(x)y_2 + L_3(x)y_3 + L_4(x)y_4$  **Ec.(2)**"
   ]
  },
  {
   "cell_type": "markdown",
   "id": "f9feb40a-9d74-4db1-93e7-89b4f0c71aab",
   "metadata": {},
   "source": [
    "En donde $L_i(x)$ es una función que tiene sus ceros (raices) en todos los $x_p$, menos en el punto $x_i$. Adicionalemente, $L_i(x)$ cumple la condición de que $L_i(x_i)=1$. \n",
    "\n",
    "Garantización que la **Ec.(2)** al ser evaluada, por ejemplo, en $x_1$, se logre que $f(x)=y1$; ya que, $L_2(x)=L_3(x)=L_4(x)=0$ y $L_1(x)=1$.\n",
    "\n",
    "$f(x_1) = (1)y_1 + (0)y_2 + (0)y_3 + (0)y_4=y_1$ \n",
    "\n",
    "De forma análoga para $y_2$, $y_3$ y $y_4$."
   ]
  },
  {
   "cell_type": "markdown",
   "id": "82d49b21-9dd8-43b6-bd89-3a7bb7d5e7ca",
   "metadata": {},
   "source": [
    "---"
   ]
  },
  {
   "cell_type": "markdown",
   "id": "8a5c0a79-a2f2-4629-9c46-de8c142796c7",
   "metadata": {},
   "source": [
    "Para obtener una función $L_1(x)$, primero se crea un polinomio $P_1(x)$ que tenga sus ceros (raices) en los puntos $x_2$, $x_3$ y $x_4$:\n",
    "\n",
    "$P_1(x)=(x-x_2)(x-x_3)(x-x_4)$\n",
    "\n",
    "Es decir, \n",
    "\n",
    "$P_1(x)=(x-2)(x-3)(x-4)$"
   ]
  },
  {
   "cell_type": "code",
   "execution_count": 66,
   "id": "b60ad8bb-3947-4d80-a35e-fcdb7448f3c2",
   "metadata": {},
   "outputs": [
    {
     "data": {
      "text/latex": [
       "$\\displaystyle x^{3} - 9 x^{2} + 26 x - 24$"
      ],
      "text/plain": [
       "x**3 - 9*x**2 + 26*x - 24"
      ]
     },
     "execution_count": 66,
     "metadata": {},
     "output_type": "execute_result"
    }
   ],
   "source": [
    "sp.expand((x-2)*(x-3)*(x-4))"
   ]
  },
  {
   "cell_type": "code",
   "execution_count": 67,
   "id": "26537c2a-e3c6-4ef7-9aea-169aef96be4f",
   "metadata": {},
   "outputs": [
    {
     "data": {
      "text/plain": [
       "[<matplotlib.lines.Line2D at 0x1861936b790>]"
      ]
     },
     "execution_count": 67,
     "metadata": {},
     "output_type": "execute_result"
    },
    {
     "data": {
      "image/png": "[encoded data removed]",
      "text/plain": [
       "<Figure size 432x288 with 1 Axes>"
      ]
     },
     "metadata": {
      "needs_background": "light"
     },
     "output_type": "display_data"
    }
   ],
   "source": [
    "xe = np.linspace(1, 4, 100)\n",
    "ye_1m = (xe-2)*(xe-3)*(xe-4)\n",
    "plt.plot(xe, ye_1m, 'b')\n",
    "plt.plot(xp, yp, 'k.')"
   ]
  },
  {
   "cell_type": "markdown",
   "id": "b9a103e9-bf70-4650-8289-8ede89ef4201",
   "metadata": {},
   "source": [
    "Luego, el objetivo es llegar a $L_1(x)$ a partir  $P_1(x)$. Esto se logra dividiendo el polinomio entre la evaluación del polinomio en $x=x_1$, para así, garantizar que $L_1(x_1)=1$ y $L_1(x_2)=L_1(x_3)=L_1(x_4)=0$.\n",
    "\n",
    "$L_1(x)=\\displaystyle\\frac{P_1(x)}{P_1(x_1)}$"
   ]
  },
  {
   "cell_type": "code",
   "execution_count": 68,
   "id": "58fdfa73-8096-473c-b97e-6fcc55c9a7cd",
   "metadata": {},
   "outputs": [],
   "source": [
    "x1 = 1\n",
    "P1_1 = (x1-2)*(x1-3)*(x1-4)"
   ]
  },
  {
   "cell_type": "code",
   "execution_count": 69,
   "id": "2a03fa9c-b994-4968-ab08-5e379b08de6d",
   "metadata": {},
   "outputs": [
    {
     "data": {
      "text/plain": [
       "[<matplotlib.lines.Line2D at 0x186193bf8e0>]"
      ]
     },
     "execution_count": 69,
     "metadata": {},
     "output_type": "execute_result"
    },
    {
     "data": {
      "image/png": "[encoded data removed]",
      "text/plain": [
       "<Figure size 432x288 with 1 Axes>"
      ]
     },
     "metadata": {
      "needs_background": "light"
     },
     "output_type": "display_data"
    }
   ],
   "source": [
    "ye_1 = (xe-2)*(xe-3)*(xe-4)/P1_1\n",
    "plt.plot(xe, ye_1, 'b')\n",
    "plt.plot(xp, yp, 'k.')\n",
    "plt.plot([1,4],[0,0],'--k')\n",
    "plt.plot([1,4],[1,1],'--k')"
   ]
  },
  {
   "cell_type": "code",
   "execution_count": 70,
   "id": "58d4a47e-9a73-4651-94db-7365cdab60dd",
   "metadata": {},
   "outputs": [
    {
     "data": {
      "text/plain": [
       "[<matplotlib.lines.Line2D at 0x18619426730>]"
      ]
     },
     "execution_count": 70,
     "metadata": {},
     "output_type": "execute_result"
    },
    {
     "data": {
      "image/png": "[encoded data removed]",
      "text/plain": [
       "<Figure size 432x288 with 1 Axes>"
      ]
     },
     "metadata": {
      "needs_background": "light"
     },
     "output_type": "display_data"
    }
   ],
   "source": [
    "x2 = 2\n",
    "P2_2 = (x2-1)*(x2-3)*(x2-4)\n",
    "ye_2 = (xe-1)*(xe-3)*(xe-4)/P2_2\n",
    "\n",
    "plt.plot(xe, ye_2, 'r')\n",
    "plt.plot(xp, yp, 'k.')\n",
    "plt.plot([1,4],[0,0],'--k')\n",
    "plt.plot([1,4],[1,1],'--k')"
   ]
  },
  {
   "cell_type": "code",
   "execution_count": 71,
   "id": "33357c76-987b-49b6-9fb6-987023f9c3aa",
   "metadata": {},
   "outputs": [
    {
     "data": {
      "text/plain": [
       "[<matplotlib.lines.Line2D at 0x18619483f40>]"
      ]
     },
     "execution_count": 71,
     "metadata": {},
     "output_type": "execute_result"
    },
    {
     "data": {
      "image/png": "[encoded data removed]",
      "text/plain": [
       "<Figure size 432x288 with 1 Axes>"
      ]
     },
     "metadata": {
      "needs_background": "light"
     },
     "output_type": "display_data"
    }
   ],
   "source": [
    "x3 = 3\n",
    "P3_3 = (x3-1)*(x3-2)*(x3-4)\n",
    "ye_3 = (xe-1)*(xe-2)*(xe-4)/P3_3\n",
    "\n",
    "plt.plot(xe, ye_3, 'g')\n",
    "plt.plot(xp, yp, 'k.')\n",
    "plt.plot([1,4],[0,0],'--k')\n",
    "plt.plot([1,4],[1,1],'--k')"
   ]
  },
  {
   "cell_type": "code",
   "execution_count": 72,
   "id": "43c3f556-b8e3-40cc-bf99-043086552666",
   "metadata": {},
   "outputs": [
    {
     "data": {
      "text/plain": [
       "[<matplotlib.lines.Line2D at 0x1861931b1c0>]"
      ]
     },
     "execution_count": 72,
     "metadata": {},
     "output_type": "execute_result"
    },
    {
     "data": {
      "image/png": "[encoded data removed]",
      "text/plain": [
       "<Figure size 432x288 with 1 Axes>"
      ]
     },
     "metadata": {
      "needs_background": "light"
     },
     "output_type": "display_data"
    }
   ],
   "source": [
    "x4 = 4\n",
    "P4_4 = (x4-1)*(x4-2)*(x4-3)\n",
    "\n",
    "xe_4 = np.linspace(1, 4, 100)\n",
    "ye_4 = (xe-1)*(xe-2)*(xe-3)/P4_4\n",
    "plt.plot(xe_4, ye_4, 'm')\n",
    "plt.plot(xp, yp, 'k.')\n",
    "plt.plot([1,4],[0,0],'--k')\n",
    "plt.plot([1,4],[1,1],'--k')"
   ]
  },
  {
   "cell_type": "code",
   "execution_count": 73,
   "id": "ec6d969f-7ad4-48e0-b15a-f0d6b959b4e1",
   "metadata": {},
   "outputs": [
    {
     "data": {
      "text/plain": [
       "[<matplotlib.lines.Line2D at 0x18619279c10>]"
      ]
     },
     "execution_count": 73,
     "metadata": {},
     "output_type": "execute_result"
    },
    {
     "data": {
      "image/png": "[encoded data removed]",
      "text/plain": [
       "<Figure size 432x288 with 1 Axes>"
      ]
     },
     "metadata": {
      "needs_background": "light"
     },
     "output_type": "display_data"
    }
   ],
   "source": [
    "plt.plot(xp, yp, 'k.')\n",
    "plt.plot(xe, ye_1, 'b')\n",
    "plt.plot(xe, ye_2, 'r')\n",
    "plt.plot(xe, ye_3, 'g')\n",
    "plt.plot(xe, ye_4, 'm')"
   ]
  },
  {
   "cell_type": "code",
   "execution_count": 74,
   "id": "6ac0af25-ba3b-46d3-b5c0-cdd85fd8e2fd",
   "metadata": {},
   "outputs": [],
   "source": [
    "y1, y2, y3, y4 = 1, 3, 2, 4\n",
    "poli = ye_1*y1 + ye_2*y2 + ye_3*y3 +ye_4*y4"
   ]
  },
  {
   "cell_type": "code",
   "execution_count": 75,
   "id": "c719c9bf-335f-4bcc-b1d9-0de5caa8f46b",
   "metadata": {},
   "outputs": [
    {
     "data": {
      "text/plain": [
       "[<matplotlib.lines.Line2D at 0x18618189730>]"
      ]
     },
     "execution_count": 75,
     "metadata": {},
     "output_type": "execute_result"
    },
    {
     "data": {
      "image/png": "[encoded data removed]",
      "text/plain": [
       "<Figure size 432x288 with 1 Axes>"
      ]
     },
     "metadata": {
      "needs_background": "light"
     },
     "output_type": "display_data"
    }
   ],
   "source": [
    "plt.plot(xp, yp, 'k.')\n",
    "plt.plot(xe, poli, 'k')"
   ]
  },
  {
   "cell_type": "code",
   "execution_count": 76,
   "id": "d32e96d9-19ed-468b-a459-5c10677593e2",
   "metadata": {},
   "outputs": [],
   "source": [
    "ye_1m = (xe-2)*(xe-3)*(xe-4)\n",
    "ye_2m = (xe-1)*(xe-3)*(xe-4)\n",
    "ye_3m = (xe-1)*(xe-2)*(xe-4)\n",
    "ye_4m = (xe-1)*(xe-2)*(xe-3)"
   ]
  },
  {
   "cell_type": "code",
   "execution_count": 77,
   "id": "ae31f0e9-ff41-4f6b-b09d-1e267607bf77",
   "metadata": {
    "tags": []
   },
   "outputs": [],
   "source": [
    "def explicacion_pol_lagrange(paso):\n",
    "    if paso==1:\n",
    "        plt.plot(xp, yp, 'k.')\n",
    "    elif paso==2:\n",
    "        plt.plot(xp, yp, 'k.')\n",
    "        plt.plot(xe, ye_1m, 'b--')\n",
    "    elif paso==3:\n",
    "        plt.plot(xp, yp, 'k.')\n",
    "        plt.plot(xe, ye_1m, 'b--')           \n",
    "        plt.plot(xe, ye_1, 'b')\n",
    "    elif paso==4:\n",
    "        plt.plot(xp, yp, 'k.')\n",
    "        plt.plot(xe, ye_1, 'b')\n",
    "    elif paso==5:\n",
    "        plt.plot(xp, yp, 'k.')\n",
    "        plt.plot(xe, ye_1, 'b')\n",
    "        plt.plot(xe, ye_2m, 'r--')\n",
    "    elif paso==6:\n",
    "        plt.plot(xp, yp, 'k.')\n",
    "        plt.plot(xe, ye_1, 'b')\n",
    "        plt.plot(xe, ye_2m, 'r--')        \n",
    "        plt.plot(xe, ye_2, 'r')\n",
    "    elif paso==7:\n",
    "        plt.plot(xp, yp, 'k.')\n",
    "        plt.plot(xe, ye_1, 'b')   \n",
    "        plt.plot(xe, ye_2, 'r')\n",
    "    elif paso==8:\n",
    "        plt.plot(xp, yp, 'k.')\n",
    "        plt.plot(xe, ye_1, 'b')   \n",
    "        plt.plot(xe, ye_2, 'r')\n",
    "        plt.plot(xe, ye_4m, 'g--')\n",
    "    elif paso==9:\n",
    "        plt.plot(xp, yp, 'k.')\n",
    "        plt.plot(xe, ye_1, 'b')   \n",
    "        plt.plot(xe, ye_2, 'r')\n",
    "        plt.plot(xe, ye_4m, 'g--')\n",
    "        plt.plot(xe, ye_3, 'g')\n",
    "    elif paso==10:\n",
    "        plt.plot(xp, yp, 'k.')\n",
    "        plt.plot(xe, ye_1, 'b')   \n",
    "        plt.plot(xe, ye_2, 'r')\n",
    "        plt.plot(xe, ye_3, 'g')\n",
    "    elif paso==11:\n",
    "        plt.plot(xp, yp, 'k.')\n",
    "        plt.plot(xe, ye_1, 'b')   \n",
    "        plt.plot(xe, ye_2, 'r')\n",
    "        plt.plot(xe, ye_3, 'g')\n",
    "        plt.plot(xe, ye_4m, 'm--')\n",
    "    elif paso==12:\n",
    "        plt.plot(xp, yp, 'k.')\n",
    "        plt.plot(xe, ye_1, 'b')   \n",
    "        plt.plot(xe, ye_2, 'r')\n",
    "        plt.plot(xe, ye_3, 'g')\n",
    "        plt.plot(xe, ye_4m, 'm--')\n",
    "        plt.plot(xe, ye_4, 'm')\n",
    "    elif paso==13:\n",
    "        plt.plot(xp, yp, 'k.')\n",
    "        plt.plot(xe, ye_1, 'b')   \n",
    "        plt.plot(xe, ye_2, 'r')\n",
    "        plt.plot(xe, ye_3, 'g')\n",
    "        plt.plot(xe, ye_4, 'm')\n",
    "    elif paso==14:\n",
    "        plt.plot(xp, yp, 'k.')\n",
    "        plt.plot(xe, ye_1, 'b')   \n",
    "        plt.plot(xe, ye_2, 'r')\n",
    "        plt.plot(xe, ye_3, 'g')\n",
    "        plt.plot(xe, ye_4, 'm')\n",
    "        plt.plot([1,4],[0,0],'--k')\n",
    "        plt.plot([1,4],[1,1],'--k')\n",
    "    elif paso==15:\n",
    "        plt.plot(xp, yp, 'k.')\n",
    "        plt.plot(xe, ye_1, 'b')   \n",
    "        plt.plot(xe, ye_2, 'r')\n",
    "        plt.plot(xe, ye_3, 'g')\n",
    "        plt.plot(xe, ye_4, 'm')\n",
    "        plt.plot(xe, poli, 'k')\n"
   ]
  },
  {
   "cell_type": "code",
   "execution_count": 78,
   "id": "27d56124-3c22-4f39-bc7e-0a2374bee855",
   "metadata": {},
   "outputs": [
    {
     "data": {
      "application/vnd.jupyter.widget-view+json": {
       "model_id": "555f4926ca2446fd9f3f902770efc5c0",
       "version_major": 2,
       "version_minor": 0
      },
      "text/plain": [
       "interactive(children=(IntSlider(value=8, description='paso', max=15, min=1), Output()), _dom_classes=('widget-…"
      ]
     },
     "metadata": {},
     "output_type": "display_data"
    }
   ],
   "source": [
    "from ipywidgets import interact \n",
    "interact(explicacion_pol_lagrange, paso = (1, 15))\n",
    "None"
   ]
  },
  {
   "cell_type": "markdown",
   "id": "494ad4d5-17f1-47f3-9960-8745f70bd298",
   "metadata": {},
   "source": [
    "---"
   ]
  },
  {
   "cell_type": "markdown",
   "id": "24aac413-dc17-4737-908e-91b984ec74ba",
   "metadata": {},
   "source": [
    "### **2.1.5.2. Definición del método**"
   ]
  },
  {
   "cell_type": "markdown",
   "id": "e86418b1-2b4d-472b-8ce7-9149e3ef03a8",
   "metadata": {},
   "source": [
    "El **polinomio interpolador de Lagrange** se define como el polinomio de grado $n-1$ que pasa por los $n$ puntos $\\{(x_i,y_i):i=1,2,...n\\}$. Dicho polinomio se define como la combinación lineal:\n",
    "\n",
    "$f_{n}(x)=\\displaystyle\\sum_{i=1}^{n}L_{i}(x)y_i$\n",
    "\n",
    "donde $L_{i}(x)$ son las *bases polinómicas de Lagrange*:\n",
    "\n",
    "$L_{i}(x)=\\displaystyle\\prod_{j=1, i\\neq j}^{n}  \\displaystyle\\frac{x-x_j}{x_i-x_j}$\n",
    "$=\\displaystyle\\frac{x-x_1}{x_i-x_1}...\\displaystyle\\frac{x-x_{i-1}}{x_i-x_{i-1}}\\displaystyle\\frac{x-x_{i+1}}{x_i-x_{i+1}}...\\displaystyle\\frac{x-x_{n}}{x_i-x_{n}}$\n",
    "\n",
    "---"
   ]
  },
  {
   "cell_type": "markdown",
   "id": "97cb61bd-cfd5-4087-babc-ae60e058be0a",
   "metadata": {
    "tags": []
   },
   "source": [
    "Observemos que el numerador de $L_i$ es un polinomio:\n",
    "\n",
    "$P_{i}(x)=(x-x_1)...(x-x_{i-1})(x-x_{i+1})...(x-x_{n})$\n",
    "\n",
    "que tiene la particularidad de que $P_{i}(x_j)=0$ si $i \\neq j$.\n",
    "\n",
    "El denominador de $L_i$ es en realidad $P_{i}(x_i)$, cumpliendo el objetivo de normalizar $P_{i}(x)$ respecto a $x_i$, es decir:\n",
    "\n",
    "$L_{i}(x_j)=0$ para $i \\neq j$\n",
    "\n",
    "$L_{i}(x_j)=1$ para $i=j$\n",
    "\n",
    "**Nota:** Por definición el *polinomio de Lagrange* debe ser una función, es decir, todos los $x_i$ deben ser diferentes. Si esto no se cumple, se presentan divisiones por cero.\n",
    "\n",
    "---"
   ]
  },
  {
   "cell_type": "markdown",
   "id": "56b409f9-e405-4dc0-a1ff-4c3ba8374e7c",
   "metadata": {},
   "source": [
    "### **2.1.5.3. Implementación en Python**"
   ]
  },
  {
   "cell_type": "code",
   "execution_count": 79,
   "id": "36f9902a-0476-4fbf-be2a-cc783728710a",
   "metadata": {},
   "outputs": [],
   "source": [
    "xp = [1.0, 2.0, 3.0, 4.0]\n",
    "yp = [1.0, 3.0, 2.0, 4.0]"
   ]
  },
  {
   "cell_type": "code",
   "execution_count": 80,
   "id": "42f05b32-8225-4ad1-8d00-4d1528cd47d5",
   "metadata": {},
   "outputs": [],
   "source": [
    "m = len(xp)  # Cantidad de puntos."
   ]
  },
  {
   "cell_type": "code",
   "execution_count": 81,
   "id": "f8dac132-d526-4524-acc7-6397872b41c6",
   "metadata": {},
   "outputs": [],
   "source": [
    "y = 0\n",
    "for j in range(m):\n",
    "    prod = 1\n",
    "    for i in range(m):\n",
    "        if i != j:\n",
    "            prod = prod*(x-xp[i])/(xp[j]-xp[i])\n",
    "    y += prod*yp[j]"
   ]
  },
  {
   "cell_type": "code",
   "execution_count": 82,
   "id": "1140ff9b-ceae-468f-8d75-f72a13a47a1a",
   "metadata": {},
   "outputs": [
    {
     "data": {
      "text/latex": [
       "$\\displaystyle 1.0 x^{3} - 7.5 x^{2} + 17.5 x - 10.0$"
      ],
      "text/plain": [
       "1.0*x**3 - 7.5*x**2 + 17.5*x - 10.0"
      ]
     },
     "execution_count": 82,
     "metadata": {},
     "output_type": "execute_result"
    }
   ],
   "source": [
    "sp.expand(y)  # Se mejora la representación del polinomio."
   ]
  },
  {
   "cell_type": "markdown",
   "id": "c31bd990-b24d-43b0-a0ba-88f333539b38",
   "metadata": {},
   "source": [
    "---"
   ]
  },
  {
   "cell_type": "markdown",
   "id": "33911447-6803-480f-9a8d-14f11bd8d4d0",
   "metadata": {},
   "source": [
    "Se crea una función con los resultados anteriores."
   ]
  },
  {
   "cell_type": "code",
   "execution_count": 83,
   "id": "a9abc110-cfe6-4e51-b97f-7d79e6c08783",
   "metadata": {},
   "outputs": [],
   "source": [
    "def polinomio_lagrange(xp, yp):\n",
    "    \n",
    "    m = len(xp)\n",
    "    y = 0\n",
    "    for j in range(m):\n",
    "        prod = 1\n",
    "        for i in range(m):\n",
    "            if i != j:\n",
    "                prod = prod*(x-xp[i])/(xp[j]-xp[i])\n",
    "        y += prod*yp[j]\n",
    "\n",
    "    y = sp.expand(y)\n",
    "    f = sp.lambdify(x, y)\n",
    "    \n",
    "    return f, y"
   ]
  },
  {
   "cell_type": "markdown",
   "id": "e3262634",
   "metadata": {},
   "source": [
    "Ver: [19-interpolacion_pol_lagrange.py](https://github.com/jnramirezg/metodos_numericos_ingenieria_civil/blob/main/codigo/19-interpolacion_pol_lagrange.py)"
   ]
  },
  {
   "cell_type": "code",
   "execution_count": 84,
   "id": "4e82b99c-9535-4b0d-a6aa-96bc18fa0cec",
   "metadata": {},
   "outputs": [],
   "source": [
    "f, y = polinomio_lagrange(xp, yp)"
   ]
  },
  {
   "cell_type": "markdown",
   "id": "638f137a-0d73-42e6-96db-b615fa9a5fb8",
   "metadata": {},
   "source": [
    "Polinomio interpolador:"
   ]
  },
  {
   "cell_type": "code",
   "execution_count": 85,
   "id": "ca41446e-1329-4a0b-bb22-72b3e0924a26",
   "metadata": {},
   "outputs": [
    {
     "data": {
      "text/latex": [
       "$\\displaystyle 1.0 x^{3} - 7.5 x^{2} + 17.5 x - 10.0$"
      ],
      "text/plain": [
       "1.0*x**3 - 7.5*x**2 + 17.5*x - 10.0"
      ]
     },
     "execution_count": 85,
     "metadata": {},
     "output_type": "execute_result"
    }
   ],
   "source": [
    "y"
   ]
  },
  {
   "cell_type": "markdown",
   "id": "f888b672-b9ef-44ea-a5fd-edb43e816f8d",
   "metadata": {},
   "source": [
    "Evalución de la función en algunos puntos:"
   ]
  },
  {
   "cell_type": "code",
   "execution_count": 86,
   "id": "271d4ff2-debb-4cd2-8243-b116fffaa83c",
   "metadata": {},
   "outputs": [
    {
     "data": {
      "text/plain": [
       "1.0"
      ]
     },
     "execution_count": 86,
     "metadata": {},
     "output_type": "execute_result"
    }
   ],
   "source": [
    "f(1)"
   ]
  },
  {
   "cell_type": "code",
   "execution_count": 87,
   "id": "41685468-72c3-4de0-9d6c-3350c3ee04c6",
   "metadata": {},
   "outputs": [
    {
     "data": {
      "text/plain": [
       "4.0"
      ]
     },
     "execution_count": 87,
     "metadata": {},
     "output_type": "execute_result"
    }
   ],
   "source": [
    "f(4)"
   ]
  },
  {
   "cell_type": "markdown",
   "id": "90e18602-7e70-4caf-a08b-2e9b494213d4",
   "metadata": {},
   "source": [
    "---"
   ]
  },
  {
   "cell_type": "markdown",
   "id": "dafb8819-41f3-408e-b978-12175d4a8dfe",
   "metadata": {},
   "source": [
    "Ejemplo 2:"
   ]
  },
  {
   "cell_type": "code",
   "execution_count": 88,
   "id": "0af58f7a-4a57-4871-8806-fb7b8075c9bd",
   "metadata": {},
   "outputs": [],
   "source": [
    "f, y = polinomio_lagrange([-2, 0, 2], [4, 0, 4])"
   ]
  },
  {
   "cell_type": "code",
   "execution_count": 89,
   "id": "63286470-f967-485c-b9cf-8f0b723a5ae9",
   "metadata": {},
   "outputs": [
    {
     "data": {
      "text/latex": [
       "$\\displaystyle x^{2}$"
      ],
      "text/plain": [
       "x**2"
      ]
     },
     "execution_count": 89,
     "metadata": {},
     "output_type": "execute_result"
    }
   ],
   "source": [
    "y"
   ]
  },
  {
   "cell_type": "code",
   "execution_count": 90,
   "id": "2e81795e-24ef-4694-a3c0-ba843e5ca62a",
   "metadata": {},
   "outputs": [
    {
     "data": {
      "text/plain": [
       "4"
      ]
     },
     "execution_count": 90,
     "metadata": {},
     "output_type": "execute_result"
    }
   ],
   "source": [
    "f(2)"
   ]
  },
  {
   "cell_type": "markdown",
   "id": "6decaee8-2563-4fdf-9076-97079aa881eb",
   "metadata": {},
   "source": [
    "---"
   ]
  },
  {
   "cell_type": "code",
   "execution_count": 91,
   "id": "3224006e-c9b4-49be-8d99-945b5a3d75fa",
   "metadata": {},
   "outputs": [],
   "source": [
    "def graf_polinomio_lagrange(xp, yp):\n",
    "    f, _ = polinomio_lagrange(xp, yp)  # Se extrae únicamente la función, no el polinomio.\n",
    "    xeval = np.linspace(min(xp), max(xp), 100)\n",
    "    yeval = f(xeval)\n",
    "    \n",
    "    plt.plot(xeval, yeval, 'b')\n",
    "    plt.plot(xp, yp, 'k.')"
   ]
  },
  {
   "cell_type": "code",
   "execution_count": 92,
   "id": "9f36acb6-aecc-40bf-8f78-e869f34c3908",
   "metadata": {},
   "outputs": [
    {
     "data": {
      "image/png": "[encoded data removed]",
      "text/plain": [
       "<Figure size 432x288 with 1 Axes>"
      ]
     },
     "metadata": {
      "needs_background": "light"
     },
     "output_type": "display_data"
    }
   ],
   "source": [
    "graf_polinomio_lagrange(xp, yp)"
   ]
  },
  {
   "cell_type": "code",
   "execution_count": 93,
   "id": "0d577cdc-6562-4596-8295-67e3bef6e947",
   "metadata": {},
   "outputs": [
    {
     "data": {
      "image/png": "[encoded data removed]",
      "text/plain": [
       "<Figure size 432x288 with 1 Axes>"
      ]
     },
     "metadata": {
      "needs_background": "light"
     },
     "output_type": "display_data"
    }
   ],
   "source": [
    "graf_polinomio_lagrange([1, 2, 3, -1], [1, 3, 6, 8])"
   ]
  },
  {
   "cell_type": "markdown",
   "id": "37058edc-e2ee-438e-9c7b-3f5432c8b591",
   "metadata": {},
   "source": [
    "---"
   ]
  },
  {
   "cell_type": "markdown",
   "id": "6bf63ad2-afea-4dca-aa68-f538e0c37b53",
   "metadata": {
    "tags": []
   },
   "source": [
    "### **2.1.5.4. Fenómeno de Runge**"
   ]
  },
  {
   "cell_type": "markdown",
   "id": "610f87c9-2d94-4583-8cd6-25ca4a9db0dd",
   "metadata": {
    "tags": []
   },
   "source": [
    "Los polinomios de interpoladores de polinómicos vistos sufren del *fenómeno de Runge*, el cual se manifiesta con \"oscilaciones salvajes\" del polinomio interpolador. Este fenómeno ocurre cuando se usa interpolación polinómica con polimonios de alto grado utlizando puntos aproximadamente equidistanetes. Esto es muestra de que el uso de polinomios de alto grado no necesariamente mejora la precisión."
   ]
  },
  {
   "cell_type": "markdown",
   "id": "387eadcf-578d-4e16-8887-df85fae8b249",
   "metadata": {},
   "source": [
    "Se muestra a partir de la función:\n",
    "\n",
    "$f(x)=\\displaystyle\\frac{1}{1+25x^2}$\n",
    "\n",
    "en el intervalo -1 a 1.\n",
    "    \n",
    "    "
   ]
  },
  {
   "cell_type": "markdown",
   "id": "44e1998a-746b-40ad-be74-d6bae40eee6a",
   "metadata": {},
   "source": [
    "Se crean 11 puntos entre -1 y 1 igualmente espaciados para crear a partir de ellos un polinomio interpolador y graficarlo:"
   ]
  },
  {
   "cell_type": "code",
   "execution_count": 94,
   "id": "66bff26b-d6c7-43af-9107-2596f08f72b8",
   "metadata": {},
   "outputs": [],
   "source": [
    "x_p = np.linspace(-1, 1, 11)  # 11 puntos de evaluación entre -1 y 1.\n",
    "y_p = 1/(1+25*x_p**2)"
   ]
  },
  {
   "cell_type": "markdown",
   "id": "11c7c262-6f0f-4095-8fd0-863c63e6a41f",
   "metadata": {},
   "source": [
    "Se crea una evaluación detallada para comparar con el polinomio interpolador:"
   ]
  },
  {
   "cell_type": "code",
   "execution_count": 95,
   "id": "bff3bddf-f19d-4d25-ba55-ddd4dcf79afc",
   "metadata": {},
   "outputs": [],
   "source": [
    "x_e = np.linspace(-1, 1, 100)  # 100 puntos de evluación entre -1 y 1.\n",
    "y_e = 1/(1+25*x_e**2)"
   ]
  },
  {
   "cell_type": "code",
   "execution_count": 96,
   "id": "1eb2ad10-d83b-4d3a-8c92-804f91468a80",
   "metadata": {
    "tags": []
   },
   "outputs": [
    {
     "data": {
      "image/png": "[encoded data removed]",
      "text/plain": [
       "<Figure size 576x144 with 1 Axes>"
      ]
     },
     "metadata": {
      "needs_background": "light"
     },
     "output_type": "display_data"
    }
   ],
   "source": [
    "plt.figure(figsize=(8, 2))\n",
    "# Gráfica \"exacta\" de la función.\n",
    "plt.plot(x_e, y_e, 'r')\n",
    "# Gráfica del polinomio interpolador a 11 puntos, es decir, grado 12.\n",
    "graf_polinomio_lagrange(x_p, y_p)\n",
    "plt.show()"
   ]
  },
  {
   "cell_type": "markdown",
   "id": "ca619349-44f9-4c38-a0fa-0a5c7065f328",
   "metadata": {},
   "source": [
    "---"
   ]
  },
  {
   "cell_type": "markdown",
   "id": "bb4fa47c-996c-4760-b949-bb92d0985b85",
   "metadata": {},
   "source": [
    "## **2.1.6. Algunos comandos específicos**"
   ]
  },
  {
   "cell_type": "markdown",
   "id": "3a46778c-5c09-4e29-9e70-64287619cd6f",
   "metadata": {},
   "source": [
    "**Matriz de Vandermonde**"
   ]
  },
  {
   "cell_type": "markdown",
   "id": "b7f79783-58e9-4084-ab22-322d61a5008d",
   "metadata": {},
   "source": [
    "Dados unos valores de x que, corresponden a ciertos puntos:"
   ]
  },
  {
   "cell_type": "code",
   "execution_count": 97,
   "id": "6e745a3b-f842-4281-b571-9e1f3f4a1d90",
   "metadata": {},
   "outputs": [],
   "source": [
    "xp = [1, 2, 3, 5]"
   ]
  },
  {
   "cell_type": "markdown",
   "id": "3adffef4-6f47-442d-be94-36886b0bb567",
   "metadata": {},
   "source": [
    "Su matriz de Vandermonde es:"
   ]
  },
  {
   "cell_type": "code",
   "execution_count": 98,
   "id": "1c4780e2-a5d6-48fd-85d7-5d6ea876eed4",
   "metadata": {},
   "outputs": [
    {
     "data": {
      "text/plain": [
       "array([[  1,   1,   1,   1],\n",
       "       [  1,   2,   4,   8],\n",
       "       [  1,   3,   9,  27],\n",
       "       [  1,   5,  25, 125]])"
      ]
     },
     "execution_count": 98,
     "metadata": {},
     "output_type": "execute_result"
    }
   ],
   "source": [
    "np.vander(xp, increasing=True)"
   ]
  },
  {
   "cell_type": "markdown",
   "id": "41b22100-6f4e-4612-8844-3d43750d37cb",
   "metadata": {},
   "source": [
    "---"
   ]
  },
  {
   "cell_type": "markdown",
   "id": "15173f7c-6470-4fa7-84a5-b67a1a8300e5",
   "metadata": {},
   "source": [
    "**Gráfica de interpolación polinómica**"
   ]
  },
  {
   "cell_type": "markdown",
   "id": "4c478db3-8403-47c3-9f1e-19684b6e7884",
   "metadata": {},
   "source": [
    "Dado un conjunto de puntos:"
   ]
  },
  {
   "cell_type": "code",
   "execution_count": 99,
   "id": "76ffa2f8-aa14-4e77-86db-e725db2771e6",
   "metadata": {},
   "outputs": [],
   "source": [
    "xp = [1.0, 2.0, 3.0, 4.0]\n",
    "yp = [1.0, 3.0, 2.0, 4.0]"
   ]
  },
  {
   "cell_type": "markdown",
   "id": "a4056d1a-2968-44ce-a219-34f8cc9ccfbe",
   "metadata": {},
   "source": [
    "Importando la función `interpolate.barycentric_interpolate` de `scipy` es posible obtener exactamente el mismo resultado que el de los polinomios interpoladores previamente vistos. Es decir, internamente hace lo mismo."
   ]
  },
  {
   "cell_type": "code",
   "execution_count": 100,
   "id": "1cea9584-a5a0-43b2-86bf-d69a5af756b7",
   "metadata": {},
   "outputs": [],
   "source": [
    "from scipy.interpolate import barycentric_interpolate"
   ]
  },
  {
   "cell_type": "code",
   "execution_count": 101,
   "id": "adc5571f-96b4-4e1e-be52-e495729828ac",
   "metadata": {},
   "outputs": [],
   "source": [
    "xg = np.linspace(min(xp), max(xp), 100)  # 100 puntos equidistantes entre mínimo y máximo de las x de los ptos.\n",
    "yg = barycentric_interpolate(xp, yp, xg)"
   ]
  },
  {
   "cell_type": "code",
   "execution_count": 102,
   "id": "ed32d36b-e79b-46b8-b69c-df993ad57558",
   "metadata": {},
   "outputs": [
    {
     "data": {
      "text/plain": [
       "[<matplotlib.lines.Line2D at 0x186199aa5e0>]"
      ]
     },
     "execution_count": 102,
     "metadata": {},
     "output_type": "execute_result"
    },
    {
     "data": {
      "image/png": "[encoded data removed]",
      "text/plain": [
       "<Figure size 432x288 with 1 Axes>"
      ]
     },
     "metadata": {
      "needs_background": "light"
     },
     "output_type": "display_data"
    }
   ],
   "source": [
    "plt.plot(xp, yp, 'k.')\n",
    "plt.plot(xg, yg, 'b')"
   ]
  }
 ],
 "metadata": {
  "kernelspec": {
   "display_name": "Python 3",
   "language": "python",
   "name": "python3"
  },
  "language_info": {
   "codemirror_mode": {
    "name": "ipython",
    "version": 3
   },
   "file_extension": ".py",
   "mimetype": "text/x-python",
   "name": "python",
   "nbconvert_exporter": "python",
   "pygments_lexer": "ipython3",
   "version": "3.8.8"
  },
  "toc-autonumbering": false,
  "toc-showcode": false,
  "toc-showmarkdowntxt": false
 },
 "nbformat": 4,
 "nbformat_minor": 5
}
