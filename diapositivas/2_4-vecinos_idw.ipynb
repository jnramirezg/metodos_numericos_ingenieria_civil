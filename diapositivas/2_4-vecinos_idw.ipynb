{
 "cells": [
  {
   "cell_type": "markdown",
   "id": "39267b8e-7f67-4335-8a49-d1d4af926206",
   "metadata": {},
   "source": [
    "**4101553 Métodos Numéricos aplicados a la Ingenieria Civil**\n",
    "-\n",
    "Departamento de Ingeniería Civil\n",
    "\n",
    "Universidad Nacional de Colombia\n",
    "\n",
    "Sede Manizales\n",
    "\n",
    "**Docente:** Juan Nicolás Ramírez Giraldo ([jnramirezg@unal.edu.co](mailto:jnramirezg@unal.edu.co))\n",
    "\n",
    "\"*Cum cogitaveris quot te antecedant, respice quot sequantur*\" (**Séneca**)\n",
    "\n",
    "\n",
    "[Repositorio de la asignatura](https://github.com/jnramirezg/metodos_numericos_ingenieria_civil/)\n",
    "\n",
    "---"
   ]
  },
  {
   "cell_type": "markdown",
   "id": "6f7a1eb2-2223-443a-b846-7653a174af78",
   "metadata": {},
   "source": [
    "**Unidad 2: Interpolación**\n",
    "-"
   ]
  },
  {
   "cell_type": "markdown",
   "id": "22b9965f",
   "metadata": {},
   "source": [
    "**Contenido**\n",
    "- 2.1. Interpolación polinómica\n",
    "- 2.2. Interpolación con trazadores\n",
    "- 2.3. Interpolación en varias dimensiones\n",
    "- 2.4. Vecinos más cercanos - distancia inversa ponderada\n",
    "- 2.5. Comandos en Python de interpolación\n",
    "\n",
    "---"
   ]
  },
  {
   "cell_type": "markdown",
   "id": "f0b88f00",
   "metadata": {},
   "source": [
    "# **2.4. Vecinos más cercanos - distancia inversa ponderada**"
   ]
  },
  {
   "cell_type": "markdown",
   "id": "027965c1",
   "metadata": {},
   "source": [
    "- 2.4.1. Vecino más cercano unidimensional\n",
    "- 2.4.2. Distancia inversa ponderada unidimensional\n",
    "- 2.4.3. Vecino más cercano multidimensional\n",
    "- 2.4.4. Distancia inversa ponderada multidimensional\n",
    "\n",
    "---"
   ]
  },
  {
   "cell_type": "markdown",
   "id": "4ad00909",
   "metadata": {},
   "source": [
    "Importación de librerías necesarias:"
   ]
  },
  {
   "cell_type": "code",
   "execution_count": 1,
   "id": "5ad2d798",
   "metadata": {},
   "outputs": [],
   "source": [
    "import numpy as np\n",
    "import sympy as sp\n",
    "import matplotlib.pyplot as plt\n",
    "from scipy.interpolate import barycentric_interpolate"
   ]
  },
  {
   "cell_type": "markdown",
   "id": "851edaf7",
   "metadata": {},
   "source": [
    "---"
   ]
  },
  {
   "cell_type": "markdown",
   "id": "35921a83",
   "metadata": {},
   "source": [
    "## **2.4.1. Vecino más cercano unidimensional**"
   ]
  },
  {
   "cell_type": "markdown",
   "id": "8dcc6bcf",
   "metadata": {},
   "source": [
    "Dado un conjunto de cinco puntos:"
   ]
  },
  {
   "cell_type": "code",
   "execution_count": 2,
   "id": "0b71c647",
   "metadata": {},
   "outputs": [],
   "source": [
    "xp = [ 3.0,  4.0, 1.0,  5]\n",
    "yp = [17.0, 13.0, 5.0, 12]"
   ]
  },
  {
   "cell_type": "markdown",
   "id": "529c9883",
   "metadata": {},
   "source": [
    "La cantidad de puntos se calcula como:"
   ]
  },
  {
   "cell_type": "code",
   "execution_count": 3,
   "id": "013ff811",
   "metadata": {},
   "outputs": [],
   "source": [
    "m = len(xp)"
   ]
  },
  {
   "cell_type": "markdown",
   "id": "5252632f",
   "metadata": {},
   "source": [
    "Se convierte a np.array() y se ordenan los puntos:"
   ]
  },
  {
   "cell_type": "code",
   "execution_count": 4,
   "id": "1f23ec6b",
   "metadata": {},
   "outputs": [],
   "source": [
    "pto = np.array([np.array(xp), np.array(yp)]).T"
   ]
  },
  {
   "cell_type": "code",
   "execution_count": 5,
   "id": "e7e36004",
   "metadata": {
    "scrolled": true
   },
   "outputs": [
    {
     "data": {
      "text/plain": [
       "array([[ 1.,  5.],\n",
       "       [ 3., 17.],\n",
       "       [ 4., 13.],\n",
       "       [ 5., 12.]])"
      ]
     },
     "execution_count": 5,
     "metadata": {},
     "output_type": "execute_result"
    }
   ],
   "source": [
    "pto[np.lexsort(np.fliplr(pto).T)]"
   ]
  },
  {
   "cell_type": "code",
   "execution_count": 6,
   "id": "c2bf255e",
   "metadata": {},
   "outputs": [],
   "source": [
    "pto = pto[np.lexsort(np.fliplr(pto).T)]"
   ]
  },
  {
   "cell_type": "code",
   "execution_count": 7,
   "id": "aaef38de",
   "metadata": {},
   "outputs": [],
   "source": [
    "xp = pto[:, 0]\n",
    "yp = pto[:, 1]"
   ]
  },
  {
   "cell_type": "markdown",
   "id": "7b4eaccb",
   "metadata": {},
   "source": [
    "Se calculan los puntos donde se cambia el valor de la interpolación:"
   ]
  },
  {
   "cell_type": "code",
   "execution_count": 8,
   "id": "a060e931",
   "metadata": {},
   "outputs": [
    {
     "data": {
      "text/plain": [
       "array([2. , 3.5, 4.5])"
      ]
     },
     "execution_count": 8,
     "metadata": {},
     "output_type": "execute_result"
    }
   ],
   "source": [
    "(pto[1:, 0] + pto[:-1, 0])/2"
   ]
  },
  {
   "cell_type": "code",
   "execution_count": 9,
   "id": "d400e67a",
   "metadata": {},
   "outputs": [],
   "source": [
    "dif = (xp[1:] + xp[:-1])/2"
   ]
  },
  {
   "cell_type": "code",
   "execution_count": 10,
   "id": "5c05f07b",
   "metadata": {},
   "outputs": [],
   "source": [
    "# Ensamblaje\n",
    "xg = [pto[0, 0]]\n",
    "yg = [pto[0, 1]]\n",
    "for i in range(m-1):\n",
    "    xg += [dif[i], dif[i]]\n",
    "    yg += [pto[i,1], pto[i+1,1]]\n",
    "xg += [pto[-1, 0]]\n",
    "yg += [pto[-1, 1]]"
   ]
  },
  {
   "cell_type": "code",
   "execution_count": 11,
   "id": "cf9152e2",
   "metadata": {},
   "outputs": [
    {
     "data": {
      "text/plain": [
       "[1.0, 2.0, 2.0, 3.5, 3.5, 4.5, 4.5, 5.0]"
      ]
     },
     "execution_count": 11,
     "metadata": {},
     "output_type": "execute_result"
    }
   ],
   "source": [
    "xg"
   ]
  },
  {
   "cell_type": "code",
   "execution_count": 12,
   "id": "a6eedb87",
   "metadata": {
    "scrolled": true
   },
   "outputs": [
    {
     "data": {
      "text/plain": [
       "[5.0, 5.0, 17.0, 17.0, 13.0, 13.0, 12.0, 12.0]"
      ]
     },
     "execution_count": 12,
     "metadata": {},
     "output_type": "execute_result"
    }
   ],
   "source": [
    "yg"
   ]
  },
  {
   "cell_type": "markdown",
   "id": "5d222d6a",
   "metadata": {},
   "source": [
    "---"
   ]
  },
  {
   "cell_type": "markdown",
   "id": "f5c21c17",
   "metadata": {},
   "source": [
    "Gráfica"
   ]
  },
  {
   "cell_type": "code",
   "execution_count": 13,
   "id": "a8187b15",
   "metadata": {
    "scrolled": true
   },
   "outputs": [
    {
     "data": {
      "text/plain": [
       "[<matplotlib.lines.Line2D at 0x1aacee227c0>]"
      ]
     },
     "execution_count": 13,
     "metadata": {},
     "output_type": "execute_result"
    },
    {
     "data": {
      "image/png": "[encoded data removed]",
      "text/plain": [
       "<Figure size 432x288 with 1 Axes>"
      ]
     },
     "metadata": {
      "needs_background": "light"
     },
     "output_type": "display_data"
    }
   ],
   "source": [
    "plt.plot(xg, yg, 'r')\n",
    "plt.plot(xp, yp, 'k.')"
   ]
  },
  {
   "cell_type": "markdown",
   "id": "caf3f07d",
   "metadata": {},
   "source": [
    "Función que al ingresarle:\n",
    "- x: un punto.\n",
    "- xp: valores en x de un conjunto de puntos asociados a datos.\n",
    "- yp: valores en y de un conjunto de puntos asociados a datos.\n",
    "\n",
    "Retorna la interpolación por vecino más cercano."
   ]
  },
  {
   "cell_type": "code",
   "execution_count": 14,
   "id": "1f2bf950",
   "metadata": {},
   "outputs": [],
   "source": [
    "def f(x, xp, yp):\n",
    "    m = len(xp)\n",
    "    pto = np.array([np.array(xp), np.array(yp)]).T\n",
    "    pto = pto[np.lexsort(np.fliplr(pto).T)]\n",
    "    xp = pto[:, 0]\n",
    "    yp = pto[:, 1]\n",
    "    \n",
    "    dif = (xp[1:] + xp[:-1])/2\n",
    "    # Ensamblaje\n",
    "    xg = [pto[0, 0]]\n",
    "    yg = [pto[0, 1]]\n",
    "    for i in range(m-1):\n",
    "        xg += [dif[i], dif[i]]\n",
    "        yg += [pto[i,1], pto[i+1,1]]\n",
    "    xg += [pto[-1, 0]]\n",
    "    yg += [pto[-1, 1]]\n",
    "    \n",
    "    if x == xg[0]:\n",
    "        y = yg[0]\n",
    "    for i in range(m):\n",
    "        if xg[2*i] < x <= xg[2*i+1]:\n",
    "            y = yg[2*i]\n",
    "    if x < xg[0] or x > xg[-1]:\n",
    "        y = 0\n",
    "    return y"
   ]
  },
  {
   "cell_type": "markdown",
   "id": "274cb3b5",
   "metadata": {},
   "source": [
    "Ver: [21-vecino_cercano_unidimensional.py](https://github.com/jnramirezg/metodos_numericos_ingenieria_civil/blob/main/codigo/21-vecino_cercano_unidimensional.py)"
   ]
  },
  {
   "cell_type": "markdown",
   "id": "91887b0f",
   "metadata": {},
   "source": [
    "---"
   ]
  },
  {
   "cell_type": "markdown",
   "id": "6da5b612",
   "metadata": {},
   "source": [
    "Ejemplo 1:"
   ]
  },
  {
   "cell_type": "code",
   "execution_count": 15,
   "id": "744acf30",
   "metadata": {},
   "outputs": [],
   "source": [
    "xp = [-15, -12, -10, 0, 3, 3.5, 7, 8]\n",
    "yp = [  1,   2,   3, 4, 5,   6, 7, 8]"
   ]
  },
  {
   "cell_type": "code",
   "execution_count": 16,
   "id": "f9ba7714",
   "metadata": {},
   "outputs": [],
   "source": [
    "xg = np.linspace(min(xp), max(xp),1000)\n",
    "yg = []\n",
    "for i in  range(len(xg)):\n",
    "    yg += [f(xg[i], xp, yp)]"
   ]
  },
  {
   "cell_type": "code",
   "execution_count": 17,
   "id": "574770c0",
   "metadata": {
    "scrolled": true
   },
   "outputs": [
    {
     "data": {
      "text/plain": [
       "[<matplotlib.lines.Line2D at 0x1aacef1f0a0>]"
      ]
     },
     "execution_count": 17,
     "metadata": {},
     "output_type": "execute_result"
    },
    {
     "data": {
      "image/png": "[encoded data removed]",
      "text/plain": [
       "<Figure size 432x288 with 1 Axes>"
      ]
     },
     "metadata": {
      "needs_background": "light"
     },
     "output_type": "display_data"
    }
   ],
   "source": [
    "plt.plot(xg, yg, 'b')\n",
    "plt.plot(xp, yp, 'k.')"
   ]
  },
  {
   "cell_type": "markdown",
   "id": "bb6f61d4",
   "metadata": {},
   "source": [
    "---"
   ]
  },
  {
   "cell_type": "markdown",
   "id": "00012a29",
   "metadata": {},
   "source": [
    "Ejemplo 2:"
   ]
  },
  {
   "cell_type": "code",
   "execution_count": 18,
   "id": "f2445cfc",
   "metadata": {},
   "outputs": [],
   "source": [
    "xp = [-5, -4, -3, -2, -1, 0, 1, 2, 3,  4,  5]\n",
    "yp = [25, 16,  9,  4,  1, 0, 1, 4, 9, 16, 25]"
   ]
  },
  {
   "cell_type": "code",
   "execution_count": 19,
   "id": "9cbd0818",
   "metadata": {},
   "outputs": [],
   "source": [
    "xg = np.linspace(min(xp), max(xp),1000)\n",
    "yg = []\n",
    "for i in  range(len(xg)):\n",
    "    yg += [f(xg[i], xp, yp)]"
   ]
  },
  {
   "cell_type": "code",
   "execution_count": 20,
   "id": "97d6a7b9",
   "metadata": {
    "scrolled": true
   },
   "outputs": [
    {
     "data": {
      "text/plain": [
       "[<matplotlib.lines.Line2D at 0x1aacef76df0>]"
      ]
     },
     "execution_count": 20,
     "metadata": {},
     "output_type": "execute_result"
    },
    {
     "data": {
      "image/png": "[encoded data removed]",
      "text/plain": [
       "<Figure size 432x288 with 1 Axes>"
      ]
     },
     "metadata": {
      "needs_background": "light"
     },
     "output_type": "display_data"
    }
   ],
   "source": [
    "plt.plot(xg, yg, 'b')\n",
    "plt.plot(xp, yp, 'k.')"
   ]
  },
  {
   "cell_type": "code",
   "execution_count": 21,
   "id": "de73f3d5",
   "metadata": {},
   "outputs": [],
   "source": [
    "xp = np.linspace(-4, 4, 100)"
   ]
  },
  {
   "cell_type": "code",
   "execution_count": 22,
   "id": "b9999c32",
   "metadata": {},
   "outputs": [],
   "source": [
    "yp = xp**2"
   ]
  },
  {
   "cell_type": "code",
   "execution_count": 23,
   "id": "fcee4749",
   "metadata": {},
   "outputs": [],
   "source": [
    "xp = list(xp)\n",
    "yp = list(yp)"
   ]
  },
  {
   "cell_type": "code",
   "execution_count": 24,
   "id": "d084da0c",
   "metadata": {},
   "outputs": [],
   "source": [
    "xg = np.linspace(min(xp), max(xp),1000)\n",
    "yg = []\n",
    "for i in  range(len(xg)):\n",
    "    yg += [f(xg[i], xp, yp)]"
   ]
  },
  {
   "cell_type": "code",
   "execution_count": 25,
   "id": "9dc24093",
   "metadata": {},
   "outputs": [
    {
     "data": {
      "text/plain": [
       "[<matplotlib.lines.Line2D at 0x1aacefe11c0>]"
      ]
     },
     "execution_count": 25,
     "metadata": {},
     "output_type": "execute_result"
    },
    {
     "data": {
      "image/png": "[encoded data removed]",
      "text/plain": [
       "<Figure size 432x288 with 1 Axes>"
      ]
     },
     "metadata": {
      "needs_background": "light"
     },
     "output_type": "display_data"
    }
   ],
   "source": [
    "plt.plot(xg, yg, 'b')\n",
    "plt.plot(xp, yp, 'k.')"
   ]
  },
  {
   "cell_type": "markdown",
   "id": "542e94f0",
   "metadata": {},
   "source": [
    "---"
   ]
  },
  {
   "cell_type": "markdown",
   "id": "6cd17f8a",
   "metadata": {},
   "source": [
    "# **2.4.2. Distancia inversa ponderada unidimensional**"
   ]
  },
  {
   "cell_type": "markdown",
   "id": "8ecb28a0",
   "metadata": {},
   "source": [
    "Si se cuenta con un conjunto de puntos ($x_{p_i}$, $y_{p_i}$) es posible calcular la interpolación en un punto $x_g$ a través de:\n",
    "\n",
    "$y_g = \\displaystyle\\frac{\\displaystyle\\sum^{n}_{i=1}{\\frac{y_i}{d_i^p}}}{\\displaystyle\\sum{(1/d_i)^p}}$"
   ]
  },
  {
   "cell_type": "markdown",
   "id": "e9643051",
   "metadata": {},
   "source": [
    "---"
   ]
  },
  {
   "cell_type": "markdown",
   "id": "59345c24",
   "metadata": {},
   "source": [
    "Dado tres puntos:"
   ]
  },
  {
   "cell_type": "code",
   "execution_count": 26,
   "id": "4e91d86e",
   "metadata": {},
   "outputs": [],
   "source": [
    "xp = [ 3.0,  4.0, 1.0]\n",
    "yp = [17.0, 13.0, 5.0]"
   ]
  },
  {
   "cell_type": "markdown",
   "id": "dc14f636",
   "metadata": {},
   "source": [
    "Se convierten los datos de entrada a np.array():"
   ]
  },
  {
   "cell_type": "code",
   "execution_count": 27,
   "id": "316fc192",
   "metadata": {},
   "outputs": [],
   "source": [
    "xp = np.array(xp, dtype=float)\n",
    "yp = np.array(yp, dtype=float)"
   ]
  },
  {
   "cell_type": "markdown",
   "id": "feb76592",
   "metadata": {},
   "source": [
    "Se define una resolución en la cual se quiere evaluar la interpolación:"
   ]
  },
  {
   "cell_type": "code",
   "execution_count": 28,
   "id": "998ea847",
   "metadata": {},
   "outputs": [],
   "source": [
    "res = 0.1"
   ]
  },
  {
   "cell_type": "markdown",
   "id": "0d7a6c83",
   "metadata": {},
   "source": [
    "Se define el grado p del factor ponderador:"
   ]
  },
  {
   "cell_type": "code",
   "execution_count": 29,
   "id": "a9c6f627",
   "metadata": {},
   "outputs": [],
   "source": [
    "p = 2"
   ]
  },
  {
   "cell_type": "markdown",
   "id": "31ed3996",
   "metadata": {},
   "source": [
    "Se crea un conjunto de puntos de acuerdo con la resolución requerida:"
   ]
  },
  {
   "cell_type": "code",
   "execution_count": 30,
   "id": "28241dec",
   "metadata": {
    "scrolled": true
   },
   "outputs": [
    {
     "data": {
      "text/plain": [
       "array([1. , 1.1, 1.2, 1.3, 1.4, 1.5, 1.6, 1.7, 1.8, 1.9, 2. , 2.1, 2.2,\n",
       "       2.3, 2.4, 2.5, 2.6, 2.7, 2.8, 2.9, 3. , 3.1, 3.2, 3.3, 3.4, 3.5,\n",
       "       3.6, 3.7, 3.8, 3.9])"
      ]
     },
     "execution_count": 30,
     "metadata": {},
     "output_type": "execute_result"
    }
   ],
   "source": [
    "np.arange(min(xp), max(xp), res)"
   ]
  },
  {
   "cell_type": "markdown",
   "id": "cbe27a1c",
   "metadata": {},
   "source": [
    "Artificio para evitar errores de cálculo por división entre cero:"
   ]
  },
  {
   "cell_type": "code",
   "execution_count": 31,
   "id": "85588337",
   "metadata": {},
   "outputs": [
    {
     "data": {
      "text/plain": [
       "array([1.00031841, 1.10035025, 1.20038209, 1.30041393, 1.40044578,\n",
       "       1.50047762, 1.60050946, 1.7005413 , 1.80057314, 1.90060498,\n",
       "       2.00063682, 2.10066866, 2.2007005 , 2.30073235, 2.40076419,\n",
       "       2.50079603, 2.60082787, 2.70085971, 2.80089155, 2.90092339,\n",
       "       3.00095523, 3.10098707, 3.20101892, 3.30105076, 3.4010826 ,\n",
       "       3.50111444, 3.60114628, 3.70117812, 3.80120996, 3.9012418 ])"
      ]
     },
     "execution_count": 31,
     "metadata": {},
     "output_type": "execute_result"
    }
   ],
   "source": [
    "np.arange(min(xp), max(xp), res) * np.pi/(np.pi-0.001)"
   ]
  },
  {
   "cell_type": "code",
   "execution_count": 32,
   "id": "522abcbc",
   "metadata": {},
   "outputs": [],
   "source": [
    "xg = np.arange(min(xp), max(xp)+res, res) * np.pi/(np.pi-0.001)"
   ]
  },
  {
   "cell_type": "markdown",
   "id": "fd3e602b",
   "metadata": {},
   "source": [
    "---"
   ]
  },
  {
   "cell_type": "markdown",
   "id": "3f65d32c",
   "metadata": {},
   "source": [
    "Cantidad de puntos asociados a datos:"
   ]
  },
  {
   "cell_type": "code",
   "execution_count": 33,
   "id": "b976b450",
   "metadata": {},
   "outputs": [],
   "source": [
    "m = len(xp)"
   ]
  },
  {
   "cell_type": "markdown",
   "id": "a482d52f",
   "metadata": {},
   "source": [
    "Cálculo de los pesos:"
   ]
  },
  {
   "cell_type": "code",
   "execution_count": 34,
   "id": "aee711c9",
   "metadata": {},
   "outputs": [],
   "source": [
    "w = np.zeros(len(xg))  # Espacio de memoria para los pesos."
   ]
  },
  {
   "cell_type": "code",
   "execution_count": 35,
   "id": "b9f7a658",
   "metadata": {},
   "outputs": [],
   "source": [
    "for i in range(m):\n",
    "    dist = abs(xp[i] - xg)\n",
    "    w += 1/(dist)**p"
   ]
  },
  {
   "cell_type": "code",
   "execution_count": 36,
   "id": "ecd451ed",
   "metadata": {},
   "outputs": [
    {
     "data": {
      "text/plain": [
       "array([9.86332258e+06, 9.96992037e+01, 2.53411086e+01, 1.15639182e+01,\n",
       "       6.77491525e+00, 4.59715783e+00, 3.45732703e+00, 2.81899769e+00,\n",
       "       2.46209112e+00, 2.28715399e+00, 2.25016171e+00, 2.33905025e+00,\n",
       "       2.56775667e+00, 2.98246222e+00, 3.68551308e+00, 4.90165657e+00,\n",
       "       7.17698055e+00, 1.21132386e+01, 2.62282011e+01, 1.02977258e+02,\n",
       "       1.09592594e+06, 9.95185246e+01, 2.65201126e+01, 1.32695046e+01,\n",
       "       9.17758928e+00, 8.15997668e+00, 9.20096889e+00, 1.33699148e+01,\n",
       "       2.69904831e+01, 1.03880620e+02, 6.16458747e+05])"
      ]
     },
     "execution_count": 36,
     "metadata": {},
     "output_type": "execute_result"
    }
   ],
   "source": [
    "w"
   ]
  },
  {
   "cell_type": "markdown",
   "id": "5e5ed5a7",
   "metadata": {},
   "source": [
    "Cálculo de los puntos y interpolados:"
   ]
  },
  {
   "cell_type": "code",
   "execution_count": 37,
   "id": "6fb1a3e5",
   "metadata": {},
   "outputs": [],
   "source": [
    "yg = np.zeros(len(xg))"
   ]
  },
  {
   "cell_type": "code",
   "execution_count": 38,
   "id": "8f33c731",
   "metadata": {},
   "outputs": [],
   "source": [
    "for i in range(m):\n",
    "    dist = abs(xp[i] - xg)\n",
    "    yg += yp[i]/(dist**p*w )"
   ]
  },
  {
   "cell_type": "markdown",
   "id": "6b75dd97",
   "metadata": {},
   "source": [
    "---"
   ]
  },
  {
   "cell_type": "markdown",
   "id": "cff81212",
   "metadata": {},
   "source": [
    "Gráfica:"
   ]
  },
  {
   "cell_type": "code",
   "execution_count": 39,
   "id": "7e928622",
   "metadata": {
    "scrolled": true
   },
   "outputs": [
    {
     "data": {
      "text/plain": [
       "[<matplotlib.lines.Line2D at 0x1aad001c0d0>]"
      ]
     },
     "execution_count": 39,
     "metadata": {},
     "output_type": "execute_result"
    },
    {
     "data": {
      "image/png": "[encoded data removed]",
      "text/plain": [
       "<Figure size 432x288 with 1 Axes>"
      ]
     },
     "metadata": {
      "needs_background": "light"
     },
     "output_type": "display_data"
    }
   ],
   "source": [
    "plt.plot(xg, yg, 'r')\n",
    "plt.plot(xp, yp, 'k.')"
   ]
  },
  {
   "cell_type": "markdown",
   "id": "a80574f5",
   "metadata": {},
   "source": [
    "---"
   ]
  },
  {
   "cell_type": "markdown",
   "id": "7dd45b82",
   "metadata": {},
   "source": [
    "Comparación con la interpolación polinomial:"
   ]
  },
  {
   "cell_type": "code",
   "execution_count": 40,
   "id": "8b3eb006",
   "metadata": {},
   "outputs": [],
   "source": [
    "yg2 = barycentric_interpolate(xp, yp, xg)"
   ]
  },
  {
   "cell_type": "code",
   "execution_count": 41,
   "id": "d41719cf",
   "metadata": {
    "scrolled": true
   },
   "outputs": [
    {
     "data": {
      "text/plain": [
       "[<matplotlib.lines.Line2D at 0x1aad0073910>]"
      ]
     },
     "execution_count": 41,
     "metadata": {},
     "output_type": "execute_result"
    },
    {
     "data": {
      "image/png": "[encoded data removed]",
      "text/plain": [
       "<Figure size 432x288 with 1 Axes>"
      ]
     },
     "metadata": {
      "needs_background": "light"
     },
     "output_type": "display_data"
    }
   ],
   "source": [
    "plt.plot(xg, yg, 'r')\n",
    "plt.plot(xg, yg2, 'b')\n",
    "plt.plot(xp, yp, 'k.')"
   ]
  },
  {
   "cell_type": "markdown",
   "id": "ab4312eb",
   "metadata": {},
   "source": [
    "---"
   ]
  },
  {
   "cell_type": "markdown",
   "id": "5604bb3f",
   "metadata": {},
   "source": [
    "Se organizan los resultados lógicos anteriores en una función:\n",
    "\n",
    "Función que al ingresarle:\n",
    "- xg: un conjunto de puntos de evaluación.\n",
    "- xp: valores en x de un conjunto de puntos asociados a datos.\n",
    "- yp: valores en y de un conjunto de puntos asociados a datos.\n",
    "- res: resolución de evaluación.\n",
    "- p: grado del factor ponderador inverso.\n",
    "\n",
    "Retorna la interpolación mediante distancia inversa ponderada de los puntos asociados a datos en forma de np.array."
   ]
  },
  {
   "cell_type": "code",
   "execution_count": 42,
   "id": "45496c16",
   "metadata": {},
   "outputs": [],
   "source": [
    "def interpolacion_idw_1d(xp, yp, res, p):\n",
    "    # Se convierten los datos de entrada a np.array():\n",
    "    xp = np.array(xp, dtype=float)\n",
    "    yp = np.array(yp, dtype=float)\n",
    "    \n",
    "    xg = np.arange(min(xp), max(xp)+res, res) * np.pi/(np.pi-0.001)\n",
    "    \n",
    "    m = len(xp)  # Cantidad de puntos.\n",
    "    \n",
    "    # Cálculo de los pesos\n",
    "    w = np.zeros(len(xg))  # Espacio de memoria para los pesos.\n",
    "    for i in range(m):\n",
    "        dist = abs(xp[i] - xg)\n",
    "        w += 1/(dist)**p\n",
    "    \n",
    "    # Cálculo de los puntos y interpolados:\n",
    "    yg = np.zeros(len(xg))\n",
    "    for i in range(m):\n",
    "        dist = abs(xp[i] - xg)\n",
    "        yg += yp[i]/(dist**p*w )\n",
    "    \n",
    "    return xg, yg"
   ]
  },
  {
   "cell_type": "markdown",
   "id": "df3d004d",
   "metadata": {},
   "source": [
    "Ver: [22-idw_unidimensional.py](https://github.com/jnramirezg/metodos_numericos_ingenieria_civil/blob/main/codigo/22-idw_unidimensional.py)"
   ]
  },
  {
   "cell_type": "markdown",
   "id": "ca00856e",
   "metadata": {},
   "source": [
    "---"
   ]
  },
  {
   "cell_type": "markdown",
   "id": "5cdbe646",
   "metadata": {},
   "source": [
    "Ejemplo 1:"
   ]
  },
  {
   "cell_type": "code",
   "execution_count": 43,
   "id": "f39e3e26",
   "metadata": {},
   "outputs": [],
   "source": [
    "xp = [4.5, 3.0, 7.0, 9.0]\n",
    "yp = [1.0, 2.5, 2.5, 0.5]"
   ]
  },
  {
   "cell_type": "code",
   "execution_count": 44,
   "id": "831998e0",
   "metadata": {},
   "outputs": [],
   "source": [
    "xg, yg = interpolacion_idw_1d(xp, yp, 0.001, 2)\n",
    "yg2 = barycentric_interpolate(xp, yp, xg)"
   ]
  },
  {
   "cell_type": "code",
   "execution_count": 45,
   "id": "d5ccb7c7",
   "metadata": {},
   "outputs": [
    {
     "data": {
      "text/plain": [
       "[<matplotlib.lines.Line2D at 0x1aad00db400>]"
      ]
     },
     "execution_count": 45,
     "metadata": {},
     "output_type": "execute_result"
    },
    {
     "data": {
      "image/png": "[encoded data removed]",
      "text/plain": [
       "<Figure size 432x288 with 1 Axes>"
      ]
     },
     "metadata": {
      "needs_background": "light"
     },
     "output_type": "display_data"
    }
   ],
   "source": [
    "plt.plot(xg, yg, 'r')\n",
    "plt.plot(xp, yp, 'k.')\n",
    "plt.plot(xg, yg2, 'b')"
   ]
  },
  {
   "cell_type": "markdown",
   "id": "f91a953d",
   "metadata": {},
   "source": [
    "---"
   ]
  },
  {
   "cell_type": "markdown",
   "id": "28a218bc",
   "metadata": {},
   "source": [
    "Ejemplo 2:"
   ]
  },
  {
   "cell_type": "code",
   "execution_count": 46,
   "id": "14d87c7b",
   "metadata": {},
   "outputs": [],
   "source": [
    "xp = [-15, -12, -10, 0, 3, 3.5, 7, 8]\n",
    "yp = [  1,   2,   3, 4, 5,   6, 7, 8]"
   ]
  },
  {
   "cell_type": "code",
   "execution_count": 47,
   "id": "4f0be695",
   "metadata": {
    "scrolled": true
   },
   "outputs": [],
   "source": [
    "xg, yg = interpolacion_idw_1d(xp, yp, 0.001, 2)\n",
    "yg2 = barycentric_interpolate(xp, yp, xg)"
   ]
  },
  {
   "cell_type": "code",
   "execution_count": 55,
   "id": "190c3535",
   "metadata": {},
   "outputs": [
    {
     "data": {
      "text/plain": [
       "[<matplotlib.lines.Line2D at 0x1aad04395e0>]"
      ]
     },
     "execution_count": 55,
     "metadata": {},
     "output_type": "execute_result"
    },
    {
     "data": {
      "image/png": "[encoded data removed]",
      "text/plain": [
       "<Figure size 432x288 with 1 Axes>"
      ]
     },
     "metadata": {
      "needs_background": "light"
     },
     "output_type": "display_data"
    }
   ],
   "source": [
    "plt.plot(xg, yg, 'r')\n",
    "plt.plot(xp, yp, 'k.')\n",
    "#plt.plot(xg, yg2, 'b')"
   ]
  },
  {
   "cell_type": "markdown",
   "id": "cf2c075f",
   "metadata": {},
   "source": [
    "---"
   ]
  },
  {
   "cell_type": "markdown",
   "id": "1b6579e4",
   "metadata": {},
   "source": [
    "**Aplicación interactiva**"
   ]
  },
  {
   "cell_type": "code",
   "execution_count": 49,
   "id": "203ccab9",
   "metadata": {},
   "outputs": [],
   "source": [
    "def grafica_idw_1d_ict(res, p):\n",
    "\n",
    "    xp = [ 15, -12, -10, 0, 3, 3.5, 7, 8]\n",
    "    yp = [  1,   2,   3, 4, 5,   6, 7, 8]\n",
    "    \n",
    "    # Se convierten los datos de entrada a np.array():\n",
    "    xp = np.array(xp, dtype=float)\n",
    "    yp = np.array(yp, dtype=float)\n",
    "    \n",
    "    xg = np.arange(min(xp), max(xp)+res, res) * np.pi/(np.pi-0.001)\n",
    "    \n",
    "    m = len(xp)  # Cantidad de puntos.\n",
    "    \n",
    "    # Cálculo de los pesos\n",
    "    w = np.zeros(len(xg))  # Espacio de memoria para los pesos.\n",
    "    for i in range(m):\n",
    "        dist = abs(xp[i] - xg)\n",
    "        w += 1/(dist)**p\n",
    "    \n",
    "    # Cálculo de los puntos y interpolados:\n",
    "    yg = np.zeros(len(xg))\n",
    "    for i in range(m):\n",
    "        dist = abs(xp[i] - xg)\n",
    "        yg += yp[i]/(dist**p*w )\n",
    "    \n",
    "    yg2 = barycentric_interpolate(xp, yp, xg)\n",
    "    plt.plot(xg, yg, 'r')\n",
    "    plt.plot(xp, yp, 'k.')\n",
    "    plt.show()"
   ]
  },
  {
   "cell_type": "code",
   "execution_count": 50,
   "id": "7481ff63",
   "metadata": {
    "scrolled": true
   },
   "outputs": [
    {
     "data": {
      "application/vnd.jupyter.widget-view+json": {
       "model_id": "9d62d0252208487ab1d7fc9086806031",
       "version_major": 2,
       "version_minor": 0
      },
      "text/plain": [
       "interactive(children=(FloatSlider(value=0.5, description='res', max=1.0, min=0.01, step=0.01), FloatSlider(val…"
      ]
     },
     "metadata": {},
     "output_type": "display_data"
    }
   ],
   "source": [
    "from ipywidgets import interact \n",
    "interact(grafica_idw_1d_ict, res = (0.01, 1, 0.01),p = (0, 100, 0.5))\n",
    "None"
   ]
  },
  {
   "cell_type": "code",
   "execution_count": 51,
   "id": "38743a7c",
   "metadata": {},
   "outputs": [
    {
     "data": {
      "text/plain": [
       "4.5"
      ]
     },
     "execution_count": 51,
     "metadata": {},
     "output_type": "execute_result"
    }
   ],
   "source": [
    "np.mean(yp)"
   ]
  },
  {
   "cell_type": "markdown",
   "id": "edbd84f6",
   "metadata": {},
   "source": [
    "---"
   ]
  },
  {
   "cell_type": "markdown",
   "id": "e210fe55",
   "metadata": {},
   "source": [
    "## **2.4.3. Vecino más cercano multidimensional**"
   ]
  },
  {
   "cell_type": "markdown",
   "id": "c57ad06a",
   "metadata": {},
   "source": [
    "Ver:\n",
    "\n",
    "- Ver: [23-vecino_cercano_varias_dim.py](https://github.com/jnramirezg/metodos_numericos_ingenieria_civil/blob/main/codigo/23-vecino_cercano_varias_dim.py)\n",
    "- Ver: [24-poligos_thiessen.py](https://github.com/jnramirezg/metodos_numericos_ingenieria_civil/blob/main/codigo/24-poligos_thiessen.py)"
   ]
  },
  {
   "cell_type": "markdown",
   "id": "d3f18b1e",
   "metadata": {},
   "source": [
    "---"
   ]
  },
  {
   "cell_type": "markdown",
   "id": "a6fda56a-0b97-45a9-a3d6-57e71cda3e5b",
   "metadata": {},
   "source": [
    "## **2.4.4. Distancia inversa ponderada multidimensional**"
   ]
  },
  {
   "cell_type": "markdown",
   "id": "6d75edf0",
   "metadata": {},
   "source": [
    "$z_g = \\displaystyle\\frac{\\displaystyle\\sum^{n}_{i=1}{\\frac{z_i}{d_i^p}}}{\\displaystyle\\sum{(1/d_i)^p}}$"
   ]
  },
  {
   "cell_type": "markdown",
   "id": "0775ed03",
   "metadata": {},
   "source": [
    "Ver: \n",
    "- 25-distancia_inversa_ponderada.py"
   ]
  },
  {
   "cell_type": "code",
   "execution_count": 52,
   "id": "bc3b7527",
   "metadata": {},
   "outputs": [],
   "source": [
    "def grafica_idw_ict(res, p):\n",
    "    \n",
    "    import numpy as np\n",
    "    import matplotlib.pyplot as plt\n",
    "    from matplotlib.image import NonUniformImage\n",
    "\n",
    "    X=0\n",
    "    Y=1\n",
    "\n",
    "    estacion = np.array([[ 10,  30],\n",
    "                         [ 30, 120],\n",
    "                         [ 50,  10],\n",
    "                         [120,  40],\n",
    "                                   ])\n",
    "\n",
    "    PPT = np.array([60, 100, 40, 120])\n",
    "\n",
    "    x = np.arange(0, 140, res)*np.pi/(np.pi-0.001)\n",
    "    y = np.arange(0, 140, res)\n",
    "\n",
    "    n_cuad = len(x)\n",
    "\n",
    "    x_map = np.ones((n_cuad, n_cuad))*x\n",
    "    y_map = (np.ones((n_cuad, n_cuad))*y).T\n",
    "\n",
    "    w  = np.zeros((n_cuad, n_cuad))\n",
    "    for i in range(len(estacion)):\n",
    "        dist = ((x_map-estacion[i][X])**2 +(y_map-estacion[i][Y])**2)**0.5\n",
    "        w += 1/(dist)**p\n",
    "\n",
    "    PPT_i  = np.zeros((n_cuad, n_cuad))\n",
    "    for i in range(len(estacion)):\n",
    "        dist = ((x_map-estacion[i][X])**2 +(y_map-estacion[i][Y])**2)**0.5\n",
    "        PPT_i += PPT[i]/(dist**p*w)\n",
    "\n",
    "\n",
    "\n",
    "    fig, ax = plt.subplots(figsize=(4.5, 4.5))\n",
    "    im = NonUniformImage(ax, interpolation='nearest', extent=(0, 140, 0, 140),\n",
    "                         cmap='viridis')\n",
    "    im.set_data(x, y, PPT_i)\n",
    "    ax.add_image(im)\n",
    "\n",
    "    ax.set_xlim(0.5, 140)\n",
    "    ax.set_ylim(0.5, 140)\n",
    "    ax.set_aspect('equal', adjustable='box')\n",
    "    ax.set_title('IDW')"
   ]
  },
  {
   "cell_type": "markdown",
   "id": "5ea35f93",
   "metadata": {},
   "source": [
    "- Ver: [25-idw_varias_dim.py](https://github.com/jnramirezg/metodos_numericos_ingenieria_civil/blob/main/codigo/25-idw_varias_dim.py)"
   ]
  },
  {
   "cell_type": "code",
   "execution_count": 53,
   "id": "76362a8c-de97-4eea-8091-765d0e3a364a",
   "metadata": {
    "scrolled": true
   },
   "outputs": [
    {
     "data": {
      "application/vnd.jupyter.widget-view+json": {
       "model_id": "30c9e57056724899b7d631101e94437f",
       "version_major": 2,
       "version_minor": 0
      },
      "text/plain": [
       "interactive(children=(FloatSlider(value=49.1, description='res', min=0.1, step=1.0), FloatSlider(value=50.0, d…"
      ]
     },
     "metadata": {},
     "output_type": "display_data"
    }
   ],
   "source": [
    "from ipywidgets import interact \n",
    "interact(grafica_idw_ict, res = (0.1, 100, 1),p = (0, 100, 0.5))\n",
    "None"
   ]
  }
 ],
 "metadata": {
  "kernelspec": {
   "display_name": "Python 3",
   "language": "python",
   "name": "python3"
  },
  "language_info": {
   "codemirror_mode": {
    "name": "ipython",
    "version": 3
   },
   "file_extension": ".py",
   "mimetype": "text/x-python",
   "name": "python",
   "nbconvert_exporter": "python",
   "pygments_lexer": "ipython3",
   "version": "3.8.8"
  }
 },
 "nbformat": 4,
 "nbformat_minor": 5
}
