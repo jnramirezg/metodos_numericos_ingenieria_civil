{
 "cells": [
  {
   "cell_type": "markdown",
   "id": "b6abfe1c-2684-4f89-b4b1-88181ac7b0de",
   "metadata": {},
   "source": [
    "# **4101553 Métodos Numéricos aplicados a la Ingenieria Civil**\n",
    "\n",
    "Departamento de Ingeniería Civil\n",
    "\n",
    "Universidad Nacional de Colombia\n",
    "\n",
    "Sede Manizales\n",
    "\n",
    "**Docente:** Juan Nicolás Ramírez Giraldo ([jnramirezg@unal.edu.co](mailto:jnramirezg@unal.edu.co))\n",
    "\n",
    "\n",
    "\"*Cum cogitaveris quot te antecedant, respice quot sequantur*\"\n",
    "\n",
    "**Séneca**\n",
    "\n",
    "\n",
    "[Repositorio de la asignatura](https://github.com/jnramirezg/metodos_numericos_ingenieria_civil/)\n"
   ]
  },
  {
   "cell_type": "markdown",
   "id": "8e6adcc0-c437-4fe0-a37b-dfc34709aadf",
   "metadata": {},
   "source": [
    "# **Unidad 1: Sistemas de ecuaciones lineales**\n",
    "## **Mejoramiento de las soluciones de Gauss y Gauss-Jordan**\n"
   ]
  },
  {
   "cell_type": "markdown",
   "id": "81999483-ae1f-4f61-8877-8c6e85d3d348",
   "metadata": {},
   "source": [
    "Hasta ahora, la obtención de la solución mediante los métodos de eliminación de Gauss y Gauss-Jordan sistematiza la obtención de las soluciones a partir de la matriz aumentada original, tomando los elementos de la diagonal principal sin consideración alguna de los problemas que pueden causarse.\n",
    "\n",
    "Veamos el programa desarrollado usando en módulo Numpy para el método de eliminación de Gauss-Jordan.\n"
   ]
  },
  {
   "cell_type": "code",
   "execution_count": 1,
   "id": "36a2b91e-7bb9-4bd9-9104-d5cb9cf60d73",
   "metadata": {},
   "outputs": [],
   "source": [
    "import numpy as np\n"
   ]
  },
  {
   "cell_type": "code",
   "execution_count": 2,
   "id": "bdcf47f2-c9a3-4b0a-b4ce-17490012e703",
   "metadata": {},
   "outputs": [],
   "source": [
    "# El programa desarrollado es:\n",
    "\n",
    "def np_gauss_jordan(A, B):\n",
    "    '''\n",
    "        Función que utiliza el módulo numpy para hallar la solución del sistema\n",
    "        AX=B, en donde:\n",
    "        A: coeficientes constantes, se ingresa como una lista de listas.\n",
    "        X: incógnitas, sol.\n",
    "        B: constantes, se ingresa como una lista.\n",
    "        La solución se obtiene con la técnica Gauss-Jordan.\n",
    "    '''\n",
    "    import numpy as np\n",
    "    A = np.array(A, dtype=float)\n",
    "    B = np.array([B], dtype=float).T\n",
    "    \n",
    "    S = np.append(A, B, axis=1)  # Se crea la matriz aumentada.\n",
    "    m = S.shape[0]               # Número de filas o de soluciones.\n",
    "\n",
    "    for j in range(m):\n",
    "        pivote = S[j, j]          # Se define el pivote j, ajj.\n",
    "        S[j, :] = S[j, :]/pivote  # Normalización con filas fj = (1/ajj)*fj\n",
    "        for i in range(m):\n",
    "            if i != j:            # Se exluye la operación cuando i=j.\n",
    "                S[i, :] = S[i, :] - S[i, j]*S[j, :]  # Eliminación con fi = fi - (aij)*fj\n",
    "\n",
    "    sol = S[:, -1]  # Se extrae la solución de la última columna de S.\n",
    "        \n",
    "    return list(sol)\n"
   ]
  },
  {
   "cell_type": "markdown",
   "id": "b93d1086-458a-4b68-83f9-63ac46889077",
   "metadata": {},
   "source": [
    "En particular, revisemos los ciclos con las operaciones principales:\n",
    "\n",
    "    for j in range(m):\n",
    "        pivote = S[j, j]          \n",
    "        S[j, :] = S[j, :]/pivote  \n",
    "        for i in range(m):\n",
    "            if i != j:            \n",
    "                S[i, :] = S[i, :] - S[i, j]*S[j, :]\n",
    "\n",
    "Se evidencia que el elemento pivote es el único denominador en las operaciones dentro de los ciclos, por lo que la fuente de errores está asociada a los casos donde este elemento se vuelve cero (o tiende a cero).\n"
   ]
  },
  {
   "cell_type": "markdown",
   "id": "4eea06fe-3a3f-47d2-a412-0abb20938136",
   "metadata": {},
   "source": [
    "### **Caso 1: matriz singular**\n",
    "\n",
    "Como vimos en el método de solución mediante la regla de Cramer, hay dos formas en las que el sistema de **ecuaciones es singular**. Una ocurre porque hay infinitas soluciones y la otra porque no hay ninguna solución.\n"
   ]
  },
  {
   "cell_type": "markdown",
   "id": "af841905-5c2d-4293-8d71-f51a0cb11ce8",
   "metadata": {},
   "source": [
    "En un **sistema con infinitas soluciones**:\n",
    "\n",
    "Si la matriz aumentada del sistema original es:\n",
    "\n",
    "$\\begin{bmatrix}\n",
    "1 & -1 & 1 & | & 1 \\\\\n",
    "2 &  4 & 2 & | & 2\\\\\n",
    "1 & -1 & 1 & | & 1\n",
    "\\end{bmatrix}$\n",
    "\n",
    "Para eliminar el primer elemento de la tercera fila, solo es necesario hacer:\n",
    "\n",
    "$f_3 = f_3 + (-1).f_1$\n",
    "\n",
    "$\\begin{bmatrix}\n",
    "1 & -1 & 1 & | & 1 \\\\\n",
    "2 &  4 & 2 & | & 2\\\\\n",
    "0 &  0 & 0 & | & 0\n",
    "\\end{bmatrix}$\n",
    "\n",
    "Se cumplió el objetivo de eliminar el primer elemento de la tercera fila, pero al revisar la tercera ecuación:\n",
    "\n",
    "$(0).x_1 + (0).x_2 + (0).x_3 = 0$\n",
    "\n",
    "$0=0$\n",
    "\n",
    "Lo que implica que no hay ecuaciones suficientes para resolver el sistema, es decir, **infinitas soluciones**.\n"
   ]
  },
  {
   "cell_type": "code",
   "execution_count": 3,
   "id": "e0186d20-27fc-44be-adc3-93cd0c263ca3",
   "metadata": {},
   "outputs": [
    {
     "name": "stderr",
     "output_type": "stream",
     "text": [
      "<ipython-input-2-ca6358b30d55>:21: RuntimeWarning: invalid value encountered in true_divide\n",
      "  S[j, :] = S[j, :]/pivote  # Normalización con filas fj = (1/ajj)*fj\n"
     ]
    },
    {
     "data": {
      "text/plain": [
       "[nan, nan, nan]"
      ]
     },
     "execution_count": 3,
     "metadata": {},
     "output_type": "execute_result"
    }
   ],
   "source": [
    "A = [[ 1, -1,  1],\n",
    "     [ 2,  4,  2], \n",
    "     [ 1, -1,  1]]\n",
    "\n",
    "B = [1, 2, 1]\n",
    "\n",
    "np_gauss_jordan(A, B)\n"
   ]
  },
  {
   "cell_type": "markdown",
   "id": "8564b0d6-87c0-4a47-840d-f4e1249e948a",
   "metadata": {},
   "source": [
    "En un **sistema sin solución**: \n",
    "\n",
    "Si la matriz aumentada del sistema original es:\n",
    "\n",
    "$\\begin{bmatrix}\n",
    " 1 & -1 &  1 & | & 1 \\\\\n",
    "-2 &  2 & -2 & | & 8\\\\\n",
    " 2 &  4 &  2 & | & 2\n",
    "\\end{bmatrix}$\n",
    "\n",
    "Para eliminar el primer elemento de la segunda fila, solo es necesario hacer:\n",
    "\n",
    "$f_2 = f_2 + (2).f_1$\n",
    "\n",
    "$\\begin{bmatrix}\n",
    "1 & -1 & 1 & | & 1 \\\\\n",
    "0 &  0 & 0 & | & 10\\\\\n",
    " 2 &  4 &  2 & | & 2\n",
    "\\end{bmatrix}$\n",
    "\n",
    "Se cumplió el objetivo de eliminar el primer elemento de la segunda fila, pero al revisar la segunda ecuación:\n",
    "\n",
    "$(0).x_1 + (0).x_2 + (0).x_3 = 10$\n",
    "\n",
    "$0=10$\n",
    "\n",
    "Una de las ecuaciones se convirtió en una inconsistencia matemática, es decir, **no hay soluciones**.\n",
    "\n",
    "\n"
   ]
  },
  {
   "cell_type": "code",
   "execution_count": 4,
   "id": "366133d5-6b88-469f-b7cf-621f1ce92deb",
   "metadata": {},
   "outputs": [
    {
     "name": "stderr",
     "output_type": "stream",
     "text": [
      "<ipython-input-2-ca6358b30d55>:21: RuntimeWarning: divide by zero encountered in true_divide\n",
      "  S[j, :] = S[j, :]/pivote  # Normalización con filas fj = (1/ajj)*fj\n",
      "<ipython-input-2-ca6358b30d55>:21: RuntimeWarning: invalid value encountered in true_divide\n",
      "  S[j, :] = S[j, :]/pivote  # Normalización con filas fj = (1/ajj)*fj\n"
     ]
    },
    {
     "data": {
      "text/plain": [
       "[nan, nan, nan]"
      ]
     },
     "execution_count": 4,
     "metadata": {},
     "output_type": "execute_result"
    }
   ],
   "source": [
    "A = [[ 1, -1,  1],\n",
    "     [-2,  2, -2], \n",
    "     [ 2,  4,  2]]\n",
    "\n",
    "B = [1, 2, 1]\n",
    "\n",
    "np_gauss_jordan(A, B)\n"
   ]
  },
  {
   "cell_type": "markdown",
   "id": "dbf4b595-4291-45b8-9106-618b0bedf7b1",
   "metadata": {},
   "source": [
    "*¿Cómo se previene que la función `np_gauss_jordan()` arroje soluciones erróneas en el caso de una matriz singular?*\n",
    "\n",
    "Identificando antes del cálculo que involucra el pivote, si la fila correspondiente de la matriz aumentada está llena de ceros, al menos en la parte de coeficientes constantes.\n",
    "\n",
    "*¿Qué significa que una columna se haga cero?*\n",
    "\n",
    "Se cuenta con más ecuaciones que incógnitas, pues una de las incógnitas no toma valores dentro de ninguna ecuación. O incluso, que hay una inconsistencia en el sistema.\n",
    "\n",
    "\n",
    "Es claro entonces que, el sistema se hace **singular** si alguna fila o columna de $\\underline{\\underline{A}}$ sea cero.\n"
   ]
  },
  {
   "cell_type": "markdown",
   "id": "2081df98-154b-40e9-a73c-0c0a0e232834",
   "metadata": {},
   "source": [
    "Ya vimos cómo se llega a tener una fila de ceros y que efectos tiene sobre la solución, ahora veamos qué ocurre cuando se llega a una columna de ceros."
   ]
  },
  {
   "cell_type": "markdown",
   "id": "8c9802a4-32e8-4a00-9a6f-190af2ecd687",
   "metadata": {},
   "source": [
    "Por ejemplo, el siguiente sistema 3x3:"
   ]
  },
  {
   "cell_type": "code",
   "execution_count": 5,
   "id": "c8c423c5-c2bf-4c7c-9a4f-b27306191334",
   "metadata": {},
   "outputs": [
    {
     "name": "stderr",
     "output_type": "stream",
     "text": [
      "<ipython-input-2-ca6358b30d55>:21: RuntimeWarning: divide by zero encountered in true_divide\n",
      "  S[j, :] = S[j, :]/pivote  # Normalización con filas fj = (1/ajj)*fj\n",
      "<ipython-input-2-ca6358b30d55>:21: RuntimeWarning: invalid value encountered in true_divide\n",
      "  S[j, :] = S[j, :]/pivote  # Normalización con filas fj = (1/ajj)*fj\n",
      "<ipython-input-2-ca6358b30d55>:24: RuntimeWarning: invalid value encountered in multiply\n",
      "  S[i, :] = S[i, :] - S[i, j]*S[j, :]  # Eliminación con fi = fi - (aij)*fj\n"
     ]
    },
    {
     "data": {
      "text/plain": [
       "[nan, nan, inf]"
      ]
     },
     "execution_count": 5,
     "metadata": {},
     "output_type": "execute_result"
    }
   ],
   "source": [
    "A = [[  1, -6,  0],\n",
    "     [ -4,  2,  0],\n",
    "     [  7,  2,  0]]\n",
    "\n",
    "B = [10, 8, 4]\n",
    "\n",
    "np_gauss_jordan(A, B)\n"
   ]
  },
  {
   "cell_type": "markdown",
   "id": "05b54bb3-4835-4e12-8ad7-b1f37055b5d8",
   "metadata": {},
   "source": [
    "Veamos el sistema de ecuaciones asociado:\n",
    "\n",
    "$\\left\\{\n",
    "\\begin{eqnarray}\n",
    "x_1 - 6x_2 = 10 \\\\\n",
    "-4x_1+2x_2 =8 \\\\\n",
    "7x_1 + 2x_2 =4\n",
    "\\end{eqnarray}\n",
    "\\right.$\n",
    "\n",
    "Si únicamente hay dos incógnitas y tres ecuaciones, es posible hallar $x_1$ y $x_2$ a partir de:\n",
    "\n",
    "$\\left\\{\n",
    "\\begin{eqnarray}\n",
    "x_1 - 6x_2 = 10 \\\\\n",
    "-4x_1+2x_2 =8 \\\\\n",
    "\\end{eqnarray}\n",
    "\\right.$ \n",
    " o \n",
    "$\\left\\{\n",
    "\\begin{eqnarray}\n",
    "x_1 - 6x_2 = 10 \\\\\n",
    "7x_1 + 2x_2 =4\n",
    "\\end{eqnarray}\n",
    "\\right.$\n",
    " o \n",
    "$\\left\\{\n",
    "\\begin{eqnarray}\n",
    "-4x_1+2x_2 =8 \\\\\n",
    "7x_1 + 2x_2 =4\n",
    "\\end{eqnarray}\n",
    "\\right.$\n",
    "\n",
    "Es decir, no hay una solución única."
   ]
  },
  {
   "cell_type": "markdown",
   "id": "a8c6b787-fa22-4d72-9011-b308334e3413",
   "metadata": {},
   "source": [
    "### **Solución caso 1: matriz singular**"
   ]
  },
  {
   "cell_type": "markdown",
   "id": "3a2fc223-820e-40ed-bde2-de380ef1760f",
   "metadata": {},
   "source": [
    "El reto es identificar si la fila (en la parque izquierda) o columna del pivote está llena de ceros en la matriz aumentada.\n"
   ]
  },
  {
   "cell_type": "markdown",
   "id": "33290705-c85b-44de-a7b9-ca4bc09427f1",
   "metadata": {},
   "source": [
    "Dada una matriz aumentada:\n",
    "    "
   ]
  },
  {
   "cell_type": "code",
   "execution_count": 9,
   "id": "36399af9-4232-4570-8be1-3a35a4ab0742",
   "metadata": {},
   "outputs": [],
   "source": [
    "S = np.array([[ 1, -1,  1,  1],\n",
    "              [ 0,  0,  0, 10], \n",
    "              [ 1,  4,  2,  2]])\n"
   ]
  },
  {
   "cell_type": "markdown",
   "id": "17d30ab2-76cc-4f09-8da1-88f72e7deb3d",
   "metadata": {},
   "source": [
    "Se construye una estrategia para identificar alguna de las dos condiciones suponiendo que el ciclo principal en términos de `j` va en `j=1`, así:"
   ]
  },
  {
   "cell_type": "code",
   "execution_count": 10,
   "id": "1ab42514-f49d-4b3f-bb36-2190902ba0e5",
   "metadata": {},
   "outputs": [],
   "source": [
    "m = len(S)  # Tamaño de matriz.\n",
    "\n",
    "# Exracción del ciclo principal.\n",
    "j = 1\n",
    "pivote = S[j, j]\n",
    "\n",
    "# Verificación fila.\n",
    "fila_j = S[j, :-1]\n",
    "ver_ceros_f = np.isclose(fila_j, 0)  # Verificación de ceros.\n",
    "sum_ceros_f = ver_ceros_f.sum()      # Cantidad de ceros.         \n",
    "\n",
    "# Verificación columna.\n",
    "columna_j = S[:, j]\n",
    "ver_ceros_c = np.isclose(columna_j, 0)  # Verificación de ceros.\n",
    "sum_ceros_c = ver_ceros_c.sum()         # Cantidad de ceros.   \n",
    "\n",
    "if sum_ceros_f == m or sum_ceros_c == m :\n",
    "    sol = 'Sistema singular.'\n"
   ]
  },
  {
   "cell_type": "code",
   "execution_count": 11,
   "id": "209f70b6-c7f1-4abb-ab3d-a3f31a8e27b7",
   "metadata": {},
   "outputs": [
    {
     "data": {
      "text/plain": [
       "array([0, 0, 0])"
      ]
     },
     "execution_count": 11,
     "metadata": {},
     "output_type": "execute_result"
    }
   ],
   "source": [
    "S[j, :-1]\n"
   ]
  },
  {
   "cell_type": "code",
   "execution_count": 12,
   "id": "cb608096-c872-4845-9de1-f7b7a87fc3a2",
   "metadata": {},
   "outputs": [
    {
     "data": {
      "text/plain": [
       "array([-1,  0,  4])"
      ]
     },
     "execution_count": 12,
     "metadata": {},
     "output_type": "execute_result"
    }
   ],
   "source": [
    "S[:, j]\n"
   ]
  },
  {
   "cell_type": "code",
   "execution_count": 13,
   "id": "2a7c0110-51b0-4ec9-bc64-a5ca151a5066",
   "metadata": {},
   "outputs": [
    {
     "data": {
      "text/plain": [
       "array([ True,  True,  True])"
      ]
     },
     "execution_count": 13,
     "metadata": {},
     "output_type": "execute_result"
    }
   ],
   "source": [
    "np.isclose(fila_j, 0)\n"
   ]
  },
  {
   "cell_type": "code",
   "execution_count": 14,
   "id": "4211584f-80c6-45d2-a1cf-17e3b1e9eeed",
   "metadata": {},
   "outputs": [
    {
     "data": {
      "text/plain": [
       "3"
      ]
     },
     "execution_count": 14,
     "metadata": {},
     "output_type": "execute_result"
    }
   ],
   "source": [
    "ver_ceros_f.sum()\n"
   ]
  },
  {
   "cell_type": "markdown",
   "id": "a40d215a-822e-4595-812c-37bf0b19fc92",
   "metadata": {},
   "source": [
    "Ver más sobre `np.close()` [aquí](https://numpy.org/doc/stable/reference/generated/numpy.isclose.html)"
   ]
  },
  {
   "cell_type": "markdown",
   "id": "556b627c-c0bd-4cdc-b7fb-d031c7a48e07",
   "metadata": {},
   "source": [
    "### **Caso 2: Ceros en la diagonal sin singularidad**\n",
    "\n",
    "Hay un caso en el que durante el proceso de eliminación mediante alguna de las dos técnicas vistas (Gauus o Gauss-Jordan) puede aparecer un cero en la diagonal principal, pero esto no implica que el sistema sea singular. Por eso, no es posible realizar esta operación:\n",
    "\n",
    "    for j in range(m):\n",
    "        pivote = S[j, j]          \n",
    "        S[j, :] = S[j, :]/pivote\n",
    "        "
   ]
  },
  {
   "cell_type": "markdown",
   "id": "13a92dc1-6946-4440-a649-0f1d042d55d7",
   "metadata": {},
   "source": [
    "Por ejemplo, dado este sistema de ecuaciones de 3x3:\n",
    "\n",
    "$\\left\\{\n",
    "\\begin{eqnarray}\n",
    "x_2 + x_3 = 0 \\\\\n",
    "x_1+2x_2 + x_3 = 0 \\\\\n",
    "2x_1 - x_2 + x_3 = 4\n",
    "\\end{eqnarray}\n",
    "\\right.$\n",
    "\n",
    "Si se resuelve con una técnica a mano, su solución es: $x_1=1$, $x_2=-1$ y $x_3=1$.\n",
    "\n"
   ]
  },
  {
   "cell_type": "markdown",
   "id": "7264dbf3-5e0c-4765-a16e-ccfa51ad419c",
   "metadata": {},
   "source": [
    "Luego, si se soluciona mediante la función `np_gauss_jordan()`, este fallará porque la matriz aumentada en el paso `j=0` tendrá un denominador 0."
   ]
  },
  {
   "cell_type": "code",
   "execution_count": 15,
   "id": "4ca9b644-83be-4d92-ab55-f0abbbbcc69d",
   "metadata": {},
   "outputs": [
    {
     "name": "stderr",
     "output_type": "stream",
     "text": [
      "<ipython-input-2-ca6358b30d55>:21: RuntimeWarning: divide by zero encountered in true_divide\n",
      "  S[j, :] = S[j, :]/pivote  # Normalización con filas fj = (1/ajj)*fj\n",
      "<ipython-input-2-ca6358b30d55>:21: RuntimeWarning: invalid value encountered in true_divide\n",
      "  S[j, :] = S[j, :]/pivote  # Normalización con filas fj = (1/ajj)*fj\n"
     ]
    },
    {
     "data": {
      "text/plain": [
       "[nan, nan, nan]"
      ]
     },
     "execution_count": 15,
     "metadata": {},
     "output_type": "execute_result"
    }
   ],
   "source": [
    "A = [[0,  1, 1],\n",
    "     [1,  2, 1],\n",
    "     [2, -1, 1]]\n",
    "\n",
    "B = [0, 0, 4]\n",
    "\n",
    "np_gauss_jordan(A, B)\n"
   ]
  },
  {
   "cell_type": "markdown",
   "id": "096037d4-54b6-49ac-97ed-2f50e4e9577d",
   "metadata": {},
   "source": [
    "Y si se cambian la primera y la segunda fila de posición tanto en $\\underline{\\underline{A}}$ como en $\\underline{B}$:"
   ]
  },
  {
   "cell_type": "code",
   "execution_count": 16,
   "id": "6a1ef26a-c782-4e74-b3ed-ace33ff2edce",
   "metadata": {},
   "outputs": [
    {
     "data": {
      "text/plain": [
       "[1.0, -1.0, 1.0]"
      ]
     },
     "execution_count": 16,
     "metadata": {},
     "output_type": "execute_result"
    }
   ],
   "source": [
    "A = [[1,  2, 1],\n",
    "     [0,  1, 1],\n",
    "     [2, -1, 1]]\n",
    "\n",
    "B = [0, 0, 4]\n",
    "\n",
    "np_gauss_jordan(A, B)\n"
   ]
  },
  {
   "cell_type": "markdown",
   "id": "aa0d6352-420e-4fff-b07e-3be346e3d13f",
   "metadata": {},
   "source": [
    "Nos da la solución $x_1=1$, $x_2=-1$ y $x_3=1$, es decir, la verdadera.\n"
   ]
  },
  {
   "cell_type": "markdown",
   "id": "110c37d7-6aae-4ecd-87b0-5b9163a0090a",
   "metadata": {},
   "source": [
    "### **Caso 3: Valores muy cercanos a cero en la diagonal**\n",
    "\n",
    "Resultaba muy problemático para casos en los que al realizar operaciones, el redondeo jugaba un papel muy importante, sin embargo, para el caso de Python se presentará en casos muy críticos, aún así se debe controlar.\n",
    "\n",
    "Veamos el caso de los siguientes cuatro sistemas de ecuaciones de 2x2, que por construcción se sabe que su respuesta exacta es: $x_1=\\frac{1}{3}$ y $x_2=\\frac{2}{3}$.\n",
    "\n",
    "A medida de que se agregan ceros al primer coeficiente de la primera ecuación y \n",
    "ceros a la constante, observemos qué ocurre:\n"
   ]
  },
  {
   "cell_type": "code",
   "execution_count": 17,
   "id": "bf9ca121-1c46-49a8-b646-5ec94ffb5c9d",
   "metadata": {},
   "outputs": [
    {
     "data": {
      "text/plain": [
       "[0.3333333358168602, 0.6666666666666666]"
      ]
     },
     "execution_count": 17,
     "metadata": {},
     "output_type": "execute_result"
    }
   ],
   "source": [
    "A1 = [[0.00000003, 3.0000],[1.0000, 1.0000]]\n",
    "B1 = [ 2.00000001, 1.0000] \n",
    "np_gauss_jordan(A1, B1)\n"
   ]
  },
  {
   "cell_type": "code",
   "execution_count": 18,
   "id": "f390b0a5-d583-457b-a10f-9e104cddbd74",
   "metadata": {
    "tags": []
   },
   "outputs": [
    {
     "data": {
      "text/plain": [
       "[0.3359375, 0.6666666666666667]"
      ]
     },
     "execution_count": 18,
     "metadata": {},
     "output_type": "execute_result"
    }
   ],
   "source": [
    "A2 = [[0.00000000000003, 3.0000],[1.0000, 1.0000]]\n",
    "B2 = [ 2.00000000000001, 1.0000] \n",
    "np_gauss_jordan(A2, B2)\n"
   ]
  },
  {
   "cell_type": "code",
   "execution_count": 19,
   "id": "5fc418ea-625a-438b-a9ed-d50424583e4c",
   "metadata": {
    "tags": []
   },
   "outputs": [
    {
     "data": {
      "text/plain": [
       "[0.0, 0.6666666666666667]"
      ]
     },
     "execution_count": 19,
     "metadata": {},
     "output_type": "execute_result"
    }
   ],
   "source": [
    "A3 = [[0.0000000000000000000000003, 3.0000],[1.0000, 1.0000]]\n",
    "B3 = [ 2.0000000000000000000000001, 1.0000] \n",
    "np_gauss_jordan(A3, B3)\n"
   ]
  },
  {
   "cell_type": "code",
   "execution_count": 20,
   "id": "851925c8-0c3f-45a3-b689-fd1bafb5a1f8",
   "metadata": {},
   "outputs": [
    {
     "data": {
      "text/plain": [
       "[-8589934592.0, 0.6666666666666667]"
      ]
     },
     "execution_count": 20,
     "metadata": {},
     "output_type": "execute_result"
    }
   ],
   "source": [
    "A4 = [[0.00000000000000000000000003, 3.0000],[1.0000, 1.0000]]\n",
    "B4 = [ 2.00000000000000000000000001, 1.0000] \n",
    "np_gauss_jordan(A4, B4)\n"
   ]
  },
  {
   "cell_type": "markdown",
   "id": "57bf9b28-a2af-4d13-956f-bf75871c455a",
   "metadata": {
    "tags": []
   },
   "source": [
    "Las soluciones teóricas son $x_1=\\frac{1}{3}$ y $x_2=\\frac{2}{3}$, pero nos dio esto:\n",
    "\n",
    "Sistema 1:\n",
    "`[0.3333333358168602, 0.6666666666666666]`\n",
    "\n",
    "Sistema 2:\n",
    "`[0.3359375000000000, 0.6666666666666667]`\n",
    "\n",
    "Sistema 3:\n",
    "`[0.0000000000000000, 0.6666666666666667]`\n",
    "\n",
    "Sistema 4:\n",
    "`[-8589934592.000000, 0.6666666666666667]`\n",
    "\n",
    "Lo cual se debe a que entre más parecido sea el primer pivote a cero, Python perderá capacidad de almacenamiento de cifras decimales, y así, como pasamos de una respuesta significativamente buena en el sistema 1, a una respuesta nula en el sistema 3 y una respuesta que busca asemejarse a `-inf` en el sistema 4."
   ]
  },
  {
   "cell_type": "markdown",
   "id": "b26a3d85-12d0-463d-a0f5-797601aad004",
   "metadata": {},
   "source": [
    "Busquemos alguna estrategia para evitar que el primer pivote sea cero, por ejemplo, en el sistema 4. Una opción es cambiar la posición de las filas tanto en $\\underline{\\underline{A}}$ como en $\\underline{B}$:\n"
   ]
  },
  {
   "cell_type": "code",
   "execution_count": 21,
   "id": "6eb282bf-5dc8-4ca3-a753-f90bff5c310e",
   "metadata": {
    "tags": []
   },
   "outputs": [
    {
     "data": {
      "text/plain": [
       "[0.33333333333333337, 0.6666666666666666]"
      ]
     },
     "execution_count": 21,
     "metadata": {},
     "output_type": "execute_result"
    }
   ],
   "source": [
    "A5 = [[1.0000, 1.0000],[0.00000000000000000000000003, 3.0000]]\n",
    "B5 = [ 1.0000,2.00000000000000000000000001]\n",
    "np_gauss_jordan(A5, B5)\n"
   ]
  },
  {
   "cell_type": "markdown",
   "id": "48f8e428-9edb-42b1-a575-4d9252624751",
   "metadata": {
    "tags": []
   },
   "source": [
    "Lo cual nos lleva a una respuesta muy buena, muy cercana a la exacta. Observemos que el primer pivote es `1.0000`, es decir, la división no genera ningún problema."
   ]
  },
  {
   "cell_type": "markdown",
   "id": "5ba629bf-b188-40de-b023-7425be1c61e9",
   "metadata": {},
   "source": [
    "### **Solución caso 2 y caso 3: pivoteo parcial**"
   ]
  },
  {
   "cell_type": "markdown",
   "id": "ad4b86e1-37f4-479b-afd5-d3dffea4b639",
   "metadata": {},
   "source": [
    "La técnica consiste en poner en la posición del **pivote** mediante operaciones entre filas el elemento mayor absoluto con respecto al resto de los demás elementos de la correspondiente fila.\n",
    "\n",
    "Por ejemplo, para una matriz ampliada de un sistema 4x4, después de ser reducida su primera columna, quedó:\n",
    "\n",
    "$\\begin{bmatrix}\n",
    "1 & -1 &  1 &  2 &| &  1\\\\\n",
    "0 &  1 & -2 & -1 &| &  2\\\\\n",
    "0 & -1 &  7 &  3 &| &  1\\\\\n",
    "0 &  9 & -5 &  2 &| & -1\\\\\n",
    "\\end{bmatrix}$\n",
    "\n",
    "Los máximos de cada fila son:\n",
    "\n",
    "**Fila 2**: $max_{f_2}=2$\n",
    "\n",
    "**Fila 3**: $max_{f_3}=7$\n",
    "\n",
    "**Fila 4**: $max_{f_4}=9$\n",
    "\n",
    "Luego, se revisa la división entre cada elemento de la columna 2 respecto al máximo de su fila correspondiente:\n",
    "\n",
    "$|\\frac{a_{22}}{max_{f_2}}| = |\\frac{1}{2}|=0.50$\n",
    "\n",
    "$|\\frac{a_{23}}{max_{f_3}}| = |\\frac{-1}{7}|=0.14$\n",
    "\n",
    "$|\\frac{a_{24}}{max_{f_4}}| = |\\frac{9}{9}|=1.00$\n",
    "\n",
    "Por lo tanto, es conveniente poner de pivote en la segunda fila, la cuarta fila, es decir, intercambiar de posiciones la fila 2 con la fila 4.\n",
    "\n",
    "$\\begin{bmatrix}\n",
    "1 & -1 &  1 &  2 &| &  1\\\\\n",
    "0 &  9 & -5 &  2 &| & -1\\\\\n",
    "0 & -1 &  7 &  3 &| &  1\\\\\n",
    "0 &  1 & -2 & -1 &| &  2\\\\\n",
    "\\end{bmatrix}$\n"
   ]
  },
  {
   "cell_type": "markdown",
   "id": "69bbde3d-8828-4254-925d-d9235e145330",
   "metadata": {},
   "source": [
    "Esto se puede poner dentro de una rutina en la que `j` indique el indice del elemento de diagonal de referencia."
   ]
  },
  {
   "cell_type": "markdown",
   "id": "892f43fb-6c1f-46d7-a9be-5c7e0ceba36d",
   "metadata": {},
   "source": [
    "En el caso anterior, se tiene que `j=1` y que la matriz es:"
   ]
  },
  {
   "cell_type": "code",
   "execution_count": 22,
   "id": "c98009b0-8a5c-4d59-85d9-ff1ada2513ed",
   "metadata": {},
   "outputs": [],
   "source": [
    "S = np.array([[1, -1,  1,  2,  1], \n",
    "              [0,  1, -2, -1,  2], \n",
    "              [0, -1,  7,  3,  1], \n",
    "              [0,  9, -5,  2, -1]])\n",
    "\n",
    "j = 1\n"
   ]
  },
  {
   "cell_type": "code",
   "execution_count": 23,
   "id": "80299b4f-e661-4630-b7ba-0669ead0823f",
   "metadata": {},
   "outputs": [],
   "source": [
    "### Pivoteo parcial ###\n",
    "R = S[j:, j:]  # Se extrae la matriz con primer elemento el pivote.\n",
    "max_fil = abs(R[:,:-1]).max(axis=1)  # Máximo de cada fila.\n",
    "col_j = abs(R[:, 0])                 # Elementos bajo el pivote.\n",
    "# Máxima relación. Se pone 1e-14 para evitar división entre cero.\n",
    "div = col_j/(max_fil + 1e-14)\n",
    "idx = np.where(div == max(div))[0][0] + j  # Ubicación del máximo.\n",
    "S1 = np.array([f[:] for f in S])           # Copia de S.\n",
    "S[j,  :] = S1[idx, :]  # Se ubica la nueva fila pivote.\n",
    "S[idx,:] = S1[  j, :]  # Se intercambia con la posición de la ant.\n"
   ]
  },
  {
   "cell_type": "code",
   "execution_count": 24,
   "id": "b2316d98-bab5-4884-8189-eda1e3ff7898",
   "metadata": {},
   "outputs": [
    {
     "data": {
      "text/plain": [
       "array([[ 1, -1,  1,  2,  1],\n",
       "       [ 0,  9, -5,  2, -1],\n",
       "       [ 0, -1,  7,  3,  1],\n",
       "       [ 0,  1, -2, -1,  2]])"
      ]
     },
     "execution_count": 24,
     "metadata": {},
     "output_type": "execute_result"
    }
   ],
   "source": [
    "S\n"
   ]
  },
  {
   "cell_type": "markdown",
   "id": "d18f1b15-4c4e-4cac-802b-952a4b1ef24e",
   "metadata": {},
   "source": [
    "#### **Función final: pivoteo parcial y detección de singularidad**"
   ]
  },
  {
   "cell_type": "code",
   "execution_count": 25,
   "id": "0f2dcda8-89d3-4b62-82ee-3e2e5866f731",
   "metadata": {},
   "outputs": [],
   "source": [
    "def np_gauss_jordan(A, B):\n",
    "    '''\n",
    "        Función que utiliza el módulo numpy para hallar la solución del sistema\n",
    "        AX=B, en donde:\n",
    "        A: coeficientes constantes, se ingresa como una lista de listas.\n",
    "        X: incógnitas, sol.\n",
    "        B: constantes, se ingresa como una lista.\n",
    "        La solución se obtiene con la técnica Gauss-Jordan.\n",
    "    '''\n",
    "    import numpy as np  # Esto es por si se olvida llamar antes.\n",
    "    A = np.array(A, dtype=float)\n",
    "    B = np.array([B], dtype=float).T\n",
    "    \n",
    "    S = np.append(A, B, axis=1)  # Se crea la matriz aumentada.\n",
    "    m = S.shape[0]               # Número de filas o de soluciones.\n",
    "    sol = 0\n",
    "    \n",
    "    for j in range(m):\n",
    "        ### Verificación sistema singular ###\n",
    "        # Verificación fila.\n",
    "        fila_j = S[j, :-1]\n",
    "        ver_ceros_f = np.isclose(fila_j, 0)  # Verificación de ceros.\n",
    "        sum_ceros_f = ver_ceros_f.sum()      # Cantidad de ceros.      \n",
    "        # Verificación columna.\n",
    "        columna_j = S[:, j]\n",
    "        ver_ceros_c = np.isclose(columna_j, 0)  # Verificación de ceros.\n",
    "        sum_ceros_c = ver_ceros_c.sum()         # Cantidad de ceros.   \n",
    "\n",
    "        if sum_ceros_f == m or sum_ceros_c == m :\n",
    "            sol = 'Sistema singular'\n",
    "            break\n",
    "        else:\n",
    "            ### Pivoteo parcial ###\n",
    "            R = S[j:, j:]  # Se extrae la matriz con primer elemento el pivote.\n",
    "            max_fil = abs(R[:,:-1]).max(axis=1)  # Máximo de cada fila.\n",
    "            col_j = abs(R[:, 0])                 # Elementos bajo el pivote.\n",
    "            # Máxima relación. Se pone 1e-14 para evitar división entre cero.\n",
    "            div = col_j/(max_fil + 1e-14)\n",
    "            idx = np.where(div == max(div))[0][0] + j  # Ubicación del máximo.\n",
    "            S1 = np.array([f[:] for f in S])           # Copia de S.\n",
    "            S[j,  :] = S1[idx, :]  # Se ubica la nueva fila pivote.\n",
    "            S[idx,:] = S1[  j, :]  # Se intercambia con la posición de la ant.\n",
    "\n",
    "            ### Pivote y normalización ###\n",
    "            pivote = S[j, j]          # Se define el pivote j, ajj.\n",
    "            S[j, :] = S[j, :]/pivote  # Normalización con filas fj = (1/ajj)*fj\n",
    "            for i in range(m):\n",
    "                if i != j:            # Se exluye la operación cuando i=j.\n",
    "                    S[i, :] = S[i, :] - S[i, j]*S[j, :]  # Eliminación con fi = fi - (aij)*fj\n",
    "\n",
    "    if sol != 'Sistema singular':\n",
    "        sol = list(S[:, -1])  # Se extrae la solución de la última columna de S.\n",
    "        \n",
    "    return sol\n"
   ]
  },
  {
   "cell_type": "markdown",
   "id": "3729d748-3873-4108-8e36-72a402f7fff7",
   "metadata": {},
   "source": [
    "Ver: [08-gauss_jordan_pivote_parcial.py](https://github.com/jnramirezg/metodos_numericos_ingenieria_civil/blob/main/codigo/08-gauss_jordan_pivote_parcial.py)"
   ]
  },
  {
   "cell_type": "markdown",
   "id": "c8771433-ad91-459e-82f0-d9ec23b8f9d1",
   "metadata": {},
   "source": [
    "#### **Ejemplos de funcionamiento**"
   ]
  },
  {
   "cell_type": "code",
   "execution_count": 26,
   "id": "49a492d4-0275-4d3c-bc29-65549b059e4d",
   "metadata": {},
   "outputs": [
    {
     "data": {
      "text/plain": [
       "'Sistema singular'"
      ]
     },
     "execution_count": 26,
     "metadata": {},
     "output_type": "execute_result"
    }
   ],
   "source": [
    "A1 = [[ 2,  -1],\n",
    "      [-1, 0.5]]\n",
    "\n",
    "B1 = [4, 1]\n",
    "\n",
    "np_gauss_jordan(A1, B1)\n"
   ]
  },
  {
   "cell_type": "code",
   "execution_count": 27,
   "id": "783fed9b-b542-4e7c-98d1-c14feeb9239c",
   "metadata": {},
   "outputs": [
    {
     "data": {
      "text/plain": [
       "[-4.0, 3.0, -5.0, 1.0]"
      ]
     },
     "execution_count": 27,
     "metadata": {},
     "output_type": "execute_result"
    }
   ],
   "source": [
    "# Ejemplo de pivoteo parcial 2:\n",
    "A2 = [[ 0, -2,  0,  3],\n",
    "      [ 0,  1,  0, -2],\n",
    "      [ 1,  0, -1,  0],\n",
    "      [ 0,  4,  2,  0]]\n",
    "\n",
    "B2 = [-3, 1, 1, 2]\n",
    "\n",
    "np_gauss_jordan(A2, B2)\n"
   ]
  },
  {
   "cell_type": "markdown",
   "id": "ee8387e4-8f5b-405c-ac98-ea841107c3ce",
   "metadata": {},
   "source": [
    "**Resumen de nuevos comandos usados**\n",
    "\n",
    "- `np.isclose()`\n",
    "- `A.sum()`\n",
    "- `np.where()`\n",
    "- `abs()`\n",
    "- `A.max(axis=1)`"
   ]
  }
 ],
 "metadata": {
  "kernelspec": {
   "display_name": "Python 3",
   "language": "python",
   "name": "python3"
  },
  "language_info": {
   "codemirror_mode": {
    "name": "ipython",
    "version": 3
   },
   "file_extension": ".py",
   "mimetype": "text/x-python",
   "name": "python",
   "nbconvert_exporter": "python",
   "pygments_lexer": "ipython3",
   "version": "3.8.8"
  }
 },
 "nbformat": 4,
 "nbformat_minor": 5
}
