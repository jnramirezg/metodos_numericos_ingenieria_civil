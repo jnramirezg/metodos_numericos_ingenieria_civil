{
 "cells": [
  {
   "cell_type": "markdown",
   "id": "2091ecea",
   "metadata": {},
   "source": [
    "# **4101553 Métodos Numéricos aplicados a la Ingenieria Civil**\n",
    "\n",
    "Departamento de Ingeniería Civil\n",
    "\n",
    "Universidad Nacional de Colombia\n",
    "\n",
    "Sede Manizales\n",
    "\n",
    "**Docente:** Juan Nicolás Ramírez Giraldo ([jnramirezg@unal.edu.co](mailto:jnramirezg@unal.edu.co))\n",
    "\n",
    "\n",
    "\"*Cum cogitaveris quot te antecedant, respice quot sequantur*\"\n",
    "\n",
    "**Séneca**\n",
    "\n",
    "\n",
    "[Repositorio de la asignatura](https://github.com/jnramirezg/metodos_numericos_ingenieria_civil/)\n"
   ]
  },
  {
   "cell_type": "markdown",
   "id": "baf78d8a",
   "metadata": {},
   "source": [
    "# **Unidad 1: Sistemas de ecuaciones lineales**\n",
    "## **Métodos Iterativos**\n",
    "1. Método de Jacobi\n",
    "2. Método de Gauss-Seidel"
   ]
  },
  {
   "cell_type": "markdown",
   "id": "ec0970a6",
   "metadata": {},
   "source": [
    "### **Método de Jacobi**"
   ]
  },
  {
   "cell_type": "markdown",
   "id": "43b284be",
   "metadata": {},
   "source": [
    "#### **Construcción del método**"
   ]
  },
  {
   "cell_type": "markdown",
   "id": "52a0c874",
   "metadata": {},
   "source": [
    "Para la construcción del método se usa inicialmente un sistema de 3x3 simbólico:\n",
    "\n",
    "Dado la matriz de coeficientes constantes:\n",
    "$\\underline{\\underline{A}}=\\displaystyle \\left[\\begin{matrix}i_{0} & i_{1} & i_{2}\\\\j_{0} & j_{1} & j_{2}\\\\k_{0} & k_{1} & k_{2}\\end{matrix}\\right]$\n",
    "\n",
    "Y el vector de constantes:\n",
    "$\\underline{B}=\\displaystyle \\left[\\begin{matrix}b_0\\\\b_1\\\\b_2\\end{matrix}\\right]$\n",
    "\n",
    "Se busca hallar el vector de soluciones $\\underline{X}$ de la expresión: $\\underline{\\underline{A}}.\\underline{X}=\\underline{B}$\n",
    "\n",
    "En este caso, se define para efectos de programación en Python:\n",
    "$\\underline{X}=\\displaystyle \\left[\\begin{matrix}x_0\\\\x_1\\\\x_2\\end{matrix}\\right]$\n",
    "\n"
   ]
  },
  {
   "cell_type": "markdown",
   "id": "267e3f73",
   "metadata": {},
   "source": [
    "La propuesta del método de Jacobi busca despejar de cada ecuación una de las incógnitas, de tal manera que, se puedan evaluar iterativamente las demás. Más adelante se discutirán los cuidados numéricos que se deben considerar para garantizar la convergencia.\n"
   ]
  },
  {
   "cell_type": "code",
   "execution_count": 6,
   "id": "f5b2c1cd",
   "metadata": {
    "scrolled": true
   },
   "outputs": [],
   "source": [
    "# Importación de liberías.\n",
    "import sympy as sp\n",
    "\n",
    "# Incógnitas simbólicas.\n",
    "x0, x1, x2 = sp.symbols('x_0 x_1 x_2')\n",
    "\n",
    "# Constantes simbólicas.\n",
    "b0, b1, b2 = sp.symbols('b_0 b_1 b_2')\n",
    "\n",
    "# Coeficientes constantes simbólicos.\n",
    "i0, i1, i2 = sp.symbols('i_0 i_1 i_2')  # Se asocian a la primera ec.\n",
    "j0, j1, j2 = sp.symbols('j_0 j_1 j_2')  # Se asocian a la segunda ec.\n",
    "k0, k1, k2 = sp.symbols('k_0 k_1 k_2')  # Se asocian a la tercera ec.\n"
   ]
  },
  {
   "cell_type": "code",
   "execution_count": 7,
   "id": "e67e4292",
   "metadata": {},
   "outputs": [],
   "source": [
    "# Definición de la matriz de coeficientes constantes.\n",
    "A = sp.Matrix([\n",
    "                [i0, i1, i2],\n",
    "                [j0, j1, j2],\n",
    "                [k0, k1, k2],\n",
    "                            ])\n"
   ]
  },
  {
   "cell_type": "code",
   "execution_count": 8,
   "id": "69032e5f",
   "metadata": {},
   "outputs": [
    {
     "data": {
      "text/latex": [
       "$\\displaystyle \\left[\\begin{matrix}i_{0} & i_{1} & i_{2}\\\\j_{0} & j_{1} & j_{2}\\\\k_{0} & k_{1} & k_{2}\\end{matrix}\\right]$"
      ],
      "text/plain": [
       "Matrix([\n",
       "[i_0, i_1, i_2],\n",
       "[j_0, j_1, j_2],\n",
       "[k_0, k_1, k_2]])"
      ]
     },
     "execution_count": 8,
     "metadata": {},
     "output_type": "execute_result"
    }
   ],
   "source": [
    "A\n"
   ]
  },
  {
   "cell_type": "code",
   "execution_count": 9,
   "id": "fc52e7ef",
   "metadata": {},
   "outputs": [],
   "source": [
    "X = sp.Matrix([x0, x1, x2])\n"
   ]
  },
  {
   "cell_type": "code",
   "execution_count": 10,
   "id": "69f292aa",
   "metadata": {},
   "outputs": [
    {
     "data": {
      "text/latex": [
       "$\\displaystyle \\left[\\begin{matrix}x_{0}\\\\x_{1}\\\\x_{2}\\end{matrix}\\right]$"
      ],
      "text/plain": [
       "Matrix([\n",
       "[x_0],\n",
       "[x_1],\n",
       "[x_2]])"
      ]
     },
     "execution_count": 10,
     "metadata": {},
     "output_type": "execute_result"
    }
   ],
   "source": [
    "X\n"
   ]
  },
  {
   "cell_type": "code",
   "execution_count": 11,
   "id": "dc616e0a",
   "metadata": {},
   "outputs": [],
   "source": [
    "B = sp.Matrix([b0, b1, b2])\n"
   ]
  },
  {
   "cell_type": "code",
   "execution_count": 12,
   "id": "508f2a19",
   "metadata": {},
   "outputs": [
    {
     "data": {
      "text/latex": [
       "$\\displaystyle \\left[\\begin{matrix}b_{0}\\\\b_{1}\\\\b_{2}\\end{matrix}\\right]$"
      ],
      "text/plain": [
       "Matrix([\n",
       "[b_0],\n",
       "[b_1],\n",
       "[b_2]])"
      ]
     },
     "execution_count": 12,
     "metadata": {},
     "output_type": "execute_result"
    }
   ],
   "source": [
    "B"
   ]
  },
  {
   "cell_type": "code",
   "execution_count": 13,
   "id": "1de72ac7",
   "metadata": {},
   "outputs": [],
   "source": [
    "P = A*X - B  # Esto es igual a 0.\n"
   ]
  },
  {
   "cell_type": "code",
   "execution_count": 14,
   "id": "b2746dca",
   "metadata": {
    "scrolled": true
   },
   "outputs": [
    {
     "data": {
      "text/latex": [
       "$\\displaystyle \\left[\\begin{matrix}- b_{0} + i_{0} x_{0} + i_{1} x_{1} + i_{2} x_{2}\\\\- b_{1} + j_{0} x_{0} + j_{1} x_{1} + j_{2} x_{2}\\\\- b_{2} + k_{0} x_{0} + k_{1} x_{1} + k_{2} x_{2}\\end{matrix}\\right]$"
      ],
      "text/plain": [
       "Matrix([\n",
       "[-b_0 + i_0*x_0 + i_1*x_1 + i_2*x_2],\n",
       "[-b_1 + j_0*x_0 + j_1*x_1 + j_2*x_2],\n",
       "[-b_2 + k_0*x_0 + k_1*x_1 + k_2*x_2]])"
      ]
     },
     "execution_count": 14,
     "metadata": {},
     "output_type": "execute_result"
    }
   ],
   "source": [
    "P\n"
   ]
  },
  {
   "cell_type": "markdown",
   "id": "0c2fe31e",
   "metadata": {},
   "source": [
    "Por lo que, el sistema queda de la siguiente manera:\n",
    "\n",
    "$\\displaystyle \\left[\\begin{matrix}- b_{0} + i_{0} x_{0} + i_{1} x_{1} + i_{2} x_{2}\\\\- b_{1} + j_{0} x_{0} + j_{1} x_{1} + j_{2} x_{2}\\\\- b_{2} + k_{0} x_{0} + k_{1} x_{1} + k_{2} x_{2}\\end{matrix}\\right] = \\displaystyle \\left[\\begin{matrix}0\\\\0\\\\0\\end{matrix}\\right]$\n",
    "\n",
    "Se despeja $x_0$, $x_1$ y $x_2$ de la primera, segunda y tercera ecuación, respectivamente. "
   ]
  },
  {
   "cell_type": "code",
   "execution_count": 15,
   "id": "94efc882",
   "metadata": {},
   "outputs": [],
   "source": [
    "# Este código por el momento NO es necesario estudiarlo.\n",
    "e0 = sp.solve(P[0],x0)[0]\n",
    "e1 = sp.solve(P[1],x1)[0]\n",
    "e2 = sp.solve(P[2],x2)[0]"
   ]
  },
  {
   "cell_type": "code",
   "execution_count": 16,
   "id": "5154eca2",
   "metadata": {},
   "outputs": [
    {
     "data": {
      "text/latex": [
       "$\\displaystyle \\frac{b_{0} - i_{1} x_{1} - i_{2} x_{2}}{i_{0}}$"
      ],
      "text/plain": [
       "(b_0 - i_1*x_1 - i_2*x_2)/i_0"
      ]
     },
     "execution_count": 16,
     "metadata": {},
     "output_type": "execute_result"
    }
   ],
   "source": [
    "# De la ecuación 1, se despeja x0\n",
    "e0\n"
   ]
  },
  {
   "cell_type": "code",
   "execution_count": 17,
   "id": "2f29554e",
   "metadata": {},
   "outputs": [
    {
     "data": {
      "text/latex": [
       "$\\displaystyle \\frac{b_{1} - j_{0} x_{0} - j_{2} x_{2}}{j_{1}}$"
      ],
      "text/plain": [
       "(b_1 - j_0*x_0 - j_2*x_2)/j_1"
      ]
     },
     "execution_count": 17,
     "metadata": {},
     "output_type": "execute_result"
    }
   ],
   "source": [
    "# De la ecuación 2, se despeja x1\n",
    "e1\n"
   ]
  },
  {
   "cell_type": "code",
   "execution_count": 18,
   "id": "2ad504a9",
   "metadata": {},
   "outputs": [
    {
     "data": {
      "text/latex": [
       "$\\displaystyle \\frac{b_{2} - k_{0} x_{0} - k_{1} x_{1}}{k_{2}}$"
      ],
      "text/plain": [
       "(b_2 - k_0*x_0 - k_1*x_1)/k_2"
      ]
     },
     "execution_count": 18,
     "metadata": {},
     "output_type": "execute_result"
    }
   ],
   "source": [
    "# De la ecuación 3, se despeja x2\n",
    "e2\n"
   ]
  },
  {
   "cell_type": "markdown",
   "id": "cdc3df96",
   "metadata": {},
   "source": [
    "Es decir,\n",
    "\n",
    "$x_0 =\\displaystyle \\frac{b_{0} - i_{1} x_{1} - i_{2} x_{2}}{i_{0}}$\n",
    "\n",
    "$x_1 =\\displaystyle \\frac{b_{1} - j_{0} x_{0} - j_{2} x_{2}}{j_{1}}$\n",
    "\n",
    "$x_2 =\\displaystyle \\frac{b_{2} - k_{0} x_{0} - k_{1} x_{1}}{k_{2}}$\n",
    "\n",
    "Luego, se asume para la iteración 0 que:\n",
    "\n",
    "$\\displaystyle \\left[\\begin{matrix}x_{0}^{(m)}\\\\x_{1}^{(m)}\\\\x_{2}^{(m)}\\end{matrix}\\right]$ = $\\displaystyle \\left[\\begin{matrix}0\\\\0\\\\0\\end{matrix}\\right]$\n",
    "\n"
   ]
  },
  {
   "cell_type": "markdown",
   "id": "993aaf23",
   "metadata": {},
   "source": [
    "Con las ecuaciones organizadas así:\n",
    "\n",
    "$\\displaystyle \\left[\\begin{matrix}x_{0}^{(m+1)}\\\\x_{1}^{(m+1)}\\\\x_{2}^{(m+1)}\\end{matrix}\\right]$ = \n",
    "$\\displaystyle \\left[\\begin{matrix}\\frac{b_{0} - i_{1} x_{1}^{(m)} - i_{2} x_{2}^{(m)}}{i_{0}}\\\\\\frac{b_{1} - j_{0} x_{0}^{(m)} - j_{2} x_{2}^{(m)}}{j_{1}}\\\\\\frac{b_{2} - k_{0} x_{0}^{(m)} - k_{1} x_{1}^{(m)}}{k_{2}}\\end{matrix}\\right]$\n"
   ]
  },
  {
   "cell_type": "markdown",
   "id": "75ead2dd",
   "metadata": {},
   "source": [
    "Se obtienen después de la primera iteración que $x_{0}$, $x_{1}$ y $x_{2}$ toman nuevos valores, es decir, los valores que se usarán en la iteración 1. Así, sucesivamente ¿hasta qué iteración?\n",
    "\n",
    "Es allí, donde se definen unos criterios de error, los cuales se mostrarán más adelante."
   ]
  },
  {
   "cell_type": "markdown",
   "id": "4ab45d0d",
   "metadata": {},
   "source": [
    "**Sistematización del método**\n",
    "\n",
    "Resulta altamente costoso realizar despejes particulares para cada sistema de ecuaciones, por lo que, se busca una estructura matricial simple que llegue a la forma general:\n",
    "\n",
    "$\\displaystyle \\left[\\begin{matrix}x_{0}^{(m+1)}\\\\x_{1}^{(m+1)}\\\\x_{2}^{(m+1)}\\end{matrix}\\right]$ = \n",
    "$\\displaystyle \\left[\\begin{matrix}\\frac{b_{0} - i_{1} x_{1}^{(m)} - i_{2} x_{2}^{(m)}}{i_{0}}\\\\\\frac{b_{1} - j_{0} x_{0}^{(m)} - j_{2} x_{2}^{(m)}}{j_{1}}\\\\\\frac{b_{2} - k_{0} x_{0}^{(m)} - k_{1} x_{1}^{(m)}}{k_{2}}\\end{matrix}\\right]$"
   ]
  },
  {
   "cell_type": "code",
   "execution_count": 19,
   "id": "987d828b",
   "metadata": {},
   "outputs": [],
   "source": [
    "# Se construye un vector con los resultados a los que queremos llegar.\n",
    "ec = sp.Matrix([e0, e1, e2])\n",
    "ec1 = sp.Matrix([e0, e1, e2]) # Se crea una copia\n"
   ]
  },
  {
   "cell_type": "code",
   "execution_count": 20,
   "id": "f6d5f8fa",
   "metadata": {
    "scrolled": true
   },
   "outputs": [
    {
     "data": {
      "text/latex": [
       "$\\displaystyle \\left[\\begin{matrix}\\frac{b_{0} - i_{1} x_{1} - i_{2} x_{2}}{i_{0}}\\\\\\frac{b_{1} - j_{0} x_{0} - j_{2} x_{2}}{j_{1}}\\\\\\frac{b_{2} - k_{0} x_{0} - k_{1} x_{1}}{k_{2}}\\end{matrix}\\right]$"
      ],
      "text/plain": [
       "Matrix([\n",
       "[(b_0 - i_1*x_1 - i_2*x_2)/i_0],\n",
       "[(b_1 - j_0*x_0 - j_2*x_2)/j_1],\n",
       "[(b_2 - k_0*x_0 - k_1*x_1)/k_2]])"
      ]
     },
     "execution_count": 20,
     "metadata": {},
     "output_type": "execute_result"
    }
   ],
   "source": [
    "# Se comprueba que efectivamente corresponda\n",
    "# a parte de derecha de la igualdad\n",
    "ec\n"
   ]
  },
  {
   "cell_type": "markdown",
   "id": "c1f778fd",
   "metadata": {},
   "source": [
    "¿Cómo se organiza?\n",
    "\n",
    "$\\displaystyle \\left[\\begin{matrix}\\frac{b_{0} - i_{1} x_{1} - i_{2} x_{2}}{i_{0}}\\\\\\frac{b_{1} - j_{0} x_{0} - j_{2} x_{2}}{j_{1}}\\\\\\frac{b_{2} - k_{0} x_{0} - k_{1} x_{1}}{k_{2}}\\end{matrix}\\right]$  ec(0)"
   ]
  },
  {
   "cell_type": "markdown",
   "id": "553cf77d",
   "metadata": {},
   "source": [
    "En este paso, se multiplica la fila 0 por $i_0$, la fila 1 por $j_1$ y la fila 2 por $k_2$. Luego, estas cada fila deberá multiplicarse por $1/i_0$, $1/j_1$ y $1/k_2$, correpondientemente, con el fin de conservar las ecuaciones originales."
   ]
  },
  {
   "cell_type": "code",
   "execution_count": 21,
   "id": "85e56826",
   "metadata": {},
   "outputs": [],
   "source": [
    "ec1[0] = ec1[0]*(i0)\n",
    "ec1[1] = ec1[1]*(j1)\n",
    "ec1[2] = ec1[2]*(k2)"
   ]
  },
  {
   "cell_type": "code",
   "execution_count": 22,
   "id": "4f50d668",
   "metadata": {},
   "outputs": [
    {
     "data": {
      "text/latex": [
       "$\\displaystyle \\left[\\begin{matrix}b_{0} - i_{1} x_{1} - i_{2} x_{2}\\\\b_{1} - j_{0} x_{0} - j_{2} x_{2}\\\\b_{2} - k_{0} x_{0} - k_{1} x_{1}\\end{matrix}\\right]$"
      ],
      "text/plain": [
       "Matrix([\n",
       "[b_0 - i_1*x_1 - i_2*x_2],\n",
       "[b_1 - j_0*x_0 - j_2*x_2],\n",
       "[b_2 - k_0*x_0 - k_1*x_1]])"
      ]
     },
     "execution_count": 22,
     "metadata": {},
     "output_type": "execute_result"
    }
   ],
   "source": [
    "ec1 # Ecuación 1\n"
   ]
  },
  {
   "cell_type": "markdown",
   "id": "ea6371a3",
   "metadata": {},
   "source": [
    "Recordando que:\n",
    "\n",
    "La matriz de coeficientes constantes está definida por:\n",
    "$\\underline{\\underline{A}}=\\displaystyle \\left[\\begin{matrix}i_{0} & i_{1} & i_{2}\\\\j_{0} & j_{1} & j_{2}\\\\k_{0} & k_{1} & k_{2}\\end{matrix}\\right]$\n",
    "\n",
    "El vector de constantes por:\n",
    "$\\underline{B}=\\displaystyle \\left[\\begin{matrix}b_0\\\\b_1\\\\b_2\\end{matrix}\\right]$\n",
    "\n",
    "Y el vector de incógnitas por:\n",
    "$\\underline{X}=\\displaystyle \\left[\\begin{matrix}x_0\\\\x_1\\\\x_2\\end{matrix}\\right]$\n",
    "\n",
    "¿Qué pasa si se realiza esta operación?\n",
    "\n",
    "$\\underline{B} - \\underline{\\underline{A}}.\\underline{X}$"
   ]
  },
  {
   "cell_type": "code",
   "execution_count": 23,
   "id": "ddb890fb",
   "metadata": {
    "scrolled": true
   },
   "outputs": [],
   "source": [
    "ec2 = B - A*X  # Ecuación 2\n"
   ]
  },
  {
   "cell_type": "markdown",
   "id": "b48c48b3",
   "metadata": {},
   "source": [
    "¿Qué similitudes tienen la ecuación 1 y $\\underline{B} - \\underline{\\underline{A}}.\\underline{X}$?\n",
    "\n",
    "$\\displaystyle \\left[\\begin{matrix}b_{0} - i_{1} x_{1} - i_{2} x_{2}\\\\b_{1} - j_{0} x_{0} - j_{2} x_{2}\\\\b_{2} - k_{0} x_{0} - k_{1} x_{1}\\end{matrix}\\right]$ ec(1)\n",
    "\n",
    "$\\displaystyle \\left[\\begin{matrix}b_{0} - i_{0} x_{0} - i_{1} x_{1} - i_{2} x_{2}\\\\b_{1} - j_{0} x_{0} - j_{1} x_{1} - j_{2} x_{2}\\\\b_{2} - k_{0} x_{0} - k_{1} x_{1} - k_{2} x_{2}\\end{matrix}\\right]$ ec(2)\n"
   ]
  },
  {
   "cell_type": "code",
   "execution_count": 24,
   "id": "957a996e",
   "metadata": {},
   "outputs": [
    {
     "data": {
      "text/latex": [
       "$\\displaystyle \\left[\\begin{matrix}- i_{0} x_{0}\\\\- j_{1} x_{1}\\\\- k_{2} x_{2}\\end{matrix}\\right]$"
      ],
      "text/plain": [
       "Matrix([\n",
       "[-i_0*x_0],\n",
       "[-j_1*x_1],\n",
       "[-k_2*x_2]])"
      ]
     },
     "execution_count": 24,
     "metadata": {},
     "output_type": "execute_result"
    }
   ],
   "source": [
    "ec2-ec1\n"
   ]
  },
  {
   "cell_type": "markdown",
   "id": "98458f5f",
   "metadata": {},
   "source": [
    "¿Qué elementos no son comunes?\n",
    "\n",
    "$\\displaystyle \\left[\\begin{matrix}\n",
    "b_{0} - \\underline{i_{0} x_{0}} - i_{1} x_{1} - i_{2} x_{2}\\\\\n",
    "b_{1} - j_{0} x_{0} - \\underline{j_{1} x_{1}} - j_{2} x_{2}\\\\\n",
    "b_{2} - k_{0} x_{0} - k_{1} x_{1} - \\underline{k_{2} x_{2}}\n",
    "\\end{matrix}\\right]$\n",
    "\n",
    "Claramente, corresponden a los elementos de la diagonal de la matriz de coeficientes constantes."
   ]
  },
  {
   "cell_type": "code",
   "execution_count": 25,
   "id": "9f6cc596",
   "metadata": {},
   "outputs": [],
   "source": [
    "# Se crea una matriz T con los mismos coeficientes constantes,\n",
    "# pero sin la diagonal.\n",
    "T = sp.Matrix([\n",
    "               [ 0, i1, i2],\n",
    "               [j0,  0, j2],\n",
    "               [k0, k1,  0],\n",
    "                           ])\n"
   ]
  },
  {
   "cell_type": "code",
   "execution_count": 26,
   "id": "eb3271ec",
   "metadata": {},
   "outputs": [
    {
     "data": {
      "text/latex": [
       "$\\displaystyle \\left[\\begin{matrix}0 & i_{1} & i_{2}\\\\j_{0} & 0 & j_{2}\\\\k_{0} & k_{1} & 0\\end{matrix}\\right]$"
      ],
      "text/plain": [
       "Matrix([\n",
       "[  0, i_1, i_2],\n",
       "[j_0,   0, j_2],\n",
       "[k_0, k_1,   0]])"
      ]
     },
     "execution_count": 26,
     "metadata": {},
     "output_type": "execute_result"
    }
   ],
   "source": [
    "T\n"
   ]
  },
  {
   "cell_type": "markdown",
   "id": "4aaf6189",
   "metadata": {},
   "source": [
    "Ahora, en vez de usar:\n",
    "\n",
    "$\\underline{B} - \\underline{\\underline{A}}.\\underline{X}$  ec(2)\n",
    "\n",
    "Se usa:\n",
    "$\\underline{B} - \\underline{\\underline{T}}.\\underline{X}$  ec(3)"
   ]
  },
  {
   "cell_type": "code",
   "execution_count": 27,
   "id": "6129e69f",
   "metadata": {
    "scrolled": true
   },
   "outputs": [],
   "source": [
    "ec3 = B - T*X\n"
   ]
  },
  {
   "cell_type": "code",
   "execution_count": 28,
   "id": "97987f25",
   "metadata": {
    "scrolled": true
   },
   "outputs": [
    {
     "data": {
      "text/latex": [
       "$\\displaystyle \\left[\\begin{matrix}b_{0} - i_{1} x_{1} - i_{2} x_{2}\\\\b_{1} - j_{0} x_{0} - j_{2} x_{2}\\\\b_{2} - k_{0} x_{0} - k_{1} x_{1}\\end{matrix}\\right]$"
      ],
      "text/plain": [
       "Matrix([\n",
       "[b_0 - i_1*x_1 - i_2*x_2],\n",
       "[b_1 - j_0*x_0 - j_2*x_2],\n",
       "[b_2 - k_0*x_0 - k_1*x_1]])"
      ]
     },
     "execution_count": 28,
     "metadata": {},
     "output_type": "execute_result"
    }
   ],
   "source": [
    "ec3\n"
   ]
  },
  {
   "cell_type": "code",
   "execution_count": 29,
   "id": "96c843cd",
   "metadata": {},
   "outputs": [
    {
     "data": {
      "text/latex": [
       "$\\displaystyle \\left[\\begin{matrix}0\\\\0\\\\0\\end{matrix}\\right]$"
      ],
      "text/plain": [
       "Matrix([\n",
       "[0],\n",
       "[0],\n",
       "[0]])"
      ]
     },
     "execution_count": 29,
     "metadata": {},
     "output_type": "execute_result"
    }
   ],
   "source": [
    "# Se verifica que ec3=ec1\n",
    "ec3-ec1\n"
   ]
  },
  {
   "cell_type": "code",
   "execution_count": 30,
   "id": "4d4d3abc",
   "metadata": {
    "scrolled": true
   },
   "outputs": [
    {
     "data": {
      "text/latex": [
       "$\\displaystyle \\left[\\begin{matrix}b_{0} - i_{1} x_{1} - i_{2} x_{2}\\\\b_{1} - j_{0} x_{0} - j_{2} x_{2}\\\\b_{2} - k_{0} x_{0} - k_{1} x_{1}\\end{matrix}\\right]$"
      ],
      "text/plain": [
       "Matrix([\n",
       "[b_0 - i_1*x_1 - i_2*x_2],\n",
       "[b_1 - j_0*x_0 - j_2*x_2],\n",
       "[b_2 - k_0*x_0 - k_1*x_1]])"
      ]
     },
     "execution_count": 30,
     "metadata": {},
     "output_type": "execute_result"
    }
   ],
   "source": [
    "ec1\n"
   ]
  },
  {
   "cell_type": "markdown",
   "id": "d988cf67",
   "metadata": {},
   "source": [
    "Ahora sí son iguales. Solo falta multiplicar cada fila por $1/i_0$, $1/j_1$ y $1/k_2$, correpondientemente, para llegar a la ec(0).\n",
    "\n",
    "¿Cómo se hace esto a partir de una operación matricial simple?"
   ]
  },
  {
   "cell_type": "code",
   "execution_count": 31,
   "id": "d730324d",
   "metadata": {},
   "outputs": [],
   "source": [
    "# Se crea una matriz D con la diagonal de A.\n",
    "D = sp.Matrix([\n",
    "               [i0,  0,  0],\n",
    "               [ 0, j1,  0],\n",
    "               [ 0,  0, k2],\n",
    "                           ])\n"
   ]
  },
  {
   "cell_type": "code",
   "execution_count": 32,
   "id": "98a7711b",
   "metadata": {},
   "outputs": [
    {
     "data": {
      "text/latex": [
       "$\\displaystyle \\left[\\begin{matrix}i_{0} & 0 & 0\\\\0 & j_{1} & 0\\\\0 & 0 & k_{2}\\end{matrix}\\right]$"
      ],
      "text/plain": [
       "Matrix([\n",
       "[i_0,   0,   0],\n",
       "[  0, j_1,   0],\n",
       "[  0,   0, k_2]])"
      ]
     },
     "execution_count": 32,
     "metadata": {},
     "output_type": "execute_result"
    }
   ],
   "source": [
    "D\n"
   ]
  },
  {
   "cell_type": "markdown",
   "id": "c01663ed",
   "metadata": {},
   "source": [
    "Nótese que $\\underline{\\underline{A}}=\\underline{\\underline{D}}+\\underline{\\underline{T}}$, es decir, una forma de descomponer la matriz."
   ]
  },
  {
   "cell_type": "code",
   "execution_count": 33,
   "id": "327258c6",
   "metadata": {
    "scrolled": true
   },
   "outputs": [
    {
     "data": {
      "text/latex": [
       "$\\displaystyle \\left[\\begin{matrix}0 & 0 & 0\\\\0 & 0 & 0\\\\0 & 0 & 0\\end{matrix}\\right]$"
      ],
      "text/plain": [
       "Matrix([\n",
       "[0, 0, 0],\n",
       "[0, 0, 0],\n",
       "[0, 0, 0]])"
      ]
     },
     "execution_count": 33,
     "metadata": {},
     "output_type": "execute_result"
    }
   ],
   "source": [
    "# Se comprueba lo anterior.\n",
    "A-(D+T)\n"
   ]
  },
  {
   "cell_type": "markdown",
   "id": "91ca7755",
   "metadata": {},
   "source": [
    "Luego, $\\underline{\\underline{D}}^{-1}$ es:\n"
   ]
  },
  {
   "cell_type": "code",
   "execution_count": 34,
   "id": "ab0e79ca",
   "metadata": {
    "scrolled": true
   },
   "outputs": [
    {
     "data": {
      "text/latex": [
       "$\\displaystyle \\left[\\begin{matrix}\\frac{1}{i_{0}} & 0 & 0\\\\0 & \\frac{1}{j_{1}} & 0\\\\0 & 0 & \\frac{1}{k_{2}}\\end{matrix}\\right]$"
      ],
      "text/plain": [
       "Matrix([\n",
       "[1/i_0,     0,     0],\n",
       "[    0, 1/j_1,     0],\n",
       "[    0,     0, 1/k_2]])"
      ]
     },
     "execution_count": 34,
     "metadata": {},
     "output_type": "execute_result"
    }
   ],
   "source": [
    "D**-1\n"
   ]
  },
  {
   "cell_type": "markdown",
   "id": "3ed54ff9",
   "metadata": {},
   "source": [
    "Que tiene un muy bajo costo computacional, e incluso no es necesario realizar la operación con el concepto de inversa, sino con una rutina particular.\n",
    "\n",
    "Recordando que, se busca llegar a la ec(0):\n",
    "\n"
   ]
  },
  {
   "cell_type": "markdown",
   "id": "ae7693e9",
   "metadata": {},
   "source": [
    "$\\displaystyle \\left[\\begin{matrix}\\frac{b_{0} - i_{1} x_{1} - i_{2} x_{2}}{i_{0}}\\\\\\frac{b_{1} - j_{0} x_{0} - j_{2} x_{2}}{j_{1}}\\\\\\frac{b_{2} - k_{0} x_{0} - k_{1} x_{1}}{k_{2}}\\end{matrix}\\right]$\n",
    "\n",
    "Se verifica si con esta expresión se llega a lo mismo:\n",
    "\n",
    "$\\underline{\\underline{D}}^{-1}(\\underline{\\underline{B}}-\\underline{\\underline{T}}.\\underline{\\underline{X}})$"
   ]
  },
  {
   "cell_type": "code",
   "execution_count": 35,
   "id": "6632052d",
   "metadata": {},
   "outputs": [],
   "source": [
    "# Se verifica lo anterior.\n",
    "ec4 = D**-1*(B - T*X)\n"
   ]
  },
  {
   "cell_type": "code",
   "execution_count": 36,
   "id": "d42e329d",
   "metadata": {
    "scrolled": true
   },
   "outputs": [
    {
     "data": {
      "text/latex": [
       "$\\displaystyle \\left[\\begin{matrix}\\frac{b_{0} - i_{1} x_{1} - i_{2} x_{2}}{i_{0}}\\\\\\frac{b_{1} - j_{0} x_{0} - j_{2} x_{2}}{j_{1}}\\\\\\frac{b_{2} - k_{0} x_{0} - k_{1} x_{1}}{k_{2}}\\end{matrix}\\right]$"
      ],
      "text/plain": [
       "Matrix([\n",
       "[(b_0 - i_1*x_1 - i_2*x_2)/i_0],\n",
       "[(b_1 - j_0*x_0 - j_2*x_2)/j_1],\n",
       "[(b_2 - k_0*x_0 - k_1*x_1)/k_2]])"
      ]
     },
     "execution_count": 36,
     "metadata": {},
     "output_type": "execute_result"
    }
   ],
   "source": [
    "ec4\n"
   ]
  },
  {
   "cell_type": "markdown",
   "id": "41e1e125",
   "metadata": {},
   "source": [
    "$\\displaystyle \\left[\\begin{matrix}\\frac{b_{0} - i_{1} x_{1} - i_{2} x_{2}}{i_{0}}\\\\\\frac{b_{1} - j_{0} x_{0} - j_{2} x_{2}}{j_{1}}\\\\\\frac{b_{2} - k_{0} x_{0} - k_{1} x_{1}}{k_{2}}\\end{matrix}\\right]$ ec(4)"
   ]
  },
  {
   "cell_type": "code",
   "execution_count": 37,
   "id": "770b484b",
   "metadata": {},
   "outputs": [
    {
     "data": {
      "text/latex": [
       "$\\displaystyle \\left[\\begin{matrix}0\\\\0\\\\0\\end{matrix}\\right]$"
      ],
      "text/plain": [
       "Matrix([\n",
       "[0],\n",
       "[0],\n",
       "[0]])"
      ]
     },
     "execution_count": 37,
     "metadata": {},
     "output_type": "execute_result"
    }
   ],
   "source": [
    "# Se verifica si ec(4)=ec(0)\n",
    "ec4-ec\n"
   ]
  },
  {
   "cell_type": "markdown",
   "id": "797d4446",
   "metadata": {},
   "source": [
    "Por lo tanto,\n",
    "\n",
    "$\\displaystyle \\left[\\begin{matrix}x_{0}^{(m+1)}\\\\x_{1}^{(m+1)}\\\\x_{2}^{(m+1)}\\end{matrix}\\right]=\\underline{\\underline{D}}^{-1}(\\underline{\\underline{B}}-\\underline{\\underline{T}}.\\underline{\\underline{X}})\n",
    "= \n",
    "\\displaystyle \\left[\\begin{matrix}\\frac{1}{i_{0}} & 0 & 0\\\\0 & \\frac{1}{j_{1}} & 0\\\\0 & 0 & \\frac{1}{k_{2}}\\end{matrix}\\right]\\left(\\displaystyle \\left[\\begin{matrix}b_{0}\\\\b_{1}\\\\b_{2}\\end{matrix}\\right] - \\displaystyle \\left[\\begin{matrix}0 & i_{1} & i_{2}\\\\j_{0} & 0 & j_{2}\\\\k_{0} & k_{1} & 0\\end{matrix}\\right]\\displaystyle \\left[\\begin{matrix}x_0^{(m)}\\\\x_1^{(m)}\\\\x_2^{(m)}\\end{matrix}\\right]\\right)$ \n",
    "\n",
    "Con lo que se llega a la expresión buscada:\n",
    "\n",
    "$\\displaystyle \\left[\\begin{matrix}x_{0}^{(m+1)}\\\\x_{1}^{(m+1)}\\\\x_{2}^{(m+1)}\\end{matrix}\\right]$ = \n",
    "$\\displaystyle \\left[\\begin{matrix}\\frac{b_{0} - i_{1} x_{1}^{(m)} - i_{2} x_{2}^{(m)}}{i_{0}}\\\\\\frac{b_{1} - j_{0} x_{0}^{(m)} - j_{2} x_{2}^{(m)}}{j_{1}}\\\\\\frac{b_{2} - k_{0} x_{0}^{(m)} - k_{1} x_{1}^{(m)}}{k_{2}}\\end{matrix}\\right]$"
   ]
  },
  {
   "cell_type": "markdown",
   "id": "a32f3e26",
   "metadata": {},
   "source": [
    "#### Contrucción numérica en Python\n",
    "\n",
    "Para efectos de aprendizaje profundo de los procesos, se desarrollará su aplicación a partir de lista de listas y sin usar ningún módulo de Python.\n",
    "\n",
    "Inicialmente se desarrollará para un sistema de 3x3, y luego se ampliará a cualquier sistema."
   ]
  },
  {
   "cell_type": "code",
   "execution_count": 38,
   "id": "00a7469e",
   "metadata": {},
   "outputs": [],
   "source": [
    "# Se define la matriz coeficientes constantes A como una lista de listas.\n",
    "A = [\n",
    "     [ 3, -1, -1],\n",
    "     [-1,  3,  1],\n",
    "     [ 2,  1,  4],\n",
    "                 ]\n"
   ]
  },
  {
   "cell_type": "code",
   "execution_count": 39,
   "id": "6c60b618",
   "metadata": {},
   "outputs": [
    {
     "data": {
      "text/plain": [
       "[[3, -1, -1], [-1, 3, 1], [2, 1, 4]]"
      ]
     },
     "execution_count": 39,
     "metadata": {},
     "output_type": "execute_result"
    }
   ],
   "source": [
    "A\n"
   ]
  },
  {
   "cell_type": "code",
   "execution_count": 40,
   "id": "9c105856",
   "metadata": {},
   "outputs": [],
   "source": [
    "# Se define el vector B como una lista.\n",
    "B = [1, 3, 7]\n"
   ]
  },
  {
   "cell_type": "code",
   "execution_count": 41,
   "id": "f1d2219b",
   "metadata": {
    "scrolled": true
   },
   "outputs": [
    {
     "data": {
      "text/plain": [
       "[1, 3, 7]"
      ]
     },
     "execution_count": 41,
     "metadata": {},
     "output_type": "execute_result"
    }
   ],
   "source": [
    "B\n"
   ]
  },
  {
   "cell_type": "markdown",
   "id": "2d858a39",
   "metadata": {},
   "source": [
    "De acuerdo, con la formulación general, se debe descomponer la matriz $\\underline{\\underline{A}}$ en $\\underline{\\underline{D}}$ y $\\underline{\\underline{T}}$.\n"
   ]
  },
  {
   "cell_type": "markdown",
   "id": "6cd8328a",
   "metadata": {},
   "source": [
    "**Matriz $\\underline{\\underline{D}}$**"
   ]
  },
  {
   "cell_type": "code",
   "execution_count": 42,
   "id": "4f34ffe4",
   "metadata": {},
   "outputs": [],
   "source": [
    "# Matriz D, con los elementos de la diagonal.\n",
    "\n",
    "# Se define el espacio de memoria.\n",
    "D = [[0, 0, 0], [0, 0, 0], [0, 0, 0],]  # Para una matriz de 3x3.\n",
    "# De forma específica se deben asignar los valores así:\n",
    "# Fila 0\n",
    "D[0][0] = A[0][0]\n",
    "D[0][1] = 0\n",
    "D[0][2] = 0\n",
    "# Fila 1\n",
    "D[1][0] = 0\n",
    "D[1][1] = A[1][1]\n",
    "D[1][2] = 0\n",
    "# Fila 2\n",
    "D[2][0] = 0\n",
    "D[2][1] = 0\n",
    "D[2][2] = A[2][2]\n"
   ]
  },
  {
   "cell_type": "code",
   "execution_count": 43,
   "id": "1e148626",
   "metadata": {},
   "outputs": [
    {
     "data": {
      "text/plain": [
       "[[3, 0, 0], [0, 3, 0], [0, 0, 4]]"
      ]
     },
     "execution_count": 43,
     "metadata": {},
     "output_type": "execute_result"
    }
   ],
   "source": [
    "D\n"
   ]
  },
  {
   "cell_type": "markdown",
   "id": "04586394",
   "metadata": {},
   "source": [
    "Luego, este proceso no es tan eficiente. Por lo que es adecuado ponerlo dentro de un ciclo.\n",
    "\n",
    "Se observa que, cuando en $\\underline{\\underline{D}}$ ocurre que $i=j$, entonces se llama el corresponiente en $\\underline{\\underline{A}}$, y de lo contrario, si $i\\neq j$, se pone 0.\n",
    "\n",
    "Si $i=j$:\n",
    "\n",
    "$d_{ij} = a_{ij}$\n",
    "\n",
    "de lo contrario, si $i\\neq j$:\n",
    "\n",
    "$d_{ij} = 0$\n",
    "\n",
    "\n"
   ]
  },
  {
   "cell_type": "code",
   "execution_count": 44,
   "id": "6370ad58",
   "metadata": {},
   "outputs": [],
   "source": [
    "# Se define nuevamente el espacio de memoria.\n",
    "D = [[0, 0, 0], [0, 0, 0], [0, 0, 0],]  # Para una matriz de 3x3.\n"
   ]
  },
  {
   "cell_type": "code",
   "execution_count": 45,
   "id": "52343b0f",
   "metadata": {},
   "outputs": [],
   "source": [
    "for i in range(3):      # Recorre 3 filas.\n",
    "    for j in range(3):  # Recorre 3 columnas.\n",
    "        if i==j:        # Condición 1.\n",
    "            D[i][j] = A[i][j]\n",
    "        else:           # Condición 2.\n",
    "            D[i][j] = 0\n",
    "            "
   ]
  },
  {
   "cell_type": "code",
   "execution_count": 46,
   "id": "c3e167f4",
   "metadata": {},
   "outputs": [
    {
     "data": {
      "text/plain": [
       "[[3, 0, 0], [0, 3, 0], [0, 0, 4]]"
      ]
     },
     "execution_count": 46,
     "metadata": {},
     "output_type": "execute_result"
    }
   ],
   "source": [
    "D\n"
   ]
  },
  {
   "cell_type": "markdown",
   "id": "f8e1afe1",
   "metadata": {},
   "source": [
    "De forma más general, si se tiene la matriz A de orden n (cuadrada), se podría crear automáticamente la matriz diagonal correspondiente:"
   ]
  },
  {
   "cell_type": "code",
   "execution_count": 47,
   "id": "1ed55964",
   "metadata": {
    "scrolled": true
   },
   "outputs": [],
   "source": [
    "n = len(A)     # El número de filas de A.\n",
    "m = len(A[0])  # El número de columnas de A.\n",
    "\n",
    "# Se crea una matriz de ceros de tamaño n.\n",
    "# Se supone que m=n, pero para evitar controlar errores en este paso\n",
    "# se crea de manera general.\n",
    "D = []\n",
    "for i in range(n):\n",
    "    D += [[]]\n",
    "    for j in range(m):\n",
    "        D[i] += [0]\n",
    "        \n"
   ]
  },
  {
   "cell_type": "code",
   "execution_count": 48,
   "id": "ff781766",
   "metadata": {},
   "outputs": [
    {
     "data": {
      "text/plain": [
       "[[0, 0, 0], [0, 0, 0], [0, 0, 0]]"
      ]
     },
     "execution_count": 48,
     "metadata": {},
     "output_type": "execute_result"
    }
   ],
   "source": [
    "D\n"
   ]
  },
  {
   "cell_type": "code",
   "execution_count": 49,
   "id": "18e951a9",
   "metadata": {},
   "outputs": [],
   "source": [
    "for i in range(n):      # Recorre n filas.\n",
    "    for j in range(m):  # Recorre m columnas.\n",
    "        if i==j:        # Condición 1.\n",
    "            D[i][j] = A[i][j]\n",
    "        else:           # Condición 2.\n",
    "            D[i][j] = 0\n"
   ]
  },
  {
   "cell_type": "code",
   "execution_count": 50,
   "id": "65262028",
   "metadata": {
    "scrolled": true
   },
   "outputs": [
    {
     "data": {
      "text/plain": [
       "[[3, 0, 0], [0, 3, 0], [0, 0, 4]]"
      ]
     },
     "execution_count": 50,
     "metadata": {},
     "output_type": "execute_result"
    }
   ],
   "source": [
    "D\n"
   ]
  },
  {
   "cell_type": "code",
   "execution_count": 51,
   "id": "83c2c73b",
   "metadata": {},
   "outputs": [],
   "source": [
    "# Ya generalizado y sistematizado el proceso, se genera una función.\n",
    "def matriz_D(A):\n",
    "    '''\n",
    "        Función a la que se le ingresa una matriz definida como una lista\n",
    "        de listas, y devuelve una matriz del mismo tamaño, pero únicamente\n",
    "        con los elementos de la diagonal.\n",
    "    '''\n",
    "    n = len(A)     # El número de filas de A.\n",
    "    m = len(A[0])  # El número de columnas de A.\n",
    "\n",
    "    # Se crea una matriz de ceros de tamaño n.\n",
    "    # Se supone que m=n, pero para evitar controlar errores en este paso\n",
    "    # se crea de manera general.\n",
    "    D = []\n",
    "    for i in range(n):\n",
    "        D += [[]]\n",
    "        for j in range(m):\n",
    "            D[i] += [0]\n",
    "\n",
    "    for i in range(n):      # Recorre n filas.\n",
    "        for j in range(m):  # Recorre m columnas.\n",
    "            if i==j:        # Condición 1.\n",
    "                D[i][j] = A[i][j]\n",
    "            #else:           # Condición 2.\n",
    "            #    D[i][j] = 0\n",
    "    return D\n"
   ]
  },
  {
   "cell_type": "code",
   "execution_count": 52,
   "id": "d7016a1a",
   "metadata": {},
   "outputs": [
    {
     "data": {
      "text/plain": [
       "[[3, 0, 0], [0, 3, 0], [0, 0, 4]]"
      ]
     },
     "execution_count": 52,
     "metadata": {},
     "output_type": "execute_result"
    }
   ],
   "source": [
    "# Se prueba su funcionamiento.\n",
    "matriz_D(A)\n"
   ]
  },
  {
   "cell_type": "code",
   "execution_count": 53,
   "id": "425f72ea",
   "metadata": {},
   "outputs": [],
   "source": [
    "# Se define una matriz J de tamaño 3x2.\n",
    "J = [\n",
    "     [1, 2],\n",
    "     [3, 4],\n",
    "     [5, 6],\n",
    "           ]\n"
   ]
  },
  {
   "cell_type": "code",
   "execution_count": 54,
   "id": "b6f567ad",
   "metadata": {},
   "outputs": [
    {
     "data": {
      "text/plain": [
       "[[1, 0], [0, 4], [0, 0]]"
      ]
     },
     "execution_count": 54,
     "metadata": {},
     "output_type": "execute_result"
    }
   ],
   "source": [
    "matriz_D(J)\n"
   ]
  },
  {
   "cell_type": "code",
   "execution_count": 55,
   "id": "76c95d2b",
   "metadata": {},
   "outputs": [],
   "source": [
    "# Se define una matriz K de tamaño 2x3.\n",
    "K = [\n",
    "     [1, 2, 3],\n",
    "     [4, 5, 6],\n",
    "              ]\n"
   ]
  },
  {
   "cell_type": "code",
   "execution_count": 56,
   "id": "11f67f1d",
   "metadata": {},
   "outputs": [
    {
     "data": {
      "text/plain": [
       "[[1, 0, 0], [0, 5, 0]]"
      ]
     },
     "execution_count": 56,
     "metadata": {},
     "output_type": "execute_result"
    }
   ],
   "source": [
    "matriz_D(K)\n"
   ]
  },
  {
   "cell_type": "markdown",
   "id": "c57437cd",
   "metadata": {},
   "source": [
    "**Matriz $\\underline{\\underline{T}}$**\n",
    "\n",
    "Matriz $\\underline{\\underline{T}}$, con los elementos que no son de la diagonal."
   ]
  },
  {
   "cell_type": "markdown",
   "id": "0de58b70",
   "metadata": {},
   "source": [
    "#### Síntesis del método\n",
    "De forma análoga a $\\underline{\\underline{D}}$, se observa que, cuando en $\\underline{\\underline{T}}$ ocurre que $i\\neq j$, entonces se llama el corresponiente en $\\underline{\\underline{A}}$, y de lo contrario, si $i=j$, se pone 0.\n",
    "\n",
    "Si $i\\neq j$:\n",
    "\n",
    "$d_{ij} = a_{ij}$\n",
    "\n",
    "de lo contrario, si $i=j$:\n",
    "\n",
    "$d_{ij} = 0$"
   ]
  },
  {
   "cell_type": "code",
   "execution_count": 57,
   "id": "cfb68860",
   "metadata": {},
   "outputs": [],
   "source": [
    "# Ya generalizado y sistematizado el proceso, se genera una función.\n",
    "def matriz_T(A):\n",
    "    '''\n",
    "        Función a la que se le ingresa una matriz definida como una lista\n",
    "        de listas, y devuelve una matriz del mismo tamaño y con los mismos\n",
    "        elementos, pero sin los elementos de la diagonal.\n",
    "    '''\n",
    "    n = len(A)     # El número de filas de A.\n",
    "    m = len(A[0])  # El número de columnas de A.\n",
    "\n",
    "    # Se crea una matriz de ceros de tamaño n.\n",
    "    # Se supone que m=n, pero para evitar controlar errores en este paso\n",
    "    # se crea de manera general.\n",
    "    T = []\n",
    "    for i in range(n):\n",
    "        T += [[]]\n",
    "        for j in range(m):\n",
    "            T[i] += [0]\n",
    "\n",
    "    for i in range(n):      # Recorre n filas.\n",
    "        for j in range(m):  # Recorre m columnas.\n",
    "            if i!=j:        # Condición 1, ÚNICO CAMBIO: en vez de ==, !=.\n",
    "                T[i][j] = A[i][j]\n",
    "            #else:           # Condición 2.\n",
    "            #    T[i][j] = 0\n",
    "    return T\n"
   ]
  },
  {
   "cell_type": "markdown",
   "id": "2a5f1f04",
   "metadata": {},
   "source": [
    "Se prueba con las matrices $\\underline{\\underline{A}}$, $\\underline{\\underline{J}}$ y $\\underline{\\underline{K}}$; previamente definidas.\n"
   ]
  },
  {
   "cell_type": "code",
   "execution_count": 58,
   "id": "6af8fc01",
   "metadata": {},
   "outputs": [
    {
     "data": {
      "text/plain": [
       "[[0, -1, -1], [-1, 0, 1], [2, 1, 0]]"
      ]
     },
     "execution_count": 58,
     "metadata": {},
     "output_type": "execute_result"
    }
   ],
   "source": [
    "matriz_T(A)\n"
   ]
  },
  {
   "cell_type": "code",
   "execution_count": 59,
   "id": "65facc7c",
   "metadata": {},
   "outputs": [
    {
     "data": {
      "text/plain": [
       "[[0, 2], [3, 0], [5, 6]]"
      ]
     },
     "execution_count": 59,
     "metadata": {},
     "output_type": "execute_result"
    }
   ],
   "source": [
    "matriz_T(J)\n",
    "    "
   ]
  },
  {
   "cell_type": "code",
   "execution_count": 60,
   "id": "b159e71c",
   "metadata": {
    "scrolled": true
   },
   "outputs": [
    {
     "data": {
      "text/plain": [
       "[[0, 2, 3], [4, 0, 6]]"
      ]
     },
     "execution_count": 60,
     "metadata": {},
     "output_type": "execute_result"
    }
   ],
   "source": [
    "matriz_T(K)\n"
   ]
  },
  {
   "cell_type": "code",
   "execution_count": 61,
   "id": "6740f281",
   "metadata": {},
   "outputs": [],
   "source": [
    "# Luego, la creación de la matriz de ceros se puede automatizar en una función.\n",
    "def matriz_ceros(m, n):\n",
    "    '''\n",
    "        Se crea una matriz de ceros de tamaño mxn definida como una lista de listas.\n",
    "    '''\n",
    "    C = []\n",
    "    for i in range(n):\n",
    "        C += [[]]\n",
    "        for j in range(m):\n",
    "            C[i] += [0]\n",
    "    return C\n"
   ]
  },
  {
   "cell_type": "code",
   "execution_count": 62,
   "id": "348a1618",
   "metadata": {},
   "outputs": [
    {
     "data": {
      "text/plain": [
       "[[0, 0, 0, 0], [0, 0, 0, 0], [0, 0, 0, 0], [0, 0, 0, 0]]"
      ]
     },
     "execution_count": 62,
     "metadata": {},
     "output_type": "execute_result"
    }
   ],
   "source": [
    "matriz_ceros(4, 4)\n"
   ]
  },
  {
   "cell_type": "markdown",
   "id": "254ea5c5",
   "metadata": {},
   "source": [
    "Adicionalmente, se requiere la inversa de la matriz diagonal $\\underline{\\underline{D}}$, la cual se puede obtener con una rutina sencilla, así:\n"
   ]
  },
  {
   "cell_type": "code",
   "execution_count": 63,
   "id": "b8c8d643",
   "metadata": {},
   "outputs": [],
   "source": [
    "def matriz_Dinv(D):\n",
    "    '''\n",
    "        Función que se le ingresa una matriz definida como una lista de litas, y retorna\n",
    "        la matriz inversa de la matriz diagonal correspondiente.\n",
    "    '''\n",
    "    n = len(D)     # El número de filas de D.\n",
    "    m = len(D[0])  # El número de columnas de D.\n",
    "    \n",
    "    # Se crea el espacio de memoria adecuado con ceros.\n",
    "    Dinv = matriz_ceros(m, n) # Esta función debe estar en el mismo programa que la función prin.\n",
    "\n",
    "    for i in range(n):      # Recorre n filas.\n",
    "        for j in range(m):  # Recorre m columnas.\n",
    "            if i==j:        # Condición ÚNICA.\n",
    "                Dinv[i][j] = 1/D[i][j]\n",
    "    return Dinv\n"
   ]
  },
  {
   "cell_type": "code",
   "execution_count": 64,
   "id": "9bbffcdc",
   "metadata": {
    "scrolled": true
   },
   "outputs": [
    {
     "data": {
      "text/plain": [
       "[[0.3333333333333333, 0, 0], [0, 0.3333333333333333, 0], [0, 0, 0.25]]"
      ]
     },
     "execution_count": 64,
     "metadata": {},
     "output_type": "execute_result"
    }
   ],
   "source": [
    "matriz_Dinv(D)\n"
   ]
  },
  {
   "cell_type": "markdown",
   "id": "db7dfe6b",
   "metadata": {},
   "source": [
    "Insistiendo en el uso de listas y no de módulos, se debe definir la multiplicación de una matriz de orden $nxn$ por un vector $nx1$, tal como se evidencia a continuación:\n",
    "\n",
    "$\\displaystyle \\left[\\begin{matrix}x_{0}^{(m+1)}\\\\x_{1}^{(m+1)}\\\\x_{2}^{(m+1)}\\end{matrix}\\right]$=\n",
    "$\\displaystyle \\left[\\begin{matrix}\\frac{1}{i_{0}} & 0 & 0\\\\0 & \\frac{1}{j_{1}} & 0\\\\0 & 0 & \\frac{1}{k_{2}}\\end{matrix}\\right]\\left(\\displaystyle \\left[\\begin{matrix}b_{0}\\\\b_{1}\\\\b_{2}\\end{matrix}\\right] - \\displaystyle \\left[\\begin{matrix}0 & i_{1} & i_{2}\\\\j_{0} & 0 & j_{2}\\\\k_{0} & k_{1} & 0\\end{matrix}\\right]\\displaystyle \\left[\\begin{matrix}x_0^{(m)}\\\\x_1^{(m)}\\\\x_2^{(m)}\\end{matrix}\\right]\\right)$ \n",
    "\n",
    "$\\underline{\\underline{X}}^{m+1}=\\underline{\\underline{D}}^{-1}(\\underline{\\underline{B}}-\\underline{\\underline{T}}.\\underline{\\underline{X}}^{m})$"
   ]
  },
  {
   "cell_type": "code",
   "execution_count": 65,
   "id": "3ae59458",
   "metadata": {},
   "outputs": [
    {
     "data": {
      "text/plain": [
       "[[3, -1, -1], [-1, 3, 1], [2, 1, 4]]"
      ]
     },
     "execution_count": 65,
     "metadata": {},
     "output_type": "execute_result"
    }
   ],
   "source": [
    "# Creación del producto de una matriz por un vector conforme.\n",
    "\n",
    "# Si se tiene la matriz A\n",
    "A\n"
   ]
  },
  {
   "cell_type": "code",
   "execution_count": 66,
   "id": "f0dd8b38",
   "metadata": {},
   "outputs": [
    {
     "data": {
      "text/plain": [
       "[1, 3, 7]"
      ]
     },
     "execution_count": 66,
     "metadata": {},
     "output_type": "execute_result"
    }
   ],
   "source": [
    "# Y el vector B\n",
    "B\n"
   ]
  },
  {
   "cell_type": "code",
   "execution_count": 67,
   "id": "b0b326e7",
   "metadata": {},
   "outputs": [],
   "source": [
    "# A*B en el contexto matricial debe arrojar un vector del mismo tamaño que B.\n",
    "# Se crea un vector del mismo tamaño que B, lleno de ceros.\n",
    "Mmul = matriz_ceros(len(B), 1)[0]  \n",
    "# Se le agrega el indexado cero para que sea una lista, y no una lista de listas.\n"
   ]
  },
  {
   "cell_type": "code",
   "execution_count": 68,
   "id": "169037cf",
   "metadata": {},
   "outputs": [
    {
     "data": {
      "text/plain": [
       "[0, 0, 0]"
      ]
     },
     "execution_count": 68,
     "metadata": {},
     "output_type": "execute_result"
    }
   ],
   "source": [
    "Mmul\n"
   ]
  },
  {
   "cell_type": "code",
   "execution_count": 69,
   "id": "6734eda5",
   "metadata": {},
   "outputs": [
    {
     "data": {
      "text/plain": [
       "[[0, 0, 0]]"
      ]
     },
     "execution_count": 69,
     "metadata": {},
     "output_type": "execute_result"
    }
   ],
   "source": [
    "# Note la diferencia\n",
    "matriz_ceros(len(B), 1)\n"
   ]
  },
  {
   "cell_type": "code",
   "execution_count": 70,
   "id": "372cfe50",
   "metadata": {},
   "outputs": [],
   "source": [
    "# Calculando de forma muy específica.\n",
    "Mmul[0] = B[0]*A[0][0] + B[1]*A[0][1] + B[2]*A[0][2]\n",
    "Mmul[1] = B[0]*A[1][0] + B[1]*A[1][1] + B[2]*A[1][2]\n",
    "Mmul[2] = B[0]*A[2][0] + B[1]*A[2][1] + B[2]*A[2][2]\n"
   ]
  },
  {
   "cell_type": "code",
   "execution_count": 71,
   "id": "65ec1634",
   "metadata": {
    "scrolled": true
   },
   "outputs": [
    {
     "data": {
      "text/plain": [
       "[-7, 15, 33]"
      ]
     },
     "execution_count": 71,
     "metadata": {},
     "output_type": "execute_result"
    }
   ],
   "source": [
    "Mmul\n"
   ]
  },
  {
   "cell_type": "code",
   "execution_count": 72,
   "id": "354104e3",
   "metadata": {},
   "outputs": [],
   "source": [
    "# Esto último se puede sistematizar, así:\n",
    "# Se reserva nuevamente el espacio de memoria.\n",
    "Mmul = matriz_ceros(len(B), 1)[0]  \n",
    "\n",
    "for i in range(3):\n",
    "    for j in range(3):\n",
    "        Mmul[i] += B[j]*A[i][j]\n"
   ]
  },
  {
   "cell_type": "code",
   "execution_count": 73,
   "id": "a115337e",
   "metadata": {},
   "outputs": [
    {
     "data": {
      "text/plain": [
       "[-7, 15, 33]"
      ]
     },
     "execution_count": 73,
     "metadata": {},
     "output_type": "execute_result"
    }
   ],
   "source": [
    "Mmul\n"
   ]
  },
  {
   "cell_type": "code",
   "execution_count": 74,
   "id": "0c35e8b2",
   "metadata": {},
   "outputs": [],
   "source": [
    "# Y ahora, definido como una función general.\n",
    "# Esta función no prevee errores de tamaño, pues estos serán controlados en el programa principal.\n",
    "def Mmul_vector(A, B):\n",
    "    '''\n",
    "        Función que realiza la multiplicación de una matriz A cuadrada de orden n\n",
    "        definida como una lista de listas con un vector B de tamaño n definido como una lista.\n",
    "        Devuelve Mmul, del mismo tamaño que B.\n",
    "    '''\n",
    "    n = len(B)                    # Tamaño\n",
    "    Mmul = matriz_ceros(n, 1)[0]  # Vector de ceros de tamaño n.\n",
    "    \n",
    "    for i in range(n):\n",
    "        for j in range(n):\n",
    "            Mmul[i] += B[j]*A[i][j]\n",
    "            \n",
    "    return Mmul\n"
   ]
  },
  {
   "cell_type": "code",
   "execution_count": 75,
   "id": "d56ceefb",
   "metadata": {},
   "outputs": [
    {
     "data": {
      "text/plain": [
       "[-7, 15, 33]"
      ]
     },
     "execution_count": 75,
     "metadata": {},
     "output_type": "execute_result"
    }
   ],
   "source": [
    "Mmul_vector(A, B)\n"
   ]
  },
  {
   "cell_type": "code",
   "execution_count": 76,
   "id": "3e613649",
   "metadata": {},
   "outputs": [],
   "source": [
    "# Antes de organizar el método, falta definir la resta de vectores definidos como listas.\n",
    "\n",
    "# Para construirlo se crean los vectores M y N.\n",
    "M = [1, 2, 3]\n",
    "N = [4, 5, 6]\n"
   ]
  },
  {
   "cell_type": "code",
   "execution_count": 77,
   "id": "511c12b6",
   "metadata": {},
   "outputs": [],
   "source": [
    "# Se crea un vector del mismo tamaño que los vectores, lleno de ceros.\n",
    "Mres = matriz_ceros(len(M), 1)[0]\n"
   ]
  },
  {
   "cell_type": "code",
   "execution_count": 78,
   "id": "d8acd937",
   "metadata": {},
   "outputs": [
    {
     "data": {
      "text/plain": [
       "[0, 0, 0]"
      ]
     },
     "execution_count": 78,
     "metadata": {},
     "output_type": "execute_result"
    }
   ],
   "source": [
    "Mres\n"
   ]
  },
  {
   "cell_type": "code",
   "execution_count": 79,
   "id": "bc491dd2",
   "metadata": {},
   "outputs": [],
   "source": [
    "Mres[0] = M[0]-N[0]\n",
    "Mres[1] = M[1]-N[1]\n",
    "Mres[2] = M[2]-N[2]\n"
   ]
  },
  {
   "cell_type": "code",
   "execution_count": 80,
   "id": "d8f99c2e",
   "metadata": {
    "scrolled": true
   },
   "outputs": [
    {
     "data": {
      "text/plain": [
       "[-3, -3, -3]"
      ]
     },
     "execution_count": 80,
     "metadata": {},
     "output_type": "execute_result"
    }
   ],
   "source": [
    "Mres\n"
   ]
  },
  {
   "cell_type": "code",
   "execution_count": 81,
   "id": "320e5137",
   "metadata": {},
   "outputs": [],
   "source": [
    "# Sistematizado en una función.\n",
    "# Esta función no prevee errores de tamaño, pues estos serán controlados en el programa principal.\n",
    "def Mres_vector(M, N):\n",
    "    '''\n",
    "        Función que suma dos vectores M y N definidos como listas, devulve un vector del mismo\n",
    "        tamaño con la suma.\n",
    "    '''\n",
    "    n = len(M)                    # Tamaño\n",
    "    Mres = matriz_ceros(n, 1)[0]  # Vector de ceros de tamaño n.\n",
    "    \n",
    "    for i in range(n):\n",
    "        Mres[i] = M[i]-N[i]\n",
    "\n",
    "    return Mres\n",
    "    "
   ]
  },
  {
   "cell_type": "code",
   "execution_count": 82,
   "id": "87ab8dac",
   "metadata": {},
   "outputs": [
    {
     "data": {
      "text/plain": [
       "[-3, -3, -3]"
      ]
     },
     "execution_count": 82,
     "metadata": {},
     "output_type": "execute_result"
    }
   ],
   "source": [
    "Mres_vector(M, N)\n"
   ]
  },
  {
   "cell_type": "markdown",
   "id": "1e75af80",
   "metadata": {},
   "source": [
    "Finalmente, se compilan y organizan todas las funciones anteriormente definidas y se soluciona el problema. Hasta el momento se ha definido:\n",
    "- matriz_ceros(m, n)\n",
    "- matriz_D(A)\n",
    "- matriz_T(A)\n",
    "- matriz_Dinv(D)\n",
    "- Mmul_vector(A, B)\n",
    "- Mres_vector(M, N)\n",
    "\n",
    "Con estas funciones es suficiente para aplicar el método.\n"
   ]
  },
  {
   "cell_type": "code",
   "execution_count": 83,
   "id": "c3203205",
   "metadata": {},
   "outputs": [
    {
     "data": {
      "text/plain": [
       "[[3, -1, -1], [-1, 3, 1], [2, 1, 4]]"
      ]
     },
     "execution_count": 83,
     "metadata": {},
     "output_type": "execute_result"
    }
   ],
   "source": [
    "# Se cuenta con la matriz de coeficientes constantes.\n",
    "A\n"
   ]
  },
  {
   "cell_type": "code",
   "execution_count": 84,
   "id": "efd72b93",
   "metadata": {
    "scrolled": true
   },
   "outputs": [
    {
     "data": {
      "text/plain": [
       "[1, 3, 7]"
      ]
     },
     "execution_count": 84,
     "metadata": {},
     "output_type": "execute_result"
    }
   ],
   "source": [
    "# Y con el vector de constantes\n",
    "B\n"
   ]
  },
  {
   "cell_type": "markdown",
   "id": "5d06bc57",
   "metadata": {},
   "source": [
    "La forma general del método es:\n",
    "$\\underline{\\underline{X}}^{m+1}=\\underline{\\underline{D}}^{-1}(\\underline{\\underline{B}}-\\underline{\\underline{T}}.\\underline{\\underline{X}}^{m})$"
   ]
  },
  {
   "cell_type": "code",
   "execution_count": 85,
   "id": "ae1d8df9",
   "metadata": {},
   "outputs": [],
   "source": [
    "# Se definen las matrices constantes del método.\n",
    "Dinv = matriz_Dinv(A)\n",
    "T = matriz_T(A)\n",
    "\n",
    "# Se define X0, para la primera iteración.\n",
    "X0 = [0, 0, 0]\n"
   ]
  },
  {
   "cell_type": "code",
   "execution_count": 86,
   "id": "3e3232ad",
   "metadata": {},
   "outputs": [],
   "source": [
    "TX0 = Mmul_vector(T, X0)\n",
    "B_TX0 = Mres_vector(B, TX0)\n",
    "X1 = Mmul_vector(Dinv, B_TX0)\n"
   ]
  },
  {
   "cell_type": "code",
   "execution_count": 87,
   "id": "c779ba02",
   "metadata": {},
   "outputs": [
    {
     "data": {
      "text/plain": [
       "[0.3333333333333333, 1.0, 1.75]"
      ]
     },
     "execution_count": 87,
     "metadata": {},
     "output_type": "execute_result"
    }
   ],
   "source": [
    "X1\n"
   ]
  },
  {
   "cell_type": "code",
   "execution_count": 88,
   "id": "aa88cc1d",
   "metadata": {},
   "outputs": [],
   "source": [
    "TX1 = Mmul_vector(T, X1)\n",
    "B_TX1 = Mres_vector(B, TX1)\n",
    "X2 = Mmul_vector(Dinv, B_TX1)\n"
   ]
  },
  {
   "cell_type": "code",
   "execution_count": 89,
   "id": "6d8b3c53",
   "metadata": {},
   "outputs": [
    {
     "data": {
      "text/plain": [
       "[1.25, 0.5277777777777777, 1.3333333333333335]"
      ]
     },
     "execution_count": 89,
     "metadata": {},
     "output_type": "execute_result"
    }
   ],
   "source": [
    "X2\n"
   ]
  },
  {
   "cell_type": "code",
   "execution_count": 90,
   "id": "e14c4747",
   "metadata": {},
   "outputs": [],
   "source": [
    "TX2 = Mmul_vector(T, X2)\n",
    "\n",
    "B_TX2 = Mres_vector(B, TX2)\n",
    "\n",
    "X3 = Mmul_vector(Dinv, B_TX2)\n"
   ]
  },
  {
   "cell_type": "code",
   "execution_count": 91,
   "id": "59200ab0",
   "metadata": {
    "scrolled": true
   },
   "outputs": [
    {
     "data": {
      "text/plain": [
       "[0.9537037037037037, 0.9722222222222221, 0.9930555555555556]"
      ]
     },
     "execution_count": 91,
     "metadata": {},
     "output_type": "execute_result"
    }
   ],
   "source": [
    "X3\n"
   ]
  },
  {
   "cell_type": "markdown",
   "id": "1bfa4974",
   "metadata": {},
   "source": [
    "En este caso sabemos que la solución es \\[1, 1, 1\\], y realmente se empieza a acercar con la tercera iteración.\n",
    "\n",
    "Una propuesta es crear un ciclo en n pasos, donde n puede ser un número como 10 o 100, y así, se garantiza muchos recálculos. ¿serán suficientes?\n"
   ]
  },
  {
   "cell_type": "code",
   "execution_count": 92,
   "id": "85778ab5",
   "metadata": {},
   "outputs": [],
   "source": [
    "X0 = [0, 0, 0]\n",
    "\n",
    "for i in range(100):\n",
    "    TX0 = Mmul_vector(T, X0)\n",
    "    B_TX0 = Mres_vector(B, TX0)\n",
    "    X1 = Mmul_vector(Dinv, B_TX0)\n",
    "    X0 = X1\n",
    "\n",
    "X = X0\n"
   ]
  },
  {
   "cell_type": "code",
   "execution_count": 93,
   "id": "b4f26f19",
   "metadata": {},
   "outputs": [
    {
     "data": {
      "text/plain": [
       "[1.0, 1.0, 1.0]"
      ]
     },
     "execution_count": 93,
     "metadata": {},
     "output_type": "execute_result"
    }
   ],
   "source": [
    "X\n"
   ]
  },
  {
   "cell_type": "markdown",
   "id": "99ddb72e",
   "metadata": {},
   "source": [
    "En este caso, claramente fue suficiente y la respuesta convergió muy bien. Pero se hace necesario un concepto más general para definir la cantidad de pasos de iteración a realizar.\n",
    "\n",
    "En un **Khoury R., Harder, D. W. (2016)** se propone comparar el valor la distancia entre dos puntos soluciones en pasos sucesivos, de tal manera que, cuando se llegue a un valor de tolerancia definido, paren las iteraciones. Este criterio, tiene sentido en la medida de que cada vez más la solución de una iteración a otra se va a parecer más.\n",
    "\n"
   ]
  },
  {
   "cell_type": "code",
   "execution_count": 94,
   "id": "966e77e5",
   "metadata": {},
   "outputs": [],
   "source": [
    "# Previamenye a la implementación del criterio, se define una función que arroje la norma de un vector definido\n",
    "# como una lista.\n",
    "\n",
    "def dis_punto(M, N):\n",
    "    '''\n",
    "        Función que devuelve la distancia entre dos puntos definidos como listas. Devuelve un escalar.\n",
    "    '''\n",
    "    n = len(M)  # Tamaño del vector.\n",
    "    dist_2 = 0  # Espacio de memoria.\n",
    "    for i in range(n):\n",
    "        dist_2 += (M[i]-N[i])**2\n",
    "    dist = (dist_2)**0.5\n",
    "\n",
    "    return dist\n",
    "    "
   ]
  },
  {
   "cell_type": "code",
   "execution_count": 95,
   "id": "4d5e5c80",
   "metadata": {},
   "outputs": [
    {
     "data": {
      "text/plain": [
       "5.196152422706632"
      ]
     },
     "execution_count": 95,
     "metadata": {},
     "output_type": "execute_result"
    }
   ],
   "source": [
    "# Por ejemplo, para M y N previamente definidos.\n",
    "dis_punto(M, N)\n"
   ]
  },
  {
   "cell_type": "code",
   "execution_count": 96,
   "id": "597c6e55",
   "metadata": {},
   "outputs": [
    {
     "name": "stdout",
     "output_type": "stream",
     "text": [
      "23\n"
     ]
    }
   ],
   "source": [
    "# Se plantea el método con este criterio.\n",
    "X0 = [0, 0, 0]\n",
    "\n",
    "toler = 0.0000000001\n",
    "paso = 0\n",
    "\n",
    "while True:\n",
    "    TX0 = Mmul_vector(T, X0)\n",
    "    B_TX0 = Mres_vector(B, TX0)\n",
    "    X1 = Mmul_vector(Dinv, B_TX0)\n",
    "    paso += 1\n",
    "    if dis_punto(X1, X0) < toler:\n",
    "        print(paso)\n",
    "        break\n",
    "    X0 = X1\n",
    "\n",
    "X = X0"
   ]
  },
  {
   "cell_type": "code",
   "execution_count": 97,
   "id": "0415c72f",
   "metadata": {},
   "outputs": [
    {
     "data": {
      "text/plain": [
       "[0.9999999999983317, 0.9999999999379355, 1.0000000000552478]"
      ]
     },
     "execution_count": 97,
     "metadata": {},
     "output_type": "execute_result"
    }
   ],
   "source": [
    "X\n"
   ]
  },
  {
   "cell_type": "markdown",
   "id": "d475dcf1",
   "metadata": {},
   "source": [
    "**Pregunta de clase**\n",
    "\n",
    "A partir de cuántos ceros en los decimales de la tolerancia ¿se empieza a obtener el mismo resultado? ¿por qué?\n"
   ]
  },
  {
   "cell_type": "markdown",
   "id": "08e3c1ba",
   "metadata": {},
   "source": []
  },
  {
   "cell_type": "code",
   "execution_count": 98,
   "id": "b96f2f5e",
   "metadata": {},
   "outputs": [],
   "source": [
    "# Se organiza la función del método.\n",
    "def metodo_jacobi(A, B):\n",
    "    n = len(A)\n",
    "    # Se definen las matrices constantes del método.\n",
    "    Dinv = matriz_Dinv(A)\n",
    "    T = matriz_T(A)\n",
    "\n",
    "    # Se define X0, para la primera iteración.\n",
    "    X0 = matriz_ceros(n, 1)[0]\n",
    "\n",
    "    toler = 0.0000000000000001\n",
    "    paso = 0\n",
    "\n",
    "    while True:\n",
    "        TX0 = Mmul_vector(T, X0)\n",
    "        B_TX0 = Mres_vector(B, TX0)\n",
    "        X1 = Mmul_vector(Dinv, B_TX0)\n",
    "        paso += 1\n",
    "        if dis_punto(X1, X0) < toler:\n",
    "            print(f\"Se hicieron {paso} iteraciones\")\n",
    "            break\n",
    "        X0 = X1\n",
    "\n",
    "    X = X0\n",
    "    return X\n"
   ]
  },
  {
   "cell_type": "code",
   "execution_count": 99,
   "id": "d59e9985",
   "metadata": {
    "scrolled": true
   },
   "outputs": [
    {
     "name": "stdout",
     "output_type": "stream",
     "text": [
      "Se hicieron 36 iteraciones\n"
     ]
    },
    {
     "data": {
      "text/plain": [
       "[1.0, 1.0, 1.0]"
      ]
     },
     "execution_count": 99,
     "metadata": {},
     "output_type": "execute_result"
    }
   ],
   "source": [
    "metodo_jacobi(A, B)\n"
   ]
  },
  {
   "cell_type": "code",
   "execution_count": 100,
   "id": "4494ef4d",
   "metadata": {},
   "outputs": [],
   "source": [
    "A1 = [[11, -9],[11, 13]]\n",
    "B1 = [99, 286]\n"
   ]
  },
  {
   "cell_type": "code",
   "execution_count": 101,
   "id": "aae88d36",
   "metadata": {
    "scrolled": true
   },
   "outputs": [
    {
     "name": "stdout",
     "output_type": "stream",
     "text": [
      "Se hicieron 198 iteraciones\n"
     ]
    },
    {
     "data": {
      "text/plain": [
       "[15.954545454545455, 8.5]"
      ]
     },
     "execution_count": 101,
     "metadata": {},
     "output_type": "execute_result"
    }
   ],
   "source": [
    "metodo_jacobi(A1, B1)\n"
   ]
  },
  {
   "cell_type": "code",
   "execution_count": 102,
   "id": "030d4b5a",
   "metadata": {},
   "outputs": [],
   "source": [
    "A2 = [[11, 13],[11, -9]]\n",
    "B2 = [286,99]\n"
   ]
  },
  {
   "cell_type": "code",
   "execution_count": 103,
   "id": "918acd38",
   "metadata": {},
   "outputs": [
    {
     "ename": "OverflowError",
     "evalue": "(34, 'Result too large')",
     "output_type": "error",
     "traceback": [
      "\u001b[1;31m---------------------------------------------------------------------------\u001b[0m",
      "\u001b[1;31mOverflowError\u001b[0m                             Traceback (most recent call last)",
      "\u001b[1;32m<ipython-input-103-8425b3874884>\u001b[0m in \u001b[0;36m<module>\u001b[1;34m\u001b[0m\n\u001b[1;32m----> 1\u001b[1;33m \u001b[0mmetodo_jacobi\u001b[0m\u001b[1;33m(\u001b[0m\u001b[0mA2\u001b[0m\u001b[1;33m,\u001b[0m \u001b[0mB2\u001b[0m\u001b[1;33m)\u001b[0m\u001b[1;33m\u001b[0m\u001b[1;33m\u001b[0m\u001b[0m\n\u001b[0m",
      "\u001b[1;32m<ipython-input-98-26e5193526db>\u001b[0m in \u001b[0;36mmetodo_jacobi\u001b[1;34m(A, B)\u001b[0m\n\u001b[0;32m     17\u001b[0m         \u001b[0mX1\u001b[0m \u001b[1;33m=\u001b[0m \u001b[0mMmul_vector\u001b[0m\u001b[1;33m(\u001b[0m\u001b[0mDinv\u001b[0m\u001b[1;33m,\u001b[0m \u001b[0mB_TX0\u001b[0m\u001b[1;33m)\u001b[0m\u001b[1;33m\u001b[0m\u001b[1;33m\u001b[0m\u001b[0m\n\u001b[0;32m     18\u001b[0m         \u001b[0mpaso\u001b[0m \u001b[1;33m+=\u001b[0m \u001b[1;36m1\u001b[0m\u001b[1;33m\u001b[0m\u001b[1;33m\u001b[0m\u001b[0m\n\u001b[1;32m---> 19\u001b[1;33m         \u001b[1;32mif\u001b[0m \u001b[0mdis_punto\u001b[0m\u001b[1;33m(\u001b[0m\u001b[0mX1\u001b[0m\u001b[1;33m,\u001b[0m \u001b[0mX0\u001b[0m\u001b[1;33m)\u001b[0m \u001b[1;33m<\u001b[0m \u001b[0mtoler\u001b[0m\u001b[1;33m:\u001b[0m\u001b[1;33m\u001b[0m\u001b[1;33m\u001b[0m\u001b[0m\n\u001b[0m\u001b[0;32m     20\u001b[0m             \u001b[0mprint\u001b[0m\u001b[1;33m(\u001b[0m\u001b[1;34mf\"Se hicieron {paso} iteraciones\"\u001b[0m\u001b[1;33m)\u001b[0m\u001b[1;33m\u001b[0m\u001b[1;33m\u001b[0m\u001b[0m\n\u001b[0;32m     21\u001b[0m             \u001b[1;32mbreak\u001b[0m\u001b[1;33m\u001b[0m\u001b[1;33m\u001b[0m\u001b[0m\n",
      "\u001b[1;32m<ipython-input-94-020775ebfb1e>\u001b[0m in \u001b[0;36mdis_punto\u001b[1;34m(M, N)\u001b[0m\n\u001b[0;32m      9\u001b[0m     \u001b[0mdist_2\u001b[0m \u001b[1;33m=\u001b[0m \u001b[1;36m0\u001b[0m  \u001b[1;31m# Espacio de memoria.\u001b[0m\u001b[1;33m\u001b[0m\u001b[1;33m\u001b[0m\u001b[0m\n\u001b[0;32m     10\u001b[0m     \u001b[1;32mfor\u001b[0m \u001b[0mi\u001b[0m \u001b[1;32min\u001b[0m \u001b[0mrange\u001b[0m\u001b[1;33m(\u001b[0m\u001b[0mn\u001b[0m\u001b[1;33m)\u001b[0m\u001b[1;33m:\u001b[0m\u001b[1;33m\u001b[0m\u001b[1;33m\u001b[0m\u001b[0m\n\u001b[1;32m---> 11\u001b[1;33m         \u001b[0mdist_2\u001b[0m \u001b[1;33m+=\u001b[0m \u001b[1;33m(\u001b[0m\u001b[0mM\u001b[0m\u001b[1;33m[\u001b[0m\u001b[0mi\u001b[0m\u001b[1;33m]\u001b[0m\u001b[1;33m-\u001b[0m\u001b[0mN\u001b[0m\u001b[1;33m[\u001b[0m\u001b[0mi\u001b[0m\u001b[1;33m]\u001b[0m\u001b[1;33m)\u001b[0m\u001b[1;33m**\u001b[0m\u001b[1;36m2\u001b[0m\u001b[1;33m\u001b[0m\u001b[1;33m\u001b[0m\u001b[0m\n\u001b[0m\u001b[0;32m     12\u001b[0m     \u001b[0mdist\u001b[0m \u001b[1;33m=\u001b[0m \u001b[1;33m(\u001b[0m\u001b[0mdist_2\u001b[0m\u001b[1;33m)\u001b[0m\u001b[1;33m**\u001b[0m\u001b[1;36m0.5\u001b[0m\u001b[1;33m\u001b[0m\u001b[1;33m\u001b[0m\u001b[0m\n\u001b[0;32m     13\u001b[0m \u001b[1;33m\u001b[0m\u001b[0m\n",
      "\u001b[1;31mOverflowError\u001b[0m: (34, 'Result too large')"
     ]
    }
   ],
   "source": [
    "metodo_jacobi(A2, B2)\n"
   ]
  },
  {
   "cell_type": "markdown",
   "id": "4c08c8e3",
   "metadata": {},
   "source": [
    "¿Qué ocurrió?"
   ]
  },
  {
   "cell_type": "markdown",
   "id": "2ef28ce4",
   "metadata": {},
   "source": []
  },
  {
   "cell_type": "code",
   "execution_count": 148,
   "id": "94666c21",
   "metadata": {},
   "outputs": [],
   "source": [
    "# Se plantea una mejora\n",
    "def metodo_jacobi(A, B):\n",
    "    n = len(A)\n",
    "    # Se definen las matrices constantes del método.\n",
    "    Dinv = matriz_Dinv(A)\n",
    "    T = matriz_T(A)\n",
    "\n",
    "    # Se define X0, para la primera iteración.\n",
    "    X0 = matriz_ceros(n, 1)[0]\n",
    "\n",
    "    toler = 0.0000000000000001\n",
    "    paso = 0\n",
    "\n",
    "    while True:\n",
    "        TX0 = Mmul_vector(T, X0)\n",
    "        B_TX0 = Mres_vector(B, TX0)\n",
    "        X1 = Mmul_vector(Dinv, B_TX0)\n",
    "        paso += 1\n",
    "        if dis_punto(X1, X0) < toler:\n",
    "            print(f\"Se hicieron {paso} iteraciones\")\n",
    "            break\n",
    "        X0 = X1\n",
    "        # Criterio de divergencia\n",
    "        if paso==100:\n",
    "            X0 = 'No converge'\n",
    "            break\n",
    "        \n",
    "\n",
    "    X = X0\n",
    "    return X"
   ]
  },
  {
   "cell_type": "code",
   "execution_count": 149,
   "id": "59f3df44",
   "metadata": {
    "scrolled": true
   },
   "outputs": [
    {
     "data": {
      "text/plain": [
       "'No converge'"
      ]
     },
     "execution_count": 149,
     "metadata": {},
     "output_type": "execute_result"
    }
   ],
   "source": [
    "A2 = [[11, 13],[11, -9]]\n",
    "B2 = [286,99]\n",
    "pivote_parcial(A2, B2)\n",
    "\n",
    "metodo_jacobi(A2, B2)"
   ]
  },
  {
   "cell_type": "code",
   "execution_count": 150,
   "id": "5eefba73",
   "metadata": {},
   "outputs": [
    {
     "data": {
      "text/plain": [
       "[[11, 13], [11, -9]]"
      ]
     },
     "execution_count": 150,
     "metadata": {},
     "output_type": "execute_result"
    }
   ],
   "source": [
    "A2"
   ]
  },
  {
   "cell_type": "code",
   "execution_count": 153,
   "id": "1da6162a",
   "metadata": {},
   "outputs": [],
   "source": [
    "A3 =[[ 10, -7, 0],[-3,  2, 6],[5, -1, 5]]\n",
    "\n",
    "B3 = [7, 4, 6]\n",
    "\n",
    "pivote_parcial(A3, B3)"
   ]
  },
  {
   "cell_type": "code",
   "execution_count": 154,
   "id": "1bd79ab7",
   "metadata": {},
   "outputs": [
    {
     "data": {
      "text/plain": [
       "'No converge'"
      ]
     },
     "execution_count": 154,
     "metadata": {},
     "output_type": "execute_result"
    }
   ],
   "source": [
    "metodo_jacobi(A3, B3)\n"
   ]
  },
  {
   "cell_type": "markdown",
   "id": "53d7d834",
   "metadata": {},
   "source": [
    "Obsérvese que, el problema $\\underline{\\underline{A}}_1.\\underline{X}=\\underline{B}_1$ tiene la misma solución que $\\underline{\\underline{A}}_2.\\underline{X}=\\underline{B}_2$, pero en un caso el método converge a una respuesta y en el otro no. ¿Qué hacer?\n",
    "\n",
    "En **Chapra (2015)** se expone que una condición **suficiente** pero **no necesaria** para garantizar la convergencia es que el elemento de la diagonal de la matriz de coeficientes constantes debe ser mayor que todo elemento fuera de la diagonal de cada fila. Esto, generalizado es: para un sistema de $n$ ecuaciones:\n",
    "\n",
    "$|a_{ii}|>\\displaystyle\\sum_{j=1\\\\\n",
    "i\\neq j}^{n}|a_{ij}|$\n",
    "\n",
    "De donde surge el concepto de [matriz dominante](https://es.wikipedia.org/wiki/Matriz_de_diagonal_estrictamente_dominante)."
   ]
  },
  {
   "cell_type": "markdown",
   "id": "9885d22c",
   "metadata": {},
   "source": [
    "#### Implementación con numpy"
   ]
  },
  {
   "cell_type": "code",
   "execution_count": 1,
   "id": "24550205",
   "metadata": {},
   "outputs": [],
   "source": [
    "import numpy as np\n",
    "A = np.array([\n",
    "              [ 3, -1, -1],\n",
    "              [-1,  3,  1],\n",
    "              [ 2,  1,  4],\n",
    "                          ])\n",
    "B = np.array([1, 3, 7])\n"
   ]
  },
  {
   "cell_type": "code",
   "execution_count": 2,
   "id": "3a2f5f48",
   "metadata": {},
   "outputs": [
    {
     "data": {
      "text/plain": [
       "array([[ 3, -1, -1],\n",
       "       [-1,  3,  1],\n",
       "       [ 2,  1,  4]])"
      ]
     },
     "execution_count": 2,
     "metadata": {},
     "output_type": "execute_result"
    }
   ],
   "source": [
    "A"
   ]
  },
  {
   "cell_type": "code",
   "execution_count": 162,
   "id": "4f03a7b5",
   "metadata": {},
   "outputs": [],
   "source": [
    "D = np.diag(np.diag(A))\n"
   ]
  },
  {
   "cell_type": "code",
   "execution_count": 163,
   "id": "7cfc5fcc",
   "metadata": {
    "scrolled": true
   },
   "outputs": [
    {
     "data": {
      "text/plain": [
       "array([[3, 0, 0],\n",
       "       [0, 3, 0],\n",
       "       [0, 0, 4]])"
      ]
     },
     "execution_count": 163,
     "metadata": {},
     "output_type": "execute_result"
    }
   ],
   "source": [
    "D\n"
   ]
  },
  {
   "cell_type": "code",
   "execution_count": 164,
   "id": "587bf8f1",
   "metadata": {},
   "outputs": [],
   "source": [
    "T = A-D\n"
   ]
  },
  {
   "cell_type": "code",
   "execution_count": 165,
   "id": "ba0ca694",
   "metadata": {
    "scrolled": true
   },
   "outputs": [
    {
     "data": {
      "text/plain": [
       "array([[ 0, -1, -1],\n",
       "       [-1,  0,  1],\n",
       "       [ 2,  1,  0]])"
      ]
     },
     "execution_count": 165,
     "metadata": {},
     "output_type": "execute_result"
    }
   ],
   "source": [
    "T\n"
   ]
  },
  {
   "cell_type": "code",
   "execution_count": 167,
   "id": "cac758c4",
   "metadata": {},
   "outputs": [],
   "source": [
    "Dinv = np.diag(1/np.diag(A))  # Esto no es lo mismo que la inversa.\n"
   ]
  },
  {
   "cell_type": "markdown",
   "id": "355026de",
   "metadata": {},
   "source": [
    "Dinv\n"
   ]
  },
  {
   "cell_type": "code",
   "execution_count": 173,
   "id": "10e9d233",
   "metadata": {},
   "outputs": [
    {
     "data": {
      "text/plain": [
       "array([0., 0., 0.])"
      ]
     },
     "execution_count": 173,
     "metadata": {},
     "output_type": "execute_result"
    }
   ],
   "source": [
    "np.zeros(3)"
   ]
  },
  {
   "cell_type": "code",
   "execution_count": 174,
   "id": "18ddc9ca",
   "metadata": {},
   "outputs": [],
   "source": [
    "# Se plantea una mejora\n",
    "def metodo_jacobi_np(A, B):\n",
    "    n = len(A)\n",
    "    # Se definen las matrices constantes del método.\n",
    "    D = np.diag(np.diag(A))\n",
    "    Dinv = np.diag(1/np.diag(A))\n",
    "    T = A-D\n",
    "    # Se define X0, para la primera iteración.\n",
    "    X0 = np.zeros(n)\n",
    "\n",
    "    toler = 0.0000000000000001\n",
    "    paso = 0\n",
    "\n",
    "    while True:\n",
    "        TX0 = T@X0\n",
    "        B_TX0 = B-TX0\n",
    "        X1 = Dinv@B_TX0\n",
    "        paso += 1\n",
    "        if dis_punto(X1, X0) < toler:\n",
    "            print(f\"Se hicieron {paso} iteraciones\")\n",
    "            break\n",
    "        X0 = X1\n",
    "        # Criterio de divergencia\n",
    "        if paso==100:\n",
    "            X0 = 'No converge'\n",
    "            break\n",
    "        \n",
    "\n",
    "    X = X0\n",
    "    return X"
   ]
  },
  {
   "cell_type": "code",
   "execution_count": 175,
   "id": "afafd8c1",
   "metadata": {},
   "outputs": [
    {
     "name": "stdout",
     "output_type": "stream",
     "text": [
      "Se hicieron 36 iteraciones\n"
     ]
    },
    {
     "data": {
      "text/plain": [
       "array([1., 1., 1.])"
      ]
     },
     "execution_count": 175,
     "metadata": {},
     "output_type": "execute_result"
    }
   ],
   "source": [
    "metodo_jacobi_np(A, B)"
   ]
  },
  {
   "cell_type": "markdown",
   "id": "431e9dbe",
   "metadata": {},
   "source": [
    "### Método de Gauss-Seidel"
   ]
  },
  {
   "cell_type": "markdown",
   "id": "ac1be23c",
   "metadata": {},
   "source": [
    "#### Construcción del método"
   ]
  },
  {
   "cell_type": "markdown",
   "id": "4167ec30",
   "metadata": {},
   "source": [
    "#### Síntesis del método"
   ]
  },
  {
   "cell_type": "code",
   "execution_count": null,
   "id": "d828b21c",
   "metadata": {},
   "outputs": [],
   "source": []
  }
 ],
 "metadata": {
  "kernelspec": {
   "display_name": "Python 3",
   "language": "python",
   "name": "python3"
  },
  "language_info": {
   "codemirror_mode": {
    "name": "ipython",
    "version": 3
   },
   "file_extension": ".py",
   "mimetype": "text/x-python",
   "name": "python",
   "nbconvert_exporter": "python",
   "pygments_lexer": "ipython3",
   "version": "3.8.8"
  }
 },
 "nbformat": 4,
 "nbformat_minor": 5
}
