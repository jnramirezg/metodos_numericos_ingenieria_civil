{
 "cells": [
  {
   "cell_type": "markdown",
   "id": "85f46606",
   "metadata": {},
   "source": [
    "# 4101553 Métodos Numéricos aplicados a la Ingenieria Civil\n",
    "Departamento de Ingeniería Civil\\\n",
    "Universidad Nacional de Colombia\\\n",
    "Sede Manizales\n",
    "\n",
    "**Docente:** Juan Nicolás Ramírez Giraldo ([jnramirezg@unal.edu.co](mailto:jnramirezg@unal.edu.co))\n",
    "\n",
    "\"*Cum cogitaveris quot te antecedant, respice quot sequantur*\"\\\n",
    "**Séneca**\n",
    "\n",
    "\n",
    "[Repositorio de la asignatura](https://github.com/jnramirezg/metodos_numericos_ingenieria_civil/)\n",
    "\n"
   ]
  },
  {
   "cell_type": "markdown",
   "id": "e0ad6102",
   "metadata": {},
   "source": [
    "# Unidad 1: Sistemas de ecuaciones lineales\n",
    "## Sistemas de ecuaciones pequeños\n",
    "\n",
    "1. Método gráfico\n",
    "2. Regla de Cramer\n"
   ]
  },
  {
   "cell_type": "markdown",
   "id": "df025b3a",
   "metadata": {},
   "source": [
    "### Método gráfico\n",
    "Es la forma elemental de solución de ecuaciones, es el primer sistema de ecuaciones que se aprende a resolver. Tiene la forma general:\n",
    "\n",
    "$a x + b y = c$\\\n",
    "$d x + e y = f$\n"
   ]
  },
  {
   "cell_type": "markdown",
   "id": "01f2d8eb",
   "metadata": {},
   "source": [
    "Previamente se mostrará cómo graficar en Python con el módulo matplotlib.\n",
    "\n",
    "En la página de [Matplotlib](https://matplotlib.org/) se puede encontrar bastante información."
   ]
  },
  {
   "cell_type": "code",
   "execution_count": 1,
   "id": "7fddcac2",
   "metadata": {},
   "outputs": [],
   "source": [
    "# Para los primeros pasos de este notebook se requieren importar\n",
    "\n",
    "# Importación de librerías.\n",
    "import matplotlib.pyplot as plt\n",
    "import numpy as np\n"
   ]
  },
  {
   "cell_type": "markdown",
   "id": "77ec3fec",
   "metadata": {},
   "source": [
    "Si se quieren graficar estas dos rectas que se cortan:\n",
    "\n",
    "$y_1 = \\frac{18 - 3x_1}{2}$\n",
    "\n",
    "$y_2 = \\frac{2 + x_2}{2}$    "
   ]
  },
  {
   "cell_type": "code",
   "execution_count": 2,
   "id": "3262eea1",
   "metadata": {
    "scrolled": true
   },
   "outputs": [
    {
     "data": {
      "text/plain": [
       "array([ 0,  5, 10])"
      ]
     },
     "execution_count": 2,
     "metadata": {},
     "output_type": "execute_result"
    }
   ],
   "source": [
    "np.array([0, 5, 10])"
   ]
  },
  {
   "cell_type": "code",
   "execution_count": 3,
   "id": "811dd05d",
   "metadata": {},
   "outputs": [],
   "source": [
    "x = np.array([0, 2, 5, 7, 10])  # Definición de puntos de evaluación."
   ]
  },
  {
   "cell_type": "code",
   "execution_count": 4,
   "id": "249b0c8e",
   "metadata": {
    "scrolled": true
   },
   "outputs": [],
   "source": [
    "y1 = (18 - 3*x)/2      # Ecuación 1.\n"
   ]
  },
  {
   "cell_type": "code",
   "execution_count": 5,
   "id": "67fda109",
   "metadata": {},
   "outputs": [
    {
     "data": {
      "text/plain": [
       "array([ 9. ,  6. ,  1.5, -1.5, -6. ])"
      ]
     },
     "execution_count": 5,
     "metadata": {},
     "output_type": "execute_result"
    }
   ],
   "source": [
    "y1\n"
   ]
  },
  {
   "cell_type": "code",
   "execution_count": 6,
   "id": "dcc2d561",
   "metadata": {},
   "outputs": [],
   "source": [
    "y2 = (2 + 1*x)/2       # Ecuación 2.\n"
   ]
  },
  {
   "cell_type": "code",
   "execution_count": 7,
   "id": "34e0f16d",
   "metadata": {},
   "outputs": [
    {
     "data": {
      "text/plain": [
       "array([1. , 2. , 3.5, 4.5, 6. ])"
      ]
     },
     "execution_count": 7,
     "metadata": {},
     "output_type": "execute_result"
    }
   ],
   "source": [
    "y2\n"
   ]
  },
  {
   "cell_type": "code",
   "execution_count": 8,
   "id": "3796bf64",
   "metadata": {},
   "outputs": [
    {
     "data": {
      "image/png": "[encoded data removed]",
      "text/plain": [
       "<Figure size 432x288 with 1 Axes>"
      ]
     },
     "metadata": {
      "needs_background": "light"
     },
     "output_type": "display_data"
    }
   ],
   "source": [
    "# Gráfica\n",
    "plt.figure()                    # Las gráficas siempre inician con este comando\n",
    "plt.plot(x, y1, label='ec. 1')  # Grafica la primera recta\n",
    "plt.plot(x, y2, label='ec. 2')  # Grafica la segunda recta\n",
    "plt.legend()                    # Muestra leyendas\n",
    "plt.grid()                      # Muestra grilla\n",
    "plt.show()                      # Imprime la gráfica\n"
   ]
  },
  {
   "cell_type": "markdown",
   "id": "205388fe",
   "metadata": {},
   "source": [
    "Ver: [01-grafica_basica.py](https://github.com/jnramirezg/metodos_numericos_ingenieria_civil/blob/main/codigo/01-grafica_basica.py)"
   ]
  },
  {
   "cell_type": "markdown",
   "id": "c0274028",
   "metadata": {},
   "source": [
    "**Implementándolo como una función**"
   ]
  },
  {
   "cell_type": "markdown",
   "id": "e095f2d0",
   "metadata": {},
   "source": [
    "Se puede implementar una función para resolver gráficamente cualquier sistema de 2x2 como este:\n",
    "\n",
    "De la ecuación general de las rectas:\n",
    "\n",
    "$ax + by = c$\n",
    "\n",
    "$dx + ey = f$\n",
    "\n",
    "Se despeja la $y$, de tal manera que:\n",
    "\n",
    "$y_1 = \\frac{c - ax}{b}$\n",
    "\n",
    "$y_2 = \\frac{f - dx}{e}$  "
   ]
  },
  {
   "cell_type": "code",
   "execution_count": 9,
   "id": "2a23f1ad",
   "metadata": {},
   "outputs": [],
   "source": [
    "# Importación de librerías.\n",
    "import matplotlib.pyplot as plt\n",
    "import numpy as np\n",
    "\n",
    "def graficar_rectas(a, b, c, d, e, f):\n",
    "    ''' \n",
    "        Grafica dos rectas a partir de los parámetros a, b, c, d, e, f.\n",
    "        Donde:\n",
    "        ax + by = c\n",
    "        dx + ey = f\n",
    "    '''\n",
    "    x = np.array([0, 10])  # Definición de puntos de evaluación.\n",
    "    y1 = (c - a*x)/b\n",
    "    y2 = (f - d*x)/e\n",
    "    \n",
    "    plt.figure()\n",
    "    plt.plot(x, y1, label=f\"{a}$x$+{b}$y$={c}\")  # Grafica la primera recta\n",
    "    plt.plot(x, y2, label=f\"{d}$x$+{e}$y$={f}\")  # Grafica la segunda recta\n",
    "    plt.legend()  # Muestra leyendas\n",
    "    plt.grid()    # Muestra grilla\n",
    "    plt.show()    # Imprime la gráfica\n"
   ]
  },
  {
   "cell_type": "markdown",
   "id": "41026048",
   "metadata": {},
   "source": [
    "Con este método se pueden identificar 4 posibles tipos de resultados:\n",
    "- Sistema con una única solución.\n",
    "- Sistema sin solución.\n",
    "- Sistema con infinitas soluciones.\n",
    "- Sistema mal condicionado.\n",
    "\n",
    "**Nota**: Los ejemplos fueron adaptados de la sección 9.1.1. de Chapra séptima edición."
   ]
  },
  {
   "cell_type": "code",
   "execution_count": 10,
   "id": "412e449c",
   "metadata": {},
   "outputs": [],
   "source": [
    "# Sistema con una única solución\n",
    "\n",
    "# Primera ecuación\n",
    "a = 3\n",
    "b = 2 \n",
    "c = 18\n",
    "# Segunda ecuación\n",
    "d = -1\n",
    "e =  2\n",
    "f =  2\n"
   ]
  },
  {
   "cell_type": "code",
   "execution_count": 11,
   "id": "94bd5cc3",
   "metadata": {},
   "outputs": [
    {
     "data": {
      "image/png": "[encoded data removed]",
      "text/plain": [
       "<Figure size 432x288 with 1 Axes>"
      ]
     },
     "metadata": {
      "needs_background": "light"
     },
     "output_type": "display_data"
    }
   ],
   "source": [
    "graficar_rectas(a, b, c, d, e, f)\n"
   ]
  },
  {
   "cell_type": "code",
   "execution_count": 12,
   "id": "13cdfe35",
   "metadata": {},
   "outputs": [
    {
     "data": {
      "image/png": "[encoded data removed]",
      "text/plain": [
       "<Figure size 432x288 with 1 Axes>"
      ]
     },
     "metadata": {
      "needs_background": "light"
     },
     "output_type": "display_data"
    }
   ],
   "source": [
    "# Sistema sin solución.\n",
    "\n",
    "# Primera ecuación\n",
    "a = -1\n",
    "b =  2 \n",
    "c =  2\n",
    "# Segunda ecuación\n",
    "d = -1\n",
    "e =  2\n",
    "f =  1\n",
    "\n",
    "graficar_rectas(a, b, c, d, e, f)\n"
   ]
  },
  {
   "cell_type": "code",
   "execution_count": 13,
   "id": "2f361bb0",
   "metadata": {
    "scrolled": true
   },
   "outputs": [
    {
     "data": {
      "image/png": "[encoded data removed]",
      "text/plain": [
       "<Figure size 432x288 with 1 Axes>"
      ]
     },
     "metadata": {
      "needs_background": "light"
     },
     "output_type": "display_data"
    }
   ],
   "source": [
    "# Sistema con infinitas soluciones.\n",
    "\n",
    "# Primera ecuación\n",
    "a = -1\n",
    "b =  2 \n",
    "c =  2\n",
    "# Segunda ecuación\n",
    "d = -2\n",
    "e =  4\n",
    "f =  4\n",
    "\n",
    "graficar_rectas(a, b, c, d, e, f)\n"
   ]
  },
  {
   "cell_type": "code",
   "execution_count": 14,
   "id": "e9e7fd57",
   "metadata": {
    "scrolled": true
   },
   "outputs": [
    {
     "data": {
      "image/png": "[encoded data removed]",
      "text/plain": [
       "<Figure size 432x288 with 1 Axes>"
      ]
     },
     "metadata": {
      "needs_background": "light"
     },
     "output_type": "display_data"
    }
   ],
   "source": [
    "# Sistema mal condicionado.\n",
    "\n",
    "# Primera ecuación\n",
    "a = -2.4/5\n",
    "b =  1 \n",
    "c =  1.1\n",
    "# Segunda ecuación\n",
    "d = -1/2\n",
    "e =  1\n",
    "f =  1\n",
    "\n",
    "graficar_rectas(a, b, c, d, e, f)\n"
   ]
  },
  {
   "cell_type": "markdown",
   "id": "7fe158e0",
   "metadata": {},
   "source": [
    "¿Qué ocurre si se sistematiza la solución de este tipo de sistema de ecuaciones 2x2?\n",
    "\n",
    "$a x + b y = c$   (1)\\\n",
    "$d x + e y = f$   (2)\n",
    "\n",
    "De (1) se despeja x y se reemplaza en (2):\\\n",
    "$x = \\frac{c - b y}{a}$\n",
    "\n",
    "Obteniendo:\\\n",
    "$d (\\frac{c - b y}{a}) + e y = f$\n",
    "\n",
    "Se despeja $y$:\\\n",
    "$y_{sol}=\\frac{a f - c d}{a e - bd}$\n",
    "\n",
    "Luego, reemplazando $y_{sol}$ en (1), se obtiene:\n",
    "$x_{sol}=\\frac{c e - bf}{a e - bd}$\n"
   ]
  },
  {
   "cell_type": "code",
   "execution_count": 15,
   "id": "e43df6af",
   "metadata": {
    "scrolled": true
   },
   "outputs": [],
   "source": [
    "# NO ES NECESARIO APRENDER NADA DE ESTAS LÍNEAS POR EL MOMENTO\n",
    "# El procedimiento matemático anterior se puede hacer con el siguiente código.\n",
    "import sympy as sp\n"
   ]
  },
  {
   "cell_type": "code",
   "execution_count": 16,
   "id": "111f1f2d",
   "metadata": {},
   "outputs": [],
   "source": [
    "x, y, a, b, c, d, e, f = sp.symbols('x, y, a, b, c, d, e, f')\n"
   ]
  },
  {
   "cell_type": "code",
   "execution_count": 17,
   "id": "7856a9a7",
   "metadata": {},
   "outputs": [],
   "source": [
    "# Estas dos líneas hacen lo mismo que la anterior, para los dos primeras variables.\n",
    "x = sp.symbols('x')\n",
    "y = sp.symbols('y')\n"
   ]
  },
  {
   "cell_type": "code",
   "execution_count": 18,
   "id": "6e27c048",
   "metadata": {},
   "outputs": [],
   "source": [
    "# Se presentan las ecuaciones igualadas a cero.\n",
    "ec_1 = a*x + b*y -c\n",
    "ec_2 = d*x + e*y -f\n"
   ]
  },
  {
   "cell_type": "code",
   "execution_count": 19,
   "id": "2ce422b6",
   "metadata": {},
   "outputs": [],
   "source": [
    "x_1 = sp.solve(ec_1, x)[0]    # Se despeja de la ec_1 la variable x, se pone [0] porque se llama la primera solución.\n",
    "ec_2 = ec_2.subs(x, x_1)      # Se sustituye en la ecuación ec_2 el valor de x por el obtenido en x_1.\n",
    "y_sol = sp.solve(ec_2, y)[0]  # Se despeja de la nueva ecuación ec_2 el valor de y (el itercepto en y).\n"
   ]
  },
  {
   "cell_type": "code",
   "execution_count": 20,
   "id": "5a155cc9",
   "metadata": {},
   "outputs": [],
   "source": [
    "# Para hallar el intercepto en x, solo se debe sustituir en la ecuación ec_1 con \n",
    "# el intercepto en y hallado, y despejar.\n",
    "x_sol = sp.solve(ec_1.subs(y, y_sol), x)[0]\n"
   ]
  },
  {
   "cell_type": "code",
   "execution_count": 21,
   "id": "28b843ce",
   "metadata": {
    "scrolled": true
   },
   "outputs": [
    {
     "data": {
      "text/latex": [
       "$\\displaystyle \\frac{- b f + c e}{a e - b d}$"
      ],
      "text/plain": [
       "(-b*f + c*e)/(a*e - b*d)"
      ]
     },
     "execution_count": 21,
     "metadata": {},
     "output_type": "execute_result"
    }
   ],
   "source": [
    "x_sol  # Punto en x de la solución 2x2.\n"
   ]
  },
  {
   "cell_type": "code",
   "execution_count": 22,
   "id": "98fbfc5a",
   "metadata": {
    "scrolled": true
   },
   "outputs": [
    {
     "data": {
      "text/latex": [
       "$\\displaystyle \\frac{a f - c d}{a e - b d}$"
      ],
      "text/plain": [
       "(a*f - c*d)/(a*e - b*d)"
      ]
     },
     "execution_count": 22,
     "metadata": {},
     "output_type": "execute_result"
    }
   ],
   "source": [
    "y_sol  # Punto en y de la solución 2x2.\n"
   ]
  },
  {
   "cell_type": "markdown",
   "id": "951fc7a4",
   "metadata": {},
   "source": [
    "Teniendo en cuenta esto, qué ocurre si se crea una función que arroje esta solución:\n",
    "\n"
   ]
  },
  {
   "cell_type": "code",
   "execution_count": 23,
   "id": "04f51d53",
   "metadata": {},
   "outputs": [],
   "source": [
    "def sol_2x2(a, b, c, d, e, f):\n",
    "    '''\n",
    "        Solucionador básico de ecuaciones 2x2 a partir de los parámetros a, b, c, d, e, f.\n",
    "        Donde:\n",
    "        ax + by = c\n",
    "        dx + ey = f\n",
    "    '''\n",
    "    x = (-b*f + c*e)/(a*e - b*d)  # Solución de x obtenida a mano.\n",
    "    y = (a*f - c*d)/(a*e - b*d)   # Solución de y obtenida a mano.\n",
    "    \n",
    "    return x, y\n"
   ]
  },
  {
   "cell_type": "code",
   "execution_count": 24,
   "id": "c5b849a5",
   "metadata": {},
   "outputs": [
    {
     "data": {
      "text/plain": [
       "(4.0, 3.0)"
      ]
     },
     "execution_count": 24,
     "metadata": {},
     "output_type": "execute_result"
    }
   ],
   "source": [
    "# Sistema con una única solución\n",
    "# Primera ecuación\n",
    "a = 3\n",
    "b = 2 \n",
    "c = 18\n",
    "# Segunda ecuación\n",
    "d = -1\n",
    "e =  2\n",
    "f =  2\n",
    "\n",
    "sol_2x2(a, b, c, d, e, f)\n"
   ]
  },
  {
   "cell_type": "code",
   "execution_count": 25,
   "id": "dfd45bfa",
   "metadata": {
    "scrolled": true
   },
   "outputs": [
    {
     "ename": "ZeroDivisionError",
     "evalue": "division by zero",
     "output_type": "error",
     "traceback": [
      "\u001b[1;31m---------------------------------------------------------------------------\u001b[0m",
      "\u001b[1;31mZeroDivisionError\u001b[0m                         Traceback (most recent call last)",
      "\u001b[1;32m<ipython-input-25-ccd243862b4a>\u001b[0m in \u001b[0;36m<module>\u001b[1;34m\u001b[0m\n\u001b[0;32m     10\u001b[0m \u001b[0mf\u001b[0m \u001b[1;33m=\u001b[0m  \u001b[1;36m1\u001b[0m\u001b[1;33m\u001b[0m\u001b[1;33m\u001b[0m\u001b[0m\n\u001b[0;32m     11\u001b[0m \u001b[1;33m\u001b[0m\u001b[0m\n\u001b[1;32m---> 12\u001b[1;33m \u001b[0msol_2x2\u001b[0m\u001b[1;33m(\u001b[0m\u001b[0ma\u001b[0m\u001b[1;33m,\u001b[0m \u001b[0mb\u001b[0m\u001b[1;33m,\u001b[0m \u001b[0mc\u001b[0m\u001b[1;33m,\u001b[0m \u001b[0md\u001b[0m\u001b[1;33m,\u001b[0m \u001b[0me\u001b[0m\u001b[1;33m,\u001b[0m \u001b[0mf\u001b[0m\u001b[1;33m)\u001b[0m\u001b[1;33m\u001b[0m\u001b[1;33m\u001b[0m\u001b[0m\n\u001b[0m",
      "\u001b[1;32m<ipython-input-23-3bebafa90f95>\u001b[0m in \u001b[0;36msol_2x2\u001b[1;34m(a, b, c, d, e, f)\u001b[0m\n\u001b[0;32m      6\u001b[0m         \u001b[0mdx\u001b[0m \u001b[1;33m+\u001b[0m \u001b[0mey\u001b[0m \u001b[1;33m=\u001b[0m \u001b[0mf\u001b[0m\u001b[1;33m\u001b[0m\u001b[1;33m\u001b[0m\u001b[0m\n\u001b[0;32m      7\u001b[0m     '''\n\u001b[1;32m----> 8\u001b[1;33m     \u001b[0mx\u001b[0m \u001b[1;33m=\u001b[0m \u001b[1;33m(\u001b[0m\u001b[1;33m-\u001b[0m\u001b[0mb\u001b[0m\u001b[1;33m*\u001b[0m\u001b[0mf\u001b[0m \u001b[1;33m+\u001b[0m \u001b[0mc\u001b[0m\u001b[1;33m*\u001b[0m\u001b[0me\u001b[0m\u001b[1;33m)\u001b[0m\u001b[1;33m/\u001b[0m\u001b[1;33m(\u001b[0m\u001b[0ma\u001b[0m\u001b[1;33m*\u001b[0m\u001b[0me\u001b[0m \u001b[1;33m-\u001b[0m \u001b[0mb\u001b[0m\u001b[1;33m*\u001b[0m\u001b[0md\u001b[0m\u001b[1;33m)\u001b[0m  \u001b[1;31m# Solución de x obtenida a mano.\u001b[0m\u001b[1;33m\u001b[0m\u001b[1;33m\u001b[0m\u001b[0m\n\u001b[0m\u001b[0;32m      9\u001b[0m     \u001b[0my\u001b[0m \u001b[1;33m=\u001b[0m \u001b[1;33m(\u001b[0m\u001b[0ma\u001b[0m\u001b[1;33m*\u001b[0m\u001b[0mf\u001b[0m \u001b[1;33m-\u001b[0m \u001b[0mc\u001b[0m\u001b[1;33m*\u001b[0m\u001b[0md\u001b[0m\u001b[1;33m)\u001b[0m\u001b[1;33m/\u001b[0m\u001b[1;33m(\u001b[0m\u001b[0ma\u001b[0m\u001b[1;33m*\u001b[0m\u001b[0me\u001b[0m \u001b[1;33m-\u001b[0m \u001b[0mb\u001b[0m\u001b[1;33m*\u001b[0m\u001b[0md\u001b[0m\u001b[1;33m)\u001b[0m   \u001b[1;31m# Solución de y obtenida a mano.\u001b[0m\u001b[1;33m\u001b[0m\u001b[1;33m\u001b[0m\u001b[0m\n\u001b[0;32m     10\u001b[0m \u001b[1;33m\u001b[0m\u001b[0m\n",
      "\u001b[1;31mZeroDivisionError\u001b[0m: division by zero"
     ]
    }
   ],
   "source": [
    "# Sistema sin solución.\n",
    "# ¿Qué resultado saldrá? Si es error ¿cuál?\n",
    "# Primera ecuación\n",
    "a = -1\n",
    "b =  2 \n",
    "c =  2\n",
    "# Segunda ecuación\n",
    "d = -1\n",
    "e =  2\n",
    "f =  1\n",
    "\n",
    "sol_2x2(a, b, c, d, e, f)\n"
   ]
  },
  {
   "cell_type": "code",
   "execution_count": null,
   "id": "8dd2da1e",
   "metadata": {},
   "outputs": [],
   "source": [
    "#x = (-b*f + c*e)/(a*e - b*d)  # Solución de x obtenida a mano.\n",
    "#y = (a*f - c*d)/(a*e - b*d)   # Solución de y obtenida a mano.\n",
    "\n"
   ]
  },
  {
   "cell_type": "code",
   "execution_count": 26,
   "id": "ceaff276",
   "metadata": {},
   "outputs": [
    {
     "data": {
      "text/plain": [
       "0"
      ]
     },
     "execution_count": 26,
     "metadata": {},
     "output_type": "execute_result"
    }
   ],
   "source": [
    "# Denominador: Sin solución\n",
    "(a*e - b*d)\n"
   ]
  },
  {
   "cell_type": "code",
   "execution_count": 27,
   "id": "fda4fd75",
   "metadata": {},
   "outputs": [
    {
     "data": {
      "text/plain": [
       "2"
      ]
     },
     "execution_count": 27,
     "metadata": {},
     "output_type": "execute_result"
    }
   ],
   "source": [
    "# Numerador 1: Sin solución\n",
    "(-b*f + c*e)\n"
   ]
  },
  {
   "cell_type": "code",
   "execution_count": 28,
   "id": "33659121",
   "metadata": {},
   "outputs": [
    {
     "data": {
      "text/plain": [
       "1"
      ]
     },
     "execution_count": 28,
     "metadata": {},
     "output_type": "execute_result"
    }
   ],
   "source": [
    "# Numerador 2: Sin solución\n",
    "(a*f - c*d)\n"
   ]
  },
  {
   "cell_type": "code",
   "execution_count": 29,
   "id": "b643838a",
   "metadata": {
    "scrolled": true
   },
   "outputs": [
    {
     "ename": "ZeroDivisionError",
     "evalue": "division by zero",
     "output_type": "error",
     "traceback": [
      "\u001b[1;31m---------------------------------------------------------------------------\u001b[0m",
      "\u001b[1;31mZeroDivisionError\u001b[0m                         Traceback (most recent call last)",
      "\u001b[1;32m<ipython-input-29-8c969490ca91>\u001b[0m in \u001b[0;36m<module>\u001b[1;34m\u001b[0m\n\u001b[0;32m     10\u001b[0m \u001b[0mf\u001b[0m \u001b[1;33m=\u001b[0m  \u001b[1;36m4\u001b[0m\u001b[1;33m\u001b[0m\u001b[1;33m\u001b[0m\u001b[0m\n\u001b[0;32m     11\u001b[0m \u001b[1;33m\u001b[0m\u001b[0m\n\u001b[1;32m---> 12\u001b[1;33m \u001b[0msol_2x2\u001b[0m\u001b[1;33m(\u001b[0m\u001b[0ma\u001b[0m\u001b[1;33m,\u001b[0m \u001b[0mb\u001b[0m\u001b[1;33m,\u001b[0m \u001b[0mc\u001b[0m\u001b[1;33m,\u001b[0m \u001b[0md\u001b[0m\u001b[1;33m,\u001b[0m \u001b[0me\u001b[0m\u001b[1;33m,\u001b[0m \u001b[0mf\u001b[0m\u001b[1;33m)\u001b[0m\u001b[1;33m\u001b[0m\u001b[1;33m\u001b[0m\u001b[0m\n\u001b[0m",
      "\u001b[1;32m<ipython-input-23-3bebafa90f95>\u001b[0m in \u001b[0;36msol_2x2\u001b[1;34m(a, b, c, d, e, f)\u001b[0m\n\u001b[0;32m      6\u001b[0m         \u001b[0mdx\u001b[0m \u001b[1;33m+\u001b[0m \u001b[0mey\u001b[0m \u001b[1;33m=\u001b[0m \u001b[0mf\u001b[0m\u001b[1;33m\u001b[0m\u001b[1;33m\u001b[0m\u001b[0m\n\u001b[0;32m      7\u001b[0m     '''\n\u001b[1;32m----> 8\u001b[1;33m     \u001b[0mx\u001b[0m \u001b[1;33m=\u001b[0m \u001b[1;33m(\u001b[0m\u001b[1;33m-\u001b[0m\u001b[0mb\u001b[0m\u001b[1;33m*\u001b[0m\u001b[0mf\u001b[0m \u001b[1;33m+\u001b[0m \u001b[0mc\u001b[0m\u001b[1;33m*\u001b[0m\u001b[0me\u001b[0m\u001b[1;33m)\u001b[0m\u001b[1;33m/\u001b[0m\u001b[1;33m(\u001b[0m\u001b[0ma\u001b[0m\u001b[1;33m*\u001b[0m\u001b[0me\u001b[0m \u001b[1;33m-\u001b[0m \u001b[0mb\u001b[0m\u001b[1;33m*\u001b[0m\u001b[0md\u001b[0m\u001b[1;33m)\u001b[0m  \u001b[1;31m# Solución de x obtenida a mano.\u001b[0m\u001b[1;33m\u001b[0m\u001b[1;33m\u001b[0m\u001b[0m\n\u001b[0m\u001b[0;32m      9\u001b[0m     \u001b[0my\u001b[0m \u001b[1;33m=\u001b[0m \u001b[1;33m(\u001b[0m\u001b[0ma\u001b[0m\u001b[1;33m*\u001b[0m\u001b[0mf\u001b[0m \u001b[1;33m-\u001b[0m \u001b[0mc\u001b[0m\u001b[1;33m*\u001b[0m\u001b[0md\u001b[0m\u001b[1;33m)\u001b[0m\u001b[1;33m/\u001b[0m\u001b[1;33m(\u001b[0m\u001b[0ma\u001b[0m\u001b[1;33m*\u001b[0m\u001b[0me\u001b[0m \u001b[1;33m-\u001b[0m \u001b[0mb\u001b[0m\u001b[1;33m*\u001b[0m\u001b[0md\u001b[0m\u001b[1;33m)\u001b[0m   \u001b[1;31m# Solución de y obtenida a mano.\u001b[0m\u001b[1;33m\u001b[0m\u001b[1;33m\u001b[0m\u001b[0m\n\u001b[0;32m     10\u001b[0m \u001b[1;33m\u001b[0m\u001b[0m\n",
      "\u001b[1;31mZeroDivisionError\u001b[0m: division by zero"
     ]
    }
   ],
   "source": [
    "# Sistema con infinitas soluciones.\n",
    "\n",
    "# Primera ecuación\n",
    "a = -1\n",
    "b =  2 \n",
    "c =  2\n",
    "# Segunda ecuación\n",
    "d = -2\n",
    "e =  4\n",
    "f =  4\n",
    "\n",
    "sol_2x2(a, b, c, d, e, f)\n"
   ]
  },
  {
   "cell_type": "code",
   "execution_count": 30,
   "id": "3d257e0e",
   "metadata": {},
   "outputs": [],
   "source": [
    "#x = (-b*f + c*e)/(a*e - b*d)  # Solución de x obtenida a mano.\n",
    "#y = (a*f - c*d)/(a*e - b*d)   # Solución de y obtenida a mano.\n"
   ]
  },
  {
   "cell_type": "code",
   "execution_count": 31,
   "id": "8a627ae6",
   "metadata": {},
   "outputs": [
    {
     "data": {
      "text/plain": [
       "0"
      ]
     },
     "execution_count": 31,
     "metadata": {},
     "output_type": "execute_result"
    }
   ],
   "source": [
    "# Denominador: infinitas soluciones.\n",
    "(a*e - b*d)\n"
   ]
  },
  {
   "cell_type": "code",
   "execution_count": 32,
   "id": "80bcc8ee",
   "metadata": {
    "scrolled": true
   },
   "outputs": [
    {
     "data": {
      "text/plain": [
       "0"
      ]
     },
     "execution_count": 32,
     "metadata": {},
     "output_type": "execute_result"
    }
   ],
   "source": [
    "# Numerador 1: infinitas soluciones.\n",
    "(-b*f + c*e)\n"
   ]
  },
  {
   "cell_type": "code",
   "execution_count": 33,
   "id": "d3c17c79",
   "metadata": {},
   "outputs": [
    {
     "data": {
      "text/plain": [
       "0"
      ]
     },
     "execution_count": 33,
     "metadata": {},
     "output_type": "execute_result"
    }
   ],
   "source": [
    "# Numerador 2: infinitas soluciones.\n",
    "(a*f - c*d)\n"
   ]
  },
  {
   "cell_type": "code",
   "execution_count": 34,
   "id": "2e1b31d7",
   "metadata": {},
   "outputs": [
    {
     "data": {
      "text/plain": [
       "(0.5405405405405406, 1.2702702702702702)"
      ]
     },
     "execution_count": 34,
     "metadata": {},
     "output_type": "execute_result"
    }
   ],
   "source": [
    "# Sistema mal condicionado v1.\n",
    "\n",
    "# Primera ecuación\n",
    "a = -2.49999999999999/5  # Qué pasa si se ponen más o menos 9.\n",
    "b =  1 \n",
    "c =  1.000000000000001    # Qué pasa si se ponen más o menos 0.\n",
    "# Segunda ecuación\n",
    "d = -1/2\n",
    "e =  1\n",
    "f =  1\n",
    "\n",
    "sol_2x2(a, b, c, d, e, f)\n"
   ]
  },
  {
   "cell_type": "code",
   "execution_count": 35,
   "id": "9fbc27dd",
   "metadata": {
    "scrolled": false
   },
   "outputs": [
    {
     "ename": "ZeroDivisionError",
     "evalue": "float division by zero",
     "output_type": "error",
     "traceback": [
      "\u001b[1;31m---------------------------------------------------------------------------\u001b[0m",
      "\u001b[1;31mZeroDivisionError\u001b[0m                         Traceback (most recent call last)",
      "\u001b[1;32m<ipython-input-35-d59759e44671>\u001b[0m in \u001b[0;36m<module>\u001b[1;34m\u001b[0m\n\u001b[0;32m     10\u001b[0m \u001b[0mf\u001b[0m \u001b[1;33m=\u001b[0m  \u001b[1;36m1\u001b[0m\u001b[1;33m\u001b[0m\u001b[1;33m\u001b[0m\u001b[0m\n\u001b[0;32m     11\u001b[0m \u001b[1;33m\u001b[0m\u001b[0m\n\u001b[1;32m---> 12\u001b[1;33m \u001b[0msol_2x2\u001b[0m\u001b[1;33m(\u001b[0m\u001b[0ma\u001b[0m\u001b[1;33m,\u001b[0m \u001b[0mb\u001b[0m\u001b[1;33m,\u001b[0m \u001b[0mc\u001b[0m\u001b[1;33m,\u001b[0m \u001b[0md\u001b[0m\u001b[1;33m,\u001b[0m \u001b[0me\u001b[0m\u001b[1;33m,\u001b[0m \u001b[0mf\u001b[0m\u001b[1;33m)\u001b[0m\u001b[1;33m\u001b[0m\u001b[1;33m\u001b[0m\u001b[0m\n\u001b[0m",
      "\u001b[1;32m<ipython-input-23-3bebafa90f95>\u001b[0m in \u001b[0;36msol_2x2\u001b[1;34m(a, b, c, d, e, f)\u001b[0m\n\u001b[0;32m      6\u001b[0m         \u001b[0mdx\u001b[0m \u001b[1;33m+\u001b[0m \u001b[0mey\u001b[0m \u001b[1;33m=\u001b[0m \u001b[0mf\u001b[0m\u001b[1;33m\u001b[0m\u001b[1;33m\u001b[0m\u001b[0m\n\u001b[0;32m      7\u001b[0m     '''\n\u001b[1;32m----> 8\u001b[1;33m     \u001b[0mx\u001b[0m \u001b[1;33m=\u001b[0m \u001b[1;33m(\u001b[0m\u001b[1;33m-\u001b[0m\u001b[0mb\u001b[0m\u001b[1;33m*\u001b[0m\u001b[0mf\u001b[0m \u001b[1;33m+\u001b[0m \u001b[0mc\u001b[0m\u001b[1;33m*\u001b[0m\u001b[0me\u001b[0m\u001b[1;33m)\u001b[0m\u001b[1;33m/\u001b[0m\u001b[1;33m(\u001b[0m\u001b[0ma\u001b[0m\u001b[1;33m*\u001b[0m\u001b[0me\u001b[0m \u001b[1;33m-\u001b[0m \u001b[0mb\u001b[0m\u001b[1;33m*\u001b[0m\u001b[0md\u001b[0m\u001b[1;33m)\u001b[0m  \u001b[1;31m# Solución de x obtenida a mano.\u001b[0m\u001b[1;33m\u001b[0m\u001b[1;33m\u001b[0m\u001b[0m\n\u001b[0m\u001b[0;32m      9\u001b[0m     \u001b[0my\u001b[0m \u001b[1;33m=\u001b[0m \u001b[1;33m(\u001b[0m\u001b[0ma\u001b[0m\u001b[1;33m*\u001b[0m\u001b[0mf\u001b[0m \u001b[1;33m-\u001b[0m \u001b[0mc\u001b[0m\u001b[1;33m*\u001b[0m\u001b[0md\u001b[0m\u001b[1;33m)\u001b[0m\u001b[1;33m/\u001b[0m\u001b[1;33m(\u001b[0m\u001b[0ma\u001b[0m\u001b[1;33m*\u001b[0m\u001b[0me\u001b[0m \u001b[1;33m-\u001b[0m \u001b[0mb\u001b[0m\u001b[1;33m*\u001b[0m\u001b[0md\u001b[0m\u001b[1;33m)\u001b[0m   \u001b[1;31m# Solución de y obtenida a mano.\u001b[0m\u001b[1;33m\u001b[0m\u001b[1;33m\u001b[0m\u001b[0m\n\u001b[0;32m     10\u001b[0m \u001b[1;33m\u001b[0m\u001b[0m\n",
      "\u001b[1;31mZeroDivisionError\u001b[0m: float division by zero"
     ]
    }
   ],
   "source": [
    "# Sistema mal condicionado v2.\n",
    "\n",
    "# Primera ecuación\n",
    "a = -2.4999999999999999/5\n",
    "b =  1 \n",
    "c =  1.0000000000000001\n",
    "# Segunda ecuación\n",
    "d = -1/2\n",
    "e =  1\n",
    "f =  1\n",
    "\n",
    "sol_2x2(a, b, c, d, e, f)\n"
   ]
  },
  {
   "cell_type": "markdown",
   "id": "e3bc0066",
   "metadata": {},
   "source": [
    "**Pregunta de clase**\n",
    "\n",
    "¿Cómo diferenciar el 'ZeroDivisionError' de infinitas soluciones y de ninguna solución?\\\n",
    "Recomendación: revisar los valores $(a e - b d)$, $(-b f + c e)$ y $(a f - c d)$."
   ]
  },
  {
   "cell_type": "markdown",
   "id": "bc3c64e9",
   "metadata": {},
   "source": [
    "**No tiene solución** \n",
    "- El denominador es cero.\n",
    "\n",
    "**Infinitas soluciones**\n",
    "- El denominador y el numerador son cero."
   ]
  },
  {
   "cell_type": "code",
   "execution_count": 36,
   "id": "67ef3be0",
   "metadata": {},
   "outputs": [
    {
     "ename": "ZeroDivisionError",
     "evalue": "float division by zero",
     "output_type": "error",
     "traceback": [
      "\u001b[1;31m---------------------------------------------------------------------------\u001b[0m",
      "\u001b[1;31mZeroDivisionError\u001b[0m                         Traceback (most recent call last)",
      "\u001b[1;32m<ipython-input-36-c2c19cd4df49>\u001b[0m in \u001b[0;36m<module>\u001b[1;34m\u001b[0m\n\u001b[1;32m----> 1\u001b[1;33m \u001b[0mx\u001b[0m \u001b[1;33m=\u001b[0m \u001b[1;33m(\u001b[0m\u001b[1;33m-\u001b[0m\u001b[0mb\u001b[0m\u001b[1;33m*\u001b[0m\u001b[0mf\u001b[0m \u001b[1;33m+\u001b[0m \u001b[0mc\u001b[0m\u001b[1;33m*\u001b[0m\u001b[0me\u001b[0m\u001b[1;33m)\u001b[0m\u001b[1;33m/\u001b[0m\u001b[1;33m(\u001b[0m\u001b[0ma\u001b[0m\u001b[1;33m*\u001b[0m\u001b[0me\u001b[0m \u001b[1;33m-\u001b[0m \u001b[0mb\u001b[0m\u001b[1;33m*\u001b[0m\u001b[0md\u001b[0m\u001b[1;33m)\u001b[0m  \u001b[1;31m# Solución de x obtenida a mano.\u001b[0m\u001b[1;33m\u001b[0m\u001b[1;33m\u001b[0m\u001b[0m\n\u001b[0m\u001b[0;32m      2\u001b[0m \u001b[0my\u001b[0m \u001b[1;33m=\u001b[0m \u001b[1;33m(\u001b[0m\u001b[0ma\u001b[0m\u001b[1;33m*\u001b[0m\u001b[0mf\u001b[0m \u001b[1;33m-\u001b[0m \u001b[0mc\u001b[0m\u001b[1;33m*\u001b[0m\u001b[0md\u001b[0m\u001b[1;33m)\u001b[0m\u001b[1;33m/\u001b[0m\u001b[1;33m(\u001b[0m\u001b[0ma\u001b[0m\u001b[1;33m*\u001b[0m\u001b[0me\u001b[0m \u001b[1;33m-\u001b[0m \u001b[0mb\u001b[0m\u001b[1;33m*\u001b[0m\u001b[0md\u001b[0m\u001b[1;33m)\u001b[0m   \u001b[1;31m# Solución de y obtenida a mano.\u001b[0m\u001b[1;33m\u001b[0m\u001b[1;33m\u001b[0m\u001b[0m\n",
      "\u001b[1;31mZeroDivisionError\u001b[0m: float division by zero"
     ]
    }
   ],
   "source": [
    "x = (-b*f + c*e)/(a*e - b*d)  # Solución de x obtenida a mano.\n",
    "y = (a*f - c*d)/(a*e - b*d)   # Solución de y obtenida a mano.\n"
   ]
  },
  {
   "cell_type": "markdown",
   "id": "8f1da48c",
   "metadata": {},
   "source": [
    "Un solucionador de ecuaciones mejorado, teniendo en cuenta las posibles causas de error:\n"
   ]
  },
  {
   "cell_type": "code",
   "execution_count": 37,
   "id": "f15f64d8",
   "metadata": {},
   "outputs": [],
   "source": [
    "def sol_2x2_mejorado(a, b, c, d, e, f):\n",
    "    '''\n",
    "        Solucionador básico de ecuaciones 2x2 a partir de los parámetros a, b, c, d, e, f.\n",
    "        Donde:\n",
    "        ax + by = c\n",
    "        dx + ey = f\n",
    "    '''\n",
    "    # Condición del denominador.\n",
    "    if (a*e - b*d) == 0:\n",
    "        # Condición del numerador.\n",
    "        if (-b*f + c*e)==0 and (a*f - c*d)==0:\n",
    "            solucion = 'Infinitas soluciones'\n",
    "        else:\n",
    "            solucion = 'No tiene solución'\n",
    "    else:     \n",
    "        x = (-b*f + c*e)/(a*e - b*d)  # Solución de x obtenida a mano.\n",
    "        y = (a*f - c*d)/(a*e - b*d)   # Solución de y obtenida a mano.\n",
    "        solucion = (x, y)\n",
    "\n",
    "    return solucion\n"
   ]
  },
  {
   "cell_type": "code",
   "execution_count": 38,
   "id": "647b06eb",
   "metadata": {},
   "outputs": [
    {
     "data": {
      "text/plain": [
       "(4.0, 3.0)"
      ]
     },
     "execution_count": 38,
     "metadata": {},
     "output_type": "execute_result"
    }
   ],
   "source": [
    "# Ejemplo 1\n",
    "a, b, c, d, e, f = 3, 2, 18, -1, 2, 2\n",
    "\n",
    "sol_2x2_mejorado(a, b, c, d, e, f)\n"
   ]
  },
  {
   "cell_type": "code",
   "execution_count": 39,
   "id": "205d35be",
   "metadata": {},
   "outputs": [
    {
     "data": {
      "text/plain": [
       "'No tiene solución'"
      ]
     },
     "execution_count": 39,
     "metadata": {},
     "output_type": "execute_result"
    }
   ],
   "source": [
    "# Ejemplo 2\n",
    "a, b, c, d, e, f = -1, 2, 2, -1, 2, 1\n",
    "\n",
    "sol_2x2_mejorado(a, b, c, d, e, f)\n"
   ]
  },
  {
   "cell_type": "code",
   "execution_count": 40,
   "id": "81dea8b3",
   "metadata": {},
   "outputs": [
    {
     "data": {
      "text/plain": [
       "'Infinitas soluciones'"
      ]
     },
     "execution_count": 40,
     "metadata": {},
     "output_type": "execute_result"
    }
   ],
   "source": [
    "# Ejemplo 3\n",
    "a, b, c, d, e, f = -1, 2, 2, -2, 4, 4\n",
    "\n",
    "sol_2x2_mejorado(a, b, c, d, e, f)\n"
   ]
  },
  {
   "cell_type": "code",
   "execution_count": 41,
   "id": "6201bfef",
   "metadata": {
    "scrolled": true
   },
   "outputs": [
    {
     "data": {
      "text/plain": [
       "(5.0, 3.5)"
      ]
     },
     "execution_count": 41,
     "metadata": {},
     "output_type": "execute_result"
    }
   ],
   "source": [
    "# Ejemplo 4\n",
    "# Si se ponen nueves o ceros se puede obtener cualquiera de los 3 posibles resultados.\n",
    "a, b, c, d, e, f = -2.4999999999999/5, 1, 1.0000000000001, -1/2, 1, 1  \n",
    "\n",
    "sol_2x2_mejorado(a, b, c, d, e, f)\n"
   ]
  },
  {
   "cell_type": "markdown",
   "id": "5e6d04e5",
   "metadata": {},
   "source": [
    "Ver: [02-solucion_sistemas_de_ecuaciones_lineales_2x2.py](https://github.com/jnramirezg/metodos_numericos_ingenieria_civil/blob/main/codigo/02-solucion_sistemas_de_ecuaciones_lineales_2x2.py)"
   ]
  },
  {
   "cell_type": "markdown",
   "id": "6318600f",
   "metadata": {},
   "source": [
    "### Regla de Cramer"
   ]
  },
  {
   "cell_type": "markdown",
   "id": "39a001ab",
   "metadata": {},
   "source": [
    "Dado un sistema de ecuaciones de 3 x 3:\n",
    "\n",
    "$a_{11}x_{1}+a_{12}x_{2}+a_{13}x_{3}=b_{1}$\\\n",
    "$a_{21}x_{1}+a_{22}x_{2}+a_{23}x_{3}=b_{2}$\\\n",
    "$a_{31}x_{1}+a_{32}x_{2}+a_{33}x_{3}=b_{3}$\n",
    "\n",
    "Se puede expresar como:\n",
    "\n",
    "$\\underline{\\underline{A}}$  $\\underline{X}=\\underline{B}$, en donde:\n",
    "\n",
    "$\n",
    "\\begin{bmatrix}\n",
    "a_{11} & a_{12} & a_{13}\\\\\n",
    "a_{21} & a_{22} & a_{23}\\\\\n",
    "a_{31} & a_{32} & a_{33}\n",
    "\\end{bmatrix}\n",
    "\\begin{bmatrix}\n",
    "x_{1}  \\\\\n",
    "x_{2}  \\\\\n",
    "x_{3} \n",
    "\\end{bmatrix}\n",
    "=\n",
    "\\begin{bmatrix}\n",
    "b_{1}  \\\\\n",
    "b_{2}  \\\\\n",
    "b_{3} \n",
    "\\end{bmatrix}$\n",
    "\n",
    "La solución $i$ se obtiene al dividir el reemplazo de la columna $i$ con el vector $\\underline{B}$ entre el determinante de la matriz. Es decir, la solución **explícita del sistema** de 3 x 3 es:\n",
    "\n",
    "$x_1=\\frac{\n",
    "\\left|\n",
    "\\begin{array}{ccc}\n",
    "b_{1} & a_{12} & a_{13}\\\\\n",
    "b_{2} & a_{22} & a_{23}\\\\\n",
    "b_{3} & a_{32} & a_{33}\n",
    "\\end{array}\n",
    "\\right|\n",
    "}\n",
    "{|\\underline{\\underline{A}}|}\n",
    "$,\n",
    "$x_2=\\frac{\n",
    "\\left|\n",
    "\\begin{array}{ccc}\n",
    "a_{11} & b_{1} & a_{13}\\\\\n",
    "a_{21} & b_{2} & a_{23}\\\\\n",
    "a_{31} & b_{3} & a_{33}\n",
    "\\end{array}\n",
    "\\right|\n",
    "}\n",
    "{|\\underline{\\underline{A}}|}\n",
    "$,\n",
    "$x_3=\\frac{\n",
    "\\left|\n",
    "\\begin{array}{ccc}\n",
    "a_{11} & a_{12} & b_{1}\\\\\n",
    "a_{21} & a_{22} & b_{2}\\\\\n",
    "a_{31} & a_{32} & b_{3}\n",
    "\\end{array}\n",
    "\\right|\n",
    "}\n",
    "{|\\underline{\\underline{A}}|}\n",
    "$.\n",
    "\n",
    "Donde $|\\underline{\\underline{A}}|$ es el determinante de la matriz A. Por lo que aparece el concepto de singularidad de un sistema y **matriz singular**, refiriéndose a aquellos casos en los que el determinante es 0. Los sistemas singulares se caracterizan por **no** presentar una única solución.\n"
   ]
  },
  {
   "cell_type": "markdown",
   "id": "d796d609",
   "metadata": {},
   "source": [
    "A continuación, se crea un función recursiva para hallar el determinante de una matriz. La función se basa en la siguiente fuente https://www.mycompiler.io/view/IVBmA7d"
   ]
  },
  {
   "cell_type": "markdown",
   "id": "5c321363",
   "metadata": {},
   "source": [
    "**¿Cuál es el determinante de una matriz 2x2?**\n"
   ]
  },
  {
   "cell_type": "code",
   "execution_count": 42,
   "id": "1c88da75",
   "metadata": {},
   "outputs": [],
   "source": [
    "# Se definen 4 variables simbólicas de la matriz de 2x2\n",
    "a, b, c, d = sp.symbols('a b c d')\n"
   ]
  },
  {
   "cell_type": "code",
   "execution_count": 43,
   "id": "e62f9127",
   "metadata": {},
   "outputs": [
    {
     "data": {
      "text/latex": [
       "$\\displaystyle b$"
      ],
      "text/plain": [
       "b"
      ]
     },
     "execution_count": 43,
     "metadata": {},
     "output_type": "execute_result"
    }
   ],
   "source": [
    "b"
   ]
  },
  {
   "cell_type": "code",
   "execution_count": 44,
   "id": "a98a6641",
   "metadata": {},
   "outputs": [],
   "source": [
    "# Se crea la matriz M\n",
    "A = [\n",
    "     [a, b],\n",
    "     [c, d],\n",
    "           ]\n",
    "\n",
    "A = sp.Matrix(A)\n"
   ]
  },
  {
   "cell_type": "code",
   "execution_count": 45,
   "id": "19a8308e",
   "metadata": {
    "scrolled": true
   },
   "outputs": [
    {
     "data": {
      "text/latex": [
       "$\\displaystyle \\left[\\begin{matrix}a & b\\\\c & d\\end{matrix}\\right]$"
      ],
      "text/plain": [
       "Matrix([\n",
       "[a, b],\n",
       "[c, d]])"
      ]
     },
     "execution_count": 45,
     "metadata": {},
     "output_type": "execute_result"
    }
   ],
   "source": [
    "A\n"
   ]
  },
  {
   "cell_type": "code",
   "execution_count": 46,
   "id": "337c560d",
   "metadata": {},
   "outputs": [
    {
     "data": {
      "text/latex": [
       "$\\displaystyle a d - b c$"
      ],
      "text/plain": [
       "a*d - b*c"
      ]
     },
     "execution_count": 46,
     "metadata": {},
     "output_type": "execute_result"
    }
   ],
   "source": [
    "A.det()\n"
   ]
  },
  {
   "cell_type": "markdown",
   "id": "5f80446a",
   "metadata": {},
   "source": [
    "La función recursiva es:\n",
    "\n",
    "**(Se debe estudiar detalladamente su funcionamiento)**"
   ]
  },
  {
   "cell_type": "code",
   "execution_count": 47,
   "id": "4490af19",
   "metadata": {},
   "outputs": [],
   "source": [
    "def determinante(M):\n",
    "    '''\n",
    "        Función recursiva\n",
    "        Cálculo del determinante de una matriz en forma de lista de listas.\n",
    "    '''\n",
    "    if len(M) != len(M[0]):  # Verificación si es cuadrada.\n",
    "        det = 'La matriz no es cuadrada'\n",
    "        return det\n",
    "    det = 0  # Variable de acumulación del determinante.\n",
    "    if len(M)==2:  # Caso 2x2\n",
    "        det = M[0][0]*M[1][1] - M[1][0]*M[0][1]\n",
    "        return det\n",
    "    else:\n",
    "        for i in range(len(M)):\n",
    "            M2 = [f[:] for f in M]  # Se crea una copia\n",
    "            M2.remove(M[0])\n",
    "            for j in range(len(M2)):\n",
    "                M2[j] = M2[j][0:i] + M2[j][i+1:]  # Matriz de cofactores\n",
    "            det += (-1)**(i)*M[0][i]*determinante(M2)\n",
    "        return det\n"
   ]
  },
  {
   "cell_type": "markdown",
   "id": "fbfa7ff8",
   "metadata": {},
   "source": [
    "Códigos auxiliares de la función, para su fácil visualización"
   ]
  },
  {
   "cell_type": "code",
   "execution_count": 48,
   "id": "c33bfe0a",
   "metadata": {},
   "outputs": [],
   "source": [
    "# Si se define una matriz A\n",
    "A = [\n",
    "     [1, 2],\n",
    "     [3, 4],\n",
    "           ]\n"
   ]
  },
  {
   "cell_type": "code",
   "execution_count": 49,
   "id": "1fc49692",
   "metadata": {},
   "outputs": [],
   "source": [
    "# La linea:\n",
    "B = [f[:] for f in A]\n",
    "# Crea una copia profunda de la lista de listas.\n"
   ]
  },
  {
   "cell_type": "code",
   "execution_count": 50,
   "id": "bc9bd056",
   "metadata": {},
   "outputs": [],
   "source": [
    "# Al modificar algo en B, no se modifica en A.\n",
    "B[0][0] = 0\n"
   ]
  },
  {
   "cell_type": "code",
   "execution_count": 51,
   "id": "2aea0159",
   "metadata": {
    "scrolled": true
   },
   "outputs": [
    {
     "data": {
      "text/plain": [
       "[[0, 2], [3, 4]]"
      ]
     },
     "execution_count": 51,
     "metadata": {},
     "output_type": "execute_result"
    }
   ],
   "source": [
    "B  # Matriz B modificada.\n"
   ]
  },
  {
   "cell_type": "code",
   "execution_count": 52,
   "id": "cee30777",
   "metadata": {},
   "outputs": [
    {
     "data": {
      "text/plain": [
       "[[1, 2], [3, 4]]"
      ]
     },
     "execution_count": 52,
     "metadata": {},
     "output_type": "execute_result"
    }
   ],
   "source": [
    "A  # La matriz A no se modifica.\n"
   ]
  },
  {
   "cell_type": "code",
   "execution_count": 53,
   "id": "7a3d919e",
   "metadata": {},
   "outputs": [],
   "source": [
    "# Pero, si simplemente se hace:\n",
    "B = A\n"
   ]
  },
  {
   "cell_type": "code",
   "execution_count": 54,
   "id": "647c6b78",
   "metadata": {},
   "outputs": [],
   "source": [
    "# Al modificar algo en B, se modifica en A.\n",
    "B[0][0] = 0\n"
   ]
  },
  {
   "cell_type": "code",
   "execution_count": 55,
   "id": "6ba9153e",
   "metadata": {},
   "outputs": [
    {
     "data": {
      "text/plain": [
       "[[0, 2], [3, 4]]"
      ]
     },
     "execution_count": 55,
     "metadata": {},
     "output_type": "execute_result"
    }
   ],
   "source": [
    "B\n"
   ]
  },
  {
   "cell_type": "code",
   "execution_count": 56,
   "id": "841b43c7",
   "metadata": {},
   "outputs": [
    {
     "data": {
      "text/plain": [
       "[[0, 2], [3, 4]]"
      ]
     },
     "execution_count": 56,
     "metadata": {},
     "output_type": "execute_result"
    }
   ],
   "source": [
    "A\n"
   ]
  },
  {
   "cell_type": "markdown",
   "id": "97cadeeb",
   "metadata": {},
   "source": [
    "Ejemplo de aplicación de la función recursiva del determinante."
   ]
  },
  {
   "cell_type": "code",
   "execution_count": 57,
   "id": "8ceda799",
   "metadata": {
    "scrolled": true
   },
   "outputs": [
    {
     "data": {
      "text/plain": [
       "-8"
      ]
     },
     "execution_count": 57,
     "metadata": {},
     "output_type": "execute_result"
    }
   ],
   "source": [
    "# Ejemplo 1 del determinante\n",
    "M = [[ 2,  1, -1, 2],\n",
    "     [ 4,  5, -3, 6],\n",
    "     [-2,  5, -2, 6],\n",
    "     [ 4, 10, -4, 8]]\n",
    "\n",
    "determinante(M)\n"
   ]
  },
  {
   "cell_type": "code",
   "execution_count": 58,
   "id": "4c024de2",
   "metadata": {
    "scrolled": false
   },
   "outputs": [
    {
     "data": {
      "text/plain": [
       "0"
      ]
     },
     "execution_count": 58,
     "metadata": {},
     "output_type": "execute_result"
    }
   ],
   "source": [
    "# Ejemplo 2 del determinante\n",
    "M = [[ 2,  1,  4, -1],\n",
    "     [ 3, -2,  1,  0],\n",
    "     [ 5,  1, -3,  2],\n",
    "     [-1,  3,  3, -1]]\n",
    "\n",
    "determinante(M)\n"
   ]
  },
  {
   "cell_type": "code",
   "execution_count": 59,
   "id": "07dabe3a",
   "metadata": {},
   "outputs": [
    {
     "data": {
      "text/plain": [
       "'La matriz no es cuadrada'"
      ]
     },
     "execution_count": 59,
     "metadata": {},
     "output_type": "execute_result"
    }
   ],
   "source": [
    "# Ejemplo 3 del determinante\n",
    "M = [[-9,  7,  2,  5,  7],\n",
    "     [ 5,  3, -2,  2, -6],\n",
    "     [ 2, -6, -5, -7, -8],\n",
    "     [-2,  4, -2, -2, -6]]\n",
    "\n",
    "determinante(M)\n"
   ]
  },
  {
   "cell_type": "markdown",
   "id": "9e1672c5",
   "metadata": {},
   "source": [
    "Ver: [03-calculo_determinante_f_recursiva.py](https://github.com/jnramirezg/metodos_numericos_ingenieria_civil/blob/main/codigo/03-calculo_determinante_f_recursiva.py)"
   ]
  },
  {
   "cell_type": "markdown",
   "id": "94b8d5d8",
   "metadata": {},
   "source": [
    "Se crea una función que solucione sistemas de ecuaciones de nxn con n>1 mediante la regla de Cramer y usando el [teorema de Laplace](https://es.wikipedia.org/wiki/Teorema_de_Laplace)"
   ]
  },
  {
   "cell_type": "code",
   "execution_count": 60,
   "id": "01da55ca",
   "metadata": {
    "scrolled": true
   },
   "outputs": [],
   "source": [
    "# Esta función siempre debe ir acompañada de la función\n",
    "# 'determinante', previamente definida.\n",
    "def sol_cramer(A, B):\n",
    "    '''\n",
    "        Solución de un sistema AX=B, donde:\n",
    "        A: coeficientes constantes, se ingresa como una lista de listas.\n",
    "        X: incógnitas (o su equivalente 'sol')\n",
    "        B: constantes, se ingresa como una lista.\n",
    "    '''\n",
    "    # Se consideran las posibles causas de error.\n",
    "    # Las filas y las columnas tienen diferente tamaño.\n",
    "    if len(A) != len(A[0]):  \n",
    "        sol = 'La matriz de A no es cuadrada.'\n",
    "    # El número de ecuaciones (filas de A) no coincide con la cant. de constantes.\n",
    "    elif len(A) != len(B):   \n",
    "        sol = 'Los tamaños de A y B no coinciden.'\n",
    "    # El sistema no puede ser de una solo ecuación.\n",
    "    elif len(A)== 1:\n",
    "        sol = 'Se debe tener un sistema de mínimo 2x2'\n",
    "    # Demás casos.\n",
    "    else:\n",
    "        det_A = determinante(A)\n",
    "        # Sistema singular, ya sea por inf. soluciones o por ninguna solución.\n",
    "        if det_A == 0:\n",
    "            sol = 'Sistema singular'\n",
    "        # Caso donde hay una solución única.\n",
    "        else:\n",
    "            # Cálculos.\n",
    "            sol = []  # Reserva de espacio de memoria.\n",
    "            for j in range(len(A)):\n",
    "                A2 = [f[:] for f in A]  # Se crea una copia.\n",
    "                for i in range(len(A)):\n",
    "                    A2[i][j] = B[i]                     \n",
    "                sol += [determinante(A2)/det_A]\n",
    "    return sol \n"
   ]
  },
  {
   "cell_type": "code",
   "execution_count": 61,
   "id": "e76edf63",
   "metadata": {},
   "outputs": [],
   "source": [
    "# Ejemplo 1.\n",
    "A1 = [[ 2,  1,  4, -1],\n",
    "      [ 3, -2,  1,  0],\n",
    "      [ 5,  1, -3,  2],\n",
    "      [-1,  3,  3, -1]]\n",
    "\n",
    "B1 = [1, -1, 4, 3]\n"
   ]
  },
  {
   "cell_type": "code",
   "execution_count": 62,
   "id": "9e9da2cb",
   "metadata": {},
   "outputs": [
    {
     "data": {
      "text/plain": [
       "'Sistema singular'"
      ]
     },
     "execution_count": 62,
     "metadata": {},
     "output_type": "execute_result"
    }
   ],
   "source": [
    "sol_cramer(A1, B1)\n"
   ]
  },
  {
   "cell_type": "code",
   "execution_count": 63,
   "id": "e5f8401b",
   "metadata": {},
   "outputs": [],
   "source": [
    "# Ejemplo 2.\n",
    "A2 = [[-9,  7,  2,  5,  7],\n",
    "      [ 5,  3, -2,  2, -6],\n",
    "      [ 2, -6, -5, -7, -8],\n",
    "      [-2,  4, -2, -2, -6]]\n",
    "\n",
    "B2 = [1, -1, 4, 3]\n"
   ]
  },
  {
   "cell_type": "code",
   "execution_count": 64,
   "id": "7eb1af9a",
   "metadata": {},
   "outputs": [
    {
     "data": {
      "text/plain": [
       "'La matriz de A no es cuadrada.'"
      ]
     },
     "execution_count": 64,
     "metadata": {},
     "output_type": "execute_result"
    }
   ],
   "source": [
    "sol_cramer(A2, B2)\n"
   ]
  },
  {
   "cell_type": "code",
   "execution_count": 65,
   "id": "1ad7241e",
   "metadata": {},
   "outputs": [],
   "source": [
    "# Ejemplo 3 (fuente: http://anacrisstina-18.blogspot.com/2013/11/metodo-de-cramer-4x4.html)\n",
    "A3 = [[-1, -1,  6,  9],\n",
    "      [-5,  5, -3,  6],\n",
    "      [ 7, -3,  5, -6],\n",
    "      [ 3, -3, -2,  3]]\n",
    "\n",
    "B3 = [-29, -54, 38, 41]\n"
   ]
  },
  {
   "cell_type": "code",
   "execution_count": 66,
   "id": "932cfb76",
   "metadata": {
    "scrolled": false
   },
   "outputs": [
    {
     "data": {
      "text/plain": [
       "[4.0, -8.0, -4.0, -1.0]"
      ]
     },
     "execution_count": 66,
     "metadata": {},
     "output_type": "execute_result"
    }
   ],
   "source": [
    "sol_cramer(A3, B3)\n"
   ]
  },
  {
   "cell_type": "markdown",
   "id": "9c2e9b3f",
   "metadata": {},
   "source": [
    "**Pregunta de clase**\n",
    "\n",
    "A pesar de que la regla de Cramer tiene soluciones explícitas ¿por qué no se usa como método general de solución de sistemas de ecuaciones lineales?"
   ]
  },
  {
   "cell_type": "markdown",
   "id": "81482456",
   "metadata": {},
   "source": [
    "Si se aumenta el tamaño de la matriz de coeficientes, la cantidad de operaciones se eleva potencialmente."
   ]
  },
  {
   "cell_type": "markdown",
   "id": "5c736573",
   "metadata": {},
   "source": [
    "A continuación se evalúa el costo computacional del cálculo de determinantes (mediante el teorema de Laplace) de matrices de diferentes tamaños."
   ]
  },
  {
   "cell_type": "code",
   "execution_count": 67,
   "id": "d4207e5d",
   "metadata": {},
   "outputs": [],
   "source": [
    "# Se crea una matriz aleatoria de nxn\n",
    "def crear_matriz_cuadrada_aleatoria(n):\n",
    "    '''\n",
    "        Función para crear una matriz aleatoria de nxn con valores entre -10 y 10.\n",
    "    '''\n",
    "    M =[]               # Reserva de espacio.\n",
    "    for i in range(n):\n",
    "        M += [[]]       # Se crea una nueva fila.\n",
    "        for j in range(n):\n",
    "            M[i] += [int(np.random.randint(-10, 10))]  # Se agrega un elemento aleatorio.\n",
    "    return M\n"
   ]
  },
  {
   "cell_type": "code",
   "execution_count": 68,
   "id": "21eac1ff",
   "metadata": {},
   "outputs": [
    {
     "data": {
      "text/plain": [
       "[[5, 9, -2, 7, 9, -2, 4],\n",
       " [-10, -6, -1, 0, 7, 3, 5],\n",
       " [-1, -1, 5, -6, -6, 0, 5],\n",
       " [0, -6, -5, -9, 1, -7, -6],\n",
       " [-1, -6, 5, -6, -9, -4, 0],\n",
       " [-1, -3, -1, -4, -4, 4, 0],\n",
       " [-4, -6, -7, -1, -2, -1, 0]]"
      ]
     },
     "execution_count": 68,
     "metadata": {},
     "output_type": "execute_result"
    }
   ],
   "source": [
    "crear_matriz_cuadrada_aleatoria(7)\n"
   ]
  },
  {
   "cell_type": "code",
   "execution_count": 69,
   "id": "495e0e0f",
   "metadata": {},
   "outputs": [],
   "source": [
    "# Se crea un vector columna de tamaño n.\n",
    "def crear_vector_aleatorio(n):\n",
    "    '''\n",
    "        Función para crear un vector de tamaño nx1 con valores entre -5 y 5.\n",
    "    '''\n",
    "    B =[]                                          # Reserva de espacio.\n",
    "    for i in range(n):\n",
    "        B += [int(np.random.randint(-5, 5))]     # Se agrega un elemento aleatorio.\n",
    "    return B\n"
   ]
  },
  {
   "cell_type": "code",
   "execution_count": 70,
   "id": "e4dc961f",
   "metadata": {},
   "outputs": [
    {
     "data": {
      "text/plain": [
       "[3, 3, 0, 4, -2, 0, 1]"
      ]
     },
     "execution_count": 70,
     "metadata": {},
     "output_type": "execute_result"
    }
   ],
   "source": [
    "crear_vector_aleatorio(7)\n"
   ]
  },
  {
   "cell_type": "code",
   "execution_count": 71,
   "id": "794a9c0c",
   "metadata": {},
   "outputs": [],
   "source": [
    "import time\n",
    "tiempos = []  # Espacio para almacenar el tiempo de cálculo.\n",
    "\n",
    "# Se evalúa el tiempo de cálculo del determinante entre n=2 y n=10.\n",
    "for i in range(2, 11):\n",
    "    M = crear_matriz_cuadrada_aleatoria(i)  # Función de creación de matriz.\n",
    "    inicio = time.time()                    # Tiempo de incio.\n",
    "    determinante(M)                         # Función de cálculo del determinante de matrices.\n",
    "    fin = time.time()                       # Tiempo de fin.\n",
    "    tiempos += [fin-inicio]\n"
   ]
  },
  {
   "cell_type": "code",
   "execution_count": 72,
   "id": "a1d94e64",
   "metadata": {},
   "outputs": [
    {
     "data": {
      "text/plain": [
       "[0.0,\n",
       " 0.0,\n",
       " 0.0,\n",
       " 0.0,\n",
       " 0.001997232437133789,\n",
       " 0.020130157470703125,\n",
       " 0.10401654243469238,\n",
       " 0.6674647331237793,\n",
       " 5.911634683609009]"
      ]
     },
     "execution_count": 72,
     "metadata": {},
     "output_type": "execute_result"
    }
   ],
   "source": [
    "tiempos\n"
   ]
  },
  {
   "cell_type": "code",
   "execution_count": 73,
   "id": "9785e06c",
   "metadata": {
    "scrolled": true
   },
   "outputs": [
    {
     "data": {
      "image/png": "[encoded data removed]",
      "text/plain": [
       "<Figure size 432x288 with 1 Axes>"
      ]
     },
     "metadata": {
      "needs_background": "light"
     },
     "output_type": "display_data"
    }
   ],
   "source": [
    "# Gráfica de costo computacional.\n",
    "plt.figure()                           # Expresión inicial de toda gráf\n",
    "plt.plot(list(range(2, 11)), tiempos)\n",
    "plt.xlabel('Tamaño n de la matriz')    # Título del eje x.\n",
    "plt.ylabel('Tiempo de cálculo [seg]')  # Título del eje y.\n",
    "plt.show()                             # Imprime la gráfica.\n"
   ]
  },
  {
   "cell_type": "code",
   "execution_count": 74,
   "id": "68cf10df",
   "metadata": {},
   "outputs": [],
   "source": [
    "# Un ejemplo adicional.\n",
    "n = 7\n",
    "A1 = crear_matriz_cuadrada_aleatoria(n)\n",
    "B1 = crear_vector_aleatorio(n)\n"
   ]
  },
  {
   "cell_type": "code",
   "execution_count": 75,
   "id": "b33a1a08",
   "metadata": {},
   "outputs": [
    {
     "data": {
      "text/plain": [
       "[[7, 6, -1, 6, 2, -5, 7],\n",
       " [4, -8, -7, 5, 6, 2, 7],\n",
       " [7, -5, -3, 0, -5, -9, -10],\n",
       " [-2, 5, 1, -7, 3, 6, 3],\n",
       " [-1, -4, -8, 3, -2, -9, -1],\n",
       " [7, 3, -5, -10, -6, -10, -5],\n",
       " [4, 4, 6, 0, -5, -3, 6]]"
      ]
     },
     "execution_count": 75,
     "metadata": {},
     "output_type": "execute_result"
    }
   ],
   "source": [
    "A1\n"
   ]
  },
  {
   "cell_type": "code",
   "execution_count": 76,
   "id": "f6923954",
   "metadata": {},
   "outputs": [
    {
     "data": {
      "text/plain": [
       "[-1, 1, 2, 2, 4, 3, -5]"
      ]
     },
     "execution_count": 76,
     "metadata": {},
     "output_type": "execute_result"
    }
   ],
   "source": [
    "B1\n"
   ]
  },
  {
   "cell_type": "code",
   "execution_count": 77,
   "id": "27547c98",
   "metadata": {
    "scrolled": true
   },
   "outputs": [
    {
     "data": {
      "text/plain": [
       "[-0.934656396401575,\n",
       " -1.4412429703292808,\n",
       " 2.579101160195058,\n",
       " -1.8074516904741376,\n",
       " 4.469955642418494,\n",
       " -3.599148296113203,\n",
       " 0.09688730491765585]"
      ]
     },
     "execution_count": 77,
     "metadata": {},
     "output_type": "execute_result"
    }
   ],
   "source": [
    "sol_cramer(A1, B1)\n"
   ]
  },
  {
   "cell_type": "markdown",
   "id": "da7a90ed",
   "metadata": {},
   "source": [
    "Ver: [04-costo_computacional_teorema_laplace.py](https://github.com/jnramirezg/metodos_numericos_ingenieria_civil/blob/main/codigo/04-costo_computacional_teorema_laplace.py)\n",
    "\n",
    "Ver: [05-regla_cramer.py](https://github.com/jnramirezg/metodos_numericos_ingenieria_civil/blob/main/codigo/05-regla_cramer.py)"
   ]
  },
  {
   "cell_type": "markdown",
   "id": "b58d716e",
   "metadata": {},
   "source": [
    "**Resumen de comandos usados**\n",
    "- definición de funciones con 'def', 'return'\n",
    "- if, elif, else\n",
    "- funciones recursivas\n",
    "- L.remove() para listas.\n",
    "- np.random.randint()\n",
    "- time.time()\n",
    "- ciclo 'for'\n",
    "- range()\n",
    "- plt.figure()\n",
    "- plt.plot(\\_\\_, \\_\\_) \n",
    "- plt.legend()\n",
    "- plt.grid()\n",
    "- plt.show()\n",
    "\n"
   ]
  }
 ],
 "metadata": {
  "kernelspec": {
   "display_name": "Python 3",
   "language": "python",
   "name": "python3"
  },
  "language_info": {
   "codemirror_mode": {
    "name": "ipython",
    "version": 3
   },
   "file_extension": ".py",
   "mimetype": "text/x-python",
   "name": "python",
   "nbconvert_exporter": "python",
   "pygments_lexer": "ipython3",
   "version": "3.8.8"
  }
 },
 "nbformat": 4,
 "nbformat_minor": 5
}
