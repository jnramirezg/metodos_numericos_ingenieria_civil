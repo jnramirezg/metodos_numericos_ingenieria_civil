{
 "cells": [
  {
   "cell_type": "markdown",
   "id": "197ffe54",
   "metadata": {},
   "source": [
    "# 4101553 Métodos Numéricos aplicados a la Ingenieria Civil\n",
    "Departamento de Ingeniería Civil\\\n",
    "Universidad Nacional de Colombia\\\n",
    "Sede Manizales\n",
    "\n",
    "**Docente:** Juan Nicolás Ramírez Giraldo ([jnramirezg@unal.edu.co](mailto:jnramirezg@unal.edu.co))\n",
    "\n",
    "\"*Cum cogitaveris quot te antecedant, respice quot sequantur*\"\\\n",
    "**Séneca**\n",
    "\n",
    "\n",
    "[Repositorio de la asignatura](https://github.com/jnramirezg/metodos_numericos_ingenieria_civil/)\n"
   ]
  },
  {
   "cell_type": "markdown",
   "id": "a82853f7",
   "metadata": {},
   "source": [
    "# Unidad 1: Sistemas de ecuaciones lineales\n",
    "## Sistemas de ecuaciones grandes\n",
    "\n",
    "1. Gauss simple\n",
    "2. Gauss Jordan\n"
   ]
  },
  {
   "cell_type": "markdown",
   "id": "20a98238",
   "metadata": {},
   "source": [
    "### Algunas matrices especiales\n",
    "\n",
    "**Matriz triangular superior**\n",
    "\n",
    "$\\underline{\\underline{U}}=$\n",
    "$\\begin{bmatrix}\n",
    "u_{11} & u_{12} & u_{13} & ... & u_{1n}\\\\\n",
    "0      & u_{22} & u_{23} & ... & u_{2n}\\\\\n",
    "0      & 0      & u_{33} & ... & u_{3n}\\\\\n",
    "\\vdots & \\vdots & \\vdots & ... & \\vdots\\\\\n",
    "0      & 0      & 0      & ...  & u_{nn}\n",
    "\\end{bmatrix}$\n",
    "\n",
    "**Matriz triangular inferior**\n",
    "\n",
    "$\\underline{\\underline{L}}=$\n",
    "$\\begin{bmatrix}\n",
    "l_{11} & 0      & 0      &... & 0\\\\\n",
    "l_{21} & l_{22} & 0      &... & 0\\\\\n",
    "l_{31} & l_{32} & l_{33} &... & 0\\\\\n",
    "\\vdots & \\vdots & \\vdots &... & \\vdots\\\\\n",
    "l_{n1} & l_{n2} & l_{n3} & ... & l_{nn}\n",
    "\\end{bmatrix}$\n",
    "\n",
    "**Matriz simétrica**\n",
    "\n",
    "$\\underline{\\underline{S}}=$\n",
    "$\\begin{bmatrix}\n",
    "s_{11} & s_{21} & s_{31} &... & s_{n1}\\\\\n",
    "s_{21} & s_{22} & s_{32} &... & s_{n2}\\\\\n",
    "s_{31} & s_{32} & s_{33} &... & s_{n3}\\\\\n",
    "\\vdots & \\vdots & \\vdots &... & \\vdots\\\\\n",
    "s_{n1} & s_{n2} & s_{n3} & ... & s_{nn}\n",
    "\\end{bmatrix}$\n",
    "\n",
    "En la que se cumple que $s_{ij}=s_{ji}$ para todo $i$, $j$, es decir, $\\underline{\\underline{S}}=\\underline{\\underline{S}}^T$.\n",
    "\n",
    "**Matriz escalonada**\\\n",
    "En un caso particular de 4x5:\n",
    "\n",
    "$\\underline{\\underline{E}}=$\n",
    "$\\begin{bmatrix}\n",
    "1      & e_{12} & e_{13} & e_{14} & e_{15}\\\\\n",
    "0      & 1      & e_{23} & e_{24} & e_{25}\\\\\n",
    "0      & 0      & 1      & e_{34} & e_{35}\\\\\n",
    "0      & 0      & 0      & 1      & e_{45}\n",
    "\\end{bmatrix}$\n",
    "\n",
    "**Matriz escalonada reducida**\\\n",
    "En un caso particular de 4x5:\n",
    "\n",
    "$\\underline{\\underline{R}}=$\n",
    "$\\begin{bmatrix}\n",
    "1      & 0      & 0      & 0 & r_{15}\\\\\n",
    "0      & 1      & 0      & 0 & r_{25}\\\\\n",
    "0      & 0      & 1      & 0 & r_{35}\\\\\n",
    "0      & 0      & 0      & 1 & r_{45}\n",
    "\\end{bmatrix}$\n",
    "\n",
    "Conceptos de:\n",
    "- Matriz triángular inferior\n",
    "- Matriz triangular superior\n",
    "- Matriz escalonada \n",
    "- Matriz no escalonada\n",
    "- Matriz escalonada reducida\n",
    "\n",
    "Conceptos de errores:\n",
    "- Pivoteo parcial\n",
    "- División entre cero\n",
    "- Sistema mal condicionado"
   ]
  },
  {
   "cell_type": "code",
   "execution_count": null,
   "id": "96c48cb0",
   "metadata": {},
   "outputs": [],
   "source": []
  },
  {
   "cell_type": "code",
   "execution_count": null,
   "id": "63464e7b",
   "metadata": {},
   "outputs": [],
   "source": []
  }
 ],
 "metadata": {
  "kernelspec": {
   "display_name": "Python 3",
   "language": "python",
   "name": "python3"
  },
  "language_info": {
   "codemirror_mode": {
    "name": "ipython",
    "version": 3
   },
   "file_extension": ".py",
   "mimetype": "text/x-python",
   "name": "python",
   "nbconvert_exporter": "python",
   "pygments_lexer": "ipython3",
   "version": "3.8.8"
  }
 },
 "nbformat": 4,
 "nbformat_minor": 5
}
