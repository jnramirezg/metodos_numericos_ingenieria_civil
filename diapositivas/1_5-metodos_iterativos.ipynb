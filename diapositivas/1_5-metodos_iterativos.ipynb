{
 "cells": [
  {
   "cell_type": "markdown",
   "id": "2091ecea",
   "metadata": {},
   "source": [
    "# **4101553 Métodos Numéricos aplicados a la Ingenieria Civil**\n",
    "\n",
    "Departamento de Ingeniería Civil\n",
    "\n",
    "Universidad Nacional de Colombia\n",
    "\n",
    "Sede Manizales\n",
    "\n",
    "**Docente:** Juan Nicolás Ramírez Giraldo ([jnramirezg@unal.edu.co](mailto:jnramirezg@unal.edu.co))\n",
    "\n",
    "\n",
    "\"*Cum cogitaveris quot te antecedant, respice quot sequantur*\"\n",
    "\n",
    "**Séneca**\n",
    "\n",
    "\n",
    "[Repositorio de la asignatura](https://github.com/jnramirezg/metodos_numericos_ingenieria_civil/)\n"
   ]
  },
  {
   "cell_type": "markdown",
   "id": "baf78d8a",
   "metadata": {},
   "source": [
    "# **Unidad 1: Sistemas de ecuaciones lineales**\n",
    "## **Métodos Iterativos**\n",
    "1. Método de Jacobi\n",
    "2. Método de Gauss-Seidel"
   ]
  },
  {
   "cell_type": "markdown",
   "id": "ec0970a6",
   "metadata": {
    "tags": []
   },
   "source": [
    "### **Método de Jacobi**"
   ]
  },
  {
   "cell_type": "markdown",
   "id": "43b284be",
   "metadata": {},
   "source": [
    "#### **1. Construcción del método**"
   ]
  },
  {
   "cell_type": "markdown",
   "id": "267e3f73",
   "metadata": {},
   "source": [
    "La propuesta del método de Jacobi busca despejar de cada ecuación una de las incógnitas, de tal manera que, se puedan evaluar iterativamente las demás. Más adelante se discutirán los cuidados numéricos que se deben considerar para garantizar la convergencia.\n"
   ]
  },
  {
   "cell_type": "markdown",
   "id": "52a0c874",
   "metadata": {},
   "source": [
    "Para la construcción del método se usa inicialmente un sistema de 3x3 simbólico:\n",
    "\n",
    "Dado la matriz de coeficientes constantes:\n",
    "$\\underline{\\underline{A}}=\\displaystyle \\left[\\begin{matrix}i_{0} & i_{1} & i_{2}\\\\j_{0} & j_{1} & j_{2}\\\\k_{0} & k_{1} & k_{2}\\end{matrix}\\right]$\n",
    "\n",
    "Y el vector de constantes:\n",
    "$\\underline{B}=\\displaystyle \\left[\\begin{matrix}b_0\\\\b_1\\\\b_2\\end{matrix}\\right]$\n",
    "\n",
    "Se busca hallar el vector de soluciones $\\underline{X}$ de la expresión: $\\underline{\\underline{A}}.\\underline{X}=\\underline{B}$\n",
    "\n",
    "En este caso, se define para efectos de programación en Python:\n",
    "$\\underline{X}=\\displaystyle \\left[\\begin{matrix}x_0\\\\x_1\\\\x_2\\end{matrix}\\right]$\n",
    "\n"
   ]
  },
  {
   "cell_type": "code",
   "execution_count": 1,
   "id": "d6855f60-9788-458b-ba78-866e00500e84",
   "metadata": {},
   "outputs": [],
   "source": [
    "# Importación de liberías.\n",
    "import sympy as sp"
   ]
  },
  {
   "cell_type": "code",
   "execution_count": 2,
   "id": "f5b2c1cd",
   "metadata": {
    "scrolled": true
   },
   "outputs": [],
   "source": [
    "# Incógnitas simbólicas.\n",
    "x0, x1, x2 = sp.symbols('x_0 x_1 x_2')"
   ]
  },
  {
   "cell_type": "code",
   "execution_count": 3,
   "id": "efa51db9-13d5-4221-8017-7be247f20ac8",
   "metadata": {},
   "outputs": [],
   "source": [
    "# Constantes simbólicas.\n",
    "b0, b1, b2 = sp.symbols('b_0 b_1 b_2')"
   ]
  },
  {
   "cell_type": "code",
   "execution_count": 4,
   "id": "815f3ce6-f671-4440-a0f1-76f4dff45e32",
   "metadata": {
    "tags": []
   },
   "outputs": [],
   "source": [
    "# Coeficientes constantes simbólicos.\n",
    "i0, i1, i2 = sp.symbols('i_0 i_1 i_2')  # Se asocian a la primera ec.\n",
    "j0, j1, j2 = sp.symbols('j_0 j_1 j_2')  # Se asocian a la segunda ec.\n",
    "k0, k1, k2 = sp.symbols('k_0 k_1 k_2')  # Se asocian a la tercera ec."
   ]
  },
  {
   "cell_type": "code",
   "execution_count": 5,
   "id": "e67e4292",
   "metadata": {},
   "outputs": [],
   "source": [
    "# Definición de la matriz de coeficientes constantes.\n",
    "A = sp.Matrix([[i0, i1, i2],\n",
    "               [j0, j1, j2],\n",
    "               [k0, k1, k2]])"
   ]
  },
  {
   "cell_type": "code",
   "execution_count": 6,
   "id": "69032e5f",
   "metadata": {},
   "outputs": [
    {
     "data": {
      "text/latex": [
       "$\\displaystyle \\left[\\begin{matrix}i_{0} & i_{1} & i_{2}\\\\j_{0} & j_{1} & j_{2}\\\\k_{0} & k_{1} & k_{2}\\end{matrix}\\right]$"
      ],
      "text/plain": [
       "Matrix([\n",
       "[i_0, i_1, i_2],\n",
       "[j_0, j_1, j_2],\n",
       "[k_0, k_1, k_2]])"
      ]
     },
     "execution_count": 6,
     "metadata": {},
     "output_type": "execute_result"
    }
   ],
   "source": [
    "A"
   ]
  },
  {
   "cell_type": "code",
   "execution_count": 7,
   "id": "fc52e7ef",
   "metadata": {},
   "outputs": [],
   "source": [
    "X = sp.Matrix([x0, x1, x2])"
   ]
  },
  {
   "cell_type": "code",
   "execution_count": 8,
   "id": "69f292aa",
   "metadata": {},
   "outputs": [
    {
     "data": {
      "text/latex": [
       "$\\displaystyle \\left[\\begin{matrix}x_{0}\\\\x_{1}\\\\x_{2}\\end{matrix}\\right]$"
      ],
      "text/plain": [
       "Matrix([\n",
       "[x_0],\n",
       "[x_1],\n",
       "[x_2]])"
      ]
     },
     "execution_count": 8,
     "metadata": {},
     "output_type": "execute_result"
    }
   ],
   "source": [
    "X"
   ]
  },
  {
   "cell_type": "code",
   "execution_count": 9,
   "id": "dc616e0a",
   "metadata": {},
   "outputs": [],
   "source": [
    "B = sp.Matrix([b0, b1, b2])"
   ]
  },
  {
   "cell_type": "code",
   "execution_count": 10,
   "id": "508f2a19",
   "metadata": {},
   "outputs": [
    {
     "data": {
      "text/latex": [
       "$\\displaystyle \\left[\\begin{matrix}b_{0}\\\\b_{1}\\\\b_{2}\\end{matrix}\\right]$"
      ],
      "text/plain": [
       "Matrix([\n",
       "[b_0],\n",
       "[b_1],\n",
       "[b_2]])"
      ]
     },
     "execution_count": 10,
     "metadata": {},
     "output_type": "execute_result"
    }
   ],
   "source": [
    "B"
   ]
  },
  {
   "cell_type": "code",
   "execution_count": 11,
   "id": "1de72ac7",
   "metadata": {},
   "outputs": [],
   "source": [
    "P = A*X - B  # Esto es igual a 0 porque AX = B"
   ]
  },
  {
   "cell_type": "code",
   "execution_count": 12,
   "id": "b2746dca",
   "metadata": {
    "tags": []
   },
   "outputs": [
    {
     "data": {
      "text/latex": [
       "$\\displaystyle \\left[\\begin{matrix}- b_{0} + i_{0} x_{0} + i_{1} x_{1} + i_{2} x_{2}\\\\- b_{1} + j_{0} x_{0} + j_{1} x_{1} + j_{2} x_{2}\\\\- b_{2} + k_{0} x_{0} + k_{1} x_{1} + k_{2} x_{2}\\end{matrix}\\right]$"
      ],
      "text/plain": [
       "Matrix([\n",
       "[-b_0 + i_0*x_0 + i_1*x_1 + i_2*x_2],\n",
       "[-b_1 + j_0*x_0 + j_1*x_1 + j_2*x_2],\n",
       "[-b_2 + k_0*x_0 + k_1*x_1 + k_2*x_2]])"
      ]
     },
     "execution_count": 12,
     "metadata": {},
     "output_type": "execute_result"
    }
   ],
   "source": [
    "P"
   ]
  },
  {
   "cell_type": "markdown",
   "id": "0c2fe31e",
   "metadata": {
    "tags": []
   },
   "source": [
    "Por lo que, el sistema queda de la siguiente manera:\n",
    "\n",
    "$\\displaystyle \\left[\\begin{matrix}- b_{0} + i_{0} x_{0} + i_{1} x_{1} + i_{2} x_{2}\\\\- b_{1} + j_{0} x_{0} + j_{1} x_{1} + j_{2} x_{2}\\\\- b_{2} + k_{0} x_{0} + k_{1} x_{1} + k_{2} x_{2}\\end{matrix}\\right] = \\displaystyle \\left[\\begin{matrix}0\\\\0\\\\0\\end{matrix}\\right]$\n",
    "\n",
    "Se despeja $x_0$, $x_1$ y $x_2$ de la primera, segunda y tercera ecuación, respectivamente. "
   ]
  },
  {
   "cell_type": "code",
   "execution_count": 13,
   "id": "94efc882",
   "metadata": {},
   "outputs": [],
   "source": [
    "# Este código por el momento NO es necesario estudiarlo.\n",
    "e0 = sp.solve(P[0],x0)[0]\n",
    "e1 = sp.solve(P[1],x1)[0]\n",
    "e2 = sp.solve(P[2],x2)[0]"
   ]
  },
  {
   "cell_type": "code",
   "execution_count": 14,
   "id": "5154eca2",
   "metadata": {},
   "outputs": [
    {
     "data": {
      "text/latex": [
       "$\\displaystyle \\frac{b_{0} - i_{1} x_{1} - i_{2} x_{2}}{i_{0}}$"
      ],
      "text/plain": [
       "(b_0 - i_1*x_1 - i_2*x_2)/i_0"
      ]
     },
     "execution_count": 14,
     "metadata": {},
     "output_type": "execute_result"
    }
   ],
   "source": [
    "# De la ecuación 1, se despeja x0\n",
    "e0"
   ]
  },
  {
   "cell_type": "code",
   "execution_count": 15,
   "id": "2f29554e",
   "metadata": {},
   "outputs": [
    {
     "data": {
      "text/latex": [
       "$\\displaystyle \\frac{b_{1} - j_{0} x_{0} - j_{2} x_{2}}{j_{1}}$"
      ],
      "text/plain": [
       "(b_1 - j_0*x_0 - j_2*x_2)/j_1"
      ]
     },
     "execution_count": 15,
     "metadata": {},
     "output_type": "execute_result"
    }
   ],
   "source": [
    "# De la ecuación 2, se despeja x1\n",
    "e1"
   ]
  },
  {
   "cell_type": "code",
   "execution_count": 16,
   "id": "2ad504a9",
   "metadata": {},
   "outputs": [
    {
     "data": {
      "text/latex": [
       "$\\displaystyle \\frac{b_{2} - k_{0} x_{0} - k_{1} x_{1}}{k_{2}}$"
      ],
      "text/plain": [
       "(b_2 - k_0*x_0 - k_1*x_1)/k_2"
      ]
     },
     "execution_count": 16,
     "metadata": {},
     "output_type": "execute_result"
    }
   ],
   "source": [
    "# De la ecuación 3, se despeja x2\n",
    "e2"
   ]
  },
  {
   "cell_type": "markdown",
   "id": "cdc3df96",
   "metadata": {},
   "source": [
    "Es decir,\n",
    "\n",
    "$x_0 =\\displaystyle \\frac{b_{0} - i_{1} x_{1} - i_{2} x_{2}}{i_{0}}$\n",
    "\n",
    "$x_1 =\\displaystyle \\frac{b_{1} - j_{0} x_{0} - j_{2} x_{2}}{j_{1}}$\n",
    "\n",
    "$x_2 =\\displaystyle \\frac{b_{2} - k_{0} x_{0} - k_{1} x_{1}}{k_{2}}$\n",
    "\n",
    "Luego, se asume para la iteración 0 que:\n",
    "\n",
    "$\\displaystyle \\left[\\begin{matrix}x_{0}^{(m)}\\\\x_{1}^{(m)}\\\\x_{2}^{(m)}\\end{matrix}\\right]$ = $\\displaystyle \\left[\\begin{matrix}0\\\\0\\\\0\\end{matrix}\\right]$\n",
    "\n"
   ]
  },
  {
   "cell_type": "markdown",
   "id": "993aaf23",
   "metadata": {},
   "source": [
    "Con las ecuaciones organizadas así:\n",
    "\n",
    "$\\displaystyle \\left[\\begin{matrix}x_{0}^{(m+1)}\\\\x_{1}^{(m+1)}\\\\x_{2}^{(m+1)}\\end{matrix}\\right]$ = \n",
    "$\\displaystyle \\left[\\begin{matrix}\\frac{b_{0} - i_{1} x_{1}^{(m)} - i_{2} x_{2}^{(m)}}{i_{0}}\\\\\\frac{b_{1} - j_{0} x_{0}^{(m)} - j_{2} x_{2}^{(m)}}{j_{1}}\\\\\\frac{b_{2} - k_{0} x_{0}^{(m)} - k_{1} x_{1}^{(m)}}{k_{2}}\\end{matrix}\\right]$\n"
   ]
  },
  {
   "cell_type": "markdown",
   "id": "75ead2dd",
   "metadata": {},
   "source": [
    "Se obtienen después de la primera iteración que $x_{0}$, $x_{1}$ y $x_{2}$ toman nuevos valores, es decir, los valores que se usarán en la iteración 1. Así, sucesivamente ¿hasta qué iteración?\n",
    "\n",
    "Es allí, donde se definen unos criterios de error, los cuales se mostrarán más adelante."
   ]
  },
  {
   "cell_type": "markdown",
   "id": "0e2745d0-4499-49aa-a6ca-a3081bfa4894",
   "metadata": {
    "tags": []
   },
   "source": [
    "##### **1.1. Generalización del método a $mxm$**"
   ]
  },
  {
   "cell_type": "markdown",
   "id": "4ab45d0d",
   "metadata": {},
   "source": [
    "Resulta altamente complejo realizar despejes particulares para cada sistema de ecuaciones, por lo que, se busca una estructura matricial simple que llegue a la forma general $mxm$:"
   ]
  },
  {
   "cell_type": "markdown",
   "id": "9bbfe52f-20af-4234-a68a-7bd345824193",
   "metadata": {},
   "source": [
    "De caso $3x3$ sabemos que la ecuación del método es:\n",
    "\n",
    "$\\displaystyle \\left[\\begin{matrix}x_{0}^{(m+1)}\\\\x_{1}^{(m+1)}\\\\x_{2}^{(m+1)}\\end{matrix}\\right]$ = \n",
    "$\\displaystyle \\left[\\begin{matrix}\\frac{b_{0} - i_{1} x_{1}^{(m)} - i_{2} x_{2}^{(m)}}{i_{0}}\\\\\\frac{b_{1} - j_{0} x_{0}^{(m)} - j_{2} x_{2}^{(m)}}{j_{1}}\\\\\\frac{b_{2} - k_{0} x_{0}^{(m)} - k_{1} x_{1}^{(m)}}{k_{2}}\\end{matrix}\\right]$\n",
    "\n",
    "Por lo tanto, a partir de la ec(0) se busca construir una forma matricial general que no sea particular para $m=3$"
   ]
  },
  {
   "cell_type": "code",
   "execution_count": 17,
   "id": "987d828b",
   "metadata": {},
   "outputs": [],
   "source": [
    "# Se construye un vector con los resultados a los que queremos llegar.\n",
    "ec0 = sp.Matrix([e0, e1, e2])\n",
    "ec1 = sp.Matrix([e0, e1, e2]) # Se crea una copia para realizar operaciones."
   ]
  },
  {
   "cell_type": "code",
   "execution_count": 18,
   "id": "f6d5f8fa",
   "metadata": {
    "tags": []
   },
   "outputs": [
    {
     "data": {
      "text/latex": [
       "$\\displaystyle \\left[\\begin{matrix}\\frac{b_{0} - i_{1} x_{1} - i_{2} x_{2}}{i_{0}}\\\\\\frac{b_{1} - j_{0} x_{0} - j_{2} x_{2}}{j_{1}}\\\\\\frac{b_{2} - k_{0} x_{0} - k_{1} x_{1}}{k_{2}}\\end{matrix}\\right]$"
      ],
      "text/plain": [
       "Matrix([\n",
       "[(b_0 - i_1*x_1 - i_2*x_2)/i_0],\n",
       "[(b_1 - j_0*x_0 - j_2*x_2)/j_1],\n",
       "[(b_2 - k_0*x_0 - k_1*x_1)/k_2]])"
      ]
     },
     "execution_count": 18,
     "metadata": {},
     "output_type": "execute_result"
    }
   ],
   "source": [
    "ec0"
   ]
  },
  {
   "cell_type": "markdown",
   "id": "c1f778fd",
   "metadata": {},
   "source": [
    "¿Cómo se organiza?\n",
    "\n",
    "$\\displaystyle \\left[\\begin{matrix}\\frac{b_{0} - i_{1} x_{1} - i_{2} x_{2}}{i_{0}}\\\\\\frac{b_{1} - j_{0} x_{0} - j_{2} x_{2}}{j_{1}}\\\\\\frac{b_{2} - k_{0} x_{0} - k_{1} x_{1}}{k_{2}}\\end{matrix}\\right]$  ec(0)"
   ]
  },
  {
   "cell_type": "markdown",
   "id": "553cf77d",
   "metadata": {},
   "source": [
    "La propuesta es eliminar los denominadores de cada fila, de tal manera que, se multiplica la fila 0 por $i_0$, la fila 1 por $j_1$ y la fila 2 por $k_2$.\n",
    "\n",
    "Luego, esto deberá ser compensado multiplicando por $1/i_0$, $1/j_1$ y $1/k_2$, correpondientemente, en un paso siguiente a fin de consevar la igualdad."
   ]
  },
  {
   "cell_type": "code",
   "execution_count": 19,
   "id": "85e56826",
   "metadata": {},
   "outputs": [],
   "source": [
    "ec1[0] = ec1[0]*(i0)\n",
    "ec1[1] = ec1[1]*(j1)\n",
    "ec1[2] = ec1[2]*(k2)"
   ]
  },
  {
   "cell_type": "code",
   "execution_count": 20,
   "id": "4f50d668",
   "metadata": {},
   "outputs": [
    {
     "data": {
      "text/latex": [
       "$\\displaystyle \\left[\\begin{matrix}b_{0} - i_{1} x_{1} - i_{2} x_{2}\\\\b_{1} - j_{0} x_{0} - j_{2} x_{2}\\\\b_{2} - k_{0} x_{0} - k_{1} x_{1}\\end{matrix}\\right]$"
      ],
      "text/plain": [
       "Matrix([\n",
       "[b_0 - i_1*x_1 - i_2*x_2],\n",
       "[b_1 - j_0*x_0 - j_2*x_2],\n",
       "[b_2 - k_0*x_0 - k_1*x_1]])"
      ]
     },
     "execution_count": 20,
     "metadata": {},
     "output_type": "execute_result"
    }
   ],
   "source": [
    "ec1 # Ecuación 1"
   ]
  },
  {
   "cell_type": "markdown",
   "id": "ea6371a3",
   "metadata": {},
   "source": [
    "Recordando que:\n",
    "\n",
    "La matriz de coeficientes constantes está definida por:\n",
    "$\\underline{\\underline{A}}=\\displaystyle \\left[\\begin{matrix}i_{0} & i_{1} & i_{2}\\\\j_{0} & j_{1} & j_{2}\\\\k_{0} & k_{1} & k_{2}\\end{matrix}\\right]$\n",
    "\n",
    "El vector de constantes por:\n",
    "$\\underline{B}=\\displaystyle \\left[\\begin{matrix}b_0\\\\b_1\\\\b_2\\end{matrix}\\right]$\n",
    "\n",
    "Y el vector de incógnitas por:\n",
    "$\\underline{X}=\\displaystyle \\left[\\begin{matrix}x_0\\\\x_1\\\\x_2\\end{matrix}\\right]$\n",
    "\n",
    "¿Qué pasa si se realiza esta operación?\n",
    "\n",
    "$\\underline{B} - \\underline{\\underline{A}}.\\underline{X}$"
   ]
  },
  {
   "cell_type": "code",
   "execution_count": 21,
   "id": "ddb890fb",
   "metadata": {
    "scrolled": true,
    "tags": []
   },
   "outputs": [],
   "source": [
    "ec2 = B - A*X  # Ecuación 2"
   ]
  },
  {
   "cell_type": "markdown",
   "id": "b48c48b3",
   "metadata": {},
   "source": [
    "¿Qué similitudes tienen la ecuación 1 y la ecuación 2 ($\\underline{B} - \\underline{\\underline{A}}.\\underline{X}$)?\n",
    "\n",
    "$\\displaystyle \\left[\\begin{matrix}b_{0} - i_{1} x_{1} - i_{2} x_{2}\\\\b_{1} - j_{0} x_{0} - j_{2} x_{2}\\\\b_{2} - k_{0} x_{0} - k_{1} x_{1}\\end{matrix}\\right]$ ec(1)\n",
    "\n",
    "$\\displaystyle \\left[\\begin{matrix}b_{0} - i_{0} x_{0} - i_{1} x_{1} - i_{2} x_{2}\\\\b_{1} - j_{0} x_{0} - j_{1} x_{1} - j_{2} x_{2}\\\\b_{2} - k_{0} x_{0} - k_{1} x_{1} - k_{2} x_{2}\\end{matrix}\\right]$ ec(2)\n"
   ]
  },
  {
   "cell_type": "markdown",
   "id": "c48a5adf-4e5b-4f99-a861-77ad73c54ecd",
   "metadata": {},
   "source": [
    "Aplicamos la resta de las ecuaciones y revisamos qué elementos quedan:"
   ]
  },
  {
   "cell_type": "code",
   "execution_count": 22,
   "id": "957a996e",
   "metadata": {
    "tags": []
   },
   "outputs": [
    {
     "data": {
      "text/latex": [
       "$\\displaystyle \\left[\\begin{matrix}- i_{0} x_{0}\\\\- j_{1} x_{1}\\\\- k_{2} x_{2}\\end{matrix}\\right]$"
      ],
      "text/plain": [
       "Matrix([\n",
       "[-i_0*x_0],\n",
       "[-j_1*x_1],\n",
       "[-k_2*x_2]])"
      ]
     },
     "execution_count": 22,
     "metadata": {},
     "output_type": "execute_result"
    }
   ],
   "source": [
    "ec2-ec1"
   ]
  },
  {
   "cell_type": "markdown",
   "id": "98458f5f",
   "metadata": {
    "tags": []
   },
   "source": [
    "¿Qué elementos no son comunes?\n",
    "\n",
    "$\\displaystyle \\left[\\begin{matrix}\n",
    "b_{0} - \\underline{i_{0} x_{0}} - i_{1} x_{1} - i_{2} x_{2}\\\\\n",
    "b_{1} - j_{0} x_{0} - \\underline{j_{1} x_{1}} - j_{2} x_{2}\\\\\n",
    "b_{2} - k_{0} x_{0} - k_{1} x_{1} - \\underline{k_{2} x_{2}}\n",
    "\\end{matrix}\\right]$\n",
    "\n",
    "Claramente, corresponden a los elementos de la diagonal de la matriz de coeficientes constantes.\n",
    "\n",
    "Por lo tanto, la propuesta consiste en crear una matriz $\\underline{\\underline{T}}$ con los elementos de $\\underline{\\underline{A}}$, pero sin los elementos de la diagonal."
   ]
  },
  {
   "cell_type": "code",
   "execution_count": 23,
   "id": "9f6cc596",
   "metadata": {},
   "outputs": [],
   "source": [
    "# Se crea una matriz T con los mismos coeficientes constantes,\n",
    "# pero sin la diagonal.\n",
    "T = sp.Matrix([[ 0, i1, i2],\n",
    "               [j0,  0, j2],\n",
    "               [k0, k1,  0]])"
   ]
  },
  {
   "cell_type": "code",
   "execution_count": 24,
   "id": "eb3271ec",
   "metadata": {},
   "outputs": [
    {
     "data": {
      "text/latex": [
       "$\\displaystyle \\left[\\begin{matrix}0 & i_{1} & i_{2}\\\\j_{0} & 0 & j_{2}\\\\k_{0} & k_{1} & 0\\end{matrix}\\right]$"
      ],
      "text/plain": [
       "Matrix([\n",
       "[  0, i_1, i_2],\n",
       "[j_0,   0, j_2],\n",
       "[k_0, k_1,   0]])"
      ]
     },
     "execution_count": 24,
     "metadata": {},
     "output_type": "execute_result"
    }
   ],
   "source": [
    "T"
   ]
  },
  {
   "cell_type": "markdown",
   "id": "4aaf6189",
   "metadata": {},
   "source": [
    "Ahora, en vez de usar:\n",
    "\n",
    "$\\underline{B} - \\underline{\\underline{A}}.\\underline{X}$  ec(2)\n",
    "\n",
    "Se usa:\n",
    "$\\underline{B} - \\underline{\\underline{T}}.\\underline{X}$  ec(3)"
   ]
  },
  {
   "cell_type": "code",
   "execution_count": 25,
   "id": "6129e69f",
   "metadata": {
    "scrolled": true
   },
   "outputs": [],
   "source": [
    "ec3 = B - T*X"
   ]
  },
  {
   "cell_type": "code",
   "execution_count": 26,
   "id": "97987f25",
   "metadata": {
    "tags": []
   },
   "outputs": [
    {
     "data": {
      "text/latex": [
       "$\\displaystyle \\left[\\begin{matrix}b_{0} - i_{1} x_{1} - i_{2} x_{2}\\\\b_{1} - j_{0} x_{0} - j_{2} x_{2}\\\\b_{2} - k_{0} x_{0} - k_{1} x_{1}\\end{matrix}\\right]$"
      ],
      "text/plain": [
       "Matrix([\n",
       "[b_0 - i_1*x_1 - i_2*x_2],\n",
       "[b_1 - j_0*x_0 - j_2*x_2],\n",
       "[b_2 - k_0*x_0 - k_1*x_1]])"
      ]
     },
     "execution_count": 26,
     "metadata": {},
     "output_type": "execute_result"
    }
   ],
   "source": [
    "ec3"
   ]
  },
  {
   "cell_type": "markdown",
   "id": "3fb350e3-29ff-4299-bbe1-7f40a9a17208",
   "metadata": {},
   "source": [
    "Se verifica que la ecuación 3 con la nueva propuesta sea igual a la ecuación 1:"
   ]
  },
  {
   "cell_type": "code",
   "execution_count": 27,
   "id": "96c843cd",
   "metadata": {},
   "outputs": [
    {
     "data": {
      "text/latex": [
       "$\\displaystyle \\left[\\begin{matrix}0\\\\0\\\\0\\end{matrix}\\right]$"
      ],
      "text/plain": [
       "Matrix([\n",
       "[0],\n",
       "[0],\n",
       "[0]])"
      ]
     },
     "execution_count": 27,
     "metadata": {},
     "output_type": "execute_result"
    }
   ],
   "source": [
    "ec3-ec1"
   ]
  },
  {
   "cell_type": "markdown",
   "id": "d988cf67",
   "metadata": {
    "tags": []
   },
   "source": [
    "Ahora sí son iguales. Solo falta multiplicar cada fila por $1/i_0$, $1/j_1$ y $1/k_2$, correpondientemente, para llegar a la ec(0).\n",
    "\n",
    "¿Cómo se hace esto a partir de una operación matricial simple?"
   ]
  },
  {
   "cell_type": "code",
   "execution_count": 28,
   "id": "d730324d",
   "metadata": {},
   "outputs": [],
   "source": [
    "# Se crea una matriz D con la diagonal de A.\n",
    "D = sp.Matrix([\n",
    "               [i0,  0,  0],\n",
    "               [ 0, j1,  0],\n",
    "               [ 0,  0, k2],\n",
    "                           ])"
   ]
  },
  {
   "cell_type": "code",
   "execution_count": 29,
   "id": "98a7711b",
   "metadata": {},
   "outputs": [
    {
     "data": {
      "text/latex": [
       "$\\displaystyle \\left[\\begin{matrix}i_{0} & 0 & 0\\\\0 & j_{1} & 0\\\\0 & 0 & k_{2}\\end{matrix}\\right]$"
      ],
      "text/plain": [
       "Matrix([\n",
       "[i_0,   0,   0],\n",
       "[  0, j_1,   0],\n",
       "[  0,   0, k_2]])"
      ]
     },
     "execution_count": 29,
     "metadata": {},
     "output_type": "execute_result"
    }
   ],
   "source": [
    "D"
   ]
  },
  {
   "cell_type": "markdown",
   "id": "c01663ed",
   "metadata": {
    "tags": []
   },
   "source": [
    "Nótese que $\\underline{\\underline{A}}=\\underline{\\underline{D}}+\\underline{\\underline{T}}$, es decir, una forma de descomponer la matriz."
   ]
  },
  {
   "cell_type": "code",
   "execution_count": 30,
   "id": "327258c6",
   "metadata": {
    "tags": []
   },
   "outputs": [
    {
     "data": {
      "text/latex": [
       "$\\displaystyle \\left[\\begin{matrix}0 & 0 & 0\\\\0 & 0 & 0\\\\0 & 0 & 0\\end{matrix}\\right]$"
      ],
      "text/plain": [
       "Matrix([\n",
       "[0, 0, 0],\n",
       "[0, 0, 0],\n",
       "[0, 0, 0]])"
      ]
     },
     "execution_count": 30,
     "metadata": {},
     "output_type": "execute_result"
    }
   ],
   "source": [
    "# Se comprueba lo anterior.\n",
    "A-(D+T)"
   ]
  },
  {
   "cell_type": "markdown",
   "id": "91ca7755",
   "metadata": {},
   "source": [
    "Luego, $\\underline{\\underline{D}}^{-1}$ es:\n"
   ]
  },
  {
   "cell_type": "code",
   "execution_count": 31,
   "id": "ab0e79ca",
   "metadata": {
    "tags": []
   },
   "outputs": [
    {
     "data": {
      "text/latex": [
       "$\\displaystyle \\left[\\begin{matrix}\\frac{1}{i_{0}} & 0 & 0\\\\0 & \\frac{1}{j_{1}} & 0\\\\0 & 0 & \\frac{1}{k_{2}}\\end{matrix}\\right]$"
      ],
      "text/plain": [
       "Matrix([\n",
       "[1/i_0,     0,     0],\n",
       "[    0, 1/j_1,     0],\n",
       "[    0,     0, 1/k_2]])"
      ]
     },
     "execution_count": 31,
     "metadata": {},
     "output_type": "execute_result"
    }
   ],
   "source": [
    "D**-1"
   ]
  },
  {
   "cell_type": "markdown",
   "id": "3ed54ff9",
   "metadata": {},
   "source": [
    "Que tiene un muy bajo costo computacional, e incluso no es necesario realizar la operación con el concepto de inversa, sino con una rutina particular.\n",
    "\n",
    "Recordando que, se busca llegar a la ec(0):\n",
    "\n"
   ]
  },
  {
   "cell_type": "markdown",
   "id": "ae7693e9",
   "metadata": {},
   "source": [
    "$\\displaystyle \\left[\\begin{matrix}\\frac{b_{0} - i_{1} x_{1} - i_{2} x_{2}}{i_{0}}\\\\\\frac{b_{1} - j_{0} x_{0} - j_{2} x_{2}}{j_{1}}\\\\\\frac{b_{2} - k_{0} x_{0} - k_{1} x_{1}}{k_{2}}\\end{matrix}\\right]$\n",
    "\n",
    "Se verifica si con esta expresión se llega a la ecuación 0:\n",
    "\n",
    "$\\underline{\\underline{D}}^{-1}(\\underline{B}-\\underline{\\underline{T}}.\\underline{X})$"
   ]
  },
  {
   "cell_type": "code",
   "execution_count": 32,
   "id": "6632052d",
   "metadata": {},
   "outputs": [],
   "source": [
    "# Se verifica lo anterior.\n",
    "ec4 = D**-1*(B - T*X)"
   ]
  },
  {
   "cell_type": "code",
   "execution_count": 33,
   "id": "d42e329d",
   "metadata": {
    "tags": []
   },
   "outputs": [
    {
     "data": {
      "text/latex": [
       "$\\displaystyle \\left[\\begin{matrix}\\frac{b_{0} - i_{1} x_{1} - i_{2} x_{2}}{i_{0}}\\\\\\frac{b_{1} - j_{0} x_{0} - j_{2} x_{2}}{j_{1}}\\\\\\frac{b_{2} - k_{0} x_{0} - k_{1} x_{1}}{k_{2}}\\end{matrix}\\right]$"
      ],
      "text/plain": [
       "Matrix([\n",
       "[(b_0 - i_1*x_1 - i_2*x_2)/i_0],\n",
       "[(b_1 - j_0*x_0 - j_2*x_2)/j_1],\n",
       "[(b_2 - k_0*x_0 - k_1*x_1)/k_2]])"
      ]
     },
     "execution_count": 33,
     "metadata": {},
     "output_type": "execute_result"
    }
   ],
   "source": [
    "ec4"
   ]
  },
  {
   "cell_type": "markdown",
   "id": "41e1e125",
   "metadata": {},
   "source": [
    "$\\displaystyle \\left[\\begin{matrix}\\frac{b_{0} - i_{1} x_{1} - i_{2} x_{2}}{i_{0}}\\\\\\frac{b_{1} - j_{0} x_{0} - j_{2} x_{2}}{j_{1}}\\\\\\frac{b_{2} - k_{0} x_{0} - k_{1} x_{1}}{k_{2}}\\end{matrix}\\right]$ ec(4)"
   ]
  },
  {
   "cell_type": "code",
   "execution_count": 34,
   "id": "770b484b",
   "metadata": {},
   "outputs": [
    {
     "data": {
      "text/latex": [
       "$\\displaystyle \\left[\\begin{matrix}0\\\\0\\\\0\\end{matrix}\\right]$"
      ],
      "text/plain": [
       "Matrix([\n",
       "[0],\n",
       "[0],\n",
       "[0]])"
      ]
     },
     "execution_count": 34,
     "metadata": {},
     "output_type": "execute_result"
    }
   ],
   "source": [
    "# Se verifica si ec(4)=ec(0)\n",
    "ec4-ec0"
   ]
  },
  {
   "cell_type": "markdown",
   "id": "797d4446",
   "metadata": {},
   "source": [
    "Por lo tanto,\n",
    "\n",
    "$\\displaystyle \\left[\\begin{matrix}x_{0}^{(m+1)}\\\\x_{1}^{(m+1)}\\\\x_{2}^{(m+1)}\\end{matrix}\\right]=\n",
    "\\displaystyle \\left[\\begin{matrix}\\frac{1}{i_{0}} & 0 & 0\\\\0 & \\frac{1}{j_{1}} & 0\\\\0 & 0 & \\frac{1}{k_{2}}\\end{matrix}\\right]\\left(\\displaystyle \\left[\\begin{matrix}b_{0}\\\\b_{1}\\\\b_{2}\\end{matrix}\\right] - \\displaystyle \\left[\\begin{matrix}0 & i_{1} & i_{2}\\\\j_{0} & 0 & j_{2}\\\\k_{0} & k_{1} & 0\\end{matrix}\\right]\\displaystyle \\left[\\begin{matrix}x_0^{(m)}\\\\x_1^{(m)}\\\\x_2^{(m)}\\end{matrix}\\right]\\right)$ \n",
    "\n",
    "Con lo que se llega a la expresión buscada:\n",
    "\n",
    "$\\displaystyle \\left[\\begin{matrix}x_{0}^{(m+1)}\\\\x_{1}^{(m+1)}\\\\x_{2}^{(m+1)}\\end{matrix}\\right]$ = \n",
    "$\\displaystyle \\left[\\begin{matrix}\\frac{b_{0} - i_{1} x_{1}^{(m)} - i_{2} x_{2}^{(m)}}{i_{0}}\\\\\\frac{b_{1} - j_{0} x_{0}^{(m)} - j_{2} x_{2}^{(m)}}{j_{1}}\\\\\\frac{b_{2} - k_{0} x_{0}^{(m)} - k_{1} x_{1}^{(m)}}{k_{2}}\\end{matrix}\\right]$\n",
    "\n",
    "La expresión general del método es:\n",
    "\n",
    "$\\underline{X}^{m+1}=\\underline{\\underline{D}}^{-1}(\\underline{B}-\\underline{\\underline{T}}.\\underline{X}^{m})$\n",
    "\n",
    "en donde,\n",
    "$\\underline{\\underline{A}}=\\underline{\\underline{D}}+\\underline{\\underline{T}}$\n",
    "\n",
    "$\\underline{\\underline{D}}$ es una matriz diagonal con los elementos de la diagonal de la matriz $\\underline{\\underline{A}}$.\n",
    "\n",
    "\n"
   ]
  },
  {
   "cell_type": "markdown",
   "id": "a32f3e26",
   "metadata": {},
   "source": [
    "#### **1.2. Solución numérica con lista de listas**\n",
    "\n",
    "Para efectos de aprendizaje profundo de los procesos, se desarrollará su aplicación a partir de lista de listas y sin usar ningún módulo de Python.\n",
    "\n",
    "Inicialmente se desarrollará para un sistema de 3x3, y luego se ampliará a cualquier sistema."
   ]
  },
  {
   "cell_type": "code",
   "execution_count": 35,
   "id": "00a7469e",
   "metadata": {},
   "outputs": [],
   "source": [
    "# Se define la matriz coeficientes constantes A como una lista de listas.\n",
    "A = [[ 3, -1, -1],\n",
    "     [-1,  3,  1],\n",
    "     [ 2,  1,  4]]\n",
    "# Se define el vector B como una lista.\n",
    "B = [1, 3, 7]"
   ]
  },
  {
   "cell_type": "markdown",
   "id": "2d858a39",
   "metadata": {},
   "source": [
    "De acuerdo, con la formulación general, se debe descomponer la matriz $\\underline{\\underline{A}}$ en $\\underline{\\underline{D}}$ y $\\underline{\\underline{T}}$.\n"
   ]
  },
  {
   "cell_type": "markdown",
   "id": "6cd8328a",
   "metadata": {},
   "source": [
    "**Matriz $\\underline{\\underline{D}}$**"
   ]
  },
  {
   "cell_type": "code",
   "execution_count": 36,
   "id": "4f34ffe4",
   "metadata": {},
   "outputs": [],
   "source": [
    "# Matriz D, con los elementos de la diagonal.\n",
    "\n",
    "# Se define el espacio de memoria.\n",
    "D = [[0, 0, 0], [0, 0, 0], [0, 0, 0],]  # Para una matriz de 3x3.\n",
    "# De forma específica se deben asignar los valores así:\n",
    "# Fila 0\n",
    "D[0][0] = A[0][0]\n",
    "D[0][1] = 0\n",
    "D[0][2] = 0\n",
    "# Fila 1\n",
    "D[1][0] = 0\n",
    "D[1][1] = A[1][1]\n",
    "D[1][2] = 0\n",
    "# Fila 2\n",
    "D[2][0] = 0\n",
    "D[2][1] = 0\n",
    "D[2][2] = A[2][2]"
   ]
  },
  {
   "cell_type": "code",
   "execution_count": 37,
   "id": "1e148626",
   "metadata": {},
   "outputs": [
    {
     "data": {
      "text/plain": [
       "[[3, 0, 0], [0, 3, 0], [0, 0, 4]]"
      ]
     },
     "execution_count": 37,
     "metadata": {},
     "output_type": "execute_result"
    }
   ],
   "source": [
    "D"
   ]
  },
  {
   "cell_type": "markdown",
   "id": "04586394",
   "metadata": {},
   "source": [
    "Luego, este proceso no es tan eficiente. Por lo que es adecuado ponerlo dentro de un ciclo.\n",
    "\n",
    "Se observa que, cuando en $\\underline{\\underline{D}}$ ocurre que $i=j$, entonces se llama el corresponiente en $\\underline{\\underline{A}}$, y de lo contrario, si $i\\neq j$, se pone 0.\n",
    "\n",
    "Si $i=j$:\n",
    "\n",
    "$d_{ij} = a_{ij}$\n",
    "\n",
    "de lo contrario, si $i\\neq j$:\n",
    "\n",
    "$d_{ij} = 0$\n",
    "\n",
    "\n"
   ]
  },
  {
   "cell_type": "code",
   "execution_count": 38,
   "id": "6370ad58",
   "metadata": {},
   "outputs": [],
   "source": [
    "# Se define nuevamente el espacio de memoria.\n",
    "D = [[0, 0, 0], [0, 0, 0], [0, 0, 0],]  # Para una matriz de 3x3."
   ]
  },
  {
   "cell_type": "code",
   "execution_count": 39,
   "id": "52343b0f",
   "metadata": {},
   "outputs": [],
   "source": [
    "for i in range(3):      # Recorre 3 filas.\n",
    "    for j in range(3):  # Recorre 3 columnas.\n",
    "        if i==j:        # Condición 1.\n",
    "            D[i][j] = A[i][j]\n",
    "        else:           # Condición 2.\n",
    "            D[i][j] = 0            "
   ]
  },
  {
   "cell_type": "code",
   "execution_count": 40,
   "id": "c3e167f4",
   "metadata": {},
   "outputs": [
    {
     "data": {
      "text/plain": [
       "[[3, 0, 0], [0, 3, 0], [0, 0, 4]]"
      ]
     },
     "execution_count": 40,
     "metadata": {},
     "output_type": "execute_result"
    }
   ],
   "source": [
    "D"
   ]
  },
  {
   "cell_type": "markdown",
   "id": "f8e1afe1",
   "metadata": {},
   "source": [
    "De forma más general, si se tiene la matriz A de orden n (cuadrada), se podría crear automáticamente la matriz diagonal correspondiente:"
   ]
  },
  {
   "cell_type": "code",
   "execution_count": 41,
   "id": "1ed55964",
   "metadata": {
    "scrolled": true
   },
   "outputs": [],
   "source": [
    "n = len(A)     # El número de filas de A.\n",
    "m = len(A[0])  # El número de columnas de A.\n",
    "\n",
    "# Se crea una matriz de ceros de tamaño n.\n",
    "# Se supone que m=n, pero para evitar controlar errores en este paso\n",
    "# se crea de manera general.\n",
    "D = []\n",
    "for i in range(n):\n",
    "    D += [[]]\n",
    "    for j in range(m):\n",
    "        D[i] += [0]"
   ]
  },
  {
   "cell_type": "code",
   "execution_count": 42,
   "id": "ff781766",
   "metadata": {},
   "outputs": [
    {
     "data": {
      "text/plain": [
       "[[0, 0, 0], [0, 0, 0], [0, 0, 0]]"
      ]
     },
     "execution_count": 42,
     "metadata": {},
     "output_type": "execute_result"
    }
   ],
   "source": [
    "D"
   ]
  },
  {
   "cell_type": "code",
   "execution_count": 43,
   "id": "18e951a9",
   "metadata": {},
   "outputs": [],
   "source": [
    "for i in range(n):      # Recorre n filas.\n",
    "    for j in range(m):  # Recorre m columnas.\n",
    "        if i==j:        # Condición 1.\n",
    "            D[i][j] = A[i][j]\n",
    "        else:           # Condición 2.\n",
    "            D[i][j] = 0"
   ]
  },
  {
   "cell_type": "code",
   "execution_count": 44,
   "id": "65262028",
   "metadata": {
    "scrolled": true
   },
   "outputs": [
    {
     "data": {
      "text/plain": [
       "[[3, 0, 0], [0, 3, 0], [0, 0, 4]]"
      ]
     },
     "execution_count": 44,
     "metadata": {},
     "output_type": "execute_result"
    }
   ],
   "source": [
    "D"
   ]
  },
  {
   "cell_type": "markdown",
   "id": "98ab7409-c495-4e1e-b8e6-d649562abd10",
   "metadata": {},
   "source": [
    "Ya generalizado y sistematizado el proceso, se genera una función:"
   ]
  },
  {
   "cell_type": "code",
   "execution_count": 45,
   "id": "83c2c73b",
   "metadata": {},
   "outputs": [],
   "source": [
    "def matriz_D(A):\n",
    "    '''\n",
    "        Función a la que se le ingresa una matriz definida como una lista\n",
    "        de listas, y devuelve una matriz del mismo tamaño, pero únicamente\n",
    "        con los elementos de la diagonal.\n",
    "    '''\n",
    "    n = len(A)     # El número de filas de A.\n",
    "    m = len(A[0])  # El número de columnas de A.\n",
    "\n",
    "    # Se crea una matriz de ceros de tamaño n.\n",
    "    # Se supone que m=n, pero para evitar controlar errores en este paso\n",
    "    # se crea de manera general.\n",
    "    D = []\n",
    "    for i in range(n):\n",
    "        D += [[]]\n",
    "        for j in range(m):\n",
    "            D[i] += [0]\n",
    "\n",
    "    for i in range(n):      # Recorre n filas.\n",
    "        for j in range(m):  # Recorre m columnas.\n",
    "            if i==j:        # Condición 1.\n",
    "                D[i][j] = A[i][j]\n",
    "            #else:           # Condición 2.\n",
    "            #    D[i][j] = 0\n",
    "    return D"
   ]
  },
  {
   "cell_type": "code",
   "execution_count": 46,
   "id": "d7016a1a",
   "metadata": {},
   "outputs": [
    {
     "data": {
      "text/plain": [
       "[[3, 0, 0], [0, 3, 0], [0, 0, 4]]"
      ]
     },
     "execution_count": 46,
     "metadata": {},
     "output_type": "execute_result"
    }
   ],
   "source": [
    "# Se prueba su funcionamiento.\n",
    "matriz_D(A)"
   ]
  },
  {
   "cell_type": "code",
   "execution_count": 47,
   "id": "425f72ea",
   "metadata": {},
   "outputs": [],
   "source": [
    "# Se define una matriz J de tamaño 3x2.\n",
    "J = [[1, 2],\n",
    "     [3, 4],\n",
    "     [5, 6]]"
   ]
  },
  {
   "cell_type": "code",
   "execution_count": 48,
   "id": "b6f567ad",
   "metadata": {},
   "outputs": [
    {
     "data": {
      "text/plain": [
       "[[1, 0], [0, 4], [0, 0]]"
      ]
     },
     "execution_count": 48,
     "metadata": {},
     "output_type": "execute_result"
    }
   ],
   "source": [
    "matriz_D(J)"
   ]
  },
  {
   "cell_type": "code",
   "execution_count": 49,
   "id": "76c95d2b",
   "metadata": {},
   "outputs": [],
   "source": [
    "# Se define una matriz K de tamaño 2x3.\n",
    "K = [[1, 2, 3],\n",
    "     [4, 5, 6]]"
   ]
  },
  {
   "cell_type": "code",
   "execution_count": 50,
   "id": "11f67f1d",
   "metadata": {},
   "outputs": [
    {
     "data": {
      "text/plain": [
       "[[1, 0, 0], [0, 5, 0]]"
      ]
     },
     "execution_count": 50,
     "metadata": {},
     "output_type": "execute_result"
    }
   ],
   "source": [
    "matriz_D(K)"
   ]
  },
  {
   "cell_type": "markdown",
   "id": "c57437cd",
   "metadata": {},
   "source": [
    "**Matriz $\\underline{\\underline{T}}$**\n",
    "\n",
    "Matriz $\\underline{\\underline{T}}$, con los elementos que no son de la diagonal."
   ]
  },
  {
   "cell_type": "markdown",
   "id": "0de58b70",
   "metadata": {},
   "source": [
    "#### **Síntesis del método**\n",
    "De forma análoga a $\\underline{\\underline{D}}$, se observa que, cuando en $\\underline{\\underline{T}}$ ocurre que $i\\neq j$, entonces se llama el corresponiente en $\\underline{\\underline{A}}$, y de lo contrario, si $i=j$, se pone 0.\n",
    "\n",
    "Si $i\\neq j$:\n",
    "\n",
    "$d_{ij} = a_{ij}$\n",
    "\n",
    "de lo contrario, si $i=j$:\n",
    "\n",
    "$d_{ij} = 0$"
   ]
  },
  {
   "cell_type": "markdown",
   "id": "86dedf0f-ec8b-4604-9857-d2fd89dcb039",
   "metadata": {},
   "source": [
    "Ya generalizado y sistematizado el proceso, se genera una función:"
   ]
  },
  {
   "cell_type": "code",
   "execution_count": 51,
   "id": "cfb68860",
   "metadata": {},
   "outputs": [],
   "source": [
    "def matriz_T(A):\n",
    "    '''\n",
    "        Función a la que se le ingresa una matriz definida como una lista\n",
    "        de listas, y devuelve una matriz del mismo tamaño y con los mismos\n",
    "        elementos, pero sin los elementos de la diagonal.\n",
    "    '''\n",
    "    n = len(A)     # El número de filas de A.\n",
    "    m = len(A[0])  # El número de columnas de A.\n",
    "\n",
    "    # Se crea una matriz de ceros de tamaño n.\n",
    "    # Se supone que m=n, pero para evitar controlar errores en este paso\n",
    "    # se crea de manera general.\n",
    "    T = []\n",
    "    for i in range(n):\n",
    "        T += [[]]\n",
    "        for j in range(m):\n",
    "            T[i] += [0]\n",
    "\n",
    "    for i in range(n):      # Recorre n filas.\n",
    "        for j in range(m):  # Recorre m columnas.\n",
    "            if i!=j:        # Condición 1, ÚNICO CAMBIO: en vez de ==, !=.\n",
    "                T[i][j] = A[i][j]\n",
    "            #else:           # Condición 2.\n",
    "            #    T[i][j] = 0\n",
    "    return T"
   ]
  },
  {
   "cell_type": "markdown",
   "id": "2a5f1f04",
   "metadata": {},
   "source": [
    "Se prueba con las matrices $\\underline{\\underline{A}}$, $\\underline{\\underline{J}}$ y $\\underline{\\underline{K}}$; previamente definidas.\n"
   ]
  },
  {
   "cell_type": "code",
   "execution_count": 52,
   "id": "6af8fc01",
   "metadata": {},
   "outputs": [
    {
     "data": {
      "text/plain": [
       "[[0, -1, -1], [-1, 0, 1], [2, 1, 0]]"
      ]
     },
     "execution_count": 52,
     "metadata": {},
     "output_type": "execute_result"
    }
   ],
   "source": [
    "matriz_T(A)"
   ]
  },
  {
   "cell_type": "code",
   "execution_count": 53,
   "id": "65facc7c",
   "metadata": {},
   "outputs": [
    {
     "data": {
      "text/plain": [
       "[[0, 2], [3, 0], [5, 6]]"
      ]
     },
     "execution_count": 53,
     "metadata": {},
     "output_type": "execute_result"
    }
   ],
   "source": [
    "matriz_T(J)    "
   ]
  },
  {
   "cell_type": "code",
   "execution_count": 54,
   "id": "b159e71c",
   "metadata": {
    "scrolled": true
   },
   "outputs": [
    {
     "data": {
      "text/plain": [
       "[[0, 2, 3], [4, 0, 6]]"
      ]
     },
     "execution_count": 54,
     "metadata": {},
     "output_type": "execute_result"
    }
   ],
   "source": [
    "matriz_T(K)"
   ]
  },
  {
   "cell_type": "markdown",
   "id": "bf216400-cdfa-4a85-9583-478cb2198efc",
   "metadata": {},
   "source": [
    "Luego, la creación de la matriz de ceros se puede automatizar en una función:"
   ]
  },
  {
   "cell_type": "code",
   "execution_count": 55,
   "id": "6740f281",
   "metadata": {},
   "outputs": [],
   "source": [
    "def matriz_ceros(m, n):\n",
    "    '''\n",
    "        Se crea una matriz de ceros de tamaño mxn definida \n",
    "        como una lista de listas.\n",
    "    '''\n",
    "    C = []\n",
    "    for i in range(n):\n",
    "        C += [[]]\n",
    "        for j in range(m):\n",
    "            C[i] += [0]\n",
    "    return C"
   ]
  },
  {
   "cell_type": "code",
   "execution_count": 56,
   "id": "348a1618",
   "metadata": {},
   "outputs": [
    {
     "data": {
      "text/plain": [
       "[[0, 0, 0, 0], [0, 0, 0, 0], [0, 0, 0, 0], [0, 0, 0, 0]]"
      ]
     },
     "execution_count": 56,
     "metadata": {},
     "output_type": "execute_result"
    }
   ],
   "source": [
    "matriz_ceros(4, 4)"
   ]
  },
  {
   "cell_type": "markdown",
   "id": "254ea5c5",
   "metadata": {},
   "source": [
    "Adicionalmente, se requiere la inversa de la matriz diagonal $\\underline{\\underline{D}}$, la cual se puede obtener con una rutina sencilla, así:\n"
   ]
  },
  {
   "cell_type": "code",
   "execution_count": 57,
   "id": "b8c8d643",
   "metadata": {},
   "outputs": [],
   "source": [
    "def matriz_Dinv(D):\n",
    "    '''\n",
    "        Función que se le ingresa una matriz definida como una lista de litas, y retorna\n",
    "        la matriz inversa de la matriz diagonal correspondiente.\n",
    "    '''\n",
    "    n = len(D)     # El número de filas de D.\n",
    "    m = len(D[0])  # El número de columnas de D.\n",
    "    \n",
    "    # Se crea el espacio de memoria adecuado con ceros.\n",
    "    Dinv = matriz_ceros(m, n) # Esta función debe estar en el mismo programa que la función prin.\n",
    "\n",
    "    for i in range(n):      # Recorre n filas.\n",
    "        for j in range(m):  # Recorre m columnas.\n",
    "            if i==j:        # Condición ÚNICA.\n",
    "                Dinv[i][j] = 1/D[i][j]\n",
    "    return Dinv"
   ]
  },
  {
   "cell_type": "code",
   "execution_count": 58,
   "id": "9bbffcdc",
   "metadata": {
    "scrolled": true
   },
   "outputs": [
    {
     "data": {
      "text/plain": [
       "[[0.3333333333333333, 0, 0], [0, 0.3333333333333333, 0], [0, 0, 0.25]]"
      ]
     },
     "execution_count": 58,
     "metadata": {},
     "output_type": "execute_result"
    }
   ],
   "source": [
    "matriz_Dinv(D)"
   ]
  },
  {
   "cell_type": "markdown",
   "id": "db7dfe6b",
   "metadata": {},
   "source": [
    "Insistiendo en el uso de listas y no de módulos, se debe definir la multiplicación de una matriz de orden $nxn$ por un vector $nx1$, tal como se evidencia a continuación:\n",
    "\n",
    "$\\displaystyle \\left[\\begin{matrix}x_{0}^{(m+1)}\\\\x_{1}^{(m+1)}\\\\x_{2}^{(m+1)}\\end{matrix}\\right]$=\n",
    "$\\displaystyle \\left[\\begin{matrix}\\frac{1}{i_{0}} & 0 & 0\\\\0 & \\frac{1}{j_{1}} & 0\\\\0 & 0 & \\frac{1}{k_{2}}\\end{matrix}\\right]\\left(\\displaystyle \\left[\\begin{matrix}b_{0}\\\\b_{1}\\\\b_{2}\\end{matrix}\\right] - \\displaystyle \\left[\\begin{matrix}0 & i_{1} & i_{2}\\\\j_{0} & 0 & j_{2}\\\\k_{0} & k_{1} & 0\\end{matrix}\\right]\\displaystyle \\left[\\begin{matrix}x_0^{(m)}\\\\x_1^{(m)}\\\\x_2^{(m)}\\end{matrix}\\right]\\right)$ \n",
    "\n",
    "$\\underline{X}^{m+1}=\\underline{\\underline{D}}^{-1}(\\underline{B}-\\underline{\\underline{T}}.\\underline{X}^{m})$"
   ]
  },
  {
   "cell_type": "markdown",
   "id": "f0820711-dcbd-4670-8b11-5c60741f8f02",
   "metadata": {},
   "source": [
    "Creación del producto de una matriz por un vector conforme:"
   ]
  },
  {
   "cell_type": "code",
   "execution_count": 59,
   "id": "3ae59458",
   "metadata": {},
   "outputs": [
    {
     "data": {
      "text/plain": [
       "[[3, -1, -1], [-1, 3, 1], [2, 1, 4]]"
      ]
     },
     "execution_count": 59,
     "metadata": {},
     "output_type": "execute_result"
    }
   ],
   "source": [
    "A # Matriz previamente creada."
   ]
  },
  {
   "cell_type": "code",
   "execution_count": 60,
   "id": "f0dd8b38",
   "metadata": {},
   "outputs": [
    {
     "data": {
      "text/plain": [
       "[1, 3, 7]"
      ]
     },
     "execution_count": 60,
     "metadata": {},
     "output_type": "execute_result"
    }
   ],
   "source": [
    "B  # Vector previamente creado."
   ]
  },
  {
   "cell_type": "markdown",
   "id": "132efec5-f159-4a8d-950a-baef3921d21f",
   "metadata": {},
   "source": [
    "$\\underline{\\underline{A}}*\\underline{B}$ en el contexto matricial debe arrojar un vector del mismo tamaño que $\\underline{B}$."
   ]
  },
  {
   "cell_type": "code",
   "execution_count": 61,
   "id": "b0b326e7",
   "metadata": {},
   "outputs": [
    {
     "data": {
      "text/plain": [
       "[[0, 0, 0]]"
      ]
     },
     "execution_count": 61,
     "metadata": {},
     "output_type": "execute_result"
    }
   ],
   "source": [
    "# Se crea un vector del mismo tamaño que B, lleno de ceros.\n",
    "matriz_ceros(len(B), 1)"
   ]
  },
  {
   "cell_type": "code",
   "execution_count": 62,
   "id": "c3312ef7-5123-47f9-8440-f3fa21fbc265",
   "metadata": {},
   "outputs": [],
   "source": [
    "# Se le agrega el indexado cero para que sea una lista, y no una lista de listas.\n",
    "Mmul = matriz_ceros(len(B), 1)[0]  "
   ]
  },
  {
   "cell_type": "code",
   "execution_count": 63,
   "id": "169037cf",
   "metadata": {},
   "outputs": [
    {
     "data": {
      "text/plain": [
       "[0, 0, 0]"
      ]
     },
     "execution_count": 63,
     "metadata": {},
     "output_type": "execute_result"
    }
   ],
   "source": [
    "Mmul"
   ]
  },
  {
   "cell_type": "code",
   "execution_count": 64,
   "id": "6734eda5",
   "metadata": {},
   "outputs": [
    {
     "data": {
      "text/plain": [
       "[[0, 0, 0]]"
      ]
     },
     "execution_count": 64,
     "metadata": {},
     "output_type": "execute_result"
    }
   ],
   "source": [
    "# Note la diferencia\n",
    "matriz_ceros(len(B), 1)"
   ]
  },
  {
   "cell_type": "code",
   "execution_count": 65,
   "id": "372cfe50",
   "metadata": {},
   "outputs": [],
   "source": [
    "# Calculando de forma muy específica.\n",
    "Mmul[0] = B[0]*A[0][0] + B[1]*A[0][1] + B[2]*A[0][2]\n",
    "Mmul[1] = B[0]*A[1][0] + B[1]*A[1][1] + B[2]*A[1][2]\n",
    "Mmul[2] = B[0]*A[2][0] + B[1]*A[2][1] + B[2]*A[2][2]"
   ]
  },
  {
   "cell_type": "code",
   "execution_count": 66,
   "id": "65ec1634",
   "metadata": {
    "scrolled": true
   },
   "outputs": [
    {
     "data": {
      "text/plain": [
       "[-7, 15, 33]"
      ]
     },
     "execution_count": 66,
     "metadata": {},
     "output_type": "execute_result"
    }
   ],
   "source": [
    "Mmul"
   ]
  },
  {
   "cell_type": "markdown",
   "id": "dae33681-3c0a-49dc-bf60-09e8f6ca0c7f",
   "metadata": {},
   "source": [
    "Esto último se puede sistematizar, así:"
   ]
  },
  {
   "cell_type": "code",
   "execution_count": 67,
   "id": "354104e3",
   "metadata": {},
   "outputs": [],
   "source": [
    "# Se reserva nuevamente el espacio de memoria con ceros.\n",
    "Mmul = matriz_ceros(len(B), 1)[0]  \n",
    "\n",
    "for i in range(3):\n",
    "    for j in range(3):\n",
    "        Mmul[i] += B[j]*A[i][j]"
   ]
  },
  {
   "cell_type": "code",
   "execution_count": 68,
   "id": "a115337e",
   "metadata": {},
   "outputs": [
    {
     "data": {
      "text/plain": [
       "[-7, 15, 33]"
      ]
     },
     "execution_count": 68,
     "metadata": {},
     "output_type": "execute_result"
    }
   ],
   "source": [
    "Mmul"
   ]
  },
  {
   "cell_type": "code",
   "execution_count": 69,
   "id": "0c35e8b2",
   "metadata": {},
   "outputs": [],
   "source": [
    "# Y ahora, definido como una función general.\n",
    "# Esta función no prevee errores de tamaño, pues estos serán controlados en el programa principal.\n",
    "def Mmul_vector(A, B):\n",
    "    '''\n",
    "        Función que realiza la multiplicación de una matriz A cuadrada de orden \n",
    "        n definida como una lista de listas con un vector B de tamaño n \n",
    "        definido como una lista.\n",
    "        \n",
    "        Devuelve Mmul, del mismo tamaño que B.\n",
    "    '''\n",
    "    n = len(B)                    # Tamaño\n",
    "    Mmul = matriz_ceros(n, 1)[0]  # Vector de ceros de tamaño n.\n",
    "    \n",
    "    for i in range(n):\n",
    "        for j in range(n):\n",
    "            Mmul[i] += B[j]*A[i][j]\n",
    "            \n",
    "    return Mmul"
   ]
  },
  {
   "cell_type": "code",
   "execution_count": 70,
   "id": "d56ceefb",
   "metadata": {},
   "outputs": [
    {
     "data": {
      "text/plain": [
       "[-7, 15, 33]"
      ]
     },
     "execution_count": 70,
     "metadata": {},
     "output_type": "execute_result"
    }
   ],
   "source": [
    "Mmul_vector(A, B)"
   ]
  },
  {
   "cell_type": "markdown",
   "id": "ba65bad9-d396-4724-851d-e4cbd95c3bef",
   "metadata": {},
   "source": [
    "Antes de organizar el método, falta definir la resta de vectores definidos como listas."
   ]
  },
  {
   "cell_type": "code",
   "execution_count": 71,
   "id": "3e613649",
   "metadata": {},
   "outputs": [],
   "source": [
    "# Para construirlo se crean los vectores M y N.\n",
    "M = [1, 2, 3]\n",
    "N = [4, 5, 6]"
   ]
  },
  {
   "cell_type": "code",
   "execution_count": 72,
   "id": "511c12b6",
   "metadata": {},
   "outputs": [],
   "source": [
    "# Se crea un vector del mismo tamaño que los vectores, lleno de ceros.\n",
    "Mres = matriz_ceros(len(M), 1)[0]"
   ]
  },
  {
   "cell_type": "code",
   "execution_count": 73,
   "id": "d8acd937",
   "metadata": {},
   "outputs": [
    {
     "data": {
      "text/plain": [
       "[0, 0, 0]"
      ]
     },
     "execution_count": 73,
     "metadata": {},
     "output_type": "execute_result"
    }
   ],
   "source": [
    "Mres"
   ]
  },
  {
   "cell_type": "code",
   "execution_count": 74,
   "id": "bc491dd2",
   "metadata": {},
   "outputs": [],
   "source": [
    "Mres[0] = M[0]-N[0]\n",
    "Mres[1] = M[1]-N[1]\n",
    "Mres[2] = M[2]-N[2]"
   ]
  },
  {
   "cell_type": "code",
   "execution_count": 75,
   "id": "d8f99c2e",
   "metadata": {
    "scrolled": true
   },
   "outputs": [
    {
     "data": {
      "text/plain": [
       "[-3, -3, -3]"
      ]
     },
     "execution_count": 75,
     "metadata": {},
     "output_type": "execute_result"
    }
   ],
   "source": [
    "Mres"
   ]
  },
  {
   "cell_type": "markdown",
   "id": "6295a790-7e6f-4339-b91f-58b968bbdbfa",
   "metadata": {},
   "source": [
    "Sistematizado en una función, con la anotación de que no se prevee errores de tamaño, pues estos serán controlados en el programa principal."
   ]
  },
  {
   "cell_type": "code",
   "execution_count": 76,
   "id": "320e5137",
   "metadata": {},
   "outputs": [],
   "source": [
    "def Mres_vector(M, N):\n",
    "    '''\n",
    "        Función que resta dos vectores M y N definidos como listas, \n",
    "        devulve un vector del mismo tamaño con la resta M-N.\n",
    "    '''\n",
    "    n = len(M)                    # Tamaño\n",
    "    Mres = matriz_ceros(n, 1)[0]  # Vector de ceros de tamaño n.\n",
    "    \n",
    "    for i in range(n):\n",
    "        Mres[i] = M[i]-N[i]\n",
    "\n",
    "    return Mres    "
   ]
  },
  {
   "cell_type": "code",
   "execution_count": 77,
   "id": "87ab8dac",
   "metadata": {},
   "outputs": [
    {
     "data": {
      "text/plain": [
       "[-3, -3, -3]"
      ]
     },
     "execution_count": 77,
     "metadata": {},
     "output_type": "execute_result"
    }
   ],
   "source": [
    "Mres_vector(M, N)"
   ]
  },
  {
   "cell_type": "markdown",
   "id": "1e75af80",
   "metadata": {},
   "source": [
    "Finalmente, se compilan y organizan todas las funciones anteriormente definidas y se soluciona el problema. Hasta el momento se ha definido:\n",
    "- matriz_ceros(m, n)\n",
    "- matriz_D(A)\n",
    "- matriz_T(A)\n",
    "- matriz_Dinv(D)\n",
    "- Mmul_vector(A, B)\n",
    "- Mres_vector(M, N)\n",
    "\n",
    "Con estas funciones es suficiente para aplicar el método.\n"
   ]
  },
  {
   "cell_type": "markdown",
   "id": "0e4d8f7c-8a84-43be-a156-e24c36848e56",
   "metadata": {},
   "source": [
    "Se cuenta con la matriz de coeficientes constantes:"
   ]
  },
  {
   "cell_type": "code",
   "execution_count": 78,
   "id": "c3203205",
   "metadata": {},
   "outputs": [
    {
     "data": {
      "text/plain": [
       "[[3, -1, -1], [-1, 3, 1], [2, 1, 4]]"
      ]
     },
     "execution_count": 78,
     "metadata": {},
     "output_type": "execute_result"
    }
   ],
   "source": [
    "A"
   ]
  },
  {
   "cell_type": "markdown",
   "id": "92f650ec-5a91-45f7-818a-ba5f6361089f",
   "metadata": {},
   "source": [
    "Y con el vector de constantes:"
   ]
  },
  {
   "cell_type": "code",
   "execution_count": 79,
   "id": "efd72b93",
   "metadata": {
    "scrolled": true
   },
   "outputs": [
    {
     "data": {
      "text/plain": [
       "[1, 3, 7]"
      ]
     },
     "execution_count": 79,
     "metadata": {},
     "output_type": "execute_result"
    }
   ],
   "source": [
    "B"
   ]
  },
  {
   "cell_type": "markdown",
   "id": "5d06bc57",
   "metadata": {},
   "source": [
    "La forma general del método es:\n",
    "$\\underline{\\underline{X}}^{m+1}=\\underline{\\underline{D}}^{-1}(\\underline{\\underline{B}}-\\underline{\\underline{T}}.\\underline{\\underline{X}}^{m})$"
   ]
  },
  {
   "cell_type": "code",
   "execution_count": 80,
   "id": "ae1d8df9",
   "metadata": {},
   "outputs": [],
   "source": [
    "# Se definen las matrices constantes del método.\n",
    "Dinv = matriz_Dinv(A)\n",
    "T = matriz_T(A)"
   ]
  },
  {
   "cell_type": "code",
   "execution_count": 81,
   "id": "05063d51-0dbf-403f-a291-8e594384c0d1",
   "metadata": {},
   "outputs": [],
   "source": [
    "# Se define X0, para la primera iteración.\n",
    "X0 = [0, 0, 0]"
   ]
  },
  {
   "cell_type": "code",
   "execution_count": 82,
   "id": "3e3232ad",
   "metadata": {},
   "outputs": [],
   "source": [
    "TX0 = Mmul_vector(T, X0)\n",
    "B_TX0 = Mres_vector(B, TX0)\n",
    "X1 = Mmul_vector(Dinv, B_TX0)"
   ]
  },
  {
   "cell_type": "code",
   "execution_count": 83,
   "id": "c779ba02",
   "metadata": {},
   "outputs": [
    {
     "data": {
      "text/plain": [
       "[0.3333333333333333, 1.0, 1.75]"
      ]
     },
     "execution_count": 83,
     "metadata": {},
     "output_type": "execute_result"
    }
   ],
   "source": [
    "X1"
   ]
  },
  {
   "cell_type": "code",
   "execution_count": 84,
   "id": "aa88cc1d",
   "metadata": {},
   "outputs": [],
   "source": [
    "TX1 = Mmul_vector(T, X1)\n",
    "B_TX1 = Mres_vector(B, TX1)\n",
    "X2 = Mmul_vector(Dinv, B_TX1)"
   ]
  },
  {
   "cell_type": "code",
   "execution_count": 85,
   "id": "6d8b3c53",
   "metadata": {},
   "outputs": [
    {
     "data": {
      "text/plain": [
       "[1.25, 0.5277777777777777, 1.3333333333333335]"
      ]
     },
     "execution_count": 85,
     "metadata": {},
     "output_type": "execute_result"
    }
   ],
   "source": [
    "X2"
   ]
  },
  {
   "cell_type": "code",
   "execution_count": 86,
   "id": "e14c4747",
   "metadata": {},
   "outputs": [],
   "source": [
    "TX2 = Mmul_vector(T, X2)\n",
    "\n",
    "B_TX2 = Mres_vector(B, TX2)\n",
    "\n",
    "X3 = Mmul_vector(Dinv, B_TX2)"
   ]
  },
  {
   "cell_type": "code",
   "execution_count": 87,
   "id": "59200ab0",
   "metadata": {
    "scrolled": true
   },
   "outputs": [
    {
     "data": {
      "text/plain": [
       "[0.9537037037037037, 0.9722222222222221, 0.9930555555555556]"
      ]
     },
     "execution_count": 87,
     "metadata": {},
     "output_type": "execute_result"
    }
   ],
   "source": [
    "X3"
   ]
  },
  {
   "cell_type": "markdown",
   "id": "1bfa4974",
   "metadata": {},
   "source": [
    "En este caso sabemos que la solución es \\[1, 1, 1\\], y realmente se empieza a acercar con la tercera iteración.\n",
    "\n",
    "Una propuesta es crear un ciclo en `m` pasos, donde `m` puede ser un número como 10 o 100, y así, se garantiza muchos recálculos. ¿serán suficientes?\n"
   ]
  },
  {
   "cell_type": "code",
   "execution_count": 88,
   "id": "85778ab5",
   "metadata": {},
   "outputs": [],
   "source": [
    "X0 = [0, 0, 0]\n",
    "\n",
    "for i in range(100):\n",
    "    TX0 = Mmul_vector(T, X0)\n",
    "    B_TX0 = Mres_vector(B, TX0)\n",
    "    X1 = Mmul_vector(Dinv, B_TX0)\n",
    "    X0 = X1\n",
    "\n",
    "X = X0"
   ]
  },
  {
   "cell_type": "code",
   "execution_count": 89,
   "id": "b4f26f19",
   "metadata": {},
   "outputs": [
    {
     "data": {
      "text/plain": [
       "[1.0, 1.0, 1.0]"
      ]
     },
     "execution_count": 89,
     "metadata": {},
     "output_type": "execute_result"
    }
   ],
   "source": [
    "X"
   ]
  },
  {
   "cell_type": "markdown",
   "id": "99ddb72e",
   "metadata": {},
   "source": [
    "En este caso, claramente fue suficiente y la respuesta convergió muy bien. Pero se hace necesario un concepto más general para definir la cantidad de pasos de iteración a realizar.\n",
    "\n",
    "En **Khoury R., Harder, D. W. (2016)** se propone comparar el valor la distancia entre dos puntos soluciones en pasos sucesivos, de tal manera que, cuando se llegue a un valor de tolerancia definido, paren las iteraciones. Este criterio, tiene sentido en la medida de que cada vez más la solución de una iteración a otra se va a parecer más.\n",
    "\n"
   ]
  },
  {
   "cell_type": "markdown",
   "id": "db67595a-1782-4a83-9c52-2f9286ece2cc",
   "metadata": {},
   "source": [
    "Previamenye a la implementación del criterio, se define una función que arroje la norma de un vector definido como una lista."
   ]
  },
  {
   "cell_type": "code",
   "execution_count": 90,
   "id": "966e77e5",
   "metadata": {},
   "outputs": [],
   "source": [
    "def dis_punto(M, N):\n",
    "    '''\n",
    "        Función que devuelve la distancia entre dos puntos definidos como dos\n",
    "        vectores dentro de listas. Devuelve un escalar.\n",
    "    '''\n",
    "    n = len(M)  # Tamaño del vector.\n",
    "    dist_2 = 0  # Espacio de memoria.\n",
    "    for i in range(n):\n",
    "        dist_2 += (M[i]-N[i])**2\n",
    "    dist = (dist_2)**0.5\n",
    "\n",
    "    return dist"
   ]
  },
  {
   "cell_type": "code",
   "execution_count": 91,
   "id": "4d5e5c80",
   "metadata": {},
   "outputs": [
    {
     "data": {
      "text/plain": [
       "5.196152422706632"
      ]
     },
     "execution_count": 91,
     "metadata": {},
     "output_type": "execute_result"
    }
   ],
   "source": [
    "# Por ejemplo, para M y N previamente definidos.\n",
    "dis_punto(M, N)"
   ]
  },
  {
   "cell_type": "code",
   "execution_count": 92,
   "id": "597c6e55",
   "metadata": {},
   "outputs": [
    {
     "name": "stdout",
     "output_type": "stream",
     "text": [
      "23\n"
     ]
    }
   ],
   "source": [
    "# Se plantea el método con este criterio.\n",
    "X0 = [0, 0, 0]\n",
    "\n",
    "toler = 0.0000000001\n",
    "paso = 0\n",
    "\n",
    "while True:\n",
    "    TX0 = Mmul_vector(T, X0)\n",
    "    B_TX0 = Mres_vector(B, TX0)\n",
    "    X1 = Mmul_vector(Dinv, B_TX0)\n",
    "    paso += 1\n",
    "    if dis_punto(X1, X0) < toler:\n",
    "        print(paso)\n",
    "        break\n",
    "    X0 = X1\n",
    "\n",
    "X = X0"
   ]
  },
  {
   "cell_type": "code",
   "execution_count": 93,
   "id": "0415c72f",
   "metadata": {},
   "outputs": [
    {
     "data": {
      "text/plain": [
       "[0.9999999999983317, 0.9999999999379355, 1.0000000000552478]"
      ]
     },
     "execution_count": 93,
     "metadata": {},
     "output_type": "execute_result"
    }
   ],
   "source": [
    "X"
   ]
  },
  {
   "cell_type": "code",
   "execution_count": 94,
   "id": "78ebc881-f754-4d4f-96ed-018dee5b0a66",
   "metadata": {},
   "outputs": [],
   "source": [
    "# Se organiza la función del método con el nuevo criterio."
   ]
  },
  {
   "cell_type": "code",
   "execution_count": 95,
   "id": "b96f2f5e",
   "metadata": {},
   "outputs": [],
   "source": [
    "def metodo_jacobi(A, B):\n",
    "    n = len(A)\n",
    "    # Se definen las matrices constantes del método.\n",
    "    Dinv = matriz_Dinv(A)\n",
    "    T = matriz_T(A)\n",
    "\n",
    "    # Se define X0, para la primera iteración.\n",
    "    X0 = matriz_ceros(n, 1)[0]\n",
    "\n",
    "    toler = 0.0000000000000001\n",
    "    paso = 0\n",
    "\n",
    "    while True:\n",
    "        TX0 = Mmul_vector(T, X0)\n",
    "        B_TX0 = Mres_vector(B, TX0)\n",
    "        X1 = Mmul_vector(Dinv, B_TX0)\n",
    "        paso += 1\n",
    "        if dis_punto(X1, X0) < toler:\n",
    "            print(f\"Se hicieron {paso} iteraciones\")\n",
    "            break\n",
    "        X0 = X1\n",
    "\n",
    "    X = X0\n",
    "    return X"
   ]
  },
  {
   "cell_type": "markdown",
   "id": "a9a4b94e-2f99-46c8-87a2-f1460fa710e3",
   "metadata": {},
   "source": [
    "Probando con el ejemplo inicial:"
   ]
  },
  {
   "cell_type": "code",
   "execution_count": 96,
   "id": "d59e9985",
   "metadata": {
    "scrolled": true
   },
   "outputs": [
    {
     "name": "stdout",
     "output_type": "stream",
     "text": [
      "Se hicieron 36 iteraciones\n"
     ]
    },
    {
     "data": {
      "text/plain": [
       "[1.0, 1.0, 1.0]"
      ]
     },
     "execution_count": 96,
     "metadata": {},
     "output_type": "execute_result"
    }
   ],
   "source": [
    "metodo_jacobi(A, B)"
   ]
  },
  {
   "cell_type": "markdown",
   "id": "b76267ea-2888-4324-a875-03abf33fa287",
   "metadata": {},
   "source": [
    "Ejemplo 2:"
   ]
  },
  {
   "cell_type": "code",
   "execution_count": 97,
   "id": "4494ef4d",
   "metadata": {},
   "outputs": [],
   "source": [
    "A1 = [[11, -9],[11, 13]]\n",
    "B1 = [99, 286]"
   ]
  },
  {
   "cell_type": "code",
   "execution_count": 98,
   "id": "aae88d36",
   "metadata": {
    "scrolled": true
   },
   "outputs": [
    {
     "name": "stdout",
     "output_type": "stream",
     "text": [
      "Se hicieron 198 iteraciones\n"
     ]
    },
    {
     "data": {
      "text/plain": [
       "[15.954545454545455, 8.5]"
      ]
     },
     "execution_count": 98,
     "metadata": {},
     "output_type": "execute_result"
    }
   ],
   "source": [
    "metodo_jacobi(A1, B1)"
   ]
  },
  {
   "cell_type": "markdown",
   "id": "8ff025f2-c289-4140-94db-91051e07bfaa",
   "metadata": {},
   "source": [
    "Ejemplo 3:"
   ]
  },
  {
   "cell_type": "code",
   "execution_count": 99,
   "id": "030d4b5a",
   "metadata": {},
   "outputs": [],
   "source": [
    "A2 = [[11, 13],[11, -9]]\n",
    "B2 = [286, 99]"
   ]
  },
  {
   "cell_type": "code",
   "execution_count": 100,
   "id": "918acd38",
   "metadata": {},
   "outputs": [
    {
     "ename": "OverflowError",
     "evalue": "(34, 'Result too large')",
     "output_type": "error",
     "traceback": [
      "\u001b[1;31m---------------------------------------------------------------------------\u001b[0m",
      "\u001b[1;31mOverflowError\u001b[0m                             Traceback (most recent call last)",
      "\u001b[1;32m<ipython-input-100-8425b3874884>\u001b[0m in \u001b[0;36m<module>\u001b[1;34m\u001b[0m\n\u001b[1;32m----> 1\u001b[1;33m \u001b[0mmetodo_jacobi\u001b[0m\u001b[1;33m(\u001b[0m\u001b[0mA2\u001b[0m\u001b[1;33m,\u001b[0m \u001b[0mB2\u001b[0m\u001b[1;33m)\u001b[0m\u001b[1;33m\u001b[0m\u001b[1;33m\u001b[0m\u001b[0m\n\u001b[0m",
      "\u001b[1;32m<ipython-input-95-d89e5502d661>\u001b[0m in \u001b[0;36mmetodo_jacobi\u001b[1;34m(A, B)\u001b[0m\n\u001b[0;32m     16\u001b[0m         \u001b[0mX1\u001b[0m \u001b[1;33m=\u001b[0m \u001b[0mMmul_vector\u001b[0m\u001b[1;33m(\u001b[0m\u001b[0mDinv\u001b[0m\u001b[1;33m,\u001b[0m \u001b[0mB_TX0\u001b[0m\u001b[1;33m)\u001b[0m\u001b[1;33m\u001b[0m\u001b[1;33m\u001b[0m\u001b[0m\n\u001b[0;32m     17\u001b[0m         \u001b[0mpaso\u001b[0m \u001b[1;33m+=\u001b[0m \u001b[1;36m1\u001b[0m\u001b[1;33m\u001b[0m\u001b[1;33m\u001b[0m\u001b[0m\n\u001b[1;32m---> 18\u001b[1;33m         \u001b[1;32mif\u001b[0m \u001b[0mdis_punto\u001b[0m\u001b[1;33m(\u001b[0m\u001b[0mX1\u001b[0m\u001b[1;33m,\u001b[0m \u001b[0mX0\u001b[0m\u001b[1;33m)\u001b[0m \u001b[1;33m<\u001b[0m \u001b[0mtoler\u001b[0m\u001b[1;33m:\u001b[0m\u001b[1;33m\u001b[0m\u001b[1;33m\u001b[0m\u001b[0m\n\u001b[0m\u001b[0;32m     19\u001b[0m             \u001b[0mprint\u001b[0m\u001b[1;33m(\u001b[0m\u001b[1;34mf\"Se hicieron {paso} iteraciones\"\u001b[0m\u001b[1;33m)\u001b[0m\u001b[1;33m\u001b[0m\u001b[1;33m\u001b[0m\u001b[0m\n\u001b[0;32m     20\u001b[0m             \u001b[1;32mbreak\u001b[0m\u001b[1;33m\u001b[0m\u001b[1;33m\u001b[0m\u001b[0m\n",
      "\u001b[1;32m<ipython-input-90-76952450f292>\u001b[0m in \u001b[0;36mdis_punto\u001b[1;34m(M, N)\u001b[0m\n\u001b[0;32m      7\u001b[0m     \u001b[0mdist_2\u001b[0m \u001b[1;33m=\u001b[0m \u001b[1;36m0\u001b[0m  \u001b[1;31m# Espacio de memoria.\u001b[0m\u001b[1;33m\u001b[0m\u001b[1;33m\u001b[0m\u001b[0m\n\u001b[0;32m      8\u001b[0m     \u001b[1;32mfor\u001b[0m \u001b[0mi\u001b[0m \u001b[1;32min\u001b[0m \u001b[0mrange\u001b[0m\u001b[1;33m(\u001b[0m\u001b[0mn\u001b[0m\u001b[1;33m)\u001b[0m\u001b[1;33m:\u001b[0m\u001b[1;33m\u001b[0m\u001b[1;33m\u001b[0m\u001b[0m\n\u001b[1;32m----> 9\u001b[1;33m         \u001b[0mdist_2\u001b[0m \u001b[1;33m+=\u001b[0m \u001b[1;33m(\u001b[0m\u001b[0mM\u001b[0m\u001b[1;33m[\u001b[0m\u001b[0mi\u001b[0m\u001b[1;33m]\u001b[0m\u001b[1;33m-\u001b[0m\u001b[0mN\u001b[0m\u001b[1;33m[\u001b[0m\u001b[0mi\u001b[0m\u001b[1;33m]\u001b[0m\u001b[1;33m)\u001b[0m\u001b[1;33m**\u001b[0m\u001b[1;36m2\u001b[0m\u001b[1;33m\u001b[0m\u001b[1;33m\u001b[0m\u001b[0m\n\u001b[0m\u001b[0;32m     10\u001b[0m     \u001b[0mdist\u001b[0m \u001b[1;33m=\u001b[0m \u001b[1;33m(\u001b[0m\u001b[0mdist_2\u001b[0m\u001b[1;33m)\u001b[0m\u001b[1;33m**\u001b[0m\u001b[1;36m0.5\u001b[0m\u001b[1;33m\u001b[0m\u001b[1;33m\u001b[0m\u001b[0m\n\u001b[0;32m     11\u001b[0m \u001b[1;33m\u001b[0m\u001b[0m\n",
      "\u001b[1;31mOverflowError\u001b[0m: (34, 'Result too large')"
     ]
    }
   ],
   "source": [
    "metodo_jacobi(A2, B2)"
   ]
  },
  {
   "cell_type": "markdown",
   "id": "4c08c8e3",
   "metadata": {},
   "source": [
    "¿Qué ocurrió?"
   ]
  },
  {
   "cell_type": "markdown",
   "id": "2ef28ce4",
   "metadata": {},
   "source": [
    "El programa hizo muchísimas iteraciones hasta que se llenó la memoria, por lo tanto, en términos computacionales: **no convergió**."
   ]
  },
  {
   "cell_type": "markdown",
   "id": "ca3ab7fe-9bb6-4854-ad0d-29e31759cf3a",
   "metadata": {},
   "source": [
    "Se plantea una mejora en la que si el programa en iteración 100 no ha encontrado una solución que se ajuste al criterio de tolerancia, entonces suspende y simplemente arroja un mensaje diciedo \"no converge\". Sin embargo, no es suficiente, existe una última posibilidad con **pivoteo parcial** y revisando si la **matriz es dominante**.\n",
    "\n",
    "Estos dos conceptos serán aplicados en el desarrollo de la solución usando el módulo Numpy."
   ]
  },
  {
   "cell_type": "code",
   "execution_count": 101,
   "id": "94666c21",
   "metadata": {},
   "outputs": [],
   "source": [
    "def metodo_jacobi(A, B):\n",
    "    '''\n",
    "        Solución de un sistema AX=B, donde:\n",
    "        A: coeficientes constantes, se ingresa como una lista de listas.\n",
    "        X: incógnitas\n",
    "        B: constantes, se ingresa como una lista.\n",
    "        Se usa el método iterativo de Jacobi sin considerar mejoramiento de la\n",
    "        convergencia.\n",
    "    '''\n",
    "    n = len(A)\n",
    "    # Se definen las matrices constantes del método.\n",
    "    Dinv = matriz_Dinv(A)\n",
    "    T = matriz_T(A)\n",
    "\n",
    "    # Se define X0, para la primera iteración.\n",
    "    X0 = matriz_ceros(n, 1)[0]\n",
    "\n",
    "    toler = 0.0000000000000001\n",
    "    paso = 0\n",
    "\n",
    "    while True:\n",
    "        TX0 = Mmul_vector(T, X0)\n",
    "        B_TX0 = Mres_vector(B, TX0)\n",
    "        X1 = Mmul_vector(Dinv, B_TX0)\n",
    "        paso += 1\n",
    "        if dis_punto(X1, X0) < toler:\n",
    "            print(f\"Se hicieron {paso} iteraciones\")\n",
    "            break\n",
    "        X0 = X1\n",
    "        # Criterio de divergencia\n",
    "        if paso==1000:\n",
    "            X0 = 'No converge'\n",
    "            break  \n",
    "\n",
    "    X = X0\n",
    "    return X"
   ]
  },
  {
   "cell_type": "code",
   "execution_count": 102,
   "id": "1bd79ab7",
   "metadata": {},
   "outputs": [
    {
     "data": {
      "text/plain": [
       "'No converge'"
      ]
     },
     "execution_count": 102,
     "metadata": {},
     "output_type": "execute_result"
    }
   ],
   "source": [
    "metodo_jacobi(A2, B2)"
   ]
  },
  {
   "cell_type": "markdown",
   "id": "3eb6be68-3e8c-4b13-a2c5-3c88c8d49c25",
   "metadata": {},
   "source": [
    "Ver: [14-metodo_jacobi.py](https://github.com/jnramirezg/metodos_numericos_ingenieria_civil/blob/main/codigo/14-metodo_jacobi.py)"
   ]
  },
  {
   "cell_type": "markdown",
   "id": "9885d22c",
   "metadata": {},
   "source": [
    "#### **1.3. Solución numérica con Numpy**\n",
    "\n",
    "Se realiza una propuesta de solución de sistemas de ecuaciones usando el método de Jacobi con la librería Numpy de Python, únicamente usando las operaciones matriciales básicas."
   ]
  },
  {
   "cell_type": "code",
   "execution_count": 103,
   "id": "b746d565-f544-402a-adb9-3f7e5863b1d8",
   "metadata": {},
   "outputs": [],
   "source": [
    "# Importación de librerías\n",
    "import numpy as np"
   ]
  },
  {
   "cell_type": "markdown",
   "id": "56e59634-d2df-4384-84ac-faf892e4d7f5",
   "metadata": {
    "tags": []
   },
   "source": [
    "Inicialmente se crea una rutica para el caso particular de un sistema de $3x3$, pero en pasos posteriores se sistematiza para $nxn$."
   ]
  },
  {
   "cell_type": "code",
   "execution_count": 104,
   "id": "24550205",
   "metadata": {
    "tags": []
   },
   "outputs": [],
   "source": [
    "# Se define la matriz coeficientes constantes A como una lista de listas.\n",
    "A = [[ 3, -1, -1],\n",
    "     [-1,  3,  1],\n",
    "     [ 2,  1,  4]]\n",
    "# Se define el vector B como una lista.\n",
    "B = [1, 3, 7]"
   ]
  },
  {
   "cell_type": "markdown",
   "id": "3af1ad80-fbb0-4d00-b023-3a607cb05cbd",
   "metadata": {},
   "source": [
    "Se convierten los datos de entrada de listas a `np.array()`:"
   ]
  },
  {
   "cell_type": "code",
   "execution_count": 105,
   "id": "1c6261e4-952f-4c64-a5e2-712733367de1",
   "metadata": {},
   "outputs": [],
   "source": [
    "A = np.array(A)\n",
    "B = np.array(B)"
   ]
  },
  {
   "cell_type": "markdown",
   "id": "1cbbe83f-c5ab-4d1b-a95e-c2b8e792cbf3",
   "metadata": {},
   "source": [
    "Se define el tamaño del sistema, de las operaciones y los ciclos:"
   ]
  },
  {
   "cell_type": "code",
   "execution_count": 106,
   "id": "e944e0d2-ad1c-422e-a27e-94d45d8758fd",
   "metadata": {},
   "outputs": [],
   "source": [
    "n = len(A)"
   ]
  },
  {
   "cell_type": "markdown",
   "id": "21e7fb86-2f7f-4032-80e3-9374d40e2e03",
   "metadata": {},
   "source": [
    "**Matriz $\\underline{\\underline{D}}$** (con la diagonal de $\\underline{\\underline{A}}$)"
   ]
  },
  {
   "cell_type": "code",
   "execution_count": 107,
   "id": "4f03a7b5",
   "metadata": {},
   "outputs": [
    {
     "data": {
      "text/plain": [
       "array([[3, 0, 0],\n",
       "       [0, 3, 0],\n",
       "       [0, 0, 4]])"
      ]
     },
     "execution_count": 107,
     "metadata": {},
     "output_type": "execute_result"
    }
   ],
   "source": [
    "np.diag(np.diag(A))"
   ]
  },
  {
   "cell_type": "code",
   "execution_count": 108,
   "id": "7cfc5fcc",
   "metadata": {
    "scrolled": true
   },
   "outputs": [],
   "source": [
    "D = np.diag(np.diag(A))"
   ]
  },
  {
   "cell_type": "markdown",
   "id": "7df542ec-ba61-446b-9f27-2cf76b2cacd6",
   "metadata": {},
   "source": [
    "**Matriz $\\underline{\\underline{T}}$** (con los elementos que no son de la diagonal de $\\underline{\\underline{A}}$)"
   ]
  },
  {
   "cell_type": "code",
   "execution_count": 109,
   "id": "587bf8f1",
   "metadata": {},
   "outputs": [
    {
     "data": {
      "text/plain": [
       "array([[ 0, -1, -1],\n",
       "       [-1,  0,  1],\n",
       "       [ 2,  1,  0]])"
      ]
     },
     "execution_count": 109,
     "metadata": {},
     "output_type": "execute_result"
    }
   ],
   "source": [
    "A-D"
   ]
  },
  {
   "cell_type": "code",
   "execution_count": 110,
   "id": "ba0ca694",
   "metadata": {
    "scrolled": true,
    "tags": []
   },
   "outputs": [],
   "source": [
    "T = A-D"
   ]
  },
  {
   "cell_type": "markdown",
   "id": "8354a2fb-3605-4ccc-be36-629e176a42eb",
   "metadata": {},
   "source": [
    "**Matriz $\\underline{\\underline{D}}^{-1}$**"
   ]
  },
  {
   "cell_type": "code",
   "execution_count": 111,
   "id": "29d57fba-6941-4a5d-a94e-2c54570fdd59",
   "metadata": {},
   "outputs": [
    {
     "data": {
      "text/plain": [
       "array([0.33333333, 0.33333333, 0.25      ])"
      ]
     },
     "execution_count": 111,
     "metadata": {},
     "output_type": "execute_result"
    }
   ],
   "source": [
    "1/np.diag(A) # Esto no es lo mismo que la inversa matricial."
   ]
  },
  {
   "cell_type": "code",
   "execution_count": 112,
   "id": "67241123-a5ed-4eac-8934-76df044cd4a0",
   "metadata": {},
   "outputs": [
    {
     "data": {
      "text/plain": [
       "array([[0.33333333, 0.        , 0.        ],\n",
       "       [0.        , 0.33333333, 0.        ],\n",
       "       [0.        , 0.        , 0.25      ]])"
      ]
     },
     "execution_count": 112,
     "metadata": {},
     "output_type": "execute_result"
    }
   ],
   "source": [
    "np.diag(1/np.diag(A))"
   ]
  },
  {
   "cell_type": "code",
   "execution_count": 113,
   "id": "cac758c4",
   "metadata": {},
   "outputs": [],
   "source": [
    "Dinv = np.diag(1/np.diag(A))  "
   ]
  },
  {
   "cell_type": "markdown",
   "id": "e3455442-6839-4b7d-99f9-ab6013262d02",
   "metadata": {},
   "source": [
    "**Vector inicial de solución $\\underline{X_0}$**"
   ]
  },
  {
   "cell_type": "code",
   "execution_count": 114,
   "id": "5faa4427-8de1-4553-93df-492280a940b9",
   "metadata": {},
   "outputs": [
    {
     "data": {
      "text/plain": [
       "array([0., 0., 0.])"
      ]
     },
     "execution_count": 114,
     "metadata": {},
     "output_type": "execute_result"
    }
   ],
   "source": [
    "np.zeros(n)"
   ]
  },
  {
   "cell_type": "code",
   "execution_count": 115,
   "id": "baef0047-1c86-47ec-b66c-1117cbbb3620",
   "metadata": {},
   "outputs": [],
   "source": [
    "X0 = np.zeros(n)"
   ]
  },
  {
   "cell_type": "markdown",
   "id": "be673a57-7250-43d5-b27c-bfabcc6478b0",
   "metadata": {},
   "source": [
    "**Iteraciones de la solución**"
   ]
  },
  {
   "cell_type": "markdown",
   "id": "516f7d20-b695-4085-85fe-2988c1165c57",
   "metadata": {},
   "source": [
    "Se realiza iterativamente este cálculo:\n",
    "\n",
    "$\\underline{X}^{m+1}=\\underline{\\underline{D}}^{-1}(\\underline{B}-\\underline{\\underline{T}}.\\underline{X}^{m})$\n",
    "\n",
    "a partir de:\n",
    "\n",
    "$\\underline{X_0}$ = $\\displaystyle \\left[\\begin{matrix}0\\\\0\\\\0\\end{matrix}\\right]$\n"
   ]
  },
  {
   "cell_type": "code",
   "execution_count": 116,
   "id": "ee80f71a-49df-4f19-92e5-0061ef3146b9",
   "metadata": {},
   "outputs": [],
   "source": [
    "TX0 = T@X0\n",
    "B_TX0 = B-TX0\n",
    "X1 = Dinv@B_TX0"
   ]
  },
  {
   "cell_type": "code",
   "execution_count": 117,
   "id": "c11168c6-d27f-486e-96bb-f330fee5d14d",
   "metadata": {},
   "outputs": [
    {
     "data": {
      "text/plain": [
       "array([0.33333333, 1.        , 1.75      ])"
      ]
     },
     "execution_count": 117,
     "metadata": {},
     "output_type": "execute_result"
    }
   ],
   "source": [
    "X1"
   ]
  },
  {
   "cell_type": "code",
   "execution_count": 118,
   "id": "c346dd9c-9df8-436e-8f2a-aecaa064a8bb",
   "metadata": {},
   "outputs": [],
   "source": [
    "TX1 = T@X1\n",
    "B_TX1 = B-TX1\n",
    "X2 = Dinv@B_TX1"
   ]
  },
  {
   "cell_type": "code",
   "execution_count": 119,
   "id": "e8548b94-7b86-44b7-ae8e-82ea3c785891",
   "metadata": {},
   "outputs": [
    {
     "data": {
      "text/plain": [
       "array([1.25      , 0.52777778, 1.33333333])"
      ]
     },
     "execution_count": 119,
     "metadata": {},
     "output_type": "execute_result"
    }
   ],
   "source": [
    "X2"
   ]
  },
  {
   "cell_type": "code",
   "execution_count": 120,
   "id": "415d7fc4-ab45-441c-951b-4448be6d1f11",
   "metadata": {},
   "outputs": [],
   "source": [
    "TX2 = T@X2\n",
    "B_TX2 = B-TX2\n",
    "X3 = Dinv@B_TX2"
   ]
  },
  {
   "cell_type": "code",
   "execution_count": 121,
   "id": "b09bce20-3e03-4b68-a185-015424c14243",
   "metadata": {},
   "outputs": [
    {
     "data": {
      "text/plain": [
       "array([0.9537037 , 0.97222222, 0.99305556])"
      ]
     },
     "execution_count": 121,
     "metadata": {},
     "output_type": "execute_result"
    }
   ],
   "source": [
    "X3"
   ]
  },
  {
   "cell_type": "markdown",
   "id": "6d42ae72-a0ba-490d-b55a-d55f310954b8",
   "metadata": {},
   "source": [
    "En este caso sabemos que la solución es `[1, 1, 1]`, y realmente se empieza a acercar con la tercera iteración.\n",
    "\n",
    "Una propuesta es crear un ciclo en `m` pasos, donde `m` puede ser un número como 10 o 100, y así, se garantiza muchos recálculos. ¿serán suficientes?\n"
   ]
  },
  {
   "cell_type": "markdown",
   "id": "7f54bfb9-a45f-4306-956e-293ed0b481a0",
   "metadata": {
    "tags": []
   },
   "source": [
    "Se prueba con 5 ciclos:"
   ]
  },
  {
   "cell_type": "code",
   "execution_count": 122,
   "id": "9ab270bb-4c9b-44c0-89f8-6d503fe47e23",
   "metadata": {
    "tags": []
   },
   "outputs": [],
   "source": [
    "X0 = np.zeros(n)  # Se reinicia la solución.\n",
    "for i in range(5):\n",
    "    TX0 = T@X0\n",
    "    B_TX0 = B-TX0\n",
    "    X1 = Dinv@B_TX0\n",
    "    X0 = X1"
   ]
  },
  {
   "cell_type": "code",
   "execution_count": 123,
   "id": "c73091b8-c502-4c6a-831d-5be68b3c77ab",
   "metadata": {
    "jupyter": {
     "outputs_hidden": true
    },
    "tags": []
   },
   "outputs": [
    {
     "data": {
      "text/plain": [
       "array([1.00565844, 0.98611111, 1.00906636])"
      ]
     },
     "execution_count": 123,
     "metadata": {},
     "output_type": "execute_result"
    }
   ],
   "source": [
    "X0"
   ]
  },
  {
   "cell_type": "markdown",
   "id": "3f484bae-4eb0-4e36-ab35-c8d1e3e087da",
   "metadata": {},
   "source": [
    "Se prueba con 17 ciclos:"
   ]
  },
  {
   "cell_type": "code",
   "execution_count": 124,
   "id": "e0e8bcb7-40ba-4659-bec4-7efca0f83127",
   "metadata": {},
   "outputs": [],
   "source": [
    "X0 = np.zeros(n)  # Se reinicia la solución.\n",
    "for i in range(17):\n",
    "    TX0 = T@X0\n",
    "    B_TX0 = B-TX0\n",
    "    X1 = Dinv@B_TX0\n",
    "    X0 = X1"
   ]
  },
  {
   "cell_type": "code",
   "execution_count": 125,
   "id": "d1127e05-3dac-4131-82b1-d80c97a52501",
   "metadata": {
    "jupyter": {
     "outputs_hidden": true
    },
    "tags": []
   },
   "outputs": [
    {
     "data": {
      "text/plain": [
       "array([1.        , 0.99999999, 1.00000001])"
      ]
     },
     "execution_count": 125,
     "metadata": {},
     "output_type": "execute_result"
    }
   ],
   "source": [
    "X0"
   ]
  },
  {
   "cell_type": "markdown",
   "id": "49da4886-c694-4d6e-9e28-465ab4d1ee3e",
   "metadata": {},
   "source": [
    "Se prueba con 18 ciclos:"
   ]
  },
  {
   "cell_type": "code",
   "execution_count": 126,
   "id": "7a30a627-9def-4680-9dd9-ee0d6d415342",
   "metadata": {},
   "outputs": [],
   "source": [
    "X0 = np.zeros(n)  # Se reinicia la solución.\n",
    "for i in range(18):\n",
    "    TX0 = T@X0\n",
    "    B_TX0 = B-TX0\n",
    "    X1 = Dinv@B_TX0\n",
    "    X0 = X1"
   ]
  },
  {
   "cell_type": "code",
   "execution_count": 127,
   "id": "1eef097a-fe25-435d-8392-852af784d136",
   "metadata": {},
   "outputs": [
    {
     "data": {
      "text/plain": [
       "array([1., 1., 1.])"
      ]
     },
     "execution_count": 127,
     "metadata": {},
     "output_type": "execute_result"
    }
   ],
   "source": [
    "X0"
   ]
  },
  {
   "cell_type": "markdown",
   "id": "66b41d71-77bb-4846-aa93-ce1457d09d67",
   "metadata": {},
   "source": [
    "En este caso, claramente fue suficiente y la respuesta convergió muy bien. Pero se hace necesario un concepto más general para definir la cantidad de pasos de iteración a realizar para cualquier sistema.\n",
    "\n",
    "En **Khoury R., Harder, D. W. (2016)** se propone comparar el valor la distancia entre dos puntos soluciones en pasos sucesivos, de tal manera que, cuando se llegue a un valor de tolerancia definido, paren las iteraciones. Este criterio, tiene sentido en la medida de que cada vez más la solución de una iteración a otra se va a parecer más."
   ]
  },
  {
   "cell_type": "markdown",
   "id": "47602925-8b7e-4571-ab87-276778e24ae8",
   "metadata": {},
   "source": [
    "**Criterio de convergencia**"
   ]
  },
  {
   "cell_type": "markdown",
   "id": "645360cf-2cc1-4c77-ad1d-e61dbe1f4690",
   "metadata": {},
   "source": [
    "Suponiendo que de un paso a otro se obtuvieron las soluciones `X1` y `X2`:"
   ]
  },
  {
   "cell_type": "code",
   "execution_count": 128,
   "id": "65d549bc-3290-4181-8f01-9082d66ed555",
   "metadata": {},
   "outputs": [],
   "source": [
    "X1 = np.array([0.9537037 , 0.97222222, 0.99305556])\n",
    "X2 = np.array([1.25      , 0.52777778, 1.33333333])"
   ]
  },
  {
   "cell_type": "markdown",
   "id": "4965b154-15f2-4c6c-be1f-30fd691f8397",
   "metadata": {
    "tags": []
   },
   "source": [
    "Teniendo en cuenta que la distancia entre un punto $\\underline{A}=(x_1, y_1, z_1)$ y un punto $\\underline{B}=(x_2, y_2, z_2)$ es:\n",
    "\n",
    "$dist_{AB}=\\sqrt{(x_2-x_1)^2+(y_2-y_1)^2+(z_2-z_1)^2}$\n",
    "\n"
   ]
  },
  {
   "cell_type": "code",
   "execution_count": 129,
   "id": "9eceacc8-a467-4a74-b7fa-6c913172cc2b",
   "metadata": {},
   "outputs": [
    {
     "data": {
      "text/plain": [
       "array([ 0.2962963 , -0.44444444,  0.34027777])"
      ]
     },
     "execution_count": 129,
     "metadata": {},
     "output_type": "execute_result"
    }
   ],
   "source": [
    "X2-X1"
   ]
  },
  {
   "cell_type": "code",
   "execution_count": 130,
   "id": "4c00c578-2bba-4491-af9a-1ed35dda5869",
   "metadata": {},
   "outputs": [
    {
     "data": {
      "text/plain": [
       "array([0.0877915 , 0.19753086, 0.11578896])"
      ]
     },
     "execution_count": 130,
     "metadata": {},
     "output_type": "execute_result"
    }
   ],
   "source": [
    "(X2-X1)**2"
   ]
  },
  {
   "cell_type": "code",
   "execution_count": 131,
   "id": "ed25c6f2-973d-484c-b170-f06ef8fcdc26",
   "metadata": {},
   "outputs": [
    {
     "data": {
      "text/plain": [
       "0.40111131839677666"
      ]
     },
     "execution_count": 131,
     "metadata": {},
     "output_type": "execute_result"
    }
   ],
   "source": [
    "sum((X2-X1)**2)"
   ]
  },
  {
   "cell_type": "markdown",
   "id": "d57faa86-5912-42d7-b1a4-d04039e7daaf",
   "metadata": {},
   "source": [
    "Finalmente, la distancia entre los dos puntos es:"
   ]
  },
  {
   "cell_type": "code",
   "execution_count": 132,
   "id": "991306be-27ea-4a4e-bc12-6f199ec24408",
   "metadata": {
    "tags": []
   },
   "outputs": [
    {
     "data": {
      "text/plain": [
       "0.6333334969798903"
      ]
     },
     "execution_count": 132,
     "metadata": {},
     "output_type": "execute_result"
    }
   ],
   "source": [
    "sum((X2-X1)**2)**0.5"
   ]
  },
  {
   "cell_type": "markdown",
   "id": "cfb9a889-7081-4407-98a4-f805d3f29e78",
   "metadata": {},
   "source": [
    "Se implementa el criterio de convergencia mediante un ciclo `while True` - `break`:"
   ]
  },
  {
   "cell_type": "code",
   "execution_count": 133,
   "id": "d7377e22-954f-48fa-95a2-ffd9d26fbc1a",
   "metadata": {
    "tags": []
   },
   "outputs": [
    {
     "name": "stdout",
     "output_type": "stream",
     "text": [
      "Se hicieron 36 iteraciones\n"
     ]
    }
   ],
   "source": [
    "X0 = np.zeros(n)            # Se reinicia la solución.\n",
    "toler = 0.0000000000000001  # Definición de la tolerancia.\n",
    "paso = 0\n",
    "\n",
    "while True:\n",
    "    TX0 = T@X0\n",
    "    B_TX0 = B-TX0\n",
    "    X1 = Dinv@B_TX0\n",
    "    paso += 1\n",
    "    # Criterio de convergencia\n",
    "    dis_puntos = sum((X1-X0)**2)**0.5\n",
    "    if dis_puntos < toler:\n",
    "        print(f\"Se hicieron {paso} iteraciones\")\n",
    "        break\n",
    "    X0 = X1"
   ]
  },
  {
   "cell_type": "code",
   "execution_count": 134,
   "id": "a521c1c5-386a-42a5-954b-f603e26c61e9",
   "metadata": {},
   "outputs": [
    {
     "data": {
      "text/plain": [
       "array([1., 1., 1.])"
      ]
     },
     "execution_count": 134,
     "metadata": {},
     "output_type": "execute_result"
    }
   ],
   "source": [
    "X0"
   ]
  },
  {
   "cell_type": "markdown",
   "id": "e6846d03-fa8e-4805-ae75-c6117917b43c",
   "metadata": {},
   "source": [
    "Se implementan los resultados anteriores como una función:"
   ]
  },
  {
   "cell_type": "code",
   "execution_count": 135,
   "id": "69dd4d9c-e331-464e-b33c-baa335b0833a",
   "metadata": {
    "tags": []
   },
   "outputs": [],
   "source": [
    "def np_metodo_jacobi(A, B):\n",
    "    A = np.array(A)\n",
    "    B = np.array(B)\n",
    "    n = len(A)\n",
    "    # Se definen las matrices constantes del método.\n",
    "    D = np.diag(np.diag(A))\n",
    "    Dinv = np.diag(1/np.diag(A))\n",
    "    T = A-D\n",
    "    # Se define X0, para la primera iteración.\n",
    "    X0 = np.zeros(n)\n",
    "\n",
    "    toler = 0.0000000000000001\n",
    "    paso = 0\n",
    "\n",
    "    while True:\n",
    "        TX0 = T@X0\n",
    "        B_TX0 = B-TX0\n",
    "        X1 = Dinv@B_TX0\n",
    "        paso += 1\n",
    "        # Criterio de convergencia\n",
    "        dis_puntos = sum((X1-X0)**2)**0.5\n",
    "        if dis_puntos < toler:\n",
    "            print(f\"Se hicieron {paso} iteraciones\")\n",
    "            break\n",
    "        X0 = X1\n",
    "    \n",
    "    X = X0\n",
    "    return X"
   ]
  },
  {
   "cell_type": "markdown",
   "id": "08ef25a1-dad9-4821-b56f-b7924241b4d5",
   "metadata": {},
   "source": [
    "Probando con el ejemplo inicial:"
   ]
  },
  {
   "cell_type": "code",
   "execution_count": 136,
   "id": "c49ad526-55ed-406e-ac57-c26c0711bee2",
   "metadata": {},
   "outputs": [
    {
     "name": "stdout",
     "output_type": "stream",
     "text": [
      "Se hicieron 36 iteraciones\n"
     ]
    },
    {
     "data": {
      "text/plain": [
       "array([1., 1., 1.])"
      ]
     },
     "execution_count": 136,
     "metadata": {},
     "output_type": "execute_result"
    }
   ],
   "source": [
    "np_metodo_jacobi(A, B)"
   ]
  },
  {
   "cell_type": "markdown",
   "id": "8eb807c5-58ab-4a0b-95f7-62071850fed9",
   "metadata": {},
   "source": [
    "Ejemplo 2:"
   ]
  },
  {
   "cell_type": "code",
   "execution_count": 137,
   "id": "2847e039-c668-47d6-a87f-94e7f7190f49",
   "metadata": {},
   "outputs": [],
   "source": [
    "A1 = [[11, -9],[11, 13]]\n",
    "B1 = [99, 286]"
   ]
  },
  {
   "cell_type": "code",
   "execution_count": 138,
   "id": "3072dd6f-d22c-409f-9a5e-41de1652ec1e",
   "metadata": {},
   "outputs": [
    {
     "name": "stdout",
     "output_type": "stream",
     "text": [
      "Se hicieron 198 iteraciones\n"
     ]
    },
    {
     "data": {
      "text/plain": [
       "array([15.95454545,  8.5       ])"
      ]
     },
     "execution_count": 138,
     "metadata": {},
     "output_type": "execute_result"
    }
   ],
   "source": [
    "np_metodo_jacobi(A1, B1)"
   ]
  },
  {
   "cell_type": "markdown",
   "id": "73ccbcb9-4d5c-45ac-8b25-e03052ee98d0",
   "metadata": {},
   "source": [
    "Ejemplo 3:"
   ]
  },
  {
   "cell_type": "code",
   "execution_count": 139,
   "id": "23b5faf8-92f0-40ff-a632-030e6a798ac3",
   "metadata": {},
   "outputs": [],
   "source": [
    "A2 = [[11, 13],[11, -9]]\n",
    "B2 = [286, 99]"
   ]
  },
  {
   "cell_type": "code",
   "execution_count": 140,
   "id": "68779759-e9d7-4f47-bb29-afb8ee3e98cb",
   "metadata": {},
   "outputs": [
    {
     "name": "stderr",
     "output_type": "stream",
     "text": [
      "<ipython-input-135-7e3b59ebc933>:21: RuntimeWarning: overflow encountered in square\n",
      "  dis_puntos = sum((X1-X0)**2)**0.5\n",
      "<ipython-input-135-7e3b59ebc933>:16: RuntimeWarning: overflow encountered in matmul\n",
      "  TX0 = T@X0\n",
      "<ipython-input-135-7e3b59ebc933>:18: RuntimeWarning: invalid value encountered in matmul\n",
      "  X1 = Dinv@B_TX0\n",
      "<ipython-input-135-7e3b59ebc933>:16: RuntimeWarning: invalid value encountered in matmul\n",
      "  TX0 = T@X0\n"
     ]
    },
    {
     "ename": "KeyboardInterrupt",
     "evalue": "",
     "output_type": "error",
     "traceback": [
      "\u001b[1;31m---------------------------------------------------------------------------\u001b[0m",
      "\u001b[1;31mKeyboardInterrupt\u001b[0m                         Traceback (most recent call last)",
      "\u001b[1;32m<ipython-input-140-b8abf0cb4b33>\u001b[0m in \u001b[0;36m<module>\u001b[1;34m\u001b[0m\n\u001b[1;32m----> 1\u001b[1;33m \u001b[0mnp_metodo_jacobi\u001b[0m\u001b[1;33m(\u001b[0m\u001b[0mA2\u001b[0m\u001b[1;33m,\u001b[0m \u001b[0mB2\u001b[0m\u001b[1;33m)\u001b[0m \u001b[1;31m# Si se corre, se debe reiniciar suspender manualmente.\u001b[0m\u001b[1;33m\u001b[0m\u001b[1;33m\u001b[0m\u001b[0m\n\u001b[0m",
      "\u001b[1;32m<ipython-input-135-7e3b59ebc933>\u001b[0m in \u001b[0;36mnp_metodo_jacobi\u001b[1;34m(A, B)\u001b[0m\n\u001b[0;32m     14\u001b[0m \u001b[1;33m\u001b[0m\u001b[0m\n\u001b[0;32m     15\u001b[0m     \u001b[1;32mwhile\u001b[0m \u001b[1;32mTrue\u001b[0m\u001b[1;33m:\u001b[0m\u001b[1;33m\u001b[0m\u001b[1;33m\u001b[0m\u001b[0m\n\u001b[1;32m---> 16\u001b[1;33m         \u001b[0mTX0\u001b[0m \u001b[1;33m=\u001b[0m \u001b[0mT\u001b[0m\u001b[1;33m@\u001b[0m\u001b[0mX0\u001b[0m\u001b[1;33m\u001b[0m\u001b[1;33m\u001b[0m\u001b[0m\n\u001b[0m\u001b[0;32m     17\u001b[0m         \u001b[0mB_TX0\u001b[0m \u001b[1;33m=\u001b[0m \u001b[0mB\u001b[0m\u001b[1;33m-\u001b[0m\u001b[0mTX0\u001b[0m\u001b[1;33m\u001b[0m\u001b[1;33m\u001b[0m\u001b[0m\n\u001b[0;32m     18\u001b[0m         \u001b[0mX1\u001b[0m \u001b[1;33m=\u001b[0m \u001b[0mDinv\u001b[0m\u001b[1;33m@\u001b[0m\u001b[0mB_TX0\u001b[0m\u001b[1;33m\u001b[0m\u001b[1;33m\u001b[0m\u001b[0m\n",
      "\u001b[1;31mKeyboardInterrupt\u001b[0m: "
     ]
    }
   ],
   "source": [
    "np_metodo_jacobi(A2, B2) # Si se corre, se debe reiniciar suspender manualmente."
   ]
  },
  {
   "cell_type": "markdown",
   "id": "a1cd26ac-ad94-4066-9b52-0aaa6be2d631",
   "metadata": {
    "tags": []
   },
   "source": [
    "\"El error de desbordamiento implica que una operación produce un valor fuera del rango definido para el tipo de datos correspondiente. Para numpy double, ese rango es (-1.79769313486e + 308, 1.79769313486e + 308)\"\n",
    "\n",
    "Fuente: [stackoverflow.com](https://stackoverflow.com/questions/43405777/what-are-the-causes-of-overflow-encountered-in-double-scalars-besides-division-b)"
   ]
  },
  {
   "cell_type": "markdown",
   "id": "a9418b98-9732-4886-8de1-fd3f170a9751",
   "metadata": {},
   "source": [
    "Con lo anterior, se evidencia que la función nunca arroja un resultado, por lo que se debe establecer un límite en la cantidad de repeticiones, de tal manera que, se identifiquen los sistemas que **no convergen**."
   ]
  },
  {
   "cell_type": "markdown",
   "id": "692c579c-fe2b-4674-8019-6ce12ba9d44e",
   "metadata": {},
   "source": [
    "Se plantea la siguiente función, a la cual aún le faltan criterios de mejoramiento de la solución:"
   ]
  },
  {
   "cell_type": "code",
   "execution_count": 141,
   "id": "ab245004-6e3f-4721-9d74-3e45ccf45217",
   "metadata": {},
   "outputs": [],
   "source": [
    "def np_metodo_jacobi(A, B):\n",
    "    '''\n",
    "        Solución de un sistema AX=B, donde:\n",
    "        A: coeficientes constantes, se ingresa como una lista de listas.\n",
    "        X: incógnitas\n",
    "        B: constantes, se ingresa como una lista.\n",
    "        Se usa el método iterativo de Jacobi con numpy sin considerar mejoramiento de la\n",
    "        convergencia.\n",
    "    '''\n",
    "    A = np.array(A)\n",
    "    B = np.array(B)\n",
    "    n = len(A)       # Tamaño del sistema.\n",
    "    \n",
    "    # Se definen las matrices constantes del método.\n",
    "    D = np.diag(np.diag(A))\n",
    "    Dinv = np.diag(1/np.diag(A))\n",
    "    T = A-D\n",
    "    # Se define X0, para la primera iteración.\n",
    "    X0 = np.zeros(n)\n",
    "\n",
    "    toler = 0.0000000000000001\n",
    "    paso = 0\n",
    "\n",
    "    while True:\n",
    "        TX0 = T@X0\n",
    "        B_TX0 = B-TX0\n",
    "        X1 = Dinv@B_TX0\n",
    "        paso += 1\n",
    "        # Criterio de convergencia\n",
    "        dis_puntos = sum((X1-X0)**2)**0.5\n",
    "        if dis_puntos < toler:\n",
    "            print(f\"Se hicieron {paso} iteraciones\")\n",
    "            break\n",
    "        X0 = X1\n",
    "        # Criterio de divergencia\n",
    "        if paso==10000:\n",
    "            X0 = 'No converge'\n",
    "            break\n",
    "    X = X0\n",
    "    return X"
   ]
  },
  {
   "cell_type": "markdown",
   "id": "63cf694d-3dfa-43d6-b2f6-c3992008b362",
   "metadata": {},
   "source": [
    "Ver: [15-np_metodo_jacobi.py](https://github.com/jnramirezg/metodos_numericos_ingenieria_civil/blob/main/codigo/15-np_metodo_jacobi.py)"
   ]
  },
  {
   "cell_type": "markdown",
   "id": "f89585d4-5ada-460a-a643-0cc59903bdd6",
   "metadata": {},
   "source": [
    "Ejemplo 4:"
   ]
  },
  {
   "cell_type": "code",
   "execution_count": 142,
   "id": "f1ef48e3-bf91-4ce3-ac2b-da676fab87a4",
   "metadata": {},
   "outputs": [],
   "source": [
    "A3 = [[  1, -6,  0],\n",
    "      [ -4,  2,  0],\n",
    "      [  7,  2,  0]]\n",
    "\n",
    "B3 = [10, 8, 4]"
   ]
  },
  {
   "cell_type": "code",
   "execution_count": 143,
   "id": "661a4e34-ef49-4a79-89a5-68bf48d17462",
   "metadata": {},
   "outputs": [
    {
     "name": "stderr",
     "output_type": "stream",
     "text": [
      "<ipython-input-141-8320ad3087c8>:16: RuntimeWarning: divide by zero encountered in true_divide\n",
      "  Dinv = np.diag(1/np.diag(A))\n",
      "<ipython-input-141-8320ad3087c8>:25: RuntimeWarning: invalid value encountered in matmul\n",
      "  TX0 = T@X0\n"
     ]
    },
    {
     "data": {
      "text/plain": [
       "'No converge'"
      ]
     },
     "execution_count": 143,
     "metadata": {},
     "output_type": "execute_result"
    }
   ],
   "source": [
    "np_metodo_jacobi(A3, B3)"
   ]
  },
  {
   "cell_type": "markdown",
   "id": "121210c4-b3cb-4776-b07c-c8c6cbfcfe66",
   "metadata": {},
   "source": [
    "Ejemplo 5:"
   ]
  },
  {
   "cell_type": "code",
   "execution_count": 144,
   "id": "9e0685e5-fc12-4f43-af7c-4c8f3c7e7fbd",
   "metadata": {},
   "outputs": [],
   "source": [
    "A4 = [[ 1, -1,  1],\n",
    "      [ 2,  4,  2], \n",
    "      [ 1, -1,  1]]\n",
    "\n",
    "B4 = [1, 2, 1]"
   ]
  },
  {
   "cell_type": "code",
   "execution_count": 145,
   "id": "34126450-b5fe-45c6-b3bf-33f1b7d15659",
   "metadata": {},
   "outputs": [
    {
     "data": {
      "text/plain": [
       "'No converge'"
      ]
     },
     "execution_count": 145,
     "metadata": {},
     "output_type": "execute_result"
    }
   ],
   "source": [
    "np_metodo_jacobi(A4, B4)"
   ]
  },
  {
   "cell_type": "markdown",
   "id": "ebbb8202-9cb3-4acc-a570-bb1b7d1ae08a",
   "metadata": {},
   "source": [
    "Ejemplo 6:"
   ]
  },
  {
   "cell_type": "code",
   "execution_count": 146,
   "id": "2f7a05f8-1c5d-472a-bfd0-d157a8f7bad3",
   "metadata": {},
   "outputs": [],
   "source": [
    "# La solución es (1.0, -1.0, 1.0)\n",
    "A5 = [[0,  1, 1],\n",
    "      [1,  2, 1],\n",
    "      [2, -1, 1]]\n",
    "\n",
    "B5 = [0, 0, 4]"
   ]
  },
  {
   "cell_type": "code",
   "execution_count": 147,
   "id": "c8aec736-88a5-4edc-ac17-5239e9dc985e",
   "metadata": {},
   "outputs": [
    {
     "name": "stderr",
     "output_type": "stream",
     "text": [
      "<ipython-input-141-8320ad3087c8>:16: RuntimeWarning: divide by zero encountered in true_divide\n",
      "  Dinv = np.diag(1/np.diag(A))\n",
      "<ipython-input-141-8320ad3087c8>:27: RuntimeWarning: invalid value encountered in matmul\n",
      "  X1 = Dinv@B_TX0\n"
     ]
    },
    {
     "data": {
      "text/plain": [
       "'No converge'"
      ]
     },
     "execution_count": 147,
     "metadata": {},
     "output_type": "execute_result"
    }
   ],
   "source": [
    "np_metodo_jacobi(A5, B5)"
   ]
  },
  {
   "cell_type": "markdown",
   "id": "024319f1-621c-43f7-9949-81974641731f",
   "metadata": {},
   "source": [
    "Ejemplo 7:"
   ]
  },
  {
   "cell_type": "code",
   "execution_count": 148,
   "id": "db4ea02a-02be-477c-84c3-78381758b182",
   "metadata": {},
   "outputs": [],
   "source": [
    "# Las soluciones son 1/3 y 2/3\n",
    "A6 = [[0.00000000000000000000000003, 3.0000],\n",
    "      [                      1.0000, 1.0000]]\n",
    "B6 = [ 2.00000000000000000000000001, 1.0000] "
   ]
  },
  {
   "cell_type": "code",
   "execution_count": 149,
   "id": "44f074e1-2962-402e-bc76-afbd0fd07356",
   "metadata": {},
   "outputs": [
    {
     "name": "stderr",
     "output_type": "stream",
     "text": [
      "<ipython-input-141-8320ad3087c8>:30: RuntimeWarning: overflow encountered in square\n",
      "  dis_puntos = sum((X1-X0)**2)**0.5\n",
      "<ipython-input-141-8320ad3087c8>:27: RuntimeWarning: overflow encountered in matmul\n",
      "  X1 = Dinv@B_TX0\n",
      "<ipython-input-141-8320ad3087c8>:25: RuntimeWarning: invalid value encountered in matmul\n",
      "  TX0 = T@X0\n",
      "<ipython-input-141-8320ad3087c8>:27: RuntimeWarning: invalid value encountered in matmul\n",
      "  X1 = Dinv@B_TX0\n"
     ]
    },
    {
     "data": {
      "text/plain": [
       "'No converge'"
      ]
     },
     "execution_count": 149,
     "metadata": {},
     "output_type": "execute_result"
    }
   ],
   "source": [
    "np_metodo_jacobi(A6, B6)"
   ]
  },
  {
   "cell_type": "markdown",
   "id": "c21bd6f8-bb00-4daa-8f7f-23b1f03f190c",
   "metadata": {},
   "source": [
    "Ejemplo 8:"
   ]
  },
  {
   "cell_type": "code",
   "execution_count": 150,
   "id": "18659d9b-e5d8-427e-a170-9d22c07d8199",
   "metadata": {},
   "outputs": [],
   "source": [
    "# Las soluciones son 1/3 y 2/3\n",
    "A7 = [[                      1.0000, 1.0000],\n",
    "      [0.00000000000000000000000003, 3.0000]]\n",
    "B7 = [ 1.0000, 2.00000000000000000000000001]"
   ]
  },
  {
   "cell_type": "code",
   "execution_count": 151,
   "id": "93cdb055-b4c3-4ee2-8246-ccaeb9defffe",
   "metadata": {},
   "outputs": [
    {
     "name": "stdout",
     "output_type": "stream",
     "text": [
      "Se hicieron 3 iteraciones\n"
     ]
    },
    {
     "data": {
      "text/plain": [
       "array([0.33333333, 0.66666667])"
      ]
     },
     "execution_count": 151,
     "metadata": {},
     "output_type": "execute_result"
    }
   ],
   "source": [
    "np_metodo_jacobi(A7, B7)"
   ]
  },
  {
   "cell_type": "markdown",
   "id": "aadb8af3-3615-48b6-85e6-f89e5a301b5b",
   "metadata": {},
   "source": [
    "#### **1.4. Discusión final acerca de la convergencia de las soluciones**"
   ]
  },
  {
   "cell_type": "markdown",
   "id": "a64e0fcd-7f7b-43e2-8935-374c1c0dc09e",
   "metadata": {},
   "source": [
    "Observe en los ejemplos 7 y 8 que, el problema $\\underline{\\underline{A}}_6.\\underline{X}=\\underline{B}_6$ tiene la misma solución que $\\underline{\\underline{A}}_7.\\underline{X}=\\underline{B}_7$, pero en un caso el método converge a una respuesta y en el otro no. ¿Qué hacer?\n",
    "\n",
    "En **Chapra (2015)** se expone que una condición **suficiente** pero **no necesaria** para garantizar la convergencia es que el elemento de la diagonal de la matriz de coeficientes constantes debe ser mayor que todo elemento fuera de la diagonal de cada fila. Esto, generalizado es para un sistema de $n$ ecuaciones:\n",
    "\n",
    "$|a_{ii}|>\\displaystyle\\sum_{j=1\\\\\n",
    "i\\neq j}^{n}|a_{ij}|$\n",
    "\n",
    "De donde surge el concepto de [matriz dominante](https://es.wikipedia.org/wiki/Matriz_de_diagonal_estrictamente_dominante)."
   ]
  },
  {
   "cell_type": "markdown",
   "id": "fd0ff6fc-6417-4a66-b234-0633548c7e10",
   "metadata": {},
   "source": [
    "Es claro que el pivoteo parcial es una forma de buscar matrices en lo posible dominantes, también sirve para evitar los problemas de ceros (o valores cercanos) en la diagonal. Sin embargo, para este método se debe complementar con una estrategia que se implementaba implícitamente en el método de eliminación de Gauss-Jordan: **normalización respecto al pivote** (o elemento de la diagonal), con el objetivo de evitar divisiones con números muy grandes o muy pequeños. Y también existe una técnica adicional que se denomina **relajación**."
   ]
  },
  {
   "cell_type": "markdown",
   "id": "431e9dbe",
   "metadata": {},
   "source": [
    "### **Método de Gauss-Seidel**"
   ]
  },
  {
   "cell_type": "markdown",
   "id": "4f0938b0-71f5-47ff-a96a-4a8903235fe9",
   "metadata": {},
   "source": [
    "Es un método muy similar al de **Jacobi**, cuya diferencia radica en que el vector de soluciones no se actualiza en cada iteración completa, sino antes de cada nueva operación."
   ]
  },
  {
   "cell_type": "markdown",
   "id": "18653bd4-5aa4-49fd-911a-8a5ef0891bb0",
   "metadata": {},
   "source": [
    "Partiendo de la ecuación iterativa usada en el método de Jacobi:\n",
    "\n",
    "$\\underline{X}^{m+1}=\\underline{\\underline{D}}^{-1}(\\underline{B}-\\underline{\\underline{T}}.\\underline{X}^{m})$\n",
    "\n",
    "En un sistema 3x3, se expresa el método de Gauss-Seidel como:\n",
    "\n",
    "\n",
    "$x_{0}^{(m+1)} = \\frac{b_{0} - i_{1} x_{1}^{(n)} - i_{2} x_{2}^{(o)}}{i_{0}}$\n",
    "\n",
    "$x_{1}^{(n+1)} = \\frac{b_{1} - j_{0} x_{0}^{(m+1)} - j_{2} x_{2}^{(o)}}{j_{1}}$\n",
    "\n",
    "$x_{2}^{(o+1)} = \\frac{b_{2} - k_{0} x_{0}^{(m+1)} - k_{1} x_{1}^{(n+1)}}{k_{2}}$\n",
    "\n",
    "donde los elementos $i$ hacen referencia a la primera fila de $\\underline{\\underline{A}}$, los $j$ a la segunda fila de $\\underline{\\underline{A}}$ y los $k$ a la tercera fila de $\\underline{\\underline{A}}$."
   ]
  },
  {
   "cell_type": "markdown",
   "id": "42170237-e6c5-445a-9278-8b2db3efd24d",
   "metadata": {},
   "source": [
    "Busquemos una estrategia solucionar el problema en `Python` basados en las ecuaciones del método de Jacobi. Con el uso del módulo `Sympy` creamos $\\underline{\\underline{D}}^{-1}$, $\\underline{\\underline{T}}$ y $\\underline{B}$ únicamente referenciando en los elementos diferentes de cero la fila a la cual hacen parte ($f_0$, $f_1$ o $f_2$)."
   ]
  },
  {
   "cell_type": "code",
   "execution_count": 152,
   "id": "81dafcdc-a694-40e1-8062-a141312e7f96",
   "metadata": {},
   "outputs": [],
   "source": [
    "# Importación de librerías.\n",
    "import sympy as sp\n",
    "import numpy as np"
   ]
  },
  {
   "cell_type": "code",
   "execution_count": 153,
   "id": "7544d47c-e0bf-43a1-961f-1965b412ad7b",
   "metadata": {},
   "outputs": [],
   "source": [
    "f0, f1, f2 = sp.symbols('f_0 f_1 f_2')"
   ]
  },
  {
   "cell_type": "code",
   "execution_count": 154,
   "id": "81a47143-bd46-4648-bdf4-a798cf1b8e63",
   "metadata": {},
   "outputs": [],
   "source": [
    "Dinv = sp.Matrix([[f0, 0 ,0],\n",
    "                  [0, f1, 0],\n",
    "                  [0, 0, f2]])\n",
    "\n",
    "B = sp.Matrix([[f0],\n",
    "               [f1],\n",
    "               [f2]])\n",
    "\n",
    "T = sp.Matrix([[0, f0 ,f0],\n",
    "               [f1, 0, f1],\n",
    "               [f2, f2, 0]])"
   ]
  },
  {
   "cell_type": "markdown",
   "id": "e4b87dd3-3c1a-4bd1-a227-902ef6d6fea1",
   "metadata": {},
   "source": [
    "Se crea el vector de soluciones simbólico:"
   ]
  },
  {
   "cell_type": "code",
   "execution_count": 155,
   "id": "632b8afd-82aa-4a6e-aa67-70a49012e695",
   "metadata": {},
   "outputs": [],
   "source": [
    "x0, x1, x2 = sp.symbols('x_0 x_1 x_2')"
   ]
  },
  {
   "cell_type": "code",
   "execution_count": 156,
   "id": "842e76ee-db40-4772-9489-ebeeedb86bea",
   "metadata": {},
   "outputs": [],
   "source": [
    "X = sp.Matrix([[x0],[x1],[x2]])"
   ]
  },
  {
   "cell_type": "code",
   "execution_count": 157,
   "id": "dba072fc-b725-47c5-b34d-43a20275a206",
   "metadata": {},
   "outputs": [
    {
     "data": {
      "text/latex": [
       "$\\displaystyle \\left[\\begin{matrix}x_{0}\\\\x_{1}\\\\x_{2}\\end{matrix}\\right]$"
      ],
      "text/plain": [
       "Matrix([\n",
       "[x_0],\n",
       "[x_1],\n",
       "[x_2]])"
      ]
     },
     "execution_count": 157,
     "metadata": {},
     "output_type": "execute_result"
    }
   ],
   "source": [
    "X"
   ]
  },
  {
   "cell_type": "markdown",
   "id": "88fa8de7-f014-4d08-b8da-6421f1134e95",
   "metadata": {},
   "source": [
    "Se ejecuta la operación $\\underline{\\underline{D}}^{-1}(\\underline{B}-\\underline{\\underline{T}}.\\underline{X})$:"
   ]
  },
  {
   "cell_type": "code",
   "execution_count": 158,
   "id": "223a59ca-e9a2-48e1-8150-c771e02d8b33",
   "metadata": {},
   "outputs": [
    {
     "data": {
      "text/latex": [
       "$\\displaystyle \\left[\\begin{matrix}f_{0} \\left(- f_{0} x_{1} - f_{0} x_{2} + f_{0}\\right)\\\\f_{1} \\left(- f_{1} x_{0} - f_{1} x_{2} + f_{1}\\right)\\\\f_{2} \\left(- f_{2} x_{0} - f_{2} x_{1} + f_{2}\\right)\\end{matrix}\\right]$"
      ],
      "text/plain": [
       "Matrix([\n",
       "[f_0*(-f_0*x_1 - f_0*x_2 + f_0)],\n",
       "[f_1*(-f_1*x_0 - f_1*x_2 + f_1)],\n",
       "[f_2*(-f_2*x_0 - f_2*x_1 + f_2)]])"
      ]
     },
     "execution_count": 158,
     "metadata": {},
     "output_type": "execute_result"
    }
   ],
   "source": [
    "Dinv*(B-T*X)"
   ]
  },
  {
   "cell_type": "markdown",
   "id": "b26de537-e55b-4db2-959e-4a4d30fffe93",
   "metadata": {},
   "source": [
    "Evidenciamos que en la primera iteración de la primera ecuación:\n",
    "\n",
    "$x_{0}^{(m+1)} = \\frac{b_{0} - i_{1} x_{1}^{(n)} - i_{2} x_{2}^{(o)}}{i_{0}}$\n",
    "\n",
    "solo requerimos los elementos de la primera fila de $\\underline{\\underline{D}}^{-1}$, $\\underline{\\underline{T}}$ y $\\underline{B}$."
   ]
  },
  {
   "cell_type": "markdown",
   "id": "a27d3984-1ce7-4ddb-ac36-e24eb5faad11",
   "metadata": {},
   "source": [
    "Llamando únicamente la primera fila de cada uno de ellos:\n",
    "\n",
    "`Dinv[0, 0]`: en este caso solo se requiere el elemento de la diagonal.\n",
    "\n",
    "`T[0,:]`\n",
    "\n",
    "`B[0,:]`\n",
    "\n"
   ]
  },
  {
   "cell_type": "code",
   "execution_count": 159,
   "id": "88cb1b32-4cab-420b-94fe-54a15e854385",
   "metadata": {},
   "outputs": [
    {
     "data": {
      "text/latex": [
       "$\\displaystyle \\left[\\begin{matrix}f_{0} \\left(- f_{0} x_{1} - f_{0} x_{2} + f_{0}\\right)\\end{matrix}\\right]$"
      ],
      "text/plain": [
       "Matrix([[f_0*(-f_0*x_1 - f_0*x_2 + f_0)]])"
      ]
     },
     "execution_count": 159,
     "metadata": {},
     "output_type": "execute_result"
    }
   ],
   "source": [
    "Dinv[0, 0]*(B[0, :] - T[0, :]*X)"
   ]
  },
  {
   "cell_type": "markdown",
   "id": "7b45f459-0b86-4f6c-bfa8-d2d47cf5ba96",
   "metadata": {},
   "source": [
    "Es decir, dentro de un ciclo `for` con `i` en `range(3)`:"
   ]
  },
  {
   "cell_type": "code",
   "execution_count": 160,
   "id": "95eb55e5-4312-4d1b-98db-3d00028be20f",
   "metadata": {},
   "outputs": [
    {
     "name": "stdout",
     "output_type": "stream",
     "text": [
      "f₀⋅(-f₀⋅x₁ - f₀⋅x₂ + f₀)\n",
      "f₁⋅(-f₁⋅x₀ - f₁⋅x₂ + f₁)\n",
      "f₂⋅(-f₂⋅x₀ - f₂⋅x₁ + f₂)\n"
     ]
    }
   ],
   "source": [
    "for i in range(3):\n",
    "    ec = (Dinv[i, i]*(B[i, :] - T[i, :]*X))[0]\n",
    "    print(sp.pretty(ec))"
   ]
  },
  {
   "cell_type": "markdown",
   "id": "f673a490-96e9-44dd-a20d-6b9e64a75f3f",
   "metadata": {},
   "source": [
    "#### **Solución numérica con Numpy**"
   ]
  },
  {
   "cell_type": "code",
   "execution_count": 161,
   "id": "8161fe81-ddb7-493f-a0ca-3b933e4f4436",
   "metadata": {},
   "outputs": [],
   "source": [
    "# Se define la matriz coeficientes constantes A como una lista de listas.\n",
    "A = [[ 3, -1, -1],\n",
    "     [-1,  3,  1],\n",
    "     [ 2,  1,  4]]\n",
    "# Se define el vector B como una lista.\n",
    "B = [1, 3, 7]"
   ]
  },
  {
   "cell_type": "code",
   "execution_count": 162,
   "id": "50dc61e3-ceac-414e-88af-3e43b58afe72",
   "metadata": {},
   "outputs": [],
   "source": [
    "A = np.array(A)\n",
    "B = np.array(B)\n",
    "n = len(A)       # Tamaño del sistema.\n",
    "\n",
    "# Se definen las matrices constantes del método.\n",
    "D = np.diag(np.diag(A))\n",
    "Dinv = np.diag(1/np.diag(A))\n",
    "T = A-D\n",
    "# Se define X0, para la primera iteración.\n",
    "X0 = np.zeros(n)"
   ]
  },
  {
   "cell_type": "code",
   "execution_count": 163,
   "id": "7858532b-feeb-45df-b71d-ca93bcfda0d5",
   "metadata": {},
   "outputs": [
    {
     "data": {
      "text/plain": [
       "array([2, 1, 0])"
      ]
     },
     "execution_count": 163,
     "metadata": {},
     "output_type": "execute_result"
    }
   ],
   "source": [
    "T[i, :]"
   ]
  },
  {
   "cell_type": "markdown",
   "id": "402f0f20-39ac-4519-82ee-4cd50e48ec13",
   "metadata": {},
   "source": [
    "Se implementa el ciclo hecho en `Sympy`:\n",
    "\n",
    "    for i in range(3):\n",
    "        ec = (Dinv[i, i]*(B[i, :] - T[i, :]*X))[0]\n",
    "        \n",
    "En `Numpy`, teniendo en cuenta que se combinan operaciones matriciales y no matriciales:\n",
    "- `Dinv[i, i]` es un escalar, por lo tanto al operarse no requiere que se realice una multiplicación de matrices.\n",
    "- `B` se puede definir como `np.array()` de una sola dimensión con tamaño `n`, por lo tanto, solo se requiere llamar en una dimensión, así: `B[i]`.\n",
    "- `X0` al igual que `B`, está definido en una sola dimensión, luego, `T[i, :]` está también definido en una sola dimensión. La operación `T[i, :]@X0` no realiza el producto matricial, pues por definición los elementos son `np.array()` de una sola dimensión, por lo que, realmente lo que hace es el producto punto (o escalar).\n",
    "\n",
    "Tenga en cuenta que si tengo:\n",
    "\n",
    "$\\underline{U}$ = $\\displaystyle \\left[\\begin{matrix}u_1 &u_2& u_3\\end{matrix}\\right]$\n",
    "\n",
    "$\\underline{V}$ = $\\displaystyle \\left[\\begin{matrix}v_1\\\\v_2\\\\v_3\\end{matrix}\\right]$\n",
    "\n",
    "entonces:\n",
    "\n",
    "$\\underline{U}\\underline{V}=\\underline{U}.\\underline{V}^T$\n",
    "\n",
    "\n"
   ]
  },
  {
   "cell_type": "code",
   "execution_count": 164,
   "id": "6727258c-a47b-42bd-a9ed-49a24b295d1e",
   "metadata": {},
   "outputs": [],
   "source": [
    "i = 0"
   ]
  },
  {
   "cell_type": "code",
   "execution_count": 165,
   "id": "e2ecff72-e337-4d48-a639-56b836be42db",
   "metadata": {},
   "outputs": [
    {
     "data": {
      "text/plain": [
       "0.3333333333333333"
      ]
     },
     "execution_count": 165,
     "metadata": {},
     "output_type": "execute_result"
    }
   ],
   "source": [
    "Dinv[i, i]"
   ]
  },
  {
   "cell_type": "code",
   "execution_count": 166,
   "id": "9218324d-4b92-42fe-986a-329e227f54d5",
   "metadata": {},
   "outputs": [
    {
     "data": {
      "text/plain": [
       "array([1, 3, 7])"
      ]
     },
     "execution_count": 166,
     "metadata": {},
     "output_type": "execute_result"
    }
   ],
   "source": [
    "B"
   ]
  },
  {
   "cell_type": "code",
   "execution_count": 167,
   "id": "c7bc09ea-7c7e-4ca5-9955-0a43a463571a",
   "metadata": {},
   "outputs": [
    {
     "data": {
      "text/plain": [
       "1"
      ]
     },
     "execution_count": 167,
     "metadata": {},
     "output_type": "execute_result"
    }
   ],
   "source": [
    "B[i]"
   ]
  },
  {
   "cell_type": "code",
   "execution_count": 168,
   "id": "4715300e-a7e7-4398-a7e2-e8b91c320a2d",
   "metadata": {},
   "outputs": [
    {
     "data": {
      "text/plain": [
       "array([ 0, -1, -1])"
      ]
     },
     "execution_count": 168,
     "metadata": {},
     "output_type": "execute_result"
    }
   ],
   "source": [
    "T[i, :]"
   ]
  },
  {
   "cell_type": "markdown",
   "id": "8d721984-c104-4c91-a143-c10e246cc9db",
   "metadata": {},
   "source": [
    "Por lo tanto, es ciclo en el contexto de `Numpy`queda, modificando `X0` con cada resultado parcial:"
   ]
  },
  {
   "cell_type": "code",
   "execution_count": 169,
   "id": "450316cc-a7ae-4e1f-84af-fe5da0e09fd5",
   "metadata": {},
   "outputs": [
    {
     "data": {
      "text/plain": [
       "array([0., 0., 0.])"
      ]
     },
     "execution_count": 169,
     "metadata": {},
     "output_type": "execute_result"
    }
   ],
   "source": [
    "X0"
   ]
  },
  {
   "cell_type": "code",
   "execution_count": 170,
   "id": "c16a62c8-d8a1-422e-b063-c574d89e3f40",
   "metadata": {},
   "outputs": [],
   "source": [
    "for i in range(n):\n",
    "    x_i = Dinv[i, i]*(B[i] - T[i, :]@X0)  \n",
    "    X0[i] = x_i"
   ]
  },
  {
   "cell_type": "code",
   "execution_count": 171,
   "id": "fd77f48e-aad4-4182-aa4a-43987fd12b94",
   "metadata": {},
   "outputs": [
    {
     "data": {
      "text/plain": [
       "array([0.33333333, 1.11111111, 1.30555556])"
      ]
     },
     "execution_count": 171,
     "metadata": {},
     "output_type": "execute_result"
    }
   ],
   "source": [
    "X0"
   ]
  },
  {
   "cell_type": "markdown",
   "id": "595f91d2-5cee-4e49-b870-5d2e60cb940d",
   "metadata": {},
   "source": [
    "Se realiza una segunda iteración:"
   ]
  },
  {
   "cell_type": "code",
   "execution_count": 172,
   "id": "632a8a62-ff63-483a-8406-0a980ccf4314",
   "metadata": {},
   "outputs": [],
   "source": [
    "for i in range(n):\n",
    "    x_i = Dinv[i, i]*(B[i] - T[i, :]@X0)  \n",
    "    X0[i] = x_i"
   ]
  },
  {
   "cell_type": "code",
   "execution_count": 173,
   "id": "ccbd02d4-531c-4b24-894b-3db0d03494ba",
   "metadata": {},
   "outputs": [
    {
     "data": {
      "text/plain": [
       "array([1.13888889, 0.94444444, 0.94444444])"
      ]
     },
     "execution_count": 173,
     "metadata": {},
     "output_type": "execute_result"
    }
   ],
   "source": [
    "X0"
   ]
  },
  {
   "cell_type": "markdown",
   "id": "91c64a73-3582-4599-a2fd-80e5955a2bb8",
   "metadata": {},
   "source": [
    "Con esto, se toma la función desarrollada para el **metodo de Jacobi** (ver [15-np_metodo_jacobi.py](https://github.com/jnramirezg/metodos_numericos_ingenieria_civil/blob/main/codigo/15-np_metodo_jacobi.py)) y se adapta con este nuevo ciclo:"
   ]
  },
  {
   "cell_type": "code",
   "execution_count": 174,
   "id": "5b56690c-e8b3-4a50-9372-a8bc108344df",
   "metadata": {},
   "outputs": [],
   "source": [
    "def np_gauss_seidel(A, B):\n",
    "    '''\n",
    "        Solución de un sistema AX=B, donde:\n",
    "        A: coeficientes constantes, se ingresa como una lista de listas.\n",
    "        X: incógnitas\n",
    "        B: constantes, se ingresa como una lista.\n",
    "        Se usa el método iterativo de Gauss-Seidel con numpy sin considerar mejoramiento de la\n",
    "        convergencia.\n",
    "    '''\n",
    "    A = np.array(A)\n",
    "    B = np.array(B)\n",
    "    n = len(A)       # Tamaño del sistema.\n",
    "    \n",
    "    # Se definen las matrices constantes del método.\n",
    "    D = np.diag(np.diag(A))\n",
    "    Dinv = np.diag(1/np.diag(A))\n",
    "    T = A-D\n",
    "    # Se define X0, para la primera iteración.\n",
    "    X0 = np.zeros(n)\n",
    "\n",
    "    toler = 0.0000000000000001\n",
    "    paso = 0\n",
    "\n",
    "    while True:\n",
    "        X = np.array([X0[f] for f in range(n)])\n",
    "        for i in range(n):\n",
    "            x_i = Dinv[i, i]*(B[i] - T[i, :]@X0)  \n",
    "            X0[i] = x_i\n",
    "        paso += 1\n",
    "        # Criterio de convergencia\n",
    "        dis_puntos = sum((X0-X)**2)**0.5\n",
    "        if dis_puntos < toler:\n",
    "            print(f\"Se hicieron {paso} iteraciones completas.\")\n",
    "            break\n",
    "\n",
    "        # Criterio de divergencia\n",
    "        if paso==10000:\n",
    "            X0 = 'No converge'\n",
    "            break\n",
    "    X = X0\n",
    "    return X"
   ]
  },
  {
   "cell_type": "markdown",
   "id": "da6775da-5576-4406-b492-4e43fa4a67dd",
   "metadata": {},
   "source": [
    "Ver: [16-guass-Seidel.py](https://github.com/jnramirezg/metodos_numericos_ingenieria_civil/blob/main/codigo/16-guass-Seidel.py)"
   ]
  },
  {
   "cell_type": "markdown",
   "id": "a0657d6e-248b-4cf7-9586-b970e5db7d4a",
   "metadata": {},
   "source": [
    "Ejemplo:"
   ]
  },
  {
   "cell_type": "code",
   "execution_count": 175,
   "id": "e46f7836-2e13-416d-9c8c-e1f2ce376a16",
   "metadata": {},
   "outputs": [],
   "source": [
    "A = [[ 3, -1, -1],\n",
    "     [-1,  3,  1],\n",
    "     [ 2,  1,  4]]\n",
    "# Se define el vector B como una lista.\n",
    "B = [1, 3, 7]"
   ]
  },
  {
   "cell_type": "code",
   "execution_count": 176,
   "id": "14cc1999-7c71-46bc-be93-37a4e25686d4",
   "metadata": {},
   "outputs": [
    {
     "name": "stdout",
     "output_type": "stream",
     "text": [
      "Se hicieron 28 iteraciones completas.\n"
     ]
    },
    {
     "data": {
      "text/plain": [
       "array([1., 1., 1.])"
      ]
     },
     "execution_count": 176,
     "metadata": {},
     "output_type": "execute_result"
    }
   ],
   "source": [
    "np_gauss_seidel(A, B)"
   ]
  },
  {
   "cell_type": "markdown",
   "id": "e2aeb573-bdac-40c0-9a1f-0ff20d791b59",
   "metadata": {},
   "source": [
    "### **Comparación de métodos: Gauss-Jordan, Jacobi Y Gauss-Seidel**"
   ]
  },
  {
   "cell_type": "markdown",
   "id": "5d11a70a-8ed7-4385-9edf-77d80ab02e9b",
   "metadata": {},
   "source": [
    "Con el fin de comparar el rendimiento de las funciones basadas en Numpy: [08-gauss_jordan_pivote_parcial.py](https://github.com/jnramirezg/metodos_numericos_ingenieria_civil/blob/main/codigo/08-gauss_jordan_pivote_parcial.py), [15-np_metodo_jacobi.py](https://github.com/jnramirezg/metodos_numericos_ingenieria_civil/blob/main/codigo/15-np_metodo_jacobi.py) y [16-guass-Seidel.py](https://github.com/jnramirezg/metodos_numericos_ingenieria_civil/blob/main/codigo/16-guass-Seidel.py); se creó un programa que calculó para matrices diagonalmente dominantes aleatorias y vectores aleatorios de tamaños 10, 50, 100, 500, 1000, 3000,  5000 y 10000 la **solución**, tres veces para cada tamaño. Se calculó el tiempo de ejecución para los tres métodos tres veces, y se promedió. Y para los métodos de Jacobi y Gauss-Seidel se guardó la cantidad de pasos para los tamaños de cálculo."
   ]
  },
  {
   "cell_type": "markdown",
   "id": "de082d7b-930b-4559-98e0-a37df7ce0327",
   "metadata": {},
   "source": [
    "Se grafican datos:"
   ]
  },
  {
   "cell_type": "code",
   "execution_count": 177,
   "id": "f02599dc-4e60-4760-aa66-0c428eccdb79",
   "metadata": {},
   "outputs": [],
   "source": [
    "#Importación de librerías\n",
    "import matplotlib.pyplot as plt\n"
   ]
  },
  {
   "cell_type": "markdown",
   "id": "9c3894eb-16da-4340-aa37-c026318c31e6",
   "metadata": {},
   "source": [
    "Los datos del mencionado programa son:"
   ]
  },
  {
   "cell_type": "code",
   "execution_count": 178,
   "id": "f87a2914-a6f4-414b-ae7b-3a4d0bdb56b8",
   "metadata": {},
   "outputs": [],
   "source": [
    "evaluacion = [10, 50, 100, 500, 1000, 3000,  5000, 10000]\n",
    "\n",
    "tiempos = np.array([[1.32854780e-03, 1.65695349e-02, 6.89589977e-02, 1.81382545e+00,\n",
    "                     9.16168292e+00, 2.73494236e+02, 2.73494236e+02, 2.73494236e+02],\n",
    "                    [0.00000000e+00, 0.00000000e+00, 3.33547592e-04, 3.98921967e-03,\n",
    "                     2.17245420e-02, 2.30196317e-01, 5.49426079e-01, 2.08307568e+00],\n",
    "                    [6.64313634e-04, 1.99151039e-03, 4.55133120e-03, 1.79961522e-02,\n",
    "                     4.72273827e-02, 2.56298542e-01, 5.90809027e-01, 1.67527866e+00]])\n",
    "\n",
    "pasos_ja = [73, 56, 51, 50, 52, 60, 60, 57]\n",
    "\n",
    "pasos_gs = [47, 42, 40, 39, 36, 41, 39, 38]"
   ]
  },
  {
   "cell_type": "code",
   "execution_count": 179,
   "id": "7cd4894c-b6e3-4010-9c3e-c5b4ccafb79b",
   "metadata": {},
   "outputs": [
    {
     "data": {
      "image/png": "[encoded data removed]",
      "text/plain": [
       "<Figure size 432x288 with 1 Axes>"
      ]
     },
     "metadata": {
      "needs_background": "light"
     },
     "output_type": "display_data"
    }
   ],
   "source": [
    "plt.figure()                           # Expresión inicial de toda gráf\n",
    "plt.plot(evaluacion, tiempos[0], label='Gauss-Jordan')\n",
    "plt.plot(evaluacion, tiempos[1], label='Jacobi')\n",
    "plt.plot(evaluacion, tiempos[2], label='Gauss-Seidel')\n",
    "plt.xlabel('Tamaño n de la matriz')    # Título del eje x.\n",
    "plt.ylabel('Tiempo de cálculo [seg]')  # Título del eje y.\n",
    "plt.ylim(0, 3)\n",
    "plt.legend()                           # Mostrar leyendas.\n",
    "plt.show()                             # Imprime la gráfica."
   ]
  },
  {
   "cell_type": "code",
   "execution_count": 180,
   "id": "576cfa97",
   "metadata": {},
   "outputs": [
    {
     "data": {
      "image/png": "[encoded data removed]",
      "text/plain": [
       "<Figure size 432x288 with 1 Axes>"
      ]
     },
     "metadata": {
      "needs_background": "light"
     },
     "output_type": "display_data"
    }
   ],
   "source": [
    "plt.figure()                           # Expresión inicial de toda gráf\n",
    "plt.plot(evaluacion, pasos_ja, label='Jacobi')\n",
    "plt.plot(evaluacion, pasos_gs, label='Gauss-Seidel')\n",
    "plt.xlabel('Tamaño n de la matriz')    # Título del eje x.\n",
    "plt.ylabel('Número de iteraciones')    # Título del eje y.\n",
    "plt.legend()                           # Mostrar leyendas.\n",
    "plt.show()"
   ]
  }
 ],
 "metadata": {
  "kernelspec": {
   "display_name": "Python 3",
   "language": "python",
   "name": "python3"
  },
  "language_info": {
   "codemirror_mode": {
    "name": "ipython",
    "version": 3
   },
   "file_extension": ".py",
   "mimetype": "text/x-python",
   "name": "python",
   "nbconvert_exporter": "python",
   "pygments_lexer": "ipython3",
   "version": "3.8.8"
  }
 },
 "nbformat": 4,
 "nbformat_minor": 5
}
