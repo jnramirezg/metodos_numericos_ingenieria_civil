{
 "cells": [
  {
   "cell_type": "markdown",
   "id": "9dde01a6",
   "metadata": {},
   "source": [
    "**4101553 Métodos Numéricos aplicados a la Ingenieria Civil**\n",
    "-\n",
    "Departamento de Ingeniería Civil\n",
    "\n",
    "Universidad Nacional de Colombia\n",
    "\n",
    "Sede Manizales\n",
    "\n",
    "**Docente:** Juan Nicolás Ramírez Giraldo ([jnramirezg@unal.edu.co](mailto:jnramirezg@unal.edu.co))\n",
    "\n",
    "\"*Cum cogitaveris quot te antecedant, respice quot sequantur*\" (**Séneca**)\n",
    "\n",
    "\n",
    "[Repositorio de la asignatura](https://github.com/jnramirezg/metodos_numericos_ingenieria_civil/)\n",
    "\n",
    "---"
   ]
  },
  {
   "cell_type": "markdown",
   "id": "56b66a7b",
   "metadata": {},
   "source": [
    "**Unidad 2: Interpolación**\n",
    "-"
   ]
  },
  {
   "cell_type": "markdown",
   "id": "925d2600",
   "metadata": {},
   "source": [
    "**Contenido**\n",
    "- 2.1. Interpolación polinómica\n",
    "- 2.2. Interpolación con trazadores\n",
    "- 2.3. Interpolación en varias dimensiones\n",
    "- 2.4. Vecinos más cercanos - distancia inversa ponderada\n",
    "- 2.5. Comandos en Python de interpolación\n",
    "\n",
    "---"
   ]
  },
  {
   "cell_type": "markdown",
   "id": "b1550509",
   "metadata": {},
   "source": [
    "# **2.2. Interpolación con trazadores**"
   ]
  },
  {
   "cell_type": "markdown",
   "id": "78f1cee7",
   "metadata": {},
   "source": [
    "En la interpolación polinómica para n + 1 puntos asociados con datos se obtenían polinómios de grado n, es decir, para un conjunto de nueve datos se obtenía un polinomio de grado ocho, con la principal ventaja de que la función interpoladora es continua y sus n derivadas también. Al tener muchos datos, grado del polinomio podía aumentar de tal manera que se empezaban a tener problemas de oscilaciones.\n",
    "\n",
    "La propuesta de la interpolación con trazadores (splines) consiste en colocar polinomios de grado inferior en subconjuntos de los puntos asociados con datos. Estos polinomios conectores se denominan **trazadores** o **splines**.\n",
    "\n",
    "---"
   ]
  },
  {
   "cell_type": "markdown",
   "id": "fb678c48",
   "metadata": {},
   "source": [
    "- 2.2.1. Trazadores lineales\n",
    "- 2.2.2. Trazadores cuadráticos\n",
    "- 2.2.3. Trazadores cúbicos\n",
    "\n",
    "---"
   ]
  },
  {
   "cell_type": "markdown",
   "id": "88afed03",
   "metadata": {},
   "source": [
    "Importación de librerías necesarias:"
   ]
  },
  {
   "cell_type": "code",
   "execution_count": 1,
   "id": "86ec6fa3",
   "metadata": {},
   "outputs": [],
   "source": [
    "import numpy as np\n",
    "import sympy as sp\n",
    "import matplotlib.pyplot as plt"
   ]
  },
  {
   "cell_type": "code",
   "execution_count": 2,
   "id": "f014277a",
   "metadata": {},
   "outputs": [],
   "source": [
    "x = sp.symbols('x')  # Se define un x simbólico global."
   ]
  },
  {
   "cell_type": "markdown",
   "id": "bc41f4da",
   "metadata": {},
   "source": [
    "---"
   ]
  },
  {
   "cell_type": "markdown",
   "id": "80139430",
   "metadata": {},
   "source": [
    "# **2.2.1. Trazadores lineales**"
   ]
  },
  {
   "cell_type": "markdown",
   "id": "054ad7d7",
   "metadata": {},
   "source": [
    "La unión más simple entre dos puntos es una línea recta. Los trazadores de primer grado para un grupo de puntos asociados con datos ordenados pueden definirse como un conjunto de funciones lineales:\n",
    "\n",
    "$f(x) = f(x_0) + m_0(x-x_0)$ en el intervalo $x_0 \\leq x \\leq x_1$\n",
    "\n",
    "$f(x) = f(x_1) + m_1(x-x_1)$ en el intervalo $x_1 \\leq x \\leq x_2$\n",
    "\n",
    ".\n",
    ".\n",
    ".\n",
    "\n",
    "$f(x) = f(x_{n-1}) + m_{n-1}(x-x_{n-1})$ en el intervalo $x_{n-1} \\leq x \\leq x_{n}$\n",
    "\n",
    "donde $m_i$ es la pendiente de la línea recta que une los puntos:\n",
    "\n",
    "$\\fbox{$m_i = \\displaystyle\\frac{f(x_{i+1}) - f(x_i)}{x_{i+1}-x_i}$}$\n",
    "\n",
    "\n",
    "En sintesis: se hace una **interpolación lineal** entre el primer y segundo punto, entre el segundo y tercer punto, entre el n-1 y el n punto.\n",
    "\n",
    "---\n",
    "\n"
   ]
  },
  {
   "cell_type": "markdown",
   "id": "94fa7543",
   "metadata": {},
   "source": [
    "**Implementación del método**\n",
    "\n",
    "Definción de un conjunto de puntos ($x_{p_i}$, $y_{p_i}$):"
   ]
  },
  {
   "cell_type": "code",
   "execution_count": 3,
   "id": "9675c6a2",
   "metadata": {},
   "outputs": [],
   "source": [
    "xp = [4.5, 3.0, 7.0, 9.0]\n",
    "yp = [1.0, 2.5, 2.5, 0.5]"
   ]
  },
  {
   "cell_type": "code",
   "execution_count": 4,
   "id": "9e0f31a3",
   "metadata": {},
   "outputs": [],
   "source": [
    "n = len(xp)  # Cantidad de puntos."
   ]
  },
  {
   "cell_type": "markdown",
   "id": "d9184178",
   "metadata": {},
   "source": [
    "Se orden los datos y se convierten a np.array():"
   ]
  },
  {
   "cell_type": "code",
   "execution_count": 5,
   "id": "944e855b",
   "metadata": {},
   "outputs": [],
   "source": [
    "pto = np.array([np.array(xp, dtype=float), np.array(yp, dtype=float)]).T"
   ]
  },
  {
   "cell_type": "code",
   "execution_count": 6,
   "id": "24bdbbca",
   "metadata": {},
   "outputs": [
    {
     "data": {
      "text/plain": [
       "array([[3. , 2.5],\n",
       "       [4.5, 1. ],\n",
       "       [7. , 2.5],\n",
       "       [9. , 0.5]])"
      ]
     },
     "execution_count": 6,
     "metadata": {},
     "output_type": "execute_result"
    }
   ],
   "source": [
    "pto[np.lexsort(np.fliplr(pto).T)]"
   ]
  },
  {
   "cell_type": "code",
   "execution_count": 7,
   "id": "281227f3",
   "metadata": {},
   "outputs": [],
   "source": [
    "pto = pto[np.lexsort(np.fliplr(pto).T)]"
   ]
  },
  {
   "cell_type": "code",
   "execution_count": 8,
   "id": "c5be8043",
   "metadata": {},
   "outputs": [],
   "source": [
    "xp = pto[:, 0]"
   ]
  },
  {
   "cell_type": "code",
   "execution_count": 9,
   "id": "67cc738f",
   "metadata": {},
   "outputs": [],
   "source": [
    "yp = pto[:, 1]"
   ]
  },
  {
   "cell_type": "code",
   "execution_count": 10,
   "id": "d3da0b47",
   "metadata": {
    "scrolled": true
   },
   "outputs": [
    {
     "data": {
      "text/plain": [
       "array([3. , 4.5, 7. , 9. ])"
      ]
     },
     "execution_count": 10,
     "metadata": {},
     "output_type": "execute_result"
    }
   ],
   "source": [
    "xp"
   ]
  },
  {
   "cell_type": "code",
   "execution_count": 11,
   "id": "228bcfc3",
   "metadata": {},
   "outputs": [
    {
     "data": {
      "text/plain": [
       "array([2.5, 1. , 2.5, 0.5])"
      ]
     },
     "execution_count": 11,
     "metadata": {},
     "output_type": "execute_result"
    }
   ],
   "source": [
    "yp"
   ]
  },
  {
   "cell_type": "markdown",
   "id": "1de92abd",
   "metadata": {},
   "source": [
    "---"
   ]
  },
  {
   "cell_type": "markdown",
   "id": "0d843d2d",
   "metadata": {},
   "source": [
    "Creación de las funciones lineales:"
   ]
  },
  {
   "cell_type": "markdown",
   "id": "8727d0ca",
   "metadata": {},
   "source": [
    "- Pendiente de las rectas"
   ]
  },
  {
   "cell_type": "code",
   "execution_count": 12,
   "id": "c559d3dc",
   "metadata": {},
   "outputs": [],
   "source": [
    "mi = (yp[1:]-yp[:-1]) / (xp[1:]-xp[:-1])"
   ]
  },
  {
   "cell_type": "code",
   "execution_count": 13,
   "id": "0535a40a",
   "metadata": {},
   "outputs": [
    {
     "data": {
      "text/plain": [
       "array([-1. ,  0.6, -1. ])"
      ]
     },
     "execution_count": 13,
     "metadata": {},
     "output_type": "execute_result"
    }
   ],
   "source": [
    "mi"
   ]
  },
  {
   "cell_type": "markdown",
   "id": "c8506324",
   "metadata": {},
   "source": [
    "- Función entre cada par de puntos"
   ]
  },
  {
   "cell_type": "code",
   "execution_count": 14,
   "id": "a3ebffee",
   "metadata": {
    "scrolled": true
   },
   "outputs": [
    {
     "data": {
      "text/plain": [
       "array([5.5 - 1.0*x, 0.6*x - 1.7, 9.5 - 1.0*x], dtype=object)"
      ]
     },
     "execution_count": 14,
     "metadata": {},
     "output_type": "execute_result"
    }
   ],
   "source": [
    "yp[:-1] + mi*(x-xp[:-1])"
   ]
  },
  {
   "cell_type": "code",
   "execution_count": 15,
   "id": "5e4c1330",
   "metadata": {},
   "outputs": [],
   "source": [
    "yi = yp[:-1] + mi*(x-xp[:-1])"
   ]
  },
  {
   "cell_type": "code",
   "execution_count": 16,
   "id": "5543652c",
   "metadata": {},
   "outputs": [
    {
     "data": {
      "text/latex": [
       "$\\displaystyle 9.5 - 1.0 x$"
      ],
      "text/plain": [
       "9.5 - 1.0*x"
      ]
     },
     "execution_count": 16,
     "metadata": {},
     "output_type": "execute_result"
    }
   ],
   "source": [
    "yi[2]"
   ]
  },
  {
   "cell_type": "markdown",
   "id": "f2afb8ae",
   "metadata": {},
   "source": [
    "---"
   ]
  },
  {
   "cell_type": "markdown",
   "id": "c52b4074",
   "metadata": {},
   "source": [
    "Función que al ingresarle:\n",
    "- xg: un conjunto de puntos de evaluación.\n",
    "- xp: valores en x de un conjunto de puntos asociados a datos.\n",
    "- yp: valores en y de un conjunto de puntos asociados a datos.\n",
    "\n",
    "Retorna la interpolación mediante trazadores lineales de los puntos asociados a datos en forma de np.array."
   ]
  },
  {
   "cell_type": "code",
   "execution_count": 17,
   "id": "8623c33b",
   "metadata": {
    "scrolled": true
   },
   "outputs": [],
   "source": [
    "def f(xg, xp, yp):\n",
    "    x = sp.symbols('x')  # Variable simbólica general.\n",
    "    n = len(xp)          # Cantidad de puntos.\n",
    "    pto = np.array([np.array(xp), np.array(yp)]).T  # Conversión a np.array()\n",
    "    pto = pto[np.lexsort(np.fliplr(pto).T)]         # Ordena de acuerdo con x.\n",
    "    xp = pto[:, 0]\n",
    "    yp = pto[:, 1]\n",
    "    \n",
    "    mi = (yp[1:]-yp[:-1]) / (xp[1:]-xp[:-1])  # Pendiente\n",
    "    yi = yp[:-1] + mi*(x-xp[:-1])             # Función simbólica i.\n",
    "    \n",
    "    y = 0  # Espacio de memoria para solución.\n",
    "    \n",
    "    # Primer intervalo\n",
    "    f0 = sp.lambdify(x, yi[0])  # Se convierte en función la primera ecuación.\n",
    "    linf = xp[0]<=xg            # Si es mayor que el primer punto: 1, de  lo contrario 0.\n",
    "    lsup = xg<=xp[1]            # Si es menor que el segundo punto: 1, de lo contrario 0.\n",
    "    y += linf*lsup * f0(xg)\n",
    "    \n",
    "    # Los otros intervalos\n",
    "    for i in  range(1, n-1):\n",
    "        fi = sp.lambdify(x, yi[i])  # Se convierte en función i en ecuación.\n",
    "        linf = xp[i]<xg             # Si es mayor que el punto i: 1, de  lo contrario 0.\n",
    "        lsup = xg<=xp[i+1]          # Si es menor que el punto i+1: 1, de lo contrario 0.\n",
    "        y += linf*lsup * fi(xg)\n",
    "\n",
    "    return y"
   ]
  },
  {
   "cell_type": "markdown",
   "id": "693c180a",
   "metadata": {},
   "source": [
    "Ver: [20-trazadores_lineales.py](https://github.com/jnramirezg/metodos_numericos_ingenieria_civil/blob/main/codigo/20-trazadores_lineales.py)"
   ]
  },
  {
   "cell_type": "markdown",
   "id": "82695d58",
   "metadata": {},
   "source": [
    "---"
   ]
  },
  {
   "cell_type": "markdown",
   "id": "f36dc2ae",
   "metadata": {},
   "source": [
    "Ejemplo 1:"
   ]
  },
  {
   "cell_type": "code",
   "execution_count": 18,
   "id": "2301cfe5",
   "metadata": {},
   "outputs": [],
   "source": [
    "xp = [4.5, 3.0, 7.0, 9.0]\n",
    "yp = [1.0, 2.5, 2.5, 0.5]"
   ]
  },
  {
   "cell_type": "code",
   "execution_count": 19,
   "id": "42e75e7d",
   "metadata": {},
   "outputs": [],
   "source": [
    "xg = np.linspace(min(xp), max(xp),1000)\n",
    "yg = f(xg, xp, yp)"
   ]
  },
  {
   "cell_type": "code",
   "execution_count": 20,
   "id": "fa77d39d",
   "metadata": {},
   "outputs": [
    {
     "data": {
      "text/plain": [
       "[<matplotlib.lines.Line2D at 0x207c6857550>]"
      ]
     },
     "execution_count": 20,
     "metadata": {},
     "output_type": "execute_result"
    },
    {
     "data": {
      "image/png": "[encoded data removed]",
      "text/plain": [
       "<Figure size 432x288 with 1 Axes>"
      ]
     },
     "metadata": {
      "needs_background": "light"
     },
     "output_type": "display_data"
    }
   ],
   "source": [
    "plt.plot(xg, yg, 'b')\n",
    "plt.plot(xp, yp, 'k.')"
   ]
  },
  {
   "cell_type": "markdown",
   "id": "4688c613",
   "metadata": {},
   "source": [
    "---"
   ]
  },
  {
   "cell_type": "markdown",
   "id": "1ee6e75d",
   "metadata": {},
   "source": [
    "Ejemplo 2:"
   ]
  },
  {
   "cell_type": "code",
   "execution_count": 21,
   "id": "06324010",
   "metadata": {},
   "outputs": [],
   "source": [
    "xp = [-15, -12, -10, 0, 3, 3.5, 7, 8]\n",
    "yp = [  1,   2,   3, 4, 5,   6, 7, 8]"
   ]
  },
  {
   "cell_type": "code",
   "execution_count": 22,
   "id": "89ee693f",
   "metadata": {},
   "outputs": [],
   "source": [
    "xg = np.linspace(min(xp), max(xp),1000)\n",
    "yg = f(xg, xp, yp)"
   ]
  },
  {
   "cell_type": "code",
   "execution_count": 23,
   "id": "b81edf93",
   "metadata": {
    "scrolled": true
   },
   "outputs": [
    {
     "data": {
      "text/plain": [
       "[<matplotlib.lines.Line2D at 0x207c6937a30>]"
      ]
     },
     "execution_count": 23,
     "metadata": {},
     "output_type": "execute_result"
    },
    {
     "data": {
      "image/png": "[encoded data removed]",
      "text/plain": [
       "<Figure size 432x288 with 1 Axes>"
      ]
     },
     "metadata": {
      "needs_background": "light"
     },
     "output_type": "display_data"
    }
   ],
   "source": [
    "plt.plot(xg, yg, 'b')\n",
    "plt.plot(xp, yp, 'k.')"
   ]
  },
  {
   "cell_type": "markdown",
   "id": "fd649196",
   "metadata": {},
   "source": [
    "---"
   ]
  },
  {
   "cell_type": "markdown",
   "id": "1a4c3a57",
   "metadata": {},
   "source": [
    "# **2.2.2. Trazadores cuadráticos**"
   ]
  },
  {
   "cell_type": "markdown",
   "id": "4c90940d",
   "metadata": {},
   "source": [
    "Tiene la ventaja de que la primera derivada es continua, gracias a que se usan para n+1 puntos, n polinomios."
   ]
  },
  {
   "cell_type": "markdown",
   "id": "e6fcb450",
   "metadata": {},
   "source": [
    "Si se tienen 4 puntos:"
   ]
  },
  {
   "cell_type": "code",
   "execution_count": 24,
   "id": "af27be64",
   "metadata": {},
   "outputs": [],
   "source": [
    "xp = [3.0, 4.5, 7.0, 9.0]\n",
    "yp = [2.5, 1.0, 2.5, 0.5]"
   ]
  },
  {
   "cell_type": "code",
   "execution_count": 25,
   "id": "29a17c10",
   "metadata": {
    "scrolled": true
   },
   "outputs": [
    {
     "data": {
      "text/plain": [
       "[<matplotlib.lines.Line2D at 0x207c69968b0>]"
      ]
     },
     "execution_count": 25,
     "metadata": {},
     "output_type": "execute_result"
    },
    {
     "data": {
      "image/png": "[encoded data removed]",
      "text/plain": [
       "<Figure size 432x288 with 1 Axes>"
      ]
     },
     "metadata": {
      "needs_background": "light"
     },
     "output_type": "display_data"
    }
   ],
   "source": [
    "plt.plot(xp, yp, 'k.')"
   ]
  },
  {
   "cell_type": "markdown",
   "id": "957e113e",
   "metadata": {},
   "source": [
    "---"
   ]
  },
  {
   "cell_type": "markdown",
   "id": "37aa9281",
   "metadata": {},
   "source": [
    "Habrá 3 polinomios:\n",
    "\n",
    "- $a_1x^2 + b_1x + c_1 = f_1(x)$\n",
    "- $a_2x^2 + b_2x + c_2 = f_2(x)$\n",
    "- $a_3x^2 + b_3x + c_3 = f_3(x)$\n",
    "\n",
    "En consecuencia para (n+1)=4 puntos hay n=3 polinomios, con 3*n = 9 incógnitas en total, es decir, se requieren 9 ecuaciones para hallarlas.\n",
    "\n"
   ]
  },
  {
   "cell_type": "markdown",
   "id": "d005b00c",
   "metadata": {},
   "source": [
    "Los valores de la función de polinomios adyacentes deben ser\n",
    "iguales en los nodos interiores. Esta condición se representa como:\n",
    "\n",
    "Respecto al segundo punto:\n",
    "- $a_1x_2^2 + b_1x_2 + c_1 = y_2$\n",
    "- $a_2x_2^2 + b_2x_2 + c_2 = y_2$\n",
    "\n",
    "Respecto al tercer punto:\n",
    "- $a_2x_3^2 + b_2x_3 + c_2 = y_3$\n",
    "- $a_3x_3^2 + b_3x_3 + c_3 = y_3$"
   ]
  },
  {
   "cell_type": "markdown",
   "id": "b7778c97",
   "metadata": {},
   "source": [
    "---"
   ]
  },
  {
   "cell_type": "markdown",
   "id": "8614e4fb",
   "metadata": {},
   "source": [
    "La primera función debe pasar por el primer punto y la última función debe pasar por el últimos punto, es decir:\n",
    "\n",
    "- $a_1x_1^2 + b_1x_1 + c_1 = y_1$\n",
    "- $a_3x_4^2 + b_3x_4 + c_3 = y_4$"
   ]
  },
  {
   "cell_type": "markdown",
   "id": "d45575e6",
   "metadata": {},
   "source": [
    "Las primeras derivadas en los nodos interiores deber ser iguales:\n",
    "\n",
    "- $2a_1x_2 + b_1 = 2a_2x_2 + b_2$\n",
    "- $2a_2x_3 + b_2 = 2a_3x_3 + b_3$ "
   ]
  },
  {
   "cell_type": "markdown",
   "id": "18c0da97",
   "metadata": {},
   "source": [
    "Finalmente, la última condición (ecuación) surge de asumir que la segunda derivada en el primer punto es cero:\n",
    "\n",
    "$ 2a_1 = 0$, es decir, $a_1$=0\n",
    "\n",
    "Reduciendo el problema de 3n-1 ecuaciones."
   ]
  },
  {
   "cell_type": "markdown",
   "id": "3148ab26",
   "metadata": {},
   "source": [
    "---"
   ]
  },
  {
   "cell_type": "markdown",
   "id": "2dd6a68b",
   "metadata": {},
   "source": [
    "# **2.2.3. Trazadores cúbicos**\n",
    "\n",
    "Para n+1 puntos se tienen n trazadores cúbicos.\n",
    "\n",
    "La construcción del método es similar a la de los trazadores cuadráticos. En este caso se requieren $4n$ condiciones, las cuales se obtienen a partir de:"
   ]
  },
  {
   "cell_type": "markdown",
   "id": "0ef7c465",
   "metadata": {},
   "source": [
    "- Los valores de la función deben ser iguales en los nodos interiores (2n – 2 condiciones).\n",
    "- La primera y última función deben pasar a través de los puntos extremos (2 condiciones).\n",
    "- Las primeras derivadas en los nodos interiores deben ser iguales (n – 1 condiciones).\n",
    "- Las segundas derivadas en los nodos interiores deben ser iguales (n – 1 condiciones).\n",
    "- Las segundas derivadas en los nodos extremos son cero (2 condiciones)."
   ]
  },
  {
   "cell_type": "markdown",
   "id": "e3936a01",
   "metadata": {},
   "source": [
    "De esta manera: \n",
    "\n",
    "$(2n-2) + (2) + (n-1) + (n-1) + (2) = 4n$"
   ]
  }
 ],
 "metadata": {
  "kernelspec": {
   "display_name": "Python 3",
   "language": "python",
   "name": "python3"
  },
  "language_info": {
   "codemirror_mode": {
    "name": "ipython",
    "version": 3
   },
   "file_extension": ".py",
   "mimetype": "text/x-python",
   "name": "python",
   "nbconvert_exporter": "python",
   "pygments_lexer": "ipython3",
   "version": "3.8.8"
  }
 },
 "nbformat": 4,
 "nbformat_minor": 5
}
