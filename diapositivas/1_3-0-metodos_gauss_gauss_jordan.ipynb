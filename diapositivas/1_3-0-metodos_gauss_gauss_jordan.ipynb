{
 "cells": [
  {
   "cell_type": "markdown",
   "id": "197ffe54",
   "metadata": {},
   "source": [
    "# **4101553 Métodos Numéricos aplicados a la Ingenieria Civil**\n",
    "\n",
    "Departamento de Ingeniería Civil\n",
    "\n",
    "Universidad Nacional de Colombia\n",
    "\n",
    "Sede Manizales\n",
    "\n",
    "**Docente:** Juan Nicolás Ramírez Giraldo ([jnramirezg@unal.edu.co](mailto:jnramirezg@unal.edu.co))\n",
    "\n",
    "\n",
    "\"*Cum cogitaveris quot te antecedant, respice quot sequantur*\"\n",
    "\n",
    "**Séneca**\n",
    "\n",
    "\n",
    "[Repositorio de la asignatura](https://github.com/jnramirezg/metodos_numericos_ingenieria_civil/)\n"
   ]
  },
  {
   "cell_type": "markdown",
   "id": "a82853f7",
   "metadata": {},
   "source": [
    "# **Unidad 1: Sistemas de ecuaciones lineales**\n",
    "## **Métodos de Gauss y Gauss-Jordan**\n",
    "\n",
    "1. Gauss simple\n",
    "2. Gauss Jordan\n"
   ]
  },
  {
   "cell_type": "markdown",
   "id": "20a98238",
   "metadata": {},
   "source": [
    "### **Algunas matrices especiales**\n",
    "\n",
    "Previamente definimos algunas matrices especiales que, serán de utilidad para el desarrollo conceptual.\n",
    "\n",
    "**Matriz triangular superior**\n",
    "\n",
    "$\\underline{\\underline{U}}=$\n",
    "$\\begin{bmatrix}\n",
    "u_{11} & u_{12} & u_{13} & ... & u_{1n}\\\\\n",
    "0      & u_{22} & u_{23} & ... & u_{2n}\\\\\n",
    "0      & 0      & u_{33} & ... & u_{3n}\\\\\n",
    "\\vdots & \\vdots & \\vdots & ... & \\vdots\\\\\n",
    "0      & 0      & 0      & ...  & u_{nn}\n",
    "\\end{bmatrix}$\n",
    "\n",
    "**Matriz triangular inferior**\n",
    "\n",
    "$\\underline{\\underline{L}}=$\n",
    "$\\begin{bmatrix}\n",
    "l_{11} & 0      & 0      &... & 0\\\\\n",
    "l_{21} & l_{22} & 0      &... & 0\\\\\n",
    "l_{31} & l_{32} & l_{33} &... & 0\\\\\n",
    "\\vdots & \\vdots & \\vdots &... & \\vdots\\\\\n",
    "l_{n1} & l_{n2} & l_{n3} & ... & l_{nn}\n",
    "\\end{bmatrix}$\n",
    "\n",
    "**Matriz simétrica**\n",
    "\n",
    "$\\underline{\\underline{S}}=$\n",
    "$\\begin{bmatrix}\n",
    "s_{11} & s_{21} & s_{31} &... & s_{n1}\\\\\n",
    "s_{21} & s_{22} & s_{32} &... & s_{n2}\\\\\n",
    "s_{31} & s_{32} & s_{33} &... & s_{n3}\\\\\n",
    "\\vdots & \\vdots & \\vdots &... & \\vdots\\\\\n",
    "s_{n1} & s_{n2} & s_{n3} & ... & s_{nn}\n",
    "\\end{bmatrix}$\n",
    "\n",
    "En la que se cumple que $s_{ij}=s_{ji}$ para todo $i$, $j$, es decir, $\\underline{\\underline{S}}=\\underline{\\underline{S}}^T$.\n",
    "\n",
    "**Matriz escalonada**\\\n",
    "En un caso particular de 4x5:\n",
    "\n",
    "$\\underline{\\underline{E}}=$\n",
    "$\\begin{bmatrix}\n",
    "1      & e_{12} & e_{13} & e_{14} & e_{15}\\\\\n",
    "0      & 1      & e_{23} & e_{24} & e_{25}\\\\\n",
    "0      & 0      & 1      & e_{34} & e_{35}\\\\\n",
    "0      & 0      & 0      & 1      & e_{45}\n",
    "\\end{bmatrix}$\n",
    "\n",
    "**Matriz escalonada reducida**\\\n",
    "En un caso particular de 4x5:\n",
    "\n",
    "$\\underline{\\underline{R}}=$\n",
    "$\\begin{bmatrix}\n",
    "1      & 0      & 0      & 0 & r_{15}\\\\\n",
    "0      & 1      & 0      & 0 & r_{25}\\\\\n",
    "0      & 0      & 1      & 0 & r_{35}\\\\\n",
    "0      & 0      & 0      & 1 & r_{45}\n",
    "\\end{bmatrix}$\n"
   ]
  },
  {
   "cell_type": "markdown",
   "id": "a812bb3e-e9ca-419d-be31-20717d1e670d",
   "metadata": {},
   "source": [
    "### **Método de Gauss**\n",
    "\n",
    "Es un método utilizado para resolver un sistema de $n$ ecuaciones:\n",
    "\n",
    "$a_{11}x_{1}+a_{12}x_{2}+a_{13}x_{3}+...+a_{1n}x_{n}=b_{1}$\n",
    "\n",
    "$a_{21}x_{1}+a_{22}x_{2}+a_{23}x_{3}...+a_{2n}x_{n}=b_{2}$\n",
    "\n",
    ".\n",
    "\n",
    ".\n",
    "\n",
    ".\n",
    "\n",
    "$a_{n}x_{1}+a_{n2}x_{2}+a_{n3}x_{3}...+a_{nn}x_{n}=b_{n}$\n",
    "\n",
    "\n",
    "Para hallar la solución se realizan dos fases:\n",
    "\n",
    "- eliminación de incógnitas hacia adelante,\n",
    "- hallar las soluciones mediante sustitución hacia atrás.\n"
   ]
  },
  {
   "cell_type": "markdown",
   "id": "de0926bc-c15a-429d-87d1-db24bf87b57c",
   "metadata": {},
   "source": [
    "Acá aparece el concepto de matriz aumentada del sistema, en donde se agrega en la última columna de la matriz de coeficientes $\\underline{\\underline{A}}$ el vector $\\underline{B}$ con las constantes, de esta manera:\n",
    "\n",
    "$[\\underline{\\underline{A}}|\\underline{B}]$\n",
    "\n",
    "En particular, si $\\underline{\\underline{A}}$ está definida como:\n",
    "\n",
    "$\\underline{\\underline{A}}=\n",
    "\\begin{bmatrix}\n",
    "a_{11} & a_{12} & a_{13}\\\\\n",
    "a_{21} & a_{22} & a_{23}\\\\\n",
    "a_{31} & a_{32} & a_{33}\n",
    "\\end{bmatrix}$\n",
    "\n",
    "Y $\\underline{B}$ como:\n",
    "\n",
    "$\\underline{B}=$\n",
    "$\\begin{bmatrix}\n",
    "b_{1}  \\\\\n",
    "b_{2}  \\\\\n",
    "b_{3} \n",
    "\\end{bmatrix}$\n",
    "\n",
    "La matriz aumentada del sistema es:\n",
    "\n",
    "$[\\underline{\\underline{A}}|\\underline{B}]=\n",
    "\\begin{bmatrix}\n",
    "a_{11} & a_{12} & a_{13} & | & b_{1} \\\\\n",
    "a_{21} & a_{22} & a_{23} & | & b_{2}\\\\\n",
    "a_{31} & a_{32} & a_{33} & | & b_{3}\n",
    "\\end{bmatrix}$\n"
   ]
  },
  {
   "cell_type": "markdown",
   "id": "753d9042-6eca-43dc-baca-a8d71b03ea74",
   "metadata": {},
   "source": [
    "#### **Eliminación de incógnitas hacia adelante**\n",
    "\n",
    "A partir de la matriz aumentada del sistema:\n",
    "\n",
    "$\n",
    "\\begin{bmatrix}\n",
    "a_{11} & a_{12} & a_{13} & | & b_{1} \\\\\n",
    "a_{21} & a_{22} & a_{23} & | & b_{2}\\\\\n",
    "a_{31} & a_{32} & a_{33} & | & b_{3}\n",
    "\\end{bmatrix}$\n",
    "\n",
    "Se busca llevarla a que sea una matriz escalonada, en donde, es matricialmente válido realizar este tipo de operaciones dentro de la matriz:\n",
    "\n",
    "1. Multiplicar una fila por un escalar:\n",
    "\n",
    "    - $f_1=(-2)f_1$\n",
    "    - $f_3=(8)f_3$\n",
    "\n",
    "2. Sumar o restar filas (suma algebraica):\n",
    "    - $f_1=f_1 + f_2$\n",
    "    - $f3=f_3 - f_2$\n",
    "\n",
    "3. Sumar filas multiplicadas por escalares:\n",
    "    - $f_2=(0.5)f_1 + f_2$\n",
    "    - $f_1=(8)f_1 - (3)f_3$\n",
    "\n",
    "\n",
    "**Nota:** Esto es válido porque de ninguna manera afecta la consistencia ni la solución del sistema, únicamente altera la escala y la cantidad de variables visibles en cada ecuación. Esto solo se puede hacer en **matrices aumentadas** porque al hacer alguna operación se alteran ambos lados de la igualdad: los coeficientes constantes de $\\underline{\\underline{A}}$ y las constantes de $\\underline{B}$.\n",
    "\n",
    "Luego, no se hacen operaciones entre columnas porque se altera el orden de las soluciones. Si se cambia la columna 2 por la columna 3, entonces la solución $x_2$ queda en la tercera posición y la $x_3$ en la segunda.\n",
    "\n"
   ]
  },
  {
   "cell_type": "markdown",
   "id": "b6d0d73d-a3cf-4098-a378-c2be89f384e1",
   "metadata": {},
   "source": [
    "A partir de estas operaciones entre filas de la matriz aumentada, se empieza un proceso **iterativo** en el que se toma inicialmente el elemento en la posición $i=1$, $j=1$ (en Python sería el 0,0) como *pivote* o *coeficiente*, de tal manera que se obtenga un factor que al aplicarlo a la fila 1 $f_1$ y lugo sumarle a la fila 2 $f_2$, elimine el primer término de la fila 2.\n",
    "\n",
    "$f_2 = f_2 + (\\frac{-a_{21}}{a_{11}})f_1$\n",
    "\n",
    "Esto es:\n",
    "\n",
    "$f_2 = \n",
    "\\begin{bmatrix}\n",
    "a_{21} & a_{22} & a_{23} & | & b_{2}\\\\\n",
    "\\end{bmatrix}\n",
    "+\n",
    "(\\frac{-a_{21}}{a_{11}})*\n",
    "\\begin{bmatrix}\n",
    "a_{11} & a_{12} & a_{13} & | & b_{1} \\\\\n",
    "\\end{bmatrix}$ \n",
    "\n",
    "$f_2 = \n",
    "\\begin{bmatrix}\n",
    "a_{21} & a_{22} & a_{23} & | & b_{2}\\\\\n",
    "\\end{bmatrix}\n",
    "+\n",
    "\\begin{bmatrix}\n",
    "(\\frac{-a_{21}}{a_{11}})a_{11} & (\\frac{-a_{21}}{a_{11}})a_{12} & (\\frac{-a_{21}}{a_{11}})a_{13} & | & (\\frac{-a_{21}}{a_{11}})b_{1} \\\\\n",
    "\\end{bmatrix}$\n",
    "\n",
    "$f_2 = \n",
    "\\begin{bmatrix}\n",
    "a_{21} & a_{22} & a_{23} & | & b_{2}\\\\\n",
    "\\end{bmatrix}\n",
    "+\n",
    "\\begin{bmatrix}\n",
    "-a_{21} & (\\frac{-a_{21}}{a_{11}})a_{12} & (\\frac{-a_{21}}{a_{11}})a_{13} & | & (\\frac{-a_{21}}{a_{11}})b_{1} \\\\\n",
    "\\end{bmatrix}$\n",
    "\n",
    "$f_2 = \n",
    "\\begin{bmatrix}\n",
    "0 & a_{22}+(\\frac{-a_{21}}{a_{11}})a_{12} & a_{23}+(\\frac{-a_{21}}{a_{11}})a_{13} & | & b_{2}+(\\frac{-a_{21}}{a_{11}})b_{1}\\\\\n",
    "\\end{bmatrix}$\n",
    "\n",
    "Para facilidad de visualización:\n",
    "\n",
    "$f_2 = \n",
    "\\begin{bmatrix}\n",
    "0 & a'_{22} & a'_{23} & | & b'_{2}\\\\\n",
    "\\end{bmatrix}$\n",
    "\n",
    "De esta manera, la matriz aumentada queda:\n",
    "\n",
    "$[\\underline{\\underline{A}}|\\underline{B}]=\n",
    "\\begin{bmatrix}\n",
    "a_{11} & a_{12} & a_{13} & | & b_{1} \\\\\n",
    "0 & a'_{22} & a'_{23} & | & b'_{2}\\\\\n",
    "a_{31} & a_{32} & a_{33} & | & b_{3}\n",
    "\\end{bmatrix}$\n",
    "\n"
   ]
  },
  {
   "cell_type": "markdown",
   "id": "7523d1cd-7cb6-44d3-9917-a5a619acbef6",
   "metadata": {},
   "source": [
    "De forma análoga, se hace:\n",
    "\n",
    "$f_3 = f_3 + (\\frac{-a_{31}}{a_{11}})f_1$\n",
    "\n",
    "Para que la matriz escalonada quede:\n",
    "\n",
    "$[\\underline{\\underline{A}}|\\underline{B}]=\n",
    "\\begin{bmatrix}\n",
    "a_{11} & a_{12} & a_{13} & | & b_{1} \\\\\n",
    "0      & a'_{22} & a'_{23} & | & b'_{2}\\\\\n",
    "0      & a'_{32} & a'_{33} & | & b'_{3}\n",
    "\\end{bmatrix}$\n",
    "\n",
    "Ahora, se establece como pivote $a'_{22}$, y se realiza la siguiente operación:\n",
    "\n",
    "$f_3 = f_3 + (\\frac{-a'_{32}}{a'_{22}})f_2$\n",
    "\n",
    "Obteniendo:\n",
    "\n",
    "$[\\underline{\\underline{A}}|\\underline{B}]=\n",
    "\\begin{bmatrix}\n",
    "a_{11} & a_{12}  & a_{13}   & | & b_{1} \\\\\n",
    "0      & a'_{22} & a'_{23}  & | & b'_{2}\\\\\n",
    "0      & 0       & a''_{33} & | & b''_{3}\n",
    "\\end{bmatrix}$\n",
    "\n"
   ]
  },
  {
   "cell_type": "markdown",
   "id": "189a3a72-bf2f-4b07-bbff-e337d5043dcd",
   "metadata": {},
   "source": [
    "#### **Solución mediante sustitución hacia atrás**\n",
    "\n",
    "A partir del último resultado, se extrae de la tercera fila la solución de $x_3$, así:\n",
    "\n",
    "$a''_{33}.x_{3}=b''_{3}$\n",
    "\n",
    "en donde:\n",
    "\n",
    "$x_3 = \\frac{b''_{3}}{a''_{33}}$\n",
    "\n",
    "Luego, de la segunda fila:\n",
    "\n",
    "$a'_{22}.x_2 + a'_{23}.x_3 = b'_{2} $\n",
    "\n",
    "Como ya sabemos que $x_3 = \\frac{b''_{3}}{a''_{33}}$, entonces se reemplaza en resultado anterior, dejando únicamente a $x_2$ como incógnita. Y ya teniendo los resultados de $x_2$ y $x_3$ se extrae la ecuación de la primera fila, se reemplaza y se despeja $x_1$.\n"
   ]
  },
  {
   "cell_type": "markdown",
   "id": "3af9d158-e37b-4ef6-bacc-257e03d53388",
   "metadata": {},
   "source": [
    "#### **Primeros pasos para solución en Python con lista de listas de la eliminación de incógnitas hacia adelante**\n",
    "\n",
    "El resultado final es:\n",
    "\n",
    "\n",
    "    def sol_gauss(A, B):\n",
    "        m = len(A)             # Número de filas de A.\n",
    "        S = [f[:] for f in A]  # Se crea S inicialmente como una copia de A.\n",
    "\n",
    "        for f in range(m):     # Agrego al final de cada fila, el correspondiente elemento de B\n",
    "            S[f] += [B[f]]\n",
    "\n",
    "        for k in range(m-1):\n",
    "            pivote = S[k][k]  # El elemento de la fila 1, columna 1.\n",
    "            S1 = [f[:] for f in S]\n",
    "            for i in range(k+1, m):  # Operaciones: # fi = fi + (-aik/pivote)fk\n",
    "                factor = -S[i][k]/pivote\n",
    "                for j in range(k, m+1):\n",
    "                    S1[i][j] = S[i][j] + factor*S[k][j]\n",
    "            S = S1\n",
    "\n",
    "        sol = [0]*m  # Se limpia el espacio de memoria de la solución.\n",
    "\n",
    "        for i in range(1, m+1):\n",
    "            sol[m-i] +=S[m-i][m] / S[m-i][m-i]\n",
    "            for j in range(1, i):\n",
    "                sol[m-i] += -S[m-i][m-j]*sol[m-j]/ S[m-i][m-i]\n",
    "\n",
    "        return sol\n",
    "\n",
    "\n",
    "Se ve muy sintético y díficil de entender, pero explicaremos paso a paso su construcción.\n",
    "\n",
    "Se definen A y B con listas de listas, para así, iniciar la construcción de la solución numérica.\n"
   ]
  },
  {
   "cell_type": "code",
   "execution_count": 1,
   "id": "c0851529-af2e-4558-9bab-aa50abd8b712",
   "metadata": {},
   "outputs": [],
   "source": [
    "# Matriz de coeficientes constantes.\n",
    "A = [\n",
    "     [ 2,  1, -1,  2],\n",
    "     [ 4,  5, -3,  6],\n",
    "     [-2,  5, -2,  6],\n",
    "     [ 4, 11, -4,  8]\n",
    "                     ]\n"
   ]
  },
  {
   "cell_type": "code",
   "execution_count": 2,
   "id": "f88f6182-5e2b-444f-ae90-446d622f69f5",
   "metadata": {},
   "outputs": [],
   "source": [
    "# Vector de constantes.\n",
    "B = [5, 9, 4, 2]\n"
   ]
  },
  {
   "cell_type": "markdown",
   "id": "0c02d13b-8530-417d-bf1a-7c5daacd1504",
   "metadata": {},
   "source": [
    "El primer reto es construir la matriz aumentada $\\underline{\\underline{S}}$:"
   ]
  },
  {
   "cell_type": "code",
   "execution_count": 3,
   "id": "bae92773-efcb-4086-881e-e469b3fb65cf",
   "metadata": {},
   "outputs": [],
   "source": [
    "m = len(A)             # Número de filas de A, número de soluciones, tamaño de B.\n"
   ]
  },
  {
   "cell_type": "code",
   "execution_count": 4,
   "id": "ba43096e-e75f-4ab7-9344-667fb831096f",
   "metadata": {},
   "outputs": [],
   "source": [
    "S = [f[:] for f in A]  # Se crea S inicialmente como una copia de A.\n"
   ]
  },
  {
   "cell_type": "code",
   "execution_count": 5,
   "id": "0c1bc33e-806b-4c7b-b5f9-ba89f02a33ac",
   "metadata": {},
   "outputs": [
    {
     "data": {
      "text/plain": [
       "[[2, 1, -1, 2], [4, 5, -3, 6], [-2, 5, -2, 6], [4, 11, -4, 8]]"
      ]
     },
     "execution_count": 5,
     "metadata": {},
     "output_type": "execute_result"
    }
   ],
   "source": [
    "S\n"
   ]
  },
  {
   "cell_type": "code",
   "execution_count": 6,
   "id": "8d50c243-53e9-4241-9cf0-a23a84685e72",
   "metadata": {},
   "outputs": [],
   "source": [
    "# Agrego al final de cada fila, el correspondiente elemento de B\n",
    "for f in range(m):\n",
    "    S[f] += [B[f]]\n"
   ]
  },
  {
   "cell_type": "code",
   "execution_count": 7,
   "id": "4c2031a0-032c-498b-923a-6561dbb9cba2",
   "metadata": {},
   "outputs": [
    {
     "data": {
      "text/plain": [
       "[[2, 1, -1, 2, 5], [4, 5, -3, 6, 9], [-2, 5, -2, 6, 4], [4, 11, -4, 8, 2]]"
      ]
     },
     "execution_count": 7,
     "metadata": {},
     "output_type": "execute_result"
    }
   ],
   "source": [
    "S\n"
   ]
  },
  {
   "cell_type": "markdown",
   "id": "6eb22ed4-e5a1-4f10-b7b2-d156a420a1d5",
   "metadata": {},
   "source": [
    "Después, es necesario establecer el primer pivote:\n"
   ]
  },
  {
   "cell_type": "code",
   "execution_count": 8,
   "id": "cf4c2498-4b06-446d-84a9-7f88e00726a0",
   "metadata": {},
   "outputs": [],
   "source": [
    "pivote = S[0][0] # El elemento de la fila 0, columna 0.\n"
   ]
  },
  {
   "cell_type": "code",
   "execution_count": 9,
   "id": "19733f91-ab59-4f80-8cbd-fd468acd5965",
   "metadata": {},
   "outputs": [],
   "source": [
    "# Se crea una copia auxiliar de S, que recibirá los resultados:\n",
    "S1 = [f[:] for f in S]\n"
   ]
  },
  {
   "cell_type": "markdown",
   "id": "b6073078-7d58-4445-8b6a-ef5fa227990f",
   "metadata": {},
   "source": [
    "Se crean 3 ciclos (m-1) para recorrer la segunda, tercera y cuarta fila realizando esta operación:\n",
    "\n",
    "$f_i = f_i + (\\frac{-a_{i1}}{a_{11}})f_1$\n",
    "\n",
    "El recorrido lo realiza j, el cual debe hacerse m+1 veces, debido a que la matriz tiene una columna más al ser **aumentada**.\n"
   ]
  },
  {
   "cell_type": "code",
   "execution_count": 10,
   "id": "374deb30-bdb1-4b66-93a1-4e48d82b7aac",
   "metadata": {},
   "outputs": [],
   "source": [
    "# f2 = f2 + (-a21/pivote)f1\n",
    "factor = -S[1][0]/pivote\n",
    "for j in range(m+1):\n",
    "    S1[1][j] = S[1][j] + factor*S[0][j]\n"
   ]
  },
  {
   "cell_type": "code",
   "execution_count": 11,
   "id": "25ac4054-efcd-4628-95d8-1736562b6f13",
   "metadata": {},
   "outputs": [
    {
     "data": {
      "text/plain": [
       "[[2, 1, -1, 2, 5],\n",
       " [0.0, 3.0, -1.0, 2.0, -1.0],\n",
       " [-2, 5, -2, 6, 4],\n",
       " [4, 11, -4, 8, 2]]"
      ]
     },
     "execution_count": 11,
     "metadata": {},
     "output_type": "execute_result"
    }
   ],
   "source": [
    "S1\n"
   ]
  },
  {
   "cell_type": "code",
   "execution_count": 12,
   "id": "17d7bc5c-f61c-4a87-9b13-ee3ff9fd8fe1",
   "metadata": {},
   "outputs": [],
   "source": [
    "# f3 = f3 + (-a31/pivote)f1\n",
    "factor = -S[2][0]/pivote\n",
    "for j in range(m+1):\n",
    "    S1[2][j] = S[2][j] + factor*S[0][j]\n"
   ]
  },
  {
   "cell_type": "code",
   "execution_count": 13,
   "id": "8a8c8934-3f9b-409a-8ebd-b46152453176",
   "metadata": {},
   "outputs": [
    {
     "data": {
      "text/plain": [
       "[[2, 1, -1, 2, 5],\n",
       " [0.0, 3.0, -1.0, 2.0, -1.0],\n",
       " [0.0, 6.0, -3.0, 8.0, 9.0],\n",
       " [4, 11, -4, 8, 2]]"
      ]
     },
     "execution_count": 13,
     "metadata": {},
     "output_type": "execute_result"
    }
   ],
   "source": [
    "S1\n"
   ]
  },
  {
   "cell_type": "code",
   "execution_count": 14,
   "id": "c15d288b-1df8-4a49-8c5c-1cfee5a6adb5",
   "metadata": {},
   "outputs": [],
   "source": [
    "# f4 = f4 + (-a41/pivote)f1\n",
    "factor = -S[3][0]/pivote\n",
    "for j in range(m+1):\n",
    "    S1[3][j] = S[3][j] + factor*S[0][j]\n"
   ]
  },
  {
   "cell_type": "code",
   "execution_count": 15,
   "id": "1ee944c4-bad6-4661-b339-c5e72028ac51",
   "metadata": {},
   "outputs": [
    {
     "data": {
      "text/plain": [
       "[[2, 1, -1, 2, 5],\n",
       " [0.0, 3.0, -1.0, 2.0, -1.0],\n",
       " [0.0, 6.0, -3.0, 8.0, 9.0],\n",
       " [0.0, 9.0, -2.0, 4.0, -8.0]]"
      ]
     },
     "execution_count": 15,
     "metadata": {},
     "output_type": "execute_result"
    }
   ],
   "source": [
    "S1\n"
   ]
  },
  {
   "cell_type": "markdown",
   "id": "232e168f-c41c-4ec2-b877-3369b1d7c9f5",
   "metadata": {},
   "source": [
    "Luego, estos tres ciclos se pueden condensar en un ciclo dentro de otro ciclo, donde claramente, los elementos que varían, por ejemplo, en el último ciclo, son aquellos donde está el $3$:\n",
    "\n",
    "    factor = -S[3][0]/pivote    \n",
    "    for j in range(m+1):\n",
    "        S1[3][j] = S[3][j] + factor*S[0][j]\n",
    "\n",
    "    factor = -S[2][0]/pivote\n",
    "    for j in range(m+1):\n",
    "        S1[2][j] = S[2][j] + factor*S[0][j]"
   ]
  },
  {
   "cell_type": "code",
   "execution_count": 16,
   "id": "65d82a9c-8832-4f68-829b-aacc254dcd91",
   "metadata": {},
   "outputs": [],
   "source": [
    "# Si el pivote está en la primera fila, el recorrido debe hacerse desde las segunda fila hasta\n",
    "# la última es decir en range(1, m).\n",
    "for i in range(1, m):\n",
    "    factor = -S[i][0]/pivote\n",
    "    for j in range(0, m+1):\n",
    "        S1[i][j] = S[i][j] + factor*S[0][j]\n"
   ]
  },
  {
   "cell_type": "code",
   "execution_count": 17,
   "id": "9fd2ebbf-065a-47f1-8c3a-6b3efdec254e",
   "metadata": {},
   "outputs": [
    {
     "data": {
      "text/plain": [
       "[[2, 1, -1, 2, 5],\n",
       " [0.0, 3.0, -1.0, 2.0, -1.0],\n",
       " [0.0, 6.0, -3.0, 8.0, 9.0],\n",
       " [0.0, 9.0, -2.0, 4.0, -8.0]]"
      ]
     },
     "execution_count": 17,
     "metadata": {},
     "output_type": "execute_result"
    }
   ],
   "source": [
    "S1\n"
   ]
  },
  {
   "cell_type": "code",
   "execution_count": 18,
   "id": "fcedd20a-d5a6-499c-a13e-3577fb35bbcd",
   "metadata": {},
   "outputs": [],
   "source": [
    "# Se almacenan los resultados nuevamente en S.\n",
    "S = S1\n"
   ]
  },
  {
   "cell_type": "markdown",
   "id": "63531719-d303-4ed5-b343-e79cfc1514df",
   "metadata": {},
   "source": [
    "Se repite el proceso para la columna 2, estableciendo como nuevo pivote el segundo elemento de la diagonal. Nótese que es distinto al original que traía la matriz:\n"
   ]
  },
  {
   "cell_type": "code",
   "execution_count": 19,
   "id": "ceb16190-2252-42ca-96c1-b78025fbc97d",
   "metadata": {},
   "outputs": [],
   "source": [
    "pivote = S[1][1] # El elemento de la fila 1, columna 1 en Python.\n"
   ]
  },
  {
   "cell_type": "code",
   "execution_count": 20,
   "id": "f7726d57-94d8-45d5-af5d-40558ed80956",
   "metadata": {},
   "outputs": [],
   "source": [
    "# Nuevamente se crea una copia auxiliar de S, que recibirá los resultados:\n",
    "S1 = [f[:] for f in S]\n"
   ]
  },
  {
   "cell_type": "markdown",
   "id": "b9cfc3e9-4586-45a4-91a5-e63749df4df5",
   "metadata": {},
   "source": [
    "Se crean 2 ciclos (m-2) para recorrer tercera y cuarta fila realizando esta operación:\n",
    "\n",
    "$f_i = f_i + (\\frac{-a'_{i2}}{a'_{22}})f'_2$\n",
    "\n",
    "\n",
    "El recorrido lo realiza j, el cual debe hacerse m+1 veces, debido a que la matriz tiene una columna más al ser **aumentada**. Sin embargo, el recorrido por el primer elemento de las filas es innecesario porque ya vale $0$, por lo tanto, el recorrido se hace en range(1, m+1)."
   ]
  },
  {
   "cell_type": "code",
   "execution_count": 21,
   "id": "78316acf-e6a2-4750-92c4-ba1f5eea826f",
   "metadata": {},
   "outputs": [],
   "source": [
    "# f3 = f3 + (-a'32/pivote)f2\n",
    "factor = -S[2][1]/pivote\n",
    "for j in range(1, m+1):\n",
    "    S1[2][j] = S[2][j] + factor*S[1][j]\n",
    "    "
   ]
  },
  {
   "cell_type": "code",
   "execution_count": 22,
   "id": "87e3f117-6e74-4272-a084-352a8d2281d9",
   "metadata": {},
   "outputs": [
    {
     "data": {
      "text/plain": [
       "[[2, 1, -1, 2, 5],\n",
       " [0.0, 3.0, -1.0, 2.0, -1.0],\n",
       " [0.0, 0.0, -1.0, 4.0, 11.0],\n",
       " [0.0, 9.0, -2.0, 4.0, -8.0]]"
      ]
     },
     "execution_count": 22,
     "metadata": {},
     "output_type": "execute_result"
    }
   ],
   "source": [
    "S1\n"
   ]
  },
  {
   "cell_type": "code",
   "execution_count": 23,
   "id": "daed39c2-9412-4310-a8ac-41dce1022da4",
   "metadata": {},
   "outputs": [],
   "source": [
    "# f4 = f4 + (-a'42/pivote)f2\n",
    "factor = -S[3][1]/pivote\n",
    "for j in range(1, m+1):\n",
    "    S1[3][j] = S[3][j] + factor*S[1][j]"
   ]
  },
  {
   "cell_type": "code",
   "execution_count": 24,
   "id": "175de052-006d-4398-9274-1730a9ed8fd2",
   "metadata": {},
   "outputs": [
    {
     "data": {
      "text/plain": [
       "[[2, 1, -1, 2, 5],\n",
       " [0.0, 3.0, -1.0, 2.0, -1.0],\n",
       " [0.0, 0.0, -1.0, 4.0, 11.0],\n",
       " [0.0, 0.0, 1.0, -2.0, -5.0]]"
      ]
     },
     "execution_count": 24,
     "metadata": {},
     "output_type": "execute_result"
    }
   ],
   "source": [
    "S1\n"
   ]
  },
  {
   "cell_type": "markdown",
   "id": "3412edb4-fabe-44e6-9e60-dd68599b947e",
   "metadata": {},
   "source": [
    "De forma análoga con los resultados de la columna 1. Los dos ciclos se pueden condensar en un ciclo dentro de otro ciclo, donde claramente, los elementos que varían, por ejemplo, en el último ciclo, son aquellos donde está el $3$:\n",
    "\n",
    "    factor = -S[3][1]/pivote\n",
    "    for j in range(1, m+1):\n",
    "        S1[3][j] = S[3][j] + factor*S[1][j]\n"
   ]
  },
  {
   "cell_type": "code",
   "execution_count": 25,
   "id": "19dfe44d-703d-4b64-8e85-3cc276fd8fce",
   "metadata": {},
   "outputs": [],
   "source": [
    "# Como el pivote está en la segunda fila, el recorrido debe hacerse desde las tercera fila hasta\n",
    "# la última es decir en range (2, m).\n",
    "for i in range(2, m):\n",
    "    factor = -S[i][1]/pivote\n",
    "    for j in range(1, m+1):\n",
    "        S1[i][j] = S[i][j] + factor*S[1][j]\n"
   ]
  },
  {
   "cell_type": "code",
   "execution_count": 26,
   "id": "7a4d8196-1569-4393-a370-5bca7759cc72",
   "metadata": {},
   "outputs": [
    {
     "data": {
      "text/plain": [
       "[2, 3]"
      ]
     },
     "execution_count": 26,
     "metadata": {},
     "output_type": "execute_result"
    }
   ],
   "source": [
    "list(range(2, m))"
   ]
  },
  {
   "cell_type": "code",
   "execution_count": 27,
   "id": "de6d6bad-372f-412c-bebb-4d6d47cbd7e3",
   "metadata": {},
   "outputs": [
    {
     "data": {
      "text/plain": [
       "[[2, 1, -1, 2, 5],\n",
       " [0.0, 3.0, -1.0, 2.0, -1.0],\n",
       " [0.0, 0.0, -1.0, 4.0, 11.0],\n",
       " [0.0, 0.0, 1.0, -2.0, -5.0]]"
      ]
     },
     "execution_count": 27,
     "metadata": {},
     "output_type": "execute_result"
    }
   ],
   "source": [
    "S1\n"
   ]
  },
  {
   "cell_type": "code",
   "execution_count": 28,
   "id": "674cc576-108a-4e73-93c1-406f21661e1c",
   "metadata": {},
   "outputs": [],
   "source": [
    "# Se almacenan los resultados nuevamente en S.\n",
    "S = S1\n"
   ]
  },
  {
   "cell_type": "markdown",
   "id": "40d32f75-921c-45f2-bd21-8b8d3f047430",
   "metadata": {},
   "source": [
    "Por último, es claro que para la tercera columna debe aplicar:\n",
    "\n",
    "$f_i = f_i + (\\frac{-a''_{i3}}{a''_{33}})f'_3$"
   ]
  },
  {
   "cell_type": "code",
   "execution_count": 29,
   "id": "f58315d9-0445-4882-b815-d769817e9a32",
   "metadata": {},
   "outputs": [],
   "source": [
    "pivote = S[2][2] # El elemento de la fila 1, columna 1.\n",
    "\n",
    "S1 = [f[:] for f in S]\n",
    "\n",
    "# Como el pivote está en la tercera fila, el recorrido debe hacerse solo en la curta fila,\n",
    "# es decir, la última (3, m).\n",
    "for i in range(3, m):  # Acá aumento 1, respecto al paso anterior.\n",
    "    factor = -S[i][2]/pivote\n",
    "    for j in range(2, m+1):  # Acá aumento 1 respecto al paso anterior.\n",
    "        S1[i][j] = S[i][j] + factor*S[2][j]\n"
   ]
  },
  {
   "cell_type": "code",
   "execution_count": 30,
   "id": "224f71af-d9fa-4841-886b-abb3d3530ac2",
   "metadata": {},
   "outputs": [
    {
     "data": {
      "text/plain": [
       "[3]"
      ]
     },
     "execution_count": 30,
     "metadata": {},
     "output_type": "execute_result"
    }
   ],
   "source": [
    "list(range(3, m))"
   ]
  },
  {
   "cell_type": "code",
   "execution_count": 31,
   "id": "c62a38f5-8da0-4ec8-b6c6-c9a0ba5af9c8",
   "metadata": {},
   "outputs": [
    {
     "data": {
      "text/plain": [
       "[[2, 1, -1, 2, 5],\n",
       " [0.0, 3.0, -1.0, 2.0, -1.0],\n",
       " [0.0, 0.0, -1.0, 4.0, 11.0],\n",
       " [0.0, 0.0, 0.0, 2.0, 6.0]]"
      ]
     },
     "execution_count": 31,
     "metadata": {},
     "output_type": "execute_result"
    }
   ],
   "source": [
    "S1\n"
   ]
  },
  {
   "cell_type": "markdown",
   "id": "fba514fc-a77d-44eb-af3d-cdbf917ba6e9",
   "metadata": {},
   "source": [
    "Sintetizando todo lo aterior, se pone en una sola línea los resultados más importantes. \n"
   ]
  },
  {
   "cell_type": "code",
   "execution_count": 32,
   "id": "4a590243-96a4-43d3-a0b0-11d474870afc",
   "metadata": {},
   "outputs": [],
   "source": [
    "m = len(A)             # Número de filas de A.\n",
    "S = [f[:] for f in A]  # Se crea S inicialmente como una copia de A.\n",
    "\n",
    "# Agrego al final de cada fila, el correspondiente elemento de B\n",
    "for f in range(m):\n",
    "    S[f] += [B[f]]\n",
    "\n",
    "## Primera columna ##\n",
    "pivote = S[0][0] # El elemento de la fila 0, columna 0.\n",
    "\n",
    "S1 = [f[:] for f in S] # Copia auxiliar de S.\n",
    "\n",
    "# Operaciones: # fi = fi + (-ai1/pivote)f1\n",
    "for i in range(1, m):\n",
    "    factor = -S[i][0]/pivote\n",
    "    for j in range(0, m+1):\n",
    "        S1[i][j] = S[i][j] + factor*S[0][j]\n",
    "        \n",
    "S = S1\n",
    "\n",
    "## Segunda columna ##\n",
    "pivote = S[1][1] # El elemento de la fila 1, columna 1\n",
    "\n",
    "# Operaciones: # fi = fi + (-ai2/pivote)f2\n",
    "for i in range(2, m):\n",
    "    factor = -S[i][1]/pivote\n",
    "    for j in range(1, m+1):\n",
    "        S1[i][j] = S[i][j] + factor*S[1][j]\n",
    "\n",
    "S = S1\n",
    "\n",
    "## Tercera columna ##\n",
    "pivote = S[2][2] # El elemento de la fila 1, columna 1.\n",
    "\n",
    "S1 = [f[:] for f in S]\n",
    "\n",
    "# Operaciones: # fi = fi + (-ai3/pivote)f3\n",
    "for i in range(3, m):\n",
    "    factor = -S[i][2]/pivote\n",
    "    for j in range(2, m+1):\n",
    "        S1[i][j] = S[i][j] + factor*S[2][j]\n",
    "\n",
    "S = S1\n"
   ]
  },
  {
   "cell_type": "code",
   "execution_count": 33,
   "id": "117bfee1-df0a-4ea0-9ad6-a5f6865e9df8",
   "metadata": {},
   "outputs": [
    {
     "data": {
      "text/plain": [
       "[[2, 1, -1, 2, 5],\n",
       " [0.0, 3.0, -1.0, 2.0, -1.0],\n",
       " [0.0, 0.0, -1.0, 4.0, 11.0],\n",
       " [0.0, 0.0, 0.0, 2.0, 6.0]]"
      ]
     },
     "execution_count": 33,
     "metadata": {},
     "output_type": "execute_result"
    }
   ],
   "source": [
    "S1\n"
   ]
  },
  {
   "cell_type": "markdown",
   "id": "3b74c8ad-4b03-45e5-980f-06edeeef43d7",
   "metadata": {},
   "source": [
    "Pero es evidente que aún se puede automatizar más.\n",
    "\n",
    "Por ejemplo, en el proceso para la fila 1, la fila 2 y la fila 3 tienen bastantes similitudes:\n",
    "\n",
    "    for i in range(1, m):\n",
    "        factor = -S[i][0]/pivote\n",
    "        for j in range(0, m+1):\n",
    "            S1[i][j] = S[i][j] + factor*S[0][j]\n",
    "            \n",
    "    for i in range(2, m):\n",
    "        factor = -S[i][1]/pivote\n",
    "        for j in range(1, m+1):\n",
    "            S1[i][j] = S[i][j] + factor*S[1][j]\n",
    "    \n",
    "    for i in range(3, m):\n",
    "        factor = -S[i][2]/pivote\n",
    "        for j in range(2, m+1):\n",
    "            S1[i][j] = S[i][j] + factor*S[2][j]\n",
    "            \n",
    "De esta manera, se establece una variable k que hace el recorrido m-1, es decir, una vez menos que la cantidad de filas del sistema. Definiendo k=0 para el primer ciclo: donde está el 1 se pone k+1 y donde está el 0 se pone k\n",
    "\n",
    "    for i in range(1, m):\n",
    "        factor = -S[i][0]/pivote\n",
    "        for j in range(0, m+1):\n",
    "            S1[i][j] = S[i][j] + factor*S[0][j]\n",
    "\n",
    "    for i in range(k+1, m):\n",
    "        factor = -S[i][k]/pivote\n",
    "        for j in range(k, m+1):\n",
    "            S1[i][j] = S[i][j] + factor*S[k][j]\n",
    "\n",
    "Luego, se revisa que sea consistente lo planteado de ciclo a ciclo.\n"
   ]
  },
  {
   "cell_type": "markdown",
   "id": "cfefa5f3-866d-404b-bfe3-d6aa30f904eb",
   "metadata": {},
   "source": [
    "#### **Una forma en Python con lista de listas de la eliminación de incógnitas hacia adelante**"
   ]
  },
  {
   "cell_type": "code",
   "execution_count": 34,
   "id": "882c2aef-24a9-433b-9cd8-25a032a770bb",
   "metadata": {},
   "outputs": [],
   "source": [
    "m = len(A)             # Número de filas de A.\n",
    "S = [f[:] for f in A]  # Se crea S inicialmente como una copia de A.\n",
    "\n",
    "for f in range(m):     # Agrego al final de cada fila, el correspondiente elemento de B\n",
    "    S[f] += [B[f]]\n",
    "\n",
    "for k in range(m-1):\n",
    "    pivote = S[k][k]  # El elemento de la fila 1, columna 1.\n",
    "    S1 = [f[:] for f in S]\n",
    "    for i in range(k+1, m):  # Operaciones: # fi = fi + (-aik/pivote)fk\n",
    "        factor = -S[i][k]/pivote\n",
    "        for j in range(k, m+1):\n",
    "            S1[i][j] = S[i][j] + factor*S[k][j]\n",
    "    S = S1\n"
   ]
  },
  {
   "cell_type": "code",
   "execution_count": 35,
   "id": "8ab45b59-f50f-46a8-a0df-4c13c3da87ce",
   "metadata": {},
   "outputs": [
    {
     "data": {
      "text/plain": [
       "[[2, 1, -1, 2, 5],\n",
       " [0.0, 3.0, -1.0, 2.0, -1.0],\n",
       " [0.0, 0.0, -1.0, 4.0, 11.0],\n",
       " [0.0, 0.0, 0.0, 2.0, 6.0]]"
      ]
     },
     "execution_count": 35,
     "metadata": {},
     "output_type": "execute_result"
    }
   ],
   "source": [
    "S\n"
   ]
  },
  {
   "cell_type": "markdown",
   "id": "a3f49b82-8970-446b-8889-a92ae19b120c",
   "metadata": {},
   "source": [
    "#### **Solución en Python con lista de listas para la sustitución hacia atrás**\n"
   ]
  },
  {
   "cell_type": "code",
   "execution_count": 36,
   "id": "e55afa0f-1cc2-4262-a366-0ad35dd6d248",
   "metadata": {},
   "outputs": [
    {
     "data": {
      "text/plain": [
       "[[2, 1, -1, 2, 5],\n",
       " [0.0, 3.0, -1.0, 2.0, -1.0],\n",
       " [0.0, 0.0, -1.0, 4.0, 11.0],\n",
       " [0.0, 0.0, 0.0, 2.0, 6.0]]"
      ]
     },
     "execution_count": 36,
     "metadata": {},
     "output_type": "execute_result"
    }
   ],
   "source": [
    "# A partir de los resultados obtenidos de la matriz aumentada en forma escalonada.\n",
    "S\n"
   ]
  },
  {
   "cell_type": "markdown",
   "id": "3c23a230-d84a-42af-8eba-eb6784f69205",
   "metadata": {},
   "source": [
    "Se crea un espacio de memoria para almacenar la solución, inicialmente se llena de ceros de tamaño **m**, es decir, con la cantidad de incógnitas o filas del sistema.\n"
   ]
  },
  {
   "cell_type": "code",
   "execution_count": 37,
   "id": "2ff9c0f7-c275-42f6-a224-f61648aa406d",
   "metadata": {},
   "outputs": [],
   "source": [
    "sol = [0]*m  # Es una forma sencilla y general de crear una lista llena de ceros.\n"
   ]
  },
  {
   "cell_type": "code",
   "execution_count": 38,
   "id": "9dd8c576-069e-471d-bca2-ae744564b420",
   "metadata": {},
   "outputs": [
    {
     "data": {
      "text/plain": [
       "[0, 0, 0, 0]"
      ]
     },
     "execution_count": 38,
     "metadata": {},
     "output_type": "execute_result"
    }
   ],
   "source": [
    "sol\n"
   ]
  },
  {
   "cell_type": "markdown",
   "id": "74646c9e-ab75-4d6d-bcdd-8474235b75bc",
   "metadata": {},
   "source": [
    "Se halla la última solución, la asociada a la última fila. En Python, la m-1.\n",
    "\n",
    "$2x_4 = 6$\n",
    "\n",
    "$x_4 = 3$"
   ]
  },
  {
   "cell_type": "code",
   "execution_count": 39,
   "id": "bdf9fea2-34e1-491c-8436-14e6e1e21e65",
   "metadata": {},
   "outputs": [
    {
     "data": {
      "text/plain": [
       "3.0"
      ]
     },
     "execution_count": 39,
     "metadata": {},
     "output_type": "execute_result"
    }
   ],
   "source": [
    "S[3][4]/S[3][3]\n"
   ]
  },
  {
   "cell_type": "code",
   "execution_count": 40,
   "id": "f7185912-170f-485f-af9a-4f77c4125005",
   "metadata": {},
   "outputs": [
    {
     "data": {
      "text/plain": [
       "3.0"
      ]
     },
     "execution_count": 40,
     "metadata": {},
     "output_type": "execute_result"
    }
   ],
   "source": [
    "# Sin embargo, hay una forma más general que será muy útil para crear una rutina (m=4).\n",
    "S[m-1][m]/S[m-1][m-1]\n"
   ]
  },
  {
   "cell_type": "code",
   "execution_count": 41,
   "id": "3add2430-9590-44c2-ac7c-59a9b616ae2a",
   "metadata": {},
   "outputs": [],
   "source": [
    "# Se almacena adecuadamente\n",
    "sol[m-1] = S[m-1][m]/S[m-1][m-1]\n"
   ]
  },
  {
   "cell_type": "code",
   "execution_count": 42,
   "id": "7dab0bf3-9d50-4ea6-8ec4-760a00ce4f18",
   "metadata": {},
   "outputs": [
    {
     "data": {
      "text/plain": [
       "[0, 0, 0, 3.0]"
      ]
     },
     "execution_count": 42,
     "metadata": {},
     "output_type": "execute_result"
    }
   ],
   "source": [
    "sol\n"
   ]
  },
  {
   "cell_type": "markdown",
   "id": "da913384-3799-423a-b68d-cc0c18be893f",
   "metadata": {},
   "source": [
    "Se halla la penúltima solución, la asociada a la penúltima fila o la tercera. En Python, la m-2 o la 2.\n",
    "\n",
    "    [0.0, 0.0, -1.0, 4.0, 11.0]\n",
    "\n",
    "$-x_3 + 4x_4 = 11$\n",
    "\n",
    "Ya se conoce el valor de $x_4$, se reemplaza y se despeja $x_3$\n",
    "\n",
    "$-x_3 + 4(3) = 11$\n",
    "\n",
    "$-x_3 = 11 - 12$\n",
    "\n",
    "$x_3 = 1$\n",
    "\n",
    "Viéndolo un poco más sencillo en término de Python:\n",
    "\n",
    "`S[2][2]` $x_3$ + `S[2][3]` $x_4$ = `S[2][4]`\n",
    "\n",
    "Y \n",
    "\n",
    "$x_4$ = `sol[3]`\n"
   ]
  },
  {
   "cell_type": "markdown",
   "id": "04de4d72-f51c-4a3b-85e1-c98a0a619804",
   "metadata": {},
   "source": [
    "Es decir, \n",
    "\n",
    "$x_3$ = `(S[2][4]-S[2][3]*sol[3]) / S[2][2]`"
   ]
  },
  {
   "cell_type": "code",
   "execution_count": 43,
   "id": "be593191-1cb9-4219-8a0e-19c0f5d5ff51",
   "metadata": {},
   "outputs": [
    {
     "data": {
      "text/plain": [
       "1.0"
      ]
     },
     "execution_count": 43,
     "metadata": {},
     "output_type": "execute_result"
    }
   ],
   "source": [
    "(S[2][4]-S[2][3]*sol[3]) / S[2][2]\n"
   ]
  },
  {
   "cell_type": "code",
   "execution_count": 44,
   "id": "8bfb6987-ead9-4bf5-aaa2-60de6e3ae779",
   "metadata": {},
   "outputs": [
    {
     "data": {
      "text/plain": [
       "1.0"
      ]
     },
     "execution_count": 44,
     "metadata": {},
     "output_type": "execute_result"
    }
   ],
   "source": [
    "# Se pone de una manera más general en términos de m (m=4)\n",
    "(S[m-2][m]-S[m-2][m-1]*sol[m-1]) / S[m-2][m-2]\n"
   ]
  },
  {
   "cell_type": "code",
   "execution_count": 45,
   "id": "9471e04b-7e7e-487d-ae32-48f7a27466c2",
   "metadata": {},
   "outputs": [],
   "source": [
    "# Se almacena adecuadamente\n",
    "sol[m-2] = (S[m-2][m] - S[m-2][m-1]*sol[m-1]) / S[m-2][m-2]\n"
   ]
  },
  {
   "cell_type": "code",
   "execution_count": 46,
   "id": "4ae79660-8607-4226-861e-1bb294f40832",
   "metadata": {},
   "outputs": [
    {
     "data": {
      "text/plain": [
       "[0, 0, 1.0, 3.0]"
      ]
     },
     "execution_count": 46,
     "metadata": {},
     "output_type": "execute_result"
    }
   ],
   "source": [
    "sol\n"
   ]
  },
  {
   "cell_type": "markdown",
   "id": "79cf340d-7468-46c9-bc65-77125e16e115",
   "metadata": {},
   "source": [
    "Se halla la segunda solución, la asociada a la segunda fila. En Python, la 1 o la m-3.\n"
   ]
  },
  {
   "cell_type": "code",
   "execution_count": 47,
   "id": "224e95bb-f297-45c9-b168-0582a9cc1ec4",
   "metadata": {},
   "outputs": [
    {
     "data": {
      "text/plain": [
       "[[2, 1, -1, 2, 5],\n",
       " [0.0, 3.0, -1.0, 2.0, -1.0],\n",
       " [0.0, 0.0, -1.0, 4.0, 11.0],\n",
       " [0.0, 0.0, 0.0, 2.0, 6.0]]"
      ]
     },
     "execution_count": 47,
     "metadata": {},
     "output_type": "execute_result"
    }
   ],
   "source": [
    "# Recordando la matriz aumentada.\n",
    "S\n"
   ]
  },
  {
   "cell_type": "markdown",
   "id": "4e2f1827-1154-40a0-b7f2-27f4248018be",
   "metadata": {},
   "source": [
    "Se extrae la información de la segunda fila (la 1 en Python).\n",
    "\n",
    "`S[1][1]` $x_2$ + `S[1][2]` $x_3$ + `S[1][3]` $x_4$ = `S[1][4]`\n",
    "\n",
    "Pero:\n",
    "\n",
    "$x_3$ = `sol[2]`\n",
    "\n",
    "$x_4$ = `sol[3]`\n",
    "\n",
    "Entonces,\n",
    "\n",
    "`S[1][1]` $x_2$ + `S[1][2]*sol[2] + S[1][3]*sol[3] = S[1][4]`\n",
    "\n",
    "Es decir,\n",
    "\n",
    "$x_2$ = `(S[1][4] - S[1][2]*sol[2] - S[1][3]*sol[3]) / S[1][1]`"
   ]
  },
  {
   "cell_type": "code",
   "execution_count": 48,
   "id": "7e5ced2d-43ba-42bb-b862-21a7f4d1c0c5",
   "metadata": {},
   "outputs": [
    {
     "data": {
      "text/plain": [
       "-2.0"
      ]
     },
     "execution_count": 48,
     "metadata": {},
     "output_type": "execute_result"
    }
   ],
   "source": [
    "(S[1][4] - S[1][2]*sol[2] - S[1][3]*sol[3]) / S[1][1]\n"
   ]
  },
  {
   "cell_type": "code",
   "execution_count": 49,
   "id": "de877af5-bcf1-47bd-b359-b136a9bf9ef9",
   "metadata": {},
   "outputs": [
    {
     "data": {
      "text/plain": [
       "-2.0"
      ]
     },
     "execution_count": 49,
     "metadata": {},
     "output_type": "execute_result"
    }
   ],
   "source": [
    "# Se pone de una manera más general en términos de m (m=4)\n",
    "(S[m-3][m] - S[m-3][m-2]*sol[m-2] - S[m-3][m-1]*sol[m-1]) / S[m-3][m-3]\n"
   ]
  },
  {
   "cell_type": "code",
   "execution_count": 50,
   "id": "69b0e627-70b0-46e5-ad0e-3f87683c718e",
   "metadata": {},
   "outputs": [],
   "source": [
    "# Se almacena adecuadamente\n",
    "sol[m-3] = (S[m-3][m] - S[m-3][m-2]*sol[m-2] - S[m-3][m-1]*sol[m-1]) / S[m-3][m-3]\n"
   ]
  },
  {
   "cell_type": "code",
   "execution_count": 51,
   "id": "e574d691-86e5-4939-8a92-75eaff9953bb",
   "metadata": {},
   "outputs": [
    {
     "data": {
      "text/plain": [
       "[0, -2.0, 1.0, 3.0]"
      ]
     },
     "execution_count": 51,
     "metadata": {},
     "output_type": "execute_result"
    }
   ],
   "source": [
    "sol\n"
   ]
  },
  {
   "cell_type": "markdown",
   "id": "6ed2a499-1ef2-43ae-96d1-7cafb82598d1",
   "metadata": {},
   "source": [
    "Se recopilan los códigos usados para hallar las tres soluciones:\n",
    "\n",
    "    sol[m-1] = S[m-1][m] / S[m-1][m-1]\n",
    "    sol[m-2] = (S[m-2][m] - S[m-2][m-1]*sol[m-1]) / S[m-2][m-2]\n",
    "    sol[m-3] = (S[m-3][m] - S[m-3][m-2]*sol[m-2] - S[m-3][m-1]*sol[m-1]) / S[m-3][m-3]\n",
    "\n",
    "Se trata de mejorar y unificar la presentación para identificar patrones.\n",
    "\n",
    "    sol[m-1] = (S[m-1][m]                                              ) / S[m-1][m-1]\n",
    "    sol[m-2] = (S[m-2][m] - S[m-2][m-1]*sol[m-1])                        / S[m-2][m-2]\n",
    "    sol[m-3] = (S[m-3][m] - S[m-3][m-1]*sol[m-1] - S[m-3][m-2]*sol[m-2]) / S[m-3][m-3]\n",
    "    \n",
    "Por analogía se obtiene la primera solución, la asociada a la primera fila con:\n",
    "\n",
    "    sol[m-4] = (S[m-4][m] - S[m-4][m-1]*sol[m-1] - S[m-4][m-2]*sol[m-2] - S[m-4][m-3]*sol[m-3]) / S[m-4][m-4]\n"
   ]
  },
  {
   "cell_type": "code",
   "execution_count": 52,
   "id": "8ff0a2df-dc30-4aac-a442-5a07a2620145",
   "metadata": {},
   "outputs": [],
   "source": [
    "# Se almacena la primera solución.\n",
    "sol[m-4] = (S[m-4][m] - S[m-4][m-1]*sol[m-1] - S[m-4][m-2]*sol[m-2] - S[m-4][m-3]*sol[m-3]) / S[m-4][m-4]\n"
   ]
  },
  {
   "cell_type": "code",
   "execution_count": 53,
   "id": "d02bcf87-d366-4282-8f8d-87ab81b6d3d9",
   "metadata": {},
   "outputs": [
    {
     "data": {
      "text/plain": [
       "[1.0, -2.0, 1.0, 3.0]"
      ]
     },
     "execution_count": 53,
     "metadata": {},
     "output_type": "execute_result"
    }
   ],
   "source": [
    "sol\n"
   ]
  },
  {
   "cell_type": "markdown",
   "id": "5fe1a7fd-698e-4ed4-9139-9c03cd7fdb56",
   "metadata": {},
   "source": [
    "¿Cómo se podría resumir el anterior resultado en un ciclo?\n"
   ]
  },
  {
   "cell_type": "code",
   "execution_count": 54,
   "id": "42419c23-7fe0-4dc0-ad0a-b1790553a68d",
   "metadata": {},
   "outputs": [],
   "source": [
    "sol = [0]*m  # Se limpia el espacio de memoria de la solución.\n"
   ]
  },
  {
   "cell_type": "markdown",
   "id": "63b02c78-8484-4dea-8632-745838133409",
   "metadata": {},
   "source": [
    "Se debe definir un ciclo que recorra `[1, 2, 3, 4]`, es decir, de 1 a m+1, en términos de Python `range(1, m+1)`\n"
   ]
  },
  {
   "cell_type": "code",
   "execution_count": 55,
   "id": "849610b1-ec7e-456a-8199-b9f35989fee0",
   "metadata": {},
   "outputs": [
    {
     "data": {
      "text/plain": [
       "[1, 2, 3, 4]"
      ]
     },
     "execution_count": 55,
     "metadata": {},
     "output_type": "execute_result"
    }
   ],
   "source": [
    "list(range(1, m+1))\n"
   ]
  },
  {
   "cell_type": "markdown",
   "id": "f3b25964-db0e-479c-8a25-ff75e36f40b5",
   "metadata": {},
   "source": [
    "Se evidencia que todos las soluciones deben hacer esta operación común, al menos.\n",
    "\n",
    "    S[m-1][m] / S[m-1][m-1]\n",
    "    S[m-2][m] / S[m-2][m-2]\n",
    "    S[m-3][m] / S[m-3][m-3]\n",
    "    S[m-4][m] / S[m-4][m-4]\n",
    "    \n",
    "Es decir, en términos de una variable `i` que recorra:\n",
    "    \n",
    "    S[m-i][m] / S[m-i][m-i]\n",
    "\n",
    "Se implenta:"
   ]
  },
  {
   "cell_type": "code",
   "execution_count": 56,
   "id": "962007e1-af66-49ec-a8c9-07fedab8a67f",
   "metadata": {},
   "outputs": [],
   "source": [
    "# Donde m-i representa las soluciones 3, 2, 1, 0. Y la variable i, los pasos. En este caso, i toma valores [1, 2, 3, 4]\n",
    "for i in range(1, m+1):\n",
    "    sol[m-i] +=S[m-i][m] / S[m-i][m-i]\n",
    "    "
   ]
  },
  {
   "cell_type": "markdown",
   "id": "c6481b59-5e08-40d3-bf7d-ae166c224b08",
   "metadata": {},
   "source": [
    "Luego, se evidencia que para el paso 2, aparece:\n",
    "\n",
    "    -S[m-2][m-1]*sol[m-1]\n",
    "    \n",
    "En el 3:\n",
    "\n",
    "    -S[m-3][m-1]*sol[m-1] - S[m-3][m-2]*sol[m-2]\n",
    "    \n",
    "Y en el 4:\n",
    "\n",
    "    -S[m-4][m-1]*sol[m-1] - S[m-4][m-2]*sol[m-2] - S[m-4][m-3]*sol[m-3]\n",
    "\n",
    "Lo que me indica que, se debería hacer otro ciclo, pero con unos límites de evaluación variables. Es decir, para el primer paso: no evaluar; para el segundo paso: solo una evaluación; para el tercer paso: dos evaluaciones; y para el último paso: tres evaluaciones.\n",
    "\n",
    "Definiendo una variable j que recorra con una cantidad de pasos variables que vayan aportando al resultado final. Si la primera evaluación de j es 1, entonces, en el segundo paso:\n",
    "\n",
    "`S[m-2][m-1]*sol[m-1]`\n",
    "\n",
    "`S[m-2][m-j]*sol[m-j]` para `j in [1]`\n",
    "\n",
    "En el tercer paso:\n",
    "\n",
    "`S[m-3][m-j]*sol[m-j]` para `j in [1, 2]`\n",
    "\n",
    "En el cuarto paso:\n",
    "\n",
    "`S[m-4][m-j]*sol[m-j]` para `j in [1, 2, 3]`\n",
    "\n",
    "Es claro que `j` no sirve para los terminos `[m-2]`, `[m-3]` y `[m-4]`. Pero que `i` sí tiene el mismo comportamiento en `sol[m-i]` y `S[m-i]`, como se muestra en la primera adición hecha a las soluciones:\n",
    "\n",
    "    for i in range(1, m+1):\n",
    "        sol[m-i] +=S[m-i][m] / S[m-i][m-i]\n",
    "\n",
    "Y adicionalmente, la mejor para controlar los pasos que debe hacer `j` que, poniendo a `i` como límite.  \n",
    "\n",
    "En el segundo paso:\n",
    "\n",
    "`sol[m-i] += S[m-i][m-j]*sol[m-j]` para `j in [1]` o en `j in [1, i]`, `donde i=2`\n",
    "\n",
    "En el tercer paso:\n",
    "\n",
    "`sol[m-i] += S[m-i][m-j]*sol[m-j]` para `j in [1, 2]` o en `j in [1, i]`, `donde i=3`\n",
    "\n",
    "En el cuarto paso:\n",
    "\n",
    "`sol[m-i] += S[m-i][m-j]*sol[m-j]` para `j in [1, 2, 3]` o en `j in [1, i]`, `donde i=4`\n",
    " "
   ]
  },
  {
   "cell_type": "code",
   "execution_count": 57,
   "id": "1d9fee78-72c8-4452-a2fe-9ffdfb84b962",
   "metadata": {},
   "outputs": [
    {
     "data": {
      "text/plain": [
       "[]"
      ]
     },
     "execution_count": 57,
     "metadata": {},
     "output_type": "execute_result"
    }
   ],
   "source": [
    "# i toma valores [1, 2, 3, 4]\n",
    "i = 1\n",
    "list(range(1, i))\n"
   ]
  },
  {
   "cell_type": "code",
   "execution_count": 58,
   "id": "f937b465-d5a9-4b31-9d57-f7ad0c8e1cb1",
   "metadata": {},
   "outputs": [
    {
     "data": {
      "text/plain": [
       "[1]"
      ]
     },
     "execution_count": 58,
     "metadata": {},
     "output_type": "execute_result"
    }
   ],
   "source": [
    "i = 2\n",
    "list(range(1, i))\n"
   ]
  },
  {
   "cell_type": "code",
   "execution_count": 59,
   "id": "07cfe701-f3c0-4c39-8596-b7672518a4b2",
   "metadata": {},
   "outputs": [
    {
     "data": {
      "text/plain": [
       "[1, 2, 3]"
      ]
     },
     "execution_count": 59,
     "metadata": {},
     "output_type": "execute_result"
    }
   ],
   "source": [
    "i = 4\n",
    "list(range(1, i))\n"
   ]
  },
  {
   "cell_type": "code",
   "execution_count": 60,
   "id": "2ec75fae-2084-4549-a0c0-e69c29974416",
   "metadata": {},
   "outputs": [],
   "source": [
    "sol = [0]*m  # Se limpia el espacio de memoria de la solución.\n",
    "\n",
    "for i in range(1, m+1):\n",
    "    sol[m-i] +=S[m-i][m] / S[m-i][m-i]\n",
    "    for j in range(1, i):\n",
    "        sol[m-i] += -S[m-i][m-j]*sol[m-j]/ S[m-i][m-i]\n"
   ]
  },
  {
   "cell_type": "code",
   "execution_count": 61,
   "id": "f698ea5e-eded-491c-8896-ecf77e80fafa",
   "metadata": {},
   "outputs": [
    {
     "data": {
      "text/plain": [
       "[1.0, -2.0, 1.0, 3.0]"
      ]
     },
     "execution_count": 61,
     "metadata": {},
     "output_type": "execute_result"
    }
   ],
   "source": [
    "sol\n"
   ]
  },
  {
   "cell_type": "markdown",
   "id": "103b3a1f-915c-4cb9-a231-956d5460ab81",
   "metadata": {},
   "source": [
    "Se prueban todos los ciclos juntos.\n"
   ]
  },
  {
   "cell_type": "code",
   "execution_count": 62,
   "id": "ee4094ed-b54e-4ef2-bd72-d2ea7774bcc5",
   "metadata": {},
   "outputs": [],
   "source": [
    "m = len(A)             # Número de filas de A.\n",
    "S = [f[:] for f in A]  # Se crea S inicialmente como una copia de A.\n",
    "\n",
    "for f in range(m):     # Agrego al final de cada fila, el correspondiente elemento de B\n",
    "    S[f] += [B[f]]\n",
    "\n",
    "# Eliminación hacia adelante\n",
    "for k in range(m-1):\n",
    "    pivote = S[k][k]  # El elemento de la fila 1, columna 1.\n",
    "    S1 = [f[:] for f in S]\n",
    "    for i in range(k+1, m):  # Operaciones: # fi = fi + (-aik/pivote)fk\n",
    "        factor = -S[i][k]/pivote\n",
    "        for j in range(k, m+1):\n",
    "            S1[i][j] = S[i][j] + factor*S[k][j]\n",
    "    S = S1\n",
    "\n",
    "# Sustitución hacia atrás\n",
    "sol = [0]*m  # Se limpia el espacio de memoria de la solución.\n",
    "\n",
    "for i in range(1, m+1):\n",
    "    sol[m-i] +=S[m-i][m] / S[m-i][m-i]\n",
    "    for j in range(1, i):\n",
    "        sol[m-i] += -S[m-i][m-j]*sol[m-j]/ S[m-i][m-i]\n"
   ]
  },
  {
   "cell_type": "code",
   "execution_count": 63,
   "id": "26ccc908-a27e-4043-a23e-293e7653be01",
   "metadata": {},
   "outputs": [
    {
     "data": {
      "text/plain": [
       "[1.0, -2.0, 1.0, 3.0]"
      ]
     },
     "execution_count": 63,
     "metadata": {},
     "output_type": "execute_result"
    }
   ],
   "source": [
    "sol\n"
   ]
  },
  {
   "cell_type": "markdown",
   "id": "c14392af-66c2-488c-afe5-2d49564e592f",
   "metadata": {},
   "source": [
    "#### **Función sol_gauss**"
   ]
  },
  {
   "cell_type": "code",
   "execution_count": 64,
   "id": "fc6ef8c8-0ad3-4e06-b9e7-e2bd75618343",
   "metadata": {},
   "outputs": [],
   "source": [
    "def sol_gauss(A, B):\n",
    "    '''\n",
    "        Función que a partir de:\n",
    "        A: matriz de coeficientes constantes definida como lista de listas.\n",
    "        B: matriz de constantes definida como una lista.\n",
    "        \n",
    "        Devuelve las soluciones del sistema AX=B\n",
    "    '''\n",
    "    m = len(A)             # Número de filas de A, cantidad de soluciones.\n",
    "    S = [f[:] for f in A]  # Se crea S inicialmente como una copia de A.\n",
    "\n",
    "    for f in range(m):     # Agrego al final de cada fila, el correspondiente elemento de B\n",
    "        S[f] += [B[f]]\n",
    "\n",
    "    for k in range(m-1):\n",
    "        pivote = S[k][k]  # El elemento de la fila 1, columna 1.\n",
    "        S1 = [f[:] for f in S]\n",
    "        for i in range(k+1, m):  # Operaciones: # fi = fi + (-aik/pivote)fk\n",
    "            factor = -S[i][k]/pivote\n",
    "            for j in range(k, m+1):\n",
    "                S1[i][j] = S[i][j] + factor*S[k][j]\n",
    "        S = S1\n",
    "\n",
    "    sol = [0]*m  # Se limpia el espacio de memoria de la solución.\n",
    "\n",
    "    for i in range(1, m+1):\n",
    "        sol[m-i] +=S[m-i][m] / S[m-i][m-i]\n",
    "        for j in range(1, i):\n",
    "            sol[m-i] += -S[m-i][m-j]*sol[m-j]/ S[m-i][m-i]\n",
    "\n",
    "    return sol\n",
    "    "
   ]
  },
  {
   "cell_type": "markdown",
   "id": "91d7e75d-a080-4127-89fd-a331f46bdc08",
   "metadata": {},
   "source": [
    "Ver: [06-gauss_simple_v1.py](https://github.com/jnramirezg/metodos_numericos_ingenieria_civil/blob/main/codigo/06-gauss_simple_v1.py)"
   ]
  },
  {
   "cell_type": "code",
   "execution_count": 65,
   "id": "fa233274-cc08-4161-a450-ad653c31a2d6",
   "metadata": {},
   "outputs": [
    {
     "data": {
      "text/plain": [
       "[1.0, -2.0, 1.0, 3.0]"
      ]
     },
     "execution_count": 65,
     "metadata": {},
     "output_type": "execute_result"
    }
   ],
   "source": [
    "sol_gauss(A, B)\n"
   ]
  },
  {
   "cell_type": "code",
   "execution_count": 66,
   "id": "3a6feea5-3c02-4c47-b0bb-ccce40b90842",
   "metadata": {},
   "outputs": [],
   "source": [
    "# Ejemplo 2.\n",
    "A1 = [[-1, -1,  6,  9],\n",
    "      [-5,  5, -3,  6],\n",
    "      [ 7, -3,  5, -6],\n",
    "      [ 3, -3, -2,  3]]\n",
    "\n",
    "B1 = [-29, -54, 38, 41]\n"
   ]
  },
  {
   "cell_type": "code",
   "execution_count": 67,
   "id": "994ad4b1-8a39-4f1a-9530-0f99bd4dc752",
   "metadata": {},
   "outputs": [
    {
     "data": {
      "text/plain": [
       "[4.0, -8.0, -4.0, -1.0]"
      ]
     },
     "execution_count": 67,
     "metadata": {},
     "output_type": "execute_result"
    }
   ],
   "source": [
    "sol_gauss(A1, B1)\n"
   ]
  },
  {
   "cell_type": "code",
   "execution_count": 68,
   "id": "98475737-8932-4668-bf8b-0f64b85df929",
   "metadata": {},
   "outputs": [],
   "source": [
    "A2 = [\n",
    "      [0, 2, 3],\n",
    "      [4, 6, 7],\n",
    "      [2, 1, 6],\n",
    "               ]\n",
    "\n",
    "B2 = [8, -3, 5]\n"
   ]
  },
  {
   "cell_type": "code",
   "execution_count": 69,
   "id": "b6a048a1-f6d7-40cf-9865-61b2b7b9bb1c",
   "metadata": {},
   "outputs": [
    {
     "ename": "ZeroDivisionError",
     "evalue": "division by zero",
     "output_type": "error",
     "traceback": [
      "\u001b[1;31m---------------------------------------------------------------------------\u001b[0m",
      "\u001b[1;31mZeroDivisionError\u001b[0m                         Traceback (most recent call last)",
      "\u001b[1;32m<ipython-input-69-db4e70557cae>\u001b[0m in \u001b[0;36m<module>\u001b[1;34m\u001b[0m\n\u001b[1;32m----> 1\u001b[1;33m \u001b[0msol_gauss\u001b[0m\u001b[1;33m(\u001b[0m\u001b[0mA2\u001b[0m\u001b[1;33m,\u001b[0m \u001b[0mB2\u001b[0m\u001b[1;33m)\u001b[0m\u001b[1;33m\u001b[0m\u001b[1;33m\u001b[0m\u001b[0m\n\u001b[0m",
      "\u001b[1;32m<ipython-input-64-5cda02fd7f0f>\u001b[0m in \u001b[0;36msol_gauss\u001b[1;34m(A, B)\u001b[0m\n\u001b[0;32m     17\u001b[0m         \u001b[0mS1\u001b[0m \u001b[1;33m=\u001b[0m \u001b[1;33m[\u001b[0m\u001b[0mf\u001b[0m\u001b[1;33m[\u001b[0m\u001b[1;33m:\u001b[0m\u001b[1;33m]\u001b[0m \u001b[1;32mfor\u001b[0m \u001b[0mf\u001b[0m \u001b[1;32min\u001b[0m \u001b[0mS\u001b[0m\u001b[1;33m]\u001b[0m\u001b[1;33m\u001b[0m\u001b[1;33m\u001b[0m\u001b[0m\n\u001b[0;32m     18\u001b[0m         \u001b[1;32mfor\u001b[0m \u001b[0mi\u001b[0m \u001b[1;32min\u001b[0m \u001b[0mrange\u001b[0m\u001b[1;33m(\u001b[0m\u001b[0mk\u001b[0m\u001b[1;33m+\u001b[0m\u001b[1;36m1\u001b[0m\u001b[1;33m,\u001b[0m \u001b[0mm\u001b[0m\u001b[1;33m)\u001b[0m\u001b[1;33m:\u001b[0m  \u001b[1;31m# Operaciones: # fi = fi + (-aik/pivote)fk\u001b[0m\u001b[1;33m\u001b[0m\u001b[1;33m\u001b[0m\u001b[0m\n\u001b[1;32m---> 19\u001b[1;33m             \u001b[0mfactor\u001b[0m \u001b[1;33m=\u001b[0m \u001b[1;33m-\u001b[0m\u001b[0mS\u001b[0m\u001b[1;33m[\u001b[0m\u001b[0mi\u001b[0m\u001b[1;33m]\u001b[0m\u001b[1;33m[\u001b[0m\u001b[0mk\u001b[0m\u001b[1;33m]\u001b[0m\u001b[1;33m/\u001b[0m\u001b[0mpivote\u001b[0m\u001b[1;33m\u001b[0m\u001b[1;33m\u001b[0m\u001b[0m\n\u001b[0m\u001b[0;32m     20\u001b[0m             \u001b[1;32mfor\u001b[0m \u001b[0mj\u001b[0m \u001b[1;32min\u001b[0m \u001b[0mrange\u001b[0m\u001b[1;33m(\u001b[0m\u001b[0mk\u001b[0m\u001b[1;33m,\u001b[0m \u001b[0mm\u001b[0m\u001b[1;33m+\u001b[0m\u001b[1;36m1\u001b[0m\u001b[1;33m)\u001b[0m\u001b[1;33m:\u001b[0m\u001b[1;33m\u001b[0m\u001b[1;33m\u001b[0m\u001b[0m\n\u001b[0;32m     21\u001b[0m                 \u001b[0mS1\u001b[0m\u001b[1;33m[\u001b[0m\u001b[0mi\u001b[0m\u001b[1;33m]\u001b[0m\u001b[1;33m[\u001b[0m\u001b[0mj\u001b[0m\u001b[1;33m]\u001b[0m \u001b[1;33m=\u001b[0m \u001b[0mS\u001b[0m\u001b[1;33m[\u001b[0m\u001b[0mi\u001b[0m\u001b[1;33m]\u001b[0m\u001b[1;33m[\u001b[0m\u001b[0mj\u001b[0m\u001b[1;33m]\u001b[0m \u001b[1;33m+\u001b[0m \u001b[0mfactor\u001b[0m\u001b[1;33m*\u001b[0m\u001b[0mS\u001b[0m\u001b[1;33m[\u001b[0m\u001b[0mk\u001b[0m\u001b[1;33m]\u001b[0m\u001b[1;33m[\u001b[0m\u001b[0mj\u001b[0m\u001b[1;33m]\u001b[0m\u001b[1;33m\u001b[0m\u001b[1;33m\u001b[0m\u001b[0m\n",
      "\u001b[1;31mZeroDivisionError\u001b[0m: division by zero"
     ]
    }
   ],
   "source": [
    "sol_gauss(A2, B2)\n"
   ]
  },
  {
   "cell_type": "code",
   "execution_count": 70,
   "id": "0d1d5a79-ef96-4efb-bca6-f2aac0d435e8",
   "metadata": {},
   "outputs": [
    {
     "data": {
      "text/plain": [
       "[-5.431818181818182, 0.04545454545454586, 2.6363636363636362]"
      ]
     },
     "execution_count": 70,
     "metadata": {},
     "output_type": "execute_result"
    }
   ],
   "source": [
    "A4 = [[4, 6, 7],\n",
    "      [0, 2, 3],\n",
    "      [2, 1, 6],\n",
    "               ]\n",
    "\n",
    "B4 = [-3, 8, 5]\n",
    "\n",
    "sol_gauss(A4, B4)"
   ]
  },
  {
   "cell_type": "code",
   "execution_count": 71,
   "id": "8606ae09-dd61-4c3a-86f9-33f2afb3e317",
   "metadata": {},
   "outputs": [],
   "source": [
    "A3 = [\n",
    "      [1, 2, 3],\n",
    "      [4, 6, 7],\n",
    "      [1, 2, 3],\n",
    "               ]\n",
    "\n",
    "B3 = [8, -3, 5]\n"
   ]
  },
  {
   "cell_type": "code",
   "execution_count": 72,
   "id": "fc0b4aa6-1e98-444c-8779-9231059f1aee",
   "metadata": {},
   "outputs": [
    {
     "ename": "ZeroDivisionError",
     "evalue": "float division by zero",
     "output_type": "error",
     "traceback": [
      "\u001b[1;31m---------------------------------------------------------------------------\u001b[0m",
      "\u001b[1;31mZeroDivisionError\u001b[0m                         Traceback (most recent call last)",
      "\u001b[1;32m<ipython-input-72-8c066bd2a903>\u001b[0m in \u001b[0;36m<module>\u001b[1;34m\u001b[0m\n\u001b[1;32m----> 1\u001b[1;33m \u001b[0msol_gauss\u001b[0m\u001b[1;33m(\u001b[0m\u001b[0mA3\u001b[0m\u001b[1;33m,\u001b[0m \u001b[0mB3\u001b[0m\u001b[1;33m)\u001b[0m\u001b[1;33m\u001b[0m\u001b[1;33m\u001b[0m\u001b[0m\n\u001b[0m",
      "\u001b[1;32m<ipython-input-64-5cda02fd7f0f>\u001b[0m in \u001b[0;36msol_gauss\u001b[1;34m(A, B)\u001b[0m\n\u001b[0;32m     25\u001b[0m \u001b[1;33m\u001b[0m\u001b[0m\n\u001b[0;32m     26\u001b[0m     \u001b[1;32mfor\u001b[0m \u001b[0mi\u001b[0m \u001b[1;32min\u001b[0m \u001b[0mrange\u001b[0m\u001b[1;33m(\u001b[0m\u001b[1;36m1\u001b[0m\u001b[1;33m,\u001b[0m \u001b[0mm\u001b[0m\u001b[1;33m+\u001b[0m\u001b[1;36m1\u001b[0m\u001b[1;33m)\u001b[0m\u001b[1;33m:\u001b[0m\u001b[1;33m\u001b[0m\u001b[1;33m\u001b[0m\u001b[0m\n\u001b[1;32m---> 27\u001b[1;33m         \u001b[0msol\u001b[0m\u001b[1;33m[\u001b[0m\u001b[0mm\u001b[0m\u001b[1;33m-\u001b[0m\u001b[0mi\u001b[0m\u001b[1;33m]\u001b[0m \u001b[1;33m+=\u001b[0m\u001b[0mS\u001b[0m\u001b[1;33m[\u001b[0m\u001b[0mm\u001b[0m\u001b[1;33m-\u001b[0m\u001b[0mi\u001b[0m\u001b[1;33m]\u001b[0m\u001b[1;33m[\u001b[0m\u001b[0mm\u001b[0m\u001b[1;33m]\u001b[0m \u001b[1;33m/\u001b[0m \u001b[0mS\u001b[0m\u001b[1;33m[\u001b[0m\u001b[0mm\u001b[0m\u001b[1;33m-\u001b[0m\u001b[0mi\u001b[0m\u001b[1;33m]\u001b[0m\u001b[1;33m[\u001b[0m\u001b[0mm\u001b[0m\u001b[1;33m-\u001b[0m\u001b[0mi\u001b[0m\u001b[1;33m]\u001b[0m\u001b[1;33m\u001b[0m\u001b[1;33m\u001b[0m\u001b[0m\n\u001b[0m\u001b[0;32m     28\u001b[0m         \u001b[1;32mfor\u001b[0m \u001b[0mj\u001b[0m \u001b[1;32min\u001b[0m \u001b[0mrange\u001b[0m\u001b[1;33m(\u001b[0m\u001b[1;36m1\u001b[0m\u001b[1;33m,\u001b[0m \u001b[0mi\u001b[0m\u001b[1;33m)\u001b[0m\u001b[1;33m:\u001b[0m\u001b[1;33m\u001b[0m\u001b[1;33m\u001b[0m\u001b[0m\n\u001b[0;32m     29\u001b[0m             \u001b[0msol\u001b[0m\u001b[1;33m[\u001b[0m\u001b[0mm\u001b[0m\u001b[1;33m-\u001b[0m\u001b[0mi\u001b[0m\u001b[1;33m]\u001b[0m \u001b[1;33m+=\u001b[0m \u001b[1;33m-\u001b[0m\u001b[0mS\u001b[0m\u001b[1;33m[\u001b[0m\u001b[0mm\u001b[0m\u001b[1;33m-\u001b[0m\u001b[0mi\u001b[0m\u001b[1;33m]\u001b[0m\u001b[1;33m[\u001b[0m\u001b[0mm\u001b[0m\u001b[1;33m-\u001b[0m\u001b[0mj\u001b[0m\u001b[1;33m]\u001b[0m\u001b[1;33m*\u001b[0m\u001b[0msol\u001b[0m\u001b[1;33m[\u001b[0m\u001b[0mm\u001b[0m\u001b[1;33m-\u001b[0m\u001b[0mj\u001b[0m\u001b[1;33m]\u001b[0m\u001b[1;33m/\u001b[0m \u001b[0mS\u001b[0m\u001b[1;33m[\u001b[0m\u001b[0mm\u001b[0m\u001b[1;33m-\u001b[0m\u001b[0mi\u001b[0m\u001b[1;33m]\u001b[0m\u001b[1;33m[\u001b[0m\u001b[0mm\u001b[0m\u001b[1;33m-\u001b[0m\u001b[0mi\u001b[0m\u001b[1;33m]\u001b[0m\u001b[1;33m\u001b[0m\u001b[1;33m\u001b[0m\u001b[0m\n",
      "\u001b[1;31mZeroDivisionError\u001b[0m: float division by zero"
     ]
    }
   ],
   "source": [
    "sol_gauss(A3, B3)\n"
   ]
  },
  {
   "cell_type": "markdown",
   "id": "c5a68b62-b8e7-4ee0-8a1c-246ef2044697",
   "metadata": {},
   "source": [
    "### **Método de Gauss Jordan**\n",
    "\n"
   ]
  },
  {
   "cell_type": "markdown",
   "id": "5185389d-dc91-440d-b43e-cd3138ace00e",
   "metadata": {},
   "source": [
    "Es una variación de la eliminación de Gauss simple en el que en vez de eliminar la incógnica únicamente en las filas inferiores, se hace en todas las demás, tanto superiores como inferiores. Adicionalmente, todas las filas se normalizan al dividirlas entre su propio pivote.\n",
    "\n",
    "Se busca llegar a una matriz de este tipo, a partir de operaciones entre filas de la matriz aumentada:\n",
    "\n",
    "$\\underline{\\underline{S}}=$\n",
    "$\\begin{bmatrix}\n",
    "1      & 0      & 0      & 0 & r_{15}\\\\\n",
    "0      & 1      & 0      & 0 & r_{25}\\\\\n",
    "0      & 0      & 1      & 0 & r_{35}\\\\\n",
    "0      & 0      & 0      & 1 & r_{45}\n",
    "\\end{bmatrix}$\n",
    "\n",
    "Si se extrae la matriz $\\underline{\\underline{A}}$ de coeficientes constantes, resulta ser la matriz identidad de orden $n$. Y si se extrae el vector $\\underline{B}$ de constantes, se obtiene el vector de soluciones del sistema.\n",
    "\n",
    "\n"
   ]
  },
  {
   "cell_type": "markdown",
   "id": "9c35ce2a-706c-4754-adf8-1b3d64cebcf0",
   "metadata": {},
   "source": [
    "#### **Construcción del método a partir del módulo numpy**\n",
    "\n",
    "Resulta bastante sencillo, a partir del desarrollo lógico hecho anteriormente para la eliminación de gauss simple, obtener un desarrollo del método de Gauss-Jordan.\n",
    "\n",
    "Para efectos prácticos y de aprendizaje del módulo `numpy`, se obtendrá la solución únicamente usando operaciones básicas, ya sean matriciales o no matriciales.\n"
   ]
  },
  {
   "cell_type": "code",
   "execution_count": 73,
   "id": "395aec52-aa1f-44f6-9fe6-2a7281e6fdbb",
   "metadata": {},
   "outputs": [],
   "source": [
    "import numpy as np\n"
   ]
  },
  {
   "cell_type": "markdown",
   "id": "fc70e0e8-9961-4902-be82-befd4133519b",
   "metadata": {},
   "source": [
    "Por ejemplo, si se tiene el siguiente sistema de ecuaciones:\n",
    "\n",
    "$3x_1 - 0.1x_2 - 0.2x_3 = 7.85$\n",
    "\n",
    "$0.1x_1 + 7x_2 - 0.3x_3 = -19.3$\n",
    "\n",
    "$0.3x_1 -0.2x_2 + 10x_3 = 71.4$\n",
    "    "
   ]
  },
  {
   "cell_type": "markdown",
   "id": "4a7e72f3-d675-476f-beed-4ab7dd035932",
   "metadata": {},
   "source": [
    "Se organiza la información primero en listas, así:\n"
   ]
  },
  {
   "cell_type": "code",
   "execution_count": 74,
   "id": "0fae08fd-32ee-4795-bc7d-65aa9567a0da",
   "metadata": {},
   "outputs": [],
   "source": [
    "A = [\n",
    "     [  3, -0.1, -0.2],\n",
    "     [0.1,    7, -0.3],\n",
    "     [0.3, -0.2,   10],\n",
    "                      ]\n",
    "\n",
    "B = [7.85, -19.3, 71.4]\n"
   ]
  },
  {
   "cell_type": "code",
   "execution_count": 75,
   "id": "4eea8d53-aa97-4ecd-ab3f-dda9e2ed777c",
   "metadata": {},
   "outputs": [],
   "source": [
    "# Se convierten al formato np.array\n",
    "\n",
    "A = np.array(A)\n",
    "B = np.array([B]).T\n"
   ]
  },
  {
   "cell_type": "markdown",
   "id": "dbffd3b0-cca2-4d0e-8ccd-41b54c0ffbf3",
   "metadata": {},
   "source": [
    "¿Por qué se pone `.T` en la definción de `B`? ¿Por qué se pone `B` en la definición inicial con doble lista?"
   ]
  },
  {
   "cell_type": "code",
   "execution_count": 76,
   "id": "1274ca8c-13ca-49e6-ae87-f7cabb4a88c4",
   "metadata": {},
   "outputs": [
    {
     "data": {
      "text/plain": [
       "array([[ 3. , -0.1, -0.2],\n",
       "       [ 0.1,  7. , -0.3],\n",
       "       [ 0.3, -0.2, 10. ]])"
      ]
     },
     "execution_count": 76,
     "metadata": {},
     "output_type": "execute_result"
    }
   ],
   "source": [
    "# Se verifica A.\n",
    "A\n"
   ]
  },
  {
   "cell_type": "code",
   "execution_count": 77,
   "id": "482dc9ab-1ae5-430d-801a-d001435e6eae",
   "metadata": {},
   "outputs": [
    {
     "data": {
      "text/plain": [
       "array([[  7.85],\n",
       "       [-19.3 ],\n",
       "       [ 71.4 ]])"
      ]
     },
     "execution_count": 77,
     "metadata": {},
     "output_type": "execute_result"
    }
   ],
   "source": [
    "# Se verifica B\n",
    "B\n"
   ]
  },
  {
   "cell_type": "code",
   "execution_count": 78,
   "id": "4ed99ed8-8c8a-41a1-8ff3-ea90da3296ed",
   "metadata": {},
   "outputs": [],
   "source": [
    "# Se crea la matriz aumentada\n",
    "S = np.append(A, B, axis=1)  # Se pone 1 porque se agrega una columna, sería 0, fi fuera una fila.\n"
   ]
  },
  {
   "cell_type": "code",
   "execution_count": 79,
   "id": "45f6f270-eeee-4dae-9adf-0683c4d0b403",
   "metadata": {},
   "outputs": [
    {
     "data": {
      "text/plain": [
       "array([[  3.  ,  -0.1 ,  -0.2 ,   7.85],\n",
       "       [  0.1 ,   7.  ,  -0.3 , -19.3 ],\n",
       "       [  0.3 ,  -0.2 ,  10.  ,  71.4 ]])"
      ]
     },
     "execution_count": 79,
     "metadata": {},
     "output_type": "execute_result"
    }
   ],
   "source": [
    "S\n"
   ]
  },
  {
   "cell_type": "code",
   "execution_count": 80,
   "id": "b0e263f5-e589-467a-8965-774780fe3f10",
   "metadata": {},
   "outputs": [],
   "source": [
    "# Se define el numero de filas, o la cantidad de soluciones como:\n",
    "m = len(S)  # También puede ser S.shape[0]\n"
   ]
  },
  {
   "cell_type": "code",
   "execution_count": 81,
   "id": "b796acac-70a7-4561-8919-53baf744a7d1",
   "metadata": {},
   "outputs": [
    {
     "data": {
      "text/plain": [
       "3"
      ]
     },
     "execution_count": 81,
     "metadata": {},
     "output_type": "execute_result"
    }
   ],
   "source": [
    "len(S)"
   ]
  },
  {
   "cell_type": "markdown",
   "id": "9d136259-cea0-48c2-96e4-fb4643084d2f",
   "metadata": {},
   "source": [
    "Recordando la expresión simbólica de la matriz aumentada:\n",
    "\n",
    "$\n",
    "\\begin{bmatrix}\n",
    "a_{11} & a_{12} & a_{13} & | & b_{1} \\\\\n",
    "a_{21} & a_{22} & a_{23} & | & b_{2}\\\\\n",
    "a_{31} & a_{32} & a_{33} & | & b_{3}\n",
    "\\end{bmatrix}$\n",
    "\n",
    "Se normaliza la primera fila con el primer pivote de acuerdo a la siguiente operación entre filas:\n",
    "\n",
    "$f_1 = (\\frac{1}{a_{11}})f_1$"
   ]
  },
  {
   "cell_type": "code",
   "execution_count": 82,
   "id": "89c006ce-5650-4720-9996-d966ad21dd68",
   "metadata": {},
   "outputs": [],
   "source": [
    "pivote = S[0, 0]  # Se define el primer pivote.\n"
   ]
  },
  {
   "cell_type": "code",
   "execution_count": 83,
   "id": "8a1ad660-30b7-4ea1-b427-18e471635764",
   "metadata": {},
   "outputs": [],
   "source": [
    "# Se normaliza la primera fila con el primer pivote.\n",
    "# En términos de operaciones con filas f1 = (1/a11)*f1\n",
    "S[0, :] = S[0, :]/pivote\n"
   ]
  },
  {
   "cell_type": "code",
   "execution_count": 84,
   "id": "aefa2dfe-ca10-4024-856c-21747ce63008",
   "metadata": {},
   "outputs": [
    {
     "data": {
      "text/plain": [
       "array([[ 1.00000000e+00, -3.33333333e-02, -6.66666667e-02,\n",
       "         2.61666667e+00],\n",
       "       [ 1.00000000e-01,  7.00000000e+00, -3.00000000e-01,\n",
       "        -1.93000000e+01],\n",
       "       [ 3.00000000e-01, -2.00000000e-01,  1.00000000e+01,\n",
       "         7.14000000e+01]])"
      ]
     },
     "execution_count": 84,
     "metadata": {},
     "output_type": "execute_result"
    }
   ],
   "source": [
    "S\n"
   ]
  },
  {
   "cell_type": "markdown",
   "id": "0117859b-6099-4d3b-a45c-839271284741",
   "metadata": {},
   "source": [
    "Para eliminar la primera incógnita de la segunda y la tercera ecuación, al ya tenerse normalizada la primera fila, solo basta con hacer esta operación:\n",
    "\n",
    "Se realizan dos pasos (m-1) para eliminar la primera incógnita de la segunda y la tercera fila realizando esta operación:\n",
    "\n",
    "$f_i = f_i + (-a_{i1})f_1$ con $i=2,3$ o en Python `[1, 2]`\n",
    "    "
   ]
  },
  {
   "cell_type": "code",
   "execution_count": 85,
   "id": "c2fa1451-ac05-4165-ac18-0f37dcb6e147",
   "metadata": {},
   "outputs": [],
   "source": [
    "S[1, :] = S[1, :] - S[1, 0]*S[0, :]  # f2 = f2 - (a21)*f1\n",
    "                     "
   ]
  },
  {
   "cell_type": "code",
   "execution_count": 86,
   "id": "c55ec1b2-ca35-4f43-950a-9c7f54d8f41a",
   "metadata": {},
   "outputs": [
    {
     "data": {
      "text/plain": [
       "array([[ 1.00000000e+00, -3.33333333e-02, -6.66666667e-02,\n",
       "         2.61666667e+00],\n",
       "       [ 0.00000000e+00,  7.00333333e+00, -2.93333333e-01,\n",
       "        -1.95616667e+01],\n",
       "       [ 3.00000000e-01, -2.00000000e-01,  1.00000000e+01,\n",
       "         7.14000000e+01]])"
      ]
     },
     "execution_count": 86,
     "metadata": {},
     "output_type": "execute_result"
    }
   ],
   "source": [
    "S\n"
   ]
  },
  {
   "cell_type": "code",
   "execution_count": 87,
   "id": "9de074f7-6b88-4cbf-bd5e-a22818df005e",
   "metadata": {},
   "outputs": [],
   "source": [
    "# Fácilmente, se hace lo mismo con la tercera fila.\n",
    "S[2, :] = S[2, :] - S[2, 0]*S[0, :]  # f3 = f3 - (a31)*f1\n"
   ]
  },
  {
   "cell_type": "code",
   "execution_count": 88,
   "id": "b6961b0b-6cbe-46a3-83e7-0994a3f2ecd2",
   "metadata": {},
   "outputs": [
    {
     "data": {
      "text/plain": [
       "array([[ 1.00000000e+00, -3.33333333e-02, -6.66666667e-02,\n",
       "         2.61666667e+00],\n",
       "       [ 0.00000000e+00,  7.00333333e+00, -2.93333333e-01,\n",
       "        -1.95616667e+01],\n",
       "       [ 0.00000000e+00, -1.90000000e-01,  1.00200000e+01,\n",
       "         7.06150000e+01]])"
      ]
     },
     "execution_count": 88,
     "metadata": {},
     "output_type": "execute_result"
    }
   ],
   "source": [
    "S\n"
   ]
  },
  {
   "cell_type": "markdown",
   "id": "34584875-5296-4541-97c7-b33f2e5da4b7",
   "metadata": {},
   "source": [
    "Estas dos operaciones se pueden organizar de manera general en un ciclo:\n",
    "\n",
    "    S[1, :] = S[1, :] - S[1, 0]*S[0, :]  # f2 = f2 - (a21)*f1\n",
    "    S[2, :] = S[2, :] - S[2, 0]*S[0, :]  # f3 = f3 - (a31)*f1\n",
    "\n",
    "Se define una variable `i` que haga el recorrido `[1, 2]`, es decir, `range(1, m)` de una manera más general.\n",
    "\n",
    "    S[i, :] = S[i, :] - S[i, 0]*S[0, :]  # fi = fi - (ai1)*f1\n"
   ]
  },
  {
   "cell_type": "code",
   "execution_count": 89,
   "id": "0cb46d6f-a920-4629-a15a-7352ba66ff42",
   "metadata": {},
   "outputs": [],
   "source": [
    "for i in [1, 2]:\n",
    "    S[i, :] = S[i, :] - S[i, 0]*S[0, :]  # fi = fi - (ai1)*f1\n"
   ]
  },
  {
   "cell_type": "code",
   "execution_count": 90,
   "id": "75fc3206-3cfc-4d28-94a5-313b9898b33a",
   "metadata": {},
   "outputs": [
    {
     "data": {
      "text/plain": [
       "array([[ 1.00000000e+00, -3.33333333e-02, -6.66666667e-02,\n",
       "         2.61666667e+00],\n",
       "       [ 0.00000000e+00,  7.00333333e+00, -2.93333333e-01,\n",
       "        -1.95616667e+01],\n",
       "       [ 0.00000000e+00, -1.90000000e-01,  1.00200000e+01,\n",
       "         7.06150000e+01]])"
      ]
     },
     "execution_count": 90,
     "metadata": {},
     "output_type": "execute_result"
    }
   ],
   "source": [
    "S\n"
   ]
  },
  {
   "cell_type": "markdown",
   "id": "71ed8eb4-d1da-4e31-a08d-486f617a4e14",
   "metadata": {},
   "source": [
    "Se continúa con la segunda fila.\n"
   ]
  },
  {
   "cell_type": "code",
   "execution_count": 91,
   "id": "d9e14f0e-58e9-4682-b488-b9747312a352",
   "metadata": {},
   "outputs": [],
   "source": [
    "pivote = S[1, 1]  # Se define el segundo pivote.\n"
   ]
  },
  {
   "cell_type": "code",
   "execution_count": 92,
   "id": "367ef807-6e7a-4f01-9965-db7dea86062e",
   "metadata": {},
   "outputs": [],
   "source": [
    "# Se normaliza la segunda fila con el segundo pivote.\n",
    "# En términos de operaciones con filas f2 = (1/a22)*f2\n",
    "S[1, :] = S[1, :]/pivote\n"
   ]
  },
  {
   "cell_type": "code",
   "execution_count": 93,
   "id": "4c3af050-6b6b-4c1e-bfa5-160af1568dc8",
   "metadata": {},
   "outputs": [
    {
     "data": {
      "text/plain": [
       "array([[ 1.00000000e+00, -3.33333333e-02, -6.66666667e-02,\n",
       "         2.61666667e+00],\n",
       "       [ 0.00000000e+00,  1.00000000e+00, -4.18848168e-02,\n",
       "        -2.79319372e+00],\n",
       "       [ 0.00000000e+00, -1.90000000e-01,  1.00200000e+01,\n",
       "         7.06150000e+01]])"
      ]
     },
     "execution_count": 93,
     "metadata": {},
     "output_type": "execute_result"
    }
   ],
   "source": [
    "S\n"
   ]
  },
  {
   "cell_type": "markdown",
   "id": "993349d5-81b6-4017-b044-c753cfddefd3",
   "metadata": {},
   "source": [
    "Aquí aparece la variación con el método de eliminación de Gauss. Pues se elimina la segunda incógnita no solo de la tercera ecuación, sino de la primera. Luego, al ya tenerse normalizada la segunda fila, solo basta con hacer esta operación:\n",
    "\n",
    "Se realizan dos pasos (m-1) para eliminar la segunda incógnita de la primera y la tercera fila realizando esta operación:\n",
    "\n",
    "$f_i = f_i + (-a_{i2})f_1$ con $i=1,3$ o en Python `[0, 2]`\n",
    "    \n",
    "\n"
   ]
  },
  {
   "cell_type": "code",
   "execution_count": 94,
   "id": "16b0f98d-bbc4-4e29-8dc5-2d6bdb0ed466",
   "metadata": {},
   "outputs": [],
   "source": [
    "S[0, :] = S[0, :] - S[0, 1]*S[1, :]  # f1 = f1 - (a12)*f2\n",
    "S[2, :] = S[2, :] - S[2, 1]*S[1, :]  # f3 = f3 - (a32)*f2\n"
   ]
  },
  {
   "cell_type": "code",
   "execution_count": 95,
   "id": "45d6cfd6-b766-41a9-82c3-debdd00dc788",
   "metadata": {},
   "outputs": [
    {
     "data": {
      "text/plain": [
       "array([[ 1.00000000e+00,  0.00000000e+00, -6.80628272e-02,\n",
       "         2.52356021e+00],\n",
       "       [ 0.00000000e+00,  1.00000000e+00, -4.18848168e-02,\n",
       "        -2.79319372e+00],\n",
       "       [ 0.00000000e+00,  0.00000000e+00,  1.00120419e+01,\n",
       "         7.00842932e+01]])"
      ]
     },
     "execution_count": 95,
     "metadata": {},
     "output_type": "execute_result"
    }
   ],
   "source": [
    "S\n"
   ]
  },
  {
   "cell_type": "code",
   "execution_count": 96,
   "id": "91b7b779-35e9-4e7b-ba45-9f5419ab2e59",
   "metadata": {},
   "outputs": [],
   "source": [
    "# Fácilmente se puede sintetizar en\n",
    "for i in [0, 2]:\n",
    "    S[i, :] = S[i, :] - S[i, 1]*S[1, :]  # fi = fi - (ai2)*f2\n"
   ]
  },
  {
   "cell_type": "markdown",
   "id": "0aca4008-cc05-4a96-8a90-4473350773c8",
   "metadata": {},
   "source": [
    "De forma análoga, para la última columna.\n"
   ]
  },
  {
   "cell_type": "code",
   "execution_count": 97,
   "id": "4e5c6152-0402-4db3-a56a-433a57c2f084",
   "metadata": {},
   "outputs": [],
   "source": [
    "pivote = S[2, 2]  # Se define el tercer pivote.\n",
    "\n",
    "# Se normaliza la tercera fila con el tercer pivote.\n",
    "# En términos de operaciones con filas f3 = (1/a33)*f3\n",
    "S[2, :] = S[2, :]/pivote\n"
   ]
  },
  {
   "cell_type": "code",
   "execution_count": 98,
   "id": "11ec1fd7-be21-4c06-af0b-5f5652708270",
   "metadata": {},
   "outputs": [
    {
     "data": {
      "text/plain": [
       "array([[ 1.        ,  0.        , -0.06806283,  2.52356021],\n",
       "       [ 0.        ,  1.        , -0.04188482, -2.79319372],\n",
       "       [ 0.        ,  0.        ,  1.        ,  7.        ]])"
      ]
     },
     "execution_count": 98,
     "metadata": {},
     "output_type": "execute_result"
    }
   ],
   "source": [
    "S"
   ]
  },
  {
   "cell_type": "code",
   "execution_count": 99,
   "id": "3aa1456e-57f0-41e9-8663-b6bbc1104ce6",
   "metadata": {},
   "outputs": [],
   "source": [
    "# Se realiza la eliminación la tercera incógnita de la primera y la segunda ecuación.\n",
    "for i in [0, 1]:\n",
    "    S[i, :] = S[i, :] - S[i, 2]*S[2, :]  # fi = fi - (ai3)*f3\n",
    "    "
   ]
  },
  {
   "cell_type": "code",
   "execution_count": 100,
   "id": "2d5bd587-a259-49ca-9814-a3b9c0297bf2",
   "metadata": {},
   "outputs": [
    {
     "data": {
      "text/plain": [
       "array([[ 1. ,  0. ,  0. ,  3. ],\n",
       "       [ 0. ,  1. ,  0. , -2.5],\n",
       "       [ 0. ,  0. ,  1. ,  7. ]])"
      ]
     },
     "execution_count": 100,
     "metadata": {},
     "output_type": "execute_result"
    }
   ],
   "source": [
    "S\n"
   ]
  },
  {
   "cell_type": "markdown",
   "id": "1d0fda91-a19f-4ff5-b033-abcd6f1d7798",
   "metadata": {},
   "source": [
    "Teniendo la solución, se comparan los procesos para eliminar incognitas de las tres columnas:\n",
    "\n",
    "    pivote = S[0, 0]  # Se define el primer pivote.\n",
    "    S[0, :] = S[0, :]/pivote  # Normalización con f1 = (1/a11)*f1\n",
    "    for i in [1, 2]:\n",
    "        S[i, :] = S[i, :] - S[i, 0]*S[0, :]  # fi = fi - (ai1)*f1\n",
    "    \n",
    "    pivote = S[1, 1]  # Se define el segundo pivote.\n",
    "    S[1, :] = S[1, :]/pivote  # Normalización con f2 = (1/a22)*f2\n",
    "    for i in [0, 2]:\n",
    "        S[i, :] = S[i, :] - S[i, 1]*S[1, :]  # fi = fi - (ai2)*f2\n",
    "    \n",
    "    pivote = S[2, 2]  # Se define el tercer pivote.\n",
    "    S[2, :] = S[2, :]/pivote  # Normalización con filas f3 = (1/a33)*f3\n",
    "    for i in [0, 1]:\n",
    "        S[i, :] = S[i, :] - S[i, 2]*S[2, :]  # fi = fi - (ai3)*f3\n",
    "        \n",
    "Lo cual se puede sintetizar en un ciclo mayor que recorra las filas en la eliminación y un ciclo menor condicionadoo que recorra las filas diferentes a la que tiene el pivote, o sea, en las que se va a eliminar.\n"
   ]
  },
  {
   "cell_type": "code",
   "execution_count": 101,
   "id": "14734c6d-9232-46d3-a87b-bd0381e0ec5d",
   "metadata": {},
   "outputs": [],
   "source": [
    "for j in range(m):\n",
    "    pivote = S[j, j]  # Se define el pivote j.\n",
    "    S[j, :] = S[j, :]/pivote  # Normalización con filas fj = (1/ajj)*fj\n",
    "    for i in range(m):\n",
    "        if i != j:  # Se exluye la operación cuando i=j.\n",
    "            S[i, :] = S[i, :] - S[i, j]*S[j, :]  # fi = fi - (aij)*fj\n",
    "            "
   ]
  },
  {
   "cell_type": "code",
   "execution_count": 102,
   "id": "a15391e4-d4ad-44d8-9f32-38ce64381c83",
   "metadata": {},
   "outputs": [
    {
     "data": {
      "text/plain": [
       "array([[ 1. ,  0. ,  0. ,  3. ],\n",
       "       [ 0. ,  1. ,  0. , -2.5],\n",
       "       [ 0. ,  0. ,  1. ,  7. ]])"
      ]
     },
     "execution_count": 102,
     "metadata": {},
     "output_type": "execute_result"
    }
   ],
   "source": [
    "S\n"
   ]
  },
  {
   "cell_type": "code",
   "execution_count": 103,
   "id": "ff24703d-af7b-4797-9dab-0303ee0650fd",
   "metadata": {},
   "outputs": [],
   "source": [
    "# Se extrae la solución.\n",
    "sol = S[:, -1]  # La última columna de la matriz aumentada.\n"
   ]
  },
  {
   "cell_type": "code",
   "execution_count": 104,
   "id": "9c1100e5-3004-4c26-a5d9-f682ab38df43",
   "metadata": {},
   "outputs": [
    {
     "data": {
      "text/plain": [
       "array([ 3. , -2.5,  7. ])"
      ]
     },
     "execution_count": 104,
     "metadata": {},
     "output_type": "execute_result"
    }
   ],
   "source": [
    "sol\n"
   ]
  },
  {
   "cell_type": "markdown",
   "id": "65bab672-5536-4b19-ba7a-6f3e5b2b45bc",
   "metadata": {},
   "source": [
    "Se concentran todos los resultados lógicos y de programación en una función.\n"
   ]
  },
  {
   "cell_type": "code",
   "execution_count": 105,
   "id": "41104e60-b806-4418-89c7-cbd2f08265cf",
   "metadata": {},
   "outputs": [],
   "source": [
    "def np_gauss_jordan(A, B):\n",
    "    '''\n",
    "        Función que utiliza el módulo numpy para hallar la solución del sistema\n",
    "        AX=B, en donde:\n",
    "        A: coeficientes constantes, se ingresa como una lista de listas.\n",
    "        X: incógnitas, sol.\n",
    "        B: constantes, se ingresa como una lista.\n",
    "        La solución se obtiene con la técnica Gauss-Jordan.\n",
    "    '''\n",
    "    import numpy as np\n",
    "    A = np.array(A, dtype=float)\n",
    "    B = np.array([B], dtype=float).T\n",
    "    \n",
    "    S = np.append(A, B, axis=1)  # Se crea la matriz aumentada.\n",
    "    m = S.shape[0]               # Número de filas o de soluciones.\n",
    "\n",
    "    for j in range(m):\n",
    "        pivote = S[j, j]          # Se define el pivote j, ajj.\n",
    "        S[j, :] = S[j, :]/pivote  # Normalización con filas fj = (1/ajj)*fj\n",
    "        for i in range(m):\n",
    "            if i != j:            # Se exluye la operación cuando i=j.\n",
    "                S[i, :] = S[i, :] - S[i, j]*S[j, :]  # Eliminación con fi = fi - (aij)*fj\n",
    "\n",
    "    sol = S[:, -1]  # Se extrae la solución de la última columna de S.\n",
    "        \n",
    "    return list(sol)\n"
   ]
  },
  {
   "cell_type": "markdown",
   "id": "cabcbf10-b233-4160-96aa-c5ca7a7ac959",
   "metadata": {},
   "source": [
    "Ver: [07-gauss_jordan_v1.py](https://github.com/jnramirezg/metodos_numericos_ingenieria_civil/blob/main/codigo/07-gauss_jordan_v1.py)"
   ]
  },
  {
   "cell_type": "code",
   "execution_count": 106,
   "id": "3b12dded-7d8e-43a4-a175-81931ff4acb1",
   "metadata": {},
   "outputs": [],
   "source": [
    "A = [\n",
    "     [  3, -0.1, -0.2],\n",
    "     [0.1,    7, -0.3],\n",
    "     [0.3, -0.2,   10],\n",
    "                      ]\n",
    "\n",
    "B = [7.85, -19.3, 71.4]\n"
   ]
  },
  {
   "cell_type": "code",
   "execution_count": 107,
   "id": "f2b412d3-529c-4e02-af1e-850edbe8b0ce",
   "metadata": {},
   "outputs": [
    {
     "data": {
      "text/plain": [
       "[3.0, -2.5, 7.000000000000002]"
      ]
     },
     "execution_count": 107,
     "metadata": {},
     "output_type": "execute_result"
    }
   ],
   "source": [
    "np_gauss_jordan(A, B)\n"
   ]
  },
  {
   "cell_type": "markdown",
   "id": "2a00ed55-d610-4562-bbad-e2c034bbbe5b",
   "metadata": {},
   "source": [
    "**Problemas que pueden ocurrir:**\n",
    "\n",
    "- Sistema singular (no se puede solucionar, pero ¿cómo se detecta?)\n",
    "- Sistema con algún cero en la diagonal\n",
    "- Errores de redondeo asociados a la escala del pivote\n",
    "\n",
    "**Solución:**\n",
    "\n",
    "Pivoteo parcial escalado, que soluciona:\n",
    "- Ceros en la diagonal, reorganizando las ecuaciones.\n",
    "- Errores de redondeo, buscando el pivote más parecido a uno.\n",
    "\n",
    "\n"
   ]
  },
  {
   "cell_type": "markdown",
   "id": "03d177b5-d20b-42a9-b869-056e7652582b",
   "metadata": {},
   "source": [
    "#### **Nuevos comandos**\n",
    "\n",
    "- np.append()"
   ]
  }
 ],
 "metadata": {
  "kernelspec": {
   "display_name": "Python 3",
   "language": "python",
   "name": "python3"
  },
  "language_info": {
   "codemirror_mode": {
    "name": "ipython",
    "version": 3
   },
   "file_extension": ".py",
   "mimetype": "text/x-python",
   "name": "python",
   "nbconvert_exporter": "python",
   "pygments_lexer": "ipython3",
   "version": "3.8.8"
  }
 },
 "nbformat": 4,
 "nbformat_minor": 5
}
