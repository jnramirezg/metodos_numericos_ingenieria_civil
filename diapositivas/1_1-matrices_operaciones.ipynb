{
 "cells": [
  {
   "cell_type": "markdown",
   "id": "6b34e4fa",
   "metadata": {},
   "source": [
    "# 4101553 Métodos Numéricos aplicados a la Ingenieria Civil\n",
    "Departamento de Ingeniería Civil\\\n",
    "Universidad Nacional de Colombia\\\n",
    "Sede Manizales\n",
    "\n",
    "**Docente:** Juan Nicolás Ramírez Giraldo ([jnramirezg@unal.edu.co](mailto:jnramirezg@unal.edu.co))\n",
    "\n",
    "\"*Cum cogitaveris quot te antecedant, respice quot sequantur*\"\\\n",
    "**Séneca**\n",
    "\n",
    "\n",
    "[Repositorio de la asignatura](https://github.com/jnramirezg/metodos_numericos_ingenieria_civil/)\n",
    "\n",
    "\n"
   ]
  },
  {
   "cell_type": "markdown",
   "id": "da1c06c8",
   "metadata": {},
   "source": [
    "# Unidad 1: Sistemas de ecuaciones lineales\n",
    "\n",
    "## Matrices, modificación de matrices y operaciones\n",
    "\n",
    "Un sistema de ecuaciones algebraicas lineales tiene la forma general:\n",
    "\n",
    "$a_{11}x_{1}+a_{12}x_{2}+...+a_{1n}x_{n}=b_{1}$\n",
    "\n",
    "$a_{21}x_{1}+a_{22}x_{2}+...+a_{2n}x_{n}=b_{2}$\n",
    "\n",
    ".\n",
    "\n",
    ".\n",
    "\n",
    ".\n",
    "\n",
    "$a_{n}x_{1}+a_{n2}x_{2}+...+a_{nn}x_{n}=b_{n}$\n",
    "\n",
    "siendo $a$ coeficientes constantes, $b$ las constantes, $n$ el número de ecuaciones y $x$ las incógnitas.\n",
    "\n",
    "Sistemáticamente se usa la notación matricial para facilitar su resolución, de la siguiente manera:\n",
    "\n",
    "$\\underline{\\underline{A}}=$\n",
    "$\\begin{bmatrix}\n",
    "a_{11} & a_{12} & ... & a_{1n}\\\\\n",
    "a_{21} & a_{22} & ... & a_{2n}\\\\\n",
    "\\vdots & \\vdots & ... & \\vdots\\\\\n",
    "a_{n1} & a_{n2} & ... & a_{nn}\n",
    "\\end{bmatrix}$\n",
    "\n",
    "donde cada elemento $a_{ij}$ representa un elemento de la matriz (los coeficientes constantes).\n",
    "\n",
    " **Nota:** De aquí en adelante se usará la siguiente nomenclatura.\n",
    " \n",
    " $\\underline{\\underline{M}}:$ matrices\n",
    " \n",
    " $\\underline{V}:$ vectores filas y vectores columnas\n",
    " \n",
    " $E:$ constantes y escalares\n",
    " \n",
    " Las incognitas $x_{j}$ se representan en el vector columna:\n",
    " \n",
    "$\\underline{X}=$\n",
    "$\\begin{bmatrix}\n",
    "x_{1}  \\\\\n",
    "x_{2}  \\\\\n",
    "\\vdots \\\\\n",
    "x_{n} \n",
    "\\end{bmatrix}$\n",
    "\n",
    "Y las constantes $b_{i}$ con el vector columna:\n",
    "\n",
    "$\\underline{B}=$\n",
    "$\\begin{bmatrix}\n",
    "b_{1}  \\\\\n",
    "b_{2}  \\\\\n",
    "\\vdots \\\\\n",
    "b_{n} \n",
    "\\end{bmatrix}$\n",
    "\n",
    "Que en sintésis es:\n",
    "$\\underline{\\underline{A}}$  $\\underline{X}=\\underline{B}$\n",
    "\n",
    "Por lo tanto, el objetivo es despejar el vector $\\underline{X}$\n",
    "\n"
   ]
  },
  {
   "cell_type": "markdown",
   "id": "589e8f0e",
   "metadata": {},
   "source": [
    "## Formas de definir matrices\n",
    "\n",
    "1. Lista de listas\n",
    "2. Arreglos en numpy\n",
    "3. Matrices en sympy"
   ]
  },
  {
   "cell_type": "markdown",
   "id": "01baea43",
   "metadata": {},
   "source": [
    "### 1. Lista de listas"
   ]
  },
  {
   "cell_type": "code",
   "execution_count": 1,
   "id": "07b37560",
   "metadata": {},
   "outputs": [],
   "source": [
    "# Mediante una lista de listas\n",
    "A = [\n",
    "     [5, 1, 2],\n",
    "     [7, 3, 7],\n",
    "     [4, 7, 8],\n",
    "               ]\n"
   ]
  },
  {
   "cell_type": "code",
   "execution_count": 2,
   "id": "14677d71",
   "metadata": {
    "scrolled": true
   },
   "outputs": [
    {
     "name": "stdout",
     "output_type": "stream",
     "text": [
      "[[5, 1, 2], [7, 3, 7], [4, 7, 8]]\n"
     ]
    }
   ],
   "source": [
    "print(A)\n"
   ]
  },
  {
   "cell_type": "code",
   "execution_count": 3,
   "id": "4992bfba",
   "metadata": {},
   "outputs": [
    {
     "data": {
      "text/plain": [
       "[[5, 1, 2], [7, 3, 7], [4, 7, 8]]"
      ]
     },
     "execution_count": 3,
     "metadata": {},
     "output_type": "execute_result"
    }
   ],
   "source": [
    "# También se puede usar simplemenhte\n",
    "A"
   ]
  },
  {
   "cell_type": "code",
   "execution_count": 4,
   "id": "0a5527e5",
   "metadata": {},
   "outputs": [
    {
     "data": {
      "text/plain": [
       "list"
      ]
     },
     "execution_count": 4,
     "metadata": {},
     "output_type": "execute_result"
    }
   ],
   "source": [
    "# Tipo de dato\n",
    "type(A)\n"
   ]
  },
  {
   "cell_type": "code",
   "execution_count": 5,
   "id": "3f96951e",
   "metadata": {},
   "outputs": [],
   "source": [
    "# Tamaño de la matriz\n",
    "m = len(A)    # Número de filas de la matriz, o tamaño de la lista A.\n",
    "n = len(A[0]) # Número de columnas de la matriz, o tamaño de la primera lista interna de A.\n"
   ]
  },
  {
   "cell_type": "code",
   "execution_count": 6,
   "id": "b7bded6e",
   "metadata": {},
   "outputs": [
    {
     "name": "stdout",
     "output_type": "stream",
     "text": [
      "El número de filas de A es:\n",
      "3\n"
     ]
    }
   ],
   "source": [
    "print('El número de filas de A es:')\n",
    "print(m)\n"
   ]
  },
  {
   "cell_type": "code",
   "execution_count": 7,
   "id": "35d8d182",
   "metadata": {
    "scrolled": true
   },
   "outputs": [
    {
     "name": "stdout",
     "output_type": "stream",
     "text": [
      "El número de columnas de A es:\n",
      "3\n"
     ]
    }
   ],
   "source": [
    "print('El número de columnas de A es:')\n",
    "print(n)\n"
   ]
  },
  {
   "cell_type": "code",
   "execution_count": 8,
   "id": "211363ea",
   "metadata": {},
   "outputs": [
    {
     "data": {
      "text/plain": [
       "[[5, 1, 2], [7, 3, 7], [4, 7, 8]]"
      ]
     },
     "execution_count": 8,
     "metadata": {},
     "output_type": "execute_result"
    }
   ],
   "source": [
    "A\n"
   ]
  },
  {
   "cell_type": "code",
   "execution_count": 9,
   "id": "7ef9fa7c",
   "metadata": {},
   "outputs": [],
   "source": [
    "# Llamado de un elemento\n",
    "a00 = A[0][0]\n"
   ]
  },
  {
   "cell_type": "code",
   "execution_count": 10,
   "id": "7c6d32a0",
   "metadata": {
    "scrolled": true
   },
   "outputs": [
    {
     "name": "stdout",
     "output_type": "stream",
     "text": [
      "\n",
      "El elemento de la fila 1 y la columna 1 es:\n",
      "5\n"
     ]
    }
   ],
   "source": [
    "# Impresión de resultados.\n",
    "print('\\nEl elemento de la fila 1 y la columna 1 es:')\n",
    "print(a00)\n"
   ]
  },
  {
   "cell_type": "code",
   "execution_count": 11,
   "id": "453017a7",
   "metadata": {
    "scrolled": false
   },
   "outputs": [
    {
     "name": "stdout",
     "output_type": "stream",
     "text": [
      "\n",
      "El elemento de la fila 3 y la columna 3 es:\n",
      "8\n",
      "\n",
      "El elemento de la fila 2 y la columna 3 es::\n",
      "7\n"
     ]
    }
   ],
   "source": [
    "# Llamado de un elemento\n",
    "a22 = A[2][2]\n",
    "a12 = A[1][2]\n",
    "\n",
    "# Impresión de resultados.\n",
    "print('\\nEl elemento de la fila 3 y la columna 3 es:')\n",
    "print(a22)\n",
    "print('\\nEl elemento de la fila 2 y la columna 3 es::')\n",
    "print(a12)\n"
   ]
  },
  {
   "cell_type": "code",
   "execution_count": 12,
   "id": "8aa8613d",
   "metadata": {},
   "outputs": [
    {
     "data": {
      "text/plain": [
       "[[5, 1, 2], [7, 3, 7], [4, 7, 8]]"
      ]
     },
     "execution_count": 12,
     "metadata": {},
     "output_type": "execute_result"
    }
   ],
   "source": [
    "A\n"
   ]
  },
  {
   "cell_type": "code",
   "execution_count": 13,
   "id": "80b382ee",
   "metadata": {},
   "outputs": [],
   "source": [
    "# Llamado de filas\n",
    "f0 = A[0] # Se llama la primera fila. En Matlab es con 1, acá es con 0.\n",
    "f2 = A[2] # Se llama la tercera fila.\n"
   ]
  },
  {
   "cell_type": "code",
   "execution_count": 14,
   "id": "8fea34bc",
   "metadata": {},
   "outputs": [
    {
     "name": "stdout",
     "output_type": "stream",
     "text": [
      "\n",
      "La primera fila es:\n",
      "[5, 1, 2]\n",
      "\n",
      "La tercera fila es:\n",
      "[4, 7, 8]\n"
     ]
    }
   ],
   "source": [
    "# Impresión de resultados.\n",
    "print('\\nLa primera fila es:')  # El comando \\n es usado dejar un espacio.\n",
    "print(f0)\n",
    "print('\\nLa tercera fila es:')\n",
    "print(f2)\n"
   ]
  },
  {
   "cell_type": "code",
   "execution_count": 15,
   "id": "63278a30",
   "metadata": {
    "scrolled": true
   },
   "outputs": [
    {
     "name": "stdout",
     "output_type": "stream",
     "text": [
      "\n",
      "La primera columna es:\n",
      "[5, 7, 4]\n"
     ]
    }
   ],
   "source": [
    "# Llamado de columnas\n",
    "c0 = []\n",
    "for i in range(len(A)):\n",
    "    c0 += [A[i][0]]\n",
    "\n",
    "print('\\nLa primera columna es:')\n",
    "print(c0)\n"
   ]
  },
  {
   "cell_type": "markdown",
   "id": "1aa9946f",
   "metadata": {},
   "source": [
    "### 2. Arreglo en numpy"
   ]
  },
  {
   "cell_type": "code",
   "execution_count": 16,
   "id": "a6ded29e",
   "metadata": {},
   "outputs": [],
   "source": [
    "# Mediante el módulo numpy con arrays (arreglos).\n",
    "# Importar la librería\n",
    "import numpy as np\n"
   ]
  },
  {
   "cell_type": "code",
   "execution_count": 17,
   "id": "ae57862b",
   "metadata": {},
   "outputs": [],
   "source": [
    "# Definición explícita.\n",
    "B = np.array([\n",
    "              [3, 1, 9],\n",
    "              [2, 4, 1],\n",
    "                       ])\n"
   ]
  },
  {
   "cell_type": "code",
   "execution_count": 18,
   "id": "1eef5a5b",
   "metadata": {},
   "outputs": [
    {
     "name": "stdout",
     "output_type": "stream",
     "text": [
      "\n",
      " La matriz B es:\n",
      "[[3 1 9]\n",
      " [2 4 1]]\n"
     ]
    }
   ],
   "source": [
    "# Impresión de resultados\n",
    "print('\\n La matriz B es:')  \n",
    "print(B)\n"
   ]
  },
  {
   "cell_type": "code",
   "execution_count": 19,
   "id": "abbb35f4",
   "metadata": {},
   "outputs": [],
   "source": [
    "# Definición directa con una variable previamente guardada.\n",
    "C = [\n",
    "     [3, 1, 9],\n",
    "     [2, 4, 1],\n",
    "              ]\n",
    "\n",
    "D = np.array(C)\n"
   ]
  },
  {
   "cell_type": "code",
   "execution_count": 20,
   "id": "d594ff37",
   "metadata": {},
   "outputs": [
    {
     "data": {
      "text/plain": [
       "array([[3, 1, 9],\n",
       "       [2, 4, 1]])"
      ]
     },
     "execution_count": 20,
     "metadata": {},
     "output_type": "execute_result"
    }
   ],
   "source": [
    "D\n"
   ]
  },
  {
   "cell_type": "code",
   "execution_count": 21,
   "id": "52a1e866",
   "metadata": {},
   "outputs": [
    {
     "data": {
      "text/plain": [
       "numpy.ndarray"
      ]
     },
     "execution_count": 21,
     "metadata": {},
     "output_type": "execute_result"
    }
   ],
   "source": [
    "# Tipo de dato\n",
    "type(B)\n"
   ]
  },
  {
   "cell_type": "code",
   "execution_count": 22,
   "id": "816641b0",
   "metadata": {},
   "outputs": [
    {
     "name": "stdout",
     "output_type": "stream",
     "text": [
      "(2, 3)\n"
     ]
    }
   ],
   "source": [
    "# Tamaño de la matriz\n",
    "dim_B = B.shape\n",
    "print(dim_B)  # Imprime el tamaño del arreglo B.\n"
   ]
  },
  {
   "cell_type": "code",
   "execution_count": 23,
   "id": "3561cb18",
   "metadata": {},
   "outputs": [
    {
     "data": {
      "text/plain": [
       "tuple"
      ]
     },
     "execution_count": 23,
     "metadata": {},
     "output_type": "execute_result"
    }
   ],
   "source": [
    "# Tipo de dato\n",
    "type(dim_B)\n"
   ]
  },
  {
   "cell_type": "code",
   "execution_count": 24,
   "id": "79de5c76",
   "metadata": {},
   "outputs": [],
   "source": [
    "# Definiendo número de filas y columnas.\n",
    "m = dim_B[0]\n",
    "n = dim_B[1]\n"
   ]
  },
  {
   "cell_type": "code",
   "execution_count": 25,
   "id": "1e172a91",
   "metadata": {},
   "outputs": [
    {
     "name": "stdout",
     "output_type": "stream",
     "text": [
      "El número de filas es:\n",
      "2\n",
      "El número de columnas es:\n",
      "3\n"
     ]
    }
   ],
   "source": [
    "# Impresión de resultados\n",
    "print('El número de filas es:')\n",
    "print(m)\n",
    "print('El número de columnas es:')\n",
    "print(n)\n"
   ]
  },
  {
   "cell_type": "code",
   "execution_count": 26,
   "id": "0d7f5576",
   "metadata": {},
   "outputs": [
    {
     "ename": "AttributeError",
     "evalue": "'list' object has no attribute 'shape'",
     "output_type": "error",
     "traceback": [
      "\u001b[1;31m---------------------------------------------------------------------------\u001b[0m",
      "\u001b[1;31mAttributeError\u001b[0m                            Traceback (most recent call last)",
      "\u001b[1;32m<ipython-input-26-1ce236246647>\u001b[0m in \u001b[0;36m<module>\u001b[1;34m\u001b[0m\n\u001b[1;32m----> 1\u001b[1;33m \u001b[0mprint\u001b[0m\u001b[1;33m(\u001b[0m\u001b[0mA\u001b[0m\u001b[1;33m.\u001b[0m\u001b[0mshape\u001b[0m\u001b[1;33m)\u001b[0m  \u001b[1;31m# Genera error.\u001b[0m\u001b[1;33m\u001b[0m\u001b[1;33m\u001b[0m\u001b[0m\n\u001b[0m",
      "\u001b[1;31mAttributeError\u001b[0m: 'list' object has no attribute 'shape'"
     ]
    }
   ],
   "source": [
    "print(A.shape)  # Genera error.\n"
   ]
  },
  {
   "cell_type": "markdown",
   "id": "30c148aa",
   "metadata": {},
   "source": [
    "Otras formas de definir arreglos:"
   ]
  },
  {
   "cell_type": "code",
   "execution_count": 27,
   "id": "c8e1b3b6",
   "metadata": {},
   "outputs": [],
   "source": [
    "# Arreglo de unos\n",
    "E = np.ones((4, 5))\n"
   ]
  },
  {
   "cell_type": "code",
   "execution_count": 28,
   "id": "4ddd7f99",
   "metadata": {},
   "outputs": [
    {
     "name": "stdout",
     "output_type": "stream",
     "text": [
      "[[1. 1. 1. 1. 1.]\n",
      " [1. 1. 1. 1. 1.]\n",
      " [1. 1. 1. 1. 1.]\n",
      " [1. 1. 1. 1. 1.]]\n",
      "\n",
      "Con elementos de tipo:\n",
      "<class 'numpy.float64'>\n"
     ]
    }
   ],
   "source": [
    "print(E)\n",
    "print(\"\\nCon elementos de tipo:\")\n",
    "print(type(E[0][0]))\n"
   ]
  },
  {
   "cell_type": "code",
   "execution_count": 29,
   "id": "b25be817",
   "metadata": {},
   "outputs": [],
   "source": [
    "# Arreglo de ceros\n",
    "F = np.zeros((3, 2))\n"
   ]
  },
  {
   "cell_type": "code",
   "execution_count": 30,
   "id": "d5661896",
   "metadata": {},
   "outputs": [
    {
     "name": "stdout",
     "output_type": "stream",
     "text": [
      "[[0. 0.]\n",
      " [0. 0.]\n",
      " [0. 0.]]\n",
      "\n",
      "Con elementos de tipo:\n",
      "<class 'numpy.float64'>\n"
     ]
    }
   ],
   "source": [
    "print(F)\n",
    "print(\"\\nCon elementos de tipo:\")\n",
    "print(type(F[0][0]))\n"
   ]
  },
  {
   "cell_type": "code",
   "execution_count": 31,
   "id": "df0a3d5a",
   "metadata": {},
   "outputs": [],
   "source": [
    "# Matriz vacía rellena con los valores residuales de la memoria.\n",
    "G = np.empty((2, 3)) \n"
   ]
  },
  {
   "cell_type": "code",
   "execution_count": 32,
   "id": "7e526341",
   "metadata": {},
   "outputs": [
    {
     "name": "stdout",
     "output_type": "stream",
     "text": [
      "[[0. 0. 0.]\n",
      " [0. 0. 0.]]\n",
      "\n",
      "Con elementos de tipo:\n",
      "<class 'numpy.float64'>\n"
     ]
    }
   ],
   "source": [
    "print(G)\n",
    "print(\"\\nCon elementos de tipo:\")\n",
    "print(type(G[0][0]))\n"
   ]
  },
  {
   "cell_type": "code",
   "execution_count": 33,
   "id": "705b18c0",
   "metadata": {
    "scrolled": false
   },
   "outputs": [],
   "source": [
    "# De forma opcional se puede definir el tipo de dato que tendrá el arreglo.\n",
    "H = np.zeros((3, 3), dtype=int)  # dytpe tiene muchísimas posibilidades.\n"
   ]
  },
  {
   "cell_type": "code",
   "execution_count": 34,
   "id": "52b5f625",
   "metadata": {},
   "outputs": [
    {
     "name": "stdout",
     "output_type": "stream",
     "text": [
      "[[0 0 0]\n",
      " [0 0 0]\n",
      " [0 0 0]]\n",
      "\n",
      "Con elementos de tipo:\n",
      "<class 'numpy.int32'>\n"
     ]
    }
   ],
   "source": [
    "print(H)\n",
    "print(\"\\nCon elementos de tipo:\")\n",
    "print(type(H[0][0]))\n"
   ]
  },
  {
   "cell_type": "code",
   "execution_count": 35,
   "id": "5cbea8f7",
   "metadata": {
    "scrolled": true
   },
   "outputs": [
    {
     "data": {
      "text/plain": [
       "array([[1., 0., 0., 0., 0.],\n",
       "       [0., 1., 0., 0., 0.],\n",
       "       [0., 0., 1., 0., 0.],\n",
       "       [0., 0., 0., 1., 0.],\n",
       "       [0., 0., 0., 0., 1.]])"
      ]
     },
     "execution_count": 35,
     "metadata": {},
     "output_type": "execute_result"
    }
   ],
   "source": [
    "# Matriz identidad para matrices cuadradas\n",
    "np.identity(5)\n"
   ]
  },
  {
   "cell_type": "code",
   "execution_count": 36,
   "id": "38b65cd1",
   "metadata": {},
   "outputs": [
    {
     "data": {
      "text/plain": [
       "array([[1., 0., 0.],\n",
       "       [0., 1., 0.],\n",
       "       [0., 0., 1.],\n",
       "       [0., 0., 0.]])"
      ]
     },
     "execution_count": 36,
     "metadata": {},
     "output_type": "execute_result"
    }
   ],
   "source": [
    "# Matriz identidad en un caso más general mxn\n",
    "np.eye(4,3)\n"
   ]
  },
  {
   "cell_type": "markdown",
   "id": "f32ce1b6",
   "metadata": {},
   "source": [
    "Llamado de elementos, filas y columnas."
   ]
  },
  {
   "cell_type": "code",
   "execution_count": 37,
   "id": "c328b139",
   "metadata": {
    "scrolled": true
   },
   "outputs": [
    {
     "data": {
      "text/plain": [
       "array([[3, 1, 9],\n",
       "       [2, 4, 1]])"
      ]
     },
     "execution_count": 37,
     "metadata": {},
     "output_type": "execute_result"
    }
   ],
   "source": [
    "B # Previamente fue definida la matriz B.\n"
   ]
  },
  {
   "cell_type": "code",
   "execution_count": 38,
   "id": "755d1e01",
   "metadata": {},
   "outputs": [
    {
     "name": "stdout",
     "output_type": "stream",
     "text": [
      "El elemento b12 es: 1\n"
     ]
    }
   ],
   "source": [
    "# Llamado de un elemento\n",
    "b12 = B[1][2] # En la numeración natural sería el elemento de la fila 2 y la columna 3.\n",
    "\n",
    "print(f'El elemento b12 es: {b12}')  # Nótese el uso de la f y de {}.\n"
   ]
  },
  {
   "cell_type": "code",
   "execution_count": 39,
   "id": "dbdb755b",
   "metadata": {},
   "outputs": [
    {
     "name": "stdout",
     "output_type": "stream",
     "text": [
      "El elemento b12 es: 1\n"
     ]
    }
   ],
   "source": [
    "# Alternativamente, se usa así:\n",
    "b12 = B[1, 2]\n",
    "\n",
    "print(f'El elemento b12 es: {b12}')\n"
   ]
  },
  {
   "cell_type": "code",
   "execution_count": 40,
   "id": "e659e811",
   "metadata": {},
   "outputs": [
    {
     "data": {
      "text/plain": [
       "1"
      ]
     },
     "execution_count": 40,
     "metadata": {},
     "output_type": "execute_result"
    }
   ],
   "source": [
    "B[1, 2]"
   ]
  },
  {
   "cell_type": "code",
   "execution_count": 41,
   "id": "02238da4",
   "metadata": {},
   "outputs": [
    {
     "name": "stdout",
     "output_type": "stream",
     "text": [
      "La segunda fila es: [3 1 9]\n"
     ]
    }
   ],
   "source": [
    "# Llamado de una fila\n",
    "f1 = B[0] # Se llama la segunda fila.\n",
    "\n",
    "print(f'La segunda fila es: {f1}')\n"
   ]
  },
  {
   "cell_type": "code",
   "execution_count": 42,
   "id": "50e653dd",
   "metadata": {
    "scrolled": false
   },
   "outputs": [
    {
     "ename": "IndexError",
     "evalue": "index 2 is out of bounds for axis 0 with size 2",
     "output_type": "error",
     "traceback": [
      "\u001b[1;31m---------------------------------------------------------------------------\u001b[0m",
      "\u001b[1;31mIndexError\u001b[0m                                Traceback (most recent call last)",
      "\u001b[1;32m<ipython-input-42-6afd15b6aa00>\u001b[0m in \u001b[0;36m<module>\u001b[1;34m\u001b[0m\n\u001b[1;32m----> 1\u001b[1;33m \u001b[0mf2\u001b[0m \u001b[1;33m=\u001b[0m \u001b[0mB\u001b[0m\u001b[1;33m[\u001b[0m\u001b[1;36m2\u001b[0m\u001b[1;33m]\u001b[0m \u001b[1;31m# Se llama la tercera fila. Como no existe: genera error.\u001b[0m\u001b[1;33m\u001b[0m\u001b[1;33m\u001b[0m\u001b[0m\n\u001b[0m",
      "\u001b[1;31mIndexError\u001b[0m: index 2 is out of bounds for axis 0 with size 2"
     ]
    }
   ],
   "source": [
    "f2 = B[2] # Se llama la tercera fila. Como no existe: genera error.\n"
   ]
  },
  {
   "cell_type": "code",
   "execution_count": 43,
   "id": "9f770a94",
   "metadata": {},
   "outputs": [
    {
     "name": "stdout",
     "output_type": "stream",
     "text": [
      "La segunda columna es: [1 4]\n"
     ]
    }
   ],
   "source": [
    "# Llamado de columnas\n",
    "c1 = B[:, 1]\n",
    "       \n",
    "print(f'La segunda columna es: {c1}')\n"
   ]
  },
  {
   "cell_type": "code",
   "execution_count": 44,
   "id": "ec9b08b6",
   "metadata": {},
   "outputs": [
    {
     "name": "stdout",
     "output_type": "stream",
     "text": [
      "La matriz C es: \n",
      "[[ 0  1  2  3]\n",
      " [ 4  5  6  7]\n",
      " [ 8  9 10 11]\n",
      " [12 13 14 15]]\n"
     ]
    }
   ],
   "source": [
    "# Se define una matriz C, nuevamente con\n",
    "C = np.array([\n",
    "              [ 0,  1,  2,  3],\n",
    "              [ 4,  5,  6,  7],\n",
    "              [ 8,  9, 10, 11],\n",
    "              [12, 13, 14, 15],  # Nótese que esta ',' del final no genera ningún error.\n",
    "                              ])\n",
    "\n",
    "print(f'La matriz C es: \\n{C}')\n"
   ]
  },
  {
   "cell_type": "markdown",
   "id": "043a64ba",
   "metadata": {},
   "source": [
    "Llamado de más de una fila o de una columna:"
   ]
  },
  {
   "cell_type": "code",
   "execution_count": 45,
   "id": "92e16050",
   "metadata": {},
   "outputs": [
    {
     "data": {
      "text/plain": [
       "array([[ 4,  5,  6,  7],\n",
       "       [ 8,  9, 10, 11],\n",
       "       [12, 13, 14, 15]])"
      ]
     },
     "execution_count": 45,
     "metadata": {},
     "output_type": "execute_result"
    }
   ],
   "source": [
    "C[1:]\n"
   ]
  },
  {
   "cell_type": "code",
   "execution_count": 46,
   "id": "e689ae13",
   "metadata": {},
   "outputs": [
    {
     "data": {
      "text/plain": [
       "array([[0, 1, 2, 3],\n",
       "       [4, 5, 6, 7]])"
      ]
     },
     "execution_count": 46,
     "metadata": {},
     "output_type": "execute_result"
    }
   ],
   "source": [
    "C[:2]\n"
   ]
  },
  {
   "cell_type": "code",
   "execution_count": 47,
   "id": "b53e044d",
   "metadata": {},
   "outputs": [
    {
     "data": {
      "text/plain": [
       "array([[ 0,  1],\n",
       "       [ 4,  5],\n",
       "       [ 8,  9],\n",
       "       [12, 13]])"
      ]
     },
     "execution_count": 47,
     "metadata": {},
     "output_type": "execute_result"
    }
   ],
   "source": [
    "C[:, :2]\n"
   ]
  },
  {
   "cell_type": "code",
   "execution_count": 48,
   "id": "d0c08dcd",
   "metadata": {
    "scrolled": true
   },
   "outputs": [
    {
     "data": {
      "text/plain": [
       "array([[ 4,  5],\n",
       "       [ 8,  9],\n",
       "       [12, 13]])"
      ]
     },
     "execution_count": 48,
     "metadata": {},
     "output_type": "execute_result"
    }
   ],
   "source": [
    "C[1:, :2]\n"
   ]
  },
  {
   "cell_type": "code",
   "execution_count": 49,
   "id": "85f8ded8",
   "metadata": {},
   "outputs": [
    {
     "data": {
      "text/plain": [
       "array([[ 5,  6],\n",
       "       [ 9, 10]])"
      ]
     },
     "execution_count": 49,
     "metadata": {},
     "output_type": "execute_result"
    }
   ],
   "source": [
    "C[1:3, 1:3]\n"
   ]
  },
  {
   "cell_type": "markdown",
   "id": "daec7df4",
   "metadata": {},
   "source": [
    "### 3. Matrices en sympy"
   ]
  },
  {
   "cell_type": "code",
   "execution_count": 50,
   "id": "fba39015",
   "metadata": {},
   "outputs": [],
   "source": [
    "# Mediante el módulo sympy con \"Array\" y con \"Matrix\".\n",
    "# Importar la librería\n",
    "import sympy as sp\n"
   ]
  },
  {
   "cell_type": "code",
   "execution_count": 51,
   "id": "97d71764",
   "metadata": {},
   "outputs": [],
   "source": [
    "# Definición con 'Array', no se recomienda usar pues es inmutable.\n",
    "J = sp.Array([\n",
    "              [ 8,  1,  9],\n",
    "              [-1,  4, -2],\n",
    "              [ 2, -4,  1],\n",
    "                          ])\n"
   ]
  },
  {
   "cell_type": "code",
   "execution_count": 52,
   "id": "1b5cac06",
   "metadata": {
    "scrolled": false
   },
   "outputs": [
    {
     "name": "stdout",
     "output_type": "stream",
     "text": [
      "La matriz J es:\n"
     ]
    },
    {
     "data": {
      "text/latex": [
       "$\\displaystyle \\left[\\begin{matrix}8 & 1 & 9\\\\-1 & 4 & -2\\\\2 & -4 & 1\\end{matrix}\\right]$"
      ],
      "text/plain": [
       "[[8, 1, 9], [-1, 4, -2], [2, -4, 1]]"
      ]
     },
     "execution_count": 52,
     "metadata": {},
     "output_type": "execute_result"
    }
   ],
   "source": [
    "# Impresión de resultados\n",
    "print('La matriz J es:')  \n",
    "J  # Acá no se pone el comando 'print' para que genere un 'Out', y en sympy se hace con LaTeX.\n"
   ]
  },
  {
   "cell_type": "code",
   "execution_count": 53,
   "id": "d161cf32",
   "metadata": {},
   "outputs": [
    {
     "data": {
      "text/plain": [
       "sympy.tensor.array.dense_ndim_array.ImmutableDenseNDimArray"
      ]
     },
     "execution_count": 53,
     "metadata": {},
     "output_type": "execute_result"
    }
   ],
   "source": [
    "# Tipo de dato\n",
    "type(J)\n"
   ]
  },
  {
   "cell_type": "code",
   "execution_count": 54,
   "id": "a90967ba",
   "metadata": {},
   "outputs": [],
   "source": [
    "# Definición con \"Matrix\"\n",
    "K = sp.Matrix([\n",
    "               [-1,  1,  9],\n",
    "               [ 4,  4, -2],\n",
    "               [ 2,  0,  8],\n",
    "                           ])\n"
   ]
  },
  {
   "cell_type": "code",
   "execution_count": 55,
   "id": "e8316d78",
   "metadata": {},
   "outputs": [
    {
     "name": "stdout",
     "output_type": "stream",
     "text": [
      "La matriz K es:\n"
     ]
    },
    {
     "data": {
      "text/latex": [
       "$\\displaystyle \\left[\\begin{matrix}-1 & 1 & 9\\\\4 & 4 & -2\\\\2 & 0 & 8\\end{matrix}\\right]$"
      ],
      "text/plain": [
       "Matrix([\n",
       "[-1, 1,  9],\n",
       "[ 4, 4, -2],\n",
       "[ 2, 0,  8]])"
      ]
     },
     "execution_count": 55,
     "metadata": {},
     "output_type": "execute_result"
    }
   ],
   "source": [
    "# Impresión de resultados\n",
    "print('La matriz K es:')  \n",
    "K\n"
   ]
  },
  {
   "cell_type": "code",
   "execution_count": 56,
   "id": "8d1d9a0b",
   "metadata": {},
   "outputs": [
    {
     "data": {
      "text/plain": [
       "sympy.matrices.dense.MutableDenseMatrix"
      ]
     },
     "execution_count": 56,
     "metadata": {},
     "output_type": "execute_result"
    }
   ],
   "source": [
    "# Tipo de dato\n",
    "type(K)\n"
   ]
  },
  {
   "cell_type": "code",
   "execution_count": 57,
   "id": "013d4b73",
   "metadata": {},
   "outputs": [
    {
     "name": "stdout",
     "output_type": "stream",
     "text": [
      "(3, 3)\n"
     ]
    }
   ],
   "source": [
    "# Tamaño de la matriz\n",
    "dim_K = K.shape  # Nótese que es el mismo comando en numpy y en sympy\n",
    "print(dim_K)     # Imprime el tamaño del arreglo K\n"
   ]
  },
  {
   "cell_type": "code",
   "execution_count": 58,
   "id": "a276ca7c",
   "metadata": {
    "scrolled": true
   },
   "outputs": [
    {
     "data": {
      "text/plain": [
       "tuple"
      ]
     },
     "execution_count": 58,
     "metadata": {},
     "output_type": "execute_result"
    }
   ],
   "source": [
    "# Tipo de dato\n",
    "type(dim_K)\n"
   ]
  },
  {
   "cell_type": "markdown",
   "id": "43afd6ea",
   "metadata": {},
   "source": [
    "Formas específicas de arreglos:\n",
    "\n",
    "Se recomienda revisar en detalle la documentación de sympy en: https://docs.sympy.org/latest/tutorial/matrices.html\n",
    "\n",
    "Las siguientes matrices tienen la forma de 'Matrix', es decir, son mutables:"
   ]
  },
  {
   "cell_type": "code",
   "execution_count": 59,
   "id": "af4b0819",
   "metadata": {
    "scrolled": false
   },
   "outputs": [
    {
     "data": {
      "text/latex": [
       "$\\displaystyle \\left[\\begin{matrix}0 & 0\\\\0 & 0\\end{matrix}\\right]$"
      ],
      "text/plain": [
       "Matrix([\n",
       "[0, 0],\n",
       "[0, 0]])"
      ]
     },
     "execution_count": 59,
     "metadata": {},
     "output_type": "execute_result"
    }
   ],
   "source": [
    "# Matriz de ceros.\n",
    "sp.zeros(2)\n"
   ]
  },
  {
   "cell_type": "code",
   "execution_count": 60,
   "id": "181b71cf",
   "metadata": {
    "scrolled": true
   },
   "outputs": [
    {
     "data": {
      "text/latex": [
       "$\\displaystyle \\left[\\begin{matrix}0 & 0\\\\0 & 0\\\\0 & 0\\end{matrix}\\right]$"
      ],
      "text/plain": [
       "Matrix([\n",
       "[0, 0],\n",
       "[0, 0],\n",
       "[0, 0]])"
      ]
     },
     "execution_count": 60,
     "metadata": {},
     "output_type": "execute_result"
    }
   ],
   "source": [
    "sp.zeros(3, 2)\n"
   ]
  },
  {
   "cell_type": "code",
   "execution_count": 61,
   "id": "9fb29f66",
   "metadata": {
    "scrolled": true
   },
   "outputs": [
    {
     "data": {
      "text/latex": [
       "$\\displaystyle \\left[\\begin{matrix}1 & 1 & 1\\\\1 & 1 & 1\\\\1 & 1 & 1\\end{matrix}\\right]$"
      ],
      "text/plain": [
       "Matrix([\n",
       "[1, 1, 1],\n",
       "[1, 1, 1],\n",
       "[1, 1, 1]])"
      ]
     },
     "execution_count": 61,
     "metadata": {},
     "output_type": "execute_result"
    }
   ],
   "source": [
    "# Matriz de unos.\n",
    "sp.ones(3)\n"
   ]
  },
  {
   "cell_type": "code",
   "execution_count": 62,
   "id": "e12cb05f",
   "metadata": {},
   "outputs": [
    {
     "data": {
      "text/latex": [
       "$\\displaystyle \\left[\\begin{matrix}1 & 0 & 0\\\\0 & 1 & 0\\\\0 & 0 & 1\\end{matrix}\\right]$"
      ],
      "text/plain": [
       "Matrix([\n",
       "[1, 0, 0],\n",
       "[0, 1, 0],\n",
       "[0, 0, 1]])"
      ]
     },
     "execution_count": 62,
     "metadata": {},
     "output_type": "execute_result"
    }
   ],
   "source": [
    "# Matriz identidad\n",
    "sp.eye(3)\n"
   ]
  },
  {
   "cell_type": "code",
   "execution_count": 63,
   "id": "9a777991",
   "metadata": {},
   "outputs": [
    {
     "data": {
      "text/latex": [
       "$\\displaystyle \\left[\\begin{matrix}1 & 0 & 0\\\\0 & 2 & 0\\\\0 & 0 & 3\\end{matrix}\\right]$"
      ],
      "text/plain": [
       "Matrix([\n",
       "[1, 0, 0],\n",
       "[0, 2, 0],\n",
       "[0, 0, 3]])"
      ]
     },
     "execution_count": 63,
     "metadata": {},
     "output_type": "execute_result"
    }
   ],
   "source": [
    "# Matriz diagonal\n",
    "sp.diag(1, 2, 3)\n"
   ]
  },
  {
   "cell_type": "markdown",
   "id": "baae015e",
   "metadata": {},
   "source": [
    "Llamado de elementos, filas y columnas."
   ]
  },
  {
   "cell_type": "code",
   "execution_count": 64,
   "id": "18f016ca",
   "metadata": {},
   "outputs": [
    {
     "data": {
      "text/latex": [
       "$\\displaystyle \\left[\\begin{matrix}-1 & 1 & 9\\\\4 & 4 & -2\\\\2 & 0 & 8\\end{matrix}\\right]$"
      ],
      "text/plain": [
       "Matrix([\n",
       "[-1, 1,  9],\n",
       "[ 4, 4, -2],\n",
       "[ 2, 0,  8]])"
      ]
     },
     "execution_count": 64,
     "metadata": {},
     "output_type": "execute_result"
    }
   ],
   "source": [
    "K # Previamente fue definida la matriz K.\n"
   ]
  },
  {
   "cell_type": "code",
   "execution_count": 65,
   "id": "8999b561",
   "metadata": {},
   "outputs": [
    {
     "data": {
      "text/plain": [
       "9"
      ]
     },
     "execution_count": 65,
     "metadata": {},
     "output_type": "execute_result"
    }
   ],
   "source": [
    "# Teniendo en cuenta la longitud de matriz, es decir, la cantidad de elementos.\n",
    "len(K)  # Nótese que aquí sí se puede usar el comando \"len()\" a diferencia de numpy.\n"
   ]
  },
  {
   "cell_type": "code",
   "execution_count": 66,
   "id": "9e7e59e2",
   "metadata": {},
   "outputs": [
    {
     "data": {
      "text/latex": [
       "$\\displaystyle -1$"
      ],
      "text/plain": [
       "-1"
      ]
     },
     "execution_count": 66,
     "metadata": {},
     "output_type": "execute_result"
    }
   ],
   "source": [
    "# Se puede llamar a cualquiera de los elementos de la matriz en un ordenamiento que recorre fila por fila.\n",
    "K[0]\n"
   ]
  },
  {
   "cell_type": "code",
   "execution_count": 67,
   "id": "2eb3cb9d",
   "metadata": {
    "scrolled": true
   },
   "outputs": [
    {
     "data": {
      "text/latex": [
       "$\\displaystyle 8$"
      ],
      "text/plain": [
       "8"
      ]
     },
     "execution_count": 67,
     "metadata": {},
     "output_type": "execute_result"
    }
   ],
   "source": [
    "K[-1]  # Llamado del último elemento, que es lo mismo que llamar K[8]\n"
   ]
  },
  {
   "cell_type": "code",
   "execution_count": 68,
   "id": "bee2a9df",
   "metadata": {},
   "outputs": [
    {
     "data": {
      "text/latex": [
       "$\\displaystyle 4$"
      ],
      "text/plain": [
       "4"
      ]
     },
     "execution_count": 68,
     "metadata": {},
     "output_type": "execute_result"
    }
   ],
   "source": [
    "# Pero el llamado básico se hace de la misma manera que numpy\n",
    "K[1, 1]  # No funciona poner K[1][1], genera error.\n"
   ]
  },
  {
   "cell_type": "code",
   "execution_count": 69,
   "id": "ae454c2d",
   "metadata": {},
   "outputs": [
    {
     "data": {
      "text/latex": [
       "$\\displaystyle \\left[\\begin{matrix}4 & 4 & -2\\end{matrix}\\right]$"
      ],
      "text/plain": [
       "Matrix([[4, 4, -2]])"
      ]
     },
     "execution_count": 69,
     "metadata": {},
     "output_type": "execute_result"
    }
   ],
   "source": [
    "# Llamado de filas\n",
    "K.row(1)  # LLamado de la segunda fila\n"
   ]
  },
  {
   "cell_type": "code",
   "execution_count": 70,
   "id": "a38df803",
   "metadata": {},
   "outputs": [
    {
     "data": {
      "text/latex": [
       "$\\displaystyle \\left[\\begin{matrix}9\\\\-2\\\\8\\end{matrix}\\right]$"
      ],
      "text/plain": [
       "Matrix([\n",
       "[ 9],\n",
       "[-2],\n",
       "[ 8]])"
      ]
     },
     "execution_count": 70,
     "metadata": {},
     "output_type": "execute_result"
    }
   ],
   "source": [
    "# Llamado de columnas\n",
    "K.col(2)\n"
   ]
  },
  {
   "cell_type": "markdown",
   "id": "605d4877",
   "metadata": {},
   "source": [
    "# Modificación de elementos\n",
    "\n",
    "Cambiar algún elemento de la matriz"
   ]
  },
  {
   "cell_type": "markdown",
   "id": "7ad84d10",
   "metadata": {},
   "source": [
    "### 1. En una lista de listas"
   ]
  },
  {
   "cell_type": "code",
   "execution_count": 71,
   "id": "205d578a",
   "metadata": {},
   "outputs": [
    {
     "data": {
      "text/plain": [
       "[[5, 1, 2], [7, 3, 7], [4, 7, 8]]"
      ]
     },
     "execution_count": 71,
     "metadata": {},
     "output_type": "execute_result"
    }
   ],
   "source": [
    "A # Previamente fue definida la matriz A.\n"
   ]
  },
  {
   "cell_type": "code",
   "execution_count": 72,
   "id": "3a8dd1b8",
   "metadata": {},
   "outputs": [
    {
     "data": {
      "text/plain": [
       "4"
      ]
     },
     "execution_count": 72,
     "metadata": {},
     "output_type": "execute_result"
    }
   ],
   "source": [
    "# Por ejemplo, el elemento de la fila 3 y la columna 1\n",
    "A[2][0]\n"
   ]
  },
  {
   "cell_type": "code",
   "execution_count": 73,
   "id": "0afae28c",
   "metadata": {},
   "outputs": [],
   "source": [
    "# Se puede modificar directamente\n",
    "A[2][0] = -8\n"
   ]
  },
  {
   "cell_type": "code",
   "execution_count": 74,
   "id": "97f6dfb0",
   "metadata": {},
   "outputs": [
    {
     "data": {
      "text/plain": [
       "[[5, 1, 2], [7, 3, 7], [-8, 7, 8]]"
      ]
     },
     "execution_count": 74,
     "metadata": {},
     "output_type": "execute_result"
    }
   ],
   "source": [
    "A  # Matriz A modificada\n"
   ]
  },
  {
   "cell_type": "markdown",
   "id": "15824474",
   "metadata": {},
   "source": [
    "### 2. En un array de numpy"
   ]
  },
  {
   "cell_type": "code",
   "execution_count": 75,
   "id": "38527e81",
   "metadata": {
    "scrolled": true
   },
   "outputs": [
    {
     "data": {
      "text/plain": [
       "array([[ 0,  1,  2,  3],\n",
       "       [ 4,  5,  6,  7],\n",
       "       [ 8,  9, 10, 11],\n",
       "       [12, 13, 14, 15]])"
      ]
     },
     "execution_count": 75,
     "metadata": {},
     "output_type": "execute_result"
    }
   ],
   "source": [
    "C # Previamente fue definida la matriz C.\n"
   ]
  },
  {
   "cell_type": "code",
   "execution_count": 76,
   "id": "bdb23c2e",
   "metadata": {},
   "outputs": [],
   "source": [
    "# Modificando el elemento C[2, 1]\n",
    "C[2, 1] = -15\n"
   ]
  },
  {
   "cell_type": "code",
   "execution_count": 77,
   "id": "f3c2575b",
   "metadata": {},
   "outputs": [
    {
     "data": {
      "text/plain": [
       "array([[  0,   1,   2,   3],\n",
       "       [  4,   5,   6,   7],\n",
       "       [  8, -15,  10,  11],\n",
       "       [ 12,  13,  14,  15]])"
      ]
     },
     "execution_count": 77,
     "metadata": {},
     "output_type": "execute_result"
    }
   ],
   "source": [
    "C  # Matriz C modificada\n"
   ]
  },
  {
   "cell_type": "code",
   "execution_count": 78,
   "id": "f3bed7c0",
   "metadata": {},
   "outputs": [],
   "source": [
    "# Así modifico toda la fila 2 simultáneamente\n",
    "C[2] = 0"
   ]
  },
  {
   "cell_type": "code",
   "execution_count": 79,
   "id": "b9c917cc",
   "metadata": {
    "scrolled": false
   },
   "outputs": [
    {
     "data": {
      "text/plain": [
       "array([[ 0,  1,  2,  3],\n",
       "       [ 4,  5,  6,  7],\n",
       "       [ 0,  0,  0,  0],\n",
       "       [12, 13, 14, 15]])"
      ]
     },
     "execution_count": 79,
     "metadata": {},
     "output_type": "execute_result"
    }
   ],
   "source": [
    "C\n"
   ]
  },
  {
   "cell_type": "code",
   "execution_count": 80,
   "id": "99c28ada",
   "metadata": {},
   "outputs": [],
   "source": [
    "# Por ejemplo, así se modifican todos los elementos.\n",
    "C[:, :] = 0\n"
   ]
  },
  {
   "cell_type": "code",
   "execution_count": 81,
   "id": "c1a64bd9",
   "metadata": {},
   "outputs": [
    {
     "data": {
      "text/plain": [
       "array([[0, 0, 0, 0],\n",
       "       [0, 0, 0, 0],\n",
       "       [0, 0, 0, 0],\n",
       "       [0, 0, 0, 0]])"
      ]
     },
     "execution_count": 81,
     "metadata": {},
     "output_type": "execute_result"
    }
   ],
   "source": [
    "C\n"
   ]
  },
  {
   "cell_type": "markdown",
   "id": "b38924f4",
   "metadata": {},
   "source": [
    "### 3. En una matriz de sympy"
   ]
  },
  {
   "cell_type": "code",
   "execution_count": 82,
   "id": "70dc9b1d",
   "metadata": {},
   "outputs": [
    {
     "data": {
      "text/latex": [
       "$\\displaystyle \\left[\\begin{matrix}-1 & 1 & 9\\\\4 & 4 & -2\\\\2 & 0 & 8\\end{matrix}\\right]$"
      ],
      "text/plain": [
       "Matrix([\n",
       "[-1, 1,  9],\n",
       "[ 4, 4, -2],\n",
       "[ 2, 0,  8]])"
      ]
     },
     "execution_count": 82,
     "metadata": {},
     "output_type": "execute_result"
    }
   ],
   "source": [
    "K # Previamente fue definida la matriz K.\n"
   ]
  },
  {
   "cell_type": "code",
   "execution_count": 83,
   "id": "284582f9",
   "metadata": {},
   "outputs": [],
   "source": [
    "# Modificando el elemento K[1, 1]\n",
    "K[1, 1] = 0\n"
   ]
  },
  {
   "cell_type": "code",
   "execution_count": 84,
   "id": "e019559d",
   "metadata": {
    "scrolled": true
   },
   "outputs": [
    {
     "data": {
      "text/latex": [
       "$\\displaystyle \\left[\\begin{matrix}-1 & 1 & 9\\\\4 & 0 & -2\\\\2 & 0 & 8\\end{matrix}\\right]$"
      ],
      "text/plain": [
       "Matrix([\n",
       "[-1, 1,  9],\n",
       "[ 4, 0, -2],\n",
       "[ 2, 0,  8]])"
      ]
     },
     "execution_count": 84,
     "metadata": {},
     "output_type": "execute_result"
    }
   ],
   "source": [
    "K  # Matriz K modificada\n"
   ]
  },
  {
   "cell_type": "code",
   "execution_count": 85,
   "id": "c5327ef5",
   "metadata": {},
   "outputs": [],
   "source": [
    "# Pilas que así se modifica el elemento 2 del recorrido fila a fila.\n",
    "K[2] = 1\n"
   ]
  },
  {
   "cell_type": "code",
   "execution_count": 86,
   "id": "dc419f68",
   "metadata": {
    "scrolled": true
   },
   "outputs": [
    {
     "data": {
      "text/latex": [
       "$\\displaystyle \\left[\\begin{matrix}-1 & 1 & 1\\\\4 & 0 & -2\\\\2 & 0 & 8\\end{matrix}\\right]$"
      ],
      "text/plain": [
       "Matrix([\n",
       "[-1, 1,  1],\n",
       "[ 4, 0, -2],\n",
       "[ 2, 0,  8]])"
      ]
     },
     "execution_count": 86,
     "metadata": {},
     "output_type": "execute_result"
    }
   ],
   "source": [
    "K\n"
   ]
  },
  {
   "cell_type": "code",
   "execution_count": 87,
   "id": "a68a9787",
   "metadata": {},
   "outputs": [
    {
     "data": {
      "text/latex": [
       "$\\displaystyle \\left[\\begin{matrix}1\\\\0\\\\0\\end{matrix}\\right]$"
      ],
      "text/plain": [
       "Matrix([\n",
       "[1],\n",
       "[0],\n",
       "[0]])"
      ]
     },
     "execution_count": 87,
     "metadata": {},
     "output_type": "execute_result"
    }
   ],
   "source": [
    "# Si se quiere modificar la columna 1.\n",
    "K.col(1)\n"
   ]
  },
  {
   "cell_type": "code",
   "execution_count": 88,
   "id": "49aa5ae4",
   "metadata": {},
   "outputs": [
    {
     "ename": "SyntaxError",
     "evalue": "cannot assign to function call (<ipython-input-88-56f824f47dfd>, line 2)",
     "output_type": "error",
     "traceback": [
      "\u001b[1;36m  File \u001b[1;32m\"<ipython-input-88-56f824f47dfd>\"\u001b[1;36m, line \u001b[1;32m2\u001b[0m\n\u001b[1;33m    K.col(1) = -100\u001b[0m\n\u001b[1;37m    ^\u001b[0m\n\u001b[1;31mSyntaxError\u001b[0m\u001b[1;31m:\u001b[0m cannot assign to function call\n"
     ]
    }
   ],
   "source": [
    "# Se genera error.\n",
    "K.col(1) = -100\n"
   ]
  },
  {
   "cell_type": "code",
   "execution_count": 89,
   "id": "5550f85c",
   "metadata": {
    "scrolled": true
   },
   "outputs": [
    {
     "data": {
      "text/latex": [
       "$\\displaystyle \\left[\\begin{matrix}1\\\\0\\\\0\\end{matrix}\\right]$"
      ],
      "text/plain": [
       "Matrix([\n",
       "[1],\n",
       "[0],\n",
       "[0]])"
      ]
     },
     "execution_count": 89,
     "metadata": {},
     "output_type": "execute_result"
    }
   ],
   "source": [
    "# La forma alternativa de llamar la columna 1.\n",
    "K[:,1]\n"
   ]
  },
  {
   "cell_type": "code",
   "execution_count": 90,
   "id": "220fa252",
   "metadata": {},
   "outputs": [
    {
     "ename": "ValueError",
     "evalue": "unexpected value: -100",
     "output_type": "error",
     "traceback": [
      "\u001b[1;31m---------------------------------------------------------------------------\u001b[0m",
      "\u001b[1;31mValueError\u001b[0m                                Traceback (most recent call last)",
      "\u001b[1;32m<ipython-input-90-dedd104c22b5>\u001b[0m in \u001b[0;36m<module>\u001b[1;34m\u001b[0m\n\u001b[0;32m      1\u001b[0m \u001b[1;31m# Si se trata de modificar\u001b[0m\u001b[1;33m\u001b[0m\u001b[1;33m\u001b[0m\u001b[1;33m\u001b[0m\u001b[0m\n\u001b[1;32m----> 2\u001b[1;33m \u001b[0mK\u001b[0m\u001b[1;33m[\u001b[0m\u001b[1;33m:\u001b[0m\u001b[1;33m,\u001b[0m\u001b[1;36m1\u001b[0m\u001b[1;33m]\u001b[0m \u001b[1;33m=\u001b[0m \u001b[1;33m-\u001b[0m\u001b[1;36m100\u001b[0m\u001b[1;33m\u001b[0m\u001b[1;33m\u001b[0m\u001b[0m\n\u001b[0m",
      "\u001b[1;32mC:\\ProgramData\\Anaconda3\\lib\\site-packages\\sympy\\matrices\\dense.py\u001b[0m in \u001b[0;36m__setitem__\u001b[1;34m(self, key, value)\u001b[0m\n\u001b[0;32m    356\u001b[0m         [2, 2, 4, 2]])\n\u001b[0;32m    357\u001b[0m         \"\"\"\n\u001b[1;32m--> 358\u001b[1;33m         \u001b[0mrv\u001b[0m \u001b[1;33m=\u001b[0m \u001b[0mself\u001b[0m\u001b[1;33m.\u001b[0m\u001b[0m_setitem\u001b[0m\u001b[1;33m(\u001b[0m\u001b[0mkey\u001b[0m\u001b[1;33m,\u001b[0m \u001b[0mvalue\u001b[0m\u001b[1;33m)\u001b[0m\u001b[1;33m\u001b[0m\u001b[1;33m\u001b[0m\u001b[0m\n\u001b[0m\u001b[0;32m    359\u001b[0m         \u001b[1;32mif\u001b[0m \u001b[0mrv\u001b[0m \u001b[1;32mis\u001b[0m \u001b[1;32mnot\u001b[0m \u001b[1;32mNone\u001b[0m\u001b[1;33m:\u001b[0m\u001b[1;33m\u001b[0m\u001b[1;33m\u001b[0m\u001b[0m\n\u001b[0;32m    360\u001b[0m             \u001b[0mi\u001b[0m\u001b[1;33m,\u001b[0m \u001b[0mj\u001b[0m\u001b[1;33m,\u001b[0m \u001b[0mvalue\u001b[0m \u001b[1;33m=\u001b[0m \u001b[0mrv\u001b[0m\u001b[1;33m\u001b[0m\u001b[1;33m\u001b[0m\u001b[0m\n",
      "\u001b[1;32mC:\\ProgramData\\Anaconda3\\lib\\site-packages\\sympy\\matrices\\matrices.py\u001b[0m in \u001b[0;36m_setitem\u001b[1;34m(self, key, value)\u001b[0m\n\u001b[0;32m   1177\u001b[0m                 \u001b[0mself\u001b[0m\u001b[1;33m.\u001b[0m\u001b[0mcopyin_list\u001b[0m\u001b[1;33m(\u001b[0m\u001b[0mkey\u001b[0m\u001b[1;33m,\u001b[0m \u001b[0mvalue\u001b[0m\u001b[1;33m)\u001b[0m\u001b[1;33m\u001b[0m\u001b[1;33m\u001b[0m\u001b[0m\n\u001b[0;32m   1178\u001b[0m                 \u001b[1;32mreturn\u001b[0m\u001b[1;33m\u001b[0m\u001b[1;33m\u001b[0m\u001b[0m\n\u001b[1;32m-> 1179\u001b[1;33m             \u001b[1;32mraise\u001b[0m \u001b[0mValueError\u001b[0m\u001b[1;33m(\u001b[0m\u001b[1;34m'unexpected value: %s'\u001b[0m \u001b[1;33m%\u001b[0m \u001b[0mvalue\u001b[0m\u001b[1;33m)\u001b[0m\u001b[1;33m\u001b[0m\u001b[1;33m\u001b[0m\u001b[0m\n\u001b[0m\u001b[0;32m   1180\u001b[0m         \u001b[1;32melse\u001b[0m\u001b[1;33m:\u001b[0m\u001b[1;33m\u001b[0m\u001b[1;33m\u001b[0m\u001b[0m\n\u001b[0;32m   1181\u001b[0m             if (not is_mat and\n",
      "\u001b[1;31mValueError\u001b[0m: unexpected value: -100"
     ]
    }
   ],
   "source": [
    "# Si se trata de modificar\n",
    "K[:,1] = -100\n"
   ]
  },
  {
   "cell_type": "code",
   "execution_count": null,
   "id": "180f27cf",
   "metadata": {},
   "outputs": [],
   "source": [
    "# Una forma correcta es:\n",
    "K[:,1] = (-100, -100, -100)\n"
   ]
  },
  {
   "cell_type": "code",
   "execution_count": 91,
   "id": "41caac43",
   "metadata": {},
   "outputs": [
    {
     "data": {
      "text/latex": [
       "$\\displaystyle \\left[\\begin{matrix}-1 & 1 & 1\\\\4 & 0 & -2\\\\2 & 0 & 8\\end{matrix}\\right]$"
      ],
      "text/plain": [
       "Matrix([\n",
       "[-1, 1,  1],\n",
       "[ 4, 0, -2],\n",
       "[ 2, 0,  8]])"
      ]
     },
     "execution_count": 91,
     "metadata": {},
     "output_type": "execute_result"
    }
   ],
   "source": [
    "K\n"
   ]
  },
  {
   "cell_type": "markdown",
   "id": "bc1992fe",
   "metadata": {},
   "source": [
    "# Operaciones con matrices y vectores\n",
    "1. Suma\n",
    "2. Multiplicación\n",
    "3. Inversión\n",
    "4. Matriz transpuesta\n",
    "5. Producto punto y producto cruz\n",
    "\n",
    "Las operaciones básicas presentan algunas dificultades en una lista de lista, por lo que, claramente es mejor realizar las operaciones con los módulos numpy y sympy."
   ]
  },
  {
   "cell_type": "markdown",
   "id": "454a6b48",
   "metadata": {},
   "source": [
    "### 1. Suma\n",
    "\n",
    "La suma de matrices solo es posible en matrices del mismo tamaño $mxn$.\n",
    "\n",
    "La suma de las matrices $\\underline{\\underline{A}}$ y $\\underline{\\underline{B}}$ es denotada por: $\\underline{\\underline{A}}+\\underline{\\underline{B}}$"
   ]
  },
  {
   "cell_type": "markdown",
   "id": "7170a73a",
   "metadata": {},
   "source": [
    "**Usando numpy**"
   ]
  },
  {
   "cell_type": "code",
   "execution_count": 92,
   "id": "da2fe74a",
   "metadata": {},
   "outputs": [],
   "source": [
    "# Usando el módulo numpy se crean las matrices M y N.\n",
    "M = np.array([\n",
    "              [ 2, 7],\n",
    "              [-1, 3],\n",
    "                     ])\n",
    "\n",
    "N = np.array([\n",
    "              [-3, 0],\n",
    "              [ 9, 1],\n",
    "                     ])\n"
   ]
  },
  {
   "cell_type": "code",
   "execution_count": 93,
   "id": "8a76e8f9",
   "metadata": {
    "scrolled": false
   },
   "outputs": [
    {
     "data": {
      "text/plain": [
       "array([[-1,  7],\n",
       "       [ 8,  4]])"
      ]
     },
     "execution_count": 93,
     "metadata": {},
     "output_type": "execute_result"
    }
   ],
   "source": [
    "M+N  # La suma de las matrices M y N.\n"
   ]
  },
  {
   "cell_type": "markdown",
   "id": "91b4b425",
   "metadata": {},
   "source": [
    "¿Qué pasa si las matrices a sumar son diferente tamaño?"
   ]
  },
  {
   "cell_type": "code",
   "execution_count": 94,
   "id": "0c7e35f6",
   "metadata": {
    "scrolled": true
   },
   "outputs": [
    {
     "data": {
      "text/plain": [
       "array([[3, 1, 9],\n",
       "       [2, 4, 1]])"
      ]
     },
     "execution_count": 94,
     "metadata": {},
     "output_type": "execute_result"
    }
   ],
   "source": [
    "B  # Llamando la matriz B, previmante definida\n"
   ]
  },
  {
   "cell_type": "code",
   "execution_count": 95,
   "id": "6b02546d",
   "metadata": {},
   "outputs": [
    {
     "ename": "ValueError",
     "evalue": "operands could not be broadcast together with shapes (2,3) (2,2) ",
     "output_type": "error",
     "traceback": [
      "\u001b[1;31m---------------------------------------------------------------------------\u001b[0m",
      "\u001b[1;31mValueError\u001b[0m                                Traceback (most recent call last)",
      "\u001b[1;32m<ipython-input-95-fd3fd26b354f>\u001b[0m in \u001b[0;36m<module>\u001b[1;34m\u001b[0m\n\u001b[1;32m----> 1\u001b[1;33m \u001b[0mB\u001b[0m\u001b[1;33m+\u001b[0m\u001b[0mN\u001b[0m  \u001b[1;31m# Lo que ocurre si se suman matrices de diferente tamaño.\u001b[0m\u001b[1;33m\u001b[0m\u001b[1;33m\u001b[0m\u001b[0m\n\u001b[0m",
      "\u001b[1;31mValueError\u001b[0m: operands could not be broadcast together with shapes (2,3) (2,2) "
     ]
    }
   ],
   "source": [
    "B+N  # Lo que ocurre si se suman matrices de diferente tamaño.\n"
   ]
  },
  {
   "cell_type": "markdown",
   "id": "36b4d3a8",
   "metadata": {},
   "source": [
    "**Usando sympy**"
   ]
  },
  {
   "cell_type": "code",
   "execution_count": 96,
   "id": "0e9be45b",
   "metadata": {},
   "outputs": [],
   "source": [
    "# Se crean algunas variables simbólicas con sympy.\n",
    "a, b, c, d = sp.symbols(\"a b c d\")\n"
   ]
  },
  {
   "cell_type": "code",
   "execution_count": 97,
   "id": "02974383",
   "metadata": {},
   "outputs": [],
   "source": [
    "# Usando el módulo sympy se crean las matrices O y P.\n",
    "O = sp.Matrix([\n",
    "               [ a, c],\n",
    "               [ b, d],\n",
    "                      ])\n",
    "\n",
    "P = sp.Matrix([\n",
    "               [-a, b],\n",
    "               [ c, d],\n",
    "                      ])\n"
   ]
  },
  {
   "cell_type": "code",
   "execution_count": 98,
   "id": "22c67380",
   "metadata": {
    "scrolled": false
   },
   "outputs": [
    {
     "data": {
      "text/latex": [
       "$\\displaystyle \\left[\\begin{matrix}2 a & - b + c\\\\b - c & 0\\end{matrix}\\right]$"
      ],
      "text/plain": [
       "Matrix([\n",
       "[  2*a, -b + c],\n",
       "[b - c,      0]])"
      ]
     },
     "execution_count": 98,
     "metadata": {},
     "output_type": "execute_result"
    }
   ],
   "source": [
    "O-P  # La resta de las matrices O y P.\n"
   ]
  },
  {
   "cell_type": "markdown",
   "id": "3cc5b95d",
   "metadata": {},
   "source": [
    "### 2. Multiplicación\n",
    "\n",
    "El producto de una matriz A de tamaño $axb$ con una matriz B de tamaño $cxd$ solo es posible si $b=c$ y, en donde la matriz resultante tendrá un tamaño $axd$.\n",
    "\n",
    "La multiplicación de las matrices $\\underline{\\underline{A}}$ y $\\underline{\\underline{B}}$ es denotada por: $\\underline{\\underline{A}}$ * $\\underline{\\underline{B}}$"
   ]
  },
  {
   "cell_type": "markdown",
   "id": "035524a9",
   "metadata": {},
   "source": [
    "**Usando numpy**"
   ]
  },
  {
   "cell_type": "code",
   "execution_count": 99,
   "id": "850021b2",
   "metadata": {},
   "outputs": [],
   "source": [
    "# Usando el módulo numpy se crean las matrices Q y R.\n",
    "Q = np.array([\n",
    "              [3, -2],\n",
    "                     ])\n",
    "\n",
    "R = np.array([\n",
    "              [ 3],\n",
    "              [-1],\n",
    "                  ])\n"
   ]
  },
  {
   "cell_type": "code",
   "execution_count": 100,
   "id": "4fae875a",
   "metadata": {
    "scrolled": false
   },
   "outputs": [
    {
     "data": {
      "text/plain": [
       "array([[11]])"
      ]
     },
     "execution_count": 100,
     "metadata": {},
     "output_type": "execute_result"
    }
   ],
   "source": [
    "np.matmul(Q, R)  # La operación Q*R hace otra cosa completamente diferente.\n"
   ]
  },
  {
   "cell_type": "code",
   "execution_count": 101,
   "id": "8ea77d12",
   "metadata": {
    "scrolled": false
   },
   "outputs": [
    {
     "data": {
      "text/plain": [
       "array([[11]])"
      ]
     },
     "execution_count": 101,
     "metadata": {},
     "output_type": "execute_result"
    }
   ],
   "source": [
    "Q@R  # Otra forma más sencilla de hacer la misma operación.\n"
   ]
  },
  {
   "cell_type": "markdown",
   "id": "e6c24ee9",
   "metadata": {},
   "source": [
    "Los arreglos en numpy permiten realizar sobre ellos las operaciones básicas **elemento a elemento**, lo cual no responde a las reglas de las operaciones con matrices."
   ]
  },
  {
   "cell_type": "code",
   "execution_count": 102,
   "id": "d6a59f06",
   "metadata": {
    "scrolled": true
   },
   "outputs": [
    {
     "data": {
      "text/plain": [
       "array([[ 97, 100],\n",
       "       [109, 101]])"
      ]
     },
     "execution_count": 102,
     "metadata": {},
     "output_type": "execute_result"
    }
   ],
   "source": [
    "N + 100  # Es equivalente a la suma de una matriz de unos multiplicada por el escalar. \n"
   ]
  },
  {
   "cell_type": "code",
   "execution_count": 103,
   "id": "5f96184b",
   "metadata": {
    "scrolled": true
   },
   "outputs": [
    {
     "data": {
      "text/plain": [
       "array([[-9,  0],\n",
       "       [27,  3]])"
      ]
     },
     "execution_count": 103,
     "metadata": {},
     "output_type": "execute_result"
    }
   ],
   "source": [
    "N * 3  # Es equivalente a N+N+N\n"
   ]
  },
  {
   "cell_type": "code",
   "execution_count": 104,
   "id": "8787e438",
   "metadata": {
    "scrolled": true
   },
   "outputs": [
    {
     "data": {
      "text/plain": [
       "array([[ 9,  0],\n",
       "       [81,  1]], dtype=int32)"
      ]
     },
     "execution_count": 104,
     "metadata": {},
     "output_type": "execute_result"
    }
   ],
   "source": [
    "N**2  # Matricialmente no es lo mimso que NxN. Porque lo que hace es elevar a la potencia elemento por elemento.\n"
   ]
  },
  {
   "cell_type": "code",
   "execution_count": 105,
   "id": "5100e155",
   "metadata": {},
   "outputs": [
    {
     "data": {
      "text/plain": [
       "array([[ 0.125,  0.5  ],\n",
       "       [15.125,  1.125]])"
      ]
     },
     "execution_count": 105,
     "metadata": {},
     "output_type": "execute_result"
    }
   ],
   "source": [
    "(N+2)**2/8\n"
   ]
  },
  {
   "cell_type": "code",
   "execution_count": 106,
   "id": "4207c6a3",
   "metadata": {
    "scrolled": true
   },
   "outputs": [
    {
     "name": "stderr",
     "output_type": "stream",
     "text": [
      "<ipython-input-106-a51a79dbb120>:1: RuntimeWarning: divide by zero encountered in true_divide\n",
      "  1/N  # Cuidado, que esta operacción no es la matriz inversa.\n"
     ]
    },
    {
     "data": {
      "text/plain": [
       "array([[-0.33333333,         inf],\n",
       "       [ 0.11111111,  1.        ]])"
      ]
     },
     "execution_count": 106,
     "metadata": {},
     "output_type": "execute_result"
    }
   ],
   "source": [
    "1/N  # Cuidado, que esta operacción no es la matriz inversa.\n",
    "\n"
   ]
  },
  {
   "cell_type": "code",
   "execution_count": 107,
   "id": "0785df65",
   "metadata": {},
   "outputs": [
    {
     "ename": "ValueError",
     "evalue": "Integers to negative integer powers are not allowed.",
     "output_type": "error",
     "traceback": [
      "\u001b[1;31m---------------------------------------------------------------------------\u001b[0m",
      "\u001b[1;31mValueError\u001b[0m                                Traceback (most recent call last)",
      "\u001b[1;32m<ipython-input-107-2a6756474f3c>\u001b[0m in \u001b[0;36m<module>\u001b[1;34m\u001b[0m\n\u001b[0;32m      1\u001b[0m \u001b[1;31m# ¿Qué ocurre si se eleva a potencias negativas.\u001b[0m\u001b[1;33m\u001b[0m\u001b[1;33m\u001b[0m\u001b[1;33m\u001b[0m\u001b[0m\n\u001b[1;32m----> 2\u001b[1;33m \u001b[0mN\u001b[0m\u001b[1;33m**\u001b[0m\u001b[1;33m-\u001b[0m\u001b[1;36m1\u001b[0m\u001b[1;33m\u001b[0m\u001b[1;33m\u001b[0m\u001b[0m\n\u001b[0m",
      "\u001b[1;31mValueError\u001b[0m: Integers to negative integer powers are not allowed."
     ]
    }
   ],
   "source": [
    "# ¿Qué ocurre si se eleva a potencias negativas.\n",
    "N**-1\n"
   ]
  },
  {
   "cell_type": "code",
   "execution_count": 108,
   "id": "9aa0e8b0",
   "metadata": {},
   "outputs": [
    {
     "data": {
      "text/plain": [
       "array([[ 9, -6],\n",
       "       [-3,  2]])"
      ]
     },
     "execution_count": 108,
     "metadata": {},
     "output_type": "execute_result"
    }
   ],
   "source": [
    "Q*R # De acuerdo con las reglas de las operaciones entre matrices, debería dar una matriz de 1x1.\n"
   ]
  },
  {
   "cell_type": "markdown",
   "id": "f955afb4",
   "metadata": {},
   "source": [
    "**Usando sympy**"
   ]
  },
  {
   "cell_type": "code",
   "execution_count": 109,
   "id": "fd323e94",
   "metadata": {},
   "outputs": [],
   "source": [
    "# Usando el módulo sumpy se crea la matriz A y el vector X.\n",
    "\n",
    "# Se crean algunas variables simbólicas adicionales.\n",
    "x, y = sp.symbols(\"x y\")\n",
    "\n",
    "A = sp.Matrix([\n",
    "               [ a, b],\n",
    "               [ c, d],\n",
    "                      ])\n",
    "\n",
    "X = sp.Matrix([\n",
    "               [x],\n",
    "               [y],\n",
    "                  ])\n"
   ]
  },
  {
   "cell_type": "code",
   "execution_count": 110,
   "id": "81043901",
   "metadata": {
    "scrolled": true
   },
   "outputs": [
    {
     "data": {
      "text/latex": [
       "$\\displaystyle \\left[\\begin{matrix}a & b\\\\c & d\\end{matrix}\\right]$"
      ],
      "text/plain": [
       "Matrix([\n",
       "[a, b],\n",
       "[c, d]])"
      ]
     },
     "execution_count": 110,
     "metadata": {},
     "output_type": "execute_result"
    }
   ],
   "source": [
    "A"
   ]
  },
  {
   "cell_type": "code",
   "execution_count": 111,
   "id": "769c7e32",
   "metadata": {},
   "outputs": [
    {
     "data": {
      "text/latex": [
       "$\\displaystyle \\left[\\begin{matrix}x\\\\y\\end{matrix}\\right]$"
      ],
      "text/plain": [
       "Matrix([\n",
       "[x],\n",
       "[y]])"
      ]
     },
     "execution_count": 111,
     "metadata": {},
     "output_type": "execute_result"
    }
   ],
   "source": [
    "X"
   ]
  },
  {
   "cell_type": "code",
   "execution_count": 112,
   "id": "7e35f983",
   "metadata": {
    "scrolled": true
   },
   "outputs": [
    {
     "data": {
      "text/latex": [
       "$\\displaystyle \\left[\\begin{matrix}a x + b y\\\\c x + d y\\end{matrix}\\right]$"
      ],
      "text/plain": [
       "Matrix([\n",
       "[a*x + b*y],\n",
       "[c*x + d*y]])"
      ]
     },
     "execution_count": 112,
     "metadata": {},
     "output_type": "execute_result"
    }
   ],
   "source": [
    "A*X  # En sympy sí se puede hacer esta operación así.\n"
   ]
  },
  {
   "cell_type": "markdown",
   "id": "2dfb8cf6",
   "metadata": {},
   "source": [
    "Algunas consideraciones sobre las operaciones:"
   ]
  },
  {
   "cell_type": "code",
   "execution_count": 113,
   "id": "1891732e",
   "metadata": {
    "scrolled": false
   },
   "outputs": [
    {
     "data": {
      "text/latex": [
       "$\\displaystyle \\left[\\begin{matrix}a & c\\\\b & d\\end{matrix}\\right]$"
      ],
      "text/plain": [
       "Matrix([\n",
       "[a, c],\n",
       "[b, d]])"
      ]
     },
     "execution_count": 113,
     "metadata": {},
     "output_type": "execute_result"
    }
   ],
   "source": [
    "O  # Llamando la matriz previamente definida.\n"
   ]
  },
  {
   "cell_type": "code",
   "execution_count": 114,
   "id": "8c42678a",
   "metadata": {},
   "outputs": [
    {
     "ename": "TypeError",
     "evalue": "cannot add <class 'sympy.matrices.dense.MutableDenseMatrix'> and <class 'int'>",
     "output_type": "error",
     "traceback": [
      "\u001b[1;31m---------------------------------------------------------------------------\u001b[0m",
      "\u001b[1;31mTypeError\u001b[0m                                 Traceback (most recent call last)",
      "\u001b[1;32m<ipython-input-114-5324d02d0726>\u001b[0m in \u001b[0;36m<module>\u001b[1;34m\u001b[0m\n\u001b[0;32m      1\u001b[0m \u001b[1;31m# Nótese que aquí sí se respetan las reglas de las operaciones entre matrices.\u001b[0m\u001b[1;33m\u001b[0m\u001b[1;33m\u001b[0m\u001b[1;33m\u001b[0m\u001b[0m\n\u001b[1;32m----> 2\u001b[1;33m \u001b[0mA\u001b[0m\u001b[1;33m+\u001b[0m\u001b[1;36m10\u001b[0m\u001b[1;33m\u001b[0m\u001b[1;33m\u001b[0m\u001b[0m\n\u001b[0m",
      "\u001b[1;32mC:\\ProgramData\\Anaconda3\\lib\\site-packages\\sympy\\core\\decorators.py\u001b[0m in \u001b[0;36mbinary_op_wrapper\u001b[1;34m(self, other)\u001b[0m\n\u001b[0;32m    134\u001b[0m                     \u001b[1;32mif\u001b[0m \u001b[0mf\u001b[0m \u001b[1;32mis\u001b[0m \u001b[1;32mnot\u001b[0m \u001b[1;32mNone\u001b[0m\u001b[1;33m:\u001b[0m\u001b[1;33m\u001b[0m\u001b[1;33m\u001b[0m\u001b[0m\n\u001b[0;32m    135\u001b[0m                         \u001b[1;32mreturn\u001b[0m \u001b[0mf\u001b[0m\u001b[1;33m(\u001b[0m\u001b[0mself\u001b[0m\u001b[1;33m)\u001b[0m\u001b[1;33m\u001b[0m\u001b[1;33m\u001b[0m\u001b[0m\n\u001b[1;32m--> 136\u001b[1;33m             \u001b[1;32mreturn\u001b[0m \u001b[0mfunc\u001b[0m\u001b[1;33m(\u001b[0m\u001b[0mself\u001b[0m\u001b[1;33m,\u001b[0m \u001b[0mother\u001b[0m\u001b[1;33m)\u001b[0m\u001b[1;33m\u001b[0m\u001b[1;33m\u001b[0m\u001b[0m\n\u001b[0m\u001b[0;32m    137\u001b[0m         \u001b[1;32mreturn\u001b[0m \u001b[0mbinary_op_wrapper\u001b[0m\u001b[1;33m\u001b[0m\u001b[1;33m\u001b[0m\u001b[0m\n\u001b[0;32m    138\u001b[0m     \u001b[1;32mreturn\u001b[0m \u001b[0mpriority_decorator\u001b[0m\u001b[1;33m\u001b[0m\u001b[1;33m\u001b[0m\u001b[0m\n",
      "\u001b[1;32mC:\\ProgramData\\Anaconda3\\lib\\site-packages\\sympy\\matrices\\common.py\u001b[0m in \u001b[0;36m__add__\u001b[1;34m(self, other)\u001b[0m\n\u001b[0;32m   2694\u001b[0m             \u001b[1;32mreturn\u001b[0m \u001b[0mMatrixArithmetic\u001b[0m\u001b[1;33m.\u001b[0m\u001b[0m_eval_add\u001b[0m\u001b[1;33m(\u001b[0m\u001b[0mself\u001b[0m\u001b[1;33m,\u001b[0m \u001b[0mother\u001b[0m\u001b[1;33m)\u001b[0m\u001b[1;33m\u001b[0m\u001b[1;33m\u001b[0m\u001b[0m\n\u001b[0;32m   2695\u001b[0m \u001b[1;33m\u001b[0m\u001b[0m\n\u001b[1;32m-> 2696\u001b[1;33m         \u001b[1;32mraise\u001b[0m \u001b[0mTypeError\u001b[0m\u001b[1;33m(\u001b[0m\u001b[1;34m'cannot add %s and %s'\u001b[0m \u001b[1;33m%\u001b[0m \u001b[1;33m(\u001b[0m\u001b[0mtype\u001b[0m\u001b[1;33m(\u001b[0m\u001b[0mself\u001b[0m\u001b[1;33m)\u001b[0m\u001b[1;33m,\u001b[0m \u001b[0mtype\u001b[0m\u001b[1;33m(\u001b[0m\u001b[0mother\u001b[0m\u001b[1;33m)\u001b[0m\u001b[1;33m)\u001b[0m\u001b[1;33m)\u001b[0m\u001b[1;33m\u001b[0m\u001b[1;33m\u001b[0m\u001b[0m\n\u001b[0m\u001b[0;32m   2697\u001b[0m \u001b[1;33m\u001b[0m\u001b[0m\n\u001b[0;32m   2698\u001b[0m     \u001b[1;33m@\u001b[0m\u001b[0mcall_highest_priority\u001b[0m\u001b[1;33m(\u001b[0m\u001b[1;34m'__rtruediv__'\u001b[0m\u001b[1;33m)\u001b[0m\u001b[1;33m\u001b[0m\u001b[1;33m\u001b[0m\u001b[0m\n",
      "\u001b[1;31mTypeError\u001b[0m: cannot add <class 'sympy.matrices.dense.MutableDenseMatrix'> and <class 'int'>"
     ]
    }
   ],
   "source": [
    "# Nótese que aquí sí se respetan las reglas de las operaciones entre matrices.\n",
    "A+10\n"
   ]
  },
  {
   "cell_type": "code",
   "execution_count": 115,
   "id": "a0a9179a",
   "metadata": {},
   "outputs": [
    {
     "data": {
      "text/latex": [
       "$\\displaystyle \\left[\\begin{matrix}15 a & 15 c\\\\15 b & 15 d\\end{matrix}\\right]$"
      ],
      "text/plain": [
       "Matrix([\n",
       "[15*a, 15*c],\n",
       "[15*b, 15*d]])"
      ]
     },
     "execution_count": 115,
     "metadata": {},
     "output_type": "execute_result"
    }
   ],
   "source": [
    "# Las matrices se pueden multiplicar por escalares.\n",
    "O*15\n"
   ]
  },
  {
   "cell_type": "code",
   "execution_count": 116,
   "id": "dd37a5cc",
   "metadata": {
    "scrolled": true
   },
   "outputs": [
    {
     "data": {
      "text/latex": [
       "$\\displaystyle \\left[\\begin{matrix}a^{2} + b c & a c + c d\\\\a b + b d & b c + d^{2}\\end{matrix}\\right]$"
      ],
      "text/plain": [
       "Matrix([\n",
       "[a**2 + b*c,  a*c + c*d],\n",
       "[ a*b + b*d, b*c + d**2]])"
      ]
     },
     "execution_count": 116,
     "metadata": {},
     "output_type": "execute_result"
    }
   ],
   "source": [
    "# Esta operación sí representa la multiplicación de O con O.\n",
    "O**2\n"
   ]
  },
  {
   "cell_type": "markdown",
   "id": "11a70ad4",
   "metadata": {},
   "source": [
    "### 3. Inversión de matrices\n",
    "Solo es posible invertir matrices cuadradas no singulares, es decir, que su determinante sea diferente de 0.\n",
    "\n",
    "La inversa de la matriz  $\\underline{\\underline{A}}$ es denotada por $\\underline{\\underline{A}}^{-1}$.\n",
    "\n",
    "El determinante de la matriz a se puede denotar como $det(\\underline{\\underline{A}})$ o como $|\\underline{\\underline{A}}|$."
   ]
  },
  {
   "cell_type": "markdown",
   "id": "f768eeda",
   "metadata": {},
   "source": [
    "**Usando numpy**"
   ]
  },
  {
   "cell_type": "code",
   "execution_count": 117,
   "id": "c9674f9b",
   "metadata": {},
   "outputs": [],
   "source": [
    "# Usando el módulo numpy se crea la matriz S.\n",
    "S = np.array([[ 1, -2],\n",
    "              [-3, 5]])\n"
   ]
  },
  {
   "cell_type": "code",
   "execution_count": 118,
   "id": "8768a75b",
   "metadata": {},
   "outputs": [
    {
     "data": {
      "text/plain": [
       "array([[ 1, -2],\n",
       "       [-3,  5]])"
      ]
     },
     "execution_count": 118,
     "metadata": {},
     "output_type": "execute_result"
    }
   ],
   "source": [
    "S  # Se imprime S\n"
   ]
  },
  {
   "cell_type": "code",
   "execution_count": 119,
   "id": "35f944c9",
   "metadata": {
    "scrolled": true
   },
   "outputs": [
    {
     "data": {
      "text/plain": [
       "-1.0000000000000004"
      ]
     },
     "execution_count": 119,
     "metadata": {},
     "output_type": "execute_result"
    }
   ],
   "source": [
    "np.linalg.det(S)  # Se determina el determinante de la matriz S.\n"
   ]
  },
  {
   "cell_type": "code",
   "execution_count": 120,
   "id": "9b1ef91c",
   "metadata": {
    "scrolled": false
   },
   "outputs": [
    {
     "data": {
      "text/plain": [
       "array([[-5., -2.],\n",
       "       [-3., -1.]])"
      ]
     },
     "execution_count": 120,
     "metadata": {},
     "output_type": "execute_result"
    }
   ],
   "source": [
    "# Como el determinante es diferente de 0, la matriz es inversible.\n",
    "np.linalg.inv(S)  # Inversa de la matriz S.\n"
   ]
  },
  {
   "cell_type": "markdown",
   "id": "665a4619",
   "metadata": {},
   "source": [
    "¿Qué ocurre si se trata de sacar la inversa de una matriz singular?"
   ]
  },
  {
   "cell_type": "code",
   "execution_count": 121,
   "id": "b7a2c5bc",
   "metadata": {},
   "outputs": [],
   "source": [
    "W = np.array([[ 1, -2],\n",
    "              [-2,  4]])\n"
   ]
  },
  {
   "cell_type": "code",
   "execution_count": 122,
   "id": "d08c1b54",
   "metadata": {},
   "outputs": [
    {
     "data": {
      "text/plain": [
       "0.0"
      ]
     },
     "execution_count": 122,
     "metadata": {},
     "output_type": "execute_result"
    }
   ],
   "source": [
    "np.linalg.det(W)\n"
   ]
  },
  {
   "cell_type": "code",
   "execution_count": 123,
   "id": "4fd049f1",
   "metadata": {},
   "outputs": [
    {
     "ename": "NameError",
     "evalue": "name 'T' is not defined",
     "output_type": "error",
     "traceback": [
      "\u001b[1;31m---------------------------------------------------------------------------\u001b[0m",
      "\u001b[1;31mNameError\u001b[0m                                 Traceback (most recent call last)",
      "\u001b[1;32m<ipython-input-123-479ac258ede6>\u001b[0m in \u001b[0;36m<module>\u001b[1;34m\u001b[0m\n\u001b[1;32m----> 1\u001b[1;33m \u001b[0mnp\u001b[0m\u001b[1;33m.\u001b[0m\u001b[0mlinalg\u001b[0m\u001b[1;33m.\u001b[0m\u001b[0minv\u001b[0m\u001b[1;33m(\u001b[0m\u001b[0mT\u001b[0m\u001b[1;33m)\u001b[0m\u001b[1;33m\u001b[0m\u001b[1;33m\u001b[0m\u001b[0m\n\u001b[0m",
      "\u001b[1;31mNameError\u001b[0m: name 'T' is not defined"
     ]
    }
   ],
   "source": [
    "np.linalg.inv(T)\n"
   ]
  },
  {
   "cell_type": "markdown",
   "id": "8afdb5af",
   "metadata": {},
   "source": [
    "**Usando sympy**"
   ]
  },
  {
   "cell_type": "code",
   "execution_count": 124,
   "id": "9a51b187",
   "metadata": {
    "scrolled": true
   },
   "outputs": [
    {
     "data": {
      "text/latex": [
       "$\\displaystyle \\left[\\begin{matrix}a & b\\\\c & d\\end{matrix}\\right]$"
      ],
      "text/plain": [
       "Matrix([\n",
       "[a, b],\n",
       "[c, d]])"
      ]
     },
     "execution_count": 124,
     "metadata": {},
     "output_type": "execute_result"
    }
   ],
   "source": [
    "# Usando la matriz A previamente creada con varibles simbólicas.\n",
    "A\n"
   ]
  },
  {
   "cell_type": "code",
   "execution_count": 125,
   "id": "f89ef7df",
   "metadata": {},
   "outputs": [
    {
     "data": {
      "text/latex": [
       "$\\displaystyle a d - b c$"
      ],
      "text/plain": [
       "a*d - b*c"
      ]
     },
     "execution_count": 125,
     "metadata": {},
     "output_type": "execute_result"
    }
   ],
   "source": [
    "# Cálculo del determinante.\n",
    "A.det()\n"
   ]
  },
  {
   "cell_type": "code",
   "execution_count": 126,
   "id": "d98d8c43",
   "metadata": {
    "scrolled": false
   },
   "outputs": [
    {
     "data": {
      "text/latex": [
       "$\\displaystyle \\left[\\begin{matrix}\\frac{d}{a d - b c} & - \\frac{b}{a d - b c}\\\\- \\frac{c}{a d - b c} & \\frac{a}{a d - b c}\\end{matrix}\\right]$"
      ],
      "text/plain": [
       "Matrix([\n",
       "[ d/(a*d - b*c), -b/(a*d - b*c)],\n",
       "[-c/(a*d - b*c),  a/(a*d - b*c)]])"
      ]
     },
     "execution_count": 126,
     "metadata": {},
     "output_type": "execute_result"
    }
   ],
   "source": [
    "A.inv()  # Inversa de la matriz A. Aquí la utilidad del módulo sympy para determinar fórmulas generales.\n"
   ]
  },
  {
   "cell_type": "code",
   "execution_count": 127,
   "id": "a1364204",
   "metadata": {},
   "outputs": [
    {
     "data": {
      "text/latex": [
       "$\\displaystyle \\left[\\begin{matrix}\\frac{d}{a d - b c} & - \\frac{b}{a d - b c}\\\\- \\frac{c}{a d - b c} & \\frac{a}{a d - b c}\\end{matrix}\\right]$"
      ],
      "text/plain": [
       "Matrix([\n",
       "[ d/(a*d - b*c), -b/(a*d - b*c)],\n",
       "[-c/(a*d - b*c),  a/(a*d - b*c)]])"
      ]
     },
     "execution_count": 127,
     "metadata": {},
     "output_type": "execute_result"
    }
   ],
   "source": [
    "A**-1  # Esta operación sí es la inversa de la matriz, al contrario de lo que ocurre en numpy.\n"
   ]
  },
  {
   "cell_type": "markdown",
   "id": "042ee8dd",
   "metadata": {},
   "source": [
    "### 4. Matriz transpuesta\n",
    "Se denota a la transpuesta de la matriz $\\underline{\\underline{A}}$ como $\\underline{\\underline{A}}^{T}$."
   ]
  },
  {
   "cell_type": "markdown",
   "id": "bf3812a9",
   "metadata": {},
   "source": [
    "¿Cómo se transpone la matriz $\\underline{\\underline{A}}$? (ejercicio de clase con lista de listas)"
   ]
  },
  {
   "cell_type": "code",
   "execution_count": 128,
   "id": "f97c9124",
   "metadata": {},
   "outputs": [],
   "source": [
    "A = [[  0,  1,  2,  3,  4],\n",
    "     [  5,  6,  7,  8,  9],\n",
    "     [ 10, 11, 12, 13, 14]]\n"
   ]
  },
  {
   "cell_type": "code",
   "execution_count": 129,
   "id": "ec8c6a07",
   "metadata": {},
   "outputs": [],
   "source": [
    "# Solución\n"
   ]
  },
  {
   "cell_type": "markdown",
   "id": "27ea25d6",
   "metadata": {},
   "source": [
    "**Usando numpy**"
   ]
  },
  {
   "cell_type": "code",
   "execution_count": 130,
   "id": "3df4a851",
   "metadata": {},
   "outputs": [
    {
     "data": {
      "text/plain": [
       "array([[3, 1, 9],\n",
       "       [2, 4, 1]])"
      ]
     },
     "execution_count": 130,
     "metadata": {},
     "output_type": "execute_result"
    }
   ],
   "source": [
    "B # Previamente fue definida la matriz B.\n"
   ]
  },
  {
   "cell_type": "code",
   "execution_count": 131,
   "id": "c2a95005",
   "metadata": {},
   "outputs": [
    {
     "data": {
      "text/plain": [
       "array([[3, 2],\n",
       "       [1, 4],\n",
       "       [9, 1]])"
      ]
     },
     "execution_count": 131,
     "metadata": {},
     "output_type": "execute_result"
    }
   ],
   "source": [
    "B.T  # Matriz transpuesta.\n"
   ]
  },
  {
   "cell_type": "markdown",
   "id": "7d264619",
   "metadata": {},
   "source": [
    "**Usando sympy**"
   ]
  },
  {
   "cell_type": "code",
   "execution_count": 132,
   "id": "94fc4e96",
   "metadata": {},
   "outputs": [
    {
     "data": {
      "text/latex": [
       "$\\displaystyle \\left[\\begin{matrix}-1 & 1 & 1\\\\4 & 0 & -2\\\\2 & 0 & 8\\end{matrix}\\right]$"
      ],
      "text/plain": [
       "Matrix([\n",
       "[-1, 1,  1],\n",
       "[ 4, 0, -2],\n",
       "[ 2, 0,  8]])"
      ]
     },
     "execution_count": 132,
     "metadata": {},
     "output_type": "execute_result"
    }
   ],
   "source": [
    "K # Previamente fue definida la matriz K.\n"
   ]
  },
  {
   "cell_type": "code",
   "execution_count": 133,
   "id": "67cf4ffd",
   "metadata": {},
   "outputs": [
    {
     "data": {
      "text/latex": [
       "$\\displaystyle \\left[\\begin{matrix}-1 & 4 & 2\\\\1 & 0 & 0\\\\1 & -2 & 8\\end{matrix}\\right]$"
      ],
      "text/plain": [
       "Matrix([\n",
       "[-1,  4, 2],\n",
       "[ 1,  0, 0],\n",
       "[ 1, -2, 8]])"
      ]
     },
     "execution_count": 133,
     "metadata": {},
     "output_type": "execute_result"
    }
   ],
   "source": [
    "K.T  # Matriz transpuesta.\n"
   ]
  },
  {
   "cell_type": "markdown",
   "id": "e2a24219",
   "metadata": {},
   "source": [
    "### 5. Producto punto y producto cruz\n",
    "\n",
    "El producto punto o producto escalar de dos vectores está definido como:\n",
    "\n",
    "$\\underline{A}.\\underline{B}=(a_1, a_2, ..., a_n).(b_1, b_2, ..., b_n)=a_1b_1+a_2b_2+...+a_nb_n=\\sum a_i b_i$\n",
    "\n",
    "Alternativamente, se puede definir como:\n",
    "\n",
    "$\\underline{A}.\\underline{B}=||\\underline{A}||.||\\underline{B}||cos(\\theta)$, donde $\\theta$ es el ángulo formado entre los vectores.\n",
    "\n",
    "**Nota:**\n",
    "De aquí en adelante un vector entre dos líneas a lado y lado representará la magnitud o norma: $||\\underline{A}||$.\\\n",
    "Una matriz entre dos líneas representa un determinante: $|\\underline{\\underline{A}}|$."
   ]
  },
  {
   "cell_type": "markdown",
   "id": "379c4a3f",
   "metadata": {},
   "source": [
    "**Pregunta de clase**\n",
    "\n",
    "¿Qué significa que el $\\underline{A}.\\underline{B}=0$?\n"
   ]
  },
  {
   "cell_type": "markdown",
   "id": "9f9883b5",
   "metadata": {},
   "source": [
    "**Pregunta de clase**\n",
    "\n",
    "¿Qué significa que el $\\underline{A}.\\underline{B}=||\\underline{A}||.||\\underline{B}||$?"
   ]
  },
  {
   "cell_type": "markdown",
   "id": "a41ea13d",
   "metadata": {},
   "source": [
    "El producto cruz o producto vectorial de dos vectores está definido en $\\mathbb R^{3}$ como $\\underline{A}$x$\\underline{B}$, en donde:\n",
    "\n",
    "$\\underline{A}=(a_x, a_y, a_z)$\\\n",
    "$\\underline{B}=(b_x, b_y, b_z)$\n",
    "\n",
    "es decir,\n",
    "\n",
    "$\\underline{A}$ x $\\underline{B}$ $= \\left|\n",
    "\\begin{array}{ccc}\n",
    "\\hat{i} & \\hat{j} & \\hat{k}\\\\\n",
    "a_x & a_y & a_z\\\\\n",
    "b_x & b_y & b_z\\\\\n",
    "\\end{array}\n",
    "\\right|\n",
    "$"
   ]
  },
  {
   "cell_type": "code",
   "execution_count": 134,
   "id": "573ae8b6",
   "metadata": {},
   "outputs": [
    {
     "data": {
      "text/latex": [
       "$\\displaystyle \\hat{i} \\left(a_{y} b_{z} - a_{z} b_{y}\\right) + \\hat{j} \\left(- a_{x} b_{z} + a_{z} b_{x}\\right) + \\hat{k} \\left(a_{x} b_{y} - a_{y} b_{x}\\right)$"
      ],
      "text/plain": [
       "\\hat{i}*(a_y*b_z - a_z*b_y) + \\hat{j}*(-a_x*b_z + a_z*b_x) + \\hat{k}*(a_x*b_y - a_y*b_x)"
      ]
     },
     "execution_count": 134,
     "metadata": {},
     "output_type": "execute_result"
    }
   ],
   "source": [
    "# Usando sympy se obtiene \n",
    "\n",
    "ax, ay, az, bx, by, bz = sp.symbols(\"a_x a_y a_z b_x b_y b_z\")\n",
    "ig, jg, kg = sp.symbols(\"\\hat{i} \\hat{j} \\hat{k}\")\n",
    "\n",
    "AxB = sp.Matrix([\n",
    "                 [ig, jg, kg],\n",
    "                 [ax, ay, az],\n",
    "                 [bx, by, bz]\n",
    "                             ]).det()\n",
    "\n",
    "sp.collect(AxB, [ig, jg, kg])\n"
   ]
  },
  {
   "cell_type": "markdown",
   "id": "622a0863",
   "metadata": {},
   "source": [
    "De esta manera, $\\underline{A}$ x $\\underline{B}=\\underline{C}$, donde:\n",
    "\n",
    "$\\underline{C}=(c_x, c_y, c_z)$,\n",
    "\n",
    "$c_x=a_y.b_z - a_z.b_y$\\\n",
    "$c_y=-a_x.b_z + a_z.b_x$\\\n",
    "$c_z=a_x.b_y - a_y.b_x$"
   ]
  },
  {
   "cell_type": "markdown",
   "id": "6e8e8f90",
   "metadata": {},
   "source": [
    "Además, es últil la definición:\n",
    "\n",
    "$||\\underline{A}$ x $\\underline{B}||$ = $||\\underline{A}||$  $||\\underline{B}||$  $|sin(\\theta)|$\n"
   ]
  },
  {
   "cell_type": "markdown",
   "id": "48fd294d",
   "metadata": {},
   "source": [
    "**Pregunta de clase**\n",
    "\n",
    "¿Qué significa que $\\underline{A}$ x $\\underline{B}$ = $\\underline{0}$"
   ]
  },
  {
   "cell_type": "markdown",
   "id": "54e8e434",
   "metadata": {},
   "source": [
    "**Usando numpy**"
   ]
  },
  {
   "cell_type": "code",
   "execution_count": 135,
   "id": "203c5112",
   "metadata": {},
   "outputs": [],
   "source": [
    "# Se crean los vectores u1 y u2.\n",
    "u1 = np.array([7, -4, -1])\n",
    "u2 = np.array([3, -5,  2])\n"
   ]
  },
  {
   "cell_type": "code",
   "execution_count": 136,
   "id": "5efd155c",
   "metadata": {},
   "outputs": [
    {
     "data": {
      "text/plain": [
       "array([ 7, -4, -1])"
      ]
     },
     "execution_count": 136,
     "metadata": {},
     "output_type": "execute_result"
    }
   ],
   "source": [
    "u1  # Se visualiza el vector u1.\n"
   ]
  },
  {
   "cell_type": "code",
   "execution_count": 137,
   "id": "4ef867d3",
   "metadata": {
    "scrolled": true
   },
   "outputs": [
    {
     "data": {
      "text/plain": [
       "array([ 3, -5,  2])"
      ]
     },
     "execution_count": 137,
     "metadata": {},
     "output_type": "execute_result"
    }
   ],
   "source": [
    "u2  # Se visualiza el vector u2.\n"
   ]
  },
  {
   "cell_type": "code",
   "execution_count": 138,
   "id": "3d7c47ca",
   "metadata": {},
   "outputs": [
    {
     "data": {
      "text/plain": [
       "39"
      ]
     },
     "execution_count": 138,
     "metadata": {},
     "output_type": "execute_result"
    }
   ],
   "source": [
    "# El producto punto de u1 y u2.\n",
    "np.dot(u1, u2)\n"
   ]
  },
  {
   "cell_type": "markdown",
   "id": "78efd928",
   "metadata": {},
   "source": [
    "**Usando sympy**"
   ]
  },
  {
   "cell_type": "code",
   "execution_count": 139,
   "id": "4b8d683a",
   "metadata": {},
   "outputs": [],
   "source": [
    "# Se crean algunas variables simbólicas\n",
    "a1, a2, a3, b1, b2, b3 = sp.symbols(\"a_1 a_2 a_3 b_1 b_2 b_3\")\n",
    "\n",
    "# Se crean los vectores v1 y v2 con las variables simbólicas disponibles.\n",
    "v1 = sp.Matrix([a1, a2, a3])\n",
    "v2 = sp.Matrix([b1, b2, b3])\n"
   ]
  },
  {
   "cell_type": "code",
   "execution_count": 140,
   "id": "5ed82878",
   "metadata": {},
   "outputs": [
    {
     "data": {
      "text/latex": [
       "$\\displaystyle \\left[\\begin{matrix}a_{1}\\\\a_{2}\\\\a_{3}\\end{matrix}\\right]$"
      ],
      "text/plain": [
       "Matrix([\n",
       "[a_1],\n",
       "[a_2],\n",
       "[a_3]])"
      ]
     },
     "execution_count": 140,
     "metadata": {},
     "output_type": "execute_result"
    }
   ],
   "source": [
    "v1  # Se visualiza el vector v1.\n"
   ]
  },
  {
   "cell_type": "code",
   "execution_count": 141,
   "id": "35e35fd2",
   "metadata": {},
   "outputs": [
    {
     "data": {
      "text/latex": [
       "$\\displaystyle \\left[\\begin{matrix}b_{1}\\\\b_{2}\\\\b_{3}\\end{matrix}\\right]$"
      ],
      "text/plain": [
       "Matrix([\n",
       "[b_1],\n",
       "[b_2],\n",
       "[b_3]])"
      ]
     },
     "execution_count": 141,
     "metadata": {},
     "output_type": "execute_result"
    }
   ],
   "source": [
    "v2  # Se visualiza el vector v2.\n"
   ]
  },
  {
   "cell_type": "code",
   "execution_count": 142,
   "id": "1e97c78c",
   "metadata": {
    "scrolled": false
   },
   "outputs": [
    {
     "data": {
      "text/latex": [
       "$\\displaystyle a_{1} b_{1} + a_{2} b_{2} + a_{3} b_{3}$"
      ],
      "text/plain": [
       "a_1*b_1 + a_2*b_2 + a_3*b_3"
      ]
     },
     "execution_count": 142,
     "metadata": {},
     "output_type": "execute_result"
    }
   ],
   "source": [
    "# El producto punto de v1 y v2.\n",
    "v1.dot(v2)  # Es lo mismo que v2.dot(v1) \n"
   ]
  },
  {
   "cell_type": "code",
   "execution_count": 143,
   "id": "5d944d69",
   "metadata": {},
   "outputs": [
    {
     "data": {
      "text/latex": [
       "$\\displaystyle \\left[\\begin{matrix}a_{2} b_{3} - a_{3} b_{2}\\\\- a_{1} b_{3} + a_{3} b_{1}\\\\a_{1} b_{2} - a_{2} b_{1}\\end{matrix}\\right]$"
      ],
      "text/plain": [
       "Matrix([\n",
       "[ a_2*b_3 - a_3*b_2],\n",
       "[-a_1*b_3 + a_3*b_1],\n",
       "[ a_1*b_2 - a_2*b_1]])"
      ]
     },
     "execution_count": 143,
     "metadata": {},
     "output_type": "execute_result"
    }
   ],
   "source": [
    "# El producto cruz de v1 y v2.\n",
    "v3 = v1.cross(v2)\n",
    "\n",
    "v3  # Se imprime v3.\n"
   ]
  },
  {
   "cell_type": "code",
   "execution_count": 144,
   "id": "321a7588",
   "metadata": {},
   "outputs": [
    {
     "data": {
      "text/latex": [
       "$\\displaystyle a_{1} \\left(a_{2} b_{3} - a_{3} b_{2}\\right) + a_{2} \\left(- a_{1} b_{3} + a_{3} b_{1}\\right) + a_{3} \\left(a_{1} b_{2} - a_{2} b_{1}\\right)$"
      ],
      "text/plain": [
       "a_1*(a_2*b_3 - a_3*b_2) + a_2*(-a_1*b_3 + a_3*b_1) + a_3*(a_1*b_2 - a_2*b_1)"
      ]
     },
     "execution_count": 144,
     "metadata": {},
     "output_type": "execute_result"
    }
   ],
   "source": [
    "# El producto punto de v1 y v3.\n",
    "v1.dot(v3)  # Debería dar 0.\n"
   ]
  },
  {
   "cell_type": "code",
   "execution_count": 145,
   "id": "cf92feaf",
   "metadata": {},
   "outputs": [
    {
     "data": {
      "text/latex": [
       "$\\displaystyle 0$"
      ],
      "text/plain": [
       "0"
      ]
     },
     "execution_count": 145,
     "metadata": {},
     "output_type": "execute_result"
    }
   ],
   "source": [
    "sp.simplify(v1.dot(v3))  # Se usa el comando \"simplify\".\n"
   ]
  },
  {
   "cell_type": "code",
   "execution_count": 146,
   "id": "7b60dd9a",
   "metadata": {},
   "outputs": [
    {
     "data": {
      "text/latex": [
       "$\\displaystyle 0$"
      ],
      "text/plain": [
       "0"
      ]
     },
     "execution_count": 146,
     "metadata": {},
     "output_type": "execute_result"
    }
   ],
   "source": [
    "# El producto punto de v2 y v2.\n",
    "sp.simplify(v2.dot(v3))\n"
   ]
  },
  {
   "cell_type": "markdown",
   "id": "5345665e",
   "metadata": {},
   "source": [
    "**Resumen de conocimientos**\n",
    "- Formas de definir matrices\n",
    "- Modificación de elementos\n",
    "- Operaciones con matrices y vectores\n"
   ]
  },
  {
   "cell_type": "markdown",
   "id": "ff9f75c8",
   "metadata": {},
   "source": [
    "**Resumen de comandos usados**\n",
    "- print()\n",
    "- type()\n",
    "- len()\n",
    "- for \\_\\_ in \\_\\_ :\n",
    "- np.array()\n",
    "- \\_\\_.shape\n",
    "- np.ones()\n",
    "- np.zeros()\n",
    "- np.empty()\n",
    "- dtype\n",
    "- np.identitity()\n",
    "- np.eye()\n",
    "- sp.Array()\n",
    "- sp.Matrix()\n",
    "- sp.zeros()\n",
    "- sp.ones()\n",
    "- sp.eye()\n",
    "- sp.diag()\n",
    "- \\_\\_, \\_\\_ = sp.symbols('\\_\\_ \\_\\_')\n",
    "- np.linalg.det()\n",
    "- np.linalg.inv()\n",
    "- \\_\\_.det()\n",
    "- \\_\\_.inv()\n",
    "- \\_\\_.T\n",
    "- sp.collect()\n",
    "- np.dot(\\_\\_, \\_\\_)\n",
    "- \\_\\_.dot(\\_\\_)\n",
    "- \\_\\_.cross(\\_\\_ )"
   ]
  }
 ],
 "metadata": {
  "kernelspec": {
   "display_name": "Python 3",
   "language": "python",
   "name": "python3"
  },
  "language_info": {
   "codemirror_mode": {
    "name": "ipython",
    "version": 3
   },
   "file_extension": ".py",
   "mimetype": "text/x-python",
   "name": "python",
   "nbconvert_exporter": "python",
   "pygments_lexer": "ipython3",
   "version": "3.8.8"
  }
 },
 "nbformat": 4,
 "nbformat_minor": 5
}
