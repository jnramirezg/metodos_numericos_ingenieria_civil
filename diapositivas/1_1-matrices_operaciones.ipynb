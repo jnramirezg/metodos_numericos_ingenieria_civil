{
 "cells": [
  {
   "cell_type": "markdown",
   "id": "da1c06c8",
   "metadata": {},
   "source": [
    "# Unidad 1: Sistemas de ecuaciones lineales\n",
    "\n",
    "Un sistema de ecuaciones algebraicas lineales tiene la forma general:\n",
    "\\\n",
    "\\\n",
    "$a_{11}x_{1}+a_{12}x_{2}+...+a_{1n}x_{n}=b_{1}$\\\n",
    "$a_{21}x_{1}+a_{22}x_{2}+...+a_{2n}x_{n}=b_{2}$\\\n",
    ".\\\n",
    ".\\\n",
    ".\\\n",
    "$a_{n}x_{1}+a_{n2}x_{2}+...+a_{nn}x_{n}=b_{n}$\n",
    "\n",
    "siendo $a$ coeficientes constantes, $b$ las constantes, $n$ el número de ecuaciones y $x$ las incógnitas.\n",
    "\n",
    "Sistemáticamente se usa la notación matricial para facilitar su resolución, de la siguiente manera:\\\n",
    "\\\n",
    "$\\underline{\\underline{A}}=$\n",
    "$\\begin{bmatrix}\n",
    "a_{11} & a_{12} & ... & a_{1n}\\\\\n",
    "a_{21} & a_{22} & ... & a_{2n}\\\\\n",
    "\\vdots & \\vdots & ... & \\vdots\\\\\n",
    "a_{n1} & a_{n2} & ... & a_{nn}\n",
    "\\end{bmatrix}$\n",
    "\n",
    "donde cada elemento $a_{ij}$ representa un elemento de la matriz (los coeficientes constantes).\n",
    "\n",
    " **Nota:** De aquí en adelante se usará la siguiente nomenclatura.\n",
    " \n",
    " $\\underline{\\underline{M}}:$ matrices\\\n",
    " $\\underline{V}:$ vectores filas y vectores columnas\\\n",
    " $E:$ constantes y escalares\n",
    " \n",
    " Las incognitas $x_{j}$ se representan en el vector columna:\n",
    " \n",
    "$\\underline{X}=$\n",
    "$\\begin{bmatrix}\n",
    "x_{1}  \\\\\n",
    "x_{2}  \\\\\n",
    "\\vdots \\\\\n",
    "x_{n} \n",
    "\\end{bmatrix}$\n",
    "\n",
    "Y las constante $b_{i}$ con el vector columna:\n",
    "\n",
    "$\\underline{B}=$\n",
    "$\\begin{bmatrix}\n",
    "b_{1}  \\\\\n",
    "b_{2}  \\\\\n",
    "\\vdots \\\\\n",
    "b_{n} \n",
    "\\end{bmatrix}$\n",
    "\n",
    "Que en sintésis es:\n",
    "$\\underline{\\underline{A}}$  $\\underline{X}=\\underline{B}$\n",
    "\n",
    "Por lo tanto, el objetivo es despejar el vector $\\underline{X}$\n",
    "\n",
    "\n"
   ]
  },
  {
   "cell_type": "markdown",
   "id": "589e8f0e",
   "metadata": {},
   "source": [
    "## Formas de definir matrices\n",
    "\n",
    "1. Lista de listas\n",
    "2. Arreglos en numpy\n",
    "3. Matrices en sympy"
   ]
  },
  {
   "cell_type": "markdown",
   "id": "01baea43",
   "metadata": {},
   "source": [
    "### 1. Lista de listas"
   ]
  },
  {
   "cell_type": "code",
   "execution_count": 1,
   "id": "07b37560",
   "metadata": {},
   "outputs": [
    {
     "name": "stdout",
     "output_type": "stream",
     "text": [
      "[[5, 1, 2], [7, 3, 7], [4, 7, 8]]\n"
     ]
    }
   ],
   "source": [
    "# Mediante una lista de listas\n",
    "A = [\n",
    "     [5, 1, 2],\n",
    "     [7, 3, 7],\n",
    "     [4, 7, 8],\n",
    "               ]\n",
    "\n",
    "print(A)\n"
   ]
  },
  {
   "cell_type": "code",
   "execution_count": 2,
   "id": "0a5527e5",
   "metadata": {},
   "outputs": [
    {
     "data": {
      "text/plain": [
       "list"
      ]
     },
     "execution_count": 2,
     "metadata": {},
     "output_type": "execute_result"
    }
   ],
   "source": [
    "# Tipo de dato\n",
    "type(A)\n"
   ]
  },
  {
   "cell_type": "code",
   "execution_count": 3,
   "id": "3f96951e",
   "metadata": {},
   "outputs": [
    {
     "name": "stdout",
     "output_type": "stream",
     "text": [
      "El número de filas es:\n",
      "3\n",
      "El número de columnas es:\n",
      "3\n"
     ]
    }
   ],
   "source": [
    "# Tamaño de la matriz\n",
    "m = len(A)    # Número de filas de la matriz, o tamaño de la lista A.\n",
    "n = len(A[0]) # Número de columnas de la matriz, o tamaño de la primera lista interna de A.\n",
    "\n",
    "print('El número de filas es:')\n",
    "print(m)\n",
    "print('El número de columnas es:')\n",
    "print(n)\n"
   ]
  },
  {
   "cell_type": "code",
   "execution_count": 4,
   "id": "7ef9fa7c",
   "metadata": {},
   "outputs": [
    {
     "name": "stdout",
     "output_type": "stream",
     "text": [
      "\n",
      "El elemento de la fila 1 y la columna 1 es:\n",
      "5\n",
      "\n",
      "El elemento de la fila 3 y la columna 3 es:\n",
      "8\n",
      "\n",
      "El elemento de la fila 2 y la columna 3 es::\n",
      "7\n"
     ]
    }
   ],
   "source": [
    "# Llamado de un elemento\n",
    "a00 = A[0][0]\n",
    "a22 = A[2][2]\n",
    "a12 = A[1][2]\n",
    "\n",
    "# Impresión de resultados.\n",
    "print('\\nEl elemento de la fila 1 y la columna 1 es:')\n",
    "print(a00)\n",
    "print('\\nEl elemento de la fila 3 y la columna 3 es:')\n",
    "print(a22)\n",
    "print('\\nEl elemento de la fila 2 y la columna 3 es::')\n",
    "print(a12)\n"
   ]
  },
  {
   "cell_type": "code",
   "execution_count": 5,
   "id": "80b382ee",
   "metadata": {},
   "outputs": [
    {
     "name": "stdout",
     "output_type": "stream",
     "text": [
      "\n",
      "La primera fila es:\n",
      "[5, 1, 2]\n",
      "\n",
      "La tercera fila es:\n",
      "[4, 7, 8]\n"
     ]
    }
   ],
   "source": [
    "# Llamado de filas\n",
    "f0 = A[0] # Se llama la primera fila. En Matlab es con 1, acá es con 0.\n",
    "f2 = A[2] # Se llama la tercera fila.\n",
    "\n",
    "# Impresión de resultados.\n",
    "print('\\nLa primera fila es:')  # El comando \\n es usado dejar un espacio.\n",
    "print(f0)\n",
    "print('\\nLa tercera fila es:')\n",
    "print(f2)\n"
   ]
  },
  {
   "cell_type": "code",
   "execution_count": 6,
   "id": "63278a30",
   "metadata": {
    "scrolled": true
   },
   "outputs": [
    {
     "name": "stdout",
     "output_type": "stream",
     "text": [
      "\n",
      "La primera columna es:\n",
      "[5, 7, 4]\n"
     ]
    }
   ],
   "source": [
    "# Llamado de columnas\n",
    "c0 = []\n",
    "for i in range(len(A)):\n",
    "    c0 += [A[i][0]]\n",
    "\n",
    "print('\\nLa primera columna es:')\n",
    "print(c0)\n"
   ]
  },
  {
   "cell_type": "markdown",
   "id": "1aa9946f",
   "metadata": {},
   "source": [
    "### 2. Arreglo en numpy"
   ]
  },
  {
   "cell_type": "code",
   "execution_count": 7,
   "id": "ae57862b",
   "metadata": {},
   "outputs": [],
   "source": [
    "# Mediante el módulo numpy con arrays (arreglos)\n",
    "\n",
    "# Importar la librería\n",
    "import numpy as np\n",
    "\n",
    "# Definición explícita\n",
    "B = np.array([\n",
    "              [3, 1, 9],\n",
    "              [2, 4, 1],\n",
    "                       ])\n",
    "\n",
    "# Definición directa con una variable previamente guardada\n",
    "C = [\n",
    "     [3, 1, 9],\n",
    "     [2, 4, 1],\n",
    "              ]\n",
    "\n",
    "D = np.array(C)\n"
   ]
  },
  {
   "cell_type": "code",
   "execution_count": 8,
   "id": "d594ff37",
   "metadata": {},
   "outputs": [
    {
     "name": "stdout",
     "output_type": "stream",
     "text": [
      "\n",
      " La matriz B es:\n",
      "[[3 1 9]\n",
      " [2 4 1]]\n",
      "\n",
      " La matriz D es:\n",
      "[[3 1 9]\n",
      " [2 4 1]]\n"
     ]
    }
   ],
   "source": [
    "# Impresión de resultados\n",
    "print('\\n La matriz B es:')  \n",
    "print(B)\n",
    "\n",
    "print('\\n La matriz D es:')\n",
    "print(D)\n"
   ]
  },
  {
   "cell_type": "code",
   "execution_count": 9,
   "id": "52a1e866",
   "metadata": {},
   "outputs": [
    {
     "data": {
      "text/plain": [
       "numpy.ndarray"
      ]
     },
     "execution_count": 9,
     "metadata": {},
     "output_type": "execute_result"
    }
   ],
   "source": [
    "# Tipo de dato\n",
    "type(B)\n"
   ]
  },
  {
   "cell_type": "code",
   "execution_count": 10,
   "id": "816641b0",
   "metadata": {},
   "outputs": [
    {
     "name": "stdout",
     "output_type": "stream",
     "text": [
      "(2, 3)\n"
     ]
    }
   ],
   "source": [
    "# Tamaño de la matriz\n",
    "dim_B = B.shape\n",
    "print(dim_B)  # Imprime el tamaño del arreglo B.\n"
   ]
  },
  {
   "cell_type": "code",
   "execution_count": 11,
   "id": "3561cb18",
   "metadata": {},
   "outputs": [
    {
     "data": {
      "text/plain": [
       "tuple"
      ]
     },
     "execution_count": 11,
     "metadata": {},
     "output_type": "execute_result"
    }
   ],
   "source": [
    "# Tipo de dato\n",
    "type(dim_B)\n"
   ]
  },
  {
   "cell_type": "code",
   "execution_count": 12,
   "id": "79de5c76",
   "metadata": {},
   "outputs": [],
   "source": [
    "# Definiendo número de filas y columnas.\n",
    "m = dim_B[0]\n",
    "n = dim_B[1]\n"
   ]
  },
  {
   "cell_type": "code",
   "execution_count": 13,
   "id": "1e172a91",
   "metadata": {},
   "outputs": [
    {
     "name": "stdout",
     "output_type": "stream",
     "text": [
      "El número de filas es:\n",
      "2\n",
      "El número de columnas es:\n",
      "3\n"
     ]
    }
   ],
   "source": [
    "# Impresión de resultados\n",
    "print('El número de filas es:')\n",
    "print(m)\n",
    "print('El número de columnas es:')\n",
    "print(n)\n"
   ]
  },
  {
   "cell_type": "code",
   "execution_count": 14,
   "id": "0d7f5576",
   "metadata": {},
   "outputs": [],
   "source": [
    "#print(A.shape)  # Genera error.\n"
   ]
  },
  {
   "cell_type": "markdown",
   "id": "30c148aa",
   "metadata": {},
   "source": [
    "Otras formas de definir arreglos:"
   ]
  },
  {
   "cell_type": "code",
   "execution_count": 15,
   "id": "c8e1b3b6",
   "metadata": {},
   "outputs": [
    {
     "name": "stdout",
     "output_type": "stream",
     "text": [
      "[[1. 1. 1. 1. 1.]\n",
      " [1. 1. 1. 1. 1.]\n",
      " [1. 1. 1. 1. 1.]\n",
      " [1. 1. 1. 1. 1.]]\n",
      "\n",
      "Con elementos de tipo:\n",
      "<class 'numpy.float64'>\n"
     ]
    }
   ],
   "source": [
    "# Arreglo de unos\n",
    "E = np.ones((4, 5))\n",
    "\n",
    "print(E)\n",
    "print(\"\\nCon elementos de tipo:\")\n",
    "print(type(E[0][0]))\n"
   ]
  },
  {
   "cell_type": "code",
   "execution_count": 16,
   "id": "b25be817",
   "metadata": {},
   "outputs": [
    {
     "name": "stdout",
     "output_type": "stream",
     "text": [
      "[[0. 0.]\n",
      " [0. 0.]\n",
      " [0. 0.]]\n",
      "\n",
      "Con elementos de tipo:\n",
      "<class 'numpy.float64'>\n"
     ]
    }
   ],
   "source": [
    "# Arreglo de ceros\n",
    "F = np.zeros((3, 2))\n",
    "\n",
    "print(F)\n",
    "print(\"\\nCon elementos de tipo:\")\n",
    "print(type(F[0][0]))\n"
   ]
  },
  {
   "cell_type": "code",
   "execution_count": 17,
   "id": "df0a3d5a",
   "metadata": {},
   "outputs": [
    {
     "name": "stdout",
     "output_type": "stream",
     "text": [
      "[[0. 0. 0.]\n",
      " [0. 0. 0.]]\n",
      "\n",
      "Con elementos de tipo:\n",
      "<class 'numpy.float64'>\n"
     ]
    }
   ],
   "source": [
    "# Matriz vacía rellena con los valores residuales de la memoria.\n",
    "G = np.empty((2, 3)) \n",
    "\n",
    "print(G)\n",
    "print(\"\\nCon elementos de tipo:\")\n",
    "print(type(G[0][0]))\n"
   ]
  },
  {
   "cell_type": "code",
   "execution_count": 18,
   "id": "705b18c0",
   "metadata": {
    "scrolled": false
   },
   "outputs": [
    {
     "name": "stdout",
     "output_type": "stream",
     "text": [
      "[[0 0 0]\n",
      " [0 0 0]\n",
      " [0 0 0]]\n",
      "\n",
      "Con elementos de tipo:\n",
      "<class 'numpy.int32'>\n"
     ]
    }
   ],
   "source": [
    "# De forma opcional se puede definir el tipo de dato que tendrá el arreglo.\n",
    "H = np.zeros((3, 3), dtype=int)  # dytpe tiene muchísimas posibilidades.\n",
    "\n",
    "print(H)\n",
    "print(\"\\nCon elementos de tipo:\")\n",
    "print(type(H[0][0]))\n"
   ]
  },
  {
   "cell_type": "code",
   "execution_count": 19,
   "id": "5cbea8f7",
   "metadata": {
    "scrolled": true
   },
   "outputs": [
    {
     "data": {
      "text/plain": [
       "array([[1., 0., 0., 0., 0.],\n",
       "       [0., 1., 0., 0., 0.],\n",
       "       [0., 0., 1., 0., 0.],\n",
       "       [0., 0., 0., 1., 0.],\n",
       "       [0., 0., 0., 0., 1.]])"
      ]
     },
     "execution_count": 19,
     "metadata": {},
     "output_type": "execute_result"
    }
   ],
   "source": [
    "# Matriz identidad para matrices cuadradas\n",
    "np.identity(5)\n"
   ]
  },
  {
   "cell_type": "code",
   "execution_count": 20,
   "id": "38b65cd1",
   "metadata": {},
   "outputs": [
    {
     "data": {
      "text/plain": [
       "array([[1., 0., 0.],\n",
       "       [0., 1., 0.],\n",
       "       [0., 0., 1.],\n",
       "       [0., 0., 0.]])"
      ]
     },
     "execution_count": 20,
     "metadata": {},
     "output_type": "execute_result"
    }
   ],
   "source": [
    "# Matriz identidad en un caso más general mxn\n",
    "np.eye(4,3)\n"
   ]
  },
  {
   "cell_type": "markdown",
   "id": "f32ce1b6",
   "metadata": {},
   "source": [
    "Llamado de elementos, filas y columnas."
   ]
  },
  {
   "cell_type": "code",
   "execution_count": 21,
   "id": "c328b139",
   "metadata": {
    "scrolled": true
   },
   "outputs": [
    {
     "name": "stdout",
     "output_type": "stream",
     "text": [
      "[[3 1 9]\n",
      " [2 4 1]]\n"
     ]
    }
   ],
   "source": [
    "print(B) # Previamente fue definida la matriz B.\n"
   ]
  },
  {
   "cell_type": "code",
   "execution_count": 22,
   "id": "755d1e01",
   "metadata": {},
   "outputs": [
    {
     "name": "stdout",
     "output_type": "stream",
     "text": [
      "El elemento b12 es: 1\n"
     ]
    }
   ],
   "source": [
    "# Llamado de un elemento\n",
    "b12 = B[1][2] # En la numeración natural sería el elemento de la fila 2 y la columna 3.\n",
    "\n",
    "print(f'El elemento b12 es: {b12}')  # Nótese el uso de la f y de {}.\n"
   ]
  },
  {
   "cell_type": "code",
   "execution_count": 23,
   "id": "dbdb755b",
   "metadata": {},
   "outputs": [
    {
     "name": "stdout",
     "output_type": "stream",
     "text": [
      "El elemento b12 es: 1\n"
     ]
    }
   ],
   "source": [
    "# Alternativamente, se usa así:\n",
    "b12 = B[1, 2]\n",
    "\n",
    "print(f'El elemento b12 es: {b12}')\n"
   ]
  },
  {
   "cell_type": "code",
   "execution_count": 24,
   "id": "02238da4",
   "metadata": {},
   "outputs": [
    {
     "name": "stdout",
     "output_type": "stream",
     "text": [
      "La segunda fila es: [3 1 9]\n"
     ]
    }
   ],
   "source": [
    "# Llamado de una fila\n",
    "f1 = B[0] # Se llama la segunda fila.\n",
    "\n",
    "print(f'La segunda fila es: {f1}')\n"
   ]
  },
  {
   "cell_type": "code",
   "execution_count": 25,
   "id": "50e653dd",
   "metadata": {
    "scrolled": false
   },
   "outputs": [],
   "source": [
    "#f2 = B[2] # Se llama la tercera fila. Como no existe: genera error.\n"
   ]
  },
  {
   "cell_type": "code",
   "execution_count": 26,
   "id": "9f770a94",
   "metadata": {},
   "outputs": [
    {
     "name": "stdout",
     "output_type": "stream",
     "text": [
      "La segunda columna es: [1 4]\n"
     ]
    }
   ],
   "source": [
    "# Llamado de columnas\n",
    "c1 = B[:, 1]\n",
    "       \n",
    "print(f'La segunda columna es: {c1}')\n"
   ]
  },
  {
   "cell_type": "code",
   "execution_count": 27,
   "id": "ec9b08b6",
   "metadata": {},
   "outputs": [
    {
     "name": "stdout",
     "output_type": "stream",
     "text": [
      "La matriz C es: \n",
      "[[ 0  1  2  3]\n",
      " [ 4  5  6  7]\n",
      " [ 8  9 10 11]\n",
      " [12 13 14 15]]\n"
     ]
    }
   ],
   "source": [
    "# Se define una matriz C, nuevamente con\n",
    "C = np.array([\n",
    "              [ 0,  1,  2,  3],\n",
    "              [ 4,  5,  6,  7],\n",
    "              [ 8,  9, 10, 11],\n",
    "              [12, 13, 14, 15],  # Nótese que esta ',' del final no genera ningún error.\n",
    "                              ])\n",
    "\n",
    "print(f'La matriz C es: \\n{C}')\n"
   ]
  },
  {
   "cell_type": "markdown",
   "id": "043a64ba",
   "metadata": {},
   "source": [
    "Llamado de más de una fila o de una columna:"
   ]
  },
  {
   "cell_type": "code",
   "execution_count": 28,
   "id": "92e16050",
   "metadata": {},
   "outputs": [
    {
     "data": {
      "text/plain": [
       "array([[ 4,  5,  6,  7],\n",
       "       [ 8,  9, 10, 11],\n",
       "       [12, 13, 14, 15]])"
      ]
     },
     "execution_count": 28,
     "metadata": {},
     "output_type": "execute_result"
    }
   ],
   "source": [
    "C[1:]\n"
   ]
  },
  {
   "cell_type": "code",
   "execution_count": 29,
   "id": "e689ae13",
   "metadata": {},
   "outputs": [
    {
     "data": {
      "text/plain": [
       "array([[0, 1, 2, 3],\n",
       "       [4, 5, 6, 7]])"
      ]
     },
     "execution_count": 29,
     "metadata": {},
     "output_type": "execute_result"
    }
   ],
   "source": [
    "C[:2]\n"
   ]
  },
  {
   "cell_type": "code",
   "execution_count": 30,
   "id": "b53e044d",
   "metadata": {},
   "outputs": [
    {
     "data": {
      "text/plain": [
       "array([[ 0,  1],\n",
       "       [ 4,  5],\n",
       "       [ 8,  9],\n",
       "       [12, 13]])"
      ]
     },
     "execution_count": 30,
     "metadata": {},
     "output_type": "execute_result"
    }
   ],
   "source": [
    "C[:, :2]\n"
   ]
  },
  {
   "cell_type": "code",
   "execution_count": 31,
   "id": "d0c08dcd",
   "metadata": {
    "scrolled": true
   },
   "outputs": [
    {
     "data": {
      "text/plain": [
       "array([[ 4,  5],\n",
       "       [ 8,  9],\n",
       "       [12, 13]])"
      ]
     },
     "execution_count": 31,
     "metadata": {},
     "output_type": "execute_result"
    }
   ],
   "source": [
    "C[1:, :2]\n"
   ]
  },
  {
   "cell_type": "code",
   "execution_count": 32,
   "id": "85f8ded8",
   "metadata": {},
   "outputs": [
    {
     "data": {
      "text/plain": [
       "array([[ 5,  6],\n",
       "       [ 9, 10]])"
      ]
     },
     "execution_count": 32,
     "metadata": {},
     "output_type": "execute_result"
    }
   ],
   "source": [
    "C[1:3, 1:3]\n"
   ]
  },
  {
   "cell_type": "markdown",
   "id": "daec7df4",
   "metadata": {},
   "source": [
    "### 3. Matrices en sympy"
   ]
  },
  {
   "cell_type": "code",
   "execution_count": 33,
   "id": "97d71764",
   "metadata": {},
   "outputs": [],
   "source": [
    "# Mediante el módulo sympy con \"Array\" y con \"Matrix\".\n",
    "\n",
    "# Importar la librería\n",
    "import sympy as sp\n",
    "\n",
    "# Definición con 'Array', no se recomienda usar pues es inmutable.\n",
    "J = sp.Array([\n",
    "              [ 8,  1,  9],\n",
    "              [-1,  4, -2],\n",
    "              [ 2, -4,  1],\n",
    "                          ])\n"
   ]
  },
  {
   "cell_type": "code",
   "execution_count": 34,
   "id": "1b5cac06",
   "metadata": {},
   "outputs": [
    {
     "name": "stdout",
     "output_type": "stream",
     "text": [
      "La matriz J es:\n"
     ]
    },
    {
     "data": {
      "text/latex": [
       "$\\displaystyle \\left[\\begin{matrix}8 & 1 & 9\\\\-1 & 4 & -2\\\\2 & -4 & 1\\end{matrix}\\right]$"
      ],
      "text/plain": [
       "[[8, 1, 9], [-1, 4, -2], [2, -4, 1]]"
      ]
     },
     "execution_count": 34,
     "metadata": {},
     "output_type": "execute_result"
    }
   ],
   "source": [
    "# Impresión de resultados\n",
    "print('La matriz J es:')  \n",
    "J  # Acá no se pone el comando 'print' para que genere un 'Out', y en sympy se hace con LaTeX.\n"
   ]
  },
  {
   "cell_type": "code",
   "execution_count": 35,
   "id": "d161cf32",
   "metadata": {},
   "outputs": [
    {
     "data": {
      "text/plain": [
       "sympy.tensor.array.dense_ndim_array.ImmutableDenseNDimArray"
      ]
     },
     "execution_count": 35,
     "metadata": {},
     "output_type": "execute_result"
    }
   ],
   "source": [
    "# Tipo de dato\n",
    "type(J)\n"
   ]
  },
  {
   "cell_type": "code",
   "execution_count": 36,
   "id": "a90967ba",
   "metadata": {},
   "outputs": [],
   "source": [
    "# Definición con \"Matrix\"\n",
    "K = sp.Matrix([\n",
    "               [-1,  1,  9],\n",
    "               [ 4,  4, -2],\n",
    "               [ 2,  0, -1],\n",
    "                           ])\n"
   ]
  },
  {
   "cell_type": "code",
   "execution_count": 37,
   "id": "e8316d78",
   "metadata": {},
   "outputs": [
    {
     "name": "stdout",
     "output_type": "stream",
     "text": [
      "La matriz K es:\n"
     ]
    },
    {
     "data": {
      "text/latex": [
       "$\\displaystyle \\left[\\begin{matrix}-1 & 1 & 9\\\\4 & 4 & -2\\\\2 & 0 & -1\\end{matrix}\\right]$"
      ],
      "text/plain": [
       "Matrix([\n",
       "[-1, 1,  9],\n",
       "[ 4, 4, -2],\n",
       "[ 2, 0, -1]])"
      ]
     },
     "execution_count": 37,
     "metadata": {},
     "output_type": "execute_result"
    }
   ],
   "source": [
    "# Impresión de resultados\n",
    "print('La matriz K es:')  \n",
    "K\n"
   ]
  },
  {
   "cell_type": "code",
   "execution_count": 38,
   "id": "8d1d9a0b",
   "metadata": {},
   "outputs": [
    {
     "data": {
      "text/plain": [
       "sympy.matrices.dense.MutableDenseMatrix"
      ]
     },
     "execution_count": 38,
     "metadata": {},
     "output_type": "execute_result"
    }
   ],
   "source": [
    "# Tipo de dato\n",
    "type(K)\n"
   ]
  },
  {
   "cell_type": "code",
   "execution_count": 39,
   "id": "013d4b73",
   "metadata": {},
   "outputs": [
    {
     "name": "stdout",
     "output_type": "stream",
     "text": [
      "(3, 3)\n"
     ]
    }
   ],
   "source": [
    "# Tamaño de la matriz\n",
    "dim_K = K.shape  # Nótese que es el mismo comando en numpy y en sympy\n",
    "print(dim_K)     # Imprime el tamaño del arreglo K\n"
   ]
  },
  {
   "cell_type": "code",
   "execution_count": 40,
   "id": "a276ca7c",
   "metadata": {
    "scrolled": true
   },
   "outputs": [
    {
     "data": {
      "text/plain": [
       "tuple"
      ]
     },
     "execution_count": 40,
     "metadata": {},
     "output_type": "execute_result"
    }
   ],
   "source": [
    "# Tipo de dato\n",
    "type(dim_K)\n"
   ]
  },
  {
   "cell_type": "markdown",
   "id": "43afd6ea",
   "metadata": {},
   "source": [
    "Formas específicas de arreglos:\n",
    "\n",
    "Se recomienda revisar en detalle la documentación de sympy en: https://docs.sympy.org/latest/tutorial/matrices.html"
   ]
  },
  {
   "cell_type": "code",
   "execution_count": 41,
   "id": "af4b0819",
   "metadata": {
    "scrolled": false
   },
   "outputs": [
    {
     "data": {
      "text/latex": [
       "$\\displaystyle \\left[\\begin{matrix}0 & 0\\\\0 & 0\\end{matrix}\\right]$"
      ],
      "text/plain": [
       "Matrix([\n",
       "[0, 0],\n",
       "[0, 0]])"
      ]
     },
     "execution_count": 41,
     "metadata": {},
     "output_type": "execute_result"
    }
   ],
   "source": [
    "# Matriz de ceros.\n",
    "sp.zeros(2)\n"
   ]
  },
  {
   "cell_type": "code",
   "execution_count": 42,
   "id": "181b71cf",
   "metadata": {
    "scrolled": true
   },
   "outputs": [
    {
     "data": {
      "text/latex": [
       "$\\displaystyle \\left[\\begin{matrix}0 & 0\\\\0 & 0\\\\0 & 0\\end{matrix}\\right]$"
      ],
      "text/plain": [
       "Matrix([\n",
       "[0, 0],\n",
       "[0, 0],\n",
       "[0, 0]])"
      ]
     },
     "execution_count": 42,
     "metadata": {},
     "output_type": "execute_result"
    }
   ],
   "source": [
    "sp.zeros(3, 2)\n"
   ]
  },
  {
   "cell_type": "code",
   "execution_count": 43,
   "id": "9fb29f66",
   "metadata": {
    "scrolled": true
   },
   "outputs": [
    {
     "data": {
      "text/latex": [
       "$\\displaystyle \\left[\\begin{matrix}1 & 1 & 1\\\\1 & 1 & 1\\\\1 & 1 & 1\\end{matrix}\\right]$"
      ],
      "text/plain": [
       "Matrix([\n",
       "[1, 1, 1],\n",
       "[1, 1, 1],\n",
       "[1, 1, 1]])"
      ]
     },
     "execution_count": 43,
     "metadata": {},
     "output_type": "execute_result"
    }
   ],
   "source": [
    "# Matriz de unos.\n",
    "sp.ones(3)\n"
   ]
  },
  {
   "cell_type": "code",
   "execution_count": 44,
   "id": "e12cb05f",
   "metadata": {},
   "outputs": [
    {
     "data": {
      "text/latex": [
       "$\\displaystyle \\left[\\begin{matrix}1 & 0 & 0\\\\0 & 1 & 0\\\\0 & 0 & 1\\end{matrix}\\right]$"
      ],
      "text/plain": [
       "Matrix([\n",
       "[1, 0, 0],\n",
       "[0, 1, 0],\n",
       "[0, 0, 1]])"
      ]
     },
     "execution_count": 44,
     "metadata": {},
     "output_type": "execute_result"
    }
   ],
   "source": [
    "# Matriz identidad\n",
    "sp.eye(3)\n"
   ]
  },
  {
   "cell_type": "code",
   "execution_count": 45,
   "id": "9a777991",
   "metadata": {},
   "outputs": [
    {
     "data": {
      "text/latex": [
       "$\\displaystyle \\left[\\begin{matrix}1 & 0 & 0\\\\0 & 2 & 0\\\\0 & 0 & 3\\end{matrix}\\right]$"
      ],
      "text/plain": [
       "Matrix([\n",
       "[1, 0, 0],\n",
       "[0, 2, 0],\n",
       "[0, 0, 3]])"
      ]
     },
     "execution_count": 45,
     "metadata": {},
     "output_type": "execute_result"
    }
   ],
   "source": [
    "# Matriz diagonal\n",
    "sp.diag(1, 2, 3)\n"
   ]
  },
  {
   "cell_type": "markdown",
   "id": "baae015e",
   "metadata": {},
   "source": [
    "Llamado de elementos, filas y columnas."
   ]
  },
  {
   "cell_type": "code",
   "execution_count": 46,
   "id": "18f016ca",
   "metadata": {},
   "outputs": [
    {
     "data": {
      "text/latex": [
       "$\\displaystyle \\left[\\begin{matrix}-1 & 1 & 9\\\\4 & 4 & -2\\\\2 & 0 & -1\\end{matrix}\\right]$"
      ],
      "text/plain": [
       "Matrix([\n",
       "[-1, 1,  9],\n",
       "[ 4, 4, -2],\n",
       "[ 2, 0, -1]])"
      ]
     },
     "execution_count": 46,
     "metadata": {},
     "output_type": "execute_result"
    }
   ],
   "source": [
    "K # Previamente fue definida la matriz K.\n"
   ]
  },
  {
   "cell_type": "code",
   "execution_count": 47,
   "id": "8999b561",
   "metadata": {},
   "outputs": [
    {
     "data": {
      "text/plain": [
       "9"
      ]
     },
     "execution_count": 47,
     "metadata": {},
     "output_type": "execute_result"
    }
   ],
   "source": [
    "# Teniendo en cuenta la longitud de matriz, es decir, la cantidad de elementos.\n",
    "len(K)  # Nótese que aquí sí se puede usar el comando \"len()\" a diferencia de numpy.\n"
   ]
  },
  {
   "cell_type": "code",
   "execution_count": 48,
   "id": "9e7e59e2",
   "metadata": {},
   "outputs": [
    {
     "data": {
      "text/latex": [
       "$\\displaystyle -1$"
      ],
      "text/plain": [
       "-1"
      ]
     },
     "execution_count": 48,
     "metadata": {},
     "output_type": "execute_result"
    }
   ],
   "source": [
    "# Se puede llamar a cualquiera de los elementos de la matriz en un ordenamiento que recorre fila por fila.\n",
    "K[0]\n"
   ]
  },
  {
   "cell_type": "code",
   "execution_count": 49,
   "id": "2eb3cb9d",
   "metadata": {
    "scrolled": true
   },
   "outputs": [
    {
     "data": {
      "text/latex": [
       "$\\displaystyle -1$"
      ],
      "text/plain": [
       "-1"
      ]
     },
     "execution_count": 49,
     "metadata": {},
     "output_type": "execute_result"
    }
   ],
   "source": [
    "K[-1]  # Llamado del último elemento, que es lo mismo que llamar K[8]\n"
   ]
  },
  {
   "cell_type": "code",
   "execution_count": 50,
   "id": "bee2a9df",
   "metadata": {},
   "outputs": [
    {
     "data": {
      "text/latex": [
       "$\\displaystyle 4$"
      ],
      "text/plain": [
       "4"
      ]
     },
     "execution_count": 50,
     "metadata": {},
     "output_type": "execute_result"
    }
   ],
   "source": [
    "# Pero el llamado básico se hace de la misma manera que numpy\n",
    "K[1, 1]  # No funciona poner K[1][1], genera error.\n"
   ]
  },
  {
   "cell_type": "code",
   "execution_count": 51,
   "id": "ae454c2d",
   "metadata": {},
   "outputs": [
    {
     "data": {
      "text/latex": [
       "$\\displaystyle \\left[\\begin{matrix}4 & 4 & -2\\end{matrix}\\right]$"
      ],
      "text/plain": [
       "Matrix([[4, 4, -2]])"
      ]
     },
     "execution_count": 51,
     "metadata": {},
     "output_type": "execute_result"
    }
   ],
   "source": [
    "# Llamado de filas\n",
    "K.row(1)  # LLamado de la segunda fila\n"
   ]
  },
  {
   "cell_type": "code",
   "execution_count": 52,
   "id": "a38df803",
   "metadata": {},
   "outputs": [
    {
     "data": {
      "text/latex": [
       "$\\displaystyle \\left[\\begin{matrix}9\\\\-2\\\\-1\\end{matrix}\\right]$"
      ],
      "text/plain": [
       "Matrix([\n",
       "[ 9],\n",
       "[-2],\n",
       "[-1]])"
      ]
     },
     "execution_count": 52,
     "metadata": {},
     "output_type": "execute_result"
    }
   ],
   "source": [
    "# Llamado de columnas\n",
    "K.col(2)\n"
   ]
  },
  {
   "cell_type": "markdown",
   "id": "605d4877",
   "metadata": {},
   "source": [
    "# Modificación de elementos\n",
    "\n",
    "Cambiar algún elemento de la matriz"
   ]
  },
  {
   "cell_type": "markdown",
   "id": "7ad84d10",
   "metadata": {},
   "source": [
    "### 1. En una lista de listas"
   ]
  },
  {
   "cell_type": "code",
   "execution_count": 53,
   "id": "205d578a",
   "metadata": {},
   "outputs": [
    {
     "data": {
      "text/plain": [
       "[[5, 1, 2], [7, 3, 7], [4, 7, 8]]"
      ]
     },
     "execution_count": 53,
     "metadata": {},
     "output_type": "execute_result"
    }
   ],
   "source": [
    "A # Previamente fue definida la matriz A.\n"
   ]
  },
  {
   "cell_type": "code",
   "execution_count": 54,
   "id": "3a8dd1b8",
   "metadata": {},
   "outputs": [
    {
     "data": {
      "text/plain": [
       "4"
      ]
     },
     "execution_count": 54,
     "metadata": {},
     "output_type": "execute_result"
    }
   ],
   "source": [
    "# Por ejemplo, el elemento de la fila 3 y la columna 1\n",
    "A[2][0]\n"
   ]
  },
  {
   "cell_type": "code",
   "execution_count": 55,
   "id": "0afae28c",
   "metadata": {},
   "outputs": [],
   "source": [
    "# Se puede modificar directamente\n",
    "A[2][0] = -8\n"
   ]
  },
  {
   "cell_type": "code",
   "execution_count": 56,
   "id": "97f6dfb0",
   "metadata": {},
   "outputs": [
    {
     "data": {
      "text/plain": [
       "[[5, 1, 2], [7, 3, 7], [-8, 7, 8]]"
      ]
     },
     "execution_count": 56,
     "metadata": {},
     "output_type": "execute_result"
    }
   ],
   "source": [
    "A  # Matriz A modificada\n"
   ]
  },
  {
   "cell_type": "markdown",
   "id": "15824474",
   "metadata": {},
   "source": [
    "### 2. En un array de numpy"
   ]
  },
  {
   "cell_type": "code",
   "execution_count": 57,
   "id": "38527e81",
   "metadata": {
    "scrolled": true
   },
   "outputs": [
    {
     "data": {
      "text/plain": [
       "array([[ 0,  1,  2,  3],\n",
       "       [ 4,  5,  6,  7],\n",
       "       [ 8,  9, 10, 11],\n",
       "       [12, 13, 14, 15]])"
      ]
     },
     "execution_count": 57,
     "metadata": {},
     "output_type": "execute_result"
    }
   ],
   "source": [
    "C # Previamente fue definida la matriz C.\n"
   ]
  },
  {
   "cell_type": "code",
   "execution_count": 58,
   "id": "bdb23c2e",
   "metadata": {},
   "outputs": [],
   "source": [
    "# Modificando el elemento C[2, 1]\n",
    "C[2, 1] = -15\n"
   ]
  },
  {
   "cell_type": "code",
   "execution_count": 59,
   "id": "f3c2575b",
   "metadata": {},
   "outputs": [
    {
     "data": {
      "text/plain": [
       "array([[  0,   1,   2,   3],\n",
       "       [  4,   5,   6,   7],\n",
       "       [  8, -15,  10,  11],\n",
       "       [ 12,  13,  14,  15]])"
      ]
     },
     "execution_count": 59,
     "metadata": {},
     "output_type": "execute_result"
    }
   ],
   "source": [
    "C  # Matriz C modificada\n"
   ]
  },
  {
   "cell_type": "markdown",
   "id": "b38924f4",
   "metadata": {},
   "source": [
    "### 3. En una matriz de sympy"
   ]
  },
  {
   "cell_type": "code",
   "execution_count": 60,
   "id": "70dc9b1d",
   "metadata": {},
   "outputs": [
    {
     "data": {
      "text/latex": [
       "$\\displaystyle \\left[\\begin{matrix}-1 & 1 & 9\\\\4 & 4 & -2\\\\2 & 0 & -1\\end{matrix}\\right]$"
      ],
      "text/plain": [
       "Matrix([\n",
       "[-1, 1,  9],\n",
       "[ 4, 4, -2],\n",
       "[ 2, 0, -1]])"
      ]
     },
     "execution_count": 60,
     "metadata": {},
     "output_type": "execute_result"
    }
   ],
   "source": [
    "K # Previamente fue definida la matriz K.\n"
   ]
  },
  {
   "cell_type": "code",
   "execution_count": 61,
   "id": "284582f9",
   "metadata": {},
   "outputs": [],
   "source": [
    "# Modificando el elemento K[1, 1]\n",
    "K[1, 1] = 0\n"
   ]
  },
  {
   "cell_type": "code",
   "execution_count": 62,
   "id": "e019559d",
   "metadata": {},
   "outputs": [
    {
     "data": {
      "text/latex": [
       "$\\displaystyle \\left[\\begin{matrix}-1 & 1 & 9\\\\4 & 0 & -2\\\\2 & 0 & -1\\end{matrix}\\right]$"
      ],
      "text/plain": [
       "Matrix([\n",
       "[-1, 1,  9],\n",
       "[ 4, 0, -2],\n",
       "[ 2, 0, -1]])"
      ]
     },
     "execution_count": 62,
     "metadata": {},
     "output_type": "execute_result"
    }
   ],
   "source": [
    "K  # Matriz K modificada\n"
   ]
  },
  {
   "cell_type": "markdown",
   "id": "bc1992fe",
   "metadata": {},
   "source": [
    "# Operaciones con matrices y vectores\n",
    "1. Suma\n",
    "2. Multiplicación\n",
    "3. Inversión\n",
    "4. Matriz transpuesta\n",
    "5. Producto punto y producto cruz\n",
    "\n",
    "Las operaciones básicas presentan algunas dificultades en una lista de lista, por lo que, claramente es mejor realizar las operaciones con los módulos numpy y sympy."
   ]
  },
  {
   "cell_type": "markdown",
   "id": "454a6b48",
   "metadata": {},
   "source": [
    "### 1. Suma\n",
    "\n",
    "La suma de matrices solo es posible en matrices del mismo tamaño $mxn$.\\\n",
    "\\\n",
    "La suma de las matrices $\\underline{\\underline{A}}$ y $\\underline{\\underline{B}}$ es denotada por: $\\underline{\\underline{A}}+\\underline{\\underline{B}}$"
   ]
  },
  {
   "cell_type": "markdown",
   "id": "7170a73a",
   "metadata": {},
   "source": [
    "**Usando numpy**"
   ]
  },
  {
   "cell_type": "code",
   "execution_count": 63,
   "id": "da2fe74a",
   "metadata": {},
   "outputs": [],
   "source": [
    "# Usando el módulo numpy se crean las matrices M y N.\n",
    "M = np.array([\n",
    "              [ 2, 7],\n",
    "              [-1, 3],\n",
    "                     ])\n",
    "\n",
    "N = np.array([\n",
    "              [-3, 0],\n",
    "              [ 9, 1],\n",
    "                     ])\n"
   ]
  },
  {
   "cell_type": "code",
   "execution_count": 64,
   "id": "8a76e8f9",
   "metadata": {
    "scrolled": true
   },
   "outputs": [
    {
     "data": {
      "text/plain": [
       "array([[-1,  7],\n",
       "       [ 8,  4]])"
      ]
     },
     "execution_count": 64,
     "metadata": {},
     "output_type": "execute_result"
    }
   ],
   "source": [
    "M+N  # La suma de las matrices M y N.\n"
   ]
  },
  {
   "cell_type": "markdown",
   "id": "36b4d3a8",
   "metadata": {},
   "source": [
    "**Usando sympy**"
   ]
  },
  {
   "cell_type": "code",
   "execution_count": 65,
   "id": "02974383",
   "metadata": {},
   "outputs": [],
   "source": [
    "# Usando el módulo sympy se crean las matrices O y P.\n",
    "\n",
    "# Se crean algunas variables simbólicas\n",
    "a, b, c, d = sp.symbols(\"a b c d\")\n",
    "\n",
    "O = sp.Matrix([\n",
    "               [ a, c],\n",
    "               [ b, d],\n",
    "                      ])\n",
    "\n",
    "P = sp.Matrix([\n",
    "               [-a, b],\n",
    "               [ c, d],\n",
    "                      ])\n"
   ]
  },
  {
   "cell_type": "code",
   "execution_count": 66,
   "id": "22c67380",
   "metadata": {
    "scrolled": true
   },
   "outputs": [
    {
     "data": {
      "text/latex": [
       "$\\displaystyle \\left[\\begin{matrix}2 a & - b + c\\\\b - c & 0\\end{matrix}\\right]$"
      ],
      "text/plain": [
       "Matrix([\n",
       "[  2*a, -b + c],\n",
       "[b - c,      0]])"
      ]
     },
     "execution_count": 66,
     "metadata": {},
     "output_type": "execute_result"
    }
   ],
   "source": [
    "O-P  # La resta de las matrices O y P."
   ]
  },
  {
   "cell_type": "markdown",
   "id": "3cc5b95d",
   "metadata": {},
   "source": [
    "### 2. Multiplicación\n",
    "\n",
    "El producto de una matriz A de tamaño $axb$ con una matriz B de tamaño $cxd$ solo es posible si $b=c$ y, en donde la matriz resultante tendrá un tamaño $axd$.\\\n",
    "\\\n",
    "La multiplicación de las matrices $\\underline{\\underline{A}}$ y $\\underline{\\underline{B}}$ es denotada por: $\\underline{\\underline{A}}$ x $\\underline{\\underline{B}}$"
   ]
  },
  {
   "cell_type": "markdown",
   "id": "035524a9",
   "metadata": {},
   "source": [
    "**Usando numpy**"
   ]
  },
  {
   "cell_type": "code",
   "execution_count": 67,
   "id": "850021b2",
   "metadata": {},
   "outputs": [],
   "source": [
    "# Usando el módulo numpy se crean las matrices Q y R.\n",
    "Q = np.array([\n",
    "              [3, -2],\n",
    "                     ])\n",
    "\n",
    "R = np.array([\n",
    "              [ 3],\n",
    "              [-1],\n",
    "                  ])\n"
   ]
  },
  {
   "cell_type": "code",
   "execution_count": 68,
   "id": "4fae875a",
   "metadata": {
    "scrolled": false
   },
   "outputs": [
    {
     "data": {
      "text/plain": [
       "array([[11]])"
      ]
     },
     "execution_count": 68,
     "metadata": {},
     "output_type": "execute_result"
    }
   ],
   "source": [
    "np.matmul(Q, R)  # La operación Q*R hace otra cosa completamente diferente.\n"
   ]
  },
  {
   "cell_type": "code",
   "execution_count": 69,
   "id": "8ea77d12",
   "metadata": {
    "scrolled": true
   },
   "outputs": [
    {
     "data": {
      "text/plain": [
       "array([[11]])"
      ]
     },
     "execution_count": 69,
     "metadata": {},
     "output_type": "execute_result"
    }
   ],
   "source": [
    "Q@R  # Otra forma más sencilla de hacer la misma operación.\n"
   ]
  },
  {
   "cell_type": "markdown",
   "id": "f955afb4",
   "metadata": {},
   "source": [
    "**Usando sympy**"
   ]
  },
  {
   "cell_type": "code",
   "execution_count": 70,
   "id": "fd323e94",
   "metadata": {},
   "outputs": [],
   "source": [
    "# Usando el módulo sumpy se crea la matriz A y el vector X.\n",
    "\n",
    "# Se crean algunas variables simbólicas adicionales.\n",
    "x, y = sp.symbols(\"x y\")\n",
    "\n",
    "A = sp.Matrix([\n",
    "               [ a, b],\n",
    "               [ c, c],\n",
    "                      ])\n",
    "\n",
    "X = sp.Matrix([\n",
    "               [x],\n",
    "               [y],\n",
    "                  ])\n"
   ]
  },
  {
   "cell_type": "code",
   "execution_count": 71,
   "id": "7e35f983",
   "metadata": {
    "scrolled": true
   },
   "outputs": [
    {
     "data": {
      "text/latex": [
       "$\\displaystyle \\left[\\begin{matrix}a x + b y\\\\c x + c y\\end{matrix}\\right]$"
      ],
      "text/plain": [
       "Matrix([\n",
       "[a*x + b*y],\n",
       "[c*x + c*y]])"
      ]
     },
     "execution_count": 71,
     "metadata": {},
     "output_type": "execute_result"
    }
   ],
   "source": [
    "A*X  # En sympy sí se puede hacer esta operación así.\n"
   ]
  },
  {
   "cell_type": "markdown",
   "id": "11a70ad4",
   "metadata": {},
   "source": [
    "### 3. Inversión de matrices\n",
    "Solo es posible invertir matrices cuadradas no singulares, es decir, que su determinante sea diferente de 0.\\\n",
    "\\\n",
    "La inversa de la matriz  $\\underline{\\underline{A}}$ es denotada por $\\underline{\\underline{A}}^{-1}$.\n",
    "\n",
    "El determinante de la matriz a se puede denotar como $det(\\underline{\\underline{A}})$ o como $|\\underline{\\underline{A}}|$."
   ]
  },
  {
   "cell_type": "markdown",
   "id": "f768eeda",
   "metadata": {},
   "source": [
    "**Usando numpy**"
   ]
  },
  {
   "cell_type": "code",
   "execution_count": 72,
   "id": "c9674f9b",
   "metadata": {},
   "outputs": [
    {
     "data": {
      "text/plain": [
       "array([[ 1, -2],\n",
       "       [-3,  5]])"
      ]
     },
     "execution_count": 72,
     "metadata": {},
     "output_type": "execute_result"
    }
   ],
   "source": [
    "# Usando el módulo numpy se crea la matriz S.\n",
    "S = np.array([[ 1, -2],\n",
    "              [-3, 5]])\n",
    "\n",
    "S  # Se imprime S\n"
   ]
  },
  {
   "cell_type": "code",
   "execution_count": 73,
   "id": "35f944c9",
   "metadata": {
    "scrolled": true
   },
   "outputs": [
    {
     "data": {
      "text/plain": [
       "-1.0000000000000004"
      ]
     },
     "execution_count": 73,
     "metadata": {},
     "output_type": "execute_result"
    }
   ],
   "source": [
    "np.linalg.det(S)  # Se determina el determinante de la matriz S.\n"
   ]
  },
  {
   "cell_type": "code",
   "execution_count": 74,
   "id": "9b1ef91c",
   "metadata": {},
   "outputs": [
    {
     "data": {
      "text/plain": [
       "array([[-5., -2.],\n",
       "       [-3., -1.]])"
      ]
     },
     "execution_count": 74,
     "metadata": {},
     "output_type": "execute_result"
    }
   ],
   "source": [
    "# Como el determinante es diferente de 0, la matriz es inversible.\n",
    "np.linalg.inv(S)  # Inversa de la matriz S.\n"
   ]
  },
  {
   "cell_type": "markdown",
   "id": "8afdb5af",
   "metadata": {},
   "source": [
    "**Usando sympy**"
   ]
  },
  {
   "cell_type": "code",
   "execution_count": 75,
   "id": "9a51b187",
   "metadata": {
    "scrolled": true
   },
   "outputs": [
    {
     "data": {
      "text/latex": [
       "$\\displaystyle \\left[\\begin{matrix}a & b\\\\c & c\\end{matrix}\\right]$"
      ],
      "text/plain": [
       "Matrix([\n",
       "[a, b],\n",
       "[c, c]])"
      ]
     },
     "execution_count": 75,
     "metadata": {},
     "output_type": "execute_result"
    }
   ],
   "source": [
    "# Usando la matriz A previamente creada con varibles simbólicas.\n",
    "A\n"
   ]
  },
  {
   "cell_type": "code",
   "execution_count": 76,
   "id": "f89ef7df",
   "metadata": {},
   "outputs": [
    {
     "data": {
      "text/latex": [
       "$\\displaystyle a c - b c$"
      ],
      "text/plain": [
       "a*c - b*c"
      ]
     },
     "execution_count": 76,
     "metadata": {},
     "output_type": "execute_result"
    }
   ],
   "source": [
    "# Cálculo del determinante.\n",
    "A.det()\n"
   ]
  },
  {
   "cell_type": "code",
   "execution_count": 77,
   "id": "d98d8c43",
   "metadata": {
    "scrolled": false
   },
   "outputs": [
    {
     "data": {
      "text/latex": [
       "$\\displaystyle \\left[\\begin{matrix}\\frac{1}{a - b} & - \\frac{b}{a c - b c}\\\\- \\frac{c}{a c - b c} & \\frac{a}{a c - b c}\\end{matrix}\\right]$"
      ],
      "text/plain": [
       "Matrix([\n",
       "[     1/(a - b), -b/(a*c - b*c)],\n",
       "[-c/(a*c - b*c),  a/(a*c - b*c)]])"
      ]
     },
     "execution_count": 77,
     "metadata": {},
     "output_type": "execute_result"
    }
   ],
   "source": [
    "A.inv()  # Inversa de la matriz A. Aquí la utilidad del módulo sympy para determinar fórmulas generales.\n"
   ]
  },
  {
   "cell_type": "markdown",
   "id": "042ee8dd",
   "metadata": {},
   "source": [
    "### 4. Matriz transpuesta\n",
    "Se denota a la transpuesta de la matriz $\\underline{\\underline{A}}$ como $\\underline{\\underline{A}}^{T}$."
   ]
  },
  {
   "cell_type": "markdown",
   "id": "bf3812a9",
   "metadata": {},
   "source": [
    "¿Cómo se transpone la matriz $\\underline{\\underline{A}}$? (ejercicio de clase con lista de listas)"
   ]
  },
  {
   "cell_type": "code",
   "execution_count": 78,
   "id": "f97c9124",
   "metadata": {},
   "outputs": [],
   "source": [
    "A = [[  0,  1,  2,  3,  4],\n",
    "     [  5,  6,  7,  8,  9],\n",
    "     [ 10, 11, 12, 13, 14]]\n"
   ]
  },
  {
   "cell_type": "code",
   "execution_count": 79,
   "id": "ec8c6a07",
   "metadata": {},
   "outputs": [],
   "source": [
    "# Solución\n"
   ]
  },
  {
   "cell_type": "markdown",
   "id": "27ea25d6",
   "metadata": {},
   "source": [
    "**Usando numpy**"
   ]
  },
  {
   "cell_type": "code",
   "execution_count": 80,
   "id": "3df4a851",
   "metadata": {},
   "outputs": [
    {
     "data": {
      "text/plain": [
       "array([[3, 1, 9],\n",
       "       [2, 4, 1]])"
      ]
     },
     "execution_count": 80,
     "metadata": {},
     "output_type": "execute_result"
    }
   ],
   "source": [
    "B # Previamente fue definida la matriz B.\n"
   ]
  },
  {
   "cell_type": "code",
   "execution_count": 81,
   "id": "c2a95005",
   "metadata": {},
   "outputs": [
    {
     "data": {
      "text/plain": [
       "array([[3, 2],\n",
       "       [1, 4],\n",
       "       [9, 1]])"
      ]
     },
     "execution_count": 81,
     "metadata": {},
     "output_type": "execute_result"
    }
   ],
   "source": [
    "B.T  # Matriz transpuesta.\n"
   ]
  },
  {
   "cell_type": "markdown",
   "id": "7d264619",
   "metadata": {},
   "source": [
    "**Usando sympy**"
   ]
  },
  {
   "cell_type": "code",
   "execution_count": 82,
   "id": "94fc4e96",
   "metadata": {},
   "outputs": [
    {
     "data": {
      "text/latex": [
       "$\\displaystyle \\left[\\begin{matrix}-1 & 1 & 9\\\\4 & 0 & -2\\\\2 & 0 & -1\\end{matrix}\\right]$"
      ],
      "text/plain": [
       "Matrix([\n",
       "[-1, 1,  9],\n",
       "[ 4, 0, -2],\n",
       "[ 2, 0, -1]])"
      ]
     },
     "execution_count": 82,
     "metadata": {},
     "output_type": "execute_result"
    }
   ],
   "source": [
    "K # Previamente fue definida la matriz K.\n"
   ]
  },
  {
   "cell_type": "code",
   "execution_count": 83,
   "id": "67cf4ffd",
   "metadata": {},
   "outputs": [
    {
     "data": {
      "text/latex": [
       "$\\displaystyle \\left[\\begin{matrix}-1 & 4 & 2\\\\1 & 0 & 0\\\\9 & -2 & -1\\end{matrix}\\right]$"
      ],
      "text/plain": [
       "Matrix([\n",
       "[-1,  4,  2],\n",
       "[ 1,  0,  0],\n",
       "[ 9, -2, -1]])"
      ]
     },
     "execution_count": 83,
     "metadata": {},
     "output_type": "execute_result"
    }
   ],
   "source": [
    "K.T  # Matriz transpuesta.\n"
   ]
  },
  {
   "cell_type": "markdown",
   "id": "e2a24219",
   "metadata": {},
   "source": [
    "### 5. Producto punto y producto cruz\n",
    "\n",
    "El producto punto o producto escalar de dos vectores está definido como:\\\n",
    "\\\n",
    "$\\underline{A}.\\underline{B}=(a_1, a_2, ..., a_n).(b_1, b_2, ..., b_n)=a_1b_1+a_2b_2+...+a_nb_n=\\sum a_i b_i$\n",
    "\\\n",
    "\\\n",
    "\\\n",
    "Alternativamente, se puede definir como:\\\n",
    "\\\n",
    "$\\underline{A}.\\underline{B}=||\\underline{A}||.||\\underline{B}||cos(\\theta)$, donde $\\theta$ es el ángulo formado entre los vectores.\n",
    "\\\n",
    "\\\n",
    "**Nota:**\n",
    "De aquí en adelante un vector entre dos líneas a lado y lado representará la magnitud o norma: $||\\underline{A}||$.\\\n",
    "Una matriz entre dos líneas representa un determinante: $|\\underline{\\underline{A}}|$."
   ]
  },
  {
   "cell_type": "markdown",
   "id": "379c4a3f",
   "metadata": {},
   "source": [
    "**Pregunta**\n",
    "\n",
    "¿Qué significa que el $\\underline{A}.\\underline{B}=0$?\n"
   ]
  },
  {
   "cell_type": "markdown",
   "id": "9f9883b5",
   "metadata": {},
   "source": [
    "**Pregunta**\n",
    "\n",
    "¿Qué significa que el $\\underline{A}.\\underline{B}=||\\underline{A}||.||\\underline{B}||$?"
   ]
  },
  {
   "cell_type": "markdown",
   "id": "a41ea13d",
   "metadata": {},
   "source": [
    "El producto cruz o producto vectorial de dos vectores está definido en $\\mathbb R^{3}$ como $\\underline{A}$x$\\underline{B}$, en donde:\n",
    "\n",
    "$\\underline{A}=(a_x, a_y, a_z)$\\\n",
    "$\\underline{B}=(b_x, b_y, b_z)$\n",
    "\n",
    "es decir,\n",
    "\n",
    "$\\underline{A}$ x $\\underline{B}$ $= \\left|\n",
    "\\begin{array}{ccc}\n",
    "\\hat{i} & \\hat{j} & \\hat{k}\\\\\n",
    "a_x & a_y & a_z\\\\\n",
    "b_x & b_y & b_z\\\\\n",
    "\\end{array}\n",
    "\\right|\n",
    "$"
   ]
  },
  {
   "cell_type": "code",
   "execution_count": 84,
   "id": "573ae8b6",
   "metadata": {},
   "outputs": [
    {
     "data": {
      "text/latex": [
       "$\\displaystyle \\hat{i} \\left(a_{y} b_{z} - a_{z} b_{y}\\right) + \\hat{j} \\left(- a_{x} b_{z} + a_{z} b_{x}\\right) + \\hat{k} \\left(a_{x} b_{y} - a_{y} b_{x}\\right)$"
      ],
      "text/plain": [
       "\\hat{i}*(a_y*b_z - a_z*b_y) + \\hat{j}*(-a_x*b_z + a_z*b_x) + \\hat{k}*(a_x*b_y - a_y*b_x)"
      ]
     },
     "execution_count": 84,
     "metadata": {},
     "output_type": "execute_result"
    }
   ],
   "source": [
    "# Usando sympy se obtiene \n",
    "\n",
    "ax, ay, az, bx, by, bz = sp.symbols(\"a_x a_y a_z b_x b_y b_z\")\n",
    "ig, jg, kg = sp.symbols(\"\\hat{i} \\hat{j} \\hat{k}\")\n",
    "\n",
    "AxB = sp.Matrix([\n",
    "                 [ig, jg, kg],\n",
    "                 [ax, ay, az],\n",
    "                 [bx, by, bz]\n",
    "                             ]).det()\n",
    "\n",
    "sp.collect(AxB, [ig, jg, kg])\n"
   ]
  },
  {
   "cell_type": "markdown",
   "id": "622a0863",
   "metadata": {},
   "source": [
    "De esta manera, $\\underline{A}$ x $\\underline{B}=\\underline{C}$, donde:\n",
    "\n",
    "$\\underline{C}=(c_x, c_y, c_z)$,\n",
    "\n",
    "$c_x=a_y.b_z - a_z.b_y$\\\n",
    "$c_y=-a_x.b_z + a_z.b_x$\\\n",
    "$c_z=a_x.b_y - a_y.b_x$"
   ]
  },
  {
   "cell_type": "markdown",
   "id": "6e8e8f90",
   "metadata": {},
   "source": [
    "Además, es últil la definición:\n",
    "\n",
    "$||\\underline{A}$ x $\\underline{B}||$ = $||\\underline{A}||$  $||\\underline{B}||$  $|sin(\\theta)|$\n"
   ]
  },
  {
   "cell_type": "markdown",
   "id": "48fd294d",
   "metadata": {},
   "source": [
    "**Pregunta**\n",
    "\n",
    "¿Qué significa que $\\underline{A}$ x $\\underline{B}$ = $\\underline{0}$"
   ]
  },
  {
   "cell_type": "markdown",
   "id": "54e8e434",
   "metadata": {},
   "source": [
    "**Usando numpy**"
   ]
  },
  {
   "cell_type": "code",
   "execution_count": 85,
   "id": "203c5112",
   "metadata": {},
   "outputs": [],
   "source": [
    "# Se crean los vectores u1 y u2.\n",
    "u1 = np.array([7, -4, -1])\n",
    "u2 = np.array([3, -5,  2])\n"
   ]
  },
  {
   "cell_type": "code",
   "execution_count": 86,
   "id": "5efd155c",
   "metadata": {},
   "outputs": [
    {
     "data": {
      "text/plain": [
       "array([ 7, -4, -1])"
      ]
     },
     "execution_count": 86,
     "metadata": {},
     "output_type": "execute_result"
    }
   ],
   "source": [
    "u1  # Se visualiza el vector u1.\n"
   ]
  },
  {
   "cell_type": "code",
   "execution_count": 87,
   "id": "4ef867d3",
   "metadata": {
    "scrolled": true
   },
   "outputs": [
    {
     "data": {
      "text/plain": [
       "array([ 3, -5,  2])"
      ]
     },
     "execution_count": 87,
     "metadata": {},
     "output_type": "execute_result"
    }
   ],
   "source": [
    "u2  # Se visualiza el vector u2.\n"
   ]
  },
  {
   "cell_type": "code",
   "execution_count": 88,
   "id": "3d7c47ca",
   "metadata": {},
   "outputs": [
    {
     "data": {
      "text/plain": [
       "39"
      ]
     },
     "execution_count": 88,
     "metadata": {},
     "output_type": "execute_result"
    }
   ],
   "source": [
    "# El producto punto de u1 y u2.\n",
    "np.dot(u1, u2)\n"
   ]
  },
  {
   "cell_type": "markdown",
   "id": "78efd928",
   "metadata": {},
   "source": [
    "**Usando sympy**"
   ]
  },
  {
   "cell_type": "code",
   "execution_count": 89,
   "id": "4b8d683a",
   "metadata": {},
   "outputs": [],
   "source": [
    "# Se crean algunas variables simbólicas\n",
    "a1, a2, a3, b1, b2, b3 = sp.symbols(\"a_1 a_2 a_3 b_1 b_2 b_3\")\n",
    "\n",
    "# Se crean los vectores v1 y v2 con las variables simbólicas disponibles.\n",
    "v1 = sp.Matrix([a1, a2, a3])\n",
    "v2 = sp.Matrix([b1, b2, b3])\n"
   ]
  },
  {
   "cell_type": "code",
   "execution_count": 90,
   "id": "5ed82878",
   "metadata": {},
   "outputs": [
    {
     "data": {
      "text/latex": [
       "$\\displaystyle \\left[\\begin{matrix}a_{1}\\\\a_{2}\\\\a_{3}\\end{matrix}\\right]$"
      ],
      "text/plain": [
       "Matrix([\n",
       "[a_1],\n",
       "[a_2],\n",
       "[a_3]])"
      ]
     },
     "execution_count": 90,
     "metadata": {},
     "output_type": "execute_result"
    }
   ],
   "source": [
    "v1  # Se visualiza el vector v1.\n"
   ]
  },
  {
   "cell_type": "code",
   "execution_count": 91,
   "id": "35e35fd2",
   "metadata": {},
   "outputs": [
    {
     "data": {
      "text/latex": [
       "$\\displaystyle \\left[\\begin{matrix}b_{1}\\\\b_{2}\\\\b_{3}\\end{matrix}\\right]$"
      ],
      "text/plain": [
       "Matrix([\n",
       "[b_1],\n",
       "[b_2],\n",
       "[b_3]])"
      ]
     },
     "execution_count": 91,
     "metadata": {},
     "output_type": "execute_result"
    }
   ],
   "source": [
    "v2  # Se visualiza el vector v2.\n"
   ]
  },
  {
   "cell_type": "code",
   "execution_count": 92,
   "id": "1e97c78c",
   "metadata": {
    "scrolled": false
   },
   "outputs": [
    {
     "data": {
      "text/latex": [
       "$\\displaystyle a_{1} b_{1} + a_{2} b_{2} + a_{3} b_{3}$"
      ],
      "text/plain": [
       "a_1*b_1 + a_2*b_2 + a_3*b_3"
      ]
     },
     "execution_count": 92,
     "metadata": {},
     "output_type": "execute_result"
    }
   ],
   "source": [
    "# El producto punto de v1 y v2.\n",
    "v1.dot(v2)\n"
   ]
  },
  {
   "cell_type": "code",
   "execution_count": 93,
   "id": "5d944d69",
   "metadata": {},
   "outputs": [
    {
     "data": {
      "text/latex": [
       "$\\displaystyle \\left[\\begin{matrix}a_{2} b_{3} - a_{3} b_{2}\\\\- a_{1} b_{3} + a_{3} b_{1}\\\\a_{1} b_{2} - a_{2} b_{1}\\end{matrix}\\right]$"
      ],
      "text/plain": [
       "Matrix([\n",
       "[ a_2*b_3 - a_3*b_2],\n",
       "[-a_1*b_3 + a_3*b_1],\n",
       "[ a_1*b_2 - a_2*b_1]])"
      ]
     },
     "execution_count": 93,
     "metadata": {},
     "output_type": "execute_result"
    }
   ],
   "source": [
    "# El producto cruz de v1 y v2.\n",
    "v3 = v1.cross(v2)\n",
    "\n",
    "v3  # Se imprime v3.\n"
   ]
  },
  {
   "cell_type": "code",
   "execution_count": 94,
   "id": "321a7588",
   "metadata": {},
   "outputs": [
    {
     "data": {
      "text/latex": [
       "$\\displaystyle a_{1} \\left(a_{2} b_{3} - a_{3} b_{2}\\right) + a_{2} \\left(- a_{1} b_{3} + a_{3} b_{1}\\right) + a_{3} \\left(a_{1} b_{2} - a_{2} b_{1}\\right)$"
      ],
      "text/plain": [
       "a_1*(a_2*b_3 - a_3*b_2) + a_2*(-a_1*b_3 + a_3*b_1) + a_3*(a_1*b_2 - a_2*b_1)"
      ]
     },
     "execution_count": 94,
     "metadata": {},
     "output_type": "execute_result"
    }
   ],
   "source": [
    "# El producto punto de v1 y v3.\n",
    "v1.dot(v3)  # Debería dar 0.\n"
   ]
  },
  {
   "cell_type": "code",
   "execution_count": 95,
   "id": "cf92feaf",
   "metadata": {},
   "outputs": [
    {
     "data": {
      "text/latex": [
       "$\\displaystyle 0$"
      ],
      "text/plain": [
       "0"
      ]
     },
     "execution_count": 95,
     "metadata": {},
     "output_type": "execute_result"
    }
   ],
   "source": [
    "sp.simplify(v1.dot(v3))  # Se usa el comando \"simplify\".\n"
   ]
  },
  {
   "cell_type": "code",
   "execution_count": 96,
   "id": "7b60dd9a",
   "metadata": {},
   "outputs": [
    {
     "data": {
      "text/latex": [
       "$\\displaystyle 0$"
      ],
      "text/plain": [
       "0"
      ]
     },
     "execution_count": 96,
     "metadata": {},
     "output_type": "execute_result"
    }
   ],
   "source": [
    "# El producto punto de v2 y v2.\n",
    "sp.simplify(v2.dot(v3))\n"
   ]
  },
  {
   "cell_type": "markdown",
   "id": "5345665e",
   "metadata": {},
   "source": [
    "**Resumen de conocimientos**\n",
    "- Formas de definir matrices\n",
    "- Modificación de elementos\n",
    "- Operaciones con matrices y vectores\n"
   ]
  },
  {
   "cell_type": "markdown",
   "id": "ff9f75c8",
   "metadata": {},
   "source": [
    "**Resumen de comandos usados**\n",
    "- print()\n",
    "- type()\n",
    "- len()\n",
    "- for __ in __ :\n",
    "- np.array()\n",
    "- __ .shape\n",
    "- np.ones()\n",
    "- np.zeros()\n",
    "- np.empty()\n",
    "- dtype\n",
    "- np.identitity()\n",
    "- np.eye()\n",
    "- sp.Array()\n",
    "- sp.Matrix()\n",
    "- sp.zeros()\n",
    "- sp.ones()\n",
    "- sp.eye()\n",
    "- sp.diag()\n",
    "- __ , __ = sp.symbols('__ __ ')\n",
    "- np.linalg.det()\n",
    "- np.linalg.inv()\n",
    "- __ .det()\n",
    "- __ .inv()\n",
    "- __ .T\n",
    "- sp.collect()\n",
    "- np.dot(__ , __ )\n",
    "- __ .dot(__ )\n",
    "- __ .cross(__ )"
   ]
  }
 ],
 "metadata": {
  "kernelspec": {
   "display_name": "Python 3",
   "language": "python",
   "name": "python3"
  },
  "language_info": {
   "codemirror_mode": {
    "name": "ipython",
    "version": 3
   },
   "file_extension": ".py",
   "mimetype": "text/x-python",
   "name": "python",
   "nbconvert_exporter": "python",
   "pygments_lexer": "ipython3",
   "version": "3.8.8"
  }
 },
 "nbformat": 4,
 "nbformat_minor": 5
}
